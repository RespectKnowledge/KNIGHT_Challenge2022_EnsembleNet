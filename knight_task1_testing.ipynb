{
  "nbformat": 4,
  "nbformat_minor": 0,
  "metadata": {
    "colab": {
      "name": "knight_task1_testing.ipynb",
      "provenance": []
    },
    "kernelspec": {
      "name": "python3",
      "display_name": "Python 3"
    },
    "language_info": {
      "name": "python"
    },
    "accelerator": "GPU"
  },
  "cells": [
    {
      "cell_type": "code",
      "execution_count": null,
      "metadata": {
        "colab": {
          "base_uri": "https://localhost:8080/"
        },
        "id": "762Ew9CtxGVN",
        "outputId": "12a135cb-eb14-4479-bcf6-c9e1a51ebd47"
      },
      "outputs": [
        {
          "output_type": "stream",
          "name": "stdout",
          "text": [
            "Mounted at /content/drive\n"
          ]
        }
      ],
      "source": [
        "from google.colab import drive\n",
        "drive.mount('/content/drive')"
      ]
    },
    {
      "cell_type": "code",
      "source": [
        "cd /content/drive/MyDrive/"
      ],
      "metadata": {
        "colab": {
          "base_uri": "https://localhost:8080/"
        },
        "id": "BDSPaL4VxNVP",
        "outputId": "dfa98b87-afa3-4fe9-a024-dbf0047b8297"
      },
      "execution_count": null,
      "outputs": [
        {
          "output_type": "stream",
          "name": "stdout",
          "text": [
            "/content/drive/MyDrive\n"
          ]
        }
      ]
    },
    {
      "cell_type": "code",
      "source": [
        "!pip install SimpleITK"
      ],
      "metadata": {
        "colab": {
          "base_uri": "https://localhost:8080/"
        },
        "id": "e2jktinjxQVf",
        "outputId": "d42fac9f-ad3b-4f3c-d654-b31e2916e7ba"
      },
      "execution_count": null,
      "outputs": [
        {
          "output_type": "stream",
          "name": "stdout",
          "text": [
            "Collecting SimpleITK\n",
            "  Downloading SimpleITK-2.1.1-cp37-cp37m-manylinux_2_12_x86_64.manylinux2010_x86_64.whl (48.4 MB)\n",
            "\u001b[K     |████████████████████████████████| 48.4 MB 22 kB/s \n",
            "\u001b[?25hInstalling collected packages: SimpleITK\n",
            "Successfully installed SimpleITK-2.1.1\n"
          ]
        }
      ]
    },
    {
      "cell_type": "code",
      "source": [
        ""
      ],
      "metadata": {
        "id": "3sgg1PKwxbj3"
      },
      "execution_count": null,
      "outputs": []
    },
    {
      "cell_type": "code",
      "source": [
        ""
      ],
      "metadata": {
        "id": "fQM-7X9xxbmn"
      },
      "execution_count": null,
      "outputs": []
    },
    {
      "cell_type": "code",
      "source": [
        ""
      ],
      "metadata": {
        "id": "5g6mQkKGx2l3"
      },
      "execution_count": null,
      "outputs": []
    },
    {
      "cell_type": "code",
      "source": [
        "from typing import Optional, Sequence\n",
        "import torch.nn as nn\n",
        "class ClassifierMLP(nn.Module):\n",
        "    def __init__(self, in_ch: int, num_classes: Optional[int], layers_description: Sequence[int]=(256,128), dropout_rate: float = 0.1):\n",
        "        super().__init__()\n",
        "        layer_list = []\n",
        "        layer_list.append(nn.Linear(in_ch, layers_description[0]))\n",
        "        layer_list.append(nn.ReLU())\n",
        "        if dropout_rate is not None and dropout_rate > 0:\n",
        "            layer_list.append(nn.Dropout(p=dropout_rate))\n",
        "        last_layer_size = layers_description[0]\n",
        "        for curr_layer_size in layers_description[1:]:\n",
        "            layer_list.append(nn.Linear(last_layer_size, curr_layer_size))\n",
        "            layer_list.append(nn.ReLU())\n",
        "            if dropout_rate is not None and dropout_rate > 0:\n",
        "                layer_list.append(nn.Dropout(p=dropout_rate))\n",
        "            last_layer_size = curr_layer_size\n",
        "        \n",
        "        if num_classes is not None:\n",
        "            layer_list.append(nn.Linear(last_layer_size, num_classes))\n",
        "        \n",
        "        self.classifier = nn.Sequential(*layer_list)\n",
        "\n",
        "    def forward(self, x):\n",
        "        x = self.classifier(x)\n",
        "        return x\n",
        "  \n",
        "model=ClassifierMLP(12,2)  \n",
        "import torch    "
      ],
      "metadata": {
        "id": "Gv-rNjAVx2on"
      },
      "execution_count": null,
      "outputs": []
    },
    {
      "cell_type": "code",
      "source": [
        "import torch\n",
        "device = torch.device(\"cuda\" if torch.cuda.is_available() else \"cpu\")\n",
        "pathmodel='/content/drive/MyDrive/knights_challenege/models/fold1mlptask1un/mlpmodelfold1.pth'\n",
        "trainedmodel=torch.load(pathmodel)\n",
        "model.load_state_dict(trainedmodel)\n",
        "model.eval()\n",
        "model.to(device)"
      ],
      "metadata": {
        "colab": {
          "base_uri": "https://localhost:8080/"
        },
        "id": "1LfryG5axbo7",
        "outputId": "8be46b25-ebc8-46cc-8b92-352cafb42a80"
      },
      "execution_count": null,
      "outputs": [
        {
          "output_type": "execute_result",
          "data": {
            "text/plain": [
              "ClassifierMLP(\n",
              "  (classifier): Sequential(\n",
              "    (0): Linear(in_features=12, out_features=256, bias=True)\n",
              "    (1): ReLU()\n",
              "    (2): Dropout(p=0.1, inplace=False)\n",
              "    (3): Linear(in_features=256, out_features=128, bias=True)\n",
              "    (4): ReLU()\n",
              "    (5): Dropout(p=0.1, inplace=False)\n",
              "    (6): Linear(in_features=128, out_features=2, bias=True)\n",
              "  )\n",
              ")"
            ]
          },
          "metadata": {},
          "execution_count": 6
        }
      ]
    },
    {
      "cell_type": "code",
      "source": [
        ""
      ],
      "metadata": {
        "id": "PH1pNgkH0-wj"
      },
      "execution_count": null,
      "outputs": []
    },
    {
      "cell_type": "code",
      "source": [
        "import pandas as pd\n",
        "pathdata='/content/drive/MyDrive/knights_challenege/task1fold/test_un_moralize_fold1.csv'\n",
        "datasetval=pd.read_csv(pathdata)"
      ],
      "metadata": {
        "id": "kOMuB1KOxgOX"
      },
      "execution_count": null,
      "outputs": []
    },
    {
      "cell_type": "code",
      "source": [
        "#datasetval\n",
        "datasetval.columns"
      ],
      "metadata": {
        "colab": {
          "base_uri": "https://localhost:8080/"
        },
        "id": "mNB7j-nf1VuF",
        "outputId": "c37b4094-34a4-480f-e672-2e65b5e54f42"
      },
      "execution_count": null,
      "outputs": [
        {
          "output_type": "execute_result",
          "data": {
            "text/plain": [
              "Index(['SubjectId', 'age', 'bmi', 'gender', 'gender_num', 'comorbidities',\n",
              "       'smoking_history', 'radiographic_size', 'preop_egfr', 'alcohol_use',\n",
              "       'chewing_tobacco_use', 'x_spacing', 'y_spacing', 'z_spacing',\n",
              "       'aua_risk_group', 'task_1_label', 'task_2_label'],\n",
              "      dtype='object')"
            ]
          },
          "metadata": {},
          "execution_count": 10
        }
      ]
    },
    {
      "cell_type": "code",
      "source": [
        ""
      ],
      "metadata": {
        "id": "IZL5c3Ly2rVr"
      },
      "execution_count": null,
      "outputs": []
    },
    {
      "cell_type": "code",
      "source": [
        "#NoAT-score\n",
        "#CanAT-score\n",
        "#case_id\n",
        "datatarget=datasetval['task_1_label'].copy()\n",
        "import torch\n",
        "#pathmodel='/content/drive/MyDrive/knight_challenegs2022/models/fold0model/3dmodeltask1.pth'\n",
        "#trainedmodel=torch.load(pathmodel)\n",
        "#model.load_state_dict(trainedmodel)\n",
        "model.eval()\n",
        "model.to(device)\n",
        "dataframe={'case_id':[],\n",
        "           'NoAT-score':[],\n",
        "           'CanAT-score':[]}\n",
        "CLINICAL_NAMES=['case_id','NoAT-score','CanAT-score']\n",
        "CLINICAL_NAMES1=['case_id','Task1-target']\n",
        "#feature=in_out.drop(['SubjectId','gender','aua_risk_group',\n",
        "                          #'task_1_label','task_2_label'],axis=1, inplace=True)\n",
        "import numpy as np\n",
        "df = pd.DataFrame(columns=CLINICAL_NAMES)\n",
        "df1=pd.DataFrame(columns=CLINICAL_NAMES1)\n",
        "for i,patinet in enumerate(datasetval['SubjectId']):\n",
        "  #pat=patinet.split('_')[-1]\n",
        "  #pat=str(0000)+i\n",
        "  number_str = str(i)\n",
        "  pat = number_str.zfill(5)\n",
        "  #print(i)\n",
        "  #print(patinet)\n",
        "  features=datasetval.iloc[i]\n",
        "  target=datasetval['task_1_label'].iloc[i]\n",
        "  feature=features.drop(['SubjectId','gender','aua_risk_group',\n",
        "                          'task_1_label','task_2_label'])\n",
        "  #feature1=feature.drop(['gender'])\n",
        "  #print(feature1.shape)\n",
        "  feature1=feature.copy()\n",
        "  x_f_array=np.array(feature1).astype(float)\n",
        "  #print(x_f_array)\n",
        "  #.astype(int)\n",
        "  x_f_array_t=torch.from_numpy(x_f_array).float()\n",
        "  x_f_array_t=torch.unsqueeze(x_f_array_t,axis=0).to(device)\n",
        "  prediction=model(x_f_array_t)\n",
        "  output=torch.softmax(prediction, dim=1)\n",
        "  output=torch.squeeze(output,axis=0)\n",
        "  pred=output.detach().cpu().numpy()\n",
        "  #print(output.detach().cpu().numpy())\n",
        "  df.loc[i,'case_id']=pat\n",
        "  df.loc[i,'NoAT-score']='%.1f' % pred[0]\n",
        "  df.loc[i,'CanAT-score']='%.1f' % pred[1]\n",
        "  df1.loc[i,'case_id']=pat\n",
        "  df1.loc[i,'Task1-target']=target\n",
        "\n",
        "  #dataframe['case_id'].append(str(pat))\n",
        "  #dataframe['NoAT-score'].append(pred[0])\n",
        "  #dataframe['CanAT-score'].append(pred[1])\n",
        "  #features.iloc[i]\n",
        "  #print(x_f_array_t.shape)\n",
        "  #print(pat)"
      ],
      "metadata": {
        "id": "RKJHPcmMxgQ4"
      },
      "execution_count": null,
      "outputs": []
    },
    {
      "cell_type": "code",
      "source": [
        "df.to_csv('example_task1_predictions.csv',index=False)"
      ],
      "metadata": {
        "id": "woZJHvau3v3z"
      },
      "execution_count": null,
      "outputs": []
    },
    {
      "cell_type": "code",
      "source": [
        "df1.to_csv('example_targets.csv',index=False)"
      ],
      "metadata": {
        "id": "4DJhPQU72aDr"
      },
      "execution_count": null,
      "outputs": []
    },
    {
      "cell_type": "code",
      "source": [
        "df['case_id'] = df['case_id'].apply('=\"{}\"'.format)"
      ],
      "metadata": {
        "id": "ts4NB4Yzx9oP"
      },
      "execution_count": null,
      "outputs": []
    },
    {
      "cell_type": "code",
      "source": [
        "df.to_csv('task1_predictions.csv',index=False)"
      ],
      "metadata": {
        "id": "To5K4So_yAyf"
      },
      "execution_count": null,
      "outputs": []
    }
  ]
}