{
  "nbformat": 4,
  "nbformat_minor": 0,
  "metadata": {
    "colab": {
      "name": "Knights_models.ipynb",
      "provenance": []
    },
    "kernelspec": {
      "name": "python3",
      "display_name": "Python 3"
    },
    "language_info": {
      "name": "python"
    },
    "accelerator": "GPU"
  },
  "cells": [
    {
      "cell_type": "code",
      "execution_count": null,
      "metadata": {
        "colab": {
          "base_uri": "https://localhost:8080/"
        },
        "id": "xhPPwht073Z0",
        "outputId": "01ae85e2-d338-4b46-a54a-4db51e096c40"
      },
      "outputs": [
        {
          "output_type": "stream",
          "name": "stdout",
          "text": [
            "Mounted at /content/drive\n"
          ]
        }
      ],
      "source": [
        "from google.colab import drive\n",
        "drive.mount('/content/drive')"
      ]
    },
    {
      "cell_type": "code",
      "source": [
        "cd /content/drive/MyDrive/"
      ],
      "metadata": {
        "colab": {
          "base_uri": "https://localhost:8080/"
        },
        "id": "4O7oDl6D8DzC",
        "outputId": "89b62525-2f89-44cb-b772-6dbb08dfb581"
      },
      "execution_count": null,
      "outputs": [
        {
          "output_type": "stream",
          "name": "stdout",
          "text": [
            "/content/drive/MyDrive\n"
          ]
        }
      ]
    },
    {
      "cell_type": "code",
      "source": [
        "!pip install SimpleITK"
      ],
      "metadata": {
        "colab": {
          "base_uri": "https://localhost:8080/"
        },
        "id": "xRR1CEiMEnwS",
        "outputId": "acfc77de-3549-4fdd-c3b7-c676ec135732"
      },
      "execution_count": null,
      "outputs": [
        {
          "output_type": "stream",
          "name": "stdout",
          "text": [
            "Collecting SimpleITK\n",
            "  Downloading SimpleITK-2.1.1-cp37-cp37m-manylinux_2_12_x86_64.manylinux2010_x86_64.whl (48.4 MB)\n",
            "\u001b[K     |████████████████████████████████| 48.4 MB 1.5 MB/s \n",
            "\u001b[?25hInstalling collected packages: SimpleITK\n",
            "Successfully installed SimpleITK-2.1.1\n"
          ]
        }
      ]
    },
    {
      "cell_type": "code",
      "source": [
        "cd /content/drive/MyDrive/knights_challenege"
      ],
      "metadata": {
        "colab": {
          "base_uri": "https://localhost:8080/"
        },
        "id": "i9jDFCzSFcxj",
        "outputId": "871ff3f5-8dd5-40f6-b8ca-232d199e0f6b"
      },
      "execution_count": null,
      "outputs": [
        {
          "output_type": "stream",
          "name": "stdout",
          "text": [
            "/content/drive/MyDrive/knights_challenege\n"
          ]
        }
      ]
    },
    {
      "cell_type": "code",
      "source": [
        "import torch\n",
        "import pandas as pd\n",
        "from torch.utils.data import Dataset\n",
        "from torch.utils.data import DataLoader\n",
        "import os\n",
        "import SimpleITK as sitk\n",
        "import numpy as np\n",
        "import os\n",
        "import numpy as np\n",
        "import skimage\n",
        "#import skimage.io as io\n",
        "import skimage.transform as transform\n",
        "import torch\n",
        "\n",
        "import numpy as np\n",
        "import pandas as pd\n",
        "import torch\n",
        "import os\n",
        "#os.environ[\"CUDA_VISIBLE_DEVICES\"] = \"0,1\" \n",
        "from torch.utils.data import Dataset\n",
        "from torch.utils.data import DataLoader\n",
        "import os\n",
        "import cv2\n",
        "import matplotlib.pyplot as plt\n",
        "import skimage \n",
        "\n",
        "#import logging\n",
        "#import traceback\n",
        "from typing import Optional, Tuple\n",
        "\n",
        "\n",
        "def kits_normalization(input_image: np.ndarray):\n",
        "    # first, clip to [-62, 310] (corresponds to 0.5 and 99.5 percentile in the foreground regions)\n",
        "    # then, subtract 104.9 and divide by 75.3 (corresponds to mean and std in the foreground regions, respectively)\n",
        "    clip_min = -62\n",
        "    clip_max = 301\n",
        "    mean_val = 104.0\n",
        "    std_val = 75.3\n",
        "    input_image = np.minimum(np.maximum(input_image, clip_min), clip_max)\n",
        "    input_image -= mean_val\n",
        "    input_image /= std_val\n",
        "    return input_image\n",
        "\n",
        "def normalize_to_range(input_image: np.ndarray, range: Tuple = (0.0, 1.0)):\n",
        "    \"\"\"\n",
        "    Scales tensor to range\n",
        "    @param input_image: image of shape (H x W x C)\n",
        "    @param range:       bounds for normalization\n",
        "    @return:            normalized image\n",
        "    \"\"\"\n",
        "    max_val = input_image.max()\n",
        "    min_val = input_image.min()\n",
        "    if min_val == max_val == 0:\n",
        "        return input_image\n",
        "    input_image = input_image - min_val\n",
        "    input_image = input_image / (max_val - min_val)\n",
        "    input_image = input_image * (range[1] - range[0])\n",
        "    input_image = input_image + range[0]\n",
        "    return input_image\n",
        "\n",
        "from typing import Iterable\n",
        "\n",
        "def center_crop(np_image: np.ndarray,\n",
        "                new_shape: Iterable[int],\n",
        "                outside_val: float = 0\n",
        "                ) -> np.ndarray:\n",
        "    output_image = np.full(new_shape, outside_val, np_image.dtype)\n",
        "\n",
        "    slices = tuple()\n",
        "    offsets = tuple()\n",
        "    for it, sh in enumerate(new_shape):\n",
        "        size = sh // 2\n",
        "        if it == 0:\n",
        "            center = np_image.shape[it] - size\n",
        "        else:\n",
        "            center = (np_image.shape[it] // 2)\n",
        "        start = center - size\n",
        "        stop = center + size + (sh % 2)\n",
        "\n",
        "        # computing what area of the original image will be in the cropped output\n",
        "        slce = slice(max(0, start), min(np_image.shape[it], stop))\n",
        "        slices += (slce,)\n",
        "\n",
        "        # computing offset to pad if the crop is partly outside of the scan\n",
        "        offset = slice(-min(0, start), 2 * size - max(0, (start + 2 * size) - np_image.shape[it]))\n",
        "        offsets += (offset,)\n",
        "\n",
        "    output_image[offsets] = np_image[slices]\n",
        "\n",
        "    return output_image\n",
        "\n",
        "\n",
        "def pad_image(image: np.ndarray, outer_height: int, outer_width: int, pad_value: Tuple):\n",
        "    \"\"\"\n",
        "    Pastes input image in the middle of a larger one\n",
        "    @param image:        image of shape (H x W x C)\n",
        "    @param outer_height: final outer height\n",
        "    @param outer_width:  final outer width\n",
        "    @param pad_value:    value for padding around inner image\n",
        "    @return:             padded image\n",
        "    \"\"\"\n",
        "    inner_height, inner_width = image.shape[0], image.shape[1]\n",
        "    h_offset = int((outer_height - inner_height) / 2.0)\n",
        "    w_offset = int((outer_width - inner_width) / 2.0)\n",
        "    outer_image = np.ones((outer_height, outer_width, 3), dtype=image.dtype) * pad_value\n",
        "    outer_image[h_offset:h_offset + inner_height, w_offset:w_offset + inner_width, :] = image\n",
        "\n",
        "    return outer_image\n",
        "\n",
        "def normlaize_clinicalf(clinical):\n",
        "    clinical['preop_egfr']=clinical['preop_egfr'].fillna(77)\n",
        "    clinical[\"bmi\"] = clinical['bmi'] /50.0\n",
        "    #df[\"bmi\"] = df['bmi'] /50.0\n",
        "    clinical['age']=clinical['age']/120.0\n",
        "    clinical['preop_egfr']=clinical['preop_egfr']/90.0\n",
        "    clinical['radiographic_size']=clinical['radiographic_size']/15.0\n",
        "    return clinical\n",
        "class deeeeset(Dataset):\n",
        "    def __init__(self,in_out):\n",
        "        self.in_out=in_out\n",
        "        \n",
        "        #self.new_shape=new_shape\n",
        "        #self.input_data = input_data\n",
        "        self.ids=self.in_out['SubjectId']\n",
        "        self.label=self.in_out['task_1_label']\n",
        "        \n",
        "        self.feature=self.in_out.drop(['SubjectId','gender','aua_risk_group','task_1_label','task_2_label'],axis=1, inplace=True)\n",
        "        #self.feature=self.in_out.drop(['SubjectId','gender','aua_risk_group','task_1_label',],axis=1, inplace=True)\n",
        "        \n",
        "        #self.feature=self.in_out.drop(['SubjectId','task_1_label','task_2_label'],axis=1, inplace=True)\n",
        "\n",
        "    \n",
        "            \n",
        "        \n",
        "    def __getitem__(self,idx):\n",
        "        \n",
        "        feat=self.in_out.iloc[idx]\n",
        "        #feat=pd.DataFrame(feat)\n",
        "        #feat=normlaize_clinicalf(feat)\n",
        "        x_feature=pd.DataFrame(feat).T\n",
        "\n",
        "        \n",
        "        # norm_img=get_array_img\n",
        "        \n",
        "        y_output=self.label[idx]\n",
        "        x_f_array=np.array(x_feature)\n",
        "        x_f_array_t=torch.from_numpy(x_f_array).float()\n",
        "        x_f_array_t=torch.squeeze(x_f_array_t,axis=0)\n",
        "        return (x_f_array_t,y_output)\n",
        "\n",
        "    \n",
        "    \n",
        "    def __len__(self):\n",
        "        return(len(self.label))\n",
        "    \n",
        "\n",
        "\n",
        "#input_image = center_crop(input_image, new_shape=new_shape) \n",
        "    \n",
        "    \n",
        "filet=pd.read_csv('/content/drive/MyDrive/knights_challenege/task1fold/train_un_moralize_fold1.csv')\n",
        "#data='/home/imranr/knights/data'\n",
        "\n",
        "filev=pd.read_csv('/content/drive/MyDrive/knights_challenege/task1fold/test_un_moralize_fold1.csv')\n",
        "\n",
        "\n",
        "\n",
        "\n",
        "len(filev['task_1_label']==0)\n",
        "len(filev['task_1_label']==1)\n",
        "\n",
        "#classes=['NoAT','CanAT']\n",
        "c1=filet['task_1_label'].value_counts()[0]\n",
        "#175\n",
        "\n",
        "#c2=filet['task_1_label'].value_counts()[1]\n",
        "#65\n",
        "\n",
        "train_dataset=deeeeset(filet)\n",
        "valid_dataset=deeeeset(filev)\n",
        "\n",
        "print(len(train_dataset))\n",
        "print(len(valid_dataset))\n",
        "\n",
        "f,o=valid_dataset[2]\n",
        "\n",
        "#print(i.shape)\n",
        "#print(i.min())\n",
        "#print(i.max())\n",
        "print(o)\n",
        "print(f)\n",
        "\n",
        "# i,f, o=train_dataset[2]\n",
        "\n",
        "# print(i.shape)\n",
        "# print(i.min())\n",
        "# print(i.max())\n",
        "# print(o)\n",
        "# print(f)\n",
        "\n",
        "#%\n",
        "from torch.utils.data import DataLoader\n",
        "\n",
        "    \n",
        "batch=4\n",
        "\n",
        "train_dataloader = DataLoader(train_dataset, batch_size= batch,pin_memory=True,num_workers=6, shuffle=True)\n",
        "\n",
        "valid_dataloader = DataLoader(valid_dataset, batch_size= batch,pin_memory=True,num_workers=6, shuffle=False)\n",
        "\n",
        "import sys \n",
        "import os\n",
        "import glob\n",
        "import time\n",
        "import random\n",
        "import os\n",
        "import glob\n",
        "import time\n",
        "import random\n",
        "import torch\n",
        "import numpy as np\n",
        "import pandas as pd\n",
        "import torch.nn as nn\n",
        "\n",
        "device = torch.device(\"cuda\" if torch.cuda.is_available() else \"cpu\")"
      ],
      "metadata": {
        "colab": {
          "base_uri": "https://localhost:8080/"
        },
        "id": "sula3c_nAq_e",
        "outputId": "85646201-310b-4931-b368-4639eeea15ba"
      },
      "execution_count": null,
      "outputs": [
        {
          "output_type": "stream",
          "name": "stdout",
          "text": [
            "240\n",
            "60\n",
            "0\n",
            "tensor([59.0000, 24.2900,  0.0000,  0.0000,  1.0000,  3.4000, 77.0000,  1.0000,\n",
            "         1.0000,  0.7051,  0.7051,  3.0000])\n"
          ]
        },
        {
          "output_type": "stream",
          "name": "stderr",
          "text": [
            "/usr/local/lib/python3.7/dist-packages/torch/utils/data/dataloader.py:481: UserWarning: This DataLoader will create 6 worker processes in total. Our suggested max number of worker in current system is 2, which is smaller than what this DataLoader is going to create. Please be aware that excessive worker creation might get DataLoader running slow or even freeze, lower the worker number to avoid potential slowness/freeze if necessary.\n",
            "  cpuset_checked))\n"
          ]
        }
      ]
    },
    {
      "cell_type": "code",
      "source": [
        "data=next(iter(train_dataloader))\n",
        "img,label=data\n",
        "print(img.shape)"
      ],
      "metadata": {
        "colab": {
          "base_uri": "https://localhost:8080/"
        },
        "id": "9DhJgnkyFoKi",
        "outputId": "053d1cfa-c6fe-463c-94f6-b4c578bf08c3"
      },
      "execution_count": null,
      "outputs": [
        {
          "output_type": "stream",
          "name": "stderr",
          "text": [
            "/usr/local/lib/python3.7/dist-packages/torch/utils/data/dataloader.py:481: UserWarning: This DataLoader will create 6 worker processes in total. Our suggested max number of worker in current system is 2, which is smaller than what this DataLoader is going to create. Please be aware that excessive worker creation might get DataLoader running slow or even freeze, lower the worker number to avoid potential slowness/freeze if necessary.\n",
            "  cpuset_checked))\n"
          ]
        },
        {
          "output_type": "stream",
          "name": "stdout",
          "text": [
            "torch.Size([4, 12])\n"
          ]
        }
      ]
    },
    {
      "cell_type": "code",
      "source": [
        "import torch\n",
        "import torch.nn as nn\n",
        "class LSTMmodule(nn.Module):\n",
        "  def __init__(self,input_size,h1,h2,number_layers=2):\n",
        "    super().__init__()\n",
        "    self.input_size=input_size\n",
        "    self.h1=h1\n",
        "    self.h2=h2\n",
        "    self.number_layers=number_layers\n",
        "    self.lstm1=nn.LSTM(input_size,h1,number_layers,batch_first=True)\n",
        "    self.lstm2=nn.LSTM(h1,h2,number_layers,batch_first=True)\n",
        "    self.fc=nn.Linear(256,2)\n",
        "    #self.fc1=nn.Linear(256,6)\n",
        "\n",
        "  def forward(self,x):\n",
        "    #c01,h01=torch.zeros(self.number_layers,x.size(0),self.h1),torch.zeros(self.number_layers,x.size(0),self.h1).to(device)\n",
        "    #c02,h02=torch.zeros(self.number_layers,x.size(0),self.h2),torch.zeros(self.number_layers,x.size(0),self.h2).to(device)\n",
        "\n",
        "    out1,(c1,h1)=self.lstm1(x)\n",
        "    out2,(c2,h2)=self.lstm2(out1)\n",
        "    #print(out2[:,-1,:].shape) # batch_size,hidden_out\n",
        "    out=self.fc(out2[:,-1,:])\n",
        "    return out\n",
        "model=LSTMmodule(12,128,256,2)\n",
        "#inpt=torch.randn(4,1,12) # batch_size,seq_len=7,input_size=10\n",
        "#out=model(inpt)\n",
        "#print(out.shape)"
      ],
      "metadata": {
        "id": "68tNa4bSBBCe"
      },
      "execution_count": null,
      "outputs": []
    },
    {
      "cell_type": "code",
      "source": [
        "cd /content/drive/MyDrive/knights_challenege"
      ],
      "metadata": {
        "colab": {
          "base_uri": "https://localhost:8080/"
        },
        "id": "8iSidKR9DNWM",
        "outputId": "7122b17e-b999-4bec-f6e2-9c9ccc4b4a39"
      },
      "execution_count": null,
      "outputs": [
        {
          "output_type": "stream",
          "name": "stdout",
          "text": [
            "/content/drive/MyDrive/knights_challenege\n"
          ]
        }
      ]
    },
    {
      "cell_type": "code",
      "source": [
        "!mkdir models"
      ],
      "metadata": {
        "id": "o-7aLnjiDkB7"
      },
      "execution_count": null,
      "outputs": []
    },
    {
      "cell_type": "code",
      "source": [
        "cd /content/drive/MyDrive/knights_challenege/models"
      ],
      "metadata": {
        "colab": {
          "base_uri": "https://localhost:8080/"
        },
        "id": "LLu96AQwDsPE",
        "outputId": "e2ecb0d3-a035-4ab7-d589-9d504285b721"
      },
      "execution_count": null,
      "outputs": [
        {
          "output_type": "stream",
          "name": "stdout",
          "text": [
            "/content/drive/MyDrive/knights_challenege/models\n"
          ]
        }
      ]
    },
    {
      "cell_type": "code",
      "source": [
        "!mkdir fold0MLasmfeatures"
      ],
      "metadata": {
        "id": "BANhPnXzDxuz"
      },
      "execution_count": null,
      "outputs": []
    },
    {
      "cell_type": "code",
      "source": [
        "!mkdir fold0modelGRU"
      ],
      "metadata": {
        "id": "d-ucDrfAD3xE"
      },
      "execution_count": null,
      "outputs": []
    },
    {
      "cell_type": "code",
      "source": [
        "cd /content/drive/MyDrive/knights_challenege"
      ],
      "metadata": {
        "colab": {
          "base_uri": "https://localhost:8080/"
        },
        "id": "o3p1RRC-D2ns",
        "outputId": "1cef71a8-eeba-40c3-e597-634487e0bbac"
      },
      "execution_count": null,
      "outputs": [
        {
          "output_type": "stream",
          "name": "stdout",
          "text": [
            "/content/drive/MyDrive/knights_challenege\n"
          ]
        }
      ]
    },
    {
      "cell_type": "code",
      "source": [
        "import torch\n",
        "import torch.nn as nn\n",
        "class GRUmodule(nn.Module):\n",
        "  def __init__(self,input_size,h1,h2,number_layers=2):\n",
        "    super().__init__()\n",
        "    self.input_size=input_size\n",
        "    self.h1=h1\n",
        "    self.h2=h2\n",
        "    self.number_layers=number_layers\n",
        "    self.gru1=nn.GRU(input_size,h1,self.number_layers,batch_first=True)\n",
        "    self.gru2=nn.GRU(h1,h2,self.number_layers,batch_first=True)\n",
        "    self.fc=nn.Linear(256,2)\n",
        "\n",
        "  def forward(self,x):\n",
        "    #h01=torch.zeros(self.number_layers,x.size(0),self.h1)\n",
        "    #h1=torch.zeros(self.number_layers,x.size(0),self.h2)\n",
        "    out1,_=self.gru1(x)\n",
        "    out2,_=self.gru2(out1)\n",
        "    #print(out2[:,-1,:].shape)\n",
        "    #out=out2[:,-1,:]\n",
        "    out=self.fc(out2[:,-1,:])\n",
        "    return out\n",
        "model=GRUmodule(12,128,256)"
      ],
      "metadata": {
        "id": "YsJo1Mx0JDwA"
      },
      "execution_count": null,
      "outputs": []
    },
    {
      "cell_type": "code",
      "source": [
        "import torch\n",
        "import torch.nn as nn\n",
        "class CNN_model(nn.Module):\n",
        "  def __init__(self,in_chan,classes):\n",
        "    super(CNN_model,self).__init__()\n",
        "    # block 1\n",
        "    self.c11=nn.Conv1d(in_channels=in_chan,\n",
        "                       out_channels=120,kernel_size=3) # 12-3+1=10\n",
        "    #self.maxpool11=nn.MaxPool1d(2) #58\n",
        "    self.c21=nn.Conv1d(in_channels=120,\n",
        "                       out_channels=130,kernel_size=3) #10-3+1=8\n",
        "    #self.maxpool21=nn.MaxPool1d(2) #28\n",
        "    # block2\n",
        "    self.c12=nn.Conv1d(in_channels=130,\n",
        "                       out_channels=140,kernel_size=3) #8-3+1=6\n",
        "    self.maxpool12=nn.MaxPool1d(2) #6/2=3\n",
        "    self.c22=nn.Conv1d(in_channels=140,\n",
        "                       out_channels=64,kernel_size=1) #3-1+1=3 \n",
        "    #self.maxpool13=nn.MaxPool1d(3) #15/3=102\n",
        "    # linear layer\n",
        "    self.fc1=nn.Linear(64*3,128)\n",
        "    self.fc2=nn.Linear(128,classes)\n",
        "\n",
        "  def forward(self,x):\n",
        "    # block 1 \n",
        "    #x=self.maxpool21(self.c21(self.maxpool11(self.c11(x))))\n",
        "    x=self.c12(self.c21(self.c11(x)))\n",
        "    #x=(self.c22(self.maxpool12(self.c12(x))))\n",
        "    x=self.maxpool12(x)\n",
        "    x=self.c22(x)\n",
        "    x=x.view(-1,64*3)\n",
        "    x=self.fc1(x)\n",
        "    x=self.fc2(x)\n",
        "    return x\n",
        "model=CNN_model(in_chan=1,classes=2) # inp,number_layers,hidden_dim#\n",
        "#inp=torch.rand(1,1,12)\n",
        "#out=model(inp)\n",
        "#print(out.shape)"
      ],
      "metadata": {
        "id": "Gm-cnFHgMFGc"
      },
      "execution_count": null,
      "outputs": []
    },
    {
      "cell_type": "code",
      "source": [
        "from typing import Optional, Sequence\n",
        "import torch.nn as nn\n",
        "class ClassifierMLP(nn.Module):\n",
        "    def __init__(self, in_ch: int, num_classes: Optional[int], layers_description: Sequence[int]=(256,128), dropout_rate: float = 0.1):\n",
        "        super().__init__()\n",
        "        layer_list = []\n",
        "        layer_list.append(nn.Linear(in_ch, layers_description[0]))\n",
        "        layer_list.append(nn.ReLU())\n",
        "        if dropout_rate is not None and dropout_rate > 0:\n",
        "            layer_list.append(nn.Dropout(p=dropout_rate))\n",
        "        last_layer_size = layers_description[0]\n",
        "        for curr_layer_size in layers_description[1:]:\n",
        "            layer_list.append(nn.Linear(last_layer_size, curr_layer_size))\n",
        "            layer_list.append(nn.ReLU())\n",
        "            if dropout_rate is not None and dropout_rate > 0:\n",
        "                layer_list.append(nn.Dropout(p=dropout_rate))\n",
        "            last_layer_size = curr_layer_size\n",
        "        \n",
        "        if num_classes is not None:\n",
        "            layer_list.append(nn.Linear(last_layer_size, num_classes))\n",
        "        \n",
        "        self.classifier = nn.Sequential(*layer_list)\n",
        "\n",
        "    def forward(self, x):\n",
        "        x = self.classifier(x)\n",
        "        return x\n",
        "  \n",
        "model=ClassifierMLP(12,2)  \n",
        "import torch    "
      ],
      "metadata": {
        "id": "8z90aKfLOssc"
      },
      "execution_count": null,
      "outputs": []
    },
    {
      "cell_type": "code",
      "source": [
        "#### training and testing functions\n",
        "#model=nn.DataParallel(model)\n",
        "device = torch.device(\"cuda\" if torch.cuda.is_available() else \"cpu\")\n",
        "model=model.to(device)\n",
        "#loss_func=nn.BCEWithLogitsLoss()\n",
        "from tqdm import tqdm\n",
        "import torch.optim as optim\n",
        "optimizer=optim.Adam(model.parameters(),lr=0.00001)\n",
        "\n",
        "#classes=['NRG','RG']\n",
        "classes=['NoAT','CanAT']\n",
        "#c1=data['label'].value_counts()[0]\n",
        "#c2=data['label'].value_counts()[1]\n",
        "my_distribution=np.array([175,65])\n",
        "class_weights = torch.from_numpy(np.divide(1, my_distribution)).float().to(device)\n",
        "class_weights = class_weights / class_weights.sum()\n",
        "for i, c in enumerate(classes):\n",
        "  print('Weight for class %s: %f' % (c, class_weights.cpu().numpy()[i]))\n",
        "loss_func = nn.CrossEntropyLoss(weight=class_weights)\n",
        "#loss_func=nn.CrossEntropyLoss()\n",
        "#label=label.to(torch.int64)\n",
        "################################ training functions ###################\n",
        "def train_fn(model,train_loader):\n",
        "    model.train()\n",
        "    counter=0\n",
        "    training_run_loss=0.0\n",
        "    train_running_correct=0.0\n",
        "    for i, data in tqdm(enumerate(train_loader),total=int(len(train_dataset)/train_loader.batch_size)):\n",
        "        counter+=1\n",
        "        # extract dataset\n",
        "        feature,label=data\n",
        "        #imge=imge.float()\n",
        "        #label=label.float()\n",
        "        label.to(torch.int64)\n",
        "        feature=feature.float()\n",
        "        feature=feature.to(device)\n",
        "        #imge=imge.to(device)\n",
        "        label=label.to(device)\n",
        "        #imge=imge.cuda()\n",
        "        #label=label.cuda()\n",
        "        # zero_out the gradient\n",
        "        optimizer.zero_grad()\n",
        "        output=model(feature)\n",
        "        loss=loss_func(output,label)\n",
        "        training_run_loss+=loss.item()\n",
        "        _,preds=torch.max(output.data,1)\n",
        "        train_running_correct+=(preds==label).sum().item()\n",
        "        loss.backward()\n",
        "        optimizer.step()\n",
        "    ###################### state computation ###################\n",
        "    train_loss=training_run_loss/len(train_loader.dataset)\n",
        "    train_loss_ep.append(train_loss)\n",
        "    train_accuracy=100.* train_running_correct/len(train_loader.dataset)\n",
        "    train_accuracy_ep.append(train_accuracy)\n",
        "    print(f\"Train Loss:{train_loss:.4f}, Train Acc:{train_accuracy:0.2f}\")\n",
        "    return train_loss_ep,train_accuracy_ep\n",
        "\n",
        "########################## validation function ##################\n",
        "def validation_fn(model,valid_loader):\n",
        "  # evluation start\n",
        "    print(\"validation start\")\n",
        "    \n",
        "    model.eval()\n",
        "    val_running_loss = 0.0\n",
        "    val_running_correct = 0\n",
        "    with torch.no_grad():\n",
        "        for i,data in tqdm(enumerate(valid_loader),total=int(len(valid_loader)/valid_loader.batch_size)):\n",
        "            feature,label=data\n",
        "            #imge=imge.float()\n",
        "            #label=label.float()\n",
        "            label.to(torch.int64)\n",
        "            feature=feature.float()\n",
        "            feature=feature.to(device)\n",
        "            #imge=imge.to(device)\n",
        "            label=label.to(device)\n",
        "            #imge=imge.cuda()\n",
        "            #label=label.cuda()\n",
        "            output=model(feature)\n",
        "            loss=loss_func(output,label)\n",
        "            val_running_loss+=loss.item()\n",
        "            _,pred=torch.max(output.data,1)\n",
        "            val_running_correct+=(pred==label).sum().item()\n",
        "        val_loss=val_running_loss/len(valid_loader.dataset)\n",
        "        val_loss_ep.append(val_loss)\n",
        "        val_accuracy=100.* val_running_correct/(len(valid_loader.dataset))\n",
        "        val_accuracy_ep.append(val_accuracy)\n",
        "        print(f\"Val Loss:{val_loss:0.4f}, Val_Acc:{val_accuracy:0.2f}\")\n",
        "        return val_loss_ep,val_accuracy_ep"
      ],
      "metadata": {
        "colab": {
          "base_uri": "https://localhost:8080/"
        },
        "id": "aiA45ztqDTj7",
        "outputId": "be24efff-1e0f-4073-e216-76f5bcaf2542"
      },
      "execution_count": null,
      "outputs": [
        {
          "output_type": "stream",
          "name": "stdout",
          "text": [
            "Weight for class NoAT: 0.270833\n",
            "Weight for class CanAT: 0.729167\n"
          ]
        }
      ]
    },
    {
      "cell_type": "code",
      "source": [
        "cd /content/drive/MyDrive/knights_challenege/"
      ],
      "metadata": {
        "colab": {
          "base_uri": "https://localhost:8080/"
        },
        "id": "K3xIu6ZLNfHl",
        "outputId": "6adc0e3c-197d-4d81-8060-f4bc99d059c4"
      },
      "execution_count": null,
      "outputs": [
        {
          "output_type": "stream",
          "name": "stdout",
          "text": [
            "/content/drive/MyDrive/knights_challenege/models\n"
          ]
        }
      ]
    },
    {
      "cell_type": "code",
      "source": [
        "!mkdir fold0GRUNorm"
      ],
      "metadata": {
        "id": "4BGQqu9hNjB9"
      },
      "execution_count": null,
      "outputs": []
    },
    {
      "cell_type": "code",
      "source": [
        "!mkdir fold0CNNnewNorm"
      ],
      "metadata": {
        "id": "JaFS74BVNqK0"
      },
      "execution_count": null,
      "outputs": []
    },
    {
      "cell_type": "code",
      "source": [
        "cd /content/drive/MyDrive/knights_challenege/"
      ],
      "metadata": {
        "colab": {
          "base_uri": "https://localhost:8080/"
        },
        "id": "EACzP5xNNths",
        "outputId": "039e636b-627a-4366-e350-ed3f88518283"
      },
      "execution_count": null,
      "outputs": [
        {
          "output_type": "stream",
          "name": "stdout",
          "text": [
            "/content/drive/MyDrive/knights_challenege\n"
          ]
        }
      ]
    },
    {
      "cell_type": "code",
      "source": [
        "mkdir fold1mlptask1un"
      ],
      "metadata": {
        "id": "X4hiMFa8s6k1"
      },
      "execution_count": null,
      "outputs": []
    },
    {
      "cell_type": "code",
      "source": [
        "import torch.optim as optim\n",
        "optimizer=optim.Adam(model.parameters(),lr=0.0001)\n",
        "train_loss_ep=[]\n",
        "train_accuracy_ep=[]\n",
        "val_loss_ep=[]\n",
        "val_accuracy_ep=[]\n",
        "lr = 3e-4\n",
        "log = pd.DataFrame(index=[], columns=['epoch', 'lr', 'loss', 'accu', 'val_loss', 'val_accu'])\n",
        "early_stop=20\n",
        "epochs=1000\n",
        "best_acc = 0\n",
        "name='fold1mlptask1un'\n",
        "trigger = 0\n",
        "for epoch in range(epochs):\n",
        "    print('Epoch [%d/%d]' %(epoch, epochs))\n",
        "    # train for one epoch\n",
        "    train_loss_ep,train_accuracy_ep=train_fn(model,train_dataloader)\n",
        "    train_loss_ep1=np.mean(train_loss_ep)\n",
        "    train_accuracy_ep1=np.mean(train_accuracy_ep)\n",
        "    #y_pred,labels=Prediciton_fn(model,valid_loader)\n",
        "\n",
        "    val_loss_ep,val_accuracy_ep=validation_fn(model,valid_dataloader)\n",
        "    val_loss_ep1=np.mean(val_loss_ep)\n",
        "    val_accuracy_ep1=np.mean(val_accuracy_ep)\n",
        "    \n",
        "    print('loss %.4f - accu %.4f - val_loss %.4f - val_accu %.4f'%(train_loss_ep1, train_accuracy_ep1, val_loss_ep1, val_accuracy_ep1))\n",
        "\n",
        "    tmp = pd.Series([epoch,lr,train_loss_ep1,train_accuracy_ep1,val_loss_ep1,val_accuracy_ep1], index=['epoch', 'lr', 'loss', 'accu', 'val_loss', 'val_accu'])\n",
        "\n",
        "    log = log.append(tmp, ignore_index=True)\n",
        "    log.to_csv('models/%s/logmlp.csv' %name, index=False)\n",
        "\n",
        "    trigger += 1\n",
        "\n",
        "    if val_accuracy_ep1 > best_acc:\n",
        "        torch.save(model.state_dict(), 'models/%s/mlpmodelfold1.pth' %name)\n",
        "        best_acc = val_accuracy_ep1\n",
        "        print(\"=> saved best model\")\n",
        "        trigger = 0\n",
        "\n",
        "    # early stopping\n",
        "    if not early_stop is None:\n",
        "        if trigger >= early_stop:\n",
        "            print(\"=> early stopping\")\n",
        "            break\n",
        "\n",
        "    torch.cuda.empty_cache() "
      ],
      "metadata": {
        "colab": {
          "base_uri": "https://localhost:8080/"
        },
        "id": "XTNRrxhpDURr",
        "outputId": "abbf9319-185e-4466-ec87-12662b399cf6"
      },
      "execution_count": null,
      "outputs": [
        {
          "output_type": "stream",
          "name": "stdout",
          "text": [
            "Epoch [0/1000]\n"
          ]
        },
        {
          "output_type": "stream",
          "name": "stderr",
          "text": [
            "/usr/local/lib/python3.7/dist-packages/torch/utils/data/dataloader.py:481: UserWarning: This DataLoader will create 6 worker processes in total. Our suggested max number of worker in current system is 2, which is smaller than what this DataLoader is going to create. Please be aware that excessive worker creation might get DataLoader running slow or even freeze, lower the worker number to avoid potential slowness/freeze if necessary.\n",
            "  cpuset_checked))\n",
            "100%|██████████| 60/60 [00:00<00:00, 64.93it/s]"
          ]
        },
        {
          "output_type": "stream",
          "name": "stdout",
          "text": [
            "Train Loss:0.3286, Train Acc:54.58\n",
            "validation start\n"
          ]
        },
        {
          "output_type": "stream",
          "name": "stderr",
          "text": [
            "\n",
            "15it [00:00, 27.89it/s]"
          ]
        },
        {
          "output_type": "stream",
          "name": "stdout",
          "text": [
            "Val Loss:0.1396, Val_Acc:70.00\n",
            "loss 0.3286 - accu 54.5833 - val_loss 0.1396 - val_accu 70.0000\n",
            "=> saved best model\n",
            "Epoch [1/1000]\n"
          ]
        },
        {
          "output_type": "stream",
          "name": "stderr",
          "text": [
            "\n",
            "100%|██████████| 60/60 [00:00<00:00, 64.87it/s]"
          ]
        },
        {
          "output_type": "stream",
          "name": "stdout",
          "text": [
            "Train Loss:0.2412, Train Acc:59.58\n",
            "validation start\n"
          ]
        },
        {
          "output_type": "stream",
          "name": "stderr",
          "text": [
            "\n",
            "15it [00:00, 29.29it/s]\n"
          ]
        },
        {
          "output_type": "stream",
          "name": "stdout",
          "text": [
            "Val Loss:0.1765, Val_Acc:55.00\n",
            "loss 0.2849 - accu 57.0833 - val_loss 0.1580 - val_accu 62.5000\n",
            "Epoch [2/1000]\n"
          ]
        },
        {
          "output_type": "stream",
          "name": "stderr",
          "text": [
            "100%|██████████| 60/60 [00:00<00:00, 70.15it/s]"
          ]
        },
        {
          "output_type": "stream",
          "name": "stdout",
          "text": [
            "Train Loss:0.2403, Train Acc:58.75\n",
            "validation start\n"
          ]
        },
        {
          "output_type": "stream",
          "name": "stderr",
          "text": [
            "\n",
            "15it [00:00, 28.47it/s]"
          ]
        },
        {
          "output_type": "stream",
          "name": "stdout",
          "text": [
            "Val Loss:0.1222, Val_Acc:76.67\n",
            "loss 0.2700 - accu 57.6389 - val_loss 0.1461 - val_accu 67.2222\n",
            "Epoch [3/1000]\n"
          ]
        },
        {
          "output_type": "stream",
          "name": "stderr",
          "text": [
            "\n",
            "100%|██████████| 60/60 [00:00<00:00, 68.14it/s]"
          ]
        },
        {
          "output_type": "stream",
          "name": "stdout",
          "text": [
            "Train Loss:0.2207, Train Acc:58.75\n",
            "validation start\n"
          ]
        },
        {
          "output_type": "stream",
          "name": "stderr",
          "text": [
            "\n",
            "15it [00:00, 28.96it/s]"
          ]
        },
        {
          "output_type": "stream",
          "name": "stdout",
          "text": [
            "Val Loss:0.1353, Val_Acc:71.67\n",
            "loss 0.2577 - accu 57.9167 - val_loss 0.1434 - val_accu 68.3333\n",
            "Epoch [4/1000]\n"
          ]
        },
        {
          "output_type": "stream",
          "name": "stderr",
          "text": [
            "\n",
            "100%|██████████| 60/60 [00:00<00:00, 64.78it/s]\n"
          ]
        },
        {
          "output_type": "stream",
          "name": "stdout",
          "text": [
            "Train Loss:0.1887, Train Acc:67.08\n",
            "validation start\n"
          ]
        },
        {
          "output_type": "stream",
          "name": "stderr",
          "text": [
            "15it [00:00, 28.72it/s]"
          ]
        },
        {
          "output_type": "stream",
          "name": "stdout",
          "text": [
            "Val Loss:0.1809, Val_Acc:51.67\n",
            "loss 0.2439 - accu 59.7500 - val_loss 0.1509 - val_accu 65.0000\n",
            "Epoch [5/1000]\n"
          ]
        },
        {
          "output_type": "stream",
          "name": "stderr",
          "text": [
            "\n",
            "100%|██████████| 60/60 [00:00<00:00, 66.55it/s]"
          ]
        },
        {
          "output_type": "stream",
          "name": "stdout",
          "text": [
            "Train Loss:0.2195, Train Acc:57.92\n",
            "validation start\n"
          ]
        },
        {
          "output_type": "stream",
          "name": "stderr",
          "text": [
            "\n",
            "15it [00:00, 29.73it/s]\n"
          ]
        },
        {
          "output_type": "stream",
          "name": "stdout",
          "text": [
            "Val Loss:0.1197, Val_Acc:80.00\n",
            "loss 0.2398 - accu 59.4444 - val_loss 0.1457 - val_accu 67.5000\n",
            "Epoch [6/1000]\n"
          ]
        },
        {
          "output_type": "stream",
          "name": "stderr",
          "text": [
            "100%|██████████| 60/60 [00:00<00:00, 68.16it/s]"
          ]
        },
        {
          "output_type": "stream",
          "name": "stdout",
          "text": [
            "Train Loss:0.1990, Train Acc:59.58\n",
            "validation start\n"
          ]
        },
        {
          "output_type": "stream",
          "name": "stderr",
          "text": [
            "\n",
            "15it [00:00, 27.92it/s]"
          ]
        },
        {
          "output_type": "stream",
          "name": "stdout",
          "text": [
            "Val Loss:0.1182, Val_Acc:81.67\n",
            "loss 0.2340 - accu 59.4643 - val_loss 0.1418 - val_accu 69.5238\n",
            "Epoch [7/1000]\n"
          ]
        },
        {
          "output_type": "stream",
          "name": "stderr",
          "text": [
            "\n",
            "100%|██████████| 60/60 [00:00<00:00, 65.95it/s] "
          ]
        },
        {
          "output_type": "stream",
          "name": "stdout",
          "text": [
            "Train Loss:0.1957, Train Acc:57.50\n",
            "validation start\n"
          ]
        },
        {
          "output_type": "stream",
          "name": "stderr",
          "text": [
            "\n",
            "15it [00:00, 28.77it/s]"
          ]
        },
        {
          "output_type": "stream",
          "name": "stdout",
          "text": [
            "Val Loss:0.1155, Val_Acc:81.67\n",
            "loss 0.2292 - accu 59.2188 - val_loss 0.1385 - val_accu 71.0417\n",
            "=> saved best model\n",
            "Epoch [8/1000]\n"
          ]
        },
        {
          "output_type": "stream",
          "name": "stderr",
          "text": [
            "\n",
            "100%|██████████| 60/60 [00:00<00:00, 70.57it/s]"
          ]
        },
        {
          "output_type": "stream",
          "name": "stdout",
          "text": [
            "Train Loss:0.2045, Train Acc:68.33\n",
            "validation start\n"
          ]
        },
        {
          "output_type": "stream",
          "name": "stderr",
          "text": [
            "\n",
            "15it [00:00, 29.06it/s]"
          ]
        },
        {
          "output_type": "stream",
          "name": "stdout",
          "text": [
            "Val Loss:0.1243, Val_Acc:76.67\n",
            "loss 0.2265 - accu 60.2315 - val_loss 0.1369 - val_accu 71.6667\n",
            "=> saved best model\n",
            "Epoch [9/1000]\n"
          ]
        },
        {
          "output_type": "stream",
          "name": "stderr",
          "text": [
            "\n",
            "100%|██████████| 60/60 [00:00<00:00, 68.08it/s] "
          ]
        },
        {
          "output_type": "stream",
          "name": "stdout",
          "text": [
            "Train Loss:0.1700, Train Acc:64.17\n",
            "validation start\n"
          ]
        },
        {
          "output_type": "stream",
          "name": "stderr",
          "text": [
            "\n",
            "15it [00:00, 31.16it/s]"
          ]
        },
        {
          "output_type": "stream",
          "name": "stdout",
          "text": [
            "Val Loss:0.1131, Val_Acc:81.67\n",
            "loss 0.2208 - accu 60.6250 - val_loss 0.1345 - val_accu 72.6667\n",
            "=> saved best model\n",
            "Epoch [10/1000]\n"
          ]
        },
        {
          "output_type": "stream",
          "name": "stderr",
          "text": [
            "\n",
            "100%|██████████| 60/60 [00:00<00:00, 64.36it/s]"
          ]
        },
        {
          "output_type": "stream",
          "name": "stdout",
          "text": [
            "Train Loss:0.1700, Train Acc:67.50\n",
            "validation start\n"
          ]
        },
        {
          "output_type": "stream",
          "name": "stderr",
          "text": [
            "\n",
            "15it [00:00, 30.02it/s]"
          ]
        },
        {
          "output_type": "stream",
          "name": "stdout",
          "text": [
            "Val Loss:0.1106, Val_Acc:83.33\n",
            "loss 0.2162 - accu 61.2500 - val_loss 0.1324 - val_accu 73.6364\n",
            "=> saved best model\n",
            "Epoch [11/1000]\n"
          ]
        },
        {
          "output_type": "stream",
          "name": "stderr",
          "text": [
            "\n",
            "100%|██████████| 60/60 [00:00<00:00, 70.69it/s]"
          ]
        },
        {
          "output_type": "stream",
          "name": "stdout",
          "text": [
            "Train Loss:0.1903, Train Acc:59.58\n",
            "validation start\n"
          ]
        },
        {
          "output_type": "stream",
          "name": "stderr",
          "text": [
            "\n",
            "15it [00:00, 29.97it/s]"
          ]
        },
        {
          "output_type": "stream",
          "name": "stdout",
          "text": [
            "Val Loss:0.1170, Val_Acc:80.00\n",
            "loss 0.2140 - accu 61.1111 - val_loss 0.1311 - val_accu 74.1667\n",
            "=> saved best model\n",
            "Epoch [12/1000]\n"
          ]
        },
        {
          "output_type": "stream",
          "name": "stderr",
          "text": [
            "\n",
            "100%|██████████| 60/60 [00:00<00:00, 68.15it/s] "
          ]
        },
        {
          "output_type": "stream",
          "name": "stdout",
          "text": [
            "Train Loss:0.1967, Train Acc:62.08\n",
            "validation start\n"
          ]
        },
        {
          "output_type": "stream",
          "name": "stderr",
          "text": [
            "\n",
            "15it [00:00, 30.74it/s]"
          ]
        },
        {
          "output_type": "stream",
          "name": "stdout",
          "text": [
            "Val Loss:0.1266, Val_Acc:76.67\n",
            "loss 0.2127 - accu 61.1859 - val_loss 0.1307 - val_accu 74.3590\n",
            "=> saved best model\n",
            "Epoch [13/1000]\n"
          ]
        },
        {
          "output_type": "stream",
          "name": "stderr",
          "text": [
            "\n",
            "100%|██████████| 60/60 [00:00<00:00, 65.55it/s] "
          ]
        },
        {
          "output_type": "stream",
          "name": "stdout",
          "text": [
            "Train Loss:0.1727, Train Acc:65.00\n",
            "validation start\n"
          ]
        },
        {
          "output_type": "stream",
          "name": "stderr",
          "text": [
            "\n",
            "15it [00:00, 27.34it/s]"
          ]
        },
        {
          "output_type": "stream",
          "name": "stdout",
          "text": [
            "Val Loss:0.1105, Val_Acc:81.67\n",
            "loss 0.2099 - accu 61.4583 - val_loss 0.1293 - val_accu 74.8810\n",
            "=> saved best model\n",
            "Epoch [14/1000]\n"
          ]
        },
        {
          "output_type": "stream",
          "name": "stderr",
          "text": [
            "\n",
            "100%|██████████| 60/60 [00:00<00:00, 67.53it/s]"
          ]
        },
        {
          "output_type": "stream",
          "name": "stdout",
          "text": [
            "Train Loss:0.1624, Train Acc:69.58\n",
            "validation start\n"
          ]
        },
        {
          "output_type": "stream",
          "name": "stderr",
          "text": [
            "\n",
            "15it [00:00, 29.20it/s]"
          ]
        },
        {
          "output_type": "stream",
          "name": "stdout",
          "text": [
            "Val Loss:0.1354, Val_Acc:73.33\n",
            "loss 0.2067 - accu 62.0000 - val_loss 0.1297 - val_accu 74.7778\n",
            "Epoch [15/1000]\n"
          ]
        },
        {
          "output_type": "stream",
          "name": "stderr",
          "text": [
            "\n",
            "100%|██████████| 60/60 [00:00<00:00, 65.96it/s] "
          ]
        },
        {
          "output_type": "stream",
          "name": "stdout",
          "text": [
            "Train Loss:0.1840, Train Acc:65.83\n",
            "validation start\n"
          ]
        },
        {
          "output_type": "stream",
          "name": "stderr",
          "text": [
            "\n",
            "15it [00:00, 26.08it/s]                      "
          ]
        },
        {
          "output_type": "stream",
          "name": "stdout",
          "text": [
            "Val Loss:0.1088, Val_Acc:85.00\n",
            "loss 0.2053 - accu 62.2396 - val_loss 0.1284 - val_accu 75.4167\n",
            "=> saved best model\n",
            "Epoch [16/1000]\n"
          ]
        },
        {
          "output_type": "stream",
          "name": "stderr",
          "text": [
            "\n",
            "100%|██████████| 60/60 [00:00<00:00, 66.70it/s]"
          ]
        },
        {
          "output_type": "stream",
          "name": "stdout",
          "text": [
            "Train Loss:0.1532, Train Acc:67.08\n",
            "validation start\n"
          ]
        },
        {
          "output_type": "stream",
          "name": "stderr",
          "text": [
            "\n",
            "15it [00:00, 28.93it/s]"
          ]
        },
        {
          "output_type": "stream",
          "name": "stdout",
          "text": [
            "Val Loss:0.1221, Val_Acc:78.33\n",
            "loss 0.2022 - accu 62.5245 - val_loss 0.1280 - val_accu 75.5882\n",
            "=> saved best model\n",
            "Epoch [17/1000]\n"
          ]
        },
        {
          "output_type": "stream",
          "name": "stderr",
          "text": [
            "\n",
            "100%|██████████| 60/60 [00:00<00:00, 65.37it/s]"
          ]
        },
        {
          "output_type": "stream",
          "name": "stdout",
          "text": [
            "Train Loss:0.1487, Train Acc:70.42\n",
            "validation start\n"
          ]
        },
        {
          "output_type": "stream",
          "name": "stderr",
          "text": [
            "\n",
            "15it [00:00, 31.20it/s]\n"
          ]
        },
        {
          "output_type": "stream",
          "name": "stdout",
          "text": [
            "Val Loss:0.1050, Val_Acc:85.00\n",
            "loss 0.1992 - accu 62.9630 - val_loss 0.1267 - val_accu 76.1111\n",
            "=> saved best model\n",
            "Epoch [18/1000]\n"
          ]
        },
        {
          "output_type": "stream",
          "name": "stderr",
          "text": [
            "100%|██████████| 60/60 [00:00<00:00, 66.17it/s] "
          ]
        },
        {
          "output_type": "stream",
          "name": "stdout",
          "text": [
            "Train Loss:0.1452, Train Acc:70.83\n",
            "validation start\n"
          ]
        },
        {
          "output_type": "stream",
          "name": "stderr",
          "text": [
            "\n",
            "15it [00:00, 28.93it/s]\n"
          ]
        },
        {
          "output_type": "stream",
          "name": "stdout",
          "text": [
            "Val Loss:0.1435, Val_Acc:70.00\n",
            "loss 0.1964 - accu 63.3772 - val_loss 0.1276 - val_accu 75.7895\n",
            "Epoch [19/1000]\n"
          ]
        },
        {
          "output_type": "stream",
          "name": "stderr",
          "text": [
            "100%|██████████| 60/60 [00:00<00:00, 64.44it/s]"
          ]
        },
        {
          "output_type": "stream",
          "name": "stdout",
          "text": [
            "Train Loss:0.1814, Train Acc:59.58\n",
            "validation start\n"
          ]
        },
        {
          "output_type": "stream",
          "name": "stderr",
          "text": [
            "\n",
            "15it [00:00, 28.97it/s]\n"
          ]
        },
        {
          "output_type": "stream",
          "name": "stdout",
          "text": [
            "Val Loss:0.1103, Val_Acc:88.33\n",
            "loss 0.1956 - accu 63.1875 - val_loss 0.1268 - val_accu 76.4167\n",
            "=> saved best model\n",
            "Epoch [20/1000]\n"
          ]
        },
        {
          "output_type": "stream",
          "name": "stderr",
          "text": [
            "100%|██████████| 60/60 [00:00<00:00, 66.06it/s]"
          ]
        },
        {
          "output_type": "stream",
          "name": "stdout",
          "text": [
            "Train Loss:0.1429, Train Acc:70.83\n",
            "validation start\n"
          ]
        },
        {
          "output_type": "stream",
          "name": "stderr",
          "text": [
            "\n",
            "15it [00:00, 29.57it/s]"
          ]
        },
        {
          "output_type": "stream",
          "name": "stdout",
          "text": [
            "Val Loss:0.1452, Val_Acc:66.67\n",
            "loss 0.1931 - accu 63.5516 - val_loss 0.1276 - val_accu 75.9524\n",
            "Epoch [21/1000]\n"
          ]
        },
        {
          "output_type": "stream",
          "name": "stderr",
          "text": [
            "\n",
            "100%|██████████| 60/60 [00:00<00:00, 65.60it/s] "
          ]
        },
        {
          "output_type": "stream",
          "name": "stdout",
          "text": [
            "Train Loss:0.1611, Train Acc:62.92\n",
            "validation start\n"
          ]
        },
        {
          "output_type": "stream",
          "name": "stderr",
          "text": [
            "\n",
            "15it [00:00, 29.87it/s]"
          ]
        },
        {
          "output_type": "stream",
          "name": "stdout",
          "text": [
            "Val Loss:0.1201, Val_Acc:81.67\n",
            "loss 0.1917 - accu 63.5227 - val_loss 0.1273 - val_accu 76.2121\n",
            "Epoch [22/1000]\n"
          ]
        },
        {
          "output_type": "stream",
          "name": "stderr",
          "text": [
            "\n",
            "100%|██████████| 60/60 [00:00<00:00, 66.52it/s]"
          ]
        },
        {
          "output_type": "stream",
          "name": "stdout",
          "text": [
            "Train Loss:0.1474, Train Acc:69.17\n",
            "validation start\n"
          ]
        },
        {
          "output_type": "stream",
          "name": "stderr",
          "text": [
            "\n",
            "15it [00:00, 30.26it/s]\n"
          ]
        },
        {
          "output_type": "stream",
          "name": "stdout",
          "text": [
            "Val Loss:0.1162, Val_Acc:83.33\n",
            "loss 0.1898 - accu 63.7681 - val_loss 0.1268 - val_accu 76.5217\n",
            "=> saved best model\n",
            "Epoch [23/1000]\n"
          ]
        },
        {
          "output_type": "stream",
          "name": "stderr",
          "text": [
            "100%|██████████| 60/60 [00:00<00:00, 68.10it/s] "
          ]
        },
        {
          "output_type": "stream",
          "name": "stdout",
          "text": [
            "Train Loss:0.1668, Train Acc:65.42\n",
            "validation start\n"
          ]
        },
        {
          "output_type": "stream",
          "name": "stderr",
          "text": [
            "\n",
            "15it [00:00, 27.93it/s]"
          ]
        },
        {
          "output_type": "stream",
          "name": "stdout",
          "text": [
            "Val Loss:0.1133, Val_Acc:80.00\n",
            "loss 0.1888 - accu 63.8368 - val_loss 0.1263 - val_accu 76.6667\n",
            "=> saved best model\n",
            "Epoch [24/1000]\n"
          ]
        },
        {
          "output_type": "stream",
          "name": "stderr",
          "text": [
            "\n",
            "100%|██████████| 60/60 [00:00<00:00, 73.35it/s] "
          ]
        },
        {
          "output_type": "stream",
          "name": "stdout",
          "text": [
            "Train Loss:0.1555, Train Acc:71.67\n",
            "validation start\n"
          ]
        },
        {
          "output_type": "stream",
          "name": "stderr",
          "text": [
            "\n",
            "15it [00:00, 28.20it/s]"
          ]
        },
        {
          "output_type": "stream",
          "name": "stdout",
          "text": [
            "Val Loss:0.1349, Val_Acc:75.00\n",
            "loss 0.1875 - accu 64.1500 - val_loss 0.1266 - val_accu 76.6000\n",
            "Epoch [25/1000]\n"
          ]
        },
        {
          "output_type": "stream",
          "name": "stderr",
          "text": [
            "\n",
            "100%|██████████| 60/60 [00:00<00:00, 69.74it/s]"
          ]
        },
        {
          "output_type": "stream",
          "name": "stdout",
          "text": [
            "Train Loss:0.1443, Train Acc:69.58\n",
            "validation start\n"
          ]
        },
        {
          "output_type": "stream",
          "name": "stderr",
          "text": [
            "\n",
            "15it [00:00, 27.99it/s]"
          ]
        },
        {
          "output_type": "stream",
          "name": "stdout",
          "text": [
            "Val Loss:0.1161, Val_Acc:80.00\n",
            "loss 0.1858 - accu 64.3590 - val_loss 0.1262 - val_accu 76.7308\n",
            "=> saved best model\n",
            "Epoch [26/1000]\n"
          ]
        },
        {
          "output_type": "stream",
          "name": "stderr",
          "text": [
            "\n",
            "100%|██████████| 60/60 [00:00<00:00, 60.59it/s]"
          ]
        },
        {
          "output_type": "stream",
          "name": "stdout",
          "text": [
            "Train Loss:0.1532, Train Acc:65.00\n",
            "validation start\n"
          ]
        },
        {
          "output_type": "stream",
          "name": "stderr",
          "text": [
            "\n",
            "15it [00:00, 27.82it/s]"
          ]
        },
        {
          "output_type": "stream",
          "name": "stdout",
          "text": [
            "Val Loss:0.1050, Val_Acc:83.33\n",
            "loss 0.1846 - accu 64.3827 - val_loss 0.1254 - val_accu 76.9753\n",
            "=> saved best model\n",
            "Epoch [27/1000]\n"
          ]
        },
        {
          "output_type": "stream",
          "name": "stderr",
          "text": [
            "\n",
            "100%|██████████| 60/60 [00:00<00:00, 68.97it/s]"
          ]
        },
        {
          "output_type": "stream",
          "name": "stdout",
          "text": [
            "Train Loss:0.1376, Train Acc:70.83\n",
            "validation start\n"
          ]
        },
        {
          "output_type": "stream",
          "name": "stderr",
          "text": [
            "\n",
            "15it [00:00, 28.28it/s]"
          ]
        },
        {
          "output_type": "stream",
          "name": "stdout",
          "text": [
            "Val Loss:0.1410, Val_Acc:70.00\n",
            "loss 0.1829 - accu 64.6131 - val_loss 0.1260 - val_accu 76.7262\n",
            "Epoch [28/1000]\n"
          ]
        },
        {
          "output_type": "stream",
          "name": "stderr",
          "text": [
            "\n",
            "100%|██████████| 60/60 [00:00<00:00, 66.23it/s] "
          ]
        },
        {
          "output_type": "stream",
          "name": "stdout",
          "text": [
            "Train Loss:0.1474, Train Acc:67.50\n",
            "validation start\n"
          ]
        },
        {
          "output_type": "stream",
          "name": "stderr",
          "text": [
            "\n",
            "15it [00:00, 28.67it/s]"
          ]
        },
        {
          "output_type": "stream",
          "name": "stdout",
          "text": [
            "Val Loss:0.1025, Val_Acc:86.67\n",
            "loss 0.1817 - accu 64.7126 - val_loss 0.1252 - val_accu 77.0690\n",
            "=> saved best model\n",
            "Epoch [29/1000]\n"
          ]
        },
        {
          "output_type": "stream",
          "name": "stderr",
          "text": [
            "\n",
            "100%|██████████| 60/60 [00:00<00:00, 71.89it/s]"
          ]
        },
        {
          "output_type": "stream",
          "name": "stdout",
          "text": [
            "Train Loss:0.1578, Train Acc:68.33\n",
            "validation start\n"
          ]
        },
        {
          "output_type": "stream",
          "name": "stderr",
          "text": [
            "\n",
            "15it [00:00, 31.25it/s]"
          ]
        },
        {
          "output_type": "stream",
          "name": "stdout",
          "text": [
            "Val Loss:0.1225, Val_Acc:78.33\n",
            "loss 0.1809 - accu 64.8333 - val_loss 0.1251 - val_accu 77.1111\n",
            "=> saved best model\n",
            "Epoch [30/1000]\n"
          ]
        },
        {
          "output_type": "stream",
          "name": "stderr",
          "text": [
            "\n",
            "100%|██████████| 60/60 [00:00<00:00, 66.26it/s]"
          ]
        },
        {
          "output_type": "stream",
          "name": "stdout",
          "text": [
            "Train Loss:0.1398, Train Acc:70.00\n",
            "validation start\n"
          ]
        },
        {
          "output_type": "stream",
          "name": "stderr",
          "text": [
            "\n",
            "15it [00:00, 28.32it/s]"
          ]
        },
        {
          "output_type": "stream",
          "name": "stdout",
          "text": [
            "Val Loss:0.1139, Val_Acc:85.00\n",
            "loss 0.1796 - accu 65.0000 - val_loss 0.1247 - val_accu 77.3656\n",
            "=> saved best model\n",
            "Epoch [31/1000]\n"
          ]
        },
        {
          "output_type": "stream",
          "name": "stderr",
          "text": [
            "\n",
            "100%|██████████| 60/60 [00:00<00:00, 64.44it/s]"
          ]
        },
        {
          "output_type": "stream",
          "name": "stdout",
          "text": [
            "Train Loss:0.1435, Train Acc:71.25\n",
            "validation start\n"
          ]
        },
        {
          "output_type": "stream",
          "name": "stderr",
          "text": [
            "\n",
            "15it [00:00, 31.45it/s]"
          ]
        },
        {
          "output_type": "stream",
          "name": "stdout",
          "text": [
            "Val Loss:0.1132, Val_Acc:86.67\n",
            "loss 0.1784 - accu 65.1953 - val_loss 0.1243 - val_accu 77.6562\n",
            "=> saved best model\n",
            "Epoch [32/1000]\n"
          ]
        },
        {
          "output_type": "stream",
          "name": "stderr",
          "text": [
            "\n",
            "100%|██████████| 60/60 [00:01<00:00, 41.11it/s]"
          ]
        },
        {
          "output_type": "stream",
          "name": "stdout",
          "text": [
            "Train Loss:0.1464, Train Acc:69.17\n",
            "validation start\n"
          ]
        },
        {
          "output_type": "stream",
          "name": "stderr",
          "text": [
            "\n",
            "15it [00:00, 15.74it/s]"
          ]
        },
        {
          "output_type": "stream",
          "name": "stdout",
          "text": [
            "Val Loss:0.1044, Val_Acc:88.33\n",
            "loss 0.1775 - accu 65.3157 - val_loss 0.1237 - val_accu 77.9798\n",
            "=> saved best model\n",
            "Epoch [33/1000]\n"
          ]
        },
        {
          "output_type": "stream",
          "name": "stderr",
          "text": [
            "\n",
            "100%|██████████| 60/60 [00:00<00:00, 63.80it/s]"
          ]
        },
        {
          "output_type": "stream",
          "name": "stdout",
          "text": [
            "Train Loss:0.1464, Train Acc:68.75\n",
            "validation start\n"
          ]
        },
        {
          "output_type": "stream",
          "name": "stderr",
          "text": [
            "\n",
            "15it [00:00, 28.85it/s]"
          ]
        },
        {
          "output_type": "stream",
          "name": "stdout",
          "text": [
            "Val Loss:0.1296, Val_Acc:75.00\n",
            "loss 0.1766 - accu 65.4167 - val_loss 0.1239 - val_accu 77.8922\n",
            "Epoch [34/1000]\n"
          ]
        },
        {
          "output_type": "stream",
          "name": "stderr",
          "text": [
            "\n",
            "100%|██████████| 60/60 [00:00<00:00, 61.53it/s]"
          ]
        },
        {
          "output_type": "stream",
          "name": "stdout",
          "text": [
            "Train Loss:0.1477, Train Acc:70.00\n",
            "validation start\n"
          ]
        },
        {
          "output_type": "stream",
          "name": "stderr",
          "text": [
            "\n",
            "15it [00:00, 27.78it/s]\n"
          ]
        },
        {
          "output_type": "stream",
          "name": "stdout",
          "text": [
            "Val Loss:0.0998, Val_Acc:86.67\n",
            "loss 0.1757 - accu 65.5476 - val_loss 0.1232 - val_accu 78.1429\n",
            "=> saved best model\n",
            "Epoch [35/1000]\n"
          ]
        },
        {
          "output_type": "stream",
          "name": "stderr",
          "text": [
            "100%|██████████| 60/60 [00:00<00:00, 64.11it/s] "
          ]
        },
        {
          "output_type": "stream",
          "name": "stdout",
          "text": [
            "Train Loss:0.1468, Train Acc:70.00\n",
            "validation start\n"
          ]
        },
        {
          "output_type": "stream",
          "name": "stderr",
          "text": [
            "\n",
            "15it [00:00, 27.64it/s]                      \n"
          ]
        },
        {
          "output_type": "stream",
          "name": "stdout",
          "text": [
            "Val Loss:0.1061, Val_Acc:88.33\n",
            "loss 0.1749 - accu 65.6713 - val_loss 0.1228 - val_accu 78.4259\n",
            "=> saved best model\n",
            "Epoch [36/1000]\n"
          ]
        },
        {
          "output_type": "stream",
          "name": "stderr",
          "text": [
            "100%|██████████| 60/60 [00:00<00:00, 66.68it/s]"
          ]
        },
        {
          "output_type": "stream",
          "name": "stdout",
          "text": [
            "Train Loss:0.1422, Train Acc:73.33\n",
            "validation start\n"
          ]
        },
        {
          "output_type": "stream",
          "name": "stderr",
          "text": [
            "\n",
            "15it [00:00, 29.42it/s]"
          ]
        },
        {
          "output_type": "stream",
          "name": "stdout",
          "text": [
            "Val Loss:0.1147, Val_Acc:85.00\n",
            "loss 0.1740 - accu 65.8784 - val_loss 0.1225 - val_accu 78.6036\n",
            "=> saved best model\n",
            "Epoch [37/1000]\n"
          ]
        },
        {
          "output_type": "stream",
          "name": "stderr",
          "text": [
            "\n",
            "100%|██████████| 60/60 [00:00<00:00, 70.24it/s] "
          ]
        },
        {
          "output_type": "stream",
          "name": "stdout",
          "text": [
            "Train Loss:0.1491, Train Acc:70.00\n",
            "validation start\n"
          ]
        },
        {
          "output_type": "stream",
          "name": "stderr",
          "text": [
            "\n",
            "15it [00:00, 28.87it/s]"
          ]
        },
        {
          "output_type": "stream",
          "name": "stdout",
          "text": [
            "Val Loss:0.1239, Val_Acc:76.67\n",
            "loss 0.1734 - accu 65.9868 - val_loss 0.1226 - val_accu 78.5526\n",
            "Epoch [38/1000]\n"
          ]
        },
        {
          "output_type": "stream",
          "name": "stderr",
          "text": [
            "\n",
            "100%|██████████| 60/60 [00:00<00:00, 67.94it/s]"
          ]
        },
        {
          "output_type": "stream",
          "name": "stdout",
          "text": [
            "Train Loss:0.1418, Train Acc:70.00\n",
            "validation start\n"
          ]
        },
        {
          "output_type": "stream",
          "name": "stderr",
          "text": [
            "\n",
            "15it [00:00, 26.99it/s]"
          ]
        },
        {
          "output_type": "stream",
          "name": "stdout",
          "text": [
            "Val Loss:0.1099, Val_Acc:86.67\n",
            "loss 0.1726 - accu 66.0897 - val_loss 0.1222 - val_accu 78.7607\n",
            "=> saved best model\n",
            "Epoch [39/1000]\n"
          ]
        },
        {
          "output_type": "stream",
          "name": "stderr",
          "text": [
            "\n",
            "100%|██████████| 60/60 [00:00<00:00, 63.58it/s]"
          ]
        },
        {
          "output_type": "stream",
          "name": "stdout",
          "text": [
            "Train Loss:0.1476, Train Acc:68.75\n",
            "validation start\n"
          ]
        },
        {
          "output_type": "stream",
          "name": "stderr",
          "text": [
            "\n",
            "15it [00:00, 27.48it/s]"
          ]
        },
        {
          "output_type": "stream",
          "name": "stdout",
          "text": [
            "Val Loss:0.1252, Val_Acc:75.00\n",
            "loss 0.1720 - accu 66.1562 - val_loss 0.1223 - val_accu 78.6667\n",
            "Epoch [40/1000]\n"
          ]
        },
        {
          "output_type": "stream",
          "name": "stderr",
          "text": [
            "\n",
            "100%|██████████| 60/60 [00:00<00:00, 65.67it/s]"
          ]
        },
        {
          "output_type": "stream",
          "name": "stdout",
          "text": [
            "Train Loss:0.1429, Train Acc:68.33\n",
            "validation start\n"
          ]
        },
        {
          "output_type": "stream",
          "name": "stderr",
          "text": [
            "\n",
            "15it [00:00, 27.77it/s]"
          ]
        },
        {
          "output_type": "stream",
          "name": "stdout",
          "text": [
            "Val Loss:0.1041, Val_Acc:85.00\n",
            "loss 0.1712 - accu 66.2093 - val_loss 0.1219 - val_accu 78.8211\n",
            "=> saved best model\n",
            "Epoch [41/1000]\n"
          ]
        },
        {
          "output_type": "stream",
          "name": "stderr",
          "text": [
            "\n",
            "100%|██████████| 60/60 [00:00<00:00, 65.03it/s] "
          ]
        },
        {
          "output_type": "stream",
          "name": "stdout",
          "text": [
            "Train Loss:0.1404, Train Acc:71.67\n",
            "validation start\n"
          ]
        },
        {
          "output_type": "stream",
          "name": "stderr",
          "text": [
            "\n",
            "15it [00:00, 27.49it/s]"
          ]
        },
        {
          "output_type": "stream",
          "name": "stdout",
          "text": [
            "Val Loss:0.1221, Val_Acc:76.67\n",
            "loss 0.1705 - accu 66.3393 - val_loss 0.1219 - val_accu 78.7698\n",
            "Epoch [42/1000]\n"
          ]
        },
        {
          "output_type": "stream",
          "name": "stderr",
          "text": [
            "\n",
            "100%|██████████| 60/60 [00:01<00:00, 41.65it/s]"
          ]
        },
        {
          "output_type": "stream",
          "name": "stdout",
          "text": [
            "Train Loss:0.1320, Train Acc:72.50\n",
            "validation start\n"
          ]
        },
        {
          "output_type": "stream",
          "name": "stderr",
          "text": [
            "\n",
            "15it [00:00, 26.16it/s]\n"
          ]
        },
        {
          "output_type": "stream",
          "name": "stdout",
          "text": [
            "Val Loss:0.1003, Val_Acc:83.33\n",
            "loss 0.1696 - accu 66.4826 - val_loss 0.1214 - val_accu 78.8760\n",
            "=> saved best model\n",
            "Epoch [43/1000]\n"
          ]
        },
        {
          "output_type": "stream",
          "name": "stderr",
          "text": [
            "100%|██████████| 60/60 [00:00<00:00, 65.69it/s]"
          ]
        },
        {
          "output_type": "stream",
          "name": "stdout",
          "text": [
            "Train Loss:0.1487, Train Acc:74.17\n",
            "validation start\n"
          ]
        },
        {
          "output_type": "stream",
          "name": "stderr",
          "text": [
            "\n",
            "15it [00:00, 27.37it/s]"
          ]
        },
        {
          "output_type": "stream",
          "name": "stdout",
          "text": [
            "Val Loss:0.1105, Val_Acc:88.33\n",
            "loss 0.1691 - accu 66.6572 - val_loss 0.1211 - val_accu 79.0909\n",
            "=> saved best model\n",
            "Epoch [44/1000]\n"
          ]
        },
        {
          "output_type": "stream",
          "name": "stderr",
          "text": [
            "\n",
            "100%|██████████| 60/60 [00:00<00:00, 62.45it/s]"
          ]
        },
        {
          "output_type": "stream",
          "name": "stdout",
          "text": [
            "Train Loss:0.1437, Train Acc:71.25\n",
            "validation start\n"
          ]
        },
        {
          "output_type": "stream",
          "name": "stderr",
          "text": [
            "\n",
            "15it [00:00, 30.49it/s]"
          ]
        },
        {
          "output_type": "stream",
          "name": "stdout",
          "text": [
            "Val Loss:0.1350, Val_Acc:68.33\n",
            "loss 0.1686 - accu 66.7593 - val_loss 0.1214 - val_accu 78.8519\n",
            "Epoch [45/1000]\n"
          ]
        },
        {
          "output_type": "stream",
          "name": "stderr",
          "text": [
            "\n",
            "100%|██████████| 60/60 [00:00<00:00, 63.12it/s] "
          ]
        },
        {
          "output_type": "stream",
          "name": "stdout",
          "text": [
            "Train Loss:0.1348, Train Acc:72.92\n",
            "validation start\n"
          ]
        },
        {
          "output_type": "stream",
          "name": "stderr",
          "text": [
            "\n",
            "15it [00:00, 28.29it/s]"
          ]
        },
        {
          "output_type": "stream",
          "name": "stdout",
          "text": [
            "Val Loss:0.1111, Val_Acc:88.33\n",
            "loss 0.1678 - accu 66.8931 - val_loss 0.1212 - val_accu 79.0580\n",
            "Epoch [46/1000]\n"
          ]
        },
        {
          "output_type": "stream",
          "name": "stderr",
          "text": [
            "\n",
            "100%|██████████| 60/60 [00:00<00:00, 62.70it/s]"
          ]
        },
        {
          "output_type": "stream",
          "name": "stdout",
          "text": [
            "Train Loss:0.1443, Train Acc:70.00\n",
            "validation start\n"
          ]
        },
        {
          "output_type": "stream",
          "name": "stderr",
          "text": [
            "\n",
            "15it [00:00, 26.89it/s]"
          ]
        },
        {
          "output_type": "stream",
          "name": "stdout",
          "text": [
            "Val Loss:0.1030, Val_Acc:83.33\n",
            "loss 0.1673 - accu 66.9592 - val_loss 0.1208 - val_accu 79.1489\n",
            "=> saved best model\n",
            "Epoch [47/1000]\n"
          ]
        },
        {
          "output_type": "stream",
          "name": "stderr",
          "text": [
            "\n",
            "100%|██████████| 60/60 [00:00<00:00, 62.93it/s]"
          ]
        },
        {
          "output_type": "stream",
          "name": "stdout",
          "text": [
            "Train Loss:0.1404, Train Acc:74.58\n",
            "validation start\n"
          ]
        },
        {
          "output_type": "stream",
          "name": "stderr",
          "text": [
            "\n",
            "15it [00:00, 24.65it/s]"
          ]
        },
        {
          "output_type": "stream",
          "name": "stdout",
          "text": [
            "Val Loss:0.1186, Val_Acc:83.33\n",
            "loss 0.1668 - accu 67.1181 - val_loss 0.1208 - val_accu 79.2361\n",
            "=> saved best model\n",
            "Epoch [48/1000]\n"
          ]
        },
        {
          "output_type": "stream",
          "name": "stderr",
          "text": [
            "\n",
            "100%|██████████| 60/60 [00:00<00:00, 65.36it/s]"
          ]
        },
        {
          "output_type": "stream",
          "name": "stdout",
          "text": [
            "Train Loss:0.1456, Train Acc:71.67\n",
            "validation start\n"
          ]
        },
        {
          "output_type": "stream",
          "name": "stderr",
          "text": [
            "\n",
            "15it [00:00, 26.59it/s]\n"
          ]
        },
        {
          "output_type": "stream",
          "name": "stdout",
          "text": [
            "Val Loss:0.1044, Val_Acc:85.00\n",
            "loss 0.1663 - accu 67.2109 - val_loss 0.1204 - val_accu 79.3537\n",
            "=> saved best model\n",
            "Epoch [49/1000]\n"
          ]
        },
        {
          "output_type": "stream",
          "name": "stderr",
          "text": [
            "100%|██████████| 60/60 [00:00<00:00, 63.29it/s]\n"
          ]
        },
        {
          "output_type": "stream",
          "name": "stdout",
          "text": [
            "Train Loss:0.1498, Train Acc:70.00\n",
            "validation start\n"
          ]
        },
        {
          "output_type": "stream",
          "name": "stderr",
          "text": [
            "15it [00:00, 27.36it/s]"
          ]
        },
        {
          "output_type": "stream",
          "name": "stdout",
          "text": [
            "Val Loss:0.1248, Val_Acc:76.67\n",
            "loss 0.1660 - accu 67.2667 - val_loss 0.1205 - val_accu 79.3000\n",
            "Epoch [50/1000]\n"
          ]
        },
        {
          "output_type": "stream",
          "name": "stderr",
          "text": [
            "\n",
            "100%|██████████| 60/60 [00:00<00:00, 65.77it/s]"
          ]
        },
        {
          "output_type": "stream",
          "name": "stdout",
          "text": [
            "Train Loss:0.1368, Train Acc:75.00\n",
            "validation start\n"
          ]
        },
        {
          "output_type": "stream",
          "name": "stderr",
          "text": [
            "\n",
            "15it [00:00, 25.05it/s]"
          ]
        },
        {
          "output_type": "stream",
          "name": "stdout",
          "text": [
            "Val Loss:0.1070, Val_Acc:88.33\n",
            "loss 0.1654 - accu 67.4183 - val_loss 0.1203 - val_accu 79.4771\n",
            "=> saved best model\n",
            "Epoch [51/1000]\n"
          ]
        },
        {
          "output_type": "stream",
          "name": "stderr",
          "text": [
            "\n",
            "100%|██████████| 60/60 [00:00<00:00, 63.84it/s]"
          ]
        },
        {
          "output_type": "stream",
          "name": "stdout",
          "text": [
            "Train Loss:0.1503, Train Acc:69.17\n",
            "validation start\n"
          ]
        },
        {
          "output_type": "stream",
          "name": "stderr",
          "text": [
            "\n",
            "15it [00:00, 25.11it/s]"
          ]
        },
        {
          "output_type": "stream",
          "name": "stdout",
          "text": [
            "Val Loss:0.1202, Val_Acc:85.00\n",
            "loss 0.1652 - accu 67.4519 - val_loss 0.1203 - val_accu 79.5833\n",
            "=> saved best model\n",
            "Epoch [52/1000]\n"
          ]
        },
        {
          "output_type": "stream",
          "name": "stderr",
          "text": [
            "\n",
            "100%|██████████| 60/60 [00:00<00:00, 64.53it/s]"
          ]
        },
        {
          "output_type": "stream",
          "name": "stdout",
          "text": [
            "Train Loss:0.1414, Train Acc:72.08\n",
            "validation start\n"
          ]
        },
        {
          "output_type": "stream",
          "name": "stderr",
          "text": [
            "\n",
            "15it [00:00, 28.12it/s]"
          ]
        },
        {
          "output_type": "stream",
          "name": "stdout",
          "text": [
            "Val Loss:0.1065, Val_Acc:90.00\n",
            "loss 0.1647 - accu 67.5393 - val_loss 0.1200 - val_accu 79.7799\n",
            "=> saved best model\n",
            "Epoch [53/1000]\n"
          ]
        },
        {
          "output_type": "stream",
          "name": "stderr",
          "text": [
            "\n",
            "100%|██████████| 60/60 [00:00<00:00, 61.06it/s] "
          ]
        },
        {
          "output_type": "stream",
          "name": "stdout",
          "text": [
            "Train Loss:0.1427, Train Acc:71.25\n",
            "validation start\n"
          ]
        },
        {
          "output_type": "stream",
          "name": "stderr",
          "text": [
            "\n",
            "15it [00:00, 25.54it/s]                      "
          ]
        },
        {
          "output_type": "stream",
          "name": "stdout",
          "text": [
            "Val Loss:0.1312, Val_Acc:71.67\n",
            "loss 0.1643 - accu 67.6080 - val_loss 0.1202 - val_accu 79.6296\n",
            "Epoch [54/1000]\n"
          ]
        },
        {
          "output_type": "stream",
          "name": "stderr",
          "text": [
            "\n",
            "100%|██████████| 60/60 [00:00<00:00, 62.45it/s]"
          ]
        },
        {
          "output_type": "stream",
          "name": "stdout",
          "text": [
            "Train Loss:0.1377, Train Acc:69.17\n",
            "validation start\n"
          ]
        },
        {
          "output_type": "stream",
          "name": "stderr",
          "text": [
            "\n",
            "15it [00:00, 24.50it/s]                      "
          ]
        },
        {
          "output_type": "stream",
          "name": "stdout",
          "text": [
            "Val Loss:0.1127, Val_Acc:88.33\n",
            "loss 0.1638 - accu 67.6364 - val_loss 0.1201 - val_accu 79.7879\n",
            "=> saved best model\n",
            "Epoch [55/1000]\n"
          ]
        },
        {
          "output_type": "stream",
          "name": "stderr",
          "text": [
            "\n",
            "100%|██████████| 60/60 [00:00<00:00, 60.40it/s]"
          ]
        },
        {
          "output_type": "stream",
          "name": "stdout",
          "text": [
            "Train Loss:0.1333, Train Acc:78.75\n",
            "validation start\n"
          ]
        },
        {
          "output_type": "stream",
          "name": "stderr",
          "text": [
            "\n",
            "15it [00:00, 27.38it/s]"
          ]
        },
        {
          "output_type": "stream",
          "name": "stdout",
          "text": [
            "Val Loss:0.1111, Val_Acc:83.33\n",
            "loss 0.1633 - accu 67.8348 - val_loss 0.1199 - val_accu 79.8512\n",
            "=> saved best model\n",
            "Epoch [56/1000]\n"
          ]
        },
        {
          "output_type": "stream",
          "name": "stderr",
          "text": [
            "\n",
            "100%|██████████| 60/60 [00:00<00:00, 65.54it/s]"
          ]
        },
        {
          "output_type": "stream",
          "name": "stdout",
          "text": [
            "Train Loss:0.1455, Train Acc:69.58\n",
            "validation start\n"
          ]
        },
        {
          "output_type": "stream",
          "name": "stderr",
          "text": [
            "\n",
            "15it [00:00, 29.00it/s]"
          ]
        },
        {
          "output_type": "stream",
          "name": "stdout",
          "text": [
            "Val Loss:0.1096, Val_Acc:88.33\n",
            "loss 0.1630 - accu 67.8655 - val_loss 0.1197 - val_accu 80.0000\n",
            "=> saved best model\n",
            "Epoch [57/1000]\n"
          ]
        },
        {
          "output_type": "stream",
          "name": "stderr",
          "text": [
            "\n",
            "100%|██████████| 60/60 [00:00<00:00, 65.87it/s]"
          ]
        },
        {
          "output_type": "stream",
          "name": "stdout",
          "text": [
            "Train Loss:0.1472, Train Acc:69.17\n",
            "validation start\n"
          ]
        },
        {
          "output_type": "stream",
          "name": "stderr",
          "text": [
            "\n",
            "15it [00:00, 26.65it/s]"
          ]
        },
        {
          "output_type": "stream",
          "name": "stdout",
          "text": [
            "Val Loss:0.1532, Val_Acc:63.33\n",
            "loss 0.1627 - accu 67.8879 - val_loss 0.1203 - val_accu 79.7126\n",
            "Epoch [58/1000]\n"
          ]
        },
        {
          "output_type": "stream",
          "name": "stderr",
          "text": [
            "\n",
            "100%|██████████| 60/60 [00:00<00:00, 62.97it/s]"
          ]
        },
        {
          "output_type": "stream",
          "name": "stdout",
          "text": [
            "Train Loss:0.1365, Train Acc:72.50\n",
            "validation start\n"
          ]
        },
        {
          "output_type": "stream",
          "name": "stderr",
          "text": [
            "\n",
            "15it [00:00, 29.40it/s]"
          ]
        },
        {
          "output_type": "stream",
          "name": "stdout",
          "text": [
            "Val Loss:0.1036, Val_Acc:85.00\n",
            "loss 0.1622 - accu 67.9661 - val_loss 0.1200 - val_accu 79.8023\n",
            "Epoch [59/1000]\n"
          ]
        },
        {
          "output_type": "stream",
          "name": "stderr",
          "text": [
            "\n",
            "100%|██████████| 60/60 [00:00<00:00, 65.17it/s]"
          ]
        },
        {
          "output_type": "stream",
          "name": "stdout",
          "text": [
            "Train Loss:0.1345, Train Acc:75.83\n",
            "validation start\n"
          ]
        },
        {
          "output_type": "stream",
          "name": "stderr",
          "text": [
            "\n",
            "15it [00:00, 27.06it/s]"
          ]
        },
        {
          "output_type": "stream",
          "name": "stdout",
          "text": [
            "Val Loss:0.1102, Val_Acc:86.67\n",
            "loss 0.1618 - accu 68.0972 - val_loss 0.1199 - val_accu 79.9167\n",
            "Epoch [60/1000]\n"
          ]
        },
        {
          "output_type": "stream",
          "name": "stderr",
          "text": [
            "\n",
            "100%|██████████| 60/60 [00:00<00:00, 64.73it/s]"
          ]
        },
        {
          "output_type": "stream",
          "name": "stdout",
          "text": [
            "Train Loss:0.1475, Train Acc:72.08\n",
            "validation start\n"
          ]
        },
        {
          "output_type": "stream",
          "name": "stderr",
          "text": [
            "\n",
            "15it [00:00, 28.24it/s]"
          ]
        },
        {
          "output_type": "stream",
          "name": "stdout",
          "text": [
            "Val Loss:0.1019, Val_Acc:85.00\n",
            "loss 0.1615 - accu 68.1626 - val_loss 0.1196 - val_accu 80.0000\n",
            "Epoch [61/1000]\n"
          ]
        },
        {
          "output_type": "stream",
          "name": "stderr",
          "text": [
            "\n",
            "100%|██████████| 60/60 [00:00<00:00, 63.77it/s]"
          ]
        },
        {
          "output_type": "stream",
          "name": "stdout",
          "text": [
            "Train Loss:0.1444, Train Acc:71.67\n",
            "validation start\n"
          ]
        },
        {
          "output_type": "stream",
          "name": "stderr",
          "text": [
            "\n",
            "15it [00:00, 26.76it/s]\n"
          ]
        },
        {
          "output_type": "stream",
          "name": "stdout",
          "text": [
            "Val Loss:0.1117, Val_Acc:88.33\n",
            "loss 0.1613 - accu 68.2191 - val_loss 0.1194 - val_accu 80.1344\n",
            "=> saved best model\n",
            "Epoch [62/1000]\n"
          ]
        },
        {
          "output_type": "stream",
          "name": "stderr",
          "text": [
            "100%|██████████| 60/60 [00:00<00:00, 60.85it/s]"
          ]
        },
        {
          "output_type": "stream",
          "name": "stdout",
          "text": [
            "Train Loss:0.1392, Train Acc:68.75\n",
            "validation start\n"
          ]
        },
        {
          "output_type": "stream",
          "name": "stderr",
          "text": [
            "\n",
            "15it [00:00, 29.47it/s]"
          ]
        },
        {
          "output_type": "stream",
          "name": "stdout",
          "text": [
            "Val Loss:0.1119, Val_Acc:88.33\n",
            "loss 0.1609 - accu 68.2275 - val_loss 0.1193 - val_accu 80.2646\n",
            "=> saved best model\n",
            "Epoch [63/1000]\n"
          ]
        },
        {
          "output_type": "stream",
          "name": "stderr",
          "text": [
            "\n",
            "100%|██████████| 60/60 [00:00<00:00, 62.88it/s]"
          ]
        },
        {
          "output_type": "stream",
          "name": "stdout",
          "text": [
            "Train Loss:0.1368, Train Acc:76.25\n",
            "validation start\n"
          ]
        },
        {
          "output_type": "stream",
          "name": "stderr",
          "text": [
            "\n",
            "15it [00:00, 27.29it/s]"
          ]
        },
        {
          "output_type": "stream",
          "name": "stdout",
          "text": [
            "Val Loss:0.1128, Val_Acc:86.67\n",
            "loss 0.1605 - accu 68.3529 - val_loss 0.1192 - val_accu 80.3646\n",
            "=> saved best model\n",
            "Epoch [64/1000]\n"
          ]
        },
        {
          "output_type": "stream",
          "name": "stderr",
          "text": [
            "\n",
            "100%|██████████| 60/60 [00:00<00:00, 65.91it/s]\n"
          ]
        },
        {
          "output_type": "stream",
          "name": "stdout",
          "text": [
            "Train Loss:0.1419, Train Acc:72.92\n",
            "validation start\n"
          ]
        },
        {
          "output_type": "stream",
          "name": "stderr",
          "text": [
            "15it [00:00, 28.14it/s]"
          ]
        },
        {
          "output_type": "stream",
          "name": "stdout",
          "text": [
            "Val Loss:0.1049, Val_Acc:86.67\n",
            "loss 0.1603 - accu 68.4231 - val_loss 0.1190 - val_accu 80.4615\n",
            "=> saved best model\n",
            "Epoch [65/1000]\n"
          ]
        },
        {
          "output_type": "stream",
          "name": "stderr",
          "text": [
            "\n",
            "100%|██████████| 60/60 [00:01<00:00, 59.34it/s]"
          ]
        },
        {
          "output_type": "stream",
          "name": "stdout",
          "text": [
            "Train Loss:0.1359, Train Acc:74.17\n",
            "validation start\n"
          ]
        },
        {
          "output_type": "stream",
          "name": "stderr",
          "text": [
            "\n",
            "15it [00:00, 28.35it/s]"
          ]
        },
        {
          "output_type": "stream",
          "name": "stdout",
          "text": [
            "Val Loss:0.1098, Val_Acc:86.67\n",
            "loss 0.1599 - accu 68.5101 - val_loss 0.1189 - val_accu 80.5556\n",
            "=> saved best model\n",
            "Epoch [66/1000]\n"
          ]
        },
        {
          "output_type": "stream",
          "name": "stderr",
          "text": [
            "\n",
            "100%|██████████| 60/60 [00:01<00:00, 58.80it/s]"
          ]
        },
        {
          "output_type": "stream",
          "name": "stdout",
          "text": [
            "Train Loss:0.1427, Train Acc:70.00\n",
            "validation start\n"
          ]
        },
        {
          "output_type": "stream",
          "name": "stderr",
          "text": [
            "\n",
            "15it [00:00, 27.19it/s]"
          ]
        },
        {
          "output_type": "stream",
          "name": "stdout",
          "text": [
            "Val Loss:0.1005, Val_Acc:85.00\n",
            "loss 0.1596 - accu 68.5323 - val_loss 0.1186 - val_accu 80.6219\n",
            "=> saved best model\n",
            "Epoch [67/1000]\n"
          ]
        },
        {
          "output_type": "stream",
          "name": "stderr",
          "text": [
            "\n",
            "100%|██████████| 60/60 [00:00<00:00, 65.35it/s]"
          ]
        },
        {
          "output_type": "stream",
          "name": "stdout",
          "text": [
            "Train Loss:0.1414, Train Acc:74.58\n",
            "validation start\n"
          ]
        },
        {
          "output_type": "stream",
          "name": "stderr",
          "text": [
            "\n",
            "15it [00:00, 28.31it/s]"
          ]
        },
        {
          "output_type": "stream",
          "name": "stdout",
          "text": [
            "Val Loss:0.1061, Val_Acc:86.67\n",
            "loss 0.1594 - accu 68.6213 - val_loss 0.1184 - val_accu 80.7108\n",
            "=> saved best model\n",
            "Epoch [68/1000]\n"
          ]
        },
        {
          "output_type": "stream",
          "name": "stderr",
          "text": [
            "\n",
            "100%|██████████| 60/60 [00:00<00:00, 65.38it/s]"
          ]
        },
        {
          "output_type": "stream",
          "name": "stdout",
          "text": [
            "Train Loss:0.1302, Train Acc:71.67\n",
            "validation start\n"
          ]
        },
        {
          "output_type": "stream",
          "name": "stderr",
          "text": [
            "\n",
            "15it [00:00, 25.96it/s]                      \n"
          ]
        },
        {
          "output_type": "stream",
          "name": "stdout",
          "text": [
            "Val Loss:0.0985, Val_Acc:85.00\n",
            "loss 0.1589 - accu 68.6655 - val_loss 0.1181 - val_accu 80.7729\n",
            "=> saved best model\n",
            "Epoch [69/1000]\n"
          ]
        },
        {
          "output_type": "stream",
          "name": "stderr",
          "text": [
            "100%|██████████| 60/60 [00:01<00:00, 59.24it/s] "
          ]
        },
        {
          "output_type": "stream",
          "name": "stdout",
          "text": [
            "Train Loss:0.1239, Train Acc:78.75\n",
            "validation start\n"
          ]
        },
        {
          "output_type": "stream",
          "name": "stderr",
          "text": [
            "\n",
            "15it [00:00, 27.43it/s]\n"
          ]
        },
        {
          "output_type": "stream",
          "name": "stdout",
          "text": [
            "Val Loss:0.1195, Val_Acc:75.00\n",
            "loss 0.1584 - accu 68.8095 - val_loss 0.1181 - val_accu 80.6905\n",
            "Epoch [70/1000]\n"
          ]
        },
        {
          "output_type": "stream",
          "name": "stderr",
          "text": [
            "100%|██████████| 60/60 [00:00<00:00, 60.87it/s] "
          ]
        },
        {
          "output_type": "stream",
          "name": "stdout",
          "text": [
            "Train Loss:0.1424, Train Acc:71.25\n",
            "validation start\n"
          ]
        },
        {
          "output_type": "stream",
          "name": "stderr",
          "text": [
            "\n",
            "15it [00:00, 25.58it/s]"
          ]
        },
        {
          "output_type": "stream",
          "name": "stdout",
          "text": [
            "Val Loss:0.1035, Val_Acc:88.33\n",
            "loss 0.1582 - accu 68.8439 - val_loss 0.1179 - val_accu 80.7981\n",
            "=> saved best model\n",
            "Epoch [71/1000]\n"
          ]
        },
        {
          "output_type": "stream",
          "name": "stderr",
          "text": [
            "\n",
            "100%|██████████| 60/60 [00:00<00:00, 60.12it/s]"
          ]
        },
        {
          "output_type": "stream",
          "name": "stdout",
          "text": [
            "Train Loss:0.1385, Train Acc:71.25\n",
            "validation start\n"
          ]
        },
        {
          "output_type": "stream",
          "name": "stderr",
          "text": [
            "\n",
            "15it [00:00, 24.54it/s]"
          ]
        },
        {
          "output_type": "stream",
          "name": "stdout",
          "text": [
            "Val Loss:0.0952, Val_Acc:85.00\n",
            "loss 0.1579 - accu 68.8773 - val_loss 0.1176 - val_accu 80.8565\n",
            "=> saved best model\n",
            "Epoch [72/1000]\n"
          ]
        },
        {
          "output_type": "stream",
          "name": "stderr",
          "text": [
            "\n",
            "100%|██████████| 60/60 [00:00<00:00, 64.09it/s]"
          ]
        },
        {
          "output_type": "stream",
          "name": "stdout",
          "text": [
            "Train Loss:0.1495, Train Acc:71.67\n",
            "validation start\n"
          ]
        },
        {
          "output_type": "stream",
          "name": "stderr",
          "text": [
            "\n",
            "15it [00:00, 27.93it/s]"
          ]
        },
        {
          "output_type": "stream",
          "name": "stdout",
          "text": [
            "Val Loss:0.1069, Val_Acc:85.00\n",
            "loss 0.1578 - accu 68.9155 - val_loss 0.1175 - val_accu 80.9132\n",
            "=> saved best model\n",
            "Epoch [73/1000]\n"
          ]
        },
        {
          "output_type": "stream",
          "name": "stderr",
          "text": [
            "\n",
            "100%|██████████| 60/60 [00:00<00:00, 63.79it/s]"
          ]
        },
        {
          "output_type": "stream",
          "name": "stdout",
          "text": [
            "Train Loss:0.1353, Train Acc:75.00\n",
            "validation start\n"
          ]
        },
        {
          "output_type": "stream",
          "name": "stderr",
          "text": [
            "\n",
            "15it [00:00, 26.44it/s]"
          ]
        },
        {
          "output_type": "stream",
          "name": "stdout",
          "text": [
            "Val Loss:0.1225, Val_Acc:75.00\n",
            "loss 0.1575 - accu 68.9977 - val_loss 0.1175 - val_accu 80.8333\n",
            "Epoch [74/1000]\n"
          ]
        },
        {
          "output_type": "stream",
          "name": "stderr",
          "text": [
            "\n",
            "100%|██████████| 60/60 [00:00<00:00, 67.47it/s] "
          ]
        },
        {
          "output_type": "stream",
          "name": "stdout",
          "text": [
            "Train Loss:0.1302, Train Acc:71.67\n",
            "validation start\n"
          ]
        },
        {
          "output_type": "stream",
          "name": "stderr",
          "text": [
            "\n",
            "15it [00:00, 25.29it/s]                      "
          ]
        },
        {
          "output_type": "stream",
          "name": "stdout",
          "text": [
            "Val Loss:0.1039, Val_Acc:85.00\n",
            "loss 0.1572 - accu 69.0333 - val_loss 0.1173 - val_accu 80.8889\n",
            "Epoch [75/1000]\n"
          ]
        },
        {
          "output_type": "stream",
          "name": "stderr",
          "text": [
            "\n",
            "100%|██████████| 60/60 [00:00<00:00, 60.88it/s]"
          ]
        },
        {
          "output_type": "stream",
          "name": "stdout",
          "text": [
            "Train Loss:0.1314, Train Acc:74.58\n",
            "validation start\n"
          ]
        },
        {
          "output_type": "stream",
          "name": "stderr",
          "text": [
            "\n",
            "15it [00:00, 26.00it/s]"
          ]
        },
        {
          "output_type": "stream",
          "name": "stdout",
          "text": [
            "Val Loss:0.0972, Val_Acc:88.33\n",
            "loss 0.1568 - accu 69.1064 - val_loss 0.1171 - val_accu 80.9868\n",
            "=> saved best model\n",
            "Epoch [76/1000]\n"
          ]
        },
        {
          "output_type": "stream",
          "name": "stderr",
          "text": [
            "\n",
            "100%|██████████| 60/60 [00:00<00:00, 60.41it/s]"
          ]
        },
        {
          "output_type": "stream",
          "name": "stdout",
          "text": [
            "Train Loss:0.1346, Train Acc:70.83\n",
            "validation start\n"
          ]
        },
        {
          "output_type": "stream",
          "name": "stderr",
          "text": [
            "\n",
            "15it [00:00, 30.39it/s]"
          ]
        },
        {
          "output_type": "stream",
          "name": "stdout",
          "text": [
            "Val Loss:0.0952, Val_Acc:83.33\n",
            "loss 0.1565 - accu 69.1288 - val_loss 0.1168 - val_accu 81.0173\n",
            "=> saved best model\n",
            "Epoch [77/1000]\n"
          ]
        },
        {
          "output_type": "stream",
          "name": "stderr",
          "text": [
            "\n",
            "100%|██████████| 60/60 [00:00<00:00, 65.61it/s] "
          ]
        },
        {
          "output_type": "stream",
          "name": "stdout",
          "text": [
            "Train Loss:0.1338, Train Acc:74.58\n",
            "validation start\n"
          ]
        },
        {
          "output_type": "stream",
          "name": "stderr",
          "text": [
            "\n",
            "15it [00:00, 27.89it/s]"
          ]
        },
        {
          "output_type": "stream",
          "name": "stdout",
          "text": [
            "Val Loss:0.1201, Val_Acc:76.67\n",
            "loss 0.1562 - accu 69.1987 - val_loss 0.1168 - val_accu 80.9615\n",
            "Epoch [78/1000]\n"
          ]
        },
        {
          "output_type": "stream",
          "name": "stderr",
          "text": [
            "\n",
            "100%|██████████| 60/60 [00:00<00:00, 64.55it/s]"
          ]
        },
        {
          "output_type": "stream",
          "name": "stdout",
          "text": [
            "Train Loss:0.1411, Train Acc:74.58\n",
            "validation start\n"
          ]
        },
        {
          "output_type": "stream",
          "name": "stderr",
          "text": [
            "\n",
            "15it [00:00, 28.18it/s]"
          ]
        },
        {
          "output_type": "stream",
          "name": "stdout",
          "text": [
            "Val Loss:0.1086, Val_Acc:81.67\n",
            "loss 0.1560 - accu 69.2669 - val_loss 0.1167 - val_accu 80.9705\n",
            "Epoch [79/1000]\n"
          ]
        },
        {
          "output_type": "stream",
          "name": "stderr",
          "text": [
            "\n",
            "100%|██████████| 60/60 [00:00<00:00, 62.62it/s] "
          ]
        },
        {
          "output_type": "stream",
          "name": "stdout",
          "text": [
            "Train Loss:0.1387, Train Acc:70.42\n",
            "validation start\n"
          ]
        },
        {
          "output_type": "stream",
          "name": "stderr",
          "text": [
            "\n",
            "15it [00:00, 24.41it/s]                      "
          ]
        },
        {
          "output_type": "stream",
          "name": "stdout",
          "text": [
            "Val Loss:0.1025, Val_Acc:90.00\n",
            "loss 0.1558 - accu 69.2812 - val_loss 0.1166 - val_accu 81.0833\n",
            "=> saved best model\n",
            "Epoch [80/1000]\n"
          ]
        },
        {
          "output_type": "stream",
          "name": "stderr",
          "text": [
            "\n",
            "100%|██████████| 60/60 [00:00<00:00, 63.17it/s] "
          ]
        },
        {
          "output_type": "stream",
          "name": "stdout",
          "text": [
            "Train Loss:0.1346, Train Acc:72.08\n",
            "validation start\n"
          ]
        },
        {
          "output_type": "stream",
          "name": "stderr",
          "text": [
            "\n",
            "15it [00:00, 26.34it/s]"
          ]
        },
        {
          "output_type": "stream",
          "name": "stdout",
          "text": [
            "Val Loss:0.0994, Val_Acc:86.67\n",
            "loss 0.1556 - accu 69.3158 - val_loss 0.1163 - val_accu 81.1523\n",
            "=> saved best model\n",
            "Epoch [81/1000]\n"
          ]
        },
        {
          "output_type": "stream",
          "name": "stderr",
          "text": [
            "\n",
            "100%|██████████| 60/60 [00:00<00:00, 63.29it/s]"
          ]
        },
        {
          "output_type": "stream",
          "name": "stdout",
          "text": [
            "Train Loss:0.1374, Train Acc:75.00\n",
            "validation start\n"
          ]
        },
        {
          "output_type": "stream",
          "name": "stderr",
          "text": [
            "\n",
            "15it [00:00, 25.75it/s]"
          ]
        },
        {
          "output_type": "stream",
          "name": "stdout",
          "text": [
            "Val Loss:0.1052, Val_Acc:88.33\n",
            "loss 0.1553 - accu 69.3852 - val_loss 0.1162 - val_accu 81.2398\n",
            "=> saved best model\n",
            "Epoch [82/1000]\n"
          ]
        },
        {
          "output_type": "stream",
          "name": "stderr",
          "text": [
            "\n",
            "100%|██████████| 60/60 [00:01<00:00, 58.14it/s]"
          ]
        },
        {
          "output_type": "stream",
          "name": "stdout",
          "text": [
            "Train Loss:0.1265, Train Acc:75.83\n",
            "validation start\n"
          ]
        },
        {
          "output_type": "stream",
          "name": "stderr",
          "text": [
            "\n",
            "15it [00:00, 26.67it/s]"
          ]
        },
        {
          "output_type": "stream",
          "name": "stdout",
          "text": [
            "Val Loss:0.0998, Val_Acc:85.00\n",
            "loss 0.1550 - accu 69.4629 - val_loss 0.1160 - val_accu 81.2851\n",
            "=> saved best model\n",
            "Epoch [83/1000]\n"
          ]
        },
        {
          "output_type": "stream",
          "name": "stderr",
          "text": [
            "\n",
            "100%|██████████| 60/60 [00:00<00:00, 61.28it/s]"
          ]
        },
        {
          "output_type": "stream",
          "name": "stdout",
          "text": [
            "Train Loss:0.1331, Train Acc:74.58\n",
            "validation start\n"
          ]
        },
        {
          "output_type": "stream",
          "name": "stderr",
          "text": [
            "\n",
            "15it [00:00, 26.90it/s]"
          ]
        },
        {
          "output_type": "stream",
          "name": "stdout",
          "text": [
            "Val Loss:0.1060, Val_Acc:88.33\n",
            "loss 0.1547 - accu 69.5238 - val_loss 0.1159 - val_accu 81.3690\n",
            "=> saved best model\n",
            "Epoch [84/1000]\n"
          ]
        },
        {
          "output_type": "stream",
          "name": "stderr",
          "text": [
            "\n",
            "100%|██████████| 60/60 [00:00<00:00, 62.49it/s]"
          ]
        },
        {
          "output_type": "stream",
          "name": "stdout",
          "text": [
            "Train Loss:0.1317, Train Acc:73.33\n",
            "validation start\n"
          ]
        },
        {
          "output_type": "stream",
          "name": "stderr",
          "text": [
            "\n",
            "15it [00:00, 25.78it/s]"
          ]
        },
        {
          "output_type": "stream",
          "name": "stdout",
          "text": [
            "Val Loss:0.0984, Val_Acc:86.67\n",
            "loss 0.1545 - accu 69.5686 - val_loss 0.1157 - val_accu 81.4314\n",
            "=> saved best model\n",
            "Epoch [85/1000]\n"
          ]
        },
        {
          "output_type": "stream",
          "name": "stderr",
          "text": [
            "\n",
            "100%|██████████| 60/60 [00:00<00:00, 64.08it/s]"
          ]
        },
        {
          "output_type": "stream",
          "name": "stdout",
          "text": [
            "Train Loss:0.1431, Train Acc:77.50\n",
            "validation start\n"
          ]
        },
        {
          "output_type": "stream",
          "name": "stderr",
          "text": [
            "\n",
            "15it [00:00, 23.94it/s]"
          ]
        },
        {
          "output_type": "stream",
          "name": "stdout",
          "text": [
            "Val Loss:0.1008, Val_Acc:85.00\n",
            "loss 0.1543 - accu 69.6609 - val_loss 0.1155 - val_accu 81.4729\n",
            "=> saved best model\n",
            "Epoch [86/1000]\n"
          ]
        },
        {
          "output_type": "stream",
          "name": "stderr",
          "text": [
            "\n",
            "100%|██████████| 60/60 [00:00<00:00, 63.44it/s]"
          ]
        },
        {
          "output_type": "stream",
          "name": "stdout",
          "text": [
            "Train Loss:0.1411, Train Acc:73.75\n",
            "validation start\n"
          ]
        },
        {
          "output_type": "stream",
          "name": "stderr",
          "text": [
            "\n",
            "15it [00:00, 27.76it/s]"
          ]
        },
        {
          "output_type": "stream",
          "name": "stdout",
          "text": [
            "Val Loss:0.1010, Val_Acc:88.33\n",
            "loss 0.1542 - accu 69.7079 - val_loss 0.1153 - val_accu 81.5517\n",
            "=> saved best model\n",
            "Epoch [87/1000]\n"
          ]
        },
        {
          "output_type": "stream",
          "name": "stderr",
          "text": [
            "\n",
            "100%|██████████| 60/60 [00:00<00:00, 63.00it/s]"
          ]
        },
        {
          "output_type": "stream",
          "name": "stdout",
          "text": [
            "Train Loss:0.1351, Train Acc:73.33\n",
            "validation start\n"
          ]
        },
        {
          "output_type": "stream",
          "name": "stderr",
          "text": [
            "\n",
            "15it [00:00, 24.83it/s]"
          ]
        },
        {
          "output_type": "stream",
          "name": "stdout",
          "text": [
            "Val Loss:0.1051, Val_Acc:88.33\n",
            "loss 0.1540 - accu 69.7491 - val_loss 0.1152 - val_accu 81.6288\n",
            "=> saved best model\n",
            "Epoch [88/1000]\n"
          ]
        },
        {
          "output_type": "stream",
          "name": "stderr",
          "text": [
            "\n",
            "100%|██████████| 60/60 [00:00<00:00, 60.47it/s]"
          ]
        },
        {
          "output_type": "stream",
          "name": "stdout",
          "text": [
            "Train Loss:0.1389, Train Acc:70.00\n",
            "validation start\n"
          ]
        },
        {
          "output_type": "stream",
          "name": "stderr",
          "text": [
            "\n",
            "15it [00:00, 26.31it/s]                      "
          ]
        },
        {
          "output_type": "stream",
          "name": "stdout",
          "text": [
            "Val Loss:0.1038, Val_Acc:88.33\n",
            "loss 0.1538 - accu 69.7519 - val_loss 0.1151 - val_accu 81.7041\n",
            "=> saved best model\n",
            "Epoch [89/1000]\n"
          ]
        },
        {
          "output_type": "stream",
          "name": "stderr",
          "text": [
            "\n",
            "100%|██████████| 60/60 [00:01<00:00, 59.59it/s]"
          ]
        },
        {
          "output_type": "stream",
          "name": "stdout",
          "text": [
            "Train Loss:0.1312, Train Acc:73.75\n",
            "validation start\n"
          ]
        },
        {
          "output_type": "stream",
          "name": "stderr",
          "text": [
            "\n",
            "15it [00:00, 26.67it/s]"
          ]
        },
        {
          "output_type": "stream",
          "name": "stdout",
          "text": [
            "Val Loss:0.1057, Val_Acc:86.67\n",
            "loss 0.1535 - accu 69.7963 - val_loss 0.1150 - val_accu 81.7593\n",
            "=> saved best model\n",
            "Epoch [90/1000]\n"
          ]
        },
        {
          "output_type": "stream",
          "name": "stderr",
          "text": [
            "\n",
            "100%|██████████| 60/60 [00:01<00:00, 59.29it/s]"
          ]
        },
        {
          "output_type": "stream",
          "name": "stdout",
          "text": [
            "Train Loss:0.1340, Train Acc:72.92\n",
            "validation start\n"
          ]
        },
        {
          "output_type": "stream",
          "name": "stderr",
          "text": [
            "\n",
            "15it [00:00, 25.87it/s]\n"
          ]
        },
        {
          "output_type": "stream",
          "name": "stdout",
          "text": [
            "Val Loss:0.1072, Val_Acc:88.33\n",
            "loss 0.1533 - accu 69.8306 - val_loss 0.1149 - val_accu 81.8315\n",
            "=> saved best model\n",
            "Epoch [91/1000]\n"
          ]
        },
        {
          "output_type": "stream",
          "name": "stderr",
          "text": [
            "100%|██████████| 60/60 [00:00<00:00, 62.11it/s] "
          ]
        },
        {
          "output_type": "stream",
          "name": "stdout",
          "text": [
            "Train Loss:0.1323, Train Acc:74.17\n",
            "validation start\n"
          ]
        },
        {
          "output_type": "stream",
          "name": "stderr",
          "text": [
            "\n",
            "15it [00:00, 25.34it/s]"
          ]
        },
        {
          "output_type": "stream",
          "name": "stdout",
          "text": [
            "Val Loss:0.1014, Val_Acc:85.00\n",
            "loss 0.1531 - accu 69.8777 - val_loss 0.1148 - val_accu 81.8659\n",
            "=> saved best model\n",
            "Epoch [92/1000]\n"
          ]
        },
        {
          "output_type": "stream",
          "name": "stderr",
          "text": [
            "\n",
            "100%|██████████| 60/60 [00:00<00:00, 61.75it/s]\n"
          ]
        },
        {
          "output_type": "stream",
          "name": "stdout",
          "text": [
            "Train Loss:0.1347, Train Acc:72.92\n",
            "validation start\n"
          ]
        },
        {
          "output_type": "stream",
          "name": "stderr",
          "text": [
            "15it [00:00, 27.34it/s]"
          ]
        },
        {
          "output_type": "stream",
          "name": "stdout",
          "text": [
            "Val Loss:0.1084, Val_Acc:88.33\n",
            "loss 0.1529 - accu 69.9104 - val_loss 0.1147 - val_accu 81.9355\n",
            "=> saved best model\n",
            "Epoch [93/1000]\n"
          ]
        },
        {
          "output_type": "stream",
          "name": "stderr",
          "text": [
            "\n",
            "100%|██████████| 60/60 [00:00<00:00, 61.73it/s]"
          ]
        },
        {
          "output_type": "stream",
          "name": "stdout",
          "text": [
            "Train Loss:0.1317, Train Acc:73.75\n",
            "validation start\n"
          ]
        },
        {
          "output_type": "stream",
          "name": "stderr",
          "text": [
            "\n",
            "15it [00:00, 29.12it/s]"
          ]
        },
        {
          "output_type": "stream",
          "name": "stdout",
          "text": [
            "Val Loss:0.1018, Val_Acc:88.33\n",
            "loss 0.1527 - accu 69.9512 - val_loss 0.1146 - val_accu 82.0035\n",
            "=> saved best model\n",
            "Epoch [94/1000]\n"
          ]
        },
        {
          "output_type": "stream",
          "name": "stderr",
          "text": [
            "\n",
            "100%|██████████| 60/60 [00:01<00:00, 59.84it/s]"
          ]
        },
        {
          "output_type": "stream",
          "name": "stdout",
          "text": [
            "Train Loss:0.1325, Train Acc:73.75\n",
            "validation start\n"
          ]
        },
        {
          "output_type": "stream",
          "name": "stderr",
          "text": [
            "\n",
            "15it [00:00, 26.77it/s]\n"
          ]
        },
        {
          "output_type": "stream",
          "name": "stdout",
          "text": [
            "Val Loss:0.1018, Val_Acc:81.67\n",
            "loss 0.1525 - accu 69.9912 - val_loss 0.1144 - val_accu 82.0000\n",
            "Epoch [95/1000]\n"
          ]
        },
        {
          "output_type": "stream",
          "name": "stderr",
          "text": [
            "100%|██████████| 60/60 [00:00<00:00, 61.46it/s]"
          ]
        },
        {
          "output_type": "stream",
          "name": "stdout",
          "text": [
            "Train Loss:0.1302, Train Acc:75.42\n",
            "validation start\n"
          ]
        },
        {
          "output_type": "stream",
          "name": "stderr",
          "text": [
            "\n",
            "15it [00:00, 23.72it/s]                      "
          ]
        },
        {
          "output_type": "stream",
          "name": "stdout",
          "text": [
            "Val Loss:0.1076, Val_Acc:88.33\n",
            "loss 0.1522 - accu 70.0477 - val_loss 0.1144 - val_accu 82.0660\n",
            "=> saved best model\n",
            "Epoch [96/1000]\n"
          ]
        },
        {
          "output_type": "stream",
          "name": "stderr",
          "text": [
            "\n",
            "100%|██████████| 60/60 [00:00<00:00, 61.61it/s] "
          ]
        },
        {
          "output_type": "stream",
          "name": "stdout",
          "text": [
            "Train Loss:0.1361, Train Acc:72.50\n",
            "validation start\n"
          ]
        },
        {
          "output_type": "stream",
          "name": "stderr",
          "text": [
            "\n",
            "15it [00:00, 27.02it/s]"
          ]
        },
        {
          "output_type": "stream",
          "name": "stdout",
          "text": [
            "Val Loss:0.0991, Val_Acc:88.33\n",
            "loss 0.1521 - accu 70.0730 - val_loss 0.1142 - val_accu 82.1306\n",
            "=> saved best model\n",
            "Epoch [97/1000]\n"
          ]
        },
        {
          "output_type": "stream",
          "name": "stderr",
          "text": [
            "\n",
            "100%|██████████| 60/60 [00:00<00:00, 62.07it/s]"
          ]
        },
        {
          "output_type": "stream",
          "name": "stdout",
          "text": [
            "Train Loss:0.1465, Train Acc:72.08\n",
            "validation start\n"
          ]
        },
        {
          "output_type": "stream",
          "name": "stderr",
          "text": [
            "\n",
            "15it [00:00, 25.12it/s]"
          ]
        },
        {
          "output_type": "stream",
          "name": "stdout",
          "text": [
            "Val Loss:0.1001, Val_Acc:85.00\n",
            "loss 0.1520 - accu 70.0935 - val_loss 0.1141 - val_accu 82.1599\n",
            "=> saved best model\n",
            "Epoch [98/1000]\n"
          ]
        },
        {
          "output_type": "stream",
          "name": "stderr",
          "text": [
            "\n",
            "100%|██████████| 60/60 [00:01<00:00, 59.01it/s]"
          ]
        },
        {
          "output_type": "stream",
          "name": "stdout",
          "text": [
            "Train Loss:0.1346, Train Acc:75.42\n",
            "validation start\n"
          ]
        },
        {
          "output_type": "stream",
          "name": "stderr",
          "text": [
            "\n",
            "15it [00:00, 26.06it/s]"
          ]
        },
        {
          "output_type": "stream",
          "name": "stdout",
          "text": [
            "Val Loss:0.1109, Val_Acc:85.00\n",
            "loss 0.1518 - accu 70.1473 - val_loss 0.1140 - val_accu 82.1886\n",
            "=> saved best model\n",
            "Epoch [99/1000]\n"
          ]
        },
        {
          "output_type": "stream",
          "name": "stderr",
          "text": [
            "\n",
            "100%|██████████| 60/60 [00:01<00:00, 59.31it/s]"
          ]
        },
        {
          "output_type": "stream",
          "name": "stdout",
          "text": [
            "Train Loss:0.1283, Train Acc:73.75\n",
            "validation start\n"
          ]
        },
        {
          "output_type": "stream",
          "name": "stderr",
          "text": [
            "\n",
            "15it [00:00, 28.07it/s]"
          ]
        },
        {
          "output_type": "stream",
          "name": "stdout",
          "text": [
            "Val Loss:0.0986, Val_Acc:86.67\n",
            "loss 0.1516 - accu 70.1833 - val_loss 0.1139 - val_accu 82.2333\n",
            "=> saved best model\n",
            "Epoch [100/1000]\n"
          ]
        },
        {
          "output_type": "stream",
          "name": "stderr",
          "text": [
            "\n",
            "100%|██████████| 60/60 [00:01<00:00, 59.64it/s]"
          ]
        },
        {
          "output_type": "stream",
          "name": "stdout",
          "text": [
            "Train Loss:0.1325, Train Acc:75.83\n",
            "validation start\n"
          ]
        },
        {
          "output_type": "stream",
          "name": "stderr",
          "text": [
            "\n",
            "15it [00:00, 22.94it/s]\n"
          ]
        },
        {
          "output_type": "stream",
          "name": "stdout",
          "text": [
            "Val Loss:0.1051, Val_Acc:85.00\n",
            "loss 0.1514 - accu 70.2393 - val_loss 0.1138 - val_accu 82.2607\n",
            "=> saved best model\n",
            "Epoch [101/1000]\n"
          ]
        },
        {
          "output_type": "stream",
          "name": "stderr",
          "text": [
            "100%|██████████| 60/60 [00:01<00:00, 56.76it/s]"
          ]
        },
        {
          "output_type": "stream",
          "name": "stdout",
          "text": [
            "Train Loss:0.1386, Train Acc:74.17\n",
            "validation start\n"
          ]
        },
        {
          "output_type": "stream",
          "name": "stderr",
          "text": [
            "\n",
            "15it [00:00, 23.83it/s]"
          ]
        },
        {
          "output_type": "stream",
          "name": "stdout",
          "text": [
            "Val Loss:0.1207, Val_Acc:76.67\n",
            "loss 0.1513 - accu 70.2778 - val_loss 0.1139 - val_accu 82.2059\n",
            "Epoch [102/1000]\n"
          ]
        },
        {
          "output_type": "stream",
          "name": "stderr",
          "text": [
            "\n",
            "100%|██████████| 60/60 [00:00<00:00, 64.62it/s]"
          ]
        },
        {
          "output_type": "stream",
          "name": "stdout",
          "text": [
            "Train Loss:0.1358, Train Acc:72.50\n",
            "validation start\n"
          ]
        },
        {
          "output_type": "stream",
          "name": "stderr",
          "text": [
            "\n",
            "15it [00:00, 24.79it/s]\n"
          ]
        },
        {
          "output_type": "stream",
          "name": "stdout",
          "text": [
            "Val Loss:0.1072, Val_Acc:86.67\n",
            "loss 0.1511 - accu 70.2994 - val_loss 0.1138 - val_accu 82.2492\n",
            "Epoch [103/1000]\n"
          ]
        },
        {
          "output_type": "stream",
          "name": "stderr",
          "text": [
            "100%|██████████| 60/60 [00:01<00:00, 56.53it/s]"
          ]
        },
        {
          "output_type": "stream",
          "name": "stdout",
          "text": [
            "Train Loss:0.1312, Train Acc:73.33\n",
            "validation start\n"
          ]
        },
        {
          "output_type": "stream",
          "name": "stderr",
          "text": [
            "\n",
            "15it [00:00, 24.02it/s]"
          ]
        },
        {
          "output_type": "stream",
          "name": "stdout",
          "text": [
            "Val Loss:0.1070, Val_Acc:85.00\n",
            "loss 0.1509 - accu 70.3285 - val_loss 0.1137 - val_accu 82.2756\n",
            "=> saved best model\n",
            "Epoch [104/1000]\n"
          ]
        },
        {
          "output_type": "stream",
          "name": "stderr",
          "text": [
            "\n",
            "100%|██████████| 60/60 [00:01<00:00, 58.22it/s]"
          ]
        },
        {
          "output_type": "stream",
          "name": "stdout",
          "text": [
            "Train Loss:0.1383, Train Acc:72.08\n",
            "validation start\n"
          ]
        },
        {
          "output_type": "stream",
          "name": "stderr",
          "text": [
            "\n",
            "15it [00:00, 25.24it/s]\n"
          ]
        },
        {
          "output_type": "stream",
          "name": "stdout",
          "text": [
            "Val Loss:0.0977, Val_Acc:90.00\n",
            "loss 0.1508 - accu 70.3452 - val_loss 0.1136 - val_accu 82.3492\n",
            "=> saved best model\n",
            "Epoch [105/1000]\n"
          ]
        },
        {
          "output_type": "stream",
          "name": "stderr",
          "text": [
            "100%|██████████| 60/60 [00:01<00:00, 57.90it/s]"
          ]
        },
        {
          "output_type": "stream",
          "name": "stdout",
          "text": [
            "Train Loss:0.1347, Train Acc:71.67\n",
            "validation start\n"
          ]
        },
        {
          "output_type": "stream",
          "name": "stderr",
          "text": [
            "\n",
            "15it [00:00, 26.75it/s]"
          ]
        },
        {
          "output_type": "stream",
          "name": "stdout",
          "text": [
            "Val Loss:0.1118, Val_Acc:81.67\n",
            "loss 0.1507 - accu 70.3577 - val_loss 0.1136 - val_accu 82.3428\n",
            "Epoch [106/1000]\n"
          ]
        },
        {
          "output_type": "stream",
          "name": "stderr",
          "text": [
            "\n",
            "100%|██████████| 60/60 [00:01<00:00, 59.20it/s]"
          ]
        },
        {
          "output_type": "stream",
          "name": "stdout",
          "text": [
            "Train Loss:0.1307, Train Acc:74.17\n",
            "validation start\n"
          ]
        },
        {
          "output_type": "stream",
          "name": "stderr",
          "text": [
            "\n",
            "15it [00:00, 25.06it/s]\n"
          ]
        },
        {
          "output_type": "stream",
          "name": "stdout",
          "text": [
            "Val Loss:0.0988, Val_Acc:88.33\n",
            "loss 0.1505 - accu 70.3933 - val_loss 0.1134 - val_accu 82.3988\n",
            "=> saved best model\n",
            "Epoch [107/1000]\n"
          ]
        },
        {
          "output_type": "stream",
          "name": "stderr",
          "text": [
            "100%|██████████| 60/60 [00:00<00:00, 62.97it/s] "
          ]
        },
        {
          "output_type": "stream",
          "name": "stdout",
          "text": [
            "Train Loss:0.1321, Train Acc:71.25\n",
            "validation start\n"
          ]
        },
        {
          "output_type": "stream",
          "name": "stderr",
          "text": [
            "\n",
            "15it [00:00, 24.62it/s]                      \n"
          ]
        },
        {
          "output_type": "stream",
          "name": "stdout",
          "text": [
            "Val Loss:0.0944, Val_Acc:83.33\n",
            "loss 0.1503 - accu 70.4012 - val_loss 0.1132 - val_accu 82.4074\n",
            "=> saved best model\n",
            "Epoch [108/1000]\n"
          ]
        },
        {
          "output_type": "stream",
          "name": "stderr",
          "text": [
            "100%|██████████| 60/60 [00:00<00:00, 62.45it/s]"
          ]
        },
        {
          "output_type": "stream",
          "name": "stdout",
          "text": [
            "Train Loss:0.1356, Train Acc:72.92\n",
            "validation start\n"
          ]
        },
        {
          "output_type": "stream",
          "name": "stderr",
          "text": [
            "\n",
            "15it [00:00, 21.99it/s]"
          ]
        },
        {
          "output_type": "stream",
          "name": "stdout",
          "text": [
            "Val Loss:0.0967, Val_Acc:85.00\n",
            "loss 0.1502 - accu 70.4243 - val_loss 0.1131 - val_accu 82.4312\n",
            "=> saved best model\n",
            "Epoch [109/1000]\n"
          ]
        },
        {
          "output_type": "stream",
          "name": "stderr",
          "text": [
            "\n",
            "100%|██████████| 60/60 [00:00<00:00, 62.22it/s]"
          ]
        },
        {
          "output_type": "stream",
          "name": "stdout",
          "text": [
            "Train Loss:0.1358, Train Acc:74.17\n",
            "validation start\n"
          ]
        },
        {
          "output_type": "stream",
          "name": "stderr",
          "text": [
            "\n",
            "15it [00:00, 26.84it/s]"
          ]
        },
        {
          "output_type": "stream",
          "name": "stdout",
          "text": [
            "Val Loss:0.0959, Val_Acc:90.00\n",
            "loss 0.1500 - accu 70.4583 - val_loss 0.1129 - val_accu 82.5000\n",
            "=> saved best model\n",
            "Epoch [110/1000]\n"
          ]
        },
        {
          "output_type": "stream",
          "name": "stderr",
          "text": [
            "\n",
            "100%|██████████| 60/60 [00:01<00:00, 58.71it/s]"
          ]
        },
        {
          "output_type": "stream",
          "name": "stdout",
          "text": [
            "Train Loss:0.1359, Train Acc:72.92\n",
            "validation start\n"
          ]
        },
        {
          "output_type": "stream",
          "name": "stderr",
          "text": [
            "\n",
            "15it [00:00, 26.43it/s]                      "
          ]
        },
        {
          "output_type": "stream",
          "name": "stdout",
          "text": [
            "Val Loss:0.0959, Val_Acc:86.67\n",
            "loss 0.1499 - accu 70.4805 - val_loss 0.1128 - val_accu 82.5375\n",
            "=> saved best model\n",
            "Epoch [111/1000]\n"
          ]
        },
        {
          "output_type": "stream",
          "name": "stderr",
          "text": [
            "\n",
            "100%|██████████| 60/60 [00:01<00:00, 59.96it/s] "
          ]
        },
        {
          "output_type": "stream",
          "name": "stdout",
          "text": [
            "Train Loss:0.1375, Train Acc:71.25\n",
            "validation start\n"
          ]
        },
        {
          "output_type": "stream",
          "name": "stderr",
          "text": [
            "\n",
            "15it [00:00, 27.08it/s]"
          ]
        },
        {
          "output_type": "stream",
          "name": "stdout",
          "text": [
            "Val Loss:0.1026, Val_Acc:86.67\n",
            "loss 0.1498 - accu 70.4874 - val_loss 0.1127 - val_accu 82.5744\n",
            "=> saved best model\n",
            "Epoch [112/1000]\n"
          ]
        },
        {
          "output_type": "stream",
          "name": "stderr",
          "text": [
            "\n",
            "100%|██████████| 60/60 [00:00<00:00, 61.29it/s]"
          ]
        },
        {
          "output_type": "stream",
          "name": "stdout",
          "text": [
            "Train Loss:0.1341, Train Acc:73.33\n",
            "validation start\n"
          ]
        },
        {
          "output_type": "stream",
          "name": "stderr",
          "text": [
            "\n",
            "15it [00:00, 23.43it/s]"
          ]
        },
        {
          "output_type": "stream",
          "name": "stdout",
          "text": [
            "Val Loss:0.1036, Val_Acc:90.00\n",
            "loss 0.1497 - accu 70.5125 - val_loss 0.1126 - val_accu 82.6401\n",
            "=> saved best model\n",
            "Epoch [113/1000]\n"
          ]
        },
        {
          "output_type": "stream",
          "name": "stderr",
          "text": [
            "\n",
            "100%|██████████| 60/60 [00:00<00:00, 64.68it/s]"
          ]
        },
        {
          "output_type": "stream",
          "name": "stdout",
          "text": [
            "Train Loss:0.1298, Train Acc:72.08\n",
            "validation start\n"
          ]
        },
        {
          "output_type": "stream",
          "name": "stderr",
          "text": [
            "\n",
            "15it [00:00, 23.65it/s]\n"
          ]
        },
        {
          "output_type": "stream",
          "name": "stdout",
          "text": [
            "Val Loss:0.1011, Val_Acc:90.00\n",
            "loss 0.1495 - accu 70.5263 - val_loss 0.1125 - val_accu 82.7047\n",
            "=> saved best model\n",
            "Epoch [114/1000]\n"
          ]
        },
        {
          "output_type": "stream",
          "name": "stderr",
          "text": [
            "100%|██████████| 60/60 [00:01<00:00, 57.35it/s]"
          ]
        },
        {
          "output_type": "stream",
          "name": "stdout",
          "text": [
            "Train Loss:0.1276, Train Acc:76.25\n",
            "validation start\n"
          ]
        },
        {
          "output_type": "stream",
          "name": "stderr",
          "text": [
            "\n",
            "15it [00:00, 25.04it/s]                      \n"
          ]
        },
        {
          "output_type": "stream",
          "name": "stdout",
          "text": [
            "Val Loss:0.0966, Val_Acc:88.33\n",
            "loss 0.1493 - accu 70.5761 - val_loss 0.1124 - val_accu 82.7536\n",
            "=> saved best model\n",
            "Epoch [115/1000]\n"
          ]
        },
        {
          "output_type": "stream",
          "name": "stderr",
          "text": [
            "100%|██████████| 60/60 [00:01<00:00, 59.04it/s]\n"
          ]
        },
        {
          "output_type": "stream",
          "name": "stdout",
          "text": [
            "Train Loss:0.1255, Train Acc:78.33\n",
            "validation start\n"
          ]
        },
        {
          "output_type": "stream",
          "name": "stderr",
          "text": [
            "15it [00:00, 23.93it/s]"
          ]
        },
        {
          "output_type": "stream",
          "name": "stdout",
          "text": [
            "Val Loss:0.0983, Val_Acc:90.00\n",
            "loss 0.1491 - accu 70.6430 - val_loss 0.1122 - val_accu 82.8161\n",
            "=> saved best model\n",
            "Epoch [116/1000]\n"
          ]
        },
        {
          "output_type": "stream",
          "name": "stderr",
          "text": [
            "\n",
            "100%|██████████| 60/60 [00:01<00:00, 59.39it/s] "
          ]
        },
        {
          "output_type": "stream",
          "name": "stdout",
          "text": [
            "Train Loss:0.1308, Train Acc:75.42\n",
            "validation start\n"
          ]
        },
        {
          "output_type": "stream",
          "name": "stderr",
          "text": [
            "\n",
            "15it [00:00, 26.05it/s]"
          ]
        },
        {
          "output_type": "stream",
          "name": "stdout",
          "text": [
            "Val Loss:0.0984, Val_Acc:90.00\n",
            "loss 0.1489 - accu 70.6838 - val_loss 0.1121 - val_accu 82.8775\n",
            "=> saved best model\n",
            "Epoch [117/1000]\n"
          ]
        },
        {
          "output_type": "stream",
          "name": "stderr",
          "text": [
            "\n",
            "100%|██████████| 60/60 [00:01<00:00, 57.01it/s]"
          ]
        },
        {
          "output_type": "stream",
          "name": "stdout",
          "text": [
            "Train Loss:0.1228, Train Acc:77.08\n",
            "validation start\n"
          ]
        },
        {
          "output_type": "stream",
          "name": "stderr",
          "text": [
            "\n",
            "15it [00:00, 26.54it/s]"
          ]
        },
        {
          "output_type": "stream",
          "name": "stdout",
          "text": [
            "Val Loss:0.0942, Val_Acc:90.00\n",
            "loss 0.1487 - accu 70.7380 - val_loss 0.1120 - val_accu 82.9379\n",
            "=> saved best model\n",
            "Epoch [118/1000]\n"
          ]
        },
        {
          "output_type": "stream",
          "name": "stderr",
          "text": [
            "\n",
            "100%|██████████| 60/60 [00:01<00:00, 59.25it/s] "
          ]
        },
        {
          "output_type": "stream",
          "name": "stdout",
          "text": [
            "Train Loss:0.1248, Train Acc:75.42\n",
            "validation start\n"
          ]
        },
        {
          "output_type": "stream",
          "name": "stderr",
          "text": [
            "\n",
            "15it [00:00, 23.59it/s]\n"
          ]
        },
        {
          "output_type": "stream",
          "name": "stdout",
          "text": [
            "Val Loss:0.0953, Val_Acc:90.00\n",
            "loss 0.1485 - accu 70.7773 - val_loss 0.1118 - val_accu 82.9972\n",
            "=> saved best model\n",
            "Epoch [119/1000]\n"
          ]
        },
        {
          "output_type": "stream",
          "name": "stderr",
          "text": [
            "100%|██████████| 60/60 [00:01<00:00, 59.03it/s]"
          ]
        },
        {
          "output_type": "stream",
          "name": "stdout",
          "text": [
            "Train Loss:0.1279, Train Acc:77.50\n",
            "validation start\n"
          ]
        },
        {
          "output_type": "stream",
          "name": "stderr",
          "text": [
            "\n",
            "15it [00:00, 25.20it/s]"
          ]
        },
        {
          "output_type": "stream",
          "name": "stdout",
          "text": [
            "Val Loss:0.0920, Val_Acc:85.00\n",
            "loss 0.1483 - accu 70.8333 - val_loss 0.1117 - val_accu 83.0139\n",
            "=> saved best model\n",
            "Epoch [120/1000]\n"
          ]
        },
        {
          "output_type": "stream",
          "name": "stderr",
          "text": [
            "\n",
            "100%|██████████| 60/60 [00:01<00:00, 58.05it/s] "
          ]
        },
        {
          "output_type": "stream",
          "name": "stdout",
          "text": [
            "Train Loss:0.1239, Train Acc:77.92\n",
            "validation start\n"
          ]
        },
        {
          "output_type": "stream",
          "name": "stderr",
          "text": [
            "\n",
            "15it [00:00, 25.13it/s]"
          ]
        },
        {
          "output_type": "stream",
          "name": "stdout",
          "text": [
            "Val Loss:0.0950, Val_Acc:88.33\n",
            "loss 0.1481 - accu 70.8919 - val_loss 0.1115 - val_accu 83.0579\n",
            "=> saved best model\n",
            "Epoch [121/1000]\n"
          ]
        },
        {
          "output_type": "stream",
          "name": "stderr",
          "text": [
            "\n",
            "100%|██████████| 60/60 [00:00<00:00, 61.11it/s]"
          ]
        },
        {
          "output_type": "stream",
          "name": "stdout",
          "text": [
            "Train Loss:0.1272, Train Acc:77.50\n",
            "validation start\n"
          ]
        },
        {
          "output_type": "stream",
          "name": "stderr",
          "text": [
            "\n",
            "15it [00:00, 25.96it/s]\n"
          ]
        },
        {
          "output_type": "stream",
          "name": "stdout",
          "text": [
            "Val Loss:0.0935, Val_Acc:86.67\n",
            "loss 0.1480 - accu 70.9460 - val_loss 0.1114 - val_accu 83.0874\n",
            "=> saved best model\n",
            "Epoch [122/1000]\n"
          ]
        },
        {
          "output_type": "stream",
          "name": "stderr",
          "text": [
            "100%|██████████| 60/60 [00:01<00:00, 58.86it/s]"
          ]
        },
        {
          "output_type": "stream",
          "name": "stdout",
          "text": [
            "Train Loss:0.1318, Train Acc:74.17\n",
            "validation start\n"
          ]
        },
        {
          "output_type": "stream",
          "name": "stderr",
          "text": [
            "\n",
            "15it [00:00, 23.62it/s]\n"
          ]
        },
        {
          "output_type": "stream",
          "name": "stdout",
          "text": [
            "Val Loss:0.0921, Val_Acc:85.00\n",
            "loss 0.1478 - accu 70.9722 - val_loss 0.1112 - val_accu 83.1030\n",
            "=> saved best model\n",
            "Epoch [123/1000]\n"
          ]
        },
        {
          "output_type": "stream",
          "name": "stderr",
          "text": [
            "100%|██████████| 60/60 [00:00<00:00, 60.52it/s] "
          ]
        },
        {
          "output_type": "stream",
          "name": "stdout",
          "text": [
            "Train Loss:0.1300, Train Acc:75.00\n",
            "validation start\n"
          ]
        },
        {
          "output_type": "stream",
          "name": "stderr",
          "text": [
            "\n",
            "15it [00:00, 25.50it/s]"
          ]
        },
        {
          "output_type": "stream",
          "name": "stdout",
          "text": [
            "Val Loss:0.0933, Val_Acc:86.67\n",
            "loss 0.1477 - accu 71.0047 - val_loss 0.1111 - val_accu 83.1317\n",
            "=> saved best model\n",
            "Epoch [124/1000]\n"
          ]
        },
        {
          "output_type": "stream",
          "name": "stderr",
          "text": [
            "\n",
            "100%|██████████| 60/60 [00:00<00:00, 62.58it/s] "
          ]
        },
        {
          "output_type": "stream",
          "name": "stdout",
          "text": [
            "Train Loss:0.1266, Train Acc:74.58\n",
            "validation start\n"
          ]
        },
        {
          "output_type": "stream",
          "name": "stderr",
          "text": [
            "\n",
            "15it [00:00, 24.47it/s]"
          ]
        },
        {
          "output_type": "stream",
          "name": "stdout",
          "text": [
            "Val Loss:0.1130, Val_Acc:78.33\n",
            "loss 0.1475 - accu 71.0333 - val_loss 0.1111 - val_accu 83.0933\n",
            "Epoch [125/1000]\n"
          ]
        },
        {
          "output_type": "stream",
          "name": "stderr",
          "text": [
            "\n",
            "100%|██████████| 60/60 [00:00<00:00, 61.11it/s]"
          ]
        },
        {
          "output_type": "stream",
          "name": "stdout",
          "text": [
            "Train Loss:0.1248, Train Acc:76.25\n",
            "validation start\n"
          ]
        },
        {
          "output_type": "stream",
          "name": "stderr",
          "text": [
            "\n",
            "15it [00:00, 26.10it/s]"
          ]
        },
        {
          "output_type": "stream",
          "name": "stdout",
          "text": [
            "Val Loss:0.0961, Val_Acc:88.33\n",
            "loss 0.1474 - accu 71.0747 - val_loss 0.1110 - val_accu 83.1349\n",
            "=> saved best model\n",
            "Epoch [126/1000]\n"
          ]
        },
        {
          "output_type": "stream",
          "name": "stderr",
          "text": [
            "\n",
            "100%|██████████| 60/60 [00:01<00:00, 59.01it/s]"
          ]
        },
        {
          "output_type": "stream",
          "name": "stdout",
          "text": [
            "Train Loss:0.1282, Train Acc:74.58\n",
            "validation start\n"
          ]
        },
        {
          "output_type": "stream",
          "name": "stderr",
          "text": [
            "\n",
            "15it [00:00, 26.23it/s]                      "
          ]
        },
        {
          "output_type": "stream",
          "name": "stdout",
          "text": [
            "Val Loss:0.0915, Val_Acc:85.00\n",
            "loss 0.1472 - accu 71.1024 - val_loss 0.1108 - val_accu 83.1496\n",
            "=> saved best model\n",
            "Epoch [127/1000]\n"
          ]
        },
        {
          "output_type": "stream",
          "name": "stderr",
          "text": [
            "\n",
            "100%|██████████| 60/60 [00:00<00:00, 62.46it/s]"
          ]
        },
        {
          "output_type": "stream",
          "name": "stdout",
          "text": [
            "Train Loss:0.1339, Train Acc:74.17\n",
            "validation start\n"
          ]
        },
        {
          "output_type": "stream",
          "name": "stderr",
          "text": [
            "\n",
            "15it [00:00, 25.35it/s]"
          ]
        },
        {
          "output_type": "stream",
          "name": "stdout",
          "text": [
            "Val Loss:0.0935, Val_Acc:85.00\n",
            "loss 0.1471 - accu 71.1263 - val_loss 0.1107 - val_accu 83.1641\n",
            "=> saved best model\n",
            "Epoch [128/1000]\n"
          ]
        },
        {
          "output_type": "stream",
          "name": "stderr",
          "text": [
            "\n",
            "100%|██████████| 60/60 [00:00<00:00, 60.16it/s] "
          ]
        },
        {
          "output_type": "stream",
          "name": "stdout",
          "text": [
            "Train Loss:0.1310, Train Acc:73.33\n",
            "validation start\n"
          ]
        },
        {
          "output_type": "stream",
          "name": "stderr",
          "text": [
            "\n",
            "15it [00:00, 25.97it/s]"
          ]
        },
        {
          "output_type": "stream",
          "name": "stdout",
          "text": [
            "Val Loss:0.0955, Val_Acc:85.00\n",
            "loss 0.1470 - accu 71.1434 - val_loss 0.1106 - val_accu 83.1783\n",
            "=> saved best model\n",
            "Epoch [129/1000]\n"
          ]
        },
        {
          "output_type": "stream",
          "name": "stderr",
          "text": [
            "\n",
            "100%|██████████| 60/60 [00:00<00:00, 60.77it/s]"
          ]
        },
        {
          "output_type": "stream",
          "name": "stdout",
          "text": [
            "Train Loss:0.1286, Train Acc:72.50\n",
            "validation start\n"
          ]
        },
        {
          "output_type": "stream",
          "name": "stderr",
          "text": [
            "\n",
            "15it [00:00, 22.59it/s]"
          ]
        },
        {
          "output_type": "stream",
          "name": "stdout",
          "text": [
            "Val Loss:0.0944, Val_Acc:86.67\n",
            "loss 0.1468 - accu 71.1538 - val_loss 0.1104 - val_accu 83.2051\n",
            "=> saved best model\n",
            "Epoch [130/1000]\n"
          ]
        },
        {
          "output_type": "stream",
          "name": "stderr",
          "text": [
            "\n",
            "100%|██████████| 60/60 [00:01<00:00, 59.34it/s]"
          ]
        },
        {
          "output_type": "stream",
          "name": "stdout",
          "text": [
            "Train Loss:0.1287, Train Acc:75.00\n",
            "validation start\n"
          ]
        },
        {
          "output_type": "stream",
          "name": "stderr",
          "text": [
            "\n",
            "15it [00:00, 26.59it/s]"
          ]
        },
        {
          "output_type": "stream",
          "name": "stdout",
          "text": [
            "Val Loss:0.0963, Val_Acc:90.00\n",
            "loss 0.1467 - accu 71.1832 - val_loss 0.1103 - val_accu 83.2570\n",
            "=> saved best model\n",
            "Epoch [131/1000]\n"
          ]
        },
        {
          "output_type": "stream",
          "name": "stderr",
          "text": [
            "\n",
            "100%|██████████| 60/60 [00:00<00:00, 64.89it/s]"
          ]
        },
        {
          "output_type": "stream",
          "name": "stdout",
          "text": [
            "Train Loss:0.1381, Train Acc:70.42\n",
            "validation start\n"
          ]
        },
        {
          "output_type": "stream",
          "name": "stderr",
          "text": [
            "\n",
            "15it [00:00, 24.90it/s]"
          ]
        },
        {
          "output_type": "stream",
          "name": "stdout",
          "text": [
            "Val Loss:0.0976, Val_Acc:86.67\n",
            "loss 0.1466 - accu 71.1774 - val_loss 0.1102 - val_accu 83.2828\n",
            "=> saved best model\n",
            "Epoch [132/1000]\n"
          ]
        },
        {
          "output_type": "stream",
          "name": "stderr",
          "text": [
            "\n",
            "100%|██████████| 60/60 [00:01<00:00, 58.85it/s] "
          ]
        },
        {
          "output_type": "stream",
          "name": "stdout",
          "text": [
            "Train Loss:0.1354, Train Acc:73.33\n",
            "validation start\n"
          ]
        },
        {
          "output_type": "stream",
          "name": "stderr",
          "text": [
            "\n",
            "15it [00:00, 24.95it/s]"
          ]
        },
        {
          "output_type": "stream",
          "name": "stdout",
          "text": [
            "Val Loss:0.1024, Val_Acc:86.67\n",
            "loss 0.1465 - accu 71.1936 - val_loss 0.1102 - val_accu 83.3083\n",
            "=> saved best model\n",
            "Epoch [133/1000]\n"
          ]
        },
        {
          "output_type": "stream",
          "name": "stderr",
          "text": [
            "\n",
            "100%|██████████| 60/60 [00:01<00:00, 59.52it/s]"
          ]
        },
        {
          "output_type": "stream",
          "name": "stdout",
          "text": [
            "Train Loss:0.1231, Train Acc:74.58\n",
            "validation start\n"
          ]
        },
        {
          "output_type": "stream",
          "name": "stderr",
          "text": [
            "\n",
            "15it [00:00, 23.69it/s]\n"
          ]
        },
        {
          "output_type": "stream",
          "name": "stdout",
          "text": [
            "Val Loss:0.0939, Val_Acc:85.00\n",
            "loss 0.1464 - accu 71.2189 - val_loss 0.1101 - val_accu 83.3209\n",
            "=> saved best model\n",
            "Epoch [134/1000]\n"
          ]
        },
        {
          "output_type": "stream",
          "name": "stderr",
          "text": [
            "100%|██████████| 60/60 [00:00<00:00, 62.52it/s]"
          ]
        },
        {
          "output_type": "stream",
          "name": "stdout",
          "text": [
            "Train Loss:0.1337, Train Acc:76.25\n",
            "validation start\n"
          ]
        },
        {
          "output_type": "stream",
          "name": "stderr",
          "text": [
            "\n",
            "15it [00:00, 24.49it/s]\n"
          ]
        },
        {
          "output_type": "stream",
          "name": "stdout",
          "text": [
            "Val Loss:0.0976, Val_Acc:90.00\n",
            "loss 0.1463 - accu 71.2562 - val_loss 0.1100 - val_accu 83.3704\n",
            "=> saved best model\n",
            "Epoch [135/1000]\n"
          ]
        },
        {
          "output_type": "stream",
          "name": "stderr",
          "text": [
            "100%|██████████| 60/60 [00:01<00:00, 58.44it/s]"
          ]
        },
        {
          "output_type": "stream",
          "name": "stdout",
          "text": [
            "Train Loss:0.1211, Train Acc:77.50\n",
            "validation start\n"
          ]
        },
        {
          "output_type": "stream",
          "name": "stderr",
          "text": [
            "\n",
            "15it [00:00, 23.79it/s]                      "
          ]
        },
        {
          "output_type": "stream",
          "name": "stdout",
          "text": [
            "Val Loss:0.0982, Val_Acc:90.00\n",
            "loss 0.1461 - accu 71.3021 - val_loss 0.1099 - val_accu 83.4191\n",
            "=> saved best model\n",
            "Epoch [136/1000]\n"
          ]
        },
        {
          "output_type": "stream",
          "name": "stderr",
          "text": [
            "\n",
            "100%|██████████| 60/60 [00:00<00:00, 62.32it/s]"
          ]
        },
        {
          "output_type": "stream",
          "name": "stdout",
          "text": [
            "Train Loss:0.1239, Train Acc:72.50\n",
            "validation start\n"
          ]
        },
        {
          "output_type": "stream",
          "name": "stderr",
          "text": [
            "\n",
            "15it [00:00, 23.23it/s]"
          ]
        },
        {
          "output_type": "stream",
          "name": "stdout",
          "text": [
            "Val Loss:0.0937, Val_Acc:88.33\n",
            "loss 0.1459 - accu 71.3108 - val_loss 0.1098 - val_accu 83.4550\n",
            "=> saved best model\n",
            "Epoch [137/1000]\n"
          ]
        },
        {
          "output_type": "stream",
          "name": "stderr",
          "text": [
            "\n",
            "100%|██████████| 60/60 [00:00<00:00, 60.47it/s]"
          ]
        },
        {
          "output_type": "stream",
          "name": "stdout",
          "text": [
            "Train Loss:0.1258, Train Acc:77.08\n",
            "validation start\n"
          ]
        },
        {
          "output_type": "stream",
          "name": "stderr",
          "text": [
            "\n",
            "15it [00:00, 23.80it/s]                      "
          ]
        },
        {
          "output_type": "stream",
          "name": "stdout",
          "text": [
            "Val Loss:0.0949, Val_Acc:88.33\n",
            "loss 0.1458 - accu 71.3527 - val_loss 0.1097 - val_accu 83.4903\n",
            "=> saved best model\n",
            "Epoch [138/1000]\n"
          ]
        },
        {
          "output_type": "stream",
          "name": "stderr",
          "text": [
            "\n",
            "100%|██████████| 60/60 [00:00<00:00, 62.52it/s] "
          ]
        },
        {
          "output_type": "stream",
          "name": "stdout",
          "text": [
            "Train Loss:0.1341, Train Acc:70.00\n",
            "validation start\n"
          ]
        },
        {
          "output_type": "stream",
          "name": "stderr",
          "text": [
            "\n",
            "15it [00:00, 23.52it/s]"
          ]
        },
        {
          "output_type": "stream",
          "name": "stdout",
          "text": [
            "Val Loss:0.0969, Val_Acc:90.00\n",
            "loss 0.1457 - accu 71.3429 - val_loss 0.1096 - val_accu 83.5372\n",
            "=> saved best model\n",
            "Epoch [139/1000]\n"
          ]
        },
        {
          "output_type": "stream",
          "name": "stderr",
          "text": [
            "\n",
            "100%|██████████| 60/60 [00:01<00:00, 58.22it/s]"
          ]
        },
        {
          "output_type": "stream",
          "name": "stdout",
          "text": [
            "Train Loss:0.1323, Train Acc:73.33\n",
            "validation start\n"
          ]
        },
        {
          "output_type": "stream",
          "name": "stderr",
          "text": [
            "\n",
            "15it [00:00, 24.78it/s]"
          ]
        },
        {
          "output_type": "stream",
          "name": "stdout",
          "text": [
            "Val Loss:0.0943, Val_Acc:83.33\n",
            "loss 0.1456 - accu 71.3571 - val_loss 0.1095 - val_accu 83.5357\n",
            "Epoch [140/1000]\n"
          ]
        },
        {
          "output_type": "stream",
          "name": "stderr",
          "text": [
            "\n",
            "100%|██████████| 60/60 [00:01<00:00, 58.92it/s]"
          ]
        },
        {
          "output_type": "stream",
          "name": "stdout",
          "text": [
            "Train Loss:0.1262, Train Acc:75.83\n",
            "validation start\n"
          ]
        },
        {
          "output_type": "stream",
          "name": "stderr",
          "text": [
            "\n",
            "15it [00:00, 24.78it/s]\n"
          ]
        },
        {
          "output_type": "stream",
          "name": "stdout",
          "text": [
            "Val Loss:0.0942, Val_Acc:88.33\n",
            "loss 0.1455 - accu 71.3889 - val_loss 0.1094 - val_accu 83.5697\n",
            "=> saved best model\n",
            "Epoch [141/1000]\n"
          ]
        },
        {
          "output_type": "stream",
          "name": "stderr",
          "text": [
            "100%|██████████| 60/60 [00:01<00:00, 58.15it/s]"
          ]
        },
        {
          "output_type": "stream",
          "name": "stdout",
          "text": [
            "Train Loss:0.1293, Train Acc:74.58\n",
            "validation start\n"
          ]
        },
        {
          "output_type": "stream",
          "name": "stderr",
          "text": [
            "\n",
            "15it [00:00, 25.07it/s]                      "
          ]
        },
        {
          "output_type": "stream",
          "name": "stdout",
          "text": [
            "Val Loss:0.1070, Val_Acc:81.67\n",
            "loss 0.1454 - accu 71.4114 - val_loss 0.1093 - val_accu 83.5563\n",
            "Epoch [142/1000]\n"
          ]
        },
        {
          "output_type": "stream",
          "name": "stderr",
          "text": [
            "\n",
            "100%|██████████| 60/60 [00:00<00:00, 61.85it/s]"
          ]
        },
        {
          "output_type": "stream",
          "name": "stdout",
          "text": [
            "Train Loss:0.1359, Train Acc:75.00\n",
            "validation start\n"
          ]
        },
        {
          "output_type": "stream",
          "name": "stderr",
          "text": [
            "\n",
            "15it [00:00, 22.51it/s]                      \n"
          ]
        },
        {
          "output_type": "stream",
          "name": "stdout",
          "text": [
            "Val Loss:0.1012, Val_Acc:90.00\n",
            "loss 0.1453 - accu 71.4365 - val_loss 0.1093 - val_accu 83.6014\n",
            "=> saved best model\n",
            "Epoch [143/1000]\n"
          ]
        },
        {
          "output_type": "stream",
          "name": "stderr",
          "text": [
            "100%|██████████| 60/60 [00:01<00:00, 59.38it/s]"
          ]
        },
        {
          "output_type": "stream",
          "name": "stdout",
          "text": [
            "Train Loss:0.1277, Train Acc:73.75\n",
            "validation start\n"
          ]
        },
        {
          "output_type": "stream",
          "name": "stderr",
          "text": [
            "\n",
            "15it [00:00, 25.17it/s]                      "
          ]
        },
        {
          "output_type": "stream",
          "name": "stdout",
          "text": [
            "Val Loss:0.0981, Val_Acc:90.00\n",
            "loss 0.1452 - accu 71.4525 - val_loss 0.1092 - val_accu 83.6458\n",
            "=> saved best model\n",
            "Epoch [144/1000]\n"
          ]
        },
        {
          "output_type": "stream",
          "name": "stderr",
          "text": [
            "\n",
            "100%|██████████| 60/60 [00:00<00:00, 61.68it/s]\n"
          ]
        },
        {
          "output_type": "stream",
          "name": "stdout",
          "text": [
            "Train Loss:0.1152, Train Acc:77.08\n",
            "validation start\n"
          ]
        },
        {
          "output_type": "stream",
          "name": "stderr",
          "text": [
            "15it [00:00, 21.89it/s]"
          ]
        },
        {
          "output_type": "stream",
          "name": "stdout",
          "text": [
            "Val Loss:0.0943, Val_Acc:85.00\n",
            "loss 0.1450 - accu 71.4914 - val_loss 0.1091 - val_accu 83.6552\n",
            "=> saved best model\n",
            "Epoch [145/1000]\n"
          ]
        },
        {
          "output_type": "stream",
          "name": "stderr",
          "text": [
            "\n",
            "100%|██████████| 60/60 [00:01<00:00, 57.89it/s]"
          ]
        },
        {
          "output_type": "stream",
          "name": "stdout",
          "text": [
            "Train Loss:0.1304, Train Acc:76.25\n",
            "validation start\n"
          ]
        },
        {
          "output_type": "stream",
          "name": "stderr",
          "text": [
            "\n",
            "15it [00:00, 24.72it/s]"
          ]
        },
        {
          "output_type": "stream",
          "name": "stdout",
          "text": [
            "Val Loss:0.0947, Val_Acc:88.33\n",
            "loss 0.1449 - accu 71.5240 - val_loss 0.1090 - val_accu 83.6872\n",
            "=> saved best model\n",
            "Epoch [146/1000]\n"
          ]
        },
        {
          "output_type": "stream",
          "name": "stderr",
          "text": [
            "\n",
            "100%|██████████| 60/60 [00:01<00:00, 55.82it/s]"
          ]
        },
        {
          "output_type": "stream",
          "name": "stdout",
          "text": [
            "Train Loss:0.1374, Train Acc:75.00\n",
            "validation start\n"
          ]
        },
        {
          "output_type": "stream",
          "name": "stderr",
          "text": [
            "\n",
            "15it [00:00, 25.15it/s]"
          ]
        },
        {
          "output_type": "stream",
          "name": "stdout",
          "text": [
            "Val Loss:0.1020, Val_Acc:86.67\n",
            "loss 0.1448 - accu 71.5476 - val_loss 0.1090 - val_accu 83.7075\n",
            "=> saved best model\n",
            "Epoch [147/1000]\n"
          ]
        },
        {
          "output_type": "stream",
          "name": "stderr",
          "text": [
            "\n",
            "100%|██████████| 60/60 [00:01<00:00, 56.15it/s]"
          ]
        },
        {
          "output_type": "stream",
          "name": "stdout",
          "text": [
            "Train Loss:0.1273, Train Acc:74.58\n",
            "validation start\n"
          ]
        },
        {
          "output_type": "stream",
          "name": "stderr",
          "text": [
            "\n",
            "15it [00:00, 24.19it/s]"
          ]
        },
        {
          "output_type": "stream",
          "name": "stdout",
          "text": [
            "Val Loss:0.1011, Val_Acc:88.33\n",
            "loss 0.1447 - accu 71.5681 - val_loss 0.1089 - val_accu 83.7387\n",
            "=> saved best model\n",
            "Epoch [148/1000]\n"
          ]
        },
        {
          "output_type": "stream",
          "name": "stderr",
          "text": [
            "\n",
            "100%|██████████| 60/60 [00:01<00:00, 59.90it/s]"
          ]
        },
        {
          "output_type": "stream",
          "name": "stdout",
          "text": [
            "Train Loss:0.1215, Train Acc:75.42\n",
            "validation start\n"
          ]
        },
        {
          "output_type": "stream",
          "name": "stderr",
          "text": [
            "\n",
            "15it [00:00, 23.92it/s]"
          ]
        },
        {
          "output_type": "stream",
          "name": "stdout",
          "text": [
            "Val Loss:0.1009, Val_Acc:86.67\n",
            "loss 0.1445 - accu 71.5940 - val_loss 0.1088 - val_accu 83.7584\n",
            "=> saved best model\n",
            "Epoch [149/1000]\n"
          ]
        },
        {
          "output_type": "stream",
          "name": "stderr",
          "text": [
            "\n",
            "100%|██████████| 60/60 [00:01<00:00, 59.09it/s]"
          ]
        },
        {
          "output_type": "stream",
          "name": "stdout",
          "text": [
            "Train Loss:0.1303, Train Acc:75.00\n",
            "validation start\n"
          ]
        },
        {
          "output_type": "stream",
          "name": "stderr",
          "text": [
            "\n",
            "15it [00:00, 24.15it/s]"
          ]
        },
        {
          "output_type": "stream",
          "name": "stdout",
          "text": [
            "Val Loss:0.0971, Val_Acc:86.67\n",
            "loss 0.1444 - accu 71.6167 - val_loss 0.1088 - val_accu 83.7778\n",
            "=> saved best model\n",
            "Epoch [150/1000]\n"
          ]
        },
        {
          "output_type": "stream",
          "name": "stderr",
          "text": [
            "\n",
            "100%|██████████| 60/60 [00:01<00:00, 56.69it/s]"
          ]
        },
        {
          "output_type": "stream",
          "name": "stdout",
          "text": [
            "Train Loss:0.1331, Train Acc:76.67\n",
            "validation start\n"
          ]
        },
        {
          "output_type": "stream",
          "name": "stderr",
          "text": [
            "\n",
            "15it [00:00, 23.65it/s]\n"
          ]
        },
        {
          "output_type": "stream",
          "name": "stdout",
          "text": [
            "Val Loss:0.0975, Val_Acc:83.33\n",
            "loss 0.1444 - accu 71.6501 - val_loss 0.1087 - val_accu 83.7748\n",
            "Epoch [151/1000]\n"
          ]
        },
        {
          "output_type": "stream",
          "name": "stderr",
          "text": [
            "100%|██████████| 60/60 [00:01<00:00, 58.98it/s]"
          ]
        },
        {
          "output_type": "stream",
          "name": "stdout",
          "text": [
            "Train Loss:0.1357, Train Acc:74.17\n",
            "validation start\n"
          ]
        },
        {
          "output_type": "stream",
          "name": "stderr",
          "text": [
            "\n",
            "15it [00:00, 23.08it/s]"
          ]
        },
        {
          "output_type": "stream",
          "name": "stdout",
          "text": [
            "Val Loss:0.1108, Val_Acc:88.33\n",
            "loss 0.1443 - accu 71.6667 - val_loss 0.1087 - val_accu 83.8048\n",
            "=> saved best model\n",
            "Epoch [152/1000]\n"
          ]
        },
        {
          "output_type": "stream",
          "name": "stderr",
          "text": [
            "\n",
            "100%|██████████| 60/60 [00:01<00:00, 58.19it/s]\n"
          ]
        },
        {
          "output_type": "stream",
          "name": "stdout",
          "text": [
            "Train Loss:0.1290, Train Acc:73.75\n",
            "validation start\n"
          ]
        },
        {
          "output_type": "stream",
          "name": "stderr",
          "text": [
            "15it [00:00, 23.85it/s]                      "
          ]
        },
        {
          "output_type": "stream",
          "name": "stdout",
          "text": [
            "Val Loss:0.0977, Val_Acc:86.67\n",
            "loss 0.1442 - accu 71.6803 - val_loss 0.1086 - val_accu 83.8235\n",
            "=> saved best model\n",
            "Epoch [153/1000]\n"
          ]
        },
        {
          "output_type": "stream",
          "name": "stderr",
          "text": [
            "\n",
            "100%|██████████| 60/60 [00:01<00:00, 55.61it/s]"
          ]
        },
        {
          "output_type": "stream",
          "name": "stdout",
          "text": [
            "Train Loss:0.1287, Train Acc:76.67\n",
            "validation start\n"
          ]
        },
        {
          "output_type": "stream",
          "name": "stderr",
          "text": [
            "\n",
            "15it [00:00, 24.04it/s]"
          ]
        },
        {
          "output_type": "stream",
          "name": "stdout",
          "text": [
            "Val Loss:0.0968, Val_Acc:90.00\n",
            "loss 0.1441 - accu 71.7127 - val_loss 0.1086 - val_accu 83.8636\n",
            "=> saved best model\n",
            "Epoch [154/1000]\n"
          ]
        },
        {
          "output_type": "stream",
          "name": "stderr",
          "text": [
            "\n",
            "100%|██████████| 60/60 [00:01<00:00, 58.80it/s]"
          ]
        },
        {
          "output_type": "stream",
          "name": "stdout",
          "text": [
            "Train Loss:0.1348, Train Acc:76.67\n",
            "validation start\n"
          ]
        },
        {
          "output_type": "stream",
          "name": "stderr",
          "text": [
            "\n",
            "15it [00:00, 23.40it/s]                      "
          ]
        },
        {
          "output_type": "stream",
          "name": "stdout",
          "text": [
            "Val Loss:0.0979, Val_Acc:90.00\n",
            "loss 0.1440 - accu 71.7446 - val_loss 0.1085 - val_accu 83.9032\n",
            "=> saved best model\n",
            "Epoch [155/1000]\n"
          ]
        },
        {
          "output_type": "stream",
          "name": "stderr",
          "text": [
            "\n",
            "100%|██████████| 60/60 [00:01<00:00, 58.77it/s] "
          ]
        },
        {
          "output_type": "stream",
          "name": "stdout",
          "text": [
            "Train Loss:0.1325, Train Acc:73.33\n",
            "validation start\n"
          ]
        },
        {
          "output_type": "stream",
          "name": "stderr",
          "text": [
            "\n",
            "15it [00:00, 24.41it/s]"
          ]
        },
        {
          "output_type": "stream",
          "name": "stdout",
          "text": [
            "Val Loss:0.0960, Val_Acc:85.00\n",
            "loss 0.1440 - accu 71.7548 - val_loss 0.1084 - val_accu 83.9103\n",
            "=> saved best model\n",
            "Epoch [156/1000]\n"
          ]
        },
        {
          "output_type": "stream",
          "name": "stderr",
          "text": [
            "\n",
            "100%|██████████| 60/60 [00:01<00:00, 57.53it/s]"
          ]
        },
        {
          "output_type": "stream",
          "name": "stdout",
          "text": [
            "Train Loss:0.1273, Train Acc:73.75\n",
            "validation start\n"
          ]
        },
        {
          "output_type": "stream",
          "name": "stderr",
          "text": [
            "\n",
            "15it [00:00, 23.78it/s]"
          ]
        },
        {
          "output_type": "stream",
          "name": "stdout",
          "text": [
            "Val Loss:0.0975, Val_Acc:88.33\n",
            "loss 0.1439 - accu 71.7675 - val_loss 0.1083 - val_accu 83.9384\n",
            "=> saved best model\n",
            "Epoch [157/1000]\n"
          ]
        },
        {
          "output_type": "stream",
          "name": "stderr",
          "text": [
            "\n",
            "100%|██████████| 60/60 [00:00<00:00, 62.19it/s]"
          ]
        },
        {
          "output_type": "stream",
          "name": "stdout",
          "text": [
            "Train Loss:0.1297, Train Acc:73.75\n",
            "validation start\n"
          ]
        },
        {
          "output_type": "stream",
          "name": "stderr",
          "text": [
            "\n",
            "15it [00:00, 22.14it/s]"
          ]
        },
        {
          "output_type": "stream",
          "name": "stdout",
          "text": [
            "Val Loss:0.1005, Val_Acc:90.00\n",
            "loss 0.1438 - accu 71.7801 - val_loss 0.1083 - val_accu 83.9768\n",
            "=> saved best model\n",
            "Epoch [158/1000]\n"
          ]
        },
        {
          "output_type": "stream",
          "name": "stderr",
          "text": [
            "\n",
            "100%|██████████| 60/60 [00:01<00:00, 59.36it/s]"
          ]
        },
        {
          "output_type": "stream",
          "name": "stdout",
          "text": [
            "Train Loss:0.1322, Train Acc:71.67\n",
            "validation start\n"
          ]
        },
        {
          "output_type": "stream",
          "name": "stderr",
          "text": [
            "\n",
            "15it [00:00, 23.27it/s]                      "
          ]
        },
        {
          "output_type": "stream",
          "name": "stdout",
          "text": [
            "Val Loss:0.0990, Val_Acc:88.33\n",
            "loss 0.1437 - accu 71.7794 - val_loss 0.1082 - val_accu 84.0042\n",
            "=> saved best model\n",
            "Epoch [159/1000]\n"
          ]
        },
        {
          "output_type": "stream",
          "name": "stderr",
          "text": [
            "\n",
            "100%|██████████| 60/60 [00:01<00:00, 58.98it/s]"
          ]
        },
        {
          "output_type": "stream",
          "name": "stdout",
          "text": [
            "Train Loss:0.1233, Train Acc:77.08\n",
            "validation start\n"
          ]
        },
        {
          "output_type": "stream",
          "name": "stderr",
          "text": [
            "\n",
            "15it [00:00, 23.17it/s]"
          ]
        },
        {
          "output_type": "stream",
          "name": "stdout",
          "text": [
            "Val Loss:0.0993, Val_Acc:90.00\n",
            "loss 0.1436 - accu 71.8125 - val_loss 0.1082 - val_accu 84.0417\n",
            "=> saved best model\n",
            "Epoch [160/1000]\n"
          ]
        },
        {
          "output_type": "stream",
          "name": "stderr",
          "text": [
            "\n",
            "100%|██████████| 60/60 [00:01<00:00, 58.89it/s]"
          ]
        },
        {
          "output_type": "stream",
          "name": "stdout",
          "text": [
            "Train Loss:0.1255, Train Acc:75.83\n",
            "validation start\n"
          ]
        },
        {
          "output_type": "stream",
          "name": "stderr",
          "text": [
            "\n",
            "15it [00:00, 23.10it/s]"
          ]
        },
        {
          "output_type": "stream",
          "name": "stdout",
          "text": [
            "Val Loss:0.0962, Val_Acc:85.00\n",
            "loss 0.1435 - accu 71.8375 - val_loss 0.1081 - val_accu 84.0476\n",
            "=> saved best model\n",
            "Epoch [161/1000]\n"
          ]
        },
        {
          "output_type": "stream",
          "name": "stderr",
          "text": [
            "\n",
            "100%|██████████| 60/60 [00:01<00:00, 57.17it/s]"
          ]
        },
        {
          "output_type": "stream",
          "name": "stdout",
          "text": [
            "Train Loss:0.1277, Train Acc:76.25\n",
            "validation start\n"
          ]
        },
        {
          "output_type": "stream",
          "name": "stderr",
          "text": [
            "\n",
            "15it [00:00, 23.11it/s]                      "
          ]
        },
        {
          "output_type": "stream",
          "name": "stdout",
          "text": [
            "Val Loss:0.0958, Val_Acc:85.00\n",
            "loss 0.1434 - accu 71.8647 - val_loss 0.1080 - val_accu 84.0535\n",
            "=> saved best model\n",
            "Epoch [162/1000]\n"
          ]
        },
        {
          "output_type": "stream",
          "name": "stderr",
          "text": [
            "\n",
            "100%|██████████| 60/60 [00:01<00:00, 58.36it/s]"
          ]
        },
        {
          "output_type": "stream",
          "name": "stdout",
          "text": [
            "Train Loss:0.1302, Train Acc:73.75\n",
            "validation start\n"
          ]
        },
        {
          "output_type": "stream",
          "name": "stderr",
          "text": [
            "\n",
            "15it [00:00, 24.05it/s]"
          ]
        },
        {
          "output_type": "stream",
          "name": "stdout",
          "text": [
            "Val Loss:0.0941, Val_Acc:85.00\n",
            "loss 0.1433 - accu 71.8763 - val_loss 0.1079 - val_accu 84.0593\n",
            "=> saved best model\n",
            "Epoch [163/1000]\n"
          ]
        },
        {
          "output_type": "stream",
          "name": "stderr",
          "text": [
            "\n",
            "100%|██████████| 60/60 [00:01<00:00, 55.84it/s]"
          ]
        },
        {
          "output_type": "stream",
          "name": "stdout",
          "text": [
            "Train Loss:0.1408, Train Acc:73.75\n",
            "validation start\n"
          ]
        },
        {
          "output_type": "stream",
          "name": "stderr",
          "text": [
            "\n",
            "15it [00:00, 23.64it/s]"
          ]
        },
        {
          "output_type": "stream",
          "name": "stdout",
          "text": [
            "Val Loss:0.0978, Val_Acc:86.67\n",
            "loss 0.1433 - accu 71.8877 - val_loss 0.1079 - val_accu 84.0752\n",
            "=> saved best model\n",
            "Epoch [164/1000]\n"
          ]
        },
        {
          "output_type": "stream",
          "name": "stderr",
          "text": [
            "\n",
            "100%|██████████| 60/60 [00:01<00:00, 58.87it/s] "
          ]
        },
        {
          "output_type": "stream",
          "name": "stdout",
          "text": [
            "Train Loss:0.1284, Train Acc:76.67\n",
            "validation start\n"
          ]
        },
        {
          "output_type": "stream",
          "name": "stderr",
          "text": [
            "\n",
            "15it [00:00, 24.20it/s]                      "
          ]
        },
        {
          "output_type": "stream",
          "name": "stdout",
          "text": [
            "Val Loss:0.0977, Val_Acc:86.67\n",
            "loss 0.1432 - accu 71.9167 - val_loss 0.1078 - val_accu 84.0909\n",
            "=> saved best model\n",
            "Epoch [165/1000]\n"
          ]
        },
        {
          "output_type": "stream",
          "name": "stderr",
          "text": [
            "\n",
            "100%|██████████| 60/60 [00:01<00:00, 57.57it/s]"
          ]
        },
        {
          "output_type": "stream",
          "name": "stdout",
          "text": [
            "Train Loss:0.1252, Train Acc:75.83\n",
            "validation start\n"
          ]
        },
        {
          "output_type": "stream",
          "name": "stderr",
          "text": [
            "\n",
            "15it [00:00, 22.66it/s]"
          ]
        },
        {
          "output_type": "stream",
          "name": "stdout",
          "text": [
            "Val Loss:0.0973, Val_Acc:88.33\n",
            "loss 0.1431 - accu 71.9403 - val_loss 0.1078 - val_accu 84.1165\n",
            "=> saved best model\n",
            "Epoch [166/1000]\n"
          ]
        },
        {
          "output_type": "stream",
          "name": "stderr",
          "text": [
            "\n",
            "100%|██████████| 60/60 [00:01<00:00, 57.55it/s]"
          ]
        },
        {
          "output_type": "stream",
          "name": "stdout",
          "text": [
            "Train Loss:0.1253, Train Acc:77.08\n",
            "validation start\n"
          ]
        },
        {
          "output_type": "stream",
          "name": "stderr",
          "text": [
            "\n",
            "15it [00:00, 23.74it/s]                      "
          ]
        },
        {
          "output_type": "stream",
          "name": "stdout",
          "text": [
            "Val Loss:0.0944, Val_Acc:85.00\n",
            "loss 0.1430 - accu 71.9711 - val_loss 0.1077 - val_accu 84.1218\n",
            "=> saved best model\n",
            "Epoch [167/1000]\n"
          ]
        },
        {
          "output_type": "stream",
          "name": "stderr",
          "text": [
            "\n",
            "100%|██████████| 60/60 [00:01<00:00, 57.86it/s]"
          ]
        },
        {
          "output_type": "stream",
          "name": "stdout",
          "text": [
            "Train Loss:0.1265, Train Acc:77.08\n",
            "validation start\n"
          ]
        },
        {
          "output_type": "stream",
          "name": "stderr",
          "text": [
            "\n",
            "15it [00:00, 23.66it/s]\n"
          ]
        },
        {
          "output_type": "stream",
          "name": "stdout",
          "text": [
            "Val Loss:0.0958, Val_Acc:85.00\n",
            "loss 0.1429 - accu 72.0015 - val_loss 0.1076 - val_accu 84.1270\n",
            "=> saved best model\n",
            "Epoch [168/1000]\n"
          ]
        },
        {
          "output_type": "stream",
          "name": "stderr",
          "text": [
            "100%|██████████| 60/60 [00:01<00:00, 54.30it/s]"
          ]
        },
        {
          "output_type": "stream",
          "name": "stdout",
          "text": [
            "Train Loss:0.1370, Train Acc:75.00\n",
            "validation start\n"
          ]
        },
        {
          "output_type": "stream",
          "name": "stderr",
          "text": [
            "\n",
            "15it [00:00, 26.23it/s]"
          ]
        },
        {
          "output_type": "stream",
          "name": "stdout",
          "text": [
            "Val Loss:0.0961, Val_Acc:85.00\n",
            "loss 0.1428 - accu 72.0192 - val_loss 0.1075 - val_accu 84.1321\n",
            "=> saved best model\n",
            "Epoch [169/1000]\n"
          ]
        },
        {
          "output_type": "stream",
          "name": "stderr",
          "text": [
            "\n",
            "100%|██████████| 60/60 [00:01<00:00, 57.10it/s] "
          ]
        },
        {
          "output_type": "stream",
          "name": "stdout",
          "text": [
            "Train Loss:0.1283, Train Acc:75.00\n",
            "validation start\n"
          ]
        },
        {
          "output_type": "stream",
          "name": "stderr",
          "text": [
            "\n",
            "15it [00:00, 23.18it/s]                      "
          ]
        },
        {
          "output_type": "stream",
          "name": "stdout",
          "text": [
            "Val Loss:0.0953, Val_Acc:86.67\n",
            "loss 0.1427 - accu 72.0368 - val_loss 0.1075 - val_accu 84.1471\n",
            "=> saved best model\n",
            "Epoch [170/1000]\n"
          ]
        },
        {
          "output_type": "stream",
          "name": "stderr",
          "text": [
            "\n",
            "100%|██████████| 60/60 [00:01<00:00, 59.07it/s] "
          ]
        },
        {
          "output_type": "stream",
          "name": "stdout",
          "text": [
            "Train Loss:0.1336, Train Acc:73.75\n",
            "validation start\n"
          ]
        },
        {
          "output_type": "stream",
          "name": "stderr",
          "text": [
            "\n",
            "15it [00:00, 22.80it/s]"
          ]
        },
        {
          "output_type": "stream",
          "name": "stdout",
          "text": [
            "Val Loss:0.1063, Val_Acc:88.33\n",
            "loss 0.1427 - accu 72.0468 - val_loss 0.1075 - val_accu 84.1715\n",
            "=> saved best model\n",
            "Epoch [171/1000]\n"
          ]
        },
        {
          "output_type": "stream",
          "name": "stderr",
          "text": [
            "\n",
            "100%|██████████| 60/60 [00:01<00:00, 59.84it/s]"
          ]
        },
        {
          "output_type": "stream",
          "name": "stdout",
          "text": [
            "Train Loss:0.1300, Train Acc:75.00\n",
            "validation start\n"
          ]
        },
        {
          "output_type": "stream",
          "name": "stderr",
          "text": [
            "\n",
            "15it [00:00, 22.72it/s]\n"
          ]
        },
        {
          "output_type": "stream",
          "name": "stdout",
          "text": [
            "Val Loss:0.1009, Val_Acc:88.33\n",
            "loss 0.1426 - accu 72.0640 - val_loss 0.1074 - val_accu 84.1957\n",
            "=> saved best model\n",
            "Epoch [172/1000]\n"
          ]
        },
        {
          "output_type": "stream",
          "name": "stderr",
          "text": [
            "100%|██████████| 60/60 [00:01<00:00, 59.14it/s]"
          ]
        },
        {
          "output_type": "stream",
          "name": "stdout",
          "text": [
            "Train Loss:0.1221, Train Acc:80.00\n",
            "validation start\n"
          ]
        },
        {
          "output_type": "stream",
          "name": "stderr",
          "text": [
            "\n",
            "15it [00:00, 23.92it/s]"
          ]
        },
        {
          "output_type": "stream",
          "name": "stdout",
          "text": [
            "Val Loss:0.1163, Val_Acc:78.33\n",
            "loss 0.1425 - accu 72.1098 - val_loss 0.1075 - val_accu 84.1618\n",
            "Epoch [173/1000]\n"
          ]
        },
        {
          "output_type": "stream",
          "name": "stderr",
          "text": [
            "\n",
            "100%|██████████| 60/60 [00:01<00:00, 56.66it/s]"
          ]
        },
        {
          "output_type": "stream",
          "name": "stdout",
          "text": [
            "Train Loss:0.1279, Train Acc:73.75\n",
            "validation start\n"
          ]
        },
        {
          "output_type": "stream",
          "name": "stderr",
          "text": [
            "\n",
            "15it [00:00, 27.10it/s]\n"
          ]
        },
        {
          "output_type": "stream",
          "name": "stdout",
          "text": [
            "Val Loss:0.0977, Val_Acc:85.00\n",
            "loss 0.1424 - accu 72.1193 - val_loss 0.1074 - val_accu 84.1667\n",
            "Epoch [174/1000]\n"
          ]
        },
        {
          "output_type": "stream",
          "name": "stderr",
          "text": [
            "100%|██████████| 60/60 [00:01<00:00, 58.44it/s]"
          ]
        },
        {
          "output_type": "stream",
          "name": "stdout",
          "text": [
            "Train Loss:0.1314, Train Acc:76.67\n",
            "validation start\n"
          ]
        },
        {
          "output_type": "stream",
          "name": "stderr",
          "text": [
            "\n",
            "15it [00:00, 24.79it/s]"
          ]
        },
        {
          "output_type": "stream",
          "name": "stdout",
          "text": [
            "Val Loss:0.1002, Val_Acc:86.67\n",
            "loss 0.1424 - accu 72.1452 - val_loss 0.1074 - val_accu 84.1810\n",
            "Epoch [175/1000]\n"
          ]
        },
        {
          "output_type": "stream",
          "name": "stderr",
          "text": [
            "\n",
            "100%|██████████| 60/60 [00:01<00:00, 59.84it/s]"
          ]
        },
        {
          "output_type": "stream",
          "name": "stdout",
          "text": [
            "Train Loss:0.1196, Train Acc:76.67\n",
            "validation start\n"
          ]
        },
        {
          "output_type": "stream",
          "name": "stderr",
          "text": [
            "\n",
            "15it [00:00, 23.06it/s]"
          ]
        },
        {
          "output_type": "stream",
          "name": "stdout",
          "text": [
            "Val Loss:0.0980, Val_Acc:88.33\n",
            "loss 0.1422 - accu 72.1709 - val_loss 0.1073 - val_accu 84.2045\n",
            "=> saved best model\n",
            "Epoch [176/1000]\n"
          ]
        },
        {
          "output_type": "stream",
          "name": "stderr",
          "text": [
            "\n",
            "100%|██████████| 60/60 [00:01<00:00, 57.43it/s]"
          ]
        },
        {
          "output_type": "stream",
          "name": "stdout",
          "text": [
            "Train Loss:0.1237, Train Acc:73.75\n",
            "validation start\n"
          ]
        },
        {
          "output_type": "stream",
          "name": "stderr",
          "text": [
            "\n",
            "15it [00:00, 24.24it/s]"
          ]
        },
        {
          "output_type": "stream",
          "name": "stdout",
          "text": [
            "Val Loss:0.0925, Val_Acc:88.33\n",
            "loss 0.1421 - accu 72.1798 - val_loss 0.1072 - val_accu 84.2279\n",
            "=> saved best model\n",
            "Epoch [177/1000]\n"
          ]
        },
        {
          "output_type": "stream",
          "name": "stderr",
          "text": [
            "\n",
            "100%|██████████| 60/60 [00:01<00:00, 57.69it/s]"
          ]
        },
        {
          "output_type": "stream",
          "name": "stdout",
          "text": [
            "Train Loss:0.1300, Train Acc:76.25\n",
            "validation start\n"
          ]
        },
        {
          "output_type": "stream",
          "name": "stderr",
          "text": [
            "\n",
            "15it [00:00, 24.58it/s]"
          ]
        },
        {
          "output_type": "stream",
          "name": "stdout",
          "text": [
            "Val Loss:0.1014, Val_Acc:83.33\n",
            "loss 0.1420 - accu 72.2027 - val_loss 0.1072 - val_accu 84.2228\n",
            "Epoch [178/1000]\n"
          ]
        },
        {
          "output_type": "stream",
          "name": "stderr",
          "text": [
            "\n",
            "100%|██████████| 60/60 [00:01<00:00, 54.44it/s]"
          ]
        },
        {
          "output_type": "stream",
          "name": "stdout",
          "text": [
            "Train Loss:0.1371, Train Acc:75.00\n",
            "validation start\n"
          ]
        },
        {
          "output_type": "stream",
          "name": "stderr",
          "text": [
            "\n",
            "15it [00:00, 24.72it/s]                      "
          ]
        },
        {
          "output_type": "stream",
          "name": "stdout",
          "text": [
            "Val Loss:0.0945, Val_Acc:86.67\n",
            "loss 0.1420 - accu 72.2183 - val_loss 0.1071 - val_accu 84.2365\n",
            "=> saved best model\n",
            "Epoch [179/1000]\n"
          ]
        },
        {
          "output_type": "stream",
          "name": "stderr",
          "text": [
            "\n",
            "100%|██████████| 60/60 [00:01<00:00, 57.25it/s] "
          ]
        },
        {
          "output_type": "stream",
          "name": "stdout",
          "text": [
            "Train Loss:0.1280, Train Acc:74.58\n",
            "validation start\n"
          ]
        },
        {
          "output_type": "stream",
          "name": "stderr",
          "text": [
            "\n",
            "15it [00:00, 22.43it/s]"
          ]
        },
        {
          "output_type": "stream",
          "name": "stdout",
          "text": [
            "Val Loss:0.1083, Val_Acc:80.00\n",
            "loss 0.1419 - accu 72.2315 - val_loss 0.1071 - val_accu 84.2130\n",
            "Epoch [180/1000]\n"
          ]
        },
        {
          "output_type": "stream",
          "name": "stderr",
          "text": [
            "\n",
            "100%|██████████| 60/60 [00:01<00:00, 57.92it/s]"
          ]
        },
        {
          "output_type": "stream",
          "name": "stdout",
          "text": [
            "Train Loss:0.1315, Train Acc:71.25\n",
            "validation start\n"
          ]
        },
        {
          "output_type": "stream",
          "name": "stderr",
          "text": [
            "\n",
            "15it [00:00, 25.79it/s]"
          ]
        },
        {
          "output_type": "stream",
          "name": "stdout",
          "text": [
            "Val Loss:0.0908, Val_Acc:85.00\n",
            "loss 0.1419 - accu 72.2261 - val_loss 0.1070 - val_accu 84.2173\n",
            "Epoch [181/1000]\n"
          ]
        },
        {
          "output_type": "stream",
          "name": "stderr",
          "text": [
            "\n",
            "100%|██████████| 60/60 [00:01<00:00, 56.95it/s]"
          ]
        },
        {
          "output_type": "stream",
          "name": "stdout",
          "text": [
            "Train Loss:0.1276, Train Acc:78.33\n",
            "validation start\n"
          ]
        },
        {
          "output_type": "stream",
          "name": "stderr",
          "text": [
            "\n",
            "15it [00:00, 22.93it/s]"
          ]
        },
        {
          "output_type": "stream",
          "name": "stdout",
          "text": [
            "Val Loss:0.1000, Val_Acc:85.00\n",
            "loss 0.1418 - accu 72.2596 - val_loss 0.1070 - val_accu 84.2216\n",
            "Epoch [182/1000]\n"
          ]
        },
        {
          "output_type": "stream",
          "name": "stderr",
          "text": [
            "\n",
            "100%|██████████| 60/60 [00:00<00:00, 60.01it/s] "
          ]
        },
        {
          "output_type": "stream",
          "name": "stdout",
          "text": [
            "Train Loss:0.1214, Train Acc:75.83\n",
            "validation start\n"
          ]
        },
        {
          "output_type": "stream",
          "name": "stderr",
          "text": [
            "\n",
            "15it [00:00, 23.23it/s]"
          ]
        },
        {
          "output_type": "stream",
          "name": "stdout",
          "text": [
            "Val Loss:0.0931, Val_Acc:88.33\n",
            "loss 0.1417 - accu 72.2791 - val_loss 0.1069 - val_accu 84.2441\n",
            "=> saved best model\n",
            "Epoch [183/1000]\n"
          ]
        },
        {
          "output_type": "stream",
          "name": "stderr",
          "text": [
            "\n",
            "100%|██████████| 60/60 [00:01<00:00, 55.71it/s]"
          ]
        },
        {
          "output_type": "stream",
          "name": "stdout",
          "text": [
            "Train Loss:0.1239, Train Acc:74.58\n",
            "validation start\n"
          ]
        },
        {
          "output_type": "stream",
          "name": "stderr",
          "text": [
            "\n",
            "15it [00:00, 22.75it/s]                      "
          ]
        },
        {
          "output_type": "stream",
          "name": "stdout",
          "text": [
            "Val Loss:0.0921, Val_Acc:88.33\n",
            "loss 0.1416 - accu 72.2917 - val_loss 0.1069 - val_accu 84.2663\n",
            "=> saved best model\n",
            "Epoch [184/1000]\n"
          ]
        },
        {
          "output_type": "stream",
          "name": "stderr",
          "text": [
            "\n",
            "100%|██████████| 60/60 [00:01<00:00, 59.09it/s]"
          ]
        },
        {
          "output_type": "stream",
          "name": "stdout",
          "text": [
            "Train Loss:0.1211, Train Acc:76.67\n",
            "validation start\n"
          ]
        },
        {
          "output_type": "stream",
          "name": "stderr",
          "text": [
            "\n",
            "15it [00:00, 21.40it/s]\n"
          ]
        },
        {
          "output_type": "stream",
          "name": "stdout",
          "text": [
            "Val Loss:0.1007, Val_Acc:85.00\n",
            "loss 0.1415 - accu 72.3153 - val_loss 0.1068 - val_accu 84.2703\n",
            "=> saved best model\n",
            "Epoch [185/1000]\n"
          ]
        },
        {
          "output_type": "stream",
          "name": "stderr",
          "text": [
            "100%|██████████| 60/60 [00:01<00:00, 56.91it/s]"
          ]
        },
        {
          "output_type": "stream",
          "name": "stdout",
          "text": [
            "Train Loss:0.1315, Train Acc:74.58\n",
            "validation start\n"
          ]
        },
        {
          "output_type": "stream",
          "name": "stderr",
          "text": [
            "\n",
            "15it [00:00, 23.31it/s]"
          ]
        },
        {
          "output_type": "stream",
          "name": "stdout",
          "text": [
            "Val Loss:0.0948, Val_Acc:88.33\n",
            "loss 0.1414 - accu 72.3275 - val_loss 0.1068 - val_accu 84.2921\n",
            "=> saved best model\n",
            "Epoch [186/1000]\n"
          ]
        },
        {
          "output_type": "stream",
          "name": "stderr",
          "text": [
            "\n",
            "100%|██████████| 60/60 [00:01<00:00, 58.70it/s]"
          ]
        },
        {
          "output_type": "stream",
          "name": "stdout",
          "text": [
            "Train Loss:0.1288, Train Acc:75.42\n",
            "validation start\n"
          ]
        },
        {
          "output_type": "stream",
          "name": "stderr",
          "text": [
            "\n",
            "15it [00:00, 23.67it/s]"
          ]
        },
        {
          "output_type": "stream",
          "name": "stdout",
          "text": [
            "Val Loss:0.0955, Val_Acc:86.67\n",
            "loss 0.1414 - accu 72.3440 - val_loss 0.1067 - val_accu 84.3048\n",
            "=> saved best model\n",
            "Epoch [187/1000]\n"
          ]
        },
        {
          "output_type": "stream",
          "name": "stderr",
          "text": [
            "\n",
            "100%|██████████| 60/60 [00:00<00:00, 61.38it/s] "
          ]
        },
        {
          "output_type": "stream",
          "name": "stdout",
          "text": [
            "Train Loss:0.1252, Train Acc:79.58\n",
            "validation start\n"
          ]
        },
        {
          "output_type": "stream",
          "name": "stderr",
          "text": [
            "\n",
            "15it [00:00, 22.29it/s]\n"
          ]
        },
        {
          "output_type": "stream",
          "name": "stdout",
          "text": [
            "Val Loss:0.0919, Val_Acc:85.00\n",
            "loss 0.1413 - accu 72.3825 - val_loss 0.1066 - val_accu 84.3085\n",
            "=> saved best model\n",
            "Epoch [188/1000]\n"
          ]
        },
        {
          "output_type": "stream",
          "name": "stderr",
          "text": [
            "100%|██████████| 60/60 [00:01<00:00, 56.67it/s]"
          ]
        },
        {
          "output_type": "stream",
          "name": "stdout",
          "text": [
            "Train Loss:0.1301, Train Acc:75.00\n",
            "validation start\n"
          ]
        },
        {
          "output_type": "stream",
          "name": "stderr",
          "text": [
            "\n",
            "15it [00:00, 24.41it/s]"
          ]
        },
        {
          "output_type": "stream",
          "name": "stdout",
          "text": [
            "Val Loss:0.0952, Val_Acc:88.33\n",
            "loss 0.1412 - accu 72.3964 - val_loss 0.1066 - val_accu 84.3298\n",
            "=> saved best model\n",
            "Epoch [189/1000]\n"
          ]
        },
        {
          "output_type": "stream",
          "name": "stderr",
          "text": [
            "\n",
            "100%|██████████| 60/60 [00:00<00:00, 60.26it/s]\n"
          ]
        },
        {
          "output_type": "stream",
          "name": "stdout",
          "text": [
            "Train Loss:0.1312, Train Acc:75.42\n",
            "validation start\n"
          ]
        },
        {
          "output_type": "stream",
          "name": "stderr",
          "text": [
            "15it [00:00, 21.19it/s]"
          ]
        },
        {
          "output_type": "stream",
          "name": "stdout",
          "text": [
            "Val Loss:0.1021, Val_Acc:86.67\n",
            "loss 0.1412 - accu 72.4123 - val_loss 0.1065 - val_accu 84.3421\n",
            "=> saved best model\n",
            "Epoch [190/1000]\n"
          ]
        },
        {
          "output_type": "stream",
          "name": "stderr",
          "text": [
            "\n",
            "100%|██████████| 60/60 [00:01<00:00, 54.83it/s]"
          ]
        },
        {
          "output_type": "stream",
          "name": "stdout",
          "text": [
            "Train Loss:0.1217, Train Acc:78.75\n",
            "validation start\n"
          ]
        },
        {
          "output_type": "stream",
          "name": "stderr",
          "text": [
            "\n",
            "15it [00:00, 23.38it/s]"
          ]
        },
        {
          "output_type": "stream",
          "name": "stdout",
          "text": [
            "Val Loss:0.0936, Val_Acc:88.33\n",
            "loss 0.1411 - accu 72.4455 - val_loss 0.1065 - val_accu 84.3630\n",
            "=> saved best model\n",
            "Epoch [191/1000]\n"
          ]
        },
        {
          "output_type": "stream",
          "name": "stderr",
          "text": [
            "\n",
            "100%|██████████| 60/60 [00:01<00:00, 57.53it/s] "
          ]
        },
        {
          "output_type": "stream",
          "name": "stdout",
          "text": [
            "Train Loss:0.1233, Train Acc:74.58\n",
            "validation start\n"
          ]
        },
        {
          "output_type": "stream",
          "name": "stderr",
          "text": [
            "\n",
            "15it [00:00, 23.75it/s]"
          ]
        },
        {
          "output_type": "stream",
          "name": "stdout",
          "text": [
            "Val Loss:0.0937, Val_Acc:85.00\n",
            "loss 0.1410 - accu 72.4566 - val_loss 0.1064 - val_accu 84.3663\n",
            "=> saved best model\n",
            "Epoch [192/1000]\n"
          ]
        },
        {
          "output_type": "stream",
          "name": "stderr",
          "text": [
            "\n",
            "100%|██████████| 60/60 [00:01<00:00, 55.30it/s]"
          ]
        },
        {
          "output_type": "stream",
          "name": "stdout",
          "text": [
            "Train Loss:0.1233, Train Acc:76.67\n",
            "validation start\n"
          ]
        },
        {
          "output_type": "stream",
          "name": "stderr",
          "text": [
            "\n",
            "15it [00:00, 23.26it/s]"
          ]
        },
        {
          "output_type": "stream",
          "name": "stdout",
          "text": [
            "Val Loss:0.0980, Val_Acc:86.67\n",
            "loss 0.1409 - accu 72.4784 - val_loss 0.1064 - val_accu 84.3782\n",
            "=> saved best model\n",
            "Epoch [193/1000]\n"
          ]
        },
        {
          "output_type": "stream",
          "name": "stderr",
          "text": [
            "\n",
            "100%|██████████| 60/60 [00:01<00:00, 56.72it/s]"
          ]
        },
        {
          "output_type": "stream",
          "name": "stdout",
          "text": [
            "Train Loss:0.1270, Train Acc:76.67\n",
            "validation start\n"
          ]
        },
        {
          "output_type": "stream",
          "name": "stderr",
          "text": [
            "\n",
            "15it [00:00, 24.23it/s]\n"
          ]
        },
        {
          "output_type": "stream",
          "name": "stdout",
          "text": [
            "Val Loss:0.0970, Val_Acc:88.33\n",
            "loss 0.1408 - accu 72.5000 - val_loss 0.1063 - val_accu 84.3986\n",
            "=> saved best model\n",
            "Epoch [194/1000]\n"
          ]
        },
        {
          "output_type": "stream",
          "name": "stderr",
          "text": [
            "100%|██████████| 60/60 [00:01<00:00, 56.44it/s] "
          ]
        },
        {
          "output_type": "stream",
          "name": "stdout",
          "text": [
            "Train Loss:0.1255, Train Acc:75.42\n",
            "validation start\n"
          ]
        },
        {
          "output_type": "stream",
          "name": "stderr",
          "text": [
            "\n",
            "15it [00:00, 22.53it/s]"
          ]
        },
        {
          "output_type": "stream",
          "name": "stdout",
          "text": [
            "Val Loss:0.0926, Val_Acc:88.33\n",
            "loss 0.1407 - accu 72.5150 - val_loss 0.1062 - val_accu 84.4188\n",
            "=> saved best model\n",
            "Epoch [195/1000]\n"
          ]
        },
        {
          "output_type": "stream",
          "name": "stderr",
          "text": [
            "\n",
            "100%|██████████| 60/60 [00:01<00:00, 53.04it/s] "
          ]
        },
        {
          "output_type": "stream",
          "name": "stdout",
          "text": [
            "Train Loss:0.1262, Train Acc:76.25\n",
            "validation start\n"
          ]
        },
        {
          "output_type": "stream",
          "name": "stderr",
          "text": [
            "\n",
            "15it [00:00, 21.70it/s]"
          ]
        },
        {
          "output_type": "stream",
          "name": "stdout",
          "text": [
            "Val Loss:0.1035, Val_Acc:83.33\n",
            "loss 0.1407 - accu 72.5340 - val_loss 0.1062 - val_accu 84.4133\n",
            "Epoch [196/1000]\n"
          ]
        },
        {
          "output_type": "stream",
          "name": "stderr",
          "text": [
            "\n",
            "100%|██████████| 60/60 [00:01<00:00, 55.84it/s]"
          ]
        },
        {
          "output_type": "stream",
          "name": "stdout",
          "text": [
            "Train Loss:0.1252, Train Acc:77.50\n",
            "validation start\n"
          ]
        },
        {
          "output_type": "stream",
          "name": "stderr",
          "text": [
            "\n",
            "15it [00:00, 22.46it/s]"
          ]
        },
        {
          "output_type": "stream",
          "name": "stdout",
          "text": [
            "Val Loss:0.0967, Val_Acc:86.67\n",
            "loss 0.1406 - accu 72.5592 - val_loss 0.1062 - val_accu 84.4247\n",
            "=> saved best model\n",
            "Epoch [197/1000]\n"
          ]
        },
        {
          "output_type": "stream",
          "name": "stderr",
          "text": [
            "\n",
            "100%|██████████| 60/60 [00:01<00:00, 54.96it/s]"
          ]
        },
        {
          "output_type": "stream",
          "name": "stdout",
          "text": [
            "Train Loss:0.1248, Train Acc:75.42\n",
            "validation start\n"
          ]
        },
        {
          "output_type": "stream",
          "name": "stderr",
          "text": [
            "\n",
            "15it [00:00, 23.52it/s]                      "
          ]
        },
        {
          "output_type": "stream",
          "name": "stdout",
          "text": [
            "Val Loss:0.0992, Val_Acc:86.67\n",
            "loss 0.1405 - accu 72.5737 - val_loss 0.1061 - val_accu 84.4360\n",
            "=> saved best model\n",
            "Epoch [198/1000]\n"
          ]
        },
        {
          "output_type": "stream",
          "name": "stderr",
          "text": [
            "\n",
            "100%|██████████| 60/60 [00:01<00:00, 55.33it/s]"
          ]
        },
        {
          "output_type": "stream",
          "name": "stdout",
          "text": [
            "Train Loss:0.1250, Train Acc:75.00\n",
            "validation start\n"
          ]
        },
        {
          "output_type": "stream",
          "name": "stderr",
          "text": [
            "\n",
            "15it [00:00, 23.05it/s]\n"
          ]
        },
        {
          "output_type": "stream",
          "name": "stdout",
          "text": [
            "Val Loss:0.1052, Val_Acc:81.67\n",
            "loss 0.1404 - accu 72.5858 - val_loss 0.1061 - val_accu 84.4221\n",
            "Epoch [199/1000]\n"
          ]
        },
        {
          "output_type": "stream",
          "name": "stderr",
          "text": [
            "100%|██████████| 60/60 [00:01<00:00, 59.40it/s]"
          ]
        },
        {
          "output_type": "stream",
          "name": "stdout",
          "text": [
            "Train Loss:0.1260, Train Acc:75.00\n",
            "validation start\n"
          ]
        },
        {
          "output_type": "stream",
          "name": "stderr",
          "text": [
            "\n",
            "15it [00:00, 23.12it/s]"
          ]
        },
        {
          "output_type": "stream",
          "name": "stdout",
          "text": [
            "Val Loss:0.1032, Val_Acc:83.33\n",
            "loss 0.1404 - accu 72.5979 - val_loss 0.1061 - val_accu 84.4167\n",
            "Epoch [200/1000]\n"
          ]
        },
        {
          "output_type": "stream",
          "name": "stderr",
          "text": [
            "\n",
            "100%|██████████| 60/60 [00:01<00:00, 57.05it/s] "
          ]
        },
        {
          "output_type": "stream",
          "name": "stdout",
          "text": [
            "Train Loss:0.1206, Train Acc:75.42\n",
            "validation start\n"
          ]
        },
        {
          "output_type": "stream",
          "name": "stderr",
          "text": [
            "\n",
            "15it [00:00, 23.91it/s]"
          ]
        },
        {
          "output_type": "stream",
          "name": "stdout",
          "text": [
            "Val Loss:0.0902, Val_Acc:85.00\n",
            "loss 0.1403 - accu 72.6119 - val_loss 0.1060 - val_accu 84.4196\n",
            "Epoch [201/1000]\n"
          ]
        },
        {
          "output_type": "stream",
          "name": "stderr",
          "text": [
            "\n",
            "100%|██████████| 60/60 [00:01<00:00, 56.73it/s]"
          ]
        },
        {
          "output_type": "stream",
          "name": "stdout",
          "text": [
            "Train Loss:0.1315, Train Acc:75.00\n",
            "validation start\n"
          ]
        },
        {
          "output_type": "stream",
          "name": "stderr",
          "text": [
            "\n",
            "15it [00:00, 23.80it/s]"
          ]
        },
        {
          "output_type": "stream",
          "name": "stdout",
          "text": [
            "Val Loss:0.1044, Val_Acc:81.67\n",
            "loss 0.1402 - accu 72.6238 - val_loss 0.1060 - val_accu 84.4059\n",
            "Epoch [202/1000]\n"
          ]
        },
        {
          "output_type": "stream",
          "name": "stderr",
          "text": [
            "\n",
            "100%|██████████| 60/60 [00:01<00:00, 55.55it/s]"
          ]
        },
        {
          "output_type": "stream",
          "name": "stdout",
          "text": [
            "Train Loss:0.1237, Train Acc:76.67\n",
            "validation start\n"
          ]
        },
        {
          "output_type": "stream",
          "name": "stderr",
          "text": [
            "\n",
            "15it [00:00, 22.94it/s]                      "
          ]
        },
        {
          "output_type": "stream",
          "name": "stdout",
          "text": [
            "Val Loss:0.0928, Val_Acc:90.00\n",
            "loss 0.1401 - accu 72.6437 - val_loss 0.1060 - val_accu 84.4335\n",
            "Epoch [203/1000]\n"
          ]
        },
        {
          "output_type": "stream",
          "name": "stderr",
          "text": [
            "\n",
            "100%|██████████| 60/60 [00:01<00:00, 56.67it/s]"
          ]
        },
        {
          "output_type": "stream",
          "name": "stdout",
          "text": [
            "Train Loss:0.1327, Train Acc:75.42\n",
            "validation start\n"
          ]
        },
        {
          "output_type": "stream",
          "name": "stderr",
          "text": [
            "\n",
            "15it [00:00, 22.42it/s]\n"
          ]
        },
        {
          "output_type": "stream",
          "name": "stdout",
          "text": [
            "Val Loss:0.0898, Val_Acc:88.33\n",
            "loss 0.1401 - accu 72.6573 - val_loss 0.1059 - val_accu 84.4526\n",
            "=> saved best model\n",
            "Epoch [204/1000]\n"
          ]
        },
        {
          "output_type": "stream",
          "name": "stderr",
          "text": [
            "100%|██████████| 60/60 [00:01<00:00, 57.52it/s]"
          ]
        },
        {
          "output_type": "stream",
          "name": "stdout",
          "text": [
            "Train Loss:0.1231, Train Acc:76.25\n",
            "validation start\n"
          ]
        },
        {
          "output_type": "stream",
          "name": "stderr",
          "text": [
            "\n",
            "15it [00:00, 23.24it/s]"
          ]
        },
        {
          "output_type": "stream",
          "name": "stdout",
          "text": [
            "Val Loss:0.0986, Val_Acc:86.67\n",
            "loss 0.1400 - accu 72.6748 - val_loss 0.1058 - val_accu 84.4634\n",
            "=> saved best model\n",
            "Epoch [205/1000]\n"
          ]
        },
        {
          "output_type": "stream",
          "name": "stderr",
          "text": [
            "\n",
            "100%|██████████| 60/60 [00:01<00:00, 54.52it/s]"
          ]
        },
        {
          "output_type": "stream",
          "name": "stdout",
          "text": [
            "Train Loss:0.1200, Train Acc:76.67\n",
            "validation start\n"
          ]
        },
        {
          "output_type": "stream",
          "name": "stderr",
          "text": [
            "\n",
            "15it [00:00, 22.62it/s]"
          ]
        },
        {
          "output_type": "stream",
          "name": "stdout",
          "text": [
            "Val Loss:0.0956, Val_Acc:86.67\n",
            "loss 0.1399 - accu 72.6942 - val_loss 0.1058 - val_accu 84.4741\n",
            "=> saved best model\n",
            "Epoch [206/1000]\n"
          ]
        },
        {
          "output_type": "stream",
          "name": "stderr",
          "text": [
            "\n",
            "100%|██████████| 60/60 [00:01<00:00, 58.66it/s]"
          ]
        },
        {
          "output_type": "stream",
          "name": "stdout",
          "text": [
            "Train Loss:0.1273, Train Acc:73.33\n",
            "validation start\n"
          ]
        },
        {
          "output_type": "stream",
          "name": "stderr",
          "text": [
            "\n",
            "15it [00:00, 23.46it/s]                      "
          ]
        },
        {
          "output_type": "stream",
          "name": "stdout",
          "text": [
            "Val Loss:0.0947, Val_Acc:86.67\n",
            "loss 0.1399 - accu 72.6973 - val_loss 0.1057 - val_accu 84.4847\n",
            "=> saved best model\n",
            "Epoch [207/1000]\n"
          ]
        },
        {
          "output_type": "stream",
          "name": "stderr",
          "text": [
            "\n",
            "100%|██████████| 60/60 [00:01<00:00, 54.83it/s] "
          ]
        },
        {
          "output_type": "stream",
          "name": "stdout",
          "text": [
            "Train Loss:0.1260, Train Acc:77.08\n",
            "validation start\n"
          ]
        },
        {
          "output_type": "stream",
          "name": "stderr",
          "text": [
            "\n",
            "15it [00:00, 24.20it/s]"
          ]
        },
        {
          "output_type": "stream",
          "name": "stdout",
          "text": [
            "Val Loss:0.0896, Val_Acc:88.33\n",
            "loss 0.1398 - accu 72.7183 - val_loss 0.1057 - val_accu 84.5032\n",
            "=> saved best model\n",
            "Epoch [208/1000]\n"
          ]
        },
        {
          "output_type": "stream",
          "name": "stderr",
          "text": [
            "\n",
            "100%|██████████| 60/60 [00:01<00:00, 55.77it/s]"
          ]
        },
        {
          "output_type": "stream",
          "name": "stdout",
          "text": [
            "Train Loss:0.1273, Train Acc:72.50\n",
            "validation start\n"
          ]
        },
        {
          "output_type": "stream",
          "name": "stderr",
          "text": [
            "\n",
            "15it [00:00, 22.43it/s]                      \n"
          ]
        },
        {
          "output_type": "stream",
          "name": "stdout",
          "text": [
            "Val Loss:0.0958, Val_Acc:86.67\n",
            "loss 0.1397 - accu 72.7173 - val_loss 0.1056 - val_accu 84.5136\n",
            "=> saved best model\n",
            "Epoch [209/1000]\n"
          ]
        },
        {
          "output_type": "stream",
          "name": "stderr",
          "text": [
            "100%|██████████| 60/60 [00:01<00:00, 56.11it/s]"
          ]
        },
        {
          "output_type": "stream",
          "name": "stdout",
          "text": [
            "Train Loss:0.1252, Train Acc:75.42\n",
            "validation start\n"
          ]
        },
        {
          "output_type": "stream",
          "name": "stderr",
          "text": [
            "\n",
            "15it [00:00, 26.23it/s]\n"
          ]
        },
        {
          "output_type": "stream",
          "name": "stdout",
          "text": [
            "Val Loss:0.0944, Val_Acc:90.00\n",
            "loss 0.1397 - accu 72.7302 - val_loss 0.1056 - val_accu 84.5397\n",
            "=> saved best model\n",
            "Epoch [210/1000]\n"
          ]
        },
        {
          "output_type": "stream",
          "name": "stderr",
          "text": [
            "100%|██████████| 60/60 [00:01<00:00, 59.99it/s]"
          ]
        },
        {
          "output_type": "stream",
          "name": "stdout",
          "text": [
            "Train Loss:0.1197, Train Acc:76.25\n",
            "validation start\n"
          ]
        },
        {
          "output_type": "stream",
          "name": "stderr",
          "text": [
            "\n",
            "15it [00:00, 22.45it/s]                      \n"
          ]
        },
        {
          "output_type": "stream",
          "name": "stdout",
          "text": [
            "Val Loss:0.0927, Val_Acc:88.33\n",
            "loss 0.1396 - accu 72.7468 - val_loss 0.1055 - val_accu 84.5577\n",
            "=> saved best model\n",
            "Epoch [211/1000]\n"
          ]
        },
        {
          "output_type": "stream",
          "name": "stderr",
          "text": [
            "100%|██████████| 60/60 [00:01<00:00, 57.63it/s] "
          ]
        },
        {
          "output_type": "stream",
          "name": "stdout",
          "text": [
            "Train Loss:0.1283, Train Acc:74.17\n",
            "validation start\n"
          ]
        },
        {
          "output_type": "stream",
          "name": "stderr",
          "text": [
            "\n",
            "15it [00:00, 25.29it/s]"
          ]
        },
        {
          "output_type": "stream",
          "name": "stdout",
          "text": [
            "Val Loss:0.0909, Val_Acc:88.33\n",
            "loss 0.1395 - accu 72.7535 - val_loss 0.1054 - val_accu 84.5755\n",
            "=> saved best model\n",
            "Epoch [212/1000]\n"
          ]
        },
        {
          "output_type": "stream",
          "name": "stderr",
          "text": [
            "\n",
            "100%|██████████| 60/60 [00:01<00:00, 57.38it/s]"
          ]
        },
        {
          "output_type": "stream",
          "name": "stdout",
          "text": [
            "Train Loss:0.1250, Train Acc:75.83\n",
            "validation start\n"
          ]
        },
        {
          "output_type": "stream",
          "name": "stderr",
          "text": [
            "\n",
            "15it [00:00, 22.13it/s]"
          ]
        },
        {
          "output_type": "stream",
          "name": "stdout",
          "text": [
            "Val Loss:0.0904, Val_Acc:88.33\n",
            "loss 0.1394 - accu 72.7680 - val_loss 0.1054 - val_accu 84.5931\n",
            "=> saved best model\n",
            "Epoch [213/1000]\n"
          ]
        },
        {
          "output_type": "stream",
          "name": "stderr",
          "text": [
            "\n",
            "100%|██████████| 60/60 [00:01<00:00, 56.78it/s]"
          ]
        },
        {
          "output_type": "stream",
          "name": "stdout",
          "text": [
            "Train Loss:0.1233, Train Acc:76.25\n",
            "validation start\n"
          ]
        },
        {
          "output_type": "stream",
          "name": "stderr",
          "text": [
            "\n",
            "15it [00:00, 21.87it/s]"
          ]
        },
        {
          "output_type": "stream",
          "name": "stdout",
          "text": [
            "Val Loss:0.0942, Val_Acc:88.33\n",
            "loss 0.1394 - accu 72.7843 - val_loss 0.1053 - val_accu 84.6106\n",
            "=> saved best model\n",
            "Epoch [214/1000]\n"
          ]
        },
        {
          "output_type": "stream",
          "name": "stderr",
          "text": [
            "\n",
            "100%|██████████| 60/60 [00:01<00:00, 58.10it/s]"
          ]
        },
        {
          "output_type": "stream",
          "name": "stdout",
          "text": [
            "Train Loss:0.1208, Train Acc:80.83\n",
            "validation start\n"
          ]
        },
        {
          "output_type": "stream",
          "name": "stderr",
          "text": [
            "\n",
            "15it [00:00, 22.52it/s]"
          ]
        },
        {
          "output_type": "stream",
          "name": "stdout",
          "text": [
            "Val Loss:0.1178, Val_Acc:73.33\n",
            "loss 0.1393 - accu 72.8217 - val_loss 0.1054 - val_accu 84.5581\n",
            "Epoch [215/1000]\n"
          ]
        },
        {
          "output_type": "stream",
          "name": "stderr",
          "text": [
            "\n",
            "100%|██████████| 60/60 [00:01<00:00, 58.04it/s]"
          ]
        },
        {
          "output_type": "stream",
          "name": "stdout",
          "text": [
            "Train Loss:0.1238, Train Acc:74.58\n",
            "validation start\n"
          ]
        },
        {
          "output_type": "stream",
          "name": "stderr",
          "text": [
            "\n",
            "15it [00:00, 22.66it/s]                      \n"
          ]
        },
        {
          "output_type": "stream",
          "name": "stdout",
          "text": [
            "Val Loss:0.0910, Val_Acc:85.00\n",
            "loss 0.1392 - accu 72.8299 - val_loss 0.1053 - val_accu 84.5602\n",
            "Epoch [216/1000]\n"
          ]
        },
        {
          "output_type": "stream",
          "name": "stderr",
          "text": [
            "100%|██████████| 60/60 [00:01<00:00, 57.23it/s]"
          ]
        },
        {
          "output_type": "stream",
          "name": "stdout",
          "text": [
            "Train Loss:0.1277, Train Acc:77.92\n",
            "validation start\n"
          ]
        },
        {
          "output_type": "stream",
          "name": "stderr",
          "text": [
            "\n",
            "15it [00:00, 22.60it/s]\n"
          ]
        },
        {
          "output_type": "stream",
          "name": "stdout",
          "text": [
            "Val Loss:0.1110, Val_Acc:78.33\n",
            "loss 0.1392 - accu 72.8533 - val_loss 0.1053 - val_accu 84.5315\n",
            "Epoch [217/1000]\n"
          ]
        },
        {
          "output_type": "stream",
          "name": "stderr",
          "text": [
            "100%|██████████| 60/60 [00:01<00:00, 58.94it/s]"
          ]
        },
        {
          "output_type": "stream",
          "name": "stdout",
          "text": [
            "Train Loss:0.1313, Train Acc:76.25\n",
            "validation start\n"
          ]
        },
        {
          "output_type": "stream",
          "name": "stderr",
          "text": [
            "\n",
            "15it [00:00, 22.75it/s]"
          ]
        },
        {
          "output_type": "stream",
          "name": "stdout",
          "text": [
            "Val Loss:0.0964, Val_Acc:86.67\n",
            "loss 0.1391 - accu 72.8689 - val_loss 0.1053 - val_accu 84.5413\n",
            "Epoch [218/1000]\n"
          ]
        },
        {
          "output_type": "stream",
          "name": "stderr",
          "text": [
            "\n",
            "100%|██████████| 60/60 [00:01<00:00, 58.29it/s]"
          ]
        },
        {
          "output_type": "stream",
          "name": "stdout",
          "text": [
            "Train Loss:0.1205, Train Acc:74.58\n",
            "validation start\n"
          ]
        },
        {
          "output_type": "stream",
          "name": "stderr",
          "text": [
            "\n",
            "15it [00:00, 22.05it/s]                      "
          ]
        },
        {
          "output_type": "stream",
          "name": "stdout",
          "text": [
            "Val Loss:0.0952, Val_Acc:88.33\n",
            "loss 0.1390 - accu 72.8767 - val_loss 0.1052 - val_accu 84.5586\n",
            "Epoch [219/1000]\n"
          ]
        },
        {
          "output_type": "stream",
          "name": "stderr",
          "text": [
            "\n",
            "100%|██████████| 60/60 [00:01<00:00, 55.95it/s]"
          ]
        },
        {
          "output_type": "stream",
          "name": "stdout",
          "text": [
            "Train Loss:0.1219, Train Acc:75.42\n",
            "validation start\n"
          ]
        },
        {
          "output_type": "stream",
          "name": "stderr",
          "text": [
            "\n",
            "15it [00:00, 22.73it/s]"
          ]
        },
        {
          "output_type": "stream",
          "name": "stdout",
          "text": [
            "Val Loss:0.0895, Val_Acc:85.00\n",
            "loss 0.1390 - accu 72.8883 - val_loss 0.1052 - val_accu 84.5606\n",
            "Epoch [220/1000]\n"
          ]
        },
        {
          "output_type": "stream",
          "name": "stderr",
          "text": [
            "\n",
            "100%|██████████| 60/60 [00:01<00:00, 56.09it/s]\n"
          ]
        },
        {
          "output_type": "stream",
          "name": "stdout",
          "text": [
            "Train Loss:0.1228, Train Acc:73.75\n",
            "validation start\n"
          ]
        },
        {
          "output_type": "stream",
          "name": "stderr",
          "text": [
            "15it [00:00, 21.18it/s]"
          ]
        },
        {
          "output_type": "stream",
          "name": "stdout",
          "text": [
            "Val Loss:0.0939, Val_Acc:86.67\n",
            "loss 0.1389 - accu 72.8922 - val_loss 0.1051 - val_accu 84.5701\n",
            "Epoch [221/1000]\n"
          ]
        },
        {
          "output_type": "stream",
          "name": "stderr",
          "text": [
            "\n",
            "100%|██████████| 60/60 [00:01<00:00, 56.17it/s]"
          ]
        },
        {
          "output_type": "stream",
          "name": "stdout",
          "text": [
            "Train Loss:0.1176, Train Acc:79.58\n",
            "validation start\n"
          ]
        },
        {
          "output_type": "stream",
          "name": "stderr",
          "text": [
            "\n",
            "15it [00:00, 20.98it/s]"
          ]
        },
        {
          "output_type": "stream",
          "name": "stdout",
          "text": [
            "Val Loss:0.0962, Val_Acc:86.67\n",
            "loss 0.1388 - accu 72.9223 - val_loss 0.1051 - val_accu 84.5796\n",
            "Epoch [222/1000]\n"
          ]
        },
        {
          "output_type": "stream",
          "name": "stderr",
          "text": [
            "\n",
            "100%|██████████| 60/60 [00:01<00:00, 56.33it/s]"
          ]
        },
        {
          "output_type": "stream",
          "name": "stdout",
          "text": [
            "Train Loss:0.1262, Train Acc:77.08\n",
            "validation start\n"
          ]
        },
        {
          "output_type": "stream",
          "name": "stderr",
          "text": [
            "\n",
            "15it [00:00, 23.36it/s]"
          ]
        },
        {
          "output_type": "stream",
          "name": "stdout",
          "text": [
            "Val Loss:0.0974, Val_Acc:86.67\n",
            "loss 0.1387 - accu 72.9410 - val_loss 0.1050 - val_accu 84.5889\n",
            "Epoch [223/1000]\n"
          ]
        },
        {
          "output_type": "stream",
          "name": "stderr",
          "text": [
            "\n",
            "100%|██████████| 60/60 [00:01<00:00, 55.76it/s]"
          ]
        },
        {
          "output_type": "stream",
          "name": "stdout",
          "text": [
            "Train Loss:0.1300, Train Acc:74.17\n",
            "validation start\n"
          ]
        },
        {
          "output_type": "stream",
          "name": "stderr",
          "text": [
            "\n",
            "15it [00:00, 21.80it/s]"
          ]
        },
        {
          "output_type": "stream",
          "name": "stdout",
          "text": [
            "Val Loss:0.1016, Val_Acc:85.00\n",
            "loss 0.1387 - accu 72.9464 - val_loss 0.1050 - val_accu 84.5908\n",
            "Epoch [224/1000]\n"
          ]
        },
        {
          "output_type": "stream",
          "name": "stderr",
          "text": [
            "\n",
            "100%|██████████| 60/60 [00:01<00:00, 52.22it/s]"
          ]
        },
        {
          "output_type": "stream",
          "name": "stdout",
          "text": [
            "Train Loss:0.1195, Train Acc:72.08\n",
            "validation start\n"
          ]
        },
        {
          "output_type": "stream",
          "name": "stderr",
          "text": [
            "\n",
            "15it [00:00, 21.87it/s]\n"
          ]
        },
        {
          "output_type": "stream",
          "name": "stdout",
          "text": [
            "Val Loss:0.0904, Val_Acc:88.33\n",
            "loss 0.1386 - accu 72.9426 - val_loss 0.1050 - val_accu 84.6074\n",
            "Epoch [225/1000]\n"
          ]
        },
        {
          "output_type": "stream",
          "name": "stderr",
          "text": [
            "100%|██████████| 60/60 [00:01<00:00, 57.38it/s]\n"
          ]
        },
        {
          "output_type": "stream",
          "name": "stdout",
          "text": [
            "Train Loss:0.1186, Train Acc:76.25\n",
            "validation start\n"
          ]
        },
        {
          "output_type": "stream",
          "name": "stderr",
          "text": [
            "15it [00:00, 22.52it/s]"
          ]
        },
        {
          "output_type": "stream",
          "name": "stdout",
          "text": [
            "Val Loss:0.0893, Val_Acc:86.67\n",
            "loss 0.1385 - accu 72.9572 - val_loss 0.1049 - val_accu 84.6165\n",
            "=> saved best model\n",
            "Epoch [226/1000]\n"
          ]
        },
        {
          "output_type": "stream",
          "name": "stderr",
          "text": [
            "\n",
            "100%|██████████| 60/60 [00:01<00:00, 55.84it/s]"
          ]
        },
        {
          "output_type": "stream",
          "name": "stdout",
          "text": [
            "Train Loss:0.1182, Train Acc:76.67\n",
            "validation start\n"
          ]
        },
        {
          "output_type": "stream",
          "name": "stderr",
          "text": [
            "\n",
            "15it [00:00, 21.81it/s]"
          ]
        },
        {
          "output_type": "stream",
          "name": "stdout",
          "text": [
            "Val Loss:0.1131, Val_Acc:75.00\n",
            "loss 0.1384 - accu 72.9736 - val_loss 0.1049 - val_accu 84.5742\n",
            "Epoch [227/1000]\n"
          ]
        },
        {
          "output_type": "stream",
          "name": "stderr",
          "text": [
            "\n",
            "100%|██████████| 60/60 [00:01<00:00, 54.95it/s]"
          ]
        },
        {
          "output_type": "stream",
          "name": "stdout",
          "text": [
            "Train Loss:0.1324, Train Acc:72.92\n",
            "validation start\n"
          ]
        },
        {
          "output_type": "stream",
          "name": "stderr",
          "text": [
            "\n",
            "15it [00:00, 22.49it/s]                      "
          ]
        },
        {
          "output_type": "stream",
          "name": "stdout",
          "text": [
            "Val Loss:0.0874, Val_Acc:88.33\n",
            "loss 0.1384 - accu 72.9733 - val_loss 0.1049 - val_accu 84.5906\n",
            "Epoch [228/1000]\n"
          ]
        },
        {
          "output_type": "stream",
          "name": "stderr",
          "text": [
            "\n",
            "100%|██████████| 60/60 [00:01<00:00, 55.32it/s]"
          ]
        },
        {
          "output_type": "stream",
          "name": "stdout",
          "text": [
            "Train Loss:0.1210, Train Acc:78.33\n",
            "validation start\n"
          ]
        },
        {
          "output_type": "stream",
          "name": "stderr",
          "text": [
            "\n",
            "15it [00:00, 22.31it/s]"
          ]
        },
        {
          "output_type": "stream",
          "name": "stdout",
          "text": [
            "Val Loss:0.0929, Val_Acc:86.67\n",
            "loss 0.1383 - accu 72.9967 - val_loss 0.1048 - val_accu 84.5997\n",
            "Epoch [229/1000]\n"
          ]
        },
        {
          "output_type": "stream",
          "name": "stderr",
          "text": [
            "\n",
            "100%|██████████| 60/60 [00:01<00:00, 55.10it/s]"
          ]
        },
        {
          "output_type": "stream",
          "name": "stdout",
          "text": [
            "Train Loss:0.1256, Train Acc:73.75\n",
            "validation start\n"
          ]
        },
        {
          "output_type": "stream",
          "name": "stderr",
          "text": [
            "\n",
            "15it [00:00, 20.87it/s]"
          ]
        },
        {
          "output_type": "stream",
          "name": "stdout",
          "text": [
            "Val Loss:0.0945, Val_Acc:90.00\n",
            "loss 0.1383 - accu 73.0000 - val_loss 0.1048 - val_accu 84.6232\n",
            "=> saved best model\n",
            "Epoch [230/1000]\n"
          ]
        },
        {
          "output_type": "stream",
          "name": "stderr",
          "text": [
            "\n",
            "100%|██████████| 60/60 [00:01<00:00, 56.46it/s]"
          ]
        },
        {
          "output_type": "stream",
          "name": "stdout",
          "text": [
            "Train Loss:0.1167, Train Acc:76.67\n",
            "validation start\n"
          ]
        },
        {
          "output_type": "stream",
          "name": "stderr",
          "text": [
            "\n",
            "15it [00:00, 23.56it/s]"
          ]
        },
        {
          "output_type": "stream",
          "name": "stdout",
          "text": [
            "Val Loss:0.0910, Val_Acc:86.67\n",
            "loss 0.1382 - accu 73.0159 - val_loss 0.1047 - val_accu 84.6320\n",
            "=> saved best model\n",
            "Epoch [231/1000]\n"
          ]
        },
        {
          "output_type": "stream",
          "name": "stderr",
          "text": [
            "\n",
            "100%|██████████| 60/60 [00:01<00:00, 54.39it/s] "
          ]
        },
        {
          "output_type": "stream",
          "name": "stdout",
          "text": [
            "Train Loss:0.1241, Train Acc:75.42\n",
            "validation start\n"
          ]
        },
        {
          "output_type": "stream",
          "name": "stderr",
          "text": [
            "\n",
            "15it [00:00, 21.49it/s]"
          ]
        },
        {
          "output_type": "stream",
          "name": "stdout",
          "text": [
            "Val Loss:0.0951, Val_Acc:88.33\n",
            "loss 0.1381 - accu 73.0262 - val_loss 0.1047 - val_accu 84.6480\n",
            "=> saved best model\n",
            "Epoch [232/1000]\n"
          ]
        },
        {
          "output_type": "stream",
          "name": "stderr",
          "text": [
            "\n",
            "100%|██████████| 60/60 [00:01<00:00, 54.64it/s] "
          ]
        },
        {
          "output_type": "stream",
          "name": "stdout",
          "text": [
            "Train Loss:0.1269, Train Acc:76.67\n",
            "validation start\n"
          ]
        },
        {
          "output_type": "stream",
          "name": "stderr",
          "text": [
            "\n",
            "15it [00:00, 22.07it/s]                      "
          ]
        },
        {
          "output_type": "stream",
          "name": "stdout",
          "text": [
            "Val Loss:0.0903, Val_Acc:88.33\n",
            "loss 0.1381 - accu 73.0418 - val_loss 0.1046 - val_accu 84.6638\n",
            "=> saved best model\n",
            "Epoch [233/1000]\n"
          ]
        },
        {
          "output_type": "stream",
          "name": "stderr",
          "text": [
            "\n",
            "100%|██████████| 60/60 [00:01<00:00, 54.73it/s]"
          ]
        },
        {
          "output_type": "stream",
          "name": "stdout",
          "text": [
            "Train Loss:0.1166, Train Acc:77.92\n",
            "validation start\n"
          ]
        },
        {
          "output_type": "stream",
          "name": "stderr",
          "text": [
            "\n",
            "15it [00:00, 21.21it/s]\n"
          ]
        },
        {
          "output_type": "stream",
          "name": "stdout",
          "text": [
            "Val Loss:0.0871, Val_Acc:88.33\n",
            "loss 0.1380 - accu 73.0627 - val_loss 0.1045 - val_accu 84.6795\n",
            "=> saved best model\n",
            "Epoch [234/1000]\n"
          ]
        },
        {
          "output_type": "stream",
          "name": "stderr",
          "text": [
            "100%|██████████| 60/60 [00:01<00:00, 53.61it/s]"
          ]
        },
        {
          "output_type": "stream",
          "name": "stdout",
          "text": [
            "Train Loss:0.1247, Train Acc:75.00\n",
            "validation start\n"
          ]
        },
        {
          "output_type": "stream",
          "name": "stderr",
          "text": [
            "\n",
            "15it [00:00, 20.89it/s]\n"
          ]
        },
        {
          "output_type": "stream",
          "name": "stdout",
          "text": [
            "Val Loss:0.0996, Val_Acc:83.33\n",
            "loss 0.1379 - accu 73.0709 - val_loss 0.1045 - val_accu 84.6738\n",
            "Epoch [235/1000]\n"
          ]
        },
        {
          "output_type": "stream",
          "name": "stderr",
          "text": [
            "100%|██████████| 60/60 [00:01<00:00, 53.43it/s]"
          ]
        },
        {
          "output_type": "stream",
          "name": "stdout",
          "text": [
            "Train Loss:0.1222, Train Acc:74.58\n",
            "validation start\n"
          ]
        },
        {
          "output_type": "stream",
          "name": "stderr",
          "text": [
            "\n",
            "15it [00:00, 22.75it/s]"
          ]
        },
        {
          "output_type": "stream",
          "name": "stdout",
          "text": [
            "Val Loss:0.0871, Val_Acc:86.67\n",
            "loss 0.1379 - accu 73.0773 - val_loss 0.1044 - val_accu 84.6822\n",
            "=> saved best model\n",
            "Epoch [236/1000]\n"
          ]
        },
        {
          "output_type": "stream",
          "name": "stderr",
          "text": [
            "\n",
            "100%|██████████| 60/60 [00:01<00:00, 58.61it/s] "
          ]
        },
        {
          "output_type": "stream",
          "name": "stdout",
          "text": [
            "Train Loss:0.1179, Train Acc:75.83\n",
            "validation start\n"
          ]
        },
        {
          "output_type": "stream",
          "name": "stderr",
          "text": [
            "\n",
            "15it [00:00, 22.42it/s]\n"
          ]
        },
        {
          "output_type": "stream",
          "name": "stdout",
          "text": [
            "Val Loss:0.0930, Val_Acc:88.33\n",
            "loss 0.1378 - accu 73.0890 - val_loss 0.1044 - val_accu 84.6976\n",
            "=> saved best model\n",
            "Epoch [237/1000]\n"
          ]
        },
        {
          "output_type": "stream",
          "name": "stderr",
          "text": [
            "100%|██████████| 60/60 [00:01<00:00, 56.31it/s]"
          ]
        },
        {
          "output_type": "stream",
          "name": "stdout",
          "text": [
            "Train Loss:0.1213, Train Acc:76.67\n",
            "validation start\n"
          ]
        },
        {
          "output_type": "stream",
          "name": "stderr",
          "text": [
            "\n",
            "15it [00:00, 21.96it/s]"
          ]
        },
        {
          "output_type": "stream",
          "name": "stdout",
          "text": [
            "Val Loss:0.0942, Val_Acc:88.33\n",
            "loss 0.1377 - accu 73.1040 - val_loss 0.1043 - val_accu 84.7129\n",
            "=> saved best model\n",
            "Epoch [238/1000]\n"
          ]
        },
        {
          "output_type": "stream",
          "name": "stderr",
          "text": [
            "\n",
            "100%|██████████| 60/60 [00:01<00:00, 55.98it/s] "
          ]
        },
        {
          "output_type": "stream",
          "name": "stdout",
          "text": [
            "Train Loss:0.1310, Train Acc:73.33\n",
            "validation start\n"
          ]
        },
        {
          "output_type": "stream",
          "name": "stderr",
          "text": [
            "\n",
            "15it [00:00, 20.66it/s]                      "
          ]
        },
        {
          "output_type": "stream",
          "name": "stdout",
          "text": [
            "Val Loss:0.0941, Val_Acc:88.33\n",
            "loss 0.1377 - accu 73.1050 - val_loss 0.1043 - val_accu 84.7280\n",
            "=> saved best model\n",
            "Epoch [239/1000]\n"
          ]
        },
        {
          "output_type": "stream",
          "name": "stderr",
          "text": [
            "\n",
            "100%|██████████| 60/60 [00:01<00:00, 55.30it/s]"
          ]
        },
        {
          "output_type": "stream",
          "name": "stdout",
          "text": [
            "Train Loss:0.1219, Train Acc:78.75\n",
            "validation start\n"
          ]
        },
        {
          "output_type": "stream",
          "name": "stderr",
          "text": [
            "\n",
            "15it [00:00, 21.32it/s]"
          ]
        },
        {
          "output_type": "stream",
          "name": "stdout",
          "text": [
            "Val Loss:0.0950, Val_Acc:85.00\n",
            "loss 0.1376 - accu 73.1285 - val_loss 0.1043 - val_accu 84.7292\n",
            "=> saved best model\n",
            "Epoch [240/1000]\n"
          ]
        },
        {
          "output_type": "stream",
          "name": "stderr",
          "text": [
            "\n",
            "100%|██████████| 60/60 [00:01<00:00, 55.11it/s]"
          ]
        },
        {
          "output_type": "stream",
          "name": "stdout",
          "text": [
            "Train Loss:0.1237, Train Acc:75.00\n",
            "validation start\n"
          ]
        },
        {
          "output_type": "stream",
          "name": "stderr",
          "text": [
            "\n",
            "15it [00:00, 21.22it/s]"
          ]
        },
        {
          "output_type": "stream",
          "name": "stdout",
          "text": [
            "Val Loss:0.0906, Val_Acc:88.33\n",
            "loss 0.1375 - accu 73.1362 - val_loss 0.1042 - val_accu 84.7441\n",
            "=> saved best model\n",
            "Epoch [241/1000]\n"
          ]
        },
        {
          "output_type": "stream",
          "name": "stderr",
          "text": [
            "\n",
            "100%|██████████| 60/60 [00:01<00:00, 44.27it/s]"
          ]
        },
        {
          "output_type": "stream",
          "name": "stdout",
          "text": [
            "Train Loss:0.1174, Train Acc:80.83\n",
            "validation start\n"
          ]
        },
        {
          "output_type": "stream",
          "name": "stderr",
          "text": [
            "\n",
            "15it [00:00, 22.49it/s]"
          ]
        },
        {
          "output_type": "stream",
          "name": "stdout",
          "text": [
            "Val Loss:0.0975, Val_Acc:86.67\n",
            "loss 0.1375 - accu 73.1680 - val_loss 0.1042 - val_accu 84.7521\n",
            "=> saved best model\n",
            "Epoch [242/1000]\n"
          ]
        },
        {
          "output_type": "stream",
          "name": "stderr",
          "text": [
            "\n",
            "100%|██████████| 60/60 [00:01<00:00, 53.61it/s]"
          ]
        },
        {
          "output_type": "stream",
          "name": "stdout",
          "text": [
            "Train Loss:0.1165, Train Acc:77.50\n",
            "validation start\n"
          ]
        },
        {
          "output_type": "stream",
          "name": "stderr",
          "text": [
            "\n",
            "15it [00:00, 21.38it/s]                      "
          ]
        },
        {
          "output_type": "stream",
          "name": "stdout",
          "text": [
            "Val Loss:0.0986, Val_Acc:86.67\n",
            "loss 0.1374 - accu 73.1859 - val_loss 0.1041 - val_accu 84.7599\n",
            "=> saved best model\n",
            "Epoch [243/1000]\n"
          ]
        },
        {
          "output_type": "stream",
          "name": "stderr",
          "text": [
            "\n",
            "100%|██████████| 60/60 [00:01<00:00, 51.49it/s]"
          ]
        },
        {
          "output_type": "stream",
          "name": "stdout",
          "text": [
            "Train Loss:0.1219, Train Acc:72.08\n",
            "validation start\n"
          ]
        },
        {
          "output_type": "stream",
          "name": "stderr",
          "text": [
            "\n",
            "15it [00:00, 21.44it/s]"
          ]
        },
        {
          "output_type": "stream",
          "name": "stdout",
          "text": [
            "Val Loss:0.0908, Val_Acc:86.67\n",
            "loss 0.1373 - accu 73.1814 - val_loss 0.1041 - val_accu 84.7678\n",
            "=> saved best model\n",
            "Epoch [244/1000]\n"
          ]
        },
        {
          "output_type": "stream",
          "name": "stderr",
          "text": [
            "\n",
            "100%|██████████| 60/60 [00:01<00:00, 55.79it/s]"
          ]
        },
        {
          "output_type": "stream",
          "name": "stdout",
          "text": [
            "Train Loss:0.1189, Train Acc:78.33\n",
            "validation start\n"
          ]
        },
        {
          "output_type": "stream",
          "name": "stderr",
          "text": [
            "\n",
            "15it [00:00, 23.58it/s]"
          ]
        },
        {
          "output_type": "stream",
          "name": "stdout",
          "text": [
            "Val Loss:0.0982, Val_Acc:86.67\n",
            "loss 0.1372 - accu 73.2024 - val_loss 0.1041 - val_accu 84.7755\n",
            "=> saved best model\n",
            "Epoch [245/1000]\n"
          ]
        },
        {
          "output_type": "stream",
          "name": "stderr",
          "text": [
            "\n",
            "100%|██████████| 60/60 [00:01<00:00, 55.54it/s]"
          ]
        },
        {
          "output_type": "stream",
          "name": "stdout",
          "text": [
            "Train Loss:0.1239, Train Acc:76.25\n",
            "validation start\n"
          ]
        },
        {
          "output_type": "stream",
          "name": "stderr",
          "text": [
            "\n",
            "15it [00:00, 19.82it/s]                      \n"
          ]
        },
        {
          "output_type": "stream",
          "name": "stdout",
          "text": [
            "Val Loss:0.0996, Val_Acc:85.00\n",
            "loss 0.1372 - accu 73.2148 - val_loss 0.1041 - val_accu 84.7764\n",
            "=> saved best model\n",
            "Epoch [246/1000]\n"
          ]
        },
        {
          "output_type": "stream",
          "name": "stderr",
          "text": [
            "100%|██████████| 60/60 [00:01<00:00, 52.28it/s]"
          ]
        },
        {
          "output_type": "stream",
          "name": "stdout",
          "text": [
            "Train Loss:0.1261, Train Acc:76.25\n",
            "validation start\n"
          ]
        },
        {
          "output_type": "stream",
          "name": "stderr",
          "text": [
            "\n",
            "15it [00:00, 21.36it/s]"
          ]
        },
        {
          "output_type": "stream",
          "name": "stdout",
          "text": [
            "Val Loss:0.0931, Val_Acc:88.33\n",
            "loss 0.1371 - accu 73.2271 - val_loss 0.1040 - val_accu 84.7908\n",
            "=> saved best model\n",
            "Epoch [247/1000]\n"
          ]
        },
        {
          "output_type": "stream",
          "name": "stderr",
          "text": [
            "\n",
            "100%|██████████| 60/60 [00:01<00:00, 55.48it/s] "
          ]
        },
        {
          "output_type": "stream",
          "name": "stdout",
          "text": [
            "Train Loss:0.1233, Train Acc:76.25\n",
            "validation start\n"
          ]
        },
        {
          "output_type": "stream",
          "name": "stderr",
          "text": [
            "\n",
            "15it [00:00, 22.67it/s]\n"
          ]
        },
        {
          "output_type": "stream",
          "name": "stdout",
          "text": [
            "Val Loss:0.0900, Val_Acc:88.33\n",
            "loss 0.1371 - accu 73.2392 - val_loss 0.1040 - val_accu 84.8051\n",
            "=> saved best model\n",
            "Epoch [248/1000]\n"
          ]
        },
        {
          "output_type": "stream",
          "name": "stderr",
          "text": [
            "100%|██████████| 60/60 [00:01<00:00, 55.28it/s]"
          ]
        },
        {
          "output_type": "stream",
          "name": "stdout",
          "text": [
            "Train Loss:0.1288, Train Acc:79.58\n",
            "validation start\n"
          ]
        },
        {
          "output_type": "stream",
          "name": "stderr",
          "text": [
            "\n",
            "15it [00:00, 22.43it/s]\n"
          ]
        },
        {
          "output_type": "stream",
          "name": "stdout",
          "text": [
            "Val Loss:0.1104, Val_Acc:78.33\n",
            "loss 0.1371 - accu 73.2647 - val_loss 0.1040 - val_accu 84.7791\n",
            "Epoch [249/1000]\n"
          ]
        },
        {
          "output_type": "stream",
          "name": "stderr",
          "text": [
            "100%|██████████| 60/60 [00:01<00:00, 55.10it/s]"
          ]
        },
        {
          "output_type": "stream",
          "name": "stdout",
          "text": [
            "Train Loss:0.1221, Train Acc:75.42\n",
            "validation start\n"
          ]
        },
        {
          "output_type": "stream",
          "name": "stderr",
          "text": [
            "\n",
            "15it [00:00, 22.08it/s]"
          ]
        },
        {
          "output_type": "stream",
          "name": "stdout",
          "text": [
            "Val Loss:0.1042, Val_Acc:83.33\n",
            "loss 0.1370 - accu 73.2733 - val_loss 0.1040 - val_accu 84.7733\n",
            "Epoch [250/1000]\n"
          ]
        },
        {
          "output_type": "stream",
          "name": "stderr",
          "text": [
            "\n",
            "100%|██████████| 60/60 [00:01<00:00, 54.51it/s] "
          ]
        },
        {
          "output_type": "stream",
          "name": "stdout",
          "text": [
            "Train Loss:0.1254, Train Acc:75.42\n",
            "validation start\n"
          ]
        },
        {
          "output_type": "stream",
          "name": "stderr",
          "text": [
            "\n",
            "15it [00:00, 21.57it/s]"
          ]
        },
        {
          "output_type": "stream",
          "name": "stdout",
          "text": [
            "Val Loss:0.1020, Val_Acc:85.00\n",
            "loss 0.1369 - accu 73.2819 - val_loss 0.1040 - val_accu 84.7742\n",
            "Epoch [251/1000]\n"
          ]
        },
        {
          "output_type": "stream",
          "name": "stderr",
          "text": [
            "\n",
            "100%|██████████| 60/60 [00:01<00:00, 57.68it/s]"
          ]
        },
        {
          "output_type": "stream",
          "name": "stdout",
          "text": [
            "Train Loss:0.1189, Train Acc:75.83\n",
            "validation start\n"
          ]
        },
        {
          "output_type": "stream",
          "name": "stderr",
          "text": [
            "\n",
            "15it [00:00, 21.23it/s]"
          ]
        },
        {
          "output_type": "stream",
          "name": "stdout",
          "text": [
            "Val Loss:0.0908, Val_Acc:85.00\n",
            "loss 0.1369 - accu 73.2920 - val_loss 0.1039 - val_accu 84.7751\n",
            "Epoch [252/1000]\n"
          ]
        },
        {
          "output_type": "stream",
          "name": "stderr",
          "text": [
            "\n",
            "100%|██████████| 60/60 [00:01<00:00, 54.62it/s]"
          ]
        },
        {
          "output_type": "stream",
          "name": "stdout",
          "text": [
            "Train Loss:0.1200, Train Acc:78.75\n",
            "validation start\n"
          ]
        },
        {
          "output_type": "stream",
          "name": "stderr",
          "text": [
            "\n",
            "15it [00:00, 24.58it/s]"
          ]
        },
        {
          "output_type": "stream",
          "name": "stdout",
          "text": [
            "Val Loss:0.0937, Val_Acc:86.67\n",
            "loss 0.1368 - accu 73.3136 - val_loss 0.1039 - val_accu 84.7826\n",
            "Epoch [253/1000]\n"
          ]
        },
        {
          "output_type": "stream",
          "name": "stderr",
          "text": [
            "\n",
            "100%|██████████| 60/60 [00:01<00:00, 56.32it/s] "
          ]
        },
        {
          "output_type": "stream",
          "name": "stdout",
          "text": [
            "Train Loss:0.1204, Train Acc:76.25\n",
            "validation start\n"
          ]
        },
        {
          "output_type": "stream",
          "name": "stderr",
          "text": [
            "\n",
            "15it [00:00, 21.63it/s]                      "
          ]
        },
        {
          "output_type": "stream",
          "name": "stdout",
          "text": [
            "Val Loss:0.0944, Val_Acc:85.00\n",
            "loss 0.1367 - accu 73.3251 - val_loss 0.1038 - val_accu 84.7835\n",
            "Epoch [254/1000]\n"
          ]
        },
        {
          "output_type": "stream",
          "name": "stderr",
          "text": [
            "\n",
            "100%|██████████| 60/60 [00:01<00:00, 52.55it/s]"
          ]
        },
        {
          "output_type": "stream",
          "name": "stdout",
          "text": [
            "Train Loss:0.1216, Train Acc:74.58\n",
            "validation start\n"
          ]
        },
        {
          "output_type": "stream",
          "name": "stderr",
          "text": [
            "\n",
            "15it [00:00, 21.46it/s]                      "
          ]
        },
        {
          "output_type": "stream",
          "name": "stdout",
          "text": [
            "Val Loss:0.0877, Val_Acc:88.33\n",
            "loss 0.1367 - accu 73.3301 - val_loss 0.1038 - val_accu 84.7974\n",
            "Epoch [255/1000]\n"
          ]
        },
        {
          "output_type": "stream",
          "name": "stderr",
          "text": [
            "\n",
            "100%|██████████| 60/60 [00:01<00:00, 55.00it/s]"
          ]
        },
        {
          "output_type": "stream",
          "name": "stdout",
          "text": [
            "Train Loss:0.1217, Train Acc:73.75\n",
            "validation start\n"
          ]
        },
        {
          "output_type": "stream",
          "name": "stderr",
          "text": [
            "\n",
            "15it [00:00, 21.37it/s]"
          ]
        },
        {
          "output_type": "stream",
          "name": "stdout",
          "text": [
            "Val Loss:0.0951, Val_Acc:85.00\n",
            "loss 0.1366 - accu 73.3317 - val_loss 0.1037 - val_accu 84.7982\n",
            "Epoch [256/1000]\n"
          ]
        },
        {
          "output_type": "stream",
          "name": "stderr",
          "text": [
            "\n",
            "100%|██████████| 60/60 [00:01<00:00, 56.36it/s]"
          ]
        },
        {
          "output_type": "stream",
          "name": "stdout",
          "text": [
            "Train Loss:0.1180, Train Acc:74.58\n",
            "validation start\n"
          ]
        },
        {
          "output_type": "stream",
          "name": "stderr",
          "text": [
            "\n",
            "15it [00:00, 20.45it/s]"
          ]
        },
        {
          "output_type": "stream",
          "name": "stdout",
          "text": [
            "Val Loss:0.0893, Val_Acc:88.33\n",
            "loss 0.1366 - accu 73.3366 - val_loss 0.1037 - val_accu 84.8119\n",
            "=> saved best model\n",
            "Epoch [257/1000]\n"
          ]
        },
        {
          "output_type": "stream",
          "name": "stderr",
          "text": [
            "\n",
            "100%|██████████| 60/60 [00:01<00:00, 49.60it/s]"
          ]
        },
        {
          "output_type": "stream",
          "name": "stdout",
          "text": [
            "Train Loss:0.1203, Train Acc:80.00\n",
            "validation start\n"
          ]
        },
        {
          "output_type": "stream",
          "name": "stderr",
          "text": [
            "\n",
            "15it [00:00, 20.81it/s]"
          ]
        },
        {
          "output_type": "stream",
          "name": "stdout",
          "text": [
            "Val Loss:0.0924, Val_Acc:86.67\n",
            "loss 0.1365 - accu 73.3624 - val_loss 0.1036 - val_accu 84.8191\n",
            "=> saved best model\n",
            "Epoch [258/1000]\n"
          ]
        },
        {
          "output_type": "stream",
          "name": "stderr",
          "text": [
            "\n",
            "100%|██████████| 60/60 [00:01<00:00, 51.81it/s]"
          ]
        },
        {
          "output_type": "stream",
          "name": "stdout",
          "text": [
            "Train Loss:0.1167, Train Acc:77.50\n",
            "validation start\n"
          ]
        },
        {
          "output_type": "stream",
          "name": "stderr",
          "text": [
            "\n",
            "15it [00:00, 21.15it/s]"
          ]
        },
        {
          "output_type": "stream",
          "name": "stdout",
          "text": [
            "Val Loss:0.0875, Val_Acc:88.33\n",
            "loss 0.1364 - accu 73.3784 - val_loss 0.1036 - val_accu 84.8327\n",
            "=> saved best model\n",
            "Epoch [259/1000]\n"
          ]
        },
        {
          "output_type": "stream",
          "name": "stderr",
          "text": [
            "\n",
            "100%|██████████| 60/60 [00:01<00:00, 51.72it/s] "
          ]
        },
        {
          "output_type": "stream",
          "name": "stdout",
          "text": [
            "Train Loss:0.1254, Train Acc:75.83\n",
            "validation start\n"
          ]
        },
        {
          "output_type": "stream",
          "name": "stderr",
          "text": [
            "\n",
            "15it [00:00, 22.03it/s]"
          ]
        },
        {
          "output_type": "stream",
          "name": "stdout",
          "text": [
            "Val Loss:0.1075, Val_Acc:78.33\n",
            "loss 0.1364 - accu 73.3878 - val_loss 0.1036 - val_accu 84.8077\n",
            "Epoch [260/1000]\n"
          ]
        },
        {
          "output_type": "stream",
          "name": "stderr",
          "text": [
            "\n",
            "100%|██████████| 60/60 [00:01<00:00, 56.47it/s]"
          ]
        },
        {
          "output_type": "stream",
          "name": "stdout",
          "text": [
            "Train Loss:0.1260, Train Acc:74.58\n",
            "validation start\n"
          ]
        },
        {
          "output_type": "stream",
          "name": "stderr",
          "text": [
            "\n",
            "15it [00:00, 21.29it/s]\n"
          ]
        },
        {
          "output_type": "stream",
          "name": "stdout",
          "text": [
            "Val Loss:0.1012, Val_Acc:85.00\n",
            "loss 0.1363 - accu 73.3924 - val_loss 0.1036 - val_accu 84.8084\n",
            "Epoch [261/1000]\n"
          ]
        },
        {
          "output_type": "stream",
          "name": "stderr",
          "text": [
            "100%|██████████| 60/60 [00:01<00:00, 55.69it/s]\n"
          ]
        },
        {
          "output_type": "stream",
          "name": "stdout",
          "text": [
            "Train Loss:0.1233, Train Acc:74.17\n",
            "validation start\n"
          ]
        },
        {
          "output_type": "stream",
          "name": "stderr",
          "text": [
            "15it [00:00, 20.95it/s]"
          ]
        },
        {
          "output_type": "stream",
          "name": "stdout",
          "text": [
            "Val Loss:0.0904, Val_Acc:86.67\n",
            "loss 0.1363 - accu 73.3954 - val_loss 0.1035 - val_accu 84.8155\n",
            "Epoch [262/1000]\n"
          ]
        },
        {
          "output_type": "stream",
          "name": "stderr",
          "text": [
            "\n",
            "100%|██████████| 60/60 [00:01<00:00, 54.47it/s]"
          ]
        },
        {
          "output_type": "stream",
          "name": "stdout",
          "text": [
            "Train Loss:0.1227, Train Acc:77.08\n",
            "validation start\n"
          ]
        },
        {
          "output_type": "stream",
          "name": "stderr",
          "text": [
            "\n",
            "15it [00:00, 22.49it/s]"
          ]
        },
        {
          "output_type": "stream",
          "name": "stdout",
          "text": [
            "Val Loss:0.0946, Val_Acc:86.67\n",
            "loss 0.1362 - accu 73.4094 - val_loss 0.1035 - val_accu 84.8226\n",
            "Epoch [263/1000]\n"
          ]
        },
        {
          "output_type": "stream",
          "name": "stderr",
          "text": [
            "\n",
            "100%|██████████| 60/60 [00:01<00:00, 54.04it/s]"
          ]
        },
        {
          "output_type": "stream",
          "name": "stdout",
          "text": [
            "Train Loss:0.1203, Train Acc:75.83\n",
            "validation start\n"
          ]
        },
        {
          "output_type": "stream",
          "name": "stderr",
          "text": [
            "\n",
            "15it [00:00, 21.64it/s]\n"
          ]
        },
        {
          "output_type": "stream",
          "name": "stdout",
          "text": [
            "Val Loss:0.0933, Val_Acc:88.33\n",
            "loss 0.1362 - accu 73.4186 - val_loss 0.1035 - val_accu 84.8359\n",
            "=> saved best model\n",
            "Epoch [264/1000]\n"
          ]
        },
        {
          "output_type": "stream",
          "name": "stderr",
          "text": [
            "100%|██████████| 60/60 [00:01<00:00, 55.45it/s]"
          ]
        },
        {
          "output_type": "stream",
          "name": "stdout",
          "text": [
            "Train Loss:0.1175, Train Acc:76.67\n",
            "validation start\n"
          ]
        },
        {
          "output_type": "stream",
          "name": "stderr",
          "text": [
            "\n",
            "15it [00:00, 21.87it/s]"
          ]
        },
        {
          "output_type": "stream",
          "name": "stdout",
          "text": [
            "Val Loss:0.0902, Val_Acc:88.33\n",
            "loss 0.1361 - accu 73.4308 - val_loss 0.1034 - val_accu 84.8491\n",
            "=> saved best model\n",
            "Epoch [265/1000]\n"
          ]
        },
        {
          "output_type": "stream",
          "name": "stderr",
          "text": [
            "\n",
            "100%|██████████| 60/60 [00:01<00:00, 57.13it/s]"
          ]
        },
        {
          "output_type": "stream",
          "name": "stdout",
          "text": [
            "Train Loss:0.1225, Train Acc:78.33\n",
            "validation start\n"
          ]
        },
        {
          "output_type": "stream",
          "name": "stderr",
          "text": [
            "\n",
            "15it [00:00, 22.30it/s]"
          ]
        },
        {
          "output_type": "stream",
          "name": "stdout",
          "text": [
            "Val Loss:0.0872, Val_Acc:88.33\n",
            "loss 0.1360 - accu 73.4492 - val_loss 0.1034 - val_accu 84.8622\n",
            "=> saved best model\n",
            "Epoch [266/1000]\n"
          ]
        },
        {
          "output_type": "stream",
          "name": "stderr",
          "text": [
            "\n",
            "100%|██████████| 60/60 [00:01<00:00, 53.06it/s] "
          ]
        },
        {
          "output_type": "stream",
          "name": "stdout",
          "text": [
            "Train Loss:0.1215, Train Acc:78.33\n",
            "validation start\n"
          ]
        },
        {
          "output_type": "stream",
          "name": "stderr",
          "text": [
            "\n",
            "15it [00:00, 20.20it/s]"
          ]
        },
        {
          "output_type": "stream",
          "name": "stdout",
          "text": [
            "Val Loss:0.0899, Val_Acc:88.33\n",
            "loss 0.1360 - accu 73.4675 - val_loss 0.1033 - val_accu 84.8752\n",
            "=> saved best model\n",
            "Epoch [267/1000]\n"
          ]
        },
        {
          "output_type": "stream",
          "name": "stderr",
          "text": [
            "\n",
            "100%|██████████| 60/60 [00:01<00:00, 53.99it/s]"
          ]
        },
        {
          "output_type": "stream",
          "name": "stdout",
          "text": [
            "Train Loss:0.1229, Train Acc:77.08\n",
            "validation start\n"
          ]
        },
        {
          "output_type": "stream",
          "name": "stderr",
          "text": [
            "\n",
            "15it [00:00, 22.19it/s]"
          ]
        },
        {
          "output_type": "stream",
          "name": "stdout",
          "text": [
            "Val Loss:0.0872, Val_Acc:88.33\n",
            "loss 0.1359 - accu 73.4810 - val_loss 0.1032 - val_accu 84.8881\n",
            "=> saved best model\n",
            "Epoch [268/1000]\n"
          ]
        },
        {
          "output_type": "stream",
          "name": "stderr",
          "text": [
            "\n",
            "100%|██████████| 60/60 [00:01<00:00, 55.88it/s]"
          ]
        },
        {
          "output_type": "stream",
          "name": "stdout",
          "text": [
            "Train Loss:0.1199, Train Acc:79.17\n",
            "validation start\n"
          ]
        },
        {
          "output_type": "stream",
          "name": "stderr",
          "text": [
            "\n",
            "15it [00:00, 22.78it/s]"
          ]
        },
        {
          "output_type": "stream",
          "name": "stdout",
          "text": [
            "Val Loss:0.0928, Val_Acc:86.67\n",
            "loss 0.1359 - accu 73.5022 - val_loss 0.1032 - val_accu 84.8947\n",
            "=> saved best model\n",
            "Epoch [269/1000]\n"
          ]
        },
        {
          "output_type": "stream",
          "name": "stderr",
          "text": [
            "\n",
            "100%|██████████| 60/60 [00:01<00:00, 53.37it/s]"
          ]
        },
        {
          "output_type": "stream",
          "name": "stdout",
          "text": [
            "Train Loss:0.1165, Train Acc:75.83\n",
            "validation start\n"
          ]
        },
        {
          "output_type": "stream",
          "name": "stderr",
          "text": [
            "\n",
            "15it [00:00, 20.72it/s]"
          ]
        },
        {
          "output_type": "stream",
          "name": "stdout",
          "text": [
            "Val Loss:0.0885, Val_Acc:86.67\n",
            "loss 0.1358 - accu 73.5108 - val_loss 0.1031 - val_accu 84.9012\n",
            "=> saved best model\n",
            "Epoch [270/1000]\n"
          ]
        },
        {
          "output_type": "stream",
          "name": "stderr",
          "text": [
            "\n",
            "100%|██████████| 60/60 [00:01<00:00, 52.18it/s] "
          ]
        },
        {
          "output_type": "stream",
          "name": "stdout",
          "text": [
            "Train Loss:0.1250, Train Acc:75.00\n",
            "validation start\n"
          ]
        },
        {
          "output_type": "stream",
          "name": "stderr",
          "text": [
            "\n",
            "15it [00:00, 22.15it/s]"
          ]
        },
        {
          "output_type": "stream",
          "name": "stdout",
          "text": [
            "Val Loss:0.0916, Val_Acc:86.67\n",
            "loss 0.1358 - accu 73.5163 - val_loss 0.1031 - val_accu 84.9077\n",
            "=> saved best model\n",
            "Epoch [271/1000]\n"
          ]
        },
        {
          "output_type": "stream",
          "name": "stderr",
          "text": [
            "\n",
            "100%|██████████| 60/60 [00:01<00:00, 55.45it/s]"
          ]
        },
        {
          "output_type": "stream",
          "name": "stdout",
          "text": [
            "Train Loss:0.1279, Train Acc:78.33\n",
            "validation start\n"
          ]
        },
        {
          "output_type": "stream",
          "name": "stderr",
          "text": [
            "\n",
            "15it [00:00, 20.37it/s]"
          ]
        },
        {
          "output_type": "stream",
          "name": "stdout",
          "text": [
            "Val Loss:0.0949, Val_Acc:86.67\n",
            "loss 0.1357 - accu 73.5340 - val_loss 0.1031 - val_accu 84.9142\n",
            "=> saved best model\n",
            "Epoch [272/1000]\n"
          ]
        },
        {
          "output_type": "stream",
          "name": "stderr",
          "text": [
            "\n",
            "100%|██████████| 60/60 [00:01<00:00, 52.07it/s]"
          ]
        },
        {
          "output_type": "stream",
          "name": "stdout",
          "text": [
            "Train Loss:0.1235, Train Acc:74.17\n",
            "validation start\n"
          ]
        },
        {
          "output_type": "stream",
          "name": "stderr",
          "text": [
            "\n",
            "15it [00:00, 21.03it/s]"
          ]
        },
        {
          "output_type": "stream",
          "name": "stdout",
          "text": [
            "Val Loss:0.0931, Val_Acc:83.33\n",
            "loss 0.1357 - accu 73.5363 - val_loss 0.1030 - val_accu 84.9084\n",
            "Epoch [273/1000]\n"
          ]
        },
        {
          "output_type": "stream",
          "name": "stderr",
          "text": [
            "\n",
            "100%|██████████| 60/60 [00:01<00:00, 54.87it/s]"
          ]
        },
        {
          "output_type": "stream",
          "name": "stdout",
          "text": [
            "Train Loss:0.1208, Train Acc:74.58\n",
            "validation start\n"
          ]
        },
        {
          "output_type": "stream",
          "name": "stderr",
          "text": [
            "\n",
            "15it [00:00, 22.29it/s]"
          ]
        },
        {
          "output_type": "stream",
          "name": "stdout",
          "text": [
            "Val Loss:0.0948, Val_Acc:83.33\n",
            "loss 0.1356 - accu 73.5401 - val_loss 0.1030 - val_accu 84.9027\n",
            "Epoch [274/1000]\n"
          ]
        },
        {
          "output_type": "stream",
          "name": "stderr",
          "text": [
            "\n",
            "100%|██████████| 60/60 [00:01<00:00, 50.86it/s]"
          ]
        },
        {
          "output_type": "stream",
          "name": "stdout",
          "text": [
            "Train Loss:0.1129, Train Acc:77.08\n",
            "validation start\n"
          ]
        },
        {
          "output_type": "stream",
          "name": "stderr",
          "text": [
            "\n",
            "15it [00:00, 21.29it/s]                      "
          ]
        },
        {
          "output_type": "stream",
          "name": "stdout",
          "text": [
            "Val Loss:0.0881, Val_Acc:88.33\n",
            "loss 0.1356 - accu 73.5530 - val_loss 0.1030 - val_accu 84.9152\n",
            "=> saved best model\n",
            "Epoch [275/1000]\n"
          ]
        },
        {
          "output_type": "stream",
          "name": "stderr",
          "text": [
            "\n",
            "100%|██████████| 60/60 [00:01<00:00, 53.42it/s]"
          ]
        },
        {
          "output_type": "stream",
          "name": "stdout",
          "text": [
            "Train Loss:0.1158, Train Acc:77.50\n",
            "validation start\n"
          ]
        },
        {
          "output_type": "stream",
          "name": "stderr",
          "text": [
            "\n",
            "15it [00:00, 19.85it/s]"
          ]
        },
        {
          "output_type": "stream",
          "name": "stdout",
          "text": [
            "Val Loss:0.0909, Val_Acc:85.00\n",
            "loss 0.1355 - accu 73.5673 - val_loss 0.1029 - val_accu 84.9155\n",
            "=> saved best model\n",
            "Epoch [276/1000]\n"
          ]
        },
        {
          "output_type": "stream",
          "name": "stderr",
          "text": [
            "\n",
            "100%|██████████| 60/60 [00:01<00:00, 56.13it/s]"
          ]
        },
        {
          "output_type": "stream",
          "name": "stdout",
          "text": [
            "Train Loss:0.1215, Train Acc:74.58\n",
            "validation start\n"
          ]
        },
        {
          "output_type": "stream",
          "name": "stderr",
          "text": [
            "\n",
            "15it [00:00, 20.56it/s]"
          ]
        },
        {
          "output_type": "stream",
          "name": "stdout",
          "text": [
            "Val Loss:0.0951, Val_Acc:85.00\n",
            "loss 0.1354 - accu 73.5710 - val_loss 0.1029 - val_accu 84.9158\n",
            "=> saved best model\n",
            "Epoch [277/1000]\n"
          ]
        },
        {
          "output_type": "stream",
          "name": "stderr",
          "text": [
            "\n",
            "100%|██████████| 60/60 [00:01<00:00, 54.09it/s]"
          ]
        },
        {
          "output_type": "stream",
          "name": "stdout",
          "text": [
            "Train Loss:0.1218, Train Acc:74.58\n",
            "validation start\n"
          ]
        },
        {
          "output_type": "stream",
          "name": "stderr",
          "text": [
            "\n",
            "15it [00:00, 20.44it/s]\n"
          ]
        },
        {
          "output_type": "stream",
          "name": "stdout",
          "text": [
            "Val Loss:0.0892, Val_Acc:88.33\n",
            "loss 0.1354 - accu 73.5746 - val_loss 0.1028 - val_accu 84.9281\n",
            "=> saved best model\n",
            "Epoch [278/1000]\n"
          ]
        },
        {
          "output_type": "stream",
          "name": "stderr",
          "text": [
            "100%|██████████| 60/60 [00:01<00:00, 53.97it/s]"
          ]
        },
        {
          "output_type": "stream",
          "name": "stdout",
          "text": [
            "Train Loss:0.1228, Train Acc:77.08\n",
            "validation start\n"
          ]
        },
        {
          "output_type": "stream",
          "name": "stderr",
          "text": [
            "\n",
            "15it [00:00, 20.28it/s]                      "
          ]
        },
        {
          "output_type": "stream",
          "name": "stdout",
          "text": [
            "Val Loss:0.0870, Val_Acc:86.67\n",
            "loss 0.1353 - accu 73.5872 - val_loss 0.1028 - val_accu 84.9343\n",
            "=> saved best model\n",
            "Epoch [279/1000]\n"
          ]
        },
        {
          "output_type": "stream",
          "name": "stderr",
          "text": [
            "\n",
            "100%|██████████| 60/60 [00:01<00:00, 54.30it/s]"
          ]
        },
        {
          "output_type": "stream",
          "name": "stdout",
          "text": [
            "Train Loss:0.1244, Train Acc:77.08\n",
            "validation start\n"
          ]
        },
        {
          "output_type": "stream",
          "name": "stderr",
          "text": [
            "\n",
            "15it [00:00, 23.47it/s]\n"
          ]
        },
        {
          "output_type": "stream",
          "name": "stdout",
          "text": [
            "Val Loss:0.0906, Val_Acc:85.00\n",
            "loss 0.1353 - accu 73.5997 - val_loss 0.1027 - val_accu 84.9345\n",
            "=> saved best model\n",
            "Epoch [280/1000]\n"
          ]
        },
        {
          "output_type": "stream",
          "name": "stderr",
          "text": [
            "100%|██████████| 60/60 [00:01<00:00, 55.24it/s]"
          ]
        },
        {
          "output_type": "stream",
          "name": "stdout",
          "text": [
            "Train Loss:0.1249, Train Acc:73.75\n",
            "validation start\n"
          ]
        },
        {
          "output_type": "stream",
          "name": "stderr",
          "text": [
            "\n",
            "15it [00:00, 19.43it/s]"
          ]
        },
        {
          "output_type": "stream",
          "name": "stdout",
          "text": [
            "Val Loss:0.0853, Val_Acc:88.33\n",
            "loss 0.1353 - accu 73.6002 - val_loss 0.1027 - val_accu 84.9466\n",
            "=> saved best model\n",
            "Epoch [281/1000]\n"
          ]
        },
        {
          "output_type": "stream",
          "name": "stderr",
          "text": [
            "\n",
            "100%|██████████| 60/60 [00:01<00:00, 53.97it/s]"
          ]
        },
        {
          "output_type": "stream",
          "name": "stdout",
          "text": [
            "Train Loss:0.1171, Train Acc:78.33\n",
            "validation start\n"
          ]
        },
        {
          "output_type": "stream",
          "name": "stderr",
          "text": [
            "\n",
            "15it [00:00, 21.65it/s]"
          ]
        },
        {
          "output_type": "stream",
          "name": "stdout",
          "text": [
            "Val Loss:0.0906, Val_Acc:85.00\n",
            "loss 0.1352 - accu 73.6170 - val_loss 0.1026 - val_accu 84.9468\n",
            "=> saved best model\n",
            "Epoch [282/1000]\n"
          ]
        },
        {
          "output_type": "stream",
          "name": "stderr",
          "text": [
            "\n",
            "100%|██████████| 60/60 [00:01<00:00, 51.97it/s]"
          ]
        },
        {
          "output_type": "stream",
          "name": "stdout",
          "text": [
            "Train Loss:0.1174, Train Acc:73.75\n",
            "validation start\n"
          ]
        },
        {
          "output_type": "stream",
          "name": "stderr",
          "text": [
            "\n",
            "15it [00:00, 21.07it/s]\n"
          ]
        },
        {
          "output_type": "stream",
          "name": "stdout",
          "text": [
            "Val Loss:0.0865, Val_Acc:86.67\n",
            "loss 0.1351 - accu 73.6175 - val_loss 0.1026 - val_accu 84.9529\n",
            "=> saved best model\n",
            "Epoch [283/1000]\n"
          ]
        },
        {
          "output_type": "stream",
          "name": "stderr",
          "text": [
            "100%|██████████| 60/60 [00:01<00:00, 53.42it/s]"
          ]
        },
        {
          "output_type": "stream",
          "name": "stdout",
          "text": [
            "Train Loss:0.1214, Train Acc:75.83\n",
            "validation start\n"
          ]
        },
        {
          "output_type": "stream",
          "name": "stderr",
          "text": [
            "\n",
            "15it [00:00, 21.77it/s]"
          ]
        },
        {
          "output_type": "stream",
          "name": "stdout",
          "text": [
            "Val Loss:0.0933, Val_Acc:83.33\n",
            "loss 0.1351 - accu 73.6253 - val_loss 0.1025 - val_accu 84.9472\n",
            "Epoch [284/1000]\n"
          ]
        },
        {
          "output_type": "stream",
          "name": "stderr",
          "text": [
            "\n",
            "100%|██████████| 60/60 [00:01<00:00, 52.02it/s]"
          ]
        },
        {
          "output_type": "stream",
          "name": "stdout",
          "text": [
            "Train Loss:0.1201, Train Acc:77.92\n",
            "validation start\n"
          ]
        },
        {
          "output_type": "stream",
          "name": "stderr",
          "text": [
            "\n",
            "15it [00:00, 20.64it/s]"
          ]
        },
        {
          "output_type": "stream",
          "name": "stdout",
          "text": [
            "Val Loss:0.1022, Val_Acc:81.67\n",
            "loss 0.1350 - accu 73.6404 - val_loss 0.1025 - val_accu 84.9357\n",
            "Epoch [285/1000]\n"
          ]
        },
        {
          "output_type": "stream",
          "name": "stderr",
          "text": [
            "\n",
            "100%|██████████| 60/60 [00:01<00:00, 53.45it/s]\n"
          ]
        },
        {
          "output_type": "stream",
          "name": "stdout",
          "text": [
            "Train Loss:0.1171, Train Acc:80.00\n",
            "validation start\n"
          ]
        },
        {
          "output_type": "stream",
          "name": "stderr",
          "text": [
            "15it [00:00, 19.96it/s]                      \n"
          ]
        },
        {
          "output_type": "stream",
          "name": "stdout",
          "text": [
            "Val Loss:0.0897, Val_Acc:88.33\n",
            "loss 0.1350 - accu 73.6626 - val_loss 0.1025 - val_accu 84.9476\n",
            "Epoch [286/1000]\n"
          ]
        },
        {
          "output_type": "stream",
          "name": "stderr",
          "text": [
            "100%|██████████| 60/60 [00:01<00:00, 52.68it/s]"
          ]
        },
        {
          "output_type": "stream",
          "name": "stdout",
          "text": [
            "Train Loss:0.1158, Train Acc:78.33\n",
            "validation start\n"
          ]
        },
        {
          "output_type": "stream",
          "name": "stderr",
          "text": [
            "\n",
            "15it [00:00, 20.77it/s]\n"
          ]
        },
        {
          "output_type": "stream",
          "name": "stdout",
          "text": [
            "Val Loss:0.0970, Val_Acc:81.67\n",
            "loss 0.1349 - accu 73.6789 - val_loss 0.1025 - val_accu 84.9361\n",
            "Epoch [287/1000]\n"
          ]
        },
        {
          "output_type": "stream",
          "name": "stderr",
          "text": [
            "100%|██████████| 60/60 [00:01<00:00, 54.19it/s]"
          ]
        },
        {
          "output_type": "stream",
          "name": "stdout",
          "text": [
            "Train Loss:0.1190, Train Acc:75.42\n",
            "validation start\n"
          ]
        },
        {
          "output_type": "stream",
          "name": "stderr",
          "text": [
            "\n",
            "15it [00:00, 21.02it/s]"
          ]
        },
        {
          "output_type": "stream",
          "name": "stdout",
          "text": [
            "Val Loss:0.0948, Val_Acc:85.00\n",
            "loss 0.1349 - accu 73.6849 - val_loss 0.1024 - val_accu 84.9363\n",
            "Epoch [288/1000]\n"
          ]
        },
        {
          "output_type": "stream",
          "name": "stderr",
          "text": [
            "\n",
            "100%|██████████| 60/60 [00:01<00:00, 56.61it/s]"
          ]
        },
        {
          "output_type": "stream",
          "name": "stdout",
          "text": [
            "Train Loss:0.1196, Train Acc:76.67\n",
            "validation start\n"
          ]
        },
        {
          "output_type": "stream",
          "name": "stderr",
          "text": [
            "\n",
            "15it [00:00, 22.08it/s]                      "
          ]
        },
        {
          "output_type": "stream",
          "name": "stdout",
          "text": [
            "Val Loss:0.0872, Val_Acc:86.67\n",
            "loss 0.1348 - accu 73.6952 - val_loss 0.1024 - val_accu 84.9423\n",
            "Epoch [289/1000]\n"
          ]
        },
        {
          "output_type": "stream",
          "name": "stderr",
          "text": [
            "\n",
            "100%|██████████| 60/60 [00:01<00:00, 57.11it/s] "
          ]
        },
        {
          "output_type": "stream",
          "name": "stdout",
          "text": [
            "Train Loss:0.1234, Train Acc:75.83\n",
            "validation start\n"
          ]
        },
        {
          "output_type": "stream",
          "name": "stderr",
          "text": [
            "\n",
            "15it [00:00, 21.77it/s]\n"
          ]
        },
        {
          "output_type": "stream",
          "name": "stdout",
          "text": [
            "Val Loss:0.0901, Val_Acc:86.67\n",
            "loss 0.1348 - accu 73.7026 - val_loss 0.1024 - val_accu 84.9483\n",
            "Epoch [290/1000]\n"
          ]
        },
        {
          "output_type": "stream",
          "name": "stderr",
          "text": [
            "100%|██████████| 60/60 [00:01<00:00, 52.97it/s]"
          ]
        },
        {
          "output_type": "stream",
          "name": "stdout",
          "text": [
            "Train Loss:0.1245, Train Acc:76.67\n",
            "validation start\n"
          ]
        },
        {
          "output_type": "stream",
          "name": "stderr",
          "text": [
            "\n",
            "15it [00:00, 20.78it/s]"
          ]
        },
        {
          "output_type": "stream",
          "name": "stdout",
          "text": [
            "Val Loss:0.0912, Val_Acc:88.33\n",
            "loss 0.1347 - accu 73.7128 - val_loss 0.1023 - val_accu 84.9599\n",
            "=> saved best model\n",
            "Epoch [291/1000]\n"
          ]
        },
        {
          "output_type": "stream",
          "name": "stderr",
          "text": [
            "\n",
            "100%|██████████| 60/60 [00:01<00:00, 54.44it/s]\n"
          ]
        },
        {
          "output_type": "stream",
          "name": "stdout",
          "text": [
            "Train Loss:0.1217, Train Acc:77.92\n",
            "validation start\n"
          ]
        },
        {
          "output_type": "stream",
          "name": "stderr",
          "text": [
            "15it [00:00, 20.97it/s]"
          ]
        },
        {
          "output_type": "stream",
          "name": "stdout",
          "text": [
            "Val Loss:0.0955, Val_Acc:85.00\n",
            "loss 0.1347 - accu 73.7272 - val_loss 0.1023 - val_accu 84.9600\n",
            "=> saved best model\n",
            "Epoch [292/1000]\n"
          ]
        },
        {
          "output_type": "stream",
          "name": "stderr",
          "text": [
            "\n",
            "100%|██████████| 60/60 [00:01<00:00, 53.73it/s]"
          ]
        },
        {
          "output_type": "stream",
          "name": "stdout",
          "text": [
            "Train Loss:0.1274, Train Acc:74.17\n",
            "validation start\n"
          ]
        },
        {
          "output_type": "stream",
          "name": "stderr",
          "text": [
            "\n",
            "15it [00:00, 20.41it/s]                      "
          ]
        },
        {
          "output_type": "stream",
          "name": "stdout",
          "text": [
            "Val Loss:0.0976, Val_Acc:85.00\n",
            "loss 0.1347 - accu 73.7287 - val_loss 0.1023 - val_accu 84.9602\n",
            "=> saved best model\n",
            "Epoch [293/1000]\n"
          ]
        },
        {
          "output_type": "stream",
          "name": "stderr",
          "text": [
            "\n",
            "100%|██████████| 60/60 [00:01<00:00, 52.59it/s]"
          ]
        },
        {
          "output_type": "stream",
          "name": "stdout",
          "text": [
            "Train Loss:0.1200, Train Acc:75.83\n",
            "validation start\n"
          ]
        },
        {
          "output_type": "stream",
          "name": "stderr",
          "text": [
            "\n",
            "15it [00:00, 19.15it/s]"
          ]
        },
        {
          "output_type": "stream",
          "name": "stdout",
          "text": [
            "Val Loss:0.0884, Val_Acc:88.33\n",
            "loss 0.1346 - accu 73.7358 - val_loss 0.1022 - val_accu 84.9717\n",
            "=> saved best model\n",
            "Epoch [294/1000]\n"
          ]
        },
        {
          "output_type": "stream",
          "name": "stderr",
          "text": [
            "\n",
            "100%|██████████| 60/60 [00:01<00:00, 50.99it/s]"
          ]
        },
        {
          "output_type": "stream",
          "name": "stdout",
          "text": [
            "Train Loss:0.1217, Train Acc:76.25\n",
            "validation start\n"
          ]
        },
        {
          "output_type": "stream",
          "name": "stderr",
          "text": [
            "\n",
            "15it [00:00, 19.89it/s]                      "
          ]
        },
        {
          "output_type": "stream",
          "name": "stdout",
          "text": [
            "Val Loss:0.0896, Val_Acc:86.67\n",
            "loss 0.1346 - accu 73.7444 - val_loss 0.1022 - val_accu 84.9774\n",
            "=> saved best model\n",
            "Epoch [295/1000]\n"
          ]
        },
        {
          "output_type": "stream",
          "name": "stderr",
          "text": [
            "\n",
            "100%|██████████| 60/60 [00:01<00:00, 53.41it/s]"
          ]
        },
        {
          "output_type": "stream",
          "name": "stdout",
          "text": [
            "Train Loss:0.1186, Train Acc:76.67\n",
            "validation start\n"
          ]
        },
        {
          "output_type": "stream",
          "name": "stderr",
          "text": [
            "\n",
            "15it [00:00, 20.16it/s]\n"
          ]
        },
        {
          "output_type": "stream",
          "name": "stdout",
          "text": [
            "Val Loss:0.0911, Val_Acc:88.33\n",
            "loss 0.1345 - accu 73.7542 - val_loss 0.1021 - val_accu 84.9887\n",
            "=> saved best model\n",
            "Epoch [296/1000]\n"
          ]
        },
        {
          "output_type": "stream",
          "name": "stderr",
          "text": [
            "100%|██████████| 60/60 [00:01<00:00, 54.15it/s] "
          ]
        },
        {
          "output_type": "stream",
          "name": "stdout",
          "text": [
            "Train Loss:0.1263, Train Acc:75.00\n",
            "validation start\n"
          ]
        },
        {
          "output_type": "stream",
          "name": "stderr",
          "text": [
            "\n",
            "15it [00:00, 20.28it/s]"
          ]
        },
        {
          "output_type": "stream",
          "name": "stdout",
          "text": [
            "Val Loss:0.0866, Val_Acc:88.33\n",
            "loss 0.1345 - accu 73.7584 - val_loss 0.1021 - val_accu 85.0000\n",
            "=> saved best model\n",
            "Epoch [297/1000]\n"
          ]
        },
        {
          "output_type": "stream",
          "name": "stderr",
          "text": [
            "\n",
            "100%|██████████| 60/60 [00:01<00:00, 49.62it/s] "
          ]
        },
        {
          "output_type": "stream",
          "name": "stdout",
          "text": [
            "Train Loss:0.1236, Train Acc:75.42\n",
            "validation start\n"
          ]
        },
        {
          "output_type": "stream",
          "name": "stderr",
          "text": [
            "\n",
            "15it [00:00, 20.65it/s]\n"
          ]
        },
        {
          "output_type": "stream",
          "name": "stdout",
          "text": [
            "Val Loss:0.0930, Val_Acc:85.00\n",
            "loss 0.1344 - accu 73.7640 - val_loss 0.1021 - val_accu 85.0000\n",
            "Epoch [298/1000]\n"
          ]
        },
        {
          "output_type": "stream",
          "name": "stderr",
          "text": [
            "100%|██████████| 60/60 [00:01<00:00, 51.01it/s]"
          ]
        },
        {
          "output_type": "stream",
          "name": "stdout",
          "text": [
            "Train Loss:0.1188, Train Acc:78.33\n",
            "validation start\n"
          ]
        },
        {
          "output_type": "stream",
          "name": "stderr",
          "text": [
            "\n",
            "15it [00:00, 20.60it/s]"
          ]
        },
        {
          "output_type": "stream",
          "name": "stdout",
          "text": [
            "Val Loss:0.0976, Val_Acc:81.67\n",
            "loss 0.1344 - accu 73.7793 - val_loss 0.1020 - val_accu 84.9889\n",
            "Epoch [299/1000]\n"
          ]
        },
        {
          "output_type": "stream",
          "name": "stderr",
          "text": [
            "\n",
            "100%|██████████| 60/60 [00:01<00:00, 52.46it/s]"
          ]
        },
        {
          "output_type": "stream",
          "name": "stdout",
          "text": [
            "Train Loss:0.1182, Train Acc:77.92\n",
            "validation start\n"
          ]
        },
        {
          "output_type": "stream",
          "name": "stderr",
          "text": [
            "\n",
            "15it [00:00, 19.56it/s]"
          ]
        },
        {
          "output_type": "stream",
          "name": "stdout",
          "text": [
            "Val Loss:0.0876, Val_Acc:88.33\n",
            "loss 0.1343 - accu 73.7931 - val_loss 0.1020 - val_accu 85.0000\n",
            "Epoch [300/1000]\n"
          ]
        },
        {
          "output_type": "stream",
          "name": "stderr",
          "text": [
            "\n",
            "100%|██████████| 60/60 [00:01<00:00, 53.42it/s]"
          ]
        },
        {
          "output_type": "stream",
          "name": "stdout",
          "text": [
            "Train Loss:0.1179, Train Acc:76.25\n",
            "validation start\n"
          ]
        },
        {
          "output_type": "stream",
          "name": "stderr",
          "text": [
            "\n",
            "15it [00:00, 20.31it/s]"
          ]
        },
        {
          "output_type": "stream",
          "name": "stdout",
          "text": [
            "Val Loss:0.0886, Val_Acc:88.33\n",
            "loss 0.1343 - accu 73.8012 - val_loss 0.1020 - val_accu 85.0111\n",
            "=> saved best model\n",
            "Epoch [301/1000]\n"
          ]
        },
        {
          "output_type": "stream",
          "name": "stderr",
          "text": [
            "\n",
            "100%|██████████| 60/60 [00:01<00:00, 53.31it/s]"
          ]
        },
        {
          "output_type": "stream",
          "name": "stdout",
          "text": [
            "Train Loss:0.1175, Train Acc:77.08\n",
            "validation start\n"
          ]
        },
        {
          "output_type": "stream",
          "name": "stderr",
          "text": [
            "\n",
            "15it [00:00, 20.04it/s]"
          ]
        },
        {
          "output_type": "stream",
          "name": "stdout",
          "text": [
            "Val Loss:0.0926, Val_Acc:86.67\n",
            "loss 0.1342 - accu 73.8121 - val_loss 0.1019 - val_accu 85.0166\n",
            "=> saved best model\n",
            "Epoch [302/1000]\n"
          ]
        },
        {
          "output_type": "stream",
          "name": "stderr",
          "text": [
            "\n",
            "100%|██████████| 60/60 [00:01<00:00, 53.60it/s] "
          ]
        },
        {
          "output_type": "stream",
          "name": "stdout",
          "text": [
            "Train Loss:0.1176, Train Acc:77.08\n",
            "validation start\n"
          ]
        },
        {
          "output_type": "stream",
          "name": "stderr",
          "text": [
            "\n",
            "15it [00:00, 20.53it/s]"
          ]
        },
        {
          "output_type": "stream",
          "name": "stdout",
          "text": [
            "Val Loss:0.0881, Val_Acc:86.67\n",
            "loss 0.1342 - accu 73.8229 - val_loss 0.1019 - val_accu 85.0220\n",
            "=> saved best model\n",
            "Epoch [303/1000]\n"
          ]
        },
        {
          "output_type": "stream",
          "name": "stderr",
          "text": [
            "\n",
            "100%|██████████| 60/60 [00:01<00:00, 52.59it/s]"
          ]
        },
        {
          "output_type": "stream",
          "name": "stdout",
          "text": [
            "Train Loss:0.1201, Train Acc:76.67\n",
            "validation start\n"
          ]
        },
        {
          "output_type": "stream",
          "name": "stderr",
          "text": [
            "\n",
            "15it [00:00, 20.58it/s]                      "
          ]
        },
        {
          "output_type": "stream",
          "name": "stdout",
          "text": [
            "Val Loss:0.0890, Val_Acc:86.67\n",
            "loss 0.1341 - accu 73.8322 - val_loss 0.1018 - val_accu 85.0274\n",
            "=> saved best model\n",
            "Epoch [304/1000]\n"
          ]
        },
        {
          "output_type": "stream",
          "name": "stderr",
          "text": [
            "\n",
            "100%|██████████| 60/60 [00:01<00:00, 50.06it/s]\n"
          ]
        },
        {
          "output_type": "stream",
          "name": "stdout",
          "text": [
            "Train Loss:0.1188, Train Acc:76.25\n",
            "validation start\n"
          ]
        },
        {
          "output_type": "stream",
          "name": "stderr",
          "text": [
            "15it [00:00, 21.87it/s]"
          ]
        },
        {
          "output_type": "stream",
          "name": "stdout",
          "text": [
            "Val Loss:0.0862, Val_Acc:86.67\n",
            "loss 0.1341 - accu 73.8402 - val_loss 0.1018 - val_accu 85.0328\n",
            "=> saved best model\n",
            "Epoch [305/1000]\n"
          ]
        },
        {
          "output_type": "stream",
          "name": "stderr",
          "text": [
            "\n",
            "100%|██████████| 60/60 [00:01<00:00, 49.23it/s]"
          ]
        },
        {
          "output_type": "stream",
          "name": "stdout",
          "text": [
            "Train Loss:0.1102, Train Acc:77.50\n",
            "validation start\n"
          ]
        },
        {
          "output_type": "stream",
          "name": "stderr",
          "text": [
            "\n",
            "15it [00:00, 19.60it/s]                      "
          ]
        },
        {
          "output_type": "stream",
          "name": "stdout",
          "text": [
            "Val Loss:0.0865, Val_Acc:86.67\n",
            "loss 0.1340 - accu 73.8521 - val_loss 0.1017 - val_accu 85.0381\n",
            "=> saved best model\n",
            "Epoch [306/1000]\n"
          ]
        },
        {
          "output_type": "stream",
          "name": "stderr",
          "text": [
            "\n",
            "100%|██████████| 60/60 [00:01<00:00, 53.98it/s]"
          ]
        },
        {
          "output_type": "stream",
          "name": "stdout",
          "text": [
            "Train Loss:0.1287, Train Acc:75.42\n",
            "validation start\n"
          ]
        },
        {
          "output_type": "stream",
          "name": "stderr",
          "text": [
            "\n",
            "15it [00:00, 20.45it/s]                      "
          ]
        },
        {
          "output_type": "stream",
          "name": "stdout",
          "text": [
            "Val Loss:0.0878, Val_Acc:88.33\n",
            "loss 0.1340 - accu 73.8572 - val_loss 0.1017 - val_accu 85.0489\n",
            "=> saved best model\n",
            "Epoch [307/1000]\n"
          ]
        },
        {
          "output_type": "stream",
          "name": "stderr",
          "text": [
            "\n",
            "100%|██████████| 60/60 [00:01<00:00, 53.45it/s]"
          ]
        },
        {
          "output_type": "stream",
          "name": "stdout",
          "text": [
            "Train Loss:0.1177, Train Acc:78.75\n",
            "validation start\n"
          ]
        },
        {
          "output_type": "stream",
          "name": "stderr",
          "text": [
            "\n",
            "15it [00:00, 21.27it/s]\n"
          ]
        },
        {
          "output_type": "stream",
          "name": "stdout",
          "text": [
            "Val Loss:0.0911, Val_Acc:86.67\n",
            "loss 0.1339 - accu 73.8731 - val_loss 0.1017 - val_accu 85.0541\n",
            "=> saved best model\n",
            "Epoch [308/1000]\n"
          ]
        },
        {
          "output_type": "stream",
          "name": "stderr",
          "text": [
            "100%|██████████| 60/60 [00:01<00:00, 51.00it/s]"
          ]
        },
        {
          "output_type": "stream",
          "name": "stdout",
          "text": [
            "Train Loss:0.1126, Train Acc:75.83\n",
            "validation start\n"
          ]
        },
        {
          "output_type": "stream",
          "name": "stderr",
          "text": [
            "\n",
            "15it [00:00, 20.63it/s]                      \n"
          ]
        },
        {
          "output_type": "stream",
          "name": "stdout",
          "text": [
            "Val Loss:0.0863, Val_Acc:86.67\n",
            "loss 0.1339 - accu 73.8794 - val_loss 0.1016 - val_accu 85.0593\n",
            "=> saved best model\n",
            "Epoch [309/1000]\n"
          ]
        },
        {
          "output_type": "stream",
          "name": "stderr",
          "text": [
            "100%|██████████| 60/60 [00:01<00:00, 54.47it/s]"
          ]
        },
        {
          "output_type": "stream",
          "name": "stdout",
          "text": [
            "Train Loss:0.1130, Train Acc:77.92\n",
            "validation start\n"
          ]
        },
        {
          "output_type": "stream",
          "name": "stderr",
          "text": [
            "\n",
            "15it [00:00, 22.31it/s]"
          ]
        },
        {
          "output_type": "stream",
          "name": "stdout",
          "text": [
            "Val Loss:0.0841, Val_Acc:90.00\n",
            "loss 0.1338 - accu 73.8925 - val_loss 0.1016 - val_accu 85.0753\n",
            "=> saved best model\n",
            "Epoch [310/1000]\n"
          ]
        },
        {
          "output_type": "stream",
          "name": "stderr",
          "text": [
            "\n",
            "100%|██████████| 60/60 [00:01<00:00, 52.85it/s]"
          ]
        },
        {
          "output_type": "stream",
          "name": "stdout",
          "text": [
            "Train Loss:0.1221, Train Acc:76.67\n",
            "validation start\n"
          ]
        },
        {
          "output_type": "stream",
          "name": "stderr",
          "text": [
            "\n",
            "15it [00:00, 19.98it/s]"
          ]
        },
        {
          "output_type": "stream",
          "name": "stdout",
          "text": [
            "Val Loss:0.0948, Val_Acc:85.00\n",
            "loss 0.1338 - accu 73.9014 - val_loss 0.1015 - val_accu 85.0750\n",
            "Epoch [311/1000]\n"
          ]
        },
        {
          "output_type": "stream",
          "name": "stderr",
          "text": [
            "\n",
            "100%|██████████| 60/60 [00:01<00:00, 51.70it/s]"
          ]
        },
        {
          "output_type": "stream",
          "name": "stdout",
          "text": [
            "Train Loss:0.1185, Train Acc:75.42\n",
            "validation start\n"
          ]
        },
        {
          "output_type": "stream",
          "name": "stderr",
          "text": [
            "\n",
            "15it [00:00, 19.65it/s]\n"
          ]
        },
        {
          "output_type": "stream",
          "name": "stdout",
          "text": [
            "Val Loss:0.0872, Val_Acc:88.33\n",
            "loss 0.1337 - accu 73.9062 - val_loss 0.1015 - val_accu 85.0855\n",
            "=> saved best model\n",
            "Epoch [312/1000]\n"
          ]
        },
        {
          "output_type": "stream",
          "name": "stderr",
          "text": [
            "100%|██████████| 60/60 [00:01<00:00, 52.20it/s] "
          ]
        },
        {
          "output_type": "stream",
          "name": "stdout",
          "text": [
            "Train Loss:0.1207, Train Acc:79.17\n",
            "validation start\n"
          ]
        },
        {
          "output_type": "stream",
          "name": "stderr",
          "text": [
            "\n",
            "15it [00:00, 21.44it/s]"
          ]
        },
        {
          "output_type": "stream",
          "name": "stdout",
          "text": [
            "Val Loss:0.0929, Val_Acc:86.67\n",
            "loss 0.1337 - accu 73.9231 - val_loss 0.1015 - val_accu 85.0905\n",
            "=> saved best model\n",
            "Epoch [313/1000]\n"
          ]
        },
        {
          "output_type": "stream",
          "name": "stderr",
          "text": [
            "\n",
            "100%|██████████| 60/60 [00:01<00:00, 53.80it/s] "
          ]
        },
        {
          "output_type": "stream",
          "name": "stdout",
          "text": [
            "Train Loss:0.1198, Train Acc:75.83\n",
            "validation start\n"
          ]
        },
        {
          "output_type": "stream",
          "name": "stderr",
          "text": [
            "\n",
            "15it [00:00, 20.25it/s]\n"
          ]
        },
        {
          "output_type": "stream",
          "name": "stdout",
          "text": [
            "Val Loss:0.0888, Val_Acc:86.67\n",
            "loss 0.1336 - accu 73.9291 - val_loss 0.1014 - val_accu 85.0955\n",
            "=> saved best model\n",
            "Epoch [314/1000]\n"
          ]
        },
        {
          "output_type": "stream",
          "name": "stderr",
          "text": [
            "100%|██████████| 60/60 [00:01<00:00, 52.70it/s]"
          ]
        },
        {
          "output_type": "stream",
          "name": "stdout",
          "text": [
            "Train Loss:0.1130, Train Acc:75.83\n",
            "validation start\n"
          ]
        },
        {
          "output_type": "stream",
          "name": "stderr",
          "text": [
            "\n",
            "15it [00:00, 20.13it/s]"
          ]
        },
        {
          "output_type": "stream",
          "name": "stdout",
          "text": [
            "Val Loss:0.0877, Val_Acc:86.67\n",
            "loss 0.1336 - accu 73.9352 - val_loss 0.1014 - val_accu 85.1005\n",
            "=> saved best model\n",
            "Epoch [315/1000]\n"
          ]
        },
        {
          "output_type": "stream",
          "name": "stderr",
          "text": [
            "\n",
            "100%|██████████| 60/60 [00:01<00:00, 52.85it/s] "
          ]
        },
        {
          "output_type": "stream",
          "name": "stdout",
          "text": [
            "Train Loss:0.1195, Train Acc:76.67\n",
            "validation start\n"
          ]
        },
        {
          "output_type": "stream",
          "name": "stderr",
          "text": [
            "\n",
            "15it [00:00, 19.78it/s]\n"
          ]
        },
        {
          "output_type": "stream",
          "name": "stdout",
          "text": [
            "Val Loss:0.0932, Val_Acc:86.67\n",
            "loss 0.1335 - accu 73.9438 - val_loss 0.1013 - val_accu 85.1055\n",
            "=> saved best model\n",
            "Epoch [316/1000]\n"
          ]
        },
        {
          "output_type": "stream",
          "name": "stderr",
          "text": [
            "100%|██████████| 60/60 [00:01<00:00, 52.01it/s]"
          ]
        },
        {
          "output_type": "stream",
          "name": "stdout",
          "text": [
            "Train Loss:0.1286, Train Acc:71.25\n",
            "validation start\n"
          ]
        },
        {
          "output_type": "stream",
          "name": "stderr",
          "text": [
            "\n",
            "15it [00:00, 20.50it/s]"
          ]
        },
        {
          "output_type": "stream",
          "name": "stdout",
          "text": [
            "Val Loss:0.0908, Val_Acc:86.67\n",
            "loss 0.1335 - accu 73.9353 - val_loss 0.1013 - val_accu 85.1104\n",
            "=> saved best model\n",
            "Epoch [317/1000]\n"
          ]
        },
        {
          "output_type": "stream",
          "name": "stderr",
          "text": [
            "\n",
            "100%|██████████| 60/60 [00:01<00:00, 50.16it/s] "
          ]
        },
        {
          "output_type": "stream",
          "name": "stdout",
          "text": [
            "Train Loss:0.1216, Train Acc:78.33\n",
            "validation start\n"
          ]
        },
        {
          "output_type": "stream",
          "name": "stderr",
          "text": [
            "\n",
            "15it [00:00, 20.31it/s]\n"
          ]
        },
        {
          "output_type": "stream",
          "name": "stdout",
          "text": [
            "Val Loss:0.1019, Val_Acc:85.00\n",
            "loss 0.1335 - accu 73.9492 - val_loss 0.1013 - val_accu 85.1101\n",
            "Epoch [318/1000]\n"
          ]
        },
        {
          "output_type": "stream",
          "name": "stderr",
          "text": [
            "100%|██████████| 60/60 [00:01<00:00, 52.45it/s]"
          ]
        },
        {
          "output_type": "stream",
          "name": "stdout",
          "text": [
            "Train Loss:0.1172, Train Acc:77.08\n",
            "validation start\n"
          ]
        },
        {
          "output_type": "stream",
          "name": "stderr",
          "text": [
            "\n",
            "15it [00:00, 19.91it/s]"
          ]
        },
        {
          "output_type": "stream",
          "name": "stdout",
          "text": [
            "Val Loss:0.0906, Val_Acc:88.33\n",
            "loss 0.1334 - accu 73.9590 - val_loss 0.1013 - val_accu 85.1202\n",
            "=> saved best model\n",
            "Epoch [319/1000]\n"
          ]
        },
        {
          "output_type": "stream",
          "name": "stderr",
          "text": [
            "\n",
            "100%|██████████| 60/60 [00:01<00:00, 53.43it/s] "
          ]
        },
        {
          "output_type": "stream",
          "name": "stdout",
          "text": [
            "Train Loss:0.1183, Train Acc:78.75\n",
            "validation start\n"
          ]
        },
        {
          "output_type": "stream",
          "name": "stderr",
          "text": [
            "\n",
            "15it [00:00, 20.03it/s]\n"
          ]
        },
        {
          "output_type": "stream",
          "name": "stdout",
          "text": [
            "Val Loss:0.0987, Val_Acc:86.67\n",
            "loss 0.1334 - accu 73.9740 - val_loss 0.1013 - val_accu 85.1250\n",
            "=> saved best model\n",
            "Epoch [320/1000]\n"
          ]
        },
        {
          "output_type": "stream",
          "name": "stderr",
          "text": [
            "100%|██████████| 60/60 [00:01<00:00, 53.07it/s]"
          ]
        },
        {
          "output_type": "stream",
          "name": "stdout",
          "text": [
            "Train Loss:0.1156, Train Acc:78.75\n",
            "validation start\n"
          ]
        },
        {
          "output_type": "stream",
          "name": "stderr",
          "text": [
            "\n",
            "15it [00:00, 20.06it/s]"
          ]
        },
        {
          "output_type": "stream",
          "name": "stdout",
          "text": [
            "Val Loss:0.0896, Val_Acc:88.33\n",
            "loss 0.1333 - accu 73.9888 - val_loss 0.1012 - val_accu 85.1350\n",
            "=> saved best model\n",
            "Epoch [321/1000]\n"
          ]
        },
        {
          "output_type": "stream",
          "name": "stderr",
          "text": [
            "\n",
            "100%|██████████| 60/60 [00:01<00:00, 51.02it/s]"
          ]
        },
        {
          "output_type": "stream",
          "name": "stdout",
          "text": [
            "Train Loss:0.1215, Train Acc:76.67\n",
            "validation start\n"
          ]
        },
        {
          "output_type": "stream",
          "name": "stderr",
          "text": [
            "\n",
            "15it [00:00, 19.05it/s]\n"
          ]
        },
        {
          "output_type": "stream",
          "name": "stdout",
          "text": [
            "Val Loss:0.0910, Val_Acc:90.00\n",
            "loss 0.1333 - accu 73.9972 - val_loss 0.1012 - val_accu 85.1501\n",
            "=> saved best model\n",
            "Epoch [322/1000]\n"
          ]
        },
        {
          "output_type": "stream",
          "name": "stderr",
          "text": [
            "100%|██████████| 60/60 [00:01<00:00, 50.15it/s] "
          ]
        },
        {
          "output_type": "stream",
          "name": "stdout",
          "text": [
            "Train Loss:0.1151, Train Acc:79.58\n",
            "validation start\n"
          ]
        },
        {
          "output_type": "stream",
          "name": "stderr",
          "text": [
            "\n",
            "15it [00:00, 18.37it/s]"
          ]
        },
        {
          "output_type": "stream",
          "name": "stdout",
          "text": [
            "Val Loss:0.0865, Val_Acc:88.33\n",
            "loss 0.1332 - accu 74.0144 - val_loss 0.1012 - val_accu 85.1600\n",
            "=> saved best model\n",
            "Epoch [323/1000]\n"
          ]
        },
        {
          "output_type": "stream",
          "name": "stderr",
          "text": [
            "\n",
            "100%|██████████| 60/60 [00:01<00:00, 51.10it/s]"
          ]
        },
        {
          "output_type": "stream",
          "name": "stdout",
          "text": [
            "Train Loss:0.1187, Train Acc:75.42\n",
            "validation start\n"
          ]
        },
        {
          "output_type": "stream",
          "name": "stderr",
          "text": [
            "\n",
            "15it [00:00, 19.66it/s]"
          ]
        },
        {
          "output_type": "stream",
          "name": "stdout",
          "text": [
            "Val Loss:0.0903, Val_Acc:86.67\n",
            "loss 0.1332 - accu 74.0188 - val_loss 0.1011 - val_accu 85.1646\n",
            "=> saved best model\n",
            "Epoch [324/1000]\n"
          ]
        },
        {
          "output_type": "stream",
          "name": "stderr",
          "text": [
            "\n",
            "100%|██████████| 60/60 [00:01<00:00, 50.29it/s]"
          ]
        },
        {
          "output_type": "stream",
          "name": "stdout",
          "text": [
            "Train Loss:0.1199, Train Acc:75.00\n",
            "validation start\n"
          ]
        },
        {
          "output_type": "stream",
          "name": "stderr",
          "text": [
            "\n",
            "15it [00:00, 20.10it/s]"
          ]
        },
        {
          "output_type": "stream",
          "name": "stdout",
          "text": [
            "Val Loss:0.0872, Val_Acc:86.67\n",
            "loss 0.1331 - accu 74.0218 - val_loss 0.1011 - val_accu 85.1692\n",
            "=> saved best model\n",
            "Epoch [325/1000]\n"
          ]
        },
        {
          "output_type": "stream",
          "name": "stderr",
          "text": [
            "\n",
            "100%|██████████| 60/60 [00:01<00:00, 49.17it/s] "
          ]
        },
        {
          "output_type": "stream",
          "name": "stdout",
          "text": [
            "Train Loss:0.1184, Train Acc:75.42\n",
            "validation start\n"
          ]
        },
        {
          "output_type": "stream",
          "name": "stderr",
          "text": [
            "\n",
            "15it [00:00, 20.56it/s]"
          ]
        },
        {
          "output_type": "stream",
          "name": "stdout",
          "text": [
            "Val Loss:0.0951, Val_Acc:83.33\n",
            "loss 0.1331 - accu 74.0261 - val_loss 0.1011 - val_accu 85.1636\n",
            "Epoch [326/1000]\n"
          ]
        },
        {
          "output_type": "stream",
          "name": "stderr",
          "text": [
            "\n",
            "100%|██████████| 60/60 [00:01<00:00, 47.28it/s]"
          ]
        },
        {
          "output_type": "stream",
          "name": "stdout",
          "text": [
            "Train Loss:0.1204, Train Acc:78.75\n",
            "validation start\n"
          ]
        },
        {
          "output_type": "stream",
          "name": "stderr",
          "text": [
            "\n",
            "15it [00:00, 20.86it/s]\n"
          ]
        },
        {
          "output_type": "stream",
          "name": "stdout",
          "text": [
            "Val Loss:0.0904, Val_Acc:85.00\n",
            "loss 0.1330 - accu 74.0405 - val_loss 0.1010 - val_accu 85.1631\n",
            "Epoch [327/1000]\n"
          ]
        },
        {
          "output_type": "stream",
          "name": "stderr",
          "text": [
            "100%|██████████| 60/60 [00:01<00:00, 49.09it/s]"
          ]
        },
        {
          "output_type": "stream",
          "name": "stdout",
          "text": [
            "Train Loss:0.1240, Train Acc:77.50\n",
            "validation start\n"
          ]
        },
        {
          "output_type": "stream",
          "name": "stderr",
          "text": [
            "\n",
            "15it [00:00, 18.78it/s]"
          ]
        },
        {
          "output_type": "stream",
          "name": "stdout",
          "text": [
            "Val Loss:0.0922, Val_Acc:85.00\n",
            "loss 0.1330 - accu 74.0511 - val_loss 0.1010 - val_accu 85.1626\n",
            "Epoch [328/1000]\n"
          ]
        },
        {
          "output_type": "stream",
          "name": "stderr",
          "text": [
            "\n",
            "100%|██████████| 60/60 [00:01<00:00, 51.76it/s]"
          ]
        },
        {
          "output_type": "stream",
          "name": "stdout",
          "text": [
            "Train Loss:0.1207, Train Acc:77.92\n",
            "validation start\n"
          ]
        },
        {
          "output_type": "stream",
          "name": "stderr",
          "text": [
            "\n",
            "15it [00:00, 19.41it/s]"
          ]
        },
        {
          "output_type": "stream",
          "name": "stdout",
          "text": [
            "Val Loss:0.0893, Val_Acc:90.00\n",
            "loss 0.1330 - accu 74.0628 - val_loss 0.1010 - val_accu 85.1773\n",
            "=> saved best model\n",
            "Epoch [329/1000]\n"
          ]
        },
        {
          "output_type": "stream",
          "name": "stderr",
          "text": [
            "\n",
            "100%|██████████| 60/60 [00:01<00:00, 52.06it/s]"
          ]
        },
        {
          "output_type": "stream",
          "name": "stdout",
          "text": [
            "Train Loss:0.1165, Train Acc:78.75\n",
            "validation start\n"
          ]
        },
        {
          "output_type": "stream",
          "name": "stderr",
          "text": [
            "\n",
            "15it [00:00, 20.99it/s]"
          ]
        },
        {
          "output_type": "stream",
          "name": "stdout",
          "text": [
            "Val Loss:0.0908, Val_Acc:85.00\n",
            "loss 0.1329 - accu 74.0770 - val_loss 0.1009 - val_accu 85.1768\n",
            "Epoch [330/1000]\n"
          ]
        },
        {
          "output_type": "stream",
          "name": "stderr",
          "text": [
            "\n",
            "100%|██████████| 60/60 [00:01<00:00, 50.89it/s]"
          ]
        },
        {
          "output_type": "stream",
          "name": "stdout",
          "text": [
            "Train Loss:0.1142, Train Acc:76.67\n",
            "validation start\n"
          ]
        },
        {
          "output_type": "stream",
          "name": "stderr",
          "text": [
            "\n",
            "15it [00:00, 22.86it/s]                      "
          ]
        },
        {
          "output_type": "stream",
          "name": "stdout",
          "text": [
            "Val Loss:0.0927, Val_Acc:86.67\n",
            "loss 0.1329 - accu 74.0848 - val_loss 0.1009 - val_accu 85.1813\n",
            "=> saved best model\n",
            "Epoch [331/1000]\n"
          ]
        },
        {
          "output_type": "stream",
          "name": "stderr",
          "text": [
            "\n",
            "100%|██████████| 60/60 [00:01<00:00, 54.01it/s]"
          ]
        },
        {
          "output_type": "stream",
          "name": "stdout",
          "text": [
            "Train Loss:0.1205, Train Acc:75.83\n",
            "validation start\n"
          ]
        },
        {
          "output_type": "stream",
          "name": "stderr",
          "text": [
            "\n",
            "15it [00:00, 19.69it/s]                      "
          ]
        },
        {
          "output_type": "stream",
          "name": "stdout",
          "text": [
            "Val Loss:0.0881, Val_Acc:88.33\n",
            "loss 0.1328 - accu 74.0901 - val_loss 0.1009 - val_accu 85.1908\n",
            "=> saved best model\n",
            "Epoch [332/1000]\n"
          ]
        },
        {
          "output_type": "stream",
          "name": "stderr",
          "text": [
            "\n",
            "100%|██████████| 60/60 [00:01<00:00, 52.95it/s]"
          ]
        },
        {
          "output_type": "stream",
          "name": "stdout",
          "text": [
            "Train Loss:0.1164, Train Acc:77.50\n",
            "validation start\n"
          ]
        },
        {
          "output_type": "stream",
          "name": "stderr",
          "text": [
            "\n",
            "15it [00:00, 19.83it/s]"
          ]
        },
        {
          "output_type": "stream",
          "name": "stdout",
          "text": [
            "Val Loss:0.0968, Val_Acc:86.67\n",
            "loss 0.1328 - accu 74.1004 - val_loss 0.1009 - val_accu 85.1952\n",
            "=> saved best model\n",
            "Epoch [333/1000]\n"
          ]
        },
        {
          "output_type": "stream",
          "name": "stderr",
          "text": [
            "\n",
            "100%|██████████| 60/60 [00:01<00:00, 53.11it/s]"
          ]
        },
        {
          "output_type": "stream",
          "name": "stdout",
          "text": [
            "Train Loss:0.1179, Train Acc:75.42\n",
            "validation start\n"
          ]
        },
        {
          "output_type": "stream",
          "name": "stderr",
          "text": [
            "\n",
            "15it [00:00, 20.57it/s]                      "
          ]
        },
        {
          "output_type": "stream",
          "name": "stdout",
          "text": [
            "Val Loss:0.0902, Val_Acc:85.00\n",
            "loss 0.1327 - accu 74.1043 - val_loss 0.1008 - val_accu 85.1946\n",
            "Epoch [334/1000]\n"
          ]
        },
        {
          "output_type": "stream",
          "name": "stderr",
          "text": [
            "\n",
            "100%|██████████| 60/60 [00:01<00:00, 53.34it/s]"
          ]
        },
        {
          "output_type": "stream",
          "name": "stdout",
          "text": [
            "Train Loss:0.1186, Train Acc:76.25\n",
            "validation start\n"
          ]
        },
        {
          "output_type": "stream",
          "name": "stderr",
          "text": [
            "\n",
            "15it [00:00, 21.33it/s]"
          ]
        },
        {
          "output_type": "stream",
          "name": "stdout",
          "text": [
            "Val Loss:0.0955, Val_Acc:85.00\n",
            "loss 0.1327 - accu 74.1107 - val_loss 0.1008 - val_accu 85.1940\n",
            "Epoch [335/1000]\n"
          ]
        },
        {
          "output_type": "stream",
          "name": "stderr",
          "text": [
            "\n",
            "100%|██████████| 60/60 [00:01<00:00, 54.10it/s]"
          ]
        },
        {
          "output_type": "stream",
          "name": "stdout",
          "text": [
            "Train Loss:0.1153, Train Acc:77.08\n",
            "validation start\n"
          ]
        },
        {
          "output_type": "stream",
          "name": "stderr",
          "text": [
            "\n",
            "15it [00:00, 20.62it/s]                      \n"
          ]
        },
        {
          "output_type": "stream",
          "name": "stdout",
          "text": [
            "Val Loss:0.0992, Val_Acc:80.00\n",
            "loss 0.1326 - accu 74.1195 - val_loss 0.1008 - val_accu 85.1786\n",
            "Epoch [336/1000]\n"
          ]
        },
        {
          "output_type": "stream",
          "name": "stderr",
          "text": [
            "100%|██████████| 60/60 [00:01<00:00, 53.42it/s] "
          ]
        },
        {
          "output_type": "stream",
          "name": "stdout",
          "text": [
            "Train Loss:0.1159, Train Acc:77.08\n",
            "validation start\n"
          ]
        },
        {
          "output_type": "stream",
          "name": "stderr",
          "text": [
            "\n",
            "15it [00:00, 19.42it/s]"
          ]
        },
        {
          "output_type": "stream",
          "name": "stdout",
          "text": [
            "Val Loss:0.0874, Val_Acc:86.67\n",
            "loss 0.1326 - accu 74.1283 - val_loss 0.1008 - val_accu 85.1830\n",
            "Epoch [337/1000]\n"
          ]
        },
        {
          "output_type": "stream",
          "name": "stderr",
          "text": [
            "\n",
            "100%|██████████| 60/60 [00:01<00:00, 51.59it/s]"
          ]
        },
        {
          "output_type": "stream",
          "name": "stdout",
          "text": [
            "Train Loss:0.1124, Train Acc:78.75\n",
            "validation start\n"
          ]
        },
        {
          "output_type": "stream",
          "name": "stderr",
          "text": [
            "\n",
            "15it [00:00, 20.90it/s]"
          ]
        },
        {
          "output_type": "stream",
          "name": "stdout",
          "text": [
            "Val Loss:0.0895, Val_Acc:85.00\n",
            "loss 0.1325 - accu 74.1420 - val_loss 0.1007 - val_accu 85.1824\n",
            "Epoch [338/1000]\n"
          ]
        },
        {
          "output_type": "stream",
          "name": "stderr",
          "text": [
            "\n",
            "100%|██████████| 60/60 [00:01<00:00, 54.24it/s]"
          ]
        },
        {
          "output_type": "stream",
          "name": "stdout",
          "text": [
            "Train Loss:0.1176, Train Acc:74.58\n",
            "validation start\n"
          ]
        },
        {
          "output_type": "stream",
          "name": "stderr",
          "text": [
            "\n",
            "15it [00:00, 19.79it/s]"
          ]
        },
        {
          "output_type": "stream",
          "name": "stdout",
          "text": [
            "Val Loss:0.0881, Val_Acc:90.00\n",
            "loss 0.1325 - accu 74.1433 - val_loss 0.1007 - val_accu 85.1967\n",
            "=> saved best model\n",
            "Epoch [339/1000]\n"
          ]
        },
        {
          "output_type": "stream",
          "name": "stderr",
          "text": [
            "\n",
            "100%|██████████| 60/60 [00:01<00:00, 52.67it/s] "
          ]
        },
        {
          "output_type": "stream",
          "name": "stdout",
          "text": [
            "Train Loss:0.1180, Train Acc:77.08\n",
            "validation start\n"
          ]
        },
        {
          "output_type": "stream",
          "name": "stderr",
          "text": [
            "\n",
            "15it [00:00, 19.67it/s]"
          ]
        },
        {
          "output_type": "stream",
          "name": "stdout",
          "text": [
            "Val Loss:0.0885, Val_Acc:90.00\n",
            "loss 0.1325 - accu 74.1520 - val_loss 0.1007 - val_accu 85.2108\n",
            "=> saved best model\n",
            "Epoch [340/1000]\n"
          ]
        },
        {
          "output_type": "stream",
          "name": "stderr",
          "text": [
            "\n",
            "100%|██████████| 60/60 [00:01<00:00, 51.64it/s]"
          ]
        },
        {
          "output_type": "stream",
          "name": "stdout",
          "text": [
            "Train Loss:0.1217, Train Acc:77.50\n",
            "validation start\n"
          ]
        },
        {
          "output_type": "stream",
          "name": "stderr",
          "text": [
            "\n",
            "15it [00:00, 19.04it/s]\n"
          ]
        },
        {
          "output_type": "stream",
          "name": "stdout",
          "text": [
            "Val Loss:0.0905, Val_Acc:85.00\n",
            "loss 0.1324 - accu 74.1618 - val_loss 0.1006 - val_accu 85.2102\n",
            "Epoch [341/1000]\n"
          ]
        },
        {
          "output_type": "stream",
          "name": "stderr",
          "text": [
            "100%|██████████| 60/60 [00:01<00:00, 50.89it/s]"
          ]
        },
        {
          "output_type": "stream",
          "name": "stdout",
          "text": [
            "Train Loss:0.1229, Train Acc:75.83\n",
            "validation start\n"
          ]
        },
        {
          "output_type": "stream",
          "name": "stderr",
          "text": [
            "\n",
            "15it [00:00, 19.57it/s]\n"
          ]
        },
        {
          "output_type": "stream",
          "name": "stdout",
          "text": [
            "Val Loss:0.0969, Val_Acc:83.33\n",
            "loss 0.1324 - accu 74.1667 - val_loss 0.1006 - val_accu 85.2047\n",
            "Epoch [342/1000]\n"
          ]
        },
        {
          "output_type": "stream",
          "name": "stderr",
          "text": [
            "100%|██████████| 60/60 [00:01<00:00, 49.20it/s]"
          ]
        },
        {
          "output_type": "stream",
          "name": "stdout",
          "text": [
            "Train Loss:0.1177, Train Acc:76.67\n",
            "validation start\n"
          ]
        },
        {
          "output_type": "stream",
          "name": "stderr",
          "text": [
            "\n",
            "15it [00:00, 19.63it/s]"
          ]
        },
        {
          "output_type": "stream",
          "name": "stdout",
          "text": [
            "Val Loss:0.0906, Val_Acc:85.00\n",
            "loss 0.1324 - accu 74.1740 - val_loss 0.1006 - val_accu 85.2041\n",
            "Epoch [343/1000]\n"
          ]
        },
        {
          "output_type": "stream",
          "name": "stderr",
          "text": [
            "\n",
            "100%|██████████| 60/60 [00:01<00:00, 54.13it/s]"
          ]
        },
        {
          "output_type": "stream",
          "name": "stdout",
          "text": [
            "Train Loss:0.1142, Train Acc:76.25\n",
            "validation start\n"
          ]
        },
        {
          "output_type": "stream",
          "name": "stderr",
          "text": [
            "\n",
            "15it [00:00, 19.75it/s]"
          ]
        },
        {
          "output_type": "stream",
          "name": "stdout",
          "text": [
            "Val Loss:0.0866, Val_Acc:90.00\n",
            "loss 0.1323 - accu 74.1800 - val_loss 0.1006 - val_accu 85.2180\n",
            "=> saved best model\n",
            "Epoch [344/1000]\n"
          ]
        },
        {
          "output_type": "stream",
          "name": "stderr",
          "text": [
            "\n",
            "100%|██████████| 60/60 [00:01<00:00, 52.54it/s]"
          ]
        },
        {
          "output_type": "stream",
          "name": "stdout",
          "text": [
            "Train Loss:0.1226, Train Acc:77.08\n",
            "validation start\n"
          ]
        },
        {
          "output_type": "stream",
          "name": "stderr",
          "text": [
            "\n",
            "15it [00:00, 18.82it/s]"
          ]
        },
        {
          "output_type": "stream",
          "name": "stdout",
          "text": [
            "Val Loss:0.0893, Val_Acc:85.00\n",
            "loss 0.1323 - accu 74.1884 - val_loss 0.1005 - val_accu 85.2174\n",
            "Epoch [345/1000]\n"
          ]
        },
        {
          "output_type": "stream",
          "name": "stderr",
          "text": [
            "\n",
            "100%|██████████| 60/60 [00:01<00:00, 52.56it/s]"
          ]
        },
        {
          "output_type": "stream",
          "name": "stdout",
          "text": [
            "Train Loss:0.1144, Train Acc:77.50\n",
            "validation start\n"
          ]
        },
        {
          "output_type": "stream",
          "name": "stderr",
          "text": [
            "\n",
            "15it [00:00, 21.89it/s]"
          ]
        },
        {
          "output_type": "stream",
          "name": "stdout",
          "text": [
            "Val Loss:0.0899, Val_Acc:83.33\n",
            "loss 0.1322 - accu 74.1980 - val_loss 0.1005 - val_accu 85.2119\n",
            "Epoch [346/1000]\n"
          ]
        },
        {
          "output_type": "stream",
          "name": "stderr",
          "text": [
            "\n",
            "100%|██████████| 60/60 [00:01<00:00, 50.64it/s]\n"
          ]
        },
        {
          "output_type": "stream",
          "name": "stdout",
          "text": [
            "Train Loss:0.1148, Train Acc:77.50\n",
            "validation start\n"
          ]
        },
        {
          "output_type": "stream",
          "name": "stderr",
          "text": [
            "15it [00:00, 21.39it/s]                      "
          ]
        },
        {
          "output_type": "stream",
          "name": "stdout",
          "text": [
            "Val Loss:0.0859, Val_Acc:88.33\n",
            "loss 0.1322 - accu 74.2075 - val_loss 0.1004 - val_accu 85.2209\n",
            "=> saved best model\n",
            "Epoch [347/1000]\n"
          ]
        },
        {
          "output_type": "stream",
          "name": "stderr",
          "text": [
            "\n",
            "100%|██████████| 60/60 [00:01<00:00, 51.37it/s]"
          ]
        },
        {
          "output_type": "stream",
          "name": "stdout",
          "text": [
            "Train Loss:0.1190, Train Acc:75.83\n",
            "validation start\n"
          ]
        },
        {
          "output_type": "stream",
          "name": "stderr",
          "text": [
            "\n",
            "15it [00:00, 20.56it/s]"
          ]
        },
        {
          "output_type": "stream",
          "name": "stdout",
          "text": [
            "Val Loss:0.0906, Val_Acc:83.33\n",
            "loss 0.1321 - accu 74.2122 - val_loss 0.1004 - val_accu 85.2155\n",
            "Epoch [348/1000]\n"
          ]
        },
        {
          "output_type": "stream",
          "name": "stderr",
          "text": [
            "\n",
            "100%|██████████| 60/60 [00:01<00:00, 52.67it/s]"
          ]
        },
        {
          "output_type": "stream",
          "name": "stdout",
          "text": [
            "Train Loss:0.1139, Train Acc:76.67\n",
            "validation start\n"
          ]
        },
        {
          "output_type": "stream",
          "name": "stderr",
          "text": [
            "\n",
            "15it [00:00, 21.49it/s]"
          ]
        },
        {
          "output_type": "stream",
          "name": "stdout",
          "text": [
            "Val Loss:0.0900, Val_Acc:85.00\n",
            "loss 0.1321 - accu 74.2192 - val_loss 0.1004 - val_accu 85.2149\n",
            "Epoch [349/1000]\n"
          ]
        },
        {
          "output_type": "stream",
          "name": "stderr",
          "text": [
            "\n",
            "100%|██████████| 60/60 [00:01<00:00, 51.86it/s]"
          ]
        },
        {
          "output_type": "stream",
          "name": "stdout",
          "text": [
            "Train Loss:0.1160, Train Acc:78.75\n",
            "validation start\n"
          ]
        },
        {
          "output_type": "stream",
          "name": "stderr",
          "text": [
            "\n",
            "15it [00:00, 21.93it/s]                      \n"
          ]
        },
        {
          "output_type": "stream",
          "name": "stdout",
          "text": [
            "Val Loss:0.0861, Val_Acc:90.00\n",
            "loss 0.1320 - accu 74.2321 - val_loss 0.1003 - val_accu 85.2286\n",
            "=> saved best model\n",
            "Epoch [350/1000]\n"
          ]
        },
        {
          "output_type": "stream",
          "name": "stderr",
          "text": [
            "100%|██████████| 60/60 [00:01<00:00, 51.72it/s]"
          ]
        },
        {
          "output_type": "stream",
          "name": "stdout",
          "text": [
            "Train Loss:0.1137, Train Acc:80.83\n",
            "validation start\n"
          ]
        },
        {
          "output_type": "stream",
          "name": "stderr",
          "text": [
            "\n",
            "15it [00:00, 20.06it/s]\n"
          ]
        },
        {
          "output_type": "stream",
          "name": "stdout",
          "text": [
            "Val Loss:0.1056, Val_Acc:76.67\n",
            "loss 0.1320 - accu 74.2509 - val_loss 0.1004 - val_accu 85.2042\n",
            "Epoch [351/1000]\n"
          ]
        },
        {
          "output_type": "stream",
          "name": "stderr",
          "text": [
            "100%|██████████| 60/60 [00:01<00:00, 52.34it/s]"
          ]
        },
        {
          "output_type": "stream",
          "name": "stdout",
          "text": [
            "Train Loss:0.1191, Train Acc:75.83\n",
            "validation start\n"
          ]
        },
        {
          "output_type": "stream",
          "name": "stderr",
          "text": [
            "\n",
            "15it [00:00, 19.39it/s]"
          ]
        },
        {
          "output_type": "stream",
          "name": "stdout",
          "text": [
            "Val Loss:0.0866, Val_Acc:90.00\n",
            "loss 0.1319 - accu 74.2554 - val_loss 0.1003 - val_accu 85.2178\n",
            "Epoch [352/1000]\n"
          ]
        },
        {
          "output_type": "stream",
          "name": "stderr",
          "text": [
            "\n",
            "100%|██████████| 60/60 [00:01<00:00, 53.03it/s]"
          ]
        },
        {
          "output_type": "stream",
          "name": "stdout",
          "text": [
            "Train Loss:0.1160, Train Acc:76.67\n",
            "validation start\n"
          ]
        },
        {
          "output_type": "stream",
          "name": "stderr",
          "text": [
            "\n",
            "15it [00:00, 21.08it/s]"
          ]
        },
        {
          "output_type": "stream",
          "name": "stdout",
          "text": [
            "Val Loss:0.0883, Val_Acc:88.33\n",
            "loss 0.1319 - accu 74.2623 - val_loss 0.1003 - val_accu 85.2266\n",
            "Epoch [353/1000]\n"
          ]
        },
        {
          "output_type": "stream",
          "name": "stderr",
          "text": [
            "\n",
            "100%|██████████| 60/60 [00:01<00:00, 51.22it/s]"
          ]
        },
        {
          "output_type": "stream",
          "name": "stdout",
          "text": [
            "Train Loss:0.1206, Train Acc:77.50\n",
            "validation start\n"
          ]
        },
        {
          "output_type": "stream",
          "name": "stderr",
          "text": [
            "\n",
            "15it [00:00, 21.36it/s]"
          ]
        },
        {
          "output_type": "stream",
          "name": "stdout",
          "text": [
            "Val Loss:0.0885, Val_Acc:90.00\n",
            "loss 0.1319 - accu 74.2714 - val_loss 0.1003 - val_accu 85.2401\n",
            "=> saved best model\n",
            "Epoch [354/1000]\n"
          ]
        },
        {
          "output_type": "stream",
          "name": "stderr",
          "text": [
            "\n",
            "100%|██████████| 60/60 [00:01<00:00, 51.69it/s]\n"
          ]
        },
        {
          "output_type": "stream",
          "name": "stdout",
          "text": [
            "Train Loss:0.1157, Train Acc:76.67\n",
            "validation start\n"
          ]
        },
        {
          "output_type": "stream",
          "name": "stderr",
          "text": [
            "15it [00:00, 20.13it/s]                      \n"
          ]
        },
        {
          "output_type": "stream",
          "name": "stdout",
          "text": [
            "Val Loss:0.0980, Val_Acc:86.67\n",
            "loss 0.1318 - accu 74.2782 - val_loss 0.1003 - val_accu 85.2441\n",
            "=> saved best model\n",
            "Epoch [355/1000]\n"
          ]
        },
        {
          "output_type": "stream",
          "name": "stderr",
          "text": [
            "100%|██████████| 60/60 [00:01<00:00, 51.06it/s]"
          ]
        },
        {
          "output_type": "stream",
          "name": "stdout",
          "text": [
            "Train Loss:0.1212, Train Acc:74.17\n",
            "validation start\n"
          ]
        },
        {
          "output_type": "stream",
          "name": "stderr",
          "text": [
            "\n",
            "15it [00:00, 20.80it/s]"
          ]
        },
        {
          "output_type": "stream",
          "name": "stdout",
          "text": [
            "Val Loss:0.0885, Val_Acc:90.00\n",
            "loss 0.1318 - accu 74.2779 - val_loss 0.1002 - val_accu 85.2575\n",
            "=> saved best model\n",
            "Epoch [356/1000]\n"
          ]
        },
        {
          "output_type": "stream",
          "name": "stderr",
          "text": [
            "\n",
            "100%|██████████| 60/60 [00:01<00:00, 51.68it/s]"
          ]
        },
        {
          "output_type": "stream",
          "name": "stdout",
          "text": [
            "Train Loss:0.1136, Train Acc:76.67\n",
            "validation start\n"
          ]
        },
        {
          "output_type": "stream",
          "name": "stderr",
          "text": [
            "\n",
            "15it [00:00, 19.82it/s]\n"
          ]
        },
        {
          "output_type": "stream",
          "name": "stdout",
          "text": [
            "Val Loss:0.0926, Val_Acc:85.00\n",
            "loss 0.1317 - accu 74.2845 - val_loss 0.1002 - val_accu 85.2568\n",
            "Epoch [357/1000]\n"
          ]
        },
        {
          "output_type": "stream",
          "name": "stderr",
          "text": [
            "100%|██████████| 60/60 [00:01<00:00, 53.58it/s]"
          ]
        },
        {
          "output_type": "stream",
          "name": "stdout",
          "text": [
            "Train Loss:0.1203, Train Acc:76.67\n",
            "validation start\n"
          ]
        },
        {
          "output_type": "stream",
          "name": "stderr",
          "text": [
            "\n",
            "15it [00:00, 20.09it/s]                      \n"
          ]
        },
        {
          "output_type": "stream",
          "name": "stdout",
          "text": [
            "Val Loss:0.0898, Val_Acc:88.33\n",
            "loss 0.1317 - accu 74.2912 - val_loss 0.1002 - val_accu 85.2654\n",
            "=> saved best model\n",
            "Epoch [358/1000]\n"
          ]
        },
        {
          "output_type": "stream",
          "name": "stderr",
          "text": [
            "100%|██████████| 60/60 [00:01<00:00, 52.22it/s]"
          ]
        },
        {
          "output_type": "stream",
          "name": "stdout",
          "text": [
            "Train Loss:0.1204, Train Acc:77.50\n",
            "validation start\n"
          ]
        },
        {
          "output_type": "stream",
          "name": "stderr",
          "text": [
            "\n",
            "15it [00:00, 20.26it/s]\n"
          ]
        },
        {
          "output_type": "stream",
          "name": "stdout",
          "text": [
            "Val Loss:0.1040, Val_Acc:78.33\n",
            "loss 0.1317 - accu 74.3001 - val_loss 0.1002 - val_accu 85.2461\n",
            "Epoch [359/1000]\n"
          ]
        },
        {
          "output_type": "stream",
          "name": "stderr",
          "text": [
            "100%|██████████| 60/60 [00:01<00:00, 51.62it/s]"
          ]
        },
        {
          "output_type": "stream",
          "name": "stdout",
          "text": [
            "Train Loss:0.1118, Train Acc:80.42\n",
            "validation start\n"
          ]
        },
        {
          "output_type": "stream",
          "name": "stderr",
          "text": [
            "\n",
            "15it [00:00, 19.99it/s]"
          ]
        },
        {
          "output_type": "stream",
          "name": "stdout",
          "text": [
            "Val Loss:0.0896, Val_Acc:85.00\n",
            "loss 0.1316 - accu 74.3171 - val_loss 0.1001 - val_accu 85.2454\n",
            "Epoch [360/1000]\n"
          ]
        },
        {
          "output_type": "stream",
          "name": "stderr",
          "text": [
            "\n",
            "100%|██████████| 60/60 [00:01<00:00, 51.61it/s]\n"
          ]
        },
        {
          "output_type": "stream",
          "name": "stdout",
          "text": [
            "Train Loss:0.1109, Train Acc:77.50\n",
            "validation start\n"
          ]
        },
        {
          "output_type": "stream",
          "name": "stderr",
          "text": [
            "15it [00:00, 20.28it/s]"
          ]
        },
        {
          "output_type": "stream",
          "name": "stdout",
          "text": [
            "Val Loss:0.0872, Val_Acc:86.67\n",
            "loss 0.1316 - accu 74.3259 - val_loss 0.1001 - val_accu 85.2493\n",
            "Epoch [361/1000]\n"
          ]
        },
        {
          "output_type": "stream",
          "name": "stderr",
          "text": [
            "\n",
            "100%|██████████| 60/60 [00:01<00:00, 50.47it/s]"
          ]
        },
        {
          "output_type": "stream",
          "name": "stdout",
          "text": [
            "Train Loss:0.1146, Train Acc:79.17\n",
            "validation start\n"
          ]
        },
        {
          "output_type": "stream",
          "name": "stderr",
          "text": [
            "\n",
            "15it [00:00, 19.80it/s]"
          ]
        },
        {
          "output_type": "stream",
          "name": "stdout",
          "text": [
            "Val Loss:0.0867, Val_Acc:85.00\n",
            "loss 0.1315 - accu 74.3393 - val_loss 0.1001 - val_accu 85.2486\n",
            "Epoch [362/1000]\n"
          ]
        },
        {
          "output_type": "stream",
          "name": "stderr",
          "text": [
            "\n",
            "100%|██████████| 60/60 [00:01<00:00, 52.73it/s]"
          ]
        },
        {
          "output_type": "stream",
          "name": "stdout",
          "text": [
            "Train Loss:0.1179, Train Acc:75.83\n",
            "validation start\n"
          ]
        },
        {
          "output_type": "stream",
          "name": "stderr",
          "text": [
            "\n",
            "15it [00:00, 18.77it/s]"
          ]
        },
        {
          "output_type": "stream",
          "name": "stdout",
          "text": [
            "Val Loss:0.0857, Val_Acc:88.33\n",
            "loss 0.1315 - accu 74.3434 - val_loss 0.1000 - val_accu 85.2571\n",
            "Epoch [363/1000]\n"
          ]
        },
        {
          "output_type": "stream",
          "name": "stderr",
          "text": [
            "\n",
            "100%|██████████| 60/60 [00:01<00:00, 51.89it/s]"
          ]
        },
        {
          "output_type": "stream",
          "name": "stdout",
          "text": [
            "Train Loss:0.1153, Train Acc:77.08\n",
            "validation start\n"
          ]
        },
        {
          "output_type": "stream",
          "name": "stderr",
          "text": [
            "\n",
            "15it [00:00, 17.72it/s]"
          ]
        },
        {
          "output_type": "stream",
          "name": "stdout",
          "text": [
            "Val Loss:0.0864, Val_Acc:88.33\n",
            "loss 0.1314 - accu 74.3510 - val_loss 0.1000 - val_accu 85.2656\n",
            "=> saved best model\n",
            "Epoch [364/1000]\n"
          ]
        },
        {
          "output_type": "stream",
          "name": "stderr",
          "text": [
            "\n",
            "100%|██████████| 60/60 [00:01<00:00, 49.35it/s]"
          ]
        },
        {
          "output_type": "stream",
          "name": "stdout",
          "text": [
            "Train Loss:0.1125, Train Acc:77.50\n",
            "validation start\n"
          ]
        },
        {
          "output_type": "stream",
          "name": "stderr",
          "text": [
            "\n",
            "15it [00:00, 20.06it/s]                      "
          ]
        },
        {
          "output_type": "stream",
          "name": "stdout",
          "text": [
            "Val Loss:0.0930, Val_Acc:83.33\n",
            "loss 0.1314 - accu 74.3596 - val_loss 0.1000 - val_accu 85.2603\n",
            "Epoch [365/1000]\n"
          ]
        },
        {
          "output_type": "stream",
          "name": "stderr",
          "text": [
            "\n",
            "100%|██████████| 60/60 [00:01<00:00, 48.22it/s]"
          ]
        },
        {
          "output_type": "stream",
          "name": "stdout",
          "text": [
            "Train Loss:0.1191, Train Acc:75.83\n",
            "validation start\n"
          ]
        },
        {
          "output_type": "stream",
          "name": "stderr",
          "text": [
            "\n",
            "15it [00:00, 18.51it/s]"
          ]
        },
        {
          "output_type": "stream",
          "name": "stdout",
          "text": [
            "Val Loss:0.0852, Val_Acc:90.00\n",
            "loss 0.1313 - accu 74.3636 - val_loss 0.0999 - val_accu 85.2732\n",
            "=> saved best model\n",
            "Epoch [366/1000]\n"
          ]
        },
        {
          "output_type": "stream",
          "name": "stderr",
          "text": [
            "\n",
            "100%|██████████| 60/60 [00:01<00:00, 49.79it/s]"
          ]
        },
        {
          "output_type": "stream",
          "name": "stdout",
          "text": [
            "Train Loss:0.1152, Train Acc:79.17\n",
            "validation start\n"
          ]
        },
        {
          "output_type": "stream",
          "name": "stderr",
          "text": [
            "\n",
            "15it [00:00, 20.40it/s]"
          ]
        },
        {
          "output_type": "stream",
          "name": "stdout",
          "text": [
            "Val Loss:0.0916, Val_Acc:83.33\n",
            "loss 0.1313 - accu 74.3767 - val_loss 0.0999 - val_accu 85.2679\n",
            "Epoch [367/1000]\n"
          ]
        },
        {
          "output_type": "stream",
          "name": "stderr",
          "text": [
            "\n",
            "100%|██████████| 60/60 [00:01<00:00, 49.34it/s]"
          ]
        },
        {
          "output_type": "stream",
          "name": "stdout",
          "text": [
            "Train Loss:0.1140, Train Acc:79.17\n",
            "validation start\n"
          ]
        },
        {
          "output_type": "stream",
          "name": "stderr",
          "text": [
            "\n",
            "15it [00:00, 19.21it/s]                      \n"
          ]
        },
        {
          "output_type": "stream",
          "name": "stdout",
          "text": [
            "Val Loss:0.0894, Val_Acc:83.33\n",
            "loss 0.1313 - accu 74.3897 - val_loss 0.0999 - val_accu 85.2627\n",
            "Epoch [368/1000]\n"
          ]
        },
        {
          "output_type": "stream",
          "name": "stderr",
          "text": [
            "100%|██████████| 60/60 [00:01<00:00, 50.11it/s]"
          ]
        },
        {
          "output_type": "stream",
          "name": "stdout",
          "text": [
            "Train Loss:0.1121, Train Acc:76.67\n",
            "validation start\n"
          ]
        },
        {
          "output_type": "stream",
          "name": "stderr",
          "text": [
            "\n",
            "15it [00:00, 19.23it/s]\n"
          ]
        },
        {
          "output_type": "stream",
          "name": "stdout",
          "text": [
            "Val Loss:0.0852, Val_Acc:88.33\n",
            "loss 0.1312 - accu 74.3959 - val_loss 0.0998 - val_accu 85.2710\n",
            "Epoch [369/1000]\n"
          ]
        },
        {
          "output_type": "stream",
          "name": "stderr",
          "text": [
            "100%|██████████| 60/60 [00:01<00:00, 51.27it/s]"
          ]
        },
        {
          "output_type": "stream",
          "name": "stdout",
          "text": [
            "Train Loss:0.1165, Train Acc:78.33\n",
            "validation start\n"
          ]
        },
        {
          "output_type": "stream",
          "name": "stderr",
          "text": [
            "\n",
            "15it [00:00, 17.87it/s]\n"
          ]
        },
        {
          "output_type": "stream",
          "name": "stdout",
          "text": [
            "Val Loss:0.0873, Val_Acc:86.67\n",
            "loss 0.1312 - accu 74.4065 - val_loss 0.0998 - val_accu 85.2748\n",
            "=> saved best model\n",
            "Epoch [370/1000]\n"
          ]
        },
        {
          "output_type": "stream",
          "name": "stderr",
          "text": [
            "100%|██████████| 60/60 [00:01<00:00, 49.45it/s]"
          ]
        },
        {
          "output_type": "stream",
          "name": "stdout",
          "text": [
            "Train Loss:0.1133, Train Acc:79.17\n",
            "validation start\n"
          ]
        },
        {
          "output_type": "stream",
          "name": "stderr",
          "text": [
            "\n",
            "15it [00:00, 18.44it/s]"
          ]
        },
        {
          "output_type": "stream",
          "name": "stdout",
          "text": [
            "Val Loss:0.0874, Val_Acc:85.00\n",
            "loss 0.1311 - accu 74.4194 - val_loss 0.0998 - val_accu 85.2740\n",
            "Epoch [371/1000]\n"
          ]
        },
        {
          "output_type": "stream",
          "name": "stderr",
          "text": [
            "\n",
            "100%|██████████| 60/60 [00:01<00:00, 52.00it/s]"
          ]
        },
        {
          "output_type": "stream",
          "name": "stdout",
          "text": [
            "Train Loss:0.1098, Train Acc:77.50\n",
            "validation start\n"
          ]
        },
        {
          "output_type": "stream",
          "name": "stderr",
          "text": [
            "\n",
            "15it [00:00, 18.96it/s]"
          ]
        },
        {
          "output_type": "stream",
          "name": "stdout",
          "text": [
            "Val Loss:0.0862, Val_Acc:86.67\n",
            "loss 0.1311 - accu 74.4276 - val_loss 0.0997 - val_accu 85.2778\n",
            "=> saved best model\n",
            "Epoch [372/1000]\n"
          ]
        },
        {
          "output_type": "stream",
          "name": "stderr",
          "text": [
            "\n",
            "100%|██████████| 60/60 [00:01<00:00, 51.58it/s]\n"
          ]
        },
        {
          "output_type": "stream",
          "name": "stdout",
          "text": [
            "Train Loss:0.1132, Train Acc:76.25\n",
            "validation start\n"
          ]
        },
        {
          "output_type": "stream",
          "name": "stderr",
          "text": [
            "15it [00:00, 19.35it/s]                      \n"
          ]
        },
        {
          "output_type": "stream",
          "name": "stdout",
          "text": [
            "Val Loss:0.0874, Val_Acc:85.00\n",
            "loss 0.1310 - accu 74.4325 - val_loss 0.0997 - val_accu 85.2770\n",
            "Epoch [373/1000]\n"
          ]
        },
        {
          "output_type": "stream",
          "name": "stderr",
          "text": [
            "100%|██████████| 60/60 [00:01<00:00, 48.81it/s]"
          ]
        },
        {
          "output_type": "stream",
          "name": "stdout",
          "text": [
            "Train Loss:0.1131, Train Acc:80.00\n",
            "validation start\n"
          ]
        },
        {
          "output_type": "stream",
          "name": "stderr",
          "text": [
            "\n",
            "15it [00:00, 19.43it/s]\n"
          ]
        },
        {
          "output_type": "stream",
          "name": "stdout",
          "text": [
            "Val Loss:0.0837, Val_Acc:88.33\n",
            "loss 0.1310 - accu 74.4474 - val_loss 0.0997 - val_accu 85.2852\n",
            "=> saved best model\n",
            "Epoch [374/1000]\n"
          ]
        },
        {
          "output_type": "stream",
          "name": "stderr",
          "text": [
            "100%|██████████| 60/60 [00:01<00:00, 47.92it/s]"
          ]
        },
        {
          "output_type": "stream",
          "name": "stdout",
          "text": [
            "Train Loss:0.1089, Train Acc:80.42\n",
            "validation start\n"
          ]
        },
        {
          "output_type": "stream",
          "name": "stderr",
          "text": [
            "\n",
            "15it [00:00, 18.58it/s]"
          ]
        },
        {
          "output_type": "stream",
          "name": "stdout",
          "text": [
            "Val Loss:0.0871, Val_Acc:86.67\n",
            "loss 0.1309 - accu 74.4633 - val_loss 0.0996 - val_accu 85.2889\n",
            "=> saved best model\n",
            "Epoch [375/1000]\n"
          ]
        },
        {
          "output_type": "stream",
          "name": "stderr",
          "text": [
            "\n",
            "100%|██████████| 60/60 [00:01<00:00, 50.84it/s]"
          ]
        },
        {
          "output_type": "stream",
          "name": "stdout",
          "text": [
            "Train Loss:0.1209, Train Acc:78.75\n",
            "validation start\n"
          ]
        },
        {
          "output_type": "stream",
          "name": "stderr",
          "text": [
            "\n",
            "15it [00:00, 18.43it/s]"
          ]
        },
        {
          "output_type": "stream",
          "name": "stdout",
          "text": [
            "Val Loss:0.1024, Val_Acc:80.00\n",
            "loss 0.1309 - accu 74.4747 - val_loss 0.0996 - val_accu 85.2748\n",
            "Epoch [376/1000]\n"
          ]
        },
        {
          "output_type": "stream",
          "name": "stderr",
          "text": [
            "\n",
            "100%|██████████| 60/60 [00:01<00:00, 48.95it/s]"
          ]
        },
        {
          "output_type": "stream",
          "name": "stdout",
          "text": [
            "Train Loss:0.1122, Train Acc:76.25\n",
            "validation start\n"
          ]
        },
        {
          "output_type": "stream",
          "name": "stderr",
          "text": [
            "\n",
            "15it [00:00, 19.14it/s]\n"
          ]
        },
        {
          "output_type": "stream",
          "name": "stdout",
          "text": [
            "Val Loss:0.0887, Val_Acc:86.67\n",
            "loss 0.1308 - accu 74.4794 - val_loss 0.0996 - val_accu 85.2785\n",
            "Epoch [377/1000]\n"
          ]
        },
        {
          "output_type": "stream",
          "name": "stderr",
          "text": [
            "100%|██████████| 60/60 [00:01<00:00, 49.49it/s]"
          ]
        },
        {
          "output_type": "stream",
          "name": "stdout",
          "text": [
            "Train Loss:0.1168, Train Acc:77.92\n",
            "validation start\n"
          ]
        },
        {
          "output_type": "stream",
          "name": "stderr",
          "text": [
            "\n",
            "15it [00:00, 19.95it/s]"
          ]
        },
        {
          "output_type": "stream",
          "name": "stdout",
          "text": [
            "Val Loss:0.0871, Val_Acc:86.67\n",
            "loss 0.1308 - accu 74.4885 - val_loss 0.0996 - val_accu 85.2822\n",
            "Epoch [378/1000]\n"
          ]
        },
        {
          "output_type": "stream",
          "name": "stderr",
          "text": [
            "\n",
            "100%|██████████| 60/60 [00:01<00:00, 48.83it/s]"
          ]
        },
        {
          "output_type": "stream",
          "name": "stdout",
          "text": [
            "Train Loss:0.1181, Train Acc:75.83\n",
            "validation start\n"
          ]
        },
        {
          "output_type": "stream",
          "name": "stderr",
          "text": [
            "\n",
            "15it [00:00, 18.34it/s]"
          ]
        },
        {
          "output_type": "stream",
          "name": "stdout",
          "text": [
            "Val Loss:0.0922, Val_Acc:85.00\n",
            "loss 0.1308 - accu 74.4921 - val_loss 0.0996 - val_accu 85.2814\n",
            "Epoch [379/1000]\n"
          ]
        },
        {
          "output_type": "stream",
          "name": "stderr",
          "text": [
            "\n",
            "100%|██████████| 60/60 [00:01<00:00, 48.95it/s]"
          ]
        },
        {
          "output_type": "stream",
          "name": "stdout",
          "text": [
            "Train Loss:0.1080, Train Acc:80.00\n",
            "validation start\n"
          ]
        },
        {
          "output_type": "stream",
          "name": "stderr",
          "text": [
            "\n",
            "15it [00:00, 19.22it/s]                      "
          ]
        },
        {
          "output_type": "stream",
          "name": "stdout",
          "text": [
            "Val Loss:0.0906, Val_Acc:85.00\n",
            "loss 0.1307 - accu 74.5066 - val_loss 0.0995 - val_accu 85.2807\n",
            "Epoch [380/1000]\n"
          ]
        },
        {
          "output_type": "stream",
          "name": "stderr",
          "text": [
            "\n",
            "100%|██████████| 60/60 [00:01<00:00, 47.97it/s]\n"
          ]
        },
        {
          "output_type": "stream",
          "name": "stdout",
          "text": [
            "Train Loss:0.1207, Train Acc:77.50\n",
            "validation start\n"
          ]
        },
        {
          "output_type": "stream",
          "name": "stderr",
          "text": [
            "15it [00:00, 19.56it/s]"
          ]
        },
        {
          "output_type": "stream",
          "name": "stdout",
          "text": [
            "Val Loss:0.0870, Val_Acc:85.00\n",
            "loss 0.1307 - accu 74.5144 - val_loss 0.0995 - val_accu 85.2800\n",
            "Epoch [381/1000]\n"
          ]
        },
        {
          "output_type": "stream",
          "name": "stderr",
          "text": [
            "\n",
            "100%|██████████| 60/60 [00:01<00:00, 50.84it/s]"
          ]
        },
        {
          "output_type": "stream",
          "name": "stdout",
          "text": [
            "Train Loss:0.1156, Train Acc:77.92\n",
            "validation start\n"
          ]
        },
        {
          "output_type": "stream",
          "name": "stderr",
          "text": [
            "\n",
            "15it [00:00, 18.91it/s]"
          ]
        },
        {
          "output_type": "stream",
          "name": "stdout",
          "text": [
            "Val Loss:0.0858, Val_Acc:88.33\n",
            "loss 0.1306 - accu 74.5233 - val_loss 0.0995 - val_accu 85.2880\n",
            "Epoch [382/1000]\n"
          ]
        },
        {
          "output_type": "stream",
          "name": "stderr",
          "text": [
            "\n",
            "100%|██████████| 60/60 [00:01<00:00, 51.16it/s]"
          ]
        },
        {
          "output_type": "stream",
          "name": "stdout",
          "text": [
            "Train Loss:0.1123, Train Acc:77.50\n",
            "validation start\n"
          ]
        },
        {
          "output_type": "stream",
          "name": "stderr",
          "text": [
            "\n",
            "15it [00:00, 19.05it/s]                      "
          ]
        },
        {
          "output_type": "stream",
          "name": "stdout",
          "text": [
            "Val Loss:0.0912, Val_Acc:83.33\n",
            "loss 0.1306 - accu 74.5311 - val_loss 0.0994 - val_accu 85.2829\n",
            "Epoch [383/1000]\n"
          ]
        },
        {
          "output_type": "stream",
          "name": "stderr",
          "text": [
            "\n",
            "100%|██████████| 60/60 [00:01<00:00, 50.73it/s]"
          ]
        },
        {
          "output_type": "stream",
          "name": "stdout",
          "text": [
            "Train Loss:0.1144, Train Acc:77.92\n",
            "validation start\n"
          ]
        },
        {
          "output_type": "stream",
          "name": "stderr",
          "text": [
            "\n",
            "15it [00:00, 18.13it/s]\n"
          ]
        },
        {
          "output_type": "stream",
          "name": "stdout",
          "text": [
            "Val Loss:0.0922, Val_Acc:85.00\n",
            "loss 0.1305 - accu 74.5399 - val_loss 0.0994 - val_accu 85.2821\n",
            "Epoch [384/1000]\n"
          ]
        },
        {
          "output_type": "stream",
          "name": "stderr",
          "text": [
            "100%|██████████| 60/60 [00:01<00:00, 49.87it/s]"
          ]
        },
        {
          "output_type": "stream",
          "name": "stdout",
          "text": [
            "Train Loss:0.1207, Train Acc:76.25\n",
            "validation start\n"
          ]
        },
        {
          "output_type": "stream",
          "name": "stderr",
          "text": [
            "\n",
            "15it [00:00, 18.44it/s]                      "
          ]
        },
        {
          "output_type": "stream",
          "name": "stdout",
          "text": [
            "Val Loss:0.0910, Val_Acc:85.00\n",
            "loss 0.1305 - accu 74.5444 - val_loss 0.0994 - val_accu 85.2814\n",
            "Epoch [385/1000]\n"
          ]
        },
        {
          "output_type": "stream",
          "name": "stderr",
          "text": [
            "\n",
            "100%|██████████| 60/60 [00:01<00:00, 48.64it/s]"
          ]
        },
        {
          "output_type": "stream",
          "name": "stdout",
          "text": [
            "Train Loss:0.1196, Train Acc:76.67\n",
            "validation start\n"
          ]
        },
        {
          "output_type": "stream",
          "name": "stderr",
          "text": [
            "\n",
            "15it [00:00, 18.73it/s]"
          ]
        },
        {
          "output_type": "stream",
          "name": "stdout",
          "text": [
            "Val Loss:0.1051, Val_Acc:78.33\n",
            "loss 0.1305 - accu 74.5499 - val_loss 0.0994 - val_accu 85.2634\n",
            "Epoch [386/1000]\n"
          ]
        },
        {
          "output_type": "stream",
          "name": "stderr",
          "text": [
            "\n",
            "100%|██████████| 60/60 [00:01<00:00, 51.68it/s]"
          ]
        },
        {
          "output_type": "stream",
          "name": "stdout",
          "text": [
            "Train Loss:0.1111, Train Acc:76.25\n",
            "validation start\n"
          ]
        },
        {
          "output_type": "stream",
          "name": "stderr",
          "text": [
            "\n",
            "15it [00:00, 19.62it/s]\n"
          ]
        },
        {
          "output_type": "stream",
          "name": "stdout",
          "text": [
            "Val Loss:0.0968, Val_Acc:83.33\n",
            "loss 0.1304 - accu 74.5543 - val_loss 0.0994 - val_accu 85.2584\n",
            "Epoch [387/1000]\n"
          ]
        },
        {
          "output_type": "stream",
          "name": "stderr",
          "text": [
            "100%|██████████| 60/60 [00:01<00:00, 49.85it/s]"
          ]
        },
        {
          "output_type": "stream",
          "name": "stdout",
          "text": [
            "Train Loss:0.1118, Train Acc:78.75\n",
            "validation start\n"
          ]
        },
        {
          "output_type": "stream",
          "name": "stderr",
          "text": [
            "\n",
            "15it [00:00, 19.13it/s]"
          ]
        },
        {
          "output_type": "stream",
          "name": "stdout",
          "text": [
            "Val Loss:0.0879, Val_Acc:88.33\n",
            "loss 0.1304 - accu 74.5651 - val_loss 0.0994 - val_accu 85.2663\n",
            "Epoch [388/1000]\n"
          ]
        },
        {
          "output_type": "stream",
          "name": "stderr",
          "text": [
            "\n",
            "100%|██████████| 60/60 [00:01<00:00, 50.63it/s]"
          ]
        },
        {
          "output_type": "stream",
          "name": "stdout",
          "text": [
            "Train Loss:0.1206, Train Acc:77.50\n",
            "validation start\n"
          ]
        },
        {
          "output_type": "stream",
          "name": "stderr",
          "text": [
            "\n",
            "15it [00:00, 20.68it/s]                      "
          ]
        },
        {
          "output_type": "stream",
          "name": "stdout",
          "text": [
            "Val Loss:0.0864, Val_Acc:88.33\n",
            "loss 0.1304 - accu 74.5726 - val_loss 0.0994 - val_accu 85.2742\n",
            "Epoch [389/1000]\n"
          ]
        },
        {
          "output_type": "stream",
          "name": "stderr",
          "text": [
            "\n",
            "100%|██████████| 60/60 [00:01<00:00, 50.17it/s]"
          ]
        },
        {
          "output_type": "stream",
          "name": "stdout",
          "text": [
            "Train Loss:0.1179, Train Acc:74.17\n",
            "validation start\n"
          ]
        },
        {
          "output_type": "stream",
          "name": "stderr",
          "text": [
            "\n",
            "15it [00:00, 20.00it/s]\n"
          ]
        },
        {
          "output_type": "stream",
          "name": "stdout",
          "text": [
            "Val Loss:0.0926, Val_Acc:83.33\n",
            "loss 0.1303 - accu 74.5716 - val_loss 0.0993 - val_accu 85.2692\n",
            "Epoch [390/1000]\n"
          ]
        },
        {
          "output_type": "stream",
          "name": "stderr",
          "text": [
            "100%|██████████| 60/60 [00:01<00:00, 50.56it/s]"
          ]
        },
        {
          "output_type": "stream",
          "name": "stdout",
          "text": [
            "Train Loss:0.1166, Train Acc:77.08\n",
            "validation start\n"
          ]
        },
        {
          "output_type": "stream",
          "name": "stderr",
          "text": [
            "\n",
            "15it [00:00, 18.28it/s]"
          ]
        },
        {
          "output_type": "stream",
          "name": "stdout",
          "text": [
            "Val Loss:0.0938, Val_Acc:85.00\n",
            "loss 0.1303 - accu 74.5780 - val_loss 0.0993 - val_accu 85.2685\n",
            "Epoch [391/1000]\n"
          ]
        },
        {
          "output_type": "stream",
          "name": "stderr",
          "text": [
            "\n",
            "100%|██████████| 60/60 [00:01<00:00, 50.57it/s]"
          ]
        },
        {
          "output_type": "stream",
          "name": "stdout",
          "text": [
            "Train Loss:0.1090, Train Acc:78.75\n",
            "validation start\n"
          ]
        },
        {
          "output_type": "stream",
          "name": "stderr",
          "text": [
            "\n",
            "15it [00:00, 19.61it/s]"
          ]
        },
        {
          "output_type": "stream",
          "name": "stdout",
          "text": [
            "Val Loss:0.0865, Val_Acc:90.00\n",
            "loss 0.1302 - accu 74.5886 - val_loss 0.0993 - val_accu 85.2806\n",
            "Epoch [392/1000]\n"
          ]
        },
        {
          "output_type": "stream",
          "name": "stderr",
          "text": [
            "\n",
            "100%|██████████| 60/60 [00:01<00:00, 51.17it/s]"
          ]
        },
        {
          "output_type": "stream",
          "name": "stdout",
          "text": [
            "Train Loss:0.1171, Train Acc:76.25\n",
            "validation start\n"
          ]
        },
        {
          "output_type": "stream",
          "name": "stderr",
          "text": [
            "\n",
            "15it [00:00, 19.92it/s]                      "
          ]
        },
        {
          "output_type": "stream",
          "name": "stdout",
          "text": [
            "Val Loss:0.0870, Val_Acc:88.33\n",
            "loss 0.1302 - accu 74.5929 - val_loss 0.0993 - val_accu 85.2884\n",
            "Epoch [393/1000]\n"
          ]
        },
        {
          "output_type": "stream",
          "name": "stderr",
          "text": [
            "\n",
            "100%|██████████| 60/60 [00:01<00:00, 51.19it/s]"
          ]
        },
        {
          "output_type": "stream",
          "name": "stdout",
          "text": [
            "Train Loss:0.1162, Train Acc:77.08\n",
            "validation start\n"
          ]
        },
        {
          "output_type": "stream",
          "name": "stderr",
          "text": [
            "\n",
            "15it [00:00, 19.74it/s]                      "
          ]
        },
        {
          "output_type": "stream",
          "name": "stdout",
          "text": [
            "Val Loss:0.0943, Val_Acc:85.00\n",
            "loss 0.1302 - accu 74.5992 - val_loss 0.0992 - val_accu 85.2876\n",
            "Epoch [394/1000]\n"
          ]
        },
        {
          "output_type": "stream",
          "name": "stderr",
          "text": [
            "\n",
            "100%|██████████| 60/60 [00:01<00:00, 50.49it/s]"
          ]
        },
        {
          "output_type": "stream",
          "name": "stdout",
          "text": [
            "Train Loss:0.1129, Train Acc:81.25\n",
            "validation start\n"
          ]
        },
        {
          "output_type": "stream",
          "name": "stderr",
          "text": [
            "\n",
            "15it [00:00, 18.72it/s]                      "
          ]
        },
        {
          "output_type": "stream",
          "name": "stdout",
          "text": [
            "Val Loss:0.0862, Val_Acc:90.00\n",
            "loss 0.1301 - accu 74.6160 - val_loss 0.0992 - val_accu 85.2996\n",
            "=> saved best model\n",
            "Epoch [395/1000]\n"
          ]
        },
        {
          "output_type": "stream",
          "name": "stderr",
          "text": [
            "\n",
            "100%|██████████| 60/60 [00:01<00:00, 46.81it/s] "
          ]
        },
        {
          "output_type": "stream",
          "name": "stdout",
          "text": [
            "Train Loss:0.1138, Train Acc:78.75\n",
            "validation start\n"
          ]
        },
        {
          "output_type": "stream",
          "name": "stderr",
          "text": [
            "\n",
            "15it [00:00, 19.27it/s]\n"
          ]
        },
        {
          "output_type": "stream",
          "name": "stdout",
          "text": [
            "Val Loss:0.0890, Val_Acc:86.67\n",
            "loss 0.1301 - accu 74.6265 - val_loss 0.0992 - val_accu 85.3030\n",
            "=> saved best model\n",
            "Epoch [396/1000]\n"
          ]
        },
        {
          "output_type": "stream",
          "name": "stderr",
          "text": [
            "100%|██████████| 60/60 [00:01<00:00, 51.04it/s]"
          ]
        },
        {
          "output_type": "stream",
          "name": "stdout",
          "text": [
            "Train Loss:0.1159, Train Acc:77.50\n",
            "validation start\n"
          ]
        },
        {
          "output_type": "stream",
          "name": "stderr",
          "text": [
            "\n",
            "15it [00:00, 17.96it/s]"
          ]
        },
        {
          "output_type": "stream",
          "name": "stdout",
          "text": [
            "Val Loss:0.0855, Val_Acc:90.00\n",
            "loss 0.1301 - accu 74.6337 - val_loss 0.0992 - val_accu 85.3149\n",
            "=> saved best model\n",
            "Epoch [397/1000]\n"
          ]
        },
        {
          "output_type": "stream",
          "name": "stderr",
          "text": [
            "\n",
            "100%|██████████| 60/60 [00:01<00:00, 47.07it/s]"
          ]
        },
        {
          "output_type": "stream",
          "name": "stdout",
          "text": [
            "Train Loss:0.1131, Train Acc:77.50\n",
            "validation start\n"
          ]
        },
        {
          "output_type": "stream",
          "name": "stderr",
          "text": [
            "\n",
            "15it [00:00, 18.78it/s]                      \n"
          ]
        },
        {
          "output_type": "stream",
          "name": "stdout",
          "text": [
            "Val Loss:0.0842, Val_Acc:88.33\n",
            "loss 0.1300 - accu 74.6409 - val_loss 0.0991 - val_accu 85.3224\n",
            "=> saved best model\n",
            "Epoch [398/1000]\n"
          ]
        },
        {
          "output_type": "stream",
          "name": "stderr",
          "text": [
            "100%|██████████| 60/60 [00:01<00:00, 50.16it/s]"
          ]
        },
        {
          "output_type": "stream",
          "name": "stdout",
          "text": [
            "Train Loss:0.1218, Train Acc:76.67\n",
            "validation start\n"
          ]
        },
        {
          "output_type": "stream",
          "name": "stderr",
          "text": [
            "\n",
            "15it [00:00, 18.75it/s]"
          ]
        },
        {
          "output_type": "stream",
          "name": "stdout",
          "text": [
            "Val Loss:0.0859, Val_Acc:88.33\n",
            "loss 0.1300 - accu 74.6460 - val_loss 0.0991 - val_accu 85.3300\n",
            "=> saved best model\n",
            "Epoch [399/1000]\n"
          ]
        },
        {
          "output_type": "stream",
          "name": "stderr",
          "text": [
            "\n",
            "100%|██████████| 60/60 [00:01<00:00, 49.85it/s]"
          ]
        },
        {
          "output_type": "stream",
          "name": "stdout",
          "text": [
            "Train Loss:0.1157, Train Acc:76.25\n",
            "validation start\n"
          ]
        },
        {
          "output_type": "stream",
          "name": "stderr",
          "text": [
            "\n",
            "15it [00:00, 18.66it/s]"
          ]
        },
        {
          "output_type": "stream",
          "name": "stdout",
          "text": [
            "Val Loss:0.0869, Val_Acc:90.00\n",
            "loss 0.1300 - accu 74.6500 - val_loss 0.0990 - val_accu 85.3417\n",
            "=> saved best model\n",
            "Epoch [400/1000]\n"
          ]
        },
        {
          "output_type": "stream",
          "name": "stderr",
          "text": [
            "\n",
            "100%|██████████| 60/60 [00:01<00:00, 49.14it/s]"
          ]
        },
        {
          "output_type": "stream",
          "name": "stdout",
          "text": [
            "Train Loss:0.1154, Train Acc:75.42\n",
            "validation start\n"
          ]
        },
        {
          "output_type": "stream",
          "name": "stderr",
          "text": [
            "\n",
            "15it [00:00, 17.85it/s]"
          ]
        },
        {
          "output_type": "stream",
          "name": "stdout",
          "text": [
            "Val Loss:0.0937, Val_Acc:83.33\n",
            "loss 0.1299 - accu 74.6519 - val_loss 0.0990 - val_accu 85.3367\n",
            "Epoch [401/1000]\n"
          ]
        },
        {
          "output_type": "stream",
          "name": "stderr",
          "text": [
            "\n",
            "100%|██████████| 60/60 [00:01<00:00, 47.10it/s]"
          ]
        },
        {
          "output_type": "stream",
          "name": "stdout",
          "text": [
            "Train Loss:0.1095, Train Acc:81.25\n",
            "validation start\n"
          ]
        },
        {
          "output_type": "stream",
          "name": "stderr",
          "text": [
            "\n",
            "15it [00:00, 18.72it/s]                      "
          ]
        },
        {
          "output_type": "stream",
          "name": "stdout",
          "text": [
            "Val Loss:0.0862, Val_Acc:86.67\n",
            "loss 0.1299 - accu 74.6683 - val_loss 0.0990 - val_accu 85.3400\n",
            "Epoch [402/1000]\n"
          ]
        },
        {
          "output_type": "stream",
          "name": "stderr",
          "text": [
            "\n",
            "100%|██████████| 60/60 [00:01<00:00, 48.67it/s]\n"
          ]
        },
        {
          "output_type": "stream",
          "name": "stdout",
          "text": [
            "Train Loss:0.1154, Train Acc:78.75\n",
            "validation start\n"
          ]
        },
        {
          "output_type": "stream",
          "name": "stderr",
          "text": [
            "15it [00:00, 18.64it/s]\n"
          ]
        },
        {
          "output_type": "stream",
          "name": "stdout",
          "text": [
            "Val Loss:0.1021, Val_Acc:76.67\n",
            "loss 0.1298 - accu 74.6785 - val_loss 0.0990 - val_accu 85.3184\n",
            "Epoch [403/1000]\n"
          ]
        },
        {
          "output_type": "stream",
          "name": "stderr",
          "text": [
            "100%|██████████| 60/60 [00:01<00:00, 47.60it/s]"
          ]
        },
        {
          "output_type": "stream",
          "name": "stdout",
          "text": [
            "Train Loss:0.1140, Train Acc:77.92\n",
            "validation start\n"
          ]
        },
        {
          "output_type": "stream",
          "name": "stderr",
          "text": [
            "\n",
            "15it [00:00, 18.60it/s]"
          ]
        },
        {
          "output_type": "stream",
          "name": "stdout",
          "text": [
            "Val Loss:0.0899, Val_Acc:85.00\n",
            "loss 0.1298 - accu 74.6865 - val_loss 0.0990 - val_accu 85.3177\n",
            "Epoch [404/1000]\n"
          ]
        },
        {
          "output_type": "stream",
          "name": "stderr",
          "text": [
            "\n",
            "100%|██████████| 60/60 [00:01<00:00, 49.03it/s] "
          ]
        },
        {
          "output_type": "stream",
          "name": "stdout",
          "text": [
            "Train Loss:0.1108, Train Acc:79.58\n",
            "validation start\n"
          ]
        },
        {
          "output_type": "stream",
          "name": "stderr",
          "text": [
            "\n",
            "15it [00:00, 19.21it/s]\n"
          ]
        },
        {
          "output_type": "stream",
          "name": "stdout",
          "text": [
            "Val Loss:0.0860, Val_Acc:88.33\n",
            "loss 0.1297 - accu 74.6986 - val_loss 0.0990 - val_accu 85.3251\n",
            "Epoch [405/1000]\n"
          ]
        },
        {
          "output_type": "stream",
          "name": "stderr",
          "text": [
            "100%|██████████| 60/60 [00:01<00:00, 51.73it/s]"
          ]
        },
        {
          "output_type": "stream",
          "name": "stdout",
          "text": [
            "Train Loss:0.1163, Train Acc:77.50\n",
            "validation start\n"
          ]
        },
        {
          "output_type": "stream",
          "name": "stderr",
          "text": [
            "\n",
            "15it [00:00, 18.40it/s]\n"
          ]
        },
        {
          "output_type": "stream",
          "name": "stdout",
          "text": [
            "Val Loss:0.0891, Val_Acc:88.33\n",
            "loss 0.1297 - accu 74.7055 - val_loss 0.0989 - val_accu 85.3325\n",
            "Epoch [406/1000]\n"
          ]
        },
        {
          "output_type": "stream",
          "name": "stderr",
          "text": [
            "100%|██████████| 60/60 [00:01<00:00, 48.95it/s]"
          ]
        },
        {
          "output_type": "stream",
          "name": "stdout",
          "text": [
            "Train Loss:0.1148, Train Acc:81.25\n",
            "validation start\n"
          ]
        },
        {
          "output_type": "stream",
          "name": "stderr",
          "text": [
            "\n",
            "15it [00:00, 18.20it/s]"
          ]
        },
        {
          "output_type": "stream",
          "name": "stdout",
          "text": [
            "Val Loss:0.0914, Val_Acc:86.67\n",
            "loss 0.1297 - accu 74.7215 - val_loss 0.0989 - val_accu 85.3358\n",
            "Epoch [407/1000]\n"
          ]
        },
        {
          "output_type": "stream",
          "name": "stderr",
          "text": [
            "\n",
            "100%|██████████| 60/60 [00:01<00:00, 48.68it/s]"
          ]
        },
        {
          "output_type": "stream",
          "name": "stdout",
          "text": [
            "Train Loss:0.1126, Train Acc:77.08\n",
            "validation start\n"
          ]
        },
        {
          "output_type": "stream",
          "name": "stderr",
          "text": [
            "\n",
            "15it [00:00, 18.92it/s]"
          ]
        },
        {
          "output_type": "stream",
          "name": "stdout",
          "text": [
            "Val Loss:0.0884, Val_Acc:88.33\n",
            "loss 0.1296 - accu 74.7273 - val_loss 0.0989 - val_accu 85.3431\n",
            "=> saved best model\n",
            "Epoch [408/1000]\n"
          ]
        },
        {
          "output_type": "stream",
          "name": "stderr",
          "text": [
            "\n",
            "100%|██████████| 60/60 [00:01<00:00, 48.50it/s]"
          ]
        },
        {
          "output_type": "stream",
          "name": "stdout",
          "text": [
            "Train Loss:0.1151, Train Acc:78.75\n",
            "validation start\n"
          ]
        },
        {
          "output_type": "stream",
          "name": "stderr",
          "text": [
            "\n",
            "15it [00:00, 18.56it/s]                      "
          ]
        },
        {
          "output_type": "stream",
          "name": "stdout",
          "text": [
            "Val Loss:0.0864, Val_Acc:88.33\n",
            "loss 0.1296 - accu 74.7372 - val_loss 0.0989 - val_accu 85.3504\n",
            "=> saved best model\n",
            "Epoch [409/1000]\n"
          ]
        },
        {
          "output_type": "stream",
          "name": "stderr",
          "text": [
            "\n",
            "100%|██████████| 60/60 [00:01<00:00, 47.73it/s]"
          ]
        },
        {
          "output_type": "stream",
          "name": "stdout",
          "text": [
            "Train Loss:0.1082, Train Acc:80.42\n",
            "validation start\n"
          ]
        },
        {
          "output_type": "stream",
          "name": "stderr",
          "text": [
            "\n",
            "15it [00:00, 18.12it/s]"
          ]
        },
        {
          "output_type": "stream",
          "name": "stdout",
          "text": [
            "Val Loss:0.0865, Val_Acc:86.67\n",
            "loss 0.1295 - accu 74.7510 - val_loss 0.0988 - val_accu 85.3537\n",
            "=> saved best model\n",
            "Epoch [410/1000]\n"
          ]
        },
        {
          "output_type": "stream",
          "name": "stderr",
          "text": [
            "\n",
            "100%|██████████| 60/60 [00:01<00:00, 50.86it/s]"
          ]
        },
        {
          "output_type": "stream",
          "name": "stdout",
          "text": [
            "Train Loss:0.1074, Train Acc:79.58\n",
            "validation start\n"
          ]
        },
        {
          "output_type": "stream",
          "name": "stderr",
          "text": [
            "\n",
            "15it [00:00, 18.66it/s]\n"
          ]
        },
        {
          "output_type": "stream",
          "name": "stdout",
          "text": [
            "Val Loss:0.0909, Val_Acc:83.33\n",
            "loss 0.1295 - accu 74.7628 - val_loss 0.0988 - val_accu 85.3487\n",
            "Epoch [411/1000]\n"
          ]
        },
        {
          "output_type": "stream",
          "name": "stderr",
          "text": [
            "100%|██████████| 60/60 [00:01<00:00, 47.84it/s]"
          ]
        },
        {
          "output_type": "stream",
          "name": "stdout",
          "text": [
            "Train Loss:0.1150, Train Acc:78.33\n",
            "validation start\n"
          ]
        },
        {
          "output_type": "stream",
          "name": "stderr",
          "text": [
            "\n",
            "15it [00:00, 18.00it/s]"
          ]
        },
        {
          "output_type": "stream",
          "name": "stdout",
          "text": [
            "Val Loss:0.0969, Val_Acc:81.67\n",
            "loss 0.1295 - accu 74.7714 - val_loss 0.0988 - val_accu 85.3398\n",
            "Epoch [412/1000]\n"
          ]
        },
        {
          "output_type": "stream",
          "name": "stderr",
          "text": [
            "\n",
            "100%|██████████| 60/60 [00:01<00:00, 48.71it/s]"
          ]
        },
        {
          "output_type": "stream",
          "name": "stdout",
          "text": [
            "Train Loss:0.1171, Train Acc:76.25\n",
            "validation start\n"
          ]
        },
        {
          "output_type": "stream",
          "name": "stderr",
          "text": [
            "\n",
            "15it [00:00, 18.59it/s]"
          ]
        },
        {
          "output_type": "stream",
          "name": "stdout",
          "text": [
            "Val Loss:0.0975, Val_Acc:85.00\n",
            "loss 0.1294 - accu 74.7750 - val_loss 0.0988 - val_accu 85.3390\n",
            "Epoch [413/1000]\n"
          ]
        },
        {
          "output_type": "stream",
          "name": "stderr",
          "text": [
            "\n",
            "100%|██████████| 60/60 [00:01<00:00, 48.75it/s] "
          ]
        },
        {
          "output_type": "stream",
          "name": "stdout",
          "text": [
            "Train Loss:0.1126, Train Acc:80.00\n",
            "validation start\n"
          ]
        },
        {
          "output_type": "stream",
          "name": "stderr",
          "text": [
            "\n",
            "15it [00:00, 19.53it/s]"
          ]
        },
        {
          "output_type": "stream",
          "name": "stdout",
          "text": [
            "Val Loss:0.0871, Val_Acc:86.67\n",
            "loss 0.1294 - accu 74.7876 - val_loss 0.0988 - val_accu 85.3422\n",
            "Epoch [414/1000]\n"
          ]
        },
        {
          "output_type": "stream",
          "name": "stderr",
          "text": [
            "\n",
            "100%|██████████| 60/60 [00:01<00:00, 48.34it/s]"
          ]
        },
        {
          "output_type": "stream",
          "name": "stdout",
          "text": [
            "Train Loss:0.1136, Train Acc:79.17\n",
            "validation start\n"
          ]
        },
        {
          "output_type": "stream",
          "name": "stderr",
          "text": [
            "\n",
            "15it [00:00, 18.93it/s]\n"
          ]
        },
        {
          "output_type": "stream",
          "name": "stdout",
          "text": [
            "Val Loss:0.1055, Val_Acc:78.33\n",
            "loss 0.1294 - accu 74.7982 - val_loss 0.0988 - val_accu 85.3253\n",
            "Epoch [415/1000]\n"
          ]
        },
        {
          "output_type": "stream",
          "name": "stderr",
          "text": [
            "100%|██████████| 60/60 [00:01<00:00, 48.83it/s]"
          ]
        },
        {
          "output_type": "stream",
          "name": "stdout",
          "text": [
            "Train Loss:0.1186, Train Acc:76.25\n",
            "validation start\n"
          ]
        },
        {
          "output_type": "stream",
          "name": "stderr",
          "text": [
            "\n",
            "15it [00:00, 18.22it/s]"
          ]
        },
        {
          "output_type": "stream",
          "name": "stdout",
          "text": [
            "Val Loss:0.0976, Val_Acc:83.33\n",
            "loss 0.1293 - accu 74.8017 - val_loss 0.0988 - val_accu 85.3205\n",
            "Epoch [416/1000]\n"
          ]
        },
        {
          "output_type": "stream",
          "name": "stderr",
          "text": [
            "\n",
            "100%|██████████| 60/60 [00:01<00:00, 50.52it/s]"
          ]
        },
        {
          "output_type": "stream",
          "name": "stdout",
          "text": [
            "Train Loss:0.1102, Train Acc:77.92\n",
            "validation start\n"
          ]
        },
        {
          "output_type": "stream",
          "name": "stderr",
          "text": [
            "\n",
            "15it [00:00, 18.20it/s]"
          ]
        },
        {
          "output_type": "stream",
          "name": "stdout",
          "text": [
            "Val Loss:0.0893, Val_Acc:85.00\n",
            "loss 0.1293 - accu 74.8092 - val_loss 0.0988 - val_accu 85.3197\n",
            "Epoch [417/1000]\n"
          ]
        },
        {
          "output_type": "stream",
          "name": "stderr",
          "text": [
            "\n",
            "100%|██████████| 60/60 [00:01<00:00, 45.68it/s]"
          ]
        },
        {
          "output_type": "stream",
          "name": "stdout",
          "text": [
            "Train Loss:0.1084, Train Acc:78.33\n",
            "validation start\n"
          ]
        },
        {
          "output_type": "stream",
          "name": "stderr",
          "text": [
            "\n",
            "15it [00:00, 19.05it/s]                      "
          ]
        },
        {
          "output_type": "stream",
          "name": "stdout",
          "text": [
            "Val Loss:0.0855, Val_Acc:90.00\n",
            "loss 0.1292 - accu 74.8176 - val_loss 0.0987 - val_accu 85.3309\n",
            "Epoch [418/1000]\n"
          ]
        },
        {
          "output_type": "stream",
          "name": "stderr",
          "text": [
            "\n",
            "100%|██████████| 60/60 [00:01<00:00, 47.68it/s]"
          ]
        },
        {
          "output_type": "stream",
          "name": "stdout",
          "text": [
            "Train Loss:0.1161, Train Acc:79.58\n",
            "validation start\n"
          ]
        },
        {
          "output_type": "stream",
          "name": "stderr",
          "text": [
            "\n",
            "15it [00:00, 19.32it/s]"
          ]
        },
        {
          "output_type": "stream",
          "name": "stdout",
          "text": [
            "Val Loss:0.0917, Val_Acc:85.00\n",
            "loss 0.1292 - accu 74.8290 - val_loss 0.0987 - val_accu 85.3302\n",
            "Epoch [419/1000]\n"
          ]
        },
        {
          "output_type": "stream",
          "name": "stderr",
          "text": [
            "\n",
            "100%|██████████| 60/60 [00:01<00:00, 50.11it/s]"
          ]
        },
        {
          "output_type": "stream",
          "name": "stdout",
          "text": [
            "Train Loss:0.1097, Train Acc:77.92\n",
            "validation start\n"
          ]
        },
        {
          "output_type": "stream",
          "name": "stderr",
          "text": [
            "\n",
            "15it [00:00, 17.89it/s]\n"
          ]
        },
        {
          "output_type": "stream",
          "name": "stdout",
          "text": [
            "Val Loss:0.0920, Val_Acc:86.67\n",
            "loss 0.1292 - accu 74.8363 - val_loss 0.0987 - val_accu 85.3333\n",
            "Epoch [420/1000]\n"
          ]
        },
        {
          "output_type": "stream",
          "name": "stderr",
          "text": [
            "100%|██████████| 60/60 [00:01<00:00, 46.65it/s]"
          ]
        },
        {
          "output_type": "stream",
          "name": "stdout",
          "text": [
            "Train Loss:0.1127, Train Acc:77.92\n",
            "validation start\n"
          ]
        },
        {
          "output_type": "stream",
          "name": "stderr",
          "text": [
            "\n",
            "15it [00:00, 17.53it/s]"
          ]
        },
        {
          "output_type": "stream",
          "name": "stdout",
          "text": [
            "Val Loss:0.0858, Val_Acc:86.67\n",
            "loss 0.1291 - accu 74.8436 - val_loss 0.0987 - val_accu 85.3365\n",
            "Epoch [421/1000]\n"
          ]
        },
        {
          "output_type": "stream",
          "name": "stderr",
          "text": [
            "\n",
            "100%|██████████| 60/60 [00:01<00:00, 48.87it/s]"
          ]
        },
        {
          "output_type": "stream",
          "name": "stdout",
          "text": [
            "Train Loss:0.1187, Train Acc:78.75\n",
            "validation start\n"
          ]
        },
        {
          "output_type": "stream",
          "name": "stderr",
          "text": [
            "\n",
            "15it [00:00, 18.75it/s]\n"
          ]
        },
        {
          "output_type": "stream",
          "name": "stdout",
          "text": [
            "Val Loss:0.0892, Val_Acc:86.67\n",
            "loss 0.1291 - accu 74.8529 - val_loss 0.0986 - val_accu 85.3397\n",
            "Epoch [422/1000]\n"
          ]
        },
        {
          "output_type": "stream",
          "name": "stderr",
          "text": [
            "100%|██████████| 60/60 [00:01<00:00, 47.78it/s]"
          ]
        },
        {
          "output_type": "stream",
          "name": "stdout",
          "text": [
            "Train Loss:0.1083, Train Acc:77.92\n",
            "validation start\n"
          ]
        },
        {
          "output_type": "stream",
          "name": "stderr",
          "text": [
            "\n",
            "15it [00:00, 19.41it/s]\n"
          ]
        },
        {
          "output_type": "stream",
          "name": "stdout",
          "text": [
            "Val Loss:0.0951, Val_Acc:81.67\n",
            "loss 0.1290 - accu 74.8601 - val_loss 0.0986 - val_accu 85.3310\n",
            "Epoch [423/1000]\n"
          ]
        },
        {
          "output_type": "stream",
          "name": "stderr",
          "text": [
            "100%|██████████| 60/60 [00:01<00:00, 47.90it/s]"
          ]
        },
        {
          "output_type": "stream",
          "name": "stdout",
          "text": [
            "Train Loss:0.1109, Train Acc:79.17\n",
            "validation start\n"
          ]
        },
        {
          "output_type": "stream",
          "name": "stderr",
          "text": [
            "\n",
            "15it [00:00, 18.68it/s]\n"
          ]
        },
        {
          "output_type": "stream",
          "name": "stdout",
          "text": [
            "Val Loss:0.0846, Val_Acc:86.67\n",
            "loss 0.1290 - accu 74.8703 - val_loss 0.0986 - val_accu 85.3341\n",
            "Epoch [424/1000]\n"
          ]
        },
        {
          "output_type": "stream",
          "name": "stderr",
          "text": [
            "100%|██████████| 60/60 [00:01<00:00, 50.62it/s]"
          ]
        },
        {
          "output_type": "stream",
          "name": "stdout",
          "text": [
            "Train Loss:0.1096, Train Acc:77.92\n",
            "validation start\n"
          ]
        },
        {
          "output_type": "stream",
          "name": "stderr",
          "text": [
            "\n",
            "15it [00:00, 18.35it/s]\n"
          ]
        },
        {
          "output_type": "stream",
          "name": "stdout",
          "text": [
            "Val Loss:0.0917, Val_Acc:85.00\n",
            "loss 0.1290 - accu 74.8775 - val_loss 0.0986 - val_accu 85.3333\n",
            "Epoch [425/1000]\n"
          ]
        },
        {
          "output_type": "stream",
          "name": "stderr",
          "text": [
            "100%|██████████| 60/60 [00:01<00:00, 48.43it/s] "
          ]
        },
        {
          "output_type": "stream",
          "name": "stdout",
          "text": [
            "Train Loss:0.1047, Train Acc:79.58\n",
            "validation start\n"
          ]
        },
        {
          "output_type": "stream",
          "name": "stderr",
          "text": [
            "\n",
            "15it [00:00, 19.15it/s]"
          ]
        },
        {
          "output_type": "stream",
          "name": "stdout",
          "text": [
            "Val Loss:0.0847, Val_Acc:86.67\n",
            "loss 0.1289 - accu 74.8885 - val_loss 0.0986 - val_accu 85.3365\n",
            "Epoch [426/1000]\n"
          ]
        },
        {
          "output_type": "stream",
          "name": "stderr",
          "text": [
            "\n",
            "100%|██████████| 60/60 [00:01<00:00, 51.14it/s]"
          ]
        },
        {
          "output_type": "stream",
          "name": "stdout",
          "text": [
            "Train Loss:0.1094, Train Acc:78.33\n",
            "validation start\n"
          ]
        },
        {
          "output_type": "stream",
          "name": "stderr",
          "text": [
            "\n",
            "15it [00:00, 18.48it/s]\n"
          ]
        },
        {
          "output_type": "stream",
          "name": "stdout",
          "text": [
            "Val Loss:0.0855, Val_Acc:86.67\n",
            "loss 0.1288 - accu 74.8966 - val_loss 0.0985 - val_accu 85.3396\n",
            "Epoch [427/1000]\n"
          ]
        },
        {
          "output_type": "stream",
          "name": "stderr",
          "text": [
            "100%|██████████| 60/60 [00:01<00:00, 47.85it/s]"
          ]
        },
        {
          "output_type": "stream",
          "name": "stdout",
          "text": [
            "Train Loss:0.1135, Train Acc:77.92\n",
            "validation start\n"
          ]
        },
        {
          "output_type": "stream",
          "name": "stderr",
          "text": [
            "\n",
            "15it [00:00, 18.20it/s]"
          ]
        },
        {
          "output_type": "stream",
          "name": "stdout",
          "text": [
            "Val Loss:0.0868, Val_Acc:86.67\n",
            "loss 0.1288 - accu 74.9036 - val_loss 0.0985 - val_accu 85.3427\n",
            "Epoch [428/1000]\n"
          ]
        },
        {
          "output_type": "stream",
          "name": "stderr",
          "text": [
            "\n",
            "100%|██████████| 60/60 [00:01<00:00, 46.75it/s]"
          ]
        },
        {
          "output_type": "stream",
          "name": "stdout",
          "text": [
            "Train Loss:0.1167, Train Acc:75.83\n",
            "validation start\n"
          ]
        },
        {
          "output_type": "stream",
          "name": "stderr",
          "text": [
            "\n",
            "15it [00:00, 17.49it/s]                      "
          ]
        },
        {
          "output_type": "stream",
          "name": "stdout",
          "text": [
            "Val Loss:0.0888, Val_Acc:86.67\n",
            "loss 0.1288 - accu 74.9058 - val_loss 0.0985 - val_accu 85.3458\n",
            "Epoch [429/1000]\n"
          ]
        },
        {
          "output_type": "stream",
          "name": "stderr",
          "text": [
            "\n",
            "100%|██████████| 60/60 [00:01<00:00, 48.10it/s]"
          ]
        },
        {
          "output_type": "stream",
          "name": "stdout",
          "text": [
            "Train Loss:0.1102, Train Acc:79.58\n",
            "validation start\n"
          ]
        },
        {
          "output_type": "stream",
          "name": "stderr",
          "text": [
            "\n",
            "15it [00:00, 18.84it/s]\n"
          ]
        },
        {
          "output_type": "stream",
          "name": "stdout",
          "text": [
            "Val Loss:0.0915, Val_Acc:85.00\n",
            "loss 0.1287 - accu 74.9167 - val_loss 0.0985 - val_accu 85.3450\n",
            "=> early stopping\n"
          ]
        }
      ]
    },
    {
      "cell_type": "code",
      "source": [
        ""
      ],
      "metadata": {
        "id": "zXxsSWT4DaQL"
      },
      "execution_count": null,
      "outputs": []
    },
    {
      "cell_type": "code",
      "source": [
        ""
      ],
      "metadata": {
        "id": "3t3yW4CgDaSs"
      },
      "execution_count": null,
      "outputs": []
    },
    {
      "cell_type": "code",
      "source": [
        ""
      ],
      "metadata": {
        "id": "48FSVSV9DUUL"
      },
      "execution_count": null,
      "outputs": []
    },
    {
      "cell_type": "code",
      "source": [
        "import torch\n",
        "import torch.nn as nn\n",
        "class GRUmodule(nn.Module):\n",
        "  def __init__(self,input_size,h1,h2,number_layers=2):\n",
        "    super().__init__()\n",
        "    self.input_size=input_size\n",
        "    self.h1=h1\n",
        "    self.h2=h2\n",
        "    self.number_layers=number_layers\n",
        "    self.gru1=nn.GRU(input_size,h1,self.number_layers,batch_first=True)\n",
        "    self.gru2=nn.GRU(h1,h2,self.number_layers,batch_first=True)\n",
        "    self.fc=nn.Linear(256,2)\n",
        "\n",
        "  def forward(self,x):\n",
        "    #h01=torch.zeros(self.number_layers,x.size(0),self.h1)\n",
        "    #h1=torch.zeros(self.number_layers,x.size(0),self.h2)\n",
        "    out1,_=self.gru1(x)\n",
        "    out2,_=self.gru2(out1)\n",
        "    #print(out2[:,-1,:].shape)\n",
        "    #out=out2[:,-1,:]\n",
        "    out=self.fc(out2[:,-1,:])\n",
        "    return out\n",
        "model=GRUmodule(12,128,256)"
      ],
      "metadata": {
        "id": "TN0H3RHgBYJ2"
      },
      "execution_count": null,
      "outputs": []
    },
    {
      "cell_type": "code",
      "source": [
        "import torch\n",
        "import torch.nn as nn\n",
        "class CNN_model(nn.Module):\n",
        "  def __init__(self,in_chan,classes):\n",
        "    super(CNN_model,self).__init__()\n",
        "    # block 1\n",
        "    self.c11=nn.Conv1d(in_channels=in_chan,\n",
        "                       out_channels=120,kernel_size=3) # 12-3+1=10\n",
        "    #self.maxpool11=nn.MaxPool1d(2) #58\n",
        "    self.c21=nn.Conv1d(in_channels=120,\n",
        "                       out_channels=130,kernel_size=3) #10-3+1=8\n",
        "    #self.maxpool21=nn.MaxPool1d(2) #28\n",
        "    # block2\n",
        "    self.c12=nn.Conv1d(in_channels=130,\n",
        "                       out_channels=140,kernel_size=3) #8-3+1=6\n",
        "    self.maxpool12=nn.MaxPool1d(2) #6/2=3\n",
        "    self.c22=nn.Conv1d(in_channels=140,\n",
        "                       out_channels=64,kernel_size=1) #3-1+1=3 \n",
        "    #self.maxpool13=nn.MaxPool1d(3) #15/3=102\n",
        "    # linear layer\n",
        "    self.fc1=nn.Linear(64*3,128)\n",
        "    self.fc2=nn.Linear(128,classes)\n",
        "\n",
        "  def forward(self,x):\n",
        "    # block 1 \n",
        "    #x=self.maxpool21(self.c21(self.maxpool11(self.c11(x))))\n",
        "    x=self.c12(self.c21(self.c11(x)))\n",
        "    #x=(self.c22(self.maxpool12(self.c12(x))))\n",
        "    x=self.maxpool12(x)\n",
        "    x=self.c22(x)\n",
        "    x=x.view(-1,64*3)\n",
        "    x=self.fc1(x)\n",
        "    x=self.fc2(x)\n",
        "    return x\n",
        "model=CNN_model(in_chan=1,classes=2) # inp,number_layers,hidden_dim#\n",
        "inp=torch.rand(1,1,12)\n",
        "out=model(inp)\n",
        "print(out.shape)"
      ],
      "metadata": {
        "colab": {
          "base_uri": "https://localhost:8080/"
        },
        "id": "DoSGSNgRBYMd",
        "outputId": "e71f8e6d-efb6-4b25-b563-5b3009088069"
      },
      "execution_count": null,
      "outputs": [
        {
          "output_type": "stream",
          "name": "stdout",
          "text": [
            "torch.Size([1, 2])\n"
          ]
        }
      ]
    },
    {
      "cell_type": "code",
      "source": [
        "### 1DCNN+LSTM model\n",
        "import torch\n",
        "import torch.nn as nn\n",
        "class CNNLSTM(nn.Module):\n",
        "  def __init__(self,input_size,number_layers,hidden_units,number_classes=2):\n",
        "    super().__init__()\n",
        "    self.number_layers=number_layers\n",
        "    self.hidden_units=hidden_units\n",
        "    self.input_size=input_size\n",
        "    self.c1=nn.Conv1d(in_channels=input_size,out_channels=10,kernel_size=5) # 120+1-5=116\n",
        "    self.b1=nn.BatchNorm1d(10)\n",
        "    self.mp1=nn.MaxPool1d(2) #116/2=58\n",
        "    self.c2=nn.Conv1d(10,out_channels=20,kernel_size=3) #58+1-3=56\n",
        "    self.b2=nn.BatchNorm1d(20)\n",
        "    self.mp2=nn.MaxPool1d(2) #56/2=28\n",
        "    # b*20*30\n",
        "    self.lstm=nn.LSTM(28,self.hidden_units,self.number_layers,batch_first=True)\n",
        "    self.fc=nn.Linear(self.hidden_units,number_classes)\n",
        "\n",
        "  def forward(self,x):\n",
        "    x=self.mp1(self.b1(self.c1(x)))\n",
        "    x=self.mp2(self.b2(self.c2(x)))\n",
        "    #print(x.shape)\n",
        "    # h0=torch.zeros(self.number_layers,x.size(0),self.hidden_units)\n",
        "    # c0=torch.zeros(self.number_layers,x.size(0),self.hidden_units)\n",
        "    # h0.cuda()\n",
        "    # c0.cuda()\n",
        "    # out,(h1,c1)=self.lstm(x,(h0,c0))\n",
        "    out,(h1,c1)=self.lstm(x)\n",
        "    out1=self.fc(out[:,-1,:]) # batch_size*hidden_units\n",
        "    #print(out1.shape)\n",
        "    return out1\n",
        "model=CNNLSTM(70,2,64) # inp,number_layers,hidden_dim\n",
        "# inpt=torch.randn(10,64,120) # batch_sizexfeatures or input channels xseq_len in time "
      ],
      "metadata": {
        "id": "jQepMqhUBYO9"
      },
      "execution_count": null,
      "outputs": []
    },
    {
      "cell_type": "code",
      "source": [
        ""
      ],
      "metadata": {
        "id": "X_kY8mlrBYQ1"
      },
      "execution_count": null,
      "outputs": []
    },
    {
      "cell_type": "code",
      "source": [
        "#### training and testing functions\n",
        "model=nn.DataParallel(model)\n",
        "model=model.to(device)\n",
        "#loss_func=nn.BCEWithLogitsLoss()\n",
        "from tqdm import tqdm\n",
        "import torch.optim as optim\n",
        "optimizer=optim.Adam(model.parameters(),lr=0.00001)\n",
        "\n",
        "#classes=['NRG','RG']\n",
        "classes=['NoAT','CanAT']\n",
        "#c1=data['label'].value_counts()[0]\n",
        "#c2=data['label'].value_counts()[1]\n",
        "my_distribution=np.array([175,65])\n",
        "class_weights = torch.from_numpy(np.divide(1, my_distribution)).float().to(device)\n",
        "class_weights = class_weights / class_weights.sum()\n",
        "for i, c in enumerate(classes):\n",
        "  print('Weight for class %s: %f' % (c, class_weights.cpu().numpy()[i]))\n",
        "loss_func = nn.CrossEntropyLoss(weight=class_weights)\n",
        "#label=label.to(torch.int64)\n",
        "################################ training functions ###################\n",
        "def train_fn(model,train_loader):\n",
        "    model.train()\n",
        "    counter=0\n",
        "    training_run_loss=0.0\n",
        "    train_running_correct=0.0\n",
        "    for i, data in tqdm(enumerate(train_loader),total=int(len(train_dataset)/train_loader.batch_size)):\n",
        "        counter+=1\n",
        "        # extract dataset\n",
        "        feature,label=data\n",
        "        #imge=imge.float()\n",
        "        #label=label.float()\n",
        "        label.to(torch.int64)\n",
        "        feature=feature.float()\n",
        "        feature=feature.to(device)\n",
        "        #imge=imge.to(device)\n",
        "        label=label.to(device)\n",
        "        #imge=imge.cuda()\n",
        "        #label=label.cuda()\n",
        "        # zero_out the gradient\n",
        "        optimizer.zero_grad()\n",
        "        output=model(feature)\n",
        "        loss=loss_func(output,label)\n",
        "        training_run_loss+=loss.item()\n",
        "        _,preds=torch.max(output.data,1)\n",
        "        train_running_correct+=(preds==label).sum().item()\n",
        "        loss.backward()\n",
        "        optimizer.step()\n",
        "    ###################### state computation ###################\n",
        "    train_loss=training_run_loss/len(train_loader.dataset)\n",
        "    train_loss_ep.append(train_loss)\n",
        "    train_accuracy=100.* train_running_correct/len(train_loader.dataset)\n",
        "    train_accuracy_ep.append(train_accuracy)\n",
        "    print(f\"Train Loss:{train_loss:.4f}, Train Acc:{train_accuracy:0.2f}\")\n",
        "    return train_loss_ep,train_accuracy_ep\n",
        "\n",
        "########################## validation function ##################\n",
        "def validation_fn(model,valid_loader):\n",
        "  # evluation start\n",
        "    print(\"validation start\")\n",
        "    \n",
        "    model.eval()\n",
        "    val_running_loss = 0.0\n",
        "    val_running_correct = 0\n",
        "    with torch.no_grad():\n",
        "        for i,data in tqdm(enumerate(valid_loader),total=int(len(valid_loader)/valid_loader.batch_size)):\n",
        "            feature,label=data\n",
        "            #imge=imge.float()\n",
        "            #label=label.float()\n",
        "            label.to(torch.int64)\n",
        "            feature=feature.float()\n",
        "            feature=feature.to(device)\n",
        "            #imge=imge.to(device)\n",
        "            label=label.to(device)\n",
        "            #imge=imge.cuda()\n",
        "            #label=label.cuda()\n",
        "            output=model(feature)\n",
        "            loss=loss_func(output,label)\n",
        "            val_running_loss+=loss.item()\n",
        "            _,pred=torch.max(output.data,1)\n",
        "            val_running_correct+=(pred==label).sum().item()\n",
        "        val_loss=val_running_loss/len(valid_loader.dataset)\n",
        "        val_loss_ep.append(val_loss)\n",
        "        val_accuracy=100.* val_running_correct/(len(valid_loader.dataset))\n",
        "        val_accuracy_ep.append(val_accuracy)\n",
        "        print(f\"Val Loss:{val_loss:0.4f}, Val_Acc:{val_accuracy:0.2f}\")\n",
        "        return val_loss_ep,val_accuracy_ep"
      ],
      "metadata": {
        "id": "UXB6gJbVBLmN"
      },
      "execution_count": null,
      "outputs": []
    },
    {
      "cell_type": "code",
      "source": [
        "import torch.optim as optim\n",
        "optimizer=optim.Adam(model.parameters(),lr=0.0001)\n",
        "train_loss_ep=[]\n",
        "train_accuracy_ep=[]\n",
        "val_loss_ep=[]\n",
        "val_accuracy_ep=[]\n",
        "lr = 3e-4\n",
        "log = pd.DataFrame(index=[], columns=['epoch', 'lr', 'loss', 'accu', 'val_loss', 'val_accu'])\n",
        "early_stop=20\n",
        "epochs=500\n",
        "best_acc = 0\n",
        "name='fold4model'\n",
        "trigger = 0\n",
        "for epoch in range(epochs):\n",
        "    print('Epoch [%d/%d]' %(epoch, epochs))\n",
        "    # train for one epoch\n",
        "    train_loss_ep,train_accuracy_ep=train_fn(model,train_dataloader)\n",
        "    train_loss_ep1=np.mean(train_loss_ep)\n",
        "    train_accuracy_ep1=np.mean(train_accuracy_ep)\n",
        "    #y_pred,labels=Prediciton_fn(model,valid_loader)\n",
        "\n",
        "    val_loss_ep,val_accuracy_ep=validation_fn(model,valid_dataloader)\n",
        "    val_loss_ep1=np.mean(val_loss_ep)\n",
        "    val_accuracy_ep1=np.mean(val_accuracy_ep)\n",
        "    \n",
        "    print('loss %.4f - accu %.4f - val_loss %.4f - val_accu %.4f'%(train_loss_ep1, train_accuracy_ep1, val_loss_ep1, val_accuracy_ep1))\n",
        "\n",
        "    tmp = pd.Series([epoch,lr,train_loss_ep1,train_accuracy_ep1,val_loss_ep1,val_accuracy_ep1], index=['epoch', 'lr', 'loss', 'accu', 'val_loss', 'val_accu'])\n",
        "\n",
        "    log = log.append(tmp, ignore_index=True)\n",
        "    log.to_csv('models/%s/log.csv' %name, index=False)\n",
        "\n",
        "    trigger += 1\n",
        "\n",
        "    if val_accuracy_ep1 > best_acc:\n",
        "        torch.save(model.state_dict(), 'models/%s/3dmodeltask1fold4.pth' %name)\n",
        "        best_acc = val_accuracy_ep1\n",
        "        print(\"=> saved best model\")\n",
        "        trigger = 0\n",
        "\n",
        "    # early stopping\n",
        "    if not early_stop is None:\n",
        "        if trigger >= early_stop:\n",
        "            print(\"=> early stopping\")\n",
        "            break\n",
        "\n",
        "    torch.cuda.empty_cache() "
      ],
      "metadata": {
        "id": "e0lTZKgCBQ2N"
      },
      "execution_count": null,
      "outputs": []
    },
    {
      "cell_type": "code",
      "source": [
        ""
      ],
      "metadata": {
        "id": "UvotdL3gBW3F"
      },
      "execution_count": null,
      "outputs": []
    }
  ]
}