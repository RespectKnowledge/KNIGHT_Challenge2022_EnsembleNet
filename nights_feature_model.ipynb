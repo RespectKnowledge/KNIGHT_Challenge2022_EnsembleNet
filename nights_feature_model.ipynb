{
  "nbformat": 4,
  "nbformat_minor": 0,
  "metadata": {
    "colab": {
      "name": "nights_feature_model.ipynb",
      "provenance": []
    },
    "kernelspec": {
      "name": "python3",
      "display_name": "Python 3"
    },
    "language_info": {
      "name": "python"
    },
    "accelerator": "GPU"
  },
  "cells": [
    {
      "cell_type": "code",
      "execution_count": null,
      "metadata": {
        "colab": {
          "base_uri": "https://localhost:8080/"
        },
        "id": "URSs3eVY1INk",
        "outputId": "08a69cd9-b104-44d4-f9e9-6ff877237b2f"
      },
      "outputs": [
        {
          "output_type": "stream",
          "name": "stdout",
          "text": [
            "Mounted at /content/drive\n"
          ]
        }
      ],
      "source": [
        "from google.colab import drive\n",
        "drive.mount('/content/drive')"
      ]
    },
    {
      "cell_type": "code",
      "source": [
        "cd /content/drive/MyDrive"
      ],
      "metadata": {
        "colab": {
          "base_uri": "https://localhost:8080/"
        },
        "id": "x1brXakr1Nex",
        "outputId": "df5e10ef-6371-40b8-e38f-e13c1c05cfbe"
      },
      "execution_count": null,
      "outputs": [
        {
          "output_type": "stream",
          "name": "stdout",
          "text": [
            "/content/drive/MyDrive\n"
          ]
        }
      ]
    },
    {
      "cell_type": "code",
      "source": [
        "!pip install SimpleITK"
      ],
      "metadata": {
        "colab": {
          "base_uri": "https://localhost:8080/"
        },
        "id": "uGuItiW_1if4",
        "outputId": "936cc6b8-4f00-4bd4-e80d-ede44c43641e"
      },
      "execution_count": null,
      "outputs": [
        {
          "output_type": "stream",
          "name": "stdout",
          "text": [
            "Collecting SimpleITK\n",
            "  Downloading SimpleITK-2.1.1-cp37-cp37m-manylinux_2_12_x86_64.manylinux2010_x86_64.whl (48.4 MB)\n",
            "\u001b[K     |████████████████████████████████| 48.4 MB 20 kB/s \n",
            "\u001b[?25hInstalling collected packages: SimpleITK\n",
            "Successfully installed SimpleITK-2.1.1\n"
          ]
        }
      ]
    },
    {
      "cell_type": "code",
      "source": [
        ""
      ],
      "metadata": {
        "id": "KHTYi-n-4jVu"
      },
      "execution_count": null,
      "outputs": []
    },
    {
      "cell_type": "code",
      "source": [
        ""
      ],
      "metadata": {
        "id": "_IBS55ql4jYm"
      },
      "execution_count": null,
      "outputs": []
    },
    {
      "cell_type": "code",
      "source": [
        "import os\n",
        "import json\n",
        "import pandas as pd\n",
        "import numpy as np\n",
        "\n",
        "#CLINICAL_NAMES = ['SubjectId', 'age', 'bmi', 'gender', 'gender_num', 'comorbidities', 'smoking_history', 'radiographic_size', 'preop_egfr',\n",
        "                  #'pathology_t_stage', 'pathology_n_stage', 'pathology_m_stage','age_when_quit_smoking','pack_years', 'grade', 'aua_risk_group', 'task_1_label', 'task_2_label']\n",
        "\n",
        "#\"age_at_nephrectomy\"\n",
        "#\"gender\"\n",
        "#\"body_mass_index\"\n",
        "#\"comorbidities\"\n",
        "#\"smoking_history\"\n",
        "#\"age_when_quit_smoking\"\n",
        "#\"pack_years\"\n",
        "#\"chewing_tobacco_use\"\n",
        "#\"alcohol_use\"\n",
        "#\"last_preop_egfr\"\n",
        "#\"radiographic_size\"\n",
        "#\"voxel_spacing\"\n",
        "\n",
        "CLINICAL_NAMES = ['SubjectId', \n",
        "                  'age', \n",
        "                  'bmi', \n",
        "                  'gender', \n",
        "                  'gender_num', \n",
        "                  'comorbidities', \n",
        "                  'smoking_history', \n",
        "                  'radiographic_size', \n",
        "                  'preop_egfr',\n",
        "                  #'pathology_t_stage', \n",
        "                  #'pathology_n_stage', \n",
        "                  #'pathology_m_stage',\n",
        "                  'age_when_quit_smoking',\n",
        "                  'alcohol_use',\n",
        "                  #'chewing_tobacco_use',\n",
        "                  'pack_years', \n",
        "                  #'grade', \n",
        "                  'aua_risk_group', 'task_1_label', 'task_2_label']\n",
        "\n",
        "# \"age_at_nephrectomy\"\n",
        "# \"gender\"\n",
        "# \"body_mass_index\"\n",
        "# \"comorbidities\"\n",
        "# \"smoking_history\"\n",
        "# \"age_when_quit_smoking\"\n",
        "# \"pack_years\"\n",
        "# \"chewing_tobacco_use\"\n",
        "# \"alcohol_use\"\n",
        "# \"last_preop_egfr\"\n",
        "# \"radiographic_size\"\n",
        "# \"voxel_spacing\"\n",
        "\n",
        "\n",
        "def create_knight_clinical(original_file, processed_file=None):\n",
        "    with open(original_file) as f:\n",
        "        clinical_data = json.load(f)\n",
        "    t_stage_count = np.zeros((5))\n",
        "    aua_risk_count = np.zeros((5))\n",
        "    df = pd.DataFrame(columns=CLINICAL_NAMES)\n",
        "    for index, patient in enumerate(clinical_data):\n",
        "        df.loc[index, 'SubjectId'] = patient['case_id']\n",
        "        df.loc[index, 'age'] = patient['age_at_nephrectomy']\n",
        "        df.loc[index, 'bmi'] = patient['body_mass_index']\n",
        "\n",
        "        df.loc[index, 'gender'] = patient['gender']\n",
        "        if patient['gender'] == 'male':    # 0:'male'  1:'female','transgender_male_to_female'\n",
        "            df.loc[index, 'gender_num'] = 0\n",
        "        else:\n",
        "            df.loc[index, 'gender_num'] = 1\n",
        "\n",
        "        df.loc[index, 'comorbidities'] = 0    # 0:no_comorbidities 1:comorbidities_exist\n",
        "        for key, value in patient['comorbidities'].items():\n",
        "            if value:\n",
        "                df.loc[index, 'comorbidities'] = 1\n",
        "\n",
        "        df.loc[index, 'smoking_history'] = patient['smoking_history']\n",
        "        if patient['smoking_history']=='never_smoked':    # 0:'never_smoked' 1:'previous_smoker'  2:'current_smoker'\n",
        "            df.loc[index, 'smoking_history'] = 0\n",
        "        elif patient['smoking_history'] == 'previous_smoker':\n",
        "            df.loc[index, 'smoking_history'] = 1\n",
        "        elif patient['smoking_history'] == 'current_smoker':\n",
        "            df.loc[index, 'smoking_history'] = 2\n",
        "\n",
        "        df.loc[index, 'radiographic_size'] = patient['radiographic_size']\n",
        "        if patient['last_preop_egfr']['value'] == '>=90':\n",
        "            df.loc[index, 'preop_egfr'] = 90\n",
        "        else:\n",
        "            df.loc[index, 'preop_egfr'] = patient['last_preop_egfr']['value']\n",
        "\n",
        "        #df.loc[index, 'pathology_t_stage'] = patient['pathology_t_stage']\n",
        "        #df.loc[index, 'pathology_n_stage'] = patient['pathology_n_stage']\n",
        "        #df.loc[index, 'pathology_m_stage'] = patient['pathology_m_stage']\n",
        "        df.loc[index, 'aua_risk_group'] = patient['aua_risk_group']\n",
        "       \n",
        "        # Task 1 labels:\n",
        "        if patient['aua_risk_group'] in ['high_risk', 'very_high_risk']:    # 1:'3','4'  0:'0','1a','1b','2a','2b'\n",
        "            df.loc[index, 'task_1_label'] = 1 # CanAT\n",
        "        else:\n",
        "            df.loc[index, 'task_1_label'] = 0 # NoAT\n",
        "\n",
        "        # Task 2 labels:\n",
        "        if patient['aua_risk_group']=='benign':\n",
        "            df.loc[index, 'task_2_label'] = 0 \n",
        "        elif patient['aua_risk_group']=='low_risk':\n",
        "            df.loc[index, 'task_2_label'] = 1\n",
        "        elif  patient['aua_risk_group']=='intermediate_risk':\n",
        "            df.loc[index, 'task_2_label'] = 2\n",
        "        elif patient['aua_risk_group']=='high_risk':\n",
        "            df.loc[index, 'task_2_label'] = 3\n",
        "        elif patient['aua_risk_group']=='very_high_risk':\n",
        "            df.loc[index, 'task_2_label'] = 4\n",
        "        else:\n",
        "            ValueError('Wrong risk class')\n",
        "\n",
        "        # former classification - deprecated\n",
        "        #if patient['pathology_t_stage'] in ['3', '4']:    # 1:'3','4'  0:'0','1a','1b','2a','2b'\n",
        "        #    df.loc[index, 'pathology_t_stage_classify'] = 1\n",
        "        #else:\n",
        "        #    df.loc[index, 'pathology_t_stage_classify'] = 0\n",
        "        #t_stage = int(patient['pathology_t_stage'][0])\n",
        "        #t_stage_count[t_stage] += 1\n",
        "        aua_risk = int(df.loc[index, 'task_2_label'])\n",
        "        aua_risk_count[aua_risk] += 1\n",
        "        #df.loc[index, 'grade'] = patient['tumor_isup_grade']\n",
        "        ##### new parameters\n",
        "        #df.loc[index,'alcohol_use']=patient['alcohol_use']\n",
        "        if patient['alcohol_use']=='two_or_less_daily':\n",
        "            df.loc[index, 'alcohol_use'] = 1\n",
        "        elif patient['alcohol_use']=='never_or_not_in_last_3mo':\n",
        "            df.loc[index, 'alcohol_use'] = 2\n",
        "        elif patient['alcohol_use']=='more_than_two_daily':\n",
        "            df.loc[index, 'alcohol_use'] = 3\n",
        "         \n",
        "        df.loc[index,'pack_years']=patient['pack_years']\n",
        "        #df.loc[index,'age_when_quit_smoking']=patient['age_when_quit_smoking']\n",
        "        if patient['age_when_quit_smoking']=='not_applicable':\n",
        "            df.loc[index, 'age_when_quit_smoking'] = 1\n",
        "\n",
        "        #df.loc[index,'achewing_tobacco_use']=patient['chewing_tobacco_use']\n",
        "        #age_when_quit_smoking\n",
        "\n",
        "    if processed_file is not None:\n",
        "        # save csv file\n",
        "        df.to_csv(processed_file, index=False)\n",
        "        df = df.drop(['gender', 'pathology_t_stage', 'pathology_n_stage', 'pathology_m_stage'], axis=1)\n",
        "        df.to_csv(os.path.splitext(processed_file)[0] + '_numeric.csv' , index=False)\n",
        "    print(f'Pathology t-stage count summary: {t_stage_count}')\n",
        "    print(f'AUA risk count summary: {aua_risk_count}')\n",
        "    return df\n"
      ],
      "metadata": {
        "id": "74TwaJod4jaX"
      },
      "execution_count": null,
      "outputs": []
    },
    {
      "cell_type": "code",
      "source": [
        "#original_file='C:\\\\Users\\\\Administrateur\\\\Desktop\\\\testfused_model\\\\knight.json'\n",
        "original_file='/content/drive/MyDrive/knight_challenegs2022/knight.json'\n",
        "df=create_knight_clinical(original_file, processed_file=None)\n",
        "#df.to_csv('processed_file.csv', index=False)"
      ],
      "metadata": {
        "colab": {
          "base_uri": "https://localhost:8080/"
        },
        "id": "wc_z9K6Y4nAH",
        "outputId": "68eb1c43-9a0d-49ad-f0f8-ec57da4a1c59"
      },
      "execution_count": null,
      "outputs": [
        {
          "output_type": "stream",
          "name": "stdout",
          "text": [
            "Pathology t-stage count summary: [0. 0. 0. 0. 0.]\n",
            "AUA risk count summary: [ 25. 142.  48.  40.  45.]\n"
          ]
        }
      ]
    },
    {
      "cell_type": "code",
      "source": [
        "#preop_egfr\n",
        "#df['preop_egfr'].unique()\n",
        "df['preop_egfr']=df['preop_egfr'].fillna(77)\n",
        "df['alcohol_use']=df['alcohol_use'].fillna(0)\n",
        "df['pack_years']=df['pack_years'].fillna(0)\n",
        "df['age_when_quit_smoking']=df['age_when_quit_smoking'].fillna(0)\n",
        "#df[\"bmi\"] = df['bmi'] /50.0\n",
        "#df['age']=df['age']/120.0\n",
        "##df['preop_egfr']=df['preop_egfr']/90.0\n",
        "#df['radiographic_size']=df['radiographic_size']/15.0\n",
        "#df['alcohol_use']=df['alcohol_use']/df['alcohol_use'].max()\n",
        "#df['pack_years']=df['pack_years'].astype(float) / df['pack_years'].max()"
      ],
      "metadata": {
        "id": "8HqDQpAb4tyG"
      },
      "execution_count": null,
      "outputs": []
    },
    {
      "cell_type": "code",
      "source": [
        "df.drop(['gender'],axis=1, inplace=True)"
      ],
      "metadata": {
        "id": "CjSt2uJ152ft"
      },
      "execution_count": null,
      "outputs": []
    },
    {
      "cell_type": "code",
      "source": [
        "df.drop(['aua_risk_group'],axis=1, inplace=True)"
      ],
      "metadata": {
        "id": "r7E9Xc4J6gyl"
      },
      "execution_count": null,
      "outputs": []
    },
    {
      "cell_type": "code",
      "source": [
        "df"
      ],
      "metadata": {
        "colab": {
          "base_uri": "https://localhost:8080/",
          "height": 488
        },
        "id": "RUhwlNUQ6pHl",
        "outputId": "47f44a9f-8653-4629-f415-6bb5b70cb55a"
      },
      "execution_count": null,
      "outputs": [
        {
          "output_type": "execute_result",
          "data": {
            "text/html": [
              "\n",
              "  <div id=\"df-052fb29d-9ad0-45d0-9a1c-accdba2a36ed\">\n",
              "    <div class=\"colab-df-container\">\n",
              "      <div>\n",
              "<style scoped>\n",
              "    .dataframe tbody tr th:only-of-type {\n",
              "        vertical-align: middle;\n",
              "    }\n",
              "\n",
              "    .dataframe tbody tr th {\n",
              "        vertical-align: top;\n",
              "    }\n",
              "\n",
              "    .dataframe thead th {\n",
              "        text-align: right;\n",
              "    }\n",
              "</style>\n",
              "<table border=\"1\" class=\"dataframe\">\n",
              "  <thead>\n",
              "    <tr style=\"text-align: right;\">\n",
              "      <th></th>\n",
              "      <th>SubjectId</th>\n",
              "      <th>age</th>\n",
              "      <th>bmi</th>\n",
              "      <th>gender_num</th>\n",
              "      <th>comorbidities</th>\n",
              "      <th>smoking_history</th>\n",
              "      <th>radiographic_size</th>\n",
              "      <th>preop_egfr</th>\n",
              "      <th>age_when_quit_smoking</th>\n",
              "      <th>alcohol_use</th>\n",
              "      <th>pack_years</th>\n",
              "      <th>task_1_label</th>\n",
              "      <th>task_2_label</th>\n",
              "    </tr>\n",
              "  </thead>\n",
              "  <tbody>\n",
              "    <tr>\n",
              "      <th>0</th>\n",
              "      <td>case_00000</td>\n",
              "      <td>49</td>\n",
              "      <td>29.47</td>\n",
              "      <td>0</td>\n",
              "      <td>0</td>\n",
              "      <td>0</td>\n",
              "      <td>2.4</td>\n",
              "      <td>77.0</td>\n",
              "      <td>1</td>\n",
              "      <td>1</td>\n",
              "      <td>0</td>\n",
              "      <td>0</td>\n",
              "      <td>2</td>\n",
              "    </tr>\n",
              "    <tr>\n",
              "      <th>1</th>\n",
              "      <td>case_00001</td>\n",
              "      <td>50</td>\n",
              "      <td>33.71</td>\n",
              "      <td>0</td>\n",
              "      <td>0</td>\n",
              "      <td>1</td>\n",
              "      <td>2.2</td>\n",
              "      <td>67.0</td>\n",
              "      <td>0</td>\n",
              "      <td>1</td>\n",
              "      <td>7</td>\n",
              "      <td>0</td>\n",
              "      <td>1</td>\n",
              "    </tr>\n",
              "    <tr>\n",
              "      <th>2</th>\n",
              "      <td>case_00002</td>\n",
              "      <td>74</td>\n",
              "      <td>28.13</td>\n",
              "      <td>0</td>\n",
              "      <td>1</td>\n",
              "      <td>2</td>\n",
              "      <td>4.5</td>\n",
              "      <td>77.0</td>\n",
              "      <td>1</td>\n",
              "      <td>2</td>\n",
              "      <td>50</td>\n",
              "      <td>1</td>\n",
              "      <td>3</td>\n",
              "    </tr>\n",
              "    <tr>\n",
              "      <th>3</th>\n",
              "      <td>case_00003</td>\n",
              "      <td>44</td>\n",
              "      <td>38.69</td>\n",
              "      <td>1</td>\n",
              "      <td>0</td>\n",
              "      <td>1</td>\n",
              "      <td>3.0</td>\n",
              "      <td>86.0</td>\n",
              "      <td>0</td>\n",
              "      <td>1</td>\n",
              "      <td>0</td>\n",
              "      <td>0</td>\n",
              "      <td>1</td>\n",
              "    </tr>\n",
              "    <tr>\n",
              "      <th>4</th>\n",
              "      <td>case_00004</td>\n",
              "      <td>73</td>\n",
              "      <td>28.59</td>\n",
              "      <td>0</td>\n",
              "      <td>1</td>\n",
              "      <td>1</td>\n",
              "      <td>3.0</td>\n",
              "      <td>77.0</td>\n",
              "      <td>0</td>\n",
              "      <td>2</td>\n",
              "      <td>0</td>\n",
              "      <td>0</td>\n",
              "      <td>1</td>\n",
              "    </tr>\n",
              "    <tr>\n",
              "      <th>...</th>\n",
              "      <td>...</td>\n",
              "      <td>...</td>\n",
              "      <td>...</td>\n",
              "      <td>...</td>\n",
              "      <td>...</td>\n",
              "      <td>...</td>\n",
              "      <td>...</td>\n",
              "      <td>...</td>\n",
              "      <td>...</td>\n",
              "      <td>...</td>\n",
              "      <td>...</td>\n",
              "      <td>...</td>\n",
              "      <td>...</td>\n",
              "    </tr>\n",
              "    <tr>\n",
              "      <th>295</th>\n",
              "      <td>case_00295</td>\n",
              "      <td>48</td>\n",
              "      <td>43.9</td>\n",
              "      <td>0</td>\n",
              "      <td>0</td>\n",
              "      <td>2</td>\n",
              "      <td>3.3</td>\n",
              "      <td>87.0</td>\n",
              "      <td>1</td>\n",
              "      <td>1</td>\n",
              "      <td>0</td>\n",
              "      <td>0</td>\n",
              "      <td>1</td>\n",
              "    </tr>\n",
              "    <tr>\n",
              "      <th>296</th>\n",
              "      <td>case_00296</td>\n",
              "      <td>51</td>\n",
              "      <td>17.8</td>\n",
              "      <td>1</td>\n",
              "      <td>0</td>\n",
              "      <td>1</td>\n",
              "      <td>2.8</td>\n",
              "      <td>90.0</td>\n",
              "      <td>0</td>\n",
              "      <td>2</td>\n",
              "      <td>0</td>\n",
              "      <td>0</td>\n",
              "      <td>1</td>\n",
              "    </tr>\n",
              "    <tr>\n",
              "      <th>297</th>\n",
              "      <td>case_00297</td>\n",
              "      <td>64</td>\n",
              "      <td>23.37</td>\n",
              "      <td>0</td>\n",
              "      <td>1</td>\n",
              "      <td>1</td>\n",
              "      <td>4.2</td>\n",
              "      <td>50.0</td>\n",
              "      <td>0</td>\n",
              "      <td>2</td>\n",
              "      <td>0</td>\n",
              "      <td>0</td>\n",
              "      <td>2</td>\n",
              "    </tr>\n",
              "    <tr>\n",
              "      <th>298</th>\n",
              "      <td>case_00298</td>\n",
              "      <td>40</td>\n",
              "      <td>22.45</td>\n",
              "      <td>0</td>\n",
              "      <td>0</td>\n",
              "      <td>1</td>\n",
              "      <td>5.9</td>\n",
              "      <td>77.0</td>\n",
              "      <td>0</td>\n",
              "      <td>1</td>\n",
              "      <td>0</td>\n",
              "      <td>1</td>\n",
              "      <td>3</td>\n",
              "    </tr>\n",
              "    <tr>\n",
              "      <th>299</th>\n",
              "      <td>case_00299</td>\n",
              "      <td>71</td>\n",
              "      <td>25.92</td>\n",
              "      <td>1</td>\n",
              "      <td>1</td>\n",
              "      <td>1</td>\n",
              "      <td>1.5</td>\n",
              "      <td>45.0</td>\n",
              "      <td>0</td>\n",
              "      <td>1</td>\n",
              "      <td>0</td>\n",
              "      <td>0</td>\n",
              "      <td>1</td>\n",
              "    </tr>\n",
              "  </tbody>\n",
              "</table>\n",
              "<p>300 rows × 13 columns</p>\n",
              "</div>\n",
              "      <button class=\"colab-df-convert\" onclick=\"convertToInteractive('df-052fb29d-9ad0-45d0-9a1c-accdba2a36ed')\"\n",
              "              title=\"Convert this dataframe to an interactive table.\"\n",
              "              style=\"display:none;\">\n",
              "        \n",
              "  <svg xmlns=\"http://www.w3.org/2000/svg\" height=\"24px\"viewBox=\"0 0 24 24\"\n",
              "       width=\"24px\">\n",
              "    <path d=\"M0 0h24v24H0V0z\" fill=\"none\"/>\n",
              "    <path d=\"M18.56 5.44l.94 2.06.94-2.06 2.06-.94-2.06-.94-.94-2.06-.94 2.06-2.06.94zm-11 1L8.5 8.5l.94-2.06 2.06-.94-2.06-.94L8.5 2.5l-.94 2.06-2.06.94zm10 10l.94 2.06.94-2.06 2.06-.94-2.06-.94-.94-2.06-.94 2.06-2.06.94z\"/><path d=\"M17.41 7.96l-1.37-1.37c-.4-.4-.92-.59-1.43-.59-.52 0-1.04.2-1.43.59L10.3 9.45l-7.72 7.72c-.78.78-.78 2.05 0 2.83L4 21.41c.39.39.9.59 1.41.59.51 0 1.02-.2 1.41-.59l7.78-7.78 2.81-2.81c.8-.78.8-2.07 0-2.86zM5.41 20L4 18.59l7.72-7.72 1.47 1.35L5.41 20z\"/>\n",
              "  </svg>\n",
              "      </button>\n",
              "      \n",
              "  <style>\n",
              "    .colab-df-container {\n",
              "      display:flex;\n",
              "      flex-wrap:wrap;\n",
              "      gap: 12px;\n",
              "    }\n",
              "\n",
              "    .colab-df-convert {\n",
              "      background-color: #E8F0FE;\n",
              "      border: none;\n",
              "      border-radius: 50%;\n",
              "      cursor: pointer;\n",
              "      display: none;\n",
              "      fill: #1967D2;\n",
              "      height: 32px;\n",
              "      padding: 0 0 0 0;\n",
              "      width: 32px;\n",
              "    }\n",
              "\n",
              "    .colab-df-convert:hover {\n",
              "      background-color: #E2EBFA;\n",
              "      box-shadow: 0px 1px 2px rgba(60, 64, 67, 0.3), 0px 1px 3px 1px rgba(60, 64, 67, 0.15);\n",
              "      fill: #174EA6;\n",
              "    }\n",
              "\n",
              "    [theme=dark] .colab-df-convert {\n",
              "      background-color: #3B4455;\n",
              "      fill: #D2E3FC;\n",
              "    }\n",
              "\n",
              "    [theme=dark] .colab-df-convert:hover {\n",
              "      background-color: #434B5C;\n",
              "      box-shadow: 0px 1px 3px 1px rgba(0, 0, 0, 0.15);\n",
              "      filter: drop-shadow(0px 1px 2px rgba(0, 0, 0, 0.3));\n",
              "      fill: #FFFFFF;\n",
              "    }\n",
              "  </style>\n",
              "\n",
              "      <script>\n",
              "        const buttonEl =\n",
              "          document.querySelector('#df-052fb29d-9ad0-45d0-9a1c-accdba2a36ed button.colab-df-convert');\n",
              "        buttonEl.style.display =\n",
              "          google.colab.kernel.accessAllowed ? 'block' : 'none';\n",
              "\n",
              "        async function convertToInteractive(key) {\n",
              "          const element = document.querySelector('#df-052fb29d-9ad0-45d0-9a1c-accdba2a36ed');\n",
              "          const dataTable =\n",
              "            await google.colab.kernel.invokeFunction('convertToInteractive',\n",
              "                                                     [key], {});\n",
              "          if (!dataTable) return;\n",
              "\n",
              "          const docLinkHtml = 'Like what you see? Visit the ' +\n",
              "            '<a target=\"_blank\" href=https://colab.research.google.com/notebooks/data_table.ipynb>data table notebook</a>'\n",
              "            + ' to learn more about interactive tables.';\n",
              "          element.innerHTML = '';\n",
              "          dataTable['output_type'] = 'display_data';\n",
              "          await google.colab.output.renderOutput(dataTable, element);\n",
              "          const docLink = document.createElement('div');\n",
              "          docLink.innerHTML = docLinkHtml;\n",
              "          element.appendChild(docLink);\n",
              "        }\n",
              "      </script>\n",
              "    </div>\n",
              "  </div>\n",
              "  "
            ],
            "text/plain": [
              "      SubjectId age    bmi  ... pack_years task_1_label task_2_label\n",
              "0    case_00000  49  29.47  ...          0            0            2\n",
              "1    case_00001  50  33.71  ...          7            0            1\n",
              "2    case_00002  74  28.13  ...         50            1            3\n",
              "3    case_00003  44  38.69  ...          0            0            1\n",
              "4    case_00004  73  28.59  ...          0            0            1\n",
              "..          ...  ..    ...  ...        ...          ...          ...\n",
              "295  case_00295  48   43.9  ...          0            0            1\n",
              "296  case_00296  51   17.8  ...          0            0            1\n",
              "297  case_00297  64  23.37  ...          0            0            2\n",
              "298  case_00298  40  22.45  ...          0            1            3\n",
              "299  case_00299  71  25.92  ...          0            0            1\n",
              "\n",
              "[300 rows x 13 columns]"
            ]
          },
          "metadata": {},
          "execution_count": 23
        }
      ]
    },
    {
      "cell_type": "code",
      "source": [
        "import pandas as pd\n",
        "#path='C:\\\\Users\\\\Administrateur\\\\Desktop\\\\testfused_model\\\\fuse-med-ml-master\\\\fuse-med-ml-master\\\\baseline'\n",
        "splits=pd.read_pickle('/content/drive/MyDrive/knight_challenegs2022/splits_final.pkl')\n",
        "# For this example, we use split 0 out of the 5 available cross validation splits\n",
        "split = splits[4]\n",
        "train=split['train']\n",
        "pdftrain=pd.DataFrame(train).rename(columns={0:'SubjectId'})\n",
        "\n",
        "\n",
        "val=split['val']\n",
        "pdfval=pd.DataFrame(val).rename(columns={0:'SubjectId'})\n",
        "\n",
        "\n",
        "#data_dir='C:\\\\Users\\\\Administrateur\\\\Desktop\\\\testfused_model'\n",
        "#train_data_source = FuseDataSourceDefault(list(split['train']))\n",
        "# name=pdftrain['SubjectId']\n",
        "# imageurlc1=pathfile.loc[pathfile['SubjectId']==name]\n",
        "# data1=[]\n",
        "# for i in name:\n",
        "#     print(i)\n",
        "#     data=pathfile.loc[pathfile['SubjectId']==i]\n",
        "#     print(data)\n",
        "#     data1.append(data)\n",
        "# import numpy as np\n",
        "# data2=np.array(data1)\n",
        "# data3=np.squeeze(data2,axis=1)\n",
        "# traindata=pd.DataFrame(data3)\n",
        "pathfile=df\n",
        "traindatapd = pd.merge(pathfile, pdftrain, on=['SubjectId'], how='inner')\n",
        "traindatapd .head()\n",
        "\n",
        "valdatapd = pd.merge(pathfile, pdfval, on=['SubjectId'], how='inner')\n",
        "valdatapd.head()\n",
        "\n",
        "#valdatapd.to_csv('validfold0_unnormalized.csv',index=False)\n",
        "#traindatapd.to_csv('trainfold0_unnormalized.csv',index=False)"
      ],
      "metadata": {
        "colab": {
          "base_uri": "https://localhost:8080/",
          "height": 270
        },
        "id": "tlUCUKrF5Vt-",
        "outputId": "98310afe-7f3e-4869-9dae-eabeb9c1d623"
      },
      "execution_count": null,
      "outputs": [
        {
          "output_type": "execute_result",
          "data": {
            "text/html": [
              "\n",
              "  <div id=\"df-7efdebca-1092-4f34-a503-66c47c2bae4e\">\n",
              "    <div class=\"colab-df-container\">\n",
              "      <div>\n",
              "<style scoped>\n",
              "    .dataframe tbody tr th:only-of-type {\n",
              "        vertical-align: middle;\n",
              "    }\n",
              "\n",
              "    .dataframe tbody tr th {\n",
              "        vertical-align: top;\n",
              "    }\n",
              "\n",
              "    .dataframe thead th {\n",
              "        text-align: right;\n",
              "    }\n",
              "</style>\n",
              "<table border=\"1\" class=\"dataframe\">\n",
              "  <thead>\n",
              "    <tr style=\"text-align: right;\">\n",
              "      <th></th>\n",
              "      <th>SubjectId</th>\n",
              "      <th>age</th>\n",
              "      <th>bmi</th>\n",
              "      <th>gender_num</th>\n",
              "      <th>comorbidities</th>\n",
              "      <th>smoking_history</th>\n",
              "      <th>radiographic_size</th>\n",
              "      <th>preop_egfr</th>\n",
              "      <th>age_when_quit_smoking</th>\n",
              "      <th>alcohol_use</th>\n",
              "      <th>pack_years</th>\n",
              "      <th>task_1_label</th>\n",
              "      <th>task_2_label</th>\n",
              "    </tr>\n",
              "  </thead>\n",
              "  <tbody>\n",
              "    <tr>\n",
              "      <th>0</th>\n",
              "      <td>case_00005</td>\n",
              "      <td>35</td>\n",
              "      <td>35.96</td>\n",
              "      <td>0</td>\n",
              "      <td>1</td>\n",
              "      <td>2</td>\n",
              "      <td>4.9</td>\n",
              "      <td>90.0</td>\n",
              "      <td>1</td>\n",
              "      <td>2</td>\n",
              "      <td>0</td>\n",
              "      <td>1</td>\n",
              "      <td>3</td>\n",
              "    </tr>\n",
              "    <tr>\n",
              "      <th>1</th>\n",
              "      <td>case_00012</td>\n",
              "      <td>62</td>\n",
              "      <td>30.92</td>\n",
              "      <td>1</td>\n",
              "      <td>1</td>\n",
              "      <td>0</td>\n",
              "      <td>9.59</td>\n",
              "      <td>42.0</td>\n",
              "      <td>1</td>\n",
              "      <td>1</td>\n",
              "      <td>0</td>\n",
              "      <td>1</td>\n",
              "      <td>4</td>\n",
              "    </tr>\n",
              "    <tr>\n",
              "      <th>2</th>\n",
              "      <td>case_00022</td>\n",
              "      <td>66</td>\n",
              "      <td>30.69</td>\n",
              "      <td>1</td>\n",
              "      <td>0</td>\n",
              "      <td>0</td>\n",
              "      <td>2.3</td>\n",
              "      <td>80.0</td>\n",
              "      <td>1</td>\n",
              "      <td>3</td>\n",
              "      <td>0</td>\n",
              "      <td>0</td>\n",
              "      <td>1</td>\n",
              "    </tr>\n",
              "    <tr>\n",
              "      <th>3</th>\n",
              "      <td>case_00023</td>\n",
              "      <td>49</td>\n",
              "      <td>34.53</td>\n",
              "      <td>0</td>\n",
              "      <td>0</td>\n",
              "      <td>0</td>\n",
              "      <td>2.3</td>\n",
              "      <td>90.0</td>\n",
              "      <td>1</td>\n",
              "      <td>2</td>\n",
              "      <td>0</td>\n",
              "      <td>0</td>\n",
              "      <td>1</td>\n",
              "    </tr>\n",
              "    <tr>\n",
              "      <th>4</th>\n",
              "      <td>case_00029</td>\n",
              "      <td>68</td>\n",
              "      <td>23.4</td>\n",
              "      <td>1</td>\n",
              "      <td>1</td>\n",
              "      <td>2</td>\n",
              "      <td>5.4</td>\n",
              "      <td>82.0</td>\n",
              "      <td>1</td>\n",
              "      <td>1</td>\n",
              "      <td>0</td>\n",
              "      <td>0</td>\n",
              "      <td>2</td>\n",
              "    </tr>\n",
              "  </tbody>\n",
              "</table>\n",
              "</div>\n",
              "      <button class=\"colab-df-convert\" onclick=\"convertToInteractive('df-7efdebca-1092-4f34-a503-66c47c2bae4e')\"\n",
              "              title=\"Convert this dataframe to an interactive table.\"\n",
              "              style=\"display:none;\">\n",
              "        \n",
              "  <svg xmlns=\"http://www.w3.org/2000/svg\" height=\"24px\"viewBox=\"0 0 24 24\"\n",
              "       width=\"24px\">\n",
              "    <path d=\"M0 0h24v24H0V0z\" fill=\"none\"/>\n",
              "    <path d=\"M18.56 5.44l.94 2.06.94-2.06 2.06-.94-2.06-.94-.94-2.06-.94 2.06-2.06.94zm-11 1L8.5 8.5l.94-2.06 2.06-.94-2.06-.94L8.5 2.5l-.94 2.06-2.06.94zm10 10l.94 2.06.94-2.06 2.06-.94-2.06-.94-.94-2.06-.94 2.06-2.06.94z\"/><path d=\"M17.41 7.96l-1.37-1.37c-.4-.4-.92-.59-1.43-.59-.52 0-1.04.2-1.43.59L10.3 9.45l-7.72 7.72c-.78.78-.78 2.05 0 2.83L4 21.41c.39.39.9.59 1.41.59.51 0 1.02-.2 1.41-.59l7.78-7.78 2.81-2.81c.8-.78.8-2.07 0-2.86zM5.41 20L4 18.59l7.72-7.72 1.47 1.35L5.41 20z\"/>\n",
              "  </svg>\n",
              "      </button>\n",
              "      \n",
              "  <style>\n",
              "    .colab-df-container {\n",
              "      display:flex;\n",
              "      flex-wrap:wrap;\n",
              "      gap: 12px;\n",
              "    }\n",
              "\n",
              "    .colab-df-convert {\n",
              "      background-color: #E8F0FE;\n",
              "      border: none;\n",
              "      border-radius: 50%;\n",
              "      cursor: pointer;\n",
              "      display: none;\n",
              "      fill: #1967D2;\n",
              "      height: 32px;\n",
              "      padding: 0 0 0 0;\n",
              "      width: 32px;\n",
              "    }\n",
              "\n",
              "    .colab-df-convert:hover {\n",
              "      background-color: #E2EBFA;\n",
              "      box-shadow: 0px 1px 2px rgba(60, 64, 67, 0.3), 0px 1px 3px 1px rgba(60, 64, 67, 0.15);\n",
              "      fill: #174EA6;\n",
              "    }\n",
              "\n",
              "    [theme=dark] .colab-df-convert {\n",
              "      background-color: #3B4455;\n",
              "      fill: #D2E3FC;\n",
              "    }\n",
              "\n",
              "    [theme=dark] .colab-df-convert:hover {\n",
              "      background-color: #434B5C;\n",
              "      box-shadow: 0px 1px 3px 1px rgba(0, 0, 0, 0.15);\n",
              "      filter: drop-shadow(0px 1px 2px rgba(0, 0, 0, 0.3));\n",
              "      fill: #FFFFFF;\n",
              "    }\n",
              "  </style>\n",
              "\n",
              "      <script>\n",
              "        const buttonEl =\n",
              "          document.querySelector('#df-7efdebca-1092-4f34-a503-66c47c2bae4e button.colab-df-convert');\n",
              "        buttonEl.style.display =\n",
              "          google.colab.kernel.accessAllowed ? 'block' : 'none';\n",
              "\n",
              "        async function convertToInteractive(key) {\n",
              "          const element = document.querySelector('#df-7efdebca-1092-4f34-a503-66c47c2bae4e');\n",
              "          const dataTable =\n",
              "            await google.colab.kernel.invokeFunction('convertToInteractive',\n",
              "                                                     [key], {});\n",
              "          if (!dataTable) return;\n",
              "\n",
              "          const docLinkHtml = 'Like what you see? Visit the ' +\n",
              "            '<a target=\"_blank\" href=https://colab.research.google.com/notebooks/data_table.ipynb>data table notebook</a>'\n",
              "            + ' to learn more about interactive tables.';\n",
              "          element.innerHTML = '';\n",
              "          dataTable['output_type'] = 'display_data';\n",
              "          await google.colab.output.renderOutput(dataTable, element);\n",
              "          const docLink = document.createElement('div');\n",
              "          docLink.innerHTML = docLinkHtml;\n",
              "          element.appendChild(docLink);\n",
              "        }\n",
              "      </script>\n",
              "    </div>\n",
              "  </div>\n",
              "  "
            ],
            "text/plain": [
              "    SubjectId age    bmi  ... pack_years task_1_label task_2_label\n",
              "0  case_00005  35  35.96  ...          0            1            3\n",
              "1  case_00012  62  30.92  ...          0            1            4\n",
              "2  case_00022  66  30.69  ...          0            0            1\n",
              "3  case_00023  49  34.53  ...          0            0            1\n",
              "4  case_00029  68   23.4  ...          0            0            2\n",
              "\n",
              "[5 rows x 13 columns]"
            ]
          },
          "metadata": {},
          "execution_count": 34
        }
      ]
    },
    {
      "cell_type": "code",
      "source": [
        "valdatapd.to_csv('validfold4_unnormalized.csv',index=False)\n",
        "traindatapd.to_csv('trainfold4_unnormalized.csv',index=False)"
      ],
      "metadata": {
        "id": "etM5gyqv9Qsj"
      },
      "execution_count": null,
      "outputs": []
    },
    {
      "cell_type": "code",
      "source": [
        "ls"
      ],
      "metadata": {
        "colab": {
          "base_uri": "https://localhost:8080/"
        },
        "id": "E7svwcCs6x20",
        "outputId": "a8690218-8f38-4cb7-87b5-7fe25ebd0d1e"
      },
      "execution_count": null,
      "outputs": [
        {
          "output_type": "stream",
          "name": "stdout",
          "text": [
            "clinical_dataknight.csv  \u001b[0m\u001b[01;34mmodels\u001b[0m/           trainfold0.csv\n",
            "knight.json              splits_final.pkl  validfold0.csv\n"
          ]
        }
      ]
    },
    {
      "cell_type": "code",
      "source": [
        "valdatapd.to_csv('validfold0_unnormalized.csv',index=False)\n",
        "traindatapd.to_csv('trainfold0_unnormalized.csv',index=False)"
      ],
      "metadata": {
        "id": "_nDH-ON260LV"
      },
      "execution_count": null,
      "outputs": []
    },
    {
      "cell_type": "code",
      "source": [
        "cd /content/drive/MyDrive/knight_challenegs2022"
      ],
      "metadata": {
        "colab": {
          "base_uri": "https://localhost:8080/"
        },
        "id": "vW9woIyU2sig",
        "outputId": "fcb574d0-a687-4e45-b6f5-c90fc8585e0d"
      },
      "execution_count": null,
      "outputs": [
        {
          "output_type": "stream",
          "name": "stdout",
          "text": [
            "/content/drive/MyDrive/knight_challenegs2022\n"
          ]
        }
      ]
    },
    {
      "cell_type": "code",
      "source": [
        "!mkdir models"
      ],
      "metadata": {
        "id": "atj8xRxT2vZA"
      },
      "execution_count": null,
      "outputs": []
    },
    {
      "cell_type": "code",
      "source": [
        "cd /content/drive/MyDrive/knight_challenegs2022/models"
      ],
      "metadata": {
        "colab": {
          "base_uri": "https://localhost:8080/"
        },
        "id": "VXFmaxqe2z3P",
        "outputId": "2d17a017-4777-4d25-dcee-b8bbf58bcd10"
      },
      "execution_count": null,
      "outputs": [
        {
          "output_type": "stream",
          "name": "stdout",
          "text": [
            "/content/drive/MyDrive/knight_challenegs2022/models\n"
          ]
        }
      ]
    },
    {
      "cell_type": "code",
      "source": [
        "cd /content/drive/MyDrive/knight_challenegs2022/models"
      ],
      "metadata": {
        "colab": {
          "base_uri": "https://localhost:8080/"
        },
        "id": "ObtWvdOZ23Kx",
        "outputId": "232fb37d-8d1a-468f-bd19-eaf3133701d6"
      },
      "execution_count": null,
      "outputs": [
        {
          "output_type": "stream",
          "name": "stdout",
          "text": [
            "/content/drive/MyDrive/knight_challenegs2022/models\n"
          ]
        }
      ]
    },
    {
      "cell_type": "code",
      "source": [
        "!mkdir mlpmodel"
      ],
      "metadata": {
        "id": "r-i_c6FD2_B2"
      },
      "execution_count": null,
      "outputs": []
    },
    {
      "cell_type": "code",
      "source": [
        "cd /content/drive/MyDrive/knight_challenegs2022"
      ],
      "metadata": {
        "colab": {
          "base_uri": "https://localhost:8080/"
        },
        "id": "ju_TM79t3cZI",
        "outputId": "46eb59a0-405d-4660-d2f6-122ade246202"
      },
      "execution_count": null,
      "outputs": [
        {
          "output_type": "stream",
          "name": "stdout",
          "text": [
            "/content/drive/MyDrive/knight_challenegs2022\n"
          ]
        }
      ]
    },
    {
      "cell_type": "code",
      "source": [
        "import torch\n",
        "import pandas as pd\n",
        "from torch.utils.data import Dataset\n",
        "from torch.utils.data import DataLoader\n",
        "import os\n",
        "import SimpleITK as sitk\n",
        "import numpy as np\n",
        "import os\n",
        "import numpy as np\n",
        "import skimage\n",
        "#import skimage.io as io\n",
        "import skimage.transform as transform\n",
        "import torch\n",
        "\n",
        "import numpy as np\n",
        "import pandas as pd\n",
        "import torch\n",
        "import os\n",
        "#os.environ[\"CUDA_VISIBLE_DEVICES\"] = \"0,1\" \n",
        "from torch.utils.data import Dataset\n",
        "from torch.utils.data import DataLoader\n",
        "import os\n",
        "import cv2\n",
        "import matplotlib.pyplot as plt\n",
        "import skimage \n",
        "\n",
        "#import logging\n",
        "#import traceback\n",
        "from typing import Optional, Tuple\n",
        "\n",
        "\n",
        "def kits_normalization(input_image: np.ndarray):\n",
        "    # first, clip to [-62, 310] (corresponds to 0.5 and 99.5 percentile in the foreground regions)\n",
        "    # then, subtract 104.9 and divide by 75.3 (corresponds to mean and std in the foreground regions, respectively)\n",
        "    clip_min = -62\n",
        "    clip_max = 301\n",
        "    mean_val = 104.0\n",
        "    std_val = 75.3\n",
        "    input_image = np.minimum(np.maximum(input_image, clip_min), clip_max)\n",
        "    input_image -= mean_val\n",
        "    input_image /= std_val\n",
        "    return input_image\n",
        "\n",
        "def normalize_to_range(input_image: np.ndarray, range: Tuple = (0.0, 1.0)):\n",
        "    \"\"\"\n",
        "    Scales tensor to range\n",
        "    @param input_image: image of shape (H x W x C)\n",
        "    @param range:       bounds for normalization\n",
        "    @return:            normalized image\n",
        "    \"\"\"\n",
        "    max_val = input_image.max()\n",
        "    min_val = input_image.min()\n",
        "    if min_val == max_val == 0:\n",
        "        return input_image\n",
        "    input_image = input_image - min_val\n",
        "    input_image = input_image / (max_val - min_val)\n",
        "    input_image = input_image * (range[1] - range[0])\n",
        "    input_image = input_image + range[0]\n",
        "    return input_image\n",
        "\n",
        "from typing import Iterable\n",
        "\n",
        "def center_crop(np_image: np.ndarray,\n",
        "                new_shape: Iterable[int],\n",
        "                outside_val: float = 0\n",
        "                ) -> np.ndarray:\n",
        "    output_image = np.full(new_shape, outside_val, np_image.dtype)\n",
        "\n",
        "    slices = tuple()\n",
        "    offsets = tuple()\n",
        "    for it, sh in enumerate(new_shape):\n",
        "        size = sh // 2\n",
        "        if it == 0:\n",
        "            center = np_image.shape[it] - size\n",
        "        else:\n",
        "            center = (np_image.shape[it] // 2)\n",
        "        start = center - size\n",
        "        stop = center + size + (sh % 2)\n",
        "\n",
        "        # computing what area of the original image will be in the cropped output\n",
        "        slce = slice(max(0, start), min(np_image.shape[it], stop))\n",
        "        slices += (slce,)\n",
        "\n",
        "        # computing offset to pad if the crop is partly outside of the scan\n",
        "        offset = slice(-min(0, start), 2 * size - max(0, (start + 2 * size) - np_image.shape[it]))\n",
        "        offsets += (offset,)\n",
        "\n",
        "    output_image[offsets] = np_image[slices]\n",
        "\n",
        "    return output_image\n",
        "\n",
        "\n",
        "def pad_image(image: np.ndarray, outer_height: int, outer_width: int, pad_value: Tuple):\n",
        "    \"\"\"\n",
        "    Pastes input image in the middle of a larger one\n",
        "    @param image:        image of shape (H x W x C)\n",
        "    @param outer_height: final outer height\n",
        "    @param outer_width:  final outer width\n",
        "    @param pad_value:    value for padding around inner image\n",
        "    @return:             padded image\n",
        "    \"\"\"\n",
        "    inner_height, inner_width = image.shape[0], image.shape[1]\n",
        "    h_offset = int((outer_height - inner_height) / 2.0)\n",
        "    w_offset = int((outer_width - inner_width) / 2.0)\n",
        "    outer_image = np.ones((outer_height, outer_width, 3), dtype=image.dtype) * pad_value\n",
        "    outer_image[h_offset:h_offset + inner_height, w_offset:w_offset + inner_width, :] = image\n",
        "\n",
        "    return outer_image\n",
        "\n",
        "\n",
        "class deeeeset(Dataset):\n",
        "    def __init__(self,in_out):\n",
        "        self.in_out=in_out\n",
        "        \n",
        "        #self.new_shape=new_shape\n",
        "        #self.input_data = input_data\n",
        "        self.ids=self.in_out['SubjectId']\n",
        "        self.label=self.in_out['task_1_label']\n",
        "        \n",
        "        self.feature=self.in_out.drop(['SubjectId','task_1_label','task_2_label'],axis=1, inplace=True)\n",
        "\n",
        "    \n",
        "            \n",
        "        \n",
        "    def __getitem__(self,idx):\n",
        "        \n",
        "        feat=self.in_out.iloc[idx]\n",
        "        x_feature=pd.DataFrame(feat).T\n",
        "        \n",
        "        # norm_img=get_array_img\n",
        "        \n",
        "        y_output=self.label[idx]\n",
        "        x_f_array=np.array(x_feature)\n",
        "        x_f_array_t=torch.from_numpy(x_f_array).float()\n",
        "        x_f_array_t=torch.squeeze(x_f_array_t,axis=0)\n",
        "        return (x_f_array_t,y_output)\n",
        "    \n",
        "    def __len__(self):\n",
        "        return(len(self.label))\n",
        "    \n",
        "\n",
        "\n",
        "#input_image = center_crop(input_image, new_shape=new_shape) \n",
        "    \n",
        "    \n",
        "filet=pd.read_csv('/content/drive/MyDrive/knight_challenegs2022/trainfold0_unnormalized.csv')\n",
        "#data='/home/imranr/knights/data'\n",
        "\n",
        "filev=pd.read_csv('/content/drive/MyDrive/knight_challenegs2022/validfold0_unnormalized.csv')\n",
        "\n",
        "len(filev['task_1_label']==0)\n",
        "len(filev['task_1_label']==1)\n",
        "\n",
        "#classes=['NoAT','CanAT']\n",
        "c1=filet['task_1_label'].value_counts()[0]\n",
        "#175\n",
        "\n",
        "#c2=filet['task_1_label'].value_counts()[1]\n",
        "#65\n",
        "\n",
        "train_dataset=deeeeset(filet)\n",
        "valid_dataset=deeeeset(filev)\n",
        "\n",
        "print(len(train_dataset))\n",
        "print(len(valid_dataset))\n",
        "\n",
        "f,o=valid_dataset[2]\n",
        "\n",
        "#print(i.shape)\n",
        "#print(i.min())\n",
        "#print(i.max())\n",
        "print(o)\n",
        "print(f)\n",
        "\n",
        "# i,f, o=train_dataset[2]\n",
        "\n",
        "# print(i.shape)\n",
        "# print(i.min())\n",
        "# print(i.max())\n",
        "# print(o)\n",
        "# print(f)\n",
        "\n",
        "#%\n",
        "from torch.utils.data import DataLoader\n",
        "\n",
        "# train_dataloader = DataLoader(ob_d, batch_size=4, shuffle=True)\n",
        "# #test_dataloader = DataLoader(test_data, batch_size=64, shuffle=True)\n",
        "# for i, data in enumerate(train_dataloader):\n",
        "#     img,f,l=data\n",
        "#     print(img.shape)\n",
        "#     print(f.shape)\n",
        "#     print(l)\n",
        "#     break\n",
        "    \n",
        "\n",
        "batch=4\n",
        "\n",
        "train_dataloader = DataLoader(train_dataset, batch_size= batch,pin_memory=True,num_workers=6, shuffle=True)\n",
        "\n",
        "valid_dataloader = DataLoader(valid_dataset, batch_size= batch,pin_memory=True,num_workers=6, shuffle=False)\n",
        "\n",
        "\n",
        "import sys \n",
        "import os\n",
        "import glob\n",
        "import time\n",
        "import random\n",
        "import os\n",
        "import glob\n",
        "import time\n",
        "import random\n",
        "import torch\n",
        "import numpy as np\n",
        "import pandas as pd\n",
        "import torch.nn as nn\n",
        "\n",
        "device = torch.device(\"cuda\" if torch.cuda.is_available() else \"cpu\")\n",
        "\n",
        "\n",
        "# Copyright (c) MONAI Consortium\n",
        "# Licensed under the Apache License, Version 2.0 (the \"License\");\n",
        "# you may not use this file except in compliance with the License.\n",
        "# You may obtain a copy of the License at\n",
        "#     http://www.apache.org/licenses/LICENSE-2.0\n",
        "# Unless required by applicable law or agreed to in writing, software\n",
        "# distributed under the License is distributed on an \"AS IS\" BASIS,\n",
        "# WITHOUT WARRANTIES OR CONDITIONS OF ANY KIND, either express or implied.\n",
        "# See the License for the specific language governing permissions and\n",
        "# limitations under the License.\n",
        "\n",
        "\"\"\"\n",
        "(C) Copyright 2021 IBM Corp.\n",
        "Licensed under the Apache License, Version 2.0 (the \"License\");\n",
        "you may not use this file except in compliance with the License.\n",
        "You may obtain a copy of the License at\n",
        "   http://www.apache.org/licenses/LICENSE-2.0\n",
        "Unless required by applicable law or agreed to in writing, software\n",
        "distributed under the License is distributed on an \"AS IS\" BASIS,\n",
        "WITHOUT WARRANTIES OR CONDITIONS OF ANY KIND, either express or implied.\n",
        "See the License for the specific language governing permissions and\n",
        "limitations under the License.\n",
        "Created on June 30, 2021\n",
        "\"\"\"\n",
        "\n",
        "from typing import Tuple, Any\n",
        "\n",
        "import torch.nn as nn\n",
        "from torch import Tensor\n",
        "from torch.hub import load_state_dict_from_url\n",
        "from torchvision.models.video.resnet import VideoResNet, BasicBlock, Conv3DSimple, BasicStem, model_urls\n",
        "\n",
        "\n",
        "class FuseBackboneResnet3D(VideoResNet):\n",
        "    \"\"\"\n",
        "    3D model classifier (ResNet architecture\"\n",
        "    \"\"\"\n",
        "\n",
        "    def __init__(self, pretrained: bool = False, in_channels: int = 1, name: str = \"r3d_18\") -> None:\n",
        "        \"\"\"\n",
        "        Create 3D ResNet model\n",
        "        :param pretrained: Use pretrained weights\n",
        "        :param in_channels: number of input channels\n",
        "        :param name: model name. currently only 'r3d_18' is supported\n",
        "        \"\"\"\n",
        "        # init parameters per required backbone\n",
        "        init_parameters = {\n",
        "            'r3d_18': {'block': BasicBlock,\n",
        "                       'conv_makers': [Conv3DSimple] * 4,\n",
        "                       'layers': [2, 2, 2, 2],\n",
        "                       'stem': BasicStem},\n",
        "        }[name]\n",
        "        # init original model\n",
        "        super().__init__(**init_parameters)\n",
        "\n",
        "        # load pretrained parameters if required\n",
        "        if pretrained:\n",
        "            state_dict = load_state_dict_from_url(model_urls[name])\n",
        "            self.load_state_dict(state_dict)\n",
        "\n",
        "        # save input parameters\n",
        "        self.pretrained = pretrained\n",
        "        self.in_channels = in_channels\n",
        "        # override the first convolution layer to support any number of input channels\n",
        "        self.stem = nn.Sequential(\n",
        "            nn.Conv3d(self.in_channels, 64, kernel_size=(3, 7, 7), stride=(1, 2, 2),\n",
        "                      padding=(1, 3, 3), bias=False),\n",
        "            nn.BatchNorm3d(64),\n",
        "            nn.ReLU(inplace=True)\n",
        "        )\n",
        "\n",
        "    def features(self, x: Tensor) -> Any:\n",
        "        \"\"\"\n",
        "        Extract spatial features - given a 3D tensor\n",
        "        :param x: Input tensor - shape: [batch_size, channels, z, y, x]\n",
        "        :return: spatial features - shape [batch_size, n_features, z', y', x']\n",
        "        \"\"\"\n",
        "        x = self.stem(x)\n",
        "\n",
        "        x = self.layer1(x)\n",
        "        x = self.layer2(x)\n",
        "        x = self.layer3(x)\n",
        "        x = self.layer4(x)\n",
        "        return x\n",
        "\n",
        "    def forward(self, x: Tensor) -> Tuple[Tensor, None, None, None]:  # type: ignore\n",
        "        \"\"\"\n",
        "        Forward pass. 3D global classification given a volume\n",
        "        :param x: Input volume. shape: [batch_size, channels, z, y, x]\n",
        "        :return: logits for global classification. shape: [batch_size, n_classes].\n",
        "        \"\"\"\n",
        "        x = self.features(x)\n",
        "        return x\n",
        "    \n",
        "backbone=FuseBackboneResnet3D(pretrained=True)   \n",
        "from typing import Optional, Sequence\n",
        "import torch.nn as nn\n",
        "\n",
        "class ClassifierMLP(nn.Module):\n",
        "    def __init__(self, in_ch: int, num_classes: Optional[int], layers_description: Sequence[int]=(256,128), dropout_rate: float = 0.1):\n",
        "        super().__init__()\n",
        "        layer_list = []\n",
        "        layer_list.append(nn.Linear(in_ch, layers_description[0]))\n",
        "        layer_list.append(nn.ReLU())\n",
        "        if dropout_rate is not None and dropout_rate > 0:\n",
        "            layer_list.append(nn.Dropout(p=dropout_rate))\n",
        "        last_layer_size = layers_description[0]\n",
        "        for curr_layer_size in layers_description[1:]:\n",
        "            layer_list.append(nn.Linear(last_layer_size, curr_layer_size))\n",
        "            layer_list.append(nn.ReLU())\n",
        "            if dropout_rate is not None and dropout_rate > 0:\n",
        "                layer_list.append(nn.Dropout(p=dropout_rate))\n",
        "            last_layer_size = curr_layer_size\n",
        "        \n",
        "        if num_classes is not None:\n",
        "            layer_list.append(nn.Linear(last_layer_size, num_classes))\n",
        "        \n",
        "        self.classifier = nn.Sequential(*layer_list)\n",
        "\n",
        "    def forward(self, x):\n",
        "        x = self.classifier(x)\n",
        "        return x\n",
        "  \n",
        "model=ClassifierMLP(10,2)  \n",
        "import torch    \n",
        "\n",
        "inp=torch.rand(1,10)\n",
        "out=model(inp)\n",
        "print(out.shape)\n",
        "\n",
        "\n",
        "model=nn.DataParallel(model)\n",
        "model=model.to(device)\n",
        "#loss_func=nn.BCEWithLogitsLoss()\n",
        "from tqdm import tqdm\n",
        "import torch.optim as optim\n",
        "optimizer=optim.Adam(model.parameters(),lr=0.00001)\n",
        "\n",
        "#classes=['NRG','RG']\n",
        "classes=['NoAT','CanAT']\n",
        "#c1=data['label'].value_counts()[0]\n",
        "#c2=data['label'].value_counts()[1]\n",
        "my_distribution=np.array([175,65])\n",
        "class_weights = torch.from_numpy(np.divide(1, my_distribution)).float().to(device)\n",
        "class_weights = class_weights / class_weights.sum()\n",
        "for i, c in enumerate(classes):\n",
        "  print('Weight for class %s: %f' % (c, class_weights.cpu().numpy()[i]))\n",
        "loss_func = nn.CrossEntropyLoss(weight=class_weights)\n",
        "#label=label.to(torch.int64)\n",
        "################################ training functions ###################\n",
        "def train_fn(model,train_loader):\n",
        "    model.train()\n",
        "    counter=0\n",
        "    training_run_loss=0.0\n",
        "    train_running_correct=0.0\n",
        "    for i, data in tqdm(enumerate(train_loader),total=int(len(train_dataset)/train_loader.batch_size)):\n",
        "        counter+=1\n",
        "        # extract dataset\n",
        "        feature,label=data\n",
        "        #imge=imge.float()\n",
        "        #label=label.float()\n",
        "        label.to(torch.int64)\n",
        "        feature=feature.float()\n",
        "        feature=feature.to(device)\n",
        "        #imge=imge.to(device)\n",
        "        label=label.to(device)\n",
        "        #imge=imge.cuda()\n",
        "        #label=label.cuda()\n",
        "        # zero_out the gradient\n",
        "        optimizer.zero_grad()\n",
        "        output=model(feature)\n",
        "        loss=loss_func(output,label)\n",
        "        training_run_loss+=loss.item()\n",
        "        _,preds=torch.max(output.data,1)\n",
        "        train_running_correct+=(preds==label).sum().item()\n",
        "        loss.backward()\n",
        "        optimizer.step()\n",
        "    ###################### state computation ###################\n",
        "    train_loss=training_run_loss/len(train_loader.dataset)\n",
        "    train_loss_ep.append(train_loss)\n",
        "    train_accuracy=100.* train_running_correct/len(train_loader.dataset)\n",
        "    train_accuracy_ep.append(train_accuracy)\n",
        "    print(f\"Train Loss:{train_loss:.4f}, Train Acc:{train_accuracy:0.2f}\")\n",
        "    return train_loss_ep,train_accuracy_ep\n",
        "\n",
        "########################## validation function ##################\n",
        "def validation_fn(model,valid_loader):\n",
        "  # evluation start\n",
        "    print(\"validation start\")\n",
        "    \n",
        "    model.eval()\n",
        "    val_running_loss = 0.0\n",
        "    val_running_correct = 0\n",
        "    with torch.no_grad():\n",
        "        for i,data in tqdm(enumerate(valid_loader),total=int(len(valid_loader)/valid_loader.batch_size)):\n",
        "            feature,label=data\n",
        "            #imge=imge.float()\n",
        "            #label=label.float()\n",
        "            label.to(torch.int64)\n",
        "            feature=feature.float()\n",
        "            feature=feature.to(device)\n",
        "            #imge=imge.to(device)\n",
        "            label=label.to(device)\n",
        "            #imge=imge.cuda()\n",
        "            #label=label.cuda()\n",
        "            output=model(feature)\n",
        "            loss=loss_func(output,label)\n",
        "            val_running_loss+=loss.item()\n",
        "            _,pred=torch.max(output.data,1)\n",
        "            val_running_correct+=(pred==label).sum().item()\n",
        "        val_loss=val_running_loss/len(valid_loader.dataset)\n",
        "        val_loss_ep.append(val_loss)\n",
        "        val_accuracy=100.* val_running_correct/(len(valid_loader.dataset))\n",
        "        val_accuracy_ep.append(val_accuracy)\n",
        "        print(f\"Val Loss:{val_loss:0.4f}, Val_Acc:{val_accuracy:0.2f}\")\n",
        "        return val_loss_ep,val_accuracy_ep\n",
        "\n",
        "import torch.optim as optim\n",
        "optimizer=optim.Adam(model.parameters(),lr=0.0001)\n",
        "train_loss_ep=[]\n",
        "train_accuracy_ep=[]\n",
        "val_loss_ep=[]\n",
        "val_accuracy_ep=[]\n",
        "lr = 3e-4\n",
        "log = pd.DataFrame(index=[], columns=['epoch', 'lr', 'loss', 'accu', 'val_loss', 'val_accu'])\n",
        "early_stop=20\n",
        "epochs=500\n",
        "best_acc = 0\n",
        "name='mlpmodel'\n",
        "trigger = 0\n",
        "for epoch in range(epochs):\n",
        "    print('Epoch [%d/%d]' %(epoch, epochs))\n",
        "    # train for one epoch\n",
        "    train_loss_ep,train_accuracy_ep=train_fn(model,train_dataloader)\n",
        "    train_loss_ep1=np.mean(train_loss_ep)\n",
        "    train_accuracy_ep1=np.mean(train_accuracy_ep)\n",
        "    #y_pred,labels=Prediciton_fn(model,valid_loader)\n",
        "\n",
        "    val_loss_ep,val_accuracy_ep=validation_fn(model,valid_dataloader)\n",
        "    val_loss_ep1=np.mean(val_loss_ep)\n",
        "    val_accuracy_ep1=np.mean(val_accuracy_ep)\n",
        "    \n",
        "    print('loss %.4f - accu %.4f - val_loss %.4f - val_accu %.4f'%(train_loss_ep1, train_accuracy_ep1, val_loss_ep1, val_accuracy_ep1))\n",
        "\n",
        "    tmp = pd.Series([epoch,lr,train_loss_ep1,train_accuracy_ep1,val_loss_ep1,val_accuracy_ep1], index=['epoch', 'lr', 'loss', 'accu', 'val_loss', 'val_accu'])\n",
        "\n",
        "    log = log.append(tmp, ignore_index=True)\n",
        "    log.to_csv('models/%s/log.csv' %name, index=False)\n",
        "\n",
        "    trigger += 1\n",
        "\n",
        "    if val_accuracy_ep1 > best_acc:\n",
        "        torch.save(model.state_dict(), 'models/%s/3dmodeltask1.pth' %name)\n",
        "        best_acc = val_accuracy_ep1\n",
        "        print(\"=> saved best model\")\n",
        "        trigger = 0\n",
        "\n",
        "    # early stopping\n",
        "    if not early_stop is None:\n",
        "        if trigger >= early_stop:\n",
        "            print(\"=> early stopping\")\n",
        "            break\n",
        "\n",
        "    torch.cuda.empty_cache() "
      ],
      "metadata": {
        "colab": {
          "base_uri": "https://localhost:8080/"
        },
        "id": "AcK4Ov1V1NhX",
        "outputId": "bac5008b-b4fd-4e91-d28c-35ae19091233"
      },
      "execution_count": null,
      "outputs": [
        {
          "output_type": "stream",
          "name": "stdout",
          "text": [
            "240\n",
            "60\n",
            "0\n",
            "tensor([53.0000, 31.6100,  1.0000,  0.0000,  0.0000,  5.0000, 77.0000,  1.0000,\n",
            "         1.0000,  0.0000])\n"
          ]
        },
        {
          "output_type": "stream",
          "name": "stderr",
          "text": [
            "/usr/local/lib/python3.7/dist-packages/torch/utils/data/dataloader.py:481: UserWarning: This DataLoader will create 6 worker processes in total. Our suggested max number of worker in current system is 2, which is smaller than what this DataLoader is going to create. Please be aware that excessive worker creation might get DataLoader running slow or even freeze, lower the worker number to avoid potential slowness/freeze if necessary.\n",
            "  cpuset_checked))\n"
          ]
        },
        {
          "output_type": "stream",
          "name": "stdout",
          "text": [
            "torch.Size([1, 2])\n",
            "Weight for class NoAT: 0.270833\n",
            "Weight for class CanAT: 0.729167\n",
            "Epoch [0/500]\n"
          ]
        },
        {
          "output_type": "stream",
          "name": "stderr",
          "text": [
            "100%|██████████| 60/60 [00:00<00:00, 96.81it/s] "
          ]
        },
        {
          "output_type": "stream",
          "name": "stdout",
          "text": [
            "Train Loss:0.3066, Train Acc:55.83\n",
            "validation start\n"
          ]
        },
        {
          "output_type": "stream",
          "name": "stderr",
          "text": [
            "\n",
            "15it [00:00, 82.03it/s]              \n"
          ]
        },
        {
          "output_type": "stream",
          "name": "stdout",
          "text": [
            "Val Loss:0.2387, Val_Acc:33.33\n",
            "loss 0.3066 - accu 55.8333 - val_loss 0.2387 - val_accu 33.3333\n",
            "=> saved best model\n",
            "Epoch [1/500]\n"
          ]
        },
        {
          "output_type": "stream",
          "name": "stderr",
          "text": [
            "100%|██████████| 60/60 [00:00<00:00, 97.21it/s] "
          ]
        },
        {
          "output_type": "stream",
          "name": "stdout",
          "text": [
            "Train Loss:0.2950, Train Acc:55.00\n",
            "validation start\n"
          ]
        },
        {
          "output_type": "stream",
          "name": "stderr",
          "text": [
            "\n",
            "15it [00:00, 73.00it/s]              "
          ]
        },
        {
          "output_type": "stream",
          "name": "stdout",
          "text": [
            "Val Loss:0.1698, Val_Acc:70.00\n",
            "loss 0.3008 - accu 55.4167 - val_loss 0.2042 - val_accu 51.6667\n",
            "=> saved best model\n",
            "Epoch [2/500]\n"
          ]
        },
        {
          "output_type": "stream",
          "name": "stderr",
          "text": [
            "\n",
            "100%|██████████| 60/60 [00:00<00:00, 99.42it/s] \n"
          ]
        },
        {
          "output_type": "stream",
          "name": "stdout",
          "text": [
            "Train Loss:0.2699, Train Acc:55.42\n",
            "validation start\n"
          ]
        },
        {
          "output_type": "stream",
          "name": "stderr",
          "text": [
            "15it [00:00, 68.53it/s] "
          ]
        },
        {
          "output_type": "stream",
          "name": "stdout",
          "text": [
            "Val Loss:0.1770, Val_Acc:53.33\n",
            "loss 0.2905 - accu 55.4167 - val_loss 0.1951 - val_accu 52.2222\n",
            "=> saved best model\n",
            "Epoch [3/500]\n"
          ]
        },
        {
          "output_type": "stream",
          "name": "stderr",
          "text": [
            "\n",
            "100%|██████████| 60/60 [00:00<00:00, 101.30it/s]"
          ]
        },
        {
          "output_type": "stream",
          "name": "stdout",
          "text": [
            "Train Loss:0.2357, Train Acc:61.67\n",
            "validation start\n"
          ]
        },
        {
          "output_type": "stream",
          "name": "stderr",
          "text": [
            "\n",
            "15it [00:00, 68.26it/s] "
          ]
        },
        {
          "output_type": "stream",
          "name": "stdout",
          "text": [
            "Val Loss:0.1598, Val_Acc:51.67\n",
            "loss 0.2768 - accu 56.9792 - val_loss 0.1863 - val_accu 52.0833\n",
            "Epoch [4/500]\n"
          ]
        },
        {
          "output_type": "stream",
          "name": "stderr",
          "text": [
            "\n",
            "100%|██████████| 60/60 [00:00<00:00, 95.56it/s] "
          ]
        },
        {
          "output_type": "stream",
          "name": "stdout",
          "text": [
            "Train Loss:0.2249, Train Acc:61.67\n",
            "validation start\n"
          ]
        },
        {
          "output_type": "stream",
          "name": "stderr",
          "text": [
            "\n",
            "15it [00:00, 75.16it/s]              "
          ]
        },
        {
          "output_type": "stream",
          "name": "stdout",
          "text": [
            "Val Loss:0.1413, Val_Acc:61.67\n",
            "loss 0.2664 - accu 57.9167 - val_loss 0.1773 - val_accu 54.0000\n",
            "=> saved best model\n",
            "Epoch [5/500]\n"
          ]
        },
        {
          "output_type": "stream",
          "name": "stderr",
          "text": [
            "\n",
            "100%|██████████| 60/60 [00:00<00:00, 98.07it/s] "
          ]
        },
        {
          "output_type": "stream",
          "name": "stdout",
          "text": [
            "Train Loss:0.1887, Train Acc:65.00\n",
            "validation start\n"
          ]
        },
        {
          "output_type": "stream",
          "name": "stderr",
          "text": [
            "\n",
            "15it [00:00, 68.63it/s]              "
          ]
        },
        {
          "output_type": "stream",
          "name": "stdout",
          "text": [
            "Val Loss:0.1334, Val_Acc:78.33\n",
            "loss 0.2535 - accu 59.0972 - val_loss 0.1700 - val_accu 58.0556\n",
            "=> saved best model\n",
            "Epoch [6/500]\n"
          ]
        },
        {
          "output_type": "stream",
          "name": "stderr",
          "text": [
            "\n",
            "100%|██████████| 60/60 [00:00<00:00, 101.32it/s]"
          ]
        },
        {
          "output_type": "stream",
          "name": "stdout",
          "text": [
            "Train Loss:0.1946, Train Acc:62.08\n",
            "validation start\n"
          ]
        },
        {
          "output_type": "stream",
          "name": "stderr",
          "text": [
            "\n",
            "15it [00:00, 78.78it/s]              \n"
          ]
        },
        {
          "output_type": "stream",
          "name": "stdout",
          "text": [
            "Val Loss:0.1241, Val_Acc:81.67\n",
            "loss 0.2451 - accu 59.5238 - val_loss 0.1634 - val_accu 61.4286\n",
            "=> saved best model\n",
            "Epoch [7/500]\n"
          ]
        },
        {
          "output_type": "stream",
          "name": "stderr",
          "text": [
            "100%|██████████| 60/60 [00:00<00:00, 92.12it/s] "
          ]
        },
        {
          "output_type": "stream",
          "name": "stdout",
          "text": [
            "Train Loss:0.1966, Train Acc:64.17\n",
            "validation start\n"
          ]
        },
        {
          "output_type": "stream",
          "name": "stderr",
          "text": [
            "\n",
            "15it [00:00, 89.88it/s]              \n"
          ]
        },
        {
          "output_type": "stream",
          "name": "stdout",
          "text": [
            "Val Loss:0.1306, Val_Acc:88.33\n",
            "loss 0.2390 - accu 60.1042 - val_loss 0.1593 - val_accu 64.7917\n",
            "=> saved best model\n",
            "Epoch [8/500]\n"
          ]
        },
        {
          "output_type": "stream",
          "name": "stderr",
          "text": [
            "100%|██████████| 60/60 [00:00<00:00, 100.37it/s]"
          ]
        },
        {
          "output_type": "stream",
          "name": "stdout",
          "text": [
            "Train Loss:0.2192, Train Acc:67.08\n",
            "validation start\n"
          ]
        },
        {
          "output_type": "stream",
          "name": "stderr",
          "text": [
            "\n",
            "15it [00:00, 72.74it/s]              "
          ]
        },
        {
          "output_type": "stream",
          "name": "stdout",
          "text": [
            "Val Loss:0.2256, Val_Acc:70.00\n",
            "loss 0.2368 - accu 60.8796 - val_loss 0.1667 - val_accu 65.3704\n",
            "=> saved best model\n",
            "Epoch [9/500]\n"
          ]
        },
        {
          "output_type": "stream",
          "name": "stderr",
          "text": [
            "\n",
            "100%|██████████| 60/60 [00:00<00:00, 101.39it/s]"
          ]
        },
        {
          "output_type": "stream",
          "name": "stdout",
          "text": [
            "Train Loss:0.1707, Train Acc:67.08\n",
            "validation start\n"
          ]
        },
        {
          "output_type": "stream",
          "name": "stderr",
          "text": [
            "\n",
            "15it [00:00, 77.18it/s]              "
          ]
        },
        {
          "output_type": "stream",
          "name": "stdout",
          "text": [
            "Val Loss:0.1261, Val_Acc:76.67\n",
            "loss 0.2302 - accu 61.5000 - val_loss 0.1626 - val_accu 66.5000\n",
            "=> saved best model\n",
            "Epoch [10/500]\n"
          ]
        },
        {
          "output_type": "stream",
          "name": "stderr",
          "text": [
            "\n",
            "100%|██████████| 60/60 [00:00<00:00, 98.73it/s] "
          ]
        },
        {
          "output_type": "stream",
          "name": "stdout",
          "text": [
            "Train Loss:0.1629, Train Acc:67.92\n",
            "validation start\n"
          ]
        },
        {
          "output_type": "stream",
          "name": "stderr",
          "text": [
            "\n",
            "15it [00:00, 79.79it/s]              \n"
          ]
        },
        {
          "output_type": "stream",
          "name": "stdout",
          "text": [
            "Val Loss:0.1186, Val_Acc:83.33\n",
            "loss 0.2241 - accu 62.0833 - val_loss 0.1586 - val_accu 68.0303\n",
            "=> saved best model\n",
            "Epoch [11/500]\n"
          ]
        },
        {
          "output_type": "stream",
          "name": "stderr",
          "text": [
            "100%|██████████| 60/60 [00:00<00:00, 103.91it/s]"
          ]
        },
        {
          "output_type": "stream",
          "name": "stdout",
          "text": [
            "Train Loss:0.1965, Train Acc:67.08\n",
            "validation start\n"
          ]
        },
        {
          "output_type": "stream",
          "name": "stderr",
          "text": [
            "\n",
            "15it [00:00, 87.27it/s]              \n"
          ]
        },
        {
          "output_type": "stream",
          "name": "stdout",
          "text": [
            "Val Loss:0.1237, Val_Acc:71.67\n",
            "loss 0.2218 - accu 62.5000 - val_loss 0.1557 - val_accu 68.3333\n",
            "=> saved best model\n",
            "Epoch [12/500]\n"
          ]
        },
        {
          "output_type": "stream",
          "name": "stderr",
          "text": [
            "100%|██████████| 60/60 [00:00<00:00, 104.15it/s]"
          ]
        },
        {
          "output_type": "stream",
          "name": "stdout",
          "text": [
            "Train Loss:0.1763, Train Acc:65.00\n",
            "validation start\n"
          ]
        },
        {
          "output_type": "stream",
          "name": "stderr",
          "text": [
            "\n",
            "15it [00:00, 83.85it/s]              \n"
          ]
        },
        {
          "output_type": "stream",
          "name": "stdout",
          "text": [
            "Val Loss:0.1210, Val_Acc:85.00\n",
            "loss 0.2183 - accu 62.6923 - val_loss 0.1531 - val_accu 69.6154\n",
            "=> saved best model\n",
            "Epoch [13/500]\n"
          ]
        },
        {
          "output_type": "stream",
          "name": "stderr",
          "text": [
            "100%|██████████| 60/60 [00:00<00:00, 101.28it/s]"
          ]
        },
        {
          "output_type": "stream",
          "name": "stdout",
          "text": [
            "Train Loss:0.1717, Train Acc:67.92\n",
            "validation start\n"
          ]
        },
        {
          "output_type": "stream",
          "name": "stderr",
          "text": [
            "\n",
            "15it [00:00, 80.75it/s]              \n"
          ]
        },
        {
          "output_type": "stream",
          "name": "stdout",
          "text": [
            "Val Loss:0.1364, Val_Acc:56.67\n",
            "loss 0.2149 - accu 63.0655 - val_loss 0.1519 - val_accu 68.6905\n",
            "Epoch [14/500]\n"
          ]
        },
        {
          "output_type": "stream",
          "name": "stderr",
          "text": [
            "100%|██████████| 60/60 [00:00<00:00, 90.40it/s] "
          ]
        },
        {
          "output_type": "stream",
          "name": "stdout",
          "text": [
            "Train Loss:0.1816, Train Acc:66.25\n",
            "validation start\n"
          ]
        },
        {
          "output_type": "stream",
          "name": "stderr",
          "text": [
            "\n",
            "15it [00:00, 70.49it/s]              "
          ]
        },
        {
          "output_type": "stream",
          "name": "stdout",
          "text": [
            "Val Loss:0.1265, Val_Acc:63.33\n",
            "loss 0.2127 - accu 63.2778 - val_loss 0.1502 - val_accu 68.3333\n",
            "Epoch [15/500]\n"
          ]
        },
        {
          "output_type": "stream",
          "name": "stderr",
          "text": [
            "\n",
            "100%|██████████| 60/60 [00:00<00:00, 88.93it/s] "
          ]
        },
        {
          "output_type": "stream",
          "name": "stdout",
          "text": [
            "Train Loss:0.1869, Train Acc:66.25\n",
            "validation start\n"
          ]
        },
        {
          "output_type": "stream",
          "name": "stderr",
          "text": [
            "\n",
            "15it [00:00, 69.07it/s]              "
          ]
        },
        {
          "output_type": "stream",
          "name": "stdout",
          "text": [
            "Val Loss:0.1208, Val_Acc:73.33\n",
            "loss 0.2111 - accu 63.4635 - val_loss 0.1483 - val_accu 68.6458\n",
            "Epoch [16/500]\n"
          ]
        },
        {
          "output_type": "stream",
          "name": "stderr",
          "text": [
            "\n",
            "100%|██████████| 60/60 [00:00<00:00, 93.31it/s] "
          ]
        },
        {
          "output_type": "stream",
          "name": "stdout",
          "text": [
            "Train Loss:0.1652, Train Acc:67.50\n",
            "validation start\n"
          ]
        },
        {
          "output_type": "stream",
          "name": "stderr",
          "text": [
            "\n",
            "15it [00:00, 74.89it/s]              "
          ]
        },
        {
          "output_type": "stream",
          "name": "stdout",
          "text": [
            "Val Loss:0.1123, Val_Acc:76.67\n",
            "loss 0.2084 - accu 63.7010 - val_loss 0.1462 - val_accu 69.1176\n",
            "Epoch [17/500]\n"
          ]
        },
        {
          "output_type": "stream",
          "name": "stderr",
          "text": [
            "\n",
            "100%|██████████| 60/60 [00:00<00:00, 100.34it/s]"
          ]
        },
        {
          "output_type": "stream",
          "name": "stdout",
          "text": [
            "Train Loss:0.1465, Train Acc:74.17\n",
            "validation start\n"
          ]
        },
        {
          "output_type": "stream",
          "name": "stderr",
          "text": [
            "\n",
            "15it [00:00, 85.64it/s]              \n"
          ]
        },
        {
          "output_type": "stream",
          "name": "stdout",
          "text": [
            "Val Loss:0.1110, Val_Acc:80.00\n",
            "loss 0.2050 - accu 64.2824 - val_loss 0.1443 - val_accu 69.7222\n",
            "=> saved best model\n",
            "Epoch [18/500]\n"
          ]
        },
        {
          "output_type": "stream",
          "name": "stderr",
          "text": [
            "100%|██████████| 60/60 [00:00<00:00, 102.24it/s]"
          ]
        },
        {
          "output_type": "stream",
          "name": "stdout",
          "text": [
            "Train Loss:0.1742, Train Acc:67.92\n",
            "validation start\n"
          ]
        },
        {
          "output_type": "stream",
          "name": "stderr",
          "text": [
            "\n",
            "15it [00:00, 72.69it/s]              "
          ]
        },
        {
          "output_type": "stream",
          "name": "stdout",
          "text": [
            "Val Loss:0.1164, Val_Acc:83.33\n",
            "loss 0.2033 - accu 64.4737 - val_loss 0.1428 - val_accu 70.4386\n",
            "=> saved best model\n",
            "Epoch [19/500]\n"
          ]
        },
        {
          "output_type": "stream",
          "name": "stderr",
          "text": [
            "\n",
            "100%|██████████| 60/60 [00:00<00:00, 102.07it/s]"
          ]
        },
        {
          "output_type": "stream",
          "name": "stdout",
          "text": [
            "Train Loss:0.1541, Train Acc:70.00\n",
            "validation start\n"
          ]
        },
        {
          "output_type": "stream",
          "name": "stderr",
          "text": [
            "\n",
            "15it [00:00, 86.12it/s]              \n"
          ]
        },
        {
          "output_type": "stream",
          "name": "stdout",
          "text": [
            "Val Loss:0.1142, Val_Acc:86.67\n",
            "loss 0.2009 - accu 64.7500 - val_loss 0.1414 - val_accu 71.2500\n",
            "=> saved best model\n",
            "Epoch [20/500]\n"
          ]
        },
        {
          "output_type": "stream",
          "name": "stderr",
          "text": [
            "100%|██████████| 60/60 [00:00<00:00, 99.75it/s] "
          ]
        },
        {
          "output_type": "stream",
          "name": "stdout",
          "text": [
            "Train Loss:0.1436, Train Acc:72.08\n",
            "validation start\n"
          ]
        },
        {
          "output_type": "stream",
          "name": "stderr",
          "text": [
            "\n",
            "15it [00:00, 78.01it/s]              "
          ]
        },
        {
          "output_type": "stream",
          "name": "stdout",
          "text": [
            "Val Loss:0.1141, Val_Acc:78.33\n",
            "loss 0.1982 - accu 65.0992 - val_loss 0.1401 - val_accu 71.5873\n",
            "=> saved best model\n",
            "Epoch [21/500]\n"
          ]
        },
        {
          "output_type": "stream",
          "name": "stderr",
          "text": [
            "\n",
            "100%|██████████| 60/60 [00:00<00:00, 99.83it/s] "
          ]
        },
        {
          "output_type": "stream",
          "name": "stdout",
          "text": [
            "Train Loss:0.1432, Train Acc:74.58\n",
            "validation start\n"
          ]
        },
        {
          "output_type": "stream",
          "name": "stderr",
          "text": [
            "\n",
            "15it [00:00, 72.76it/s]              "
          ]
        },
        {
          "output_type": "stream",
          "name": "stdout",
          "text": [
            "Val Loss:0.1271, Val_Acc:66.67\n",
            "loss 0.1957 - accu 65.5303 - val_loss 0.1395 - val_accu 71.3636\n",
            "Epoch [22/500]\n"
          ]
        },
        {
          "output_type": "stream",
          "name": "stderr",
          "text": [
            "\n",
            "100%|██████████| 60/60 [00:00<00:00, 106.36it/s]"
          ]
        },
        {
          "output_type": "stream",
          "name": "stdout",
          "text": [
            "Train Loss:0.1731, Train Acc:66.25\n",
            "validation start\n"
          ]
        },
        {
          "output_type": "stream",
          "name": "stderr",
          "text": [
            "\n",
            "15it [00:00, 76.91it/s]              "
          ]
        },
        {
          "output_type": "stream",
          "name": "stdout",
          "text": [
            "Val Loss:0.1163, Val_Acc:83.33\n",
            "loss 0.1947 - accu 65.5616 - val_loss 0.1385 - val_accu 71.8841\n",
            "=> saved best model\n",
            "Epoch [23/500]\n"
          ]
        },
        {
          "output_type": "stream",
          "name": "stderr",
          "text": [
            "\n",
            "100%|██████████| 60/60 [00:00<00:00, 95.10it/s] "
          ]
        },
        {
          "output_type": "stream",
          "name": "stdout",
          "text": [
            "Train Loss:0.1502, Train Acc:70.00\n",
            "validation start\n"
          ]
        },
        {
          "output_type": "stream",
          "name": "stderr",
          "text": [
            "\n",
            "15it [00:00, 75.13it/s]              "
          ]
        },
        {
          "output_type": "stream",
          "name": "stdout",
          "text": [
            "Val Loss:0.1157, Val_Acc:81.67\n",
            "loss 0.1928 - accu 65.7465 - val_loss 0.1375 - val_accu 72.2917\n",
            "=> saved best model\n",
            "Epoch [24/500]\n"
          ]
        },
        {
          "output_type": "stream",
          "name": "stderr",
          "text": [
            "\n",
            "100%|██████████| 60/60 [00:00<00:00, 96.27it/s] "
          ]
        },
        {
          "output_type": "stream",
          "name": "stdout",
          "text": [
            "Train Loss:0.1380, Train Acc:75.42\n",
            "validation start\n"
          ]
        },
        {
          "output_type": "stream",
          "name": "stderr",
          "text": [
            "\n",
            "15it [00:00, 82.87it/s]              \n"
          ]
        },
        {
          "output_type": "stream",
          "name": "stdout",
          "text": [
            "Val Loss:0.1165, Val_Acc:80.00\n",
            "loss 0.1906 - accu 66.1333 - val_loss 0.1367 - val_accu 72.6000\n",
            "=> saved best model\n",
            "Epoch [25/500]\n"
          ]
        },
        {
          "output_type": "stream",
          "name": "stderr",
          "text": [
            "100%|██████████| 60/60 [00:00<00:00, 94.59it/s] "
          ]
        },
        {
          "output_type": "stream",
          "name": "stdout",
          "text": [
            "Train Loss:0.1582, Train Acc:69.17\n",
            "validation start\n"
          ]
        },
        {
          "output_type": "stream",
          "name": "stderr",
          "text": [
            "\n",
            "15it [00:00, 75.22it/s]              "
          ]
        },
        {
          "output_type": "stream",
          "name": "stdout",
          "text": [
            "Val Loss:0.1130, Val_Acc:86.67\n",
            "loss 0.1894 - accu 66.2500 - val_loss 0.1358 - val_accu 73.1410\n",
            "=> saved best model\n",
            "Epoch [26/500]\n"
          ]
        },
        {
          "output_type": "stream",
          "name": "stderr",
          "text": [
            "\n",
            "100%|██████████| 60/60 [00:00<00:00, 102.18it/s]"
          ]
        },
        {
          "output_type": "stream",
          "name": "stdout",
          "text": [
            "Train Loss:0.1501, Train Acc:69.58\n",
            "validation start\n"
          ]
        },
        {
          "output_type": "stream",
          "name": "stderr",
          "text": [
            "\n",
            "15it [00:00, 81.15it/s]              \n"
          ]
        },
        {
          "output_type": "stream",
          "name": "stdout",
          "text": [
            "Val Loss:0.1081, Val_Acc:85.00\n",
            "loss 0.1879 - accu 66.3735 - val_loss 0.1347 - val_accu 73.5802\n",
            "=> saved best model\n",
            "Epoch [27/500]\n"
          ]
        },
        {
          "output_type": "stream",
          "name": "stderr",
          "text": [
            "100%|██████████| 60/60 [00:00<00:00, 99.91it/s] "
          ]
        },
        {
          "output_type": "stream",
          "name": "stdout",
          "text": [
            "Train Loss:0.1509, Train Acc:72.50\n",
            "validation start\n"
          ]
        },
        {
          "output_type": "stream",
          "name": "stderr",
          "text": [
            "\n",
            "15it [00:00, 95.88it/s]              \n"
          ]
        },
        {
          "output_type": "stream",
          "name": "stdout",
          "text": [
            "Val Loss:0.1115, Val_Acc:80.00\n",
            "loss 0.1866 - accu 66.5923 - val_loss 0.1339 - val_accu 73.8095\n",
            "=> saved best model\n",
            "Epoch [28/500]\n"
          ]
        },
        {
          "output_type": "stream",
          "name": "stderr",
          "text": [
            "100%|██████████| 60/60 [00:00<00:00, 95.49it/s] "
          ]
        },
        {
          "output_type": "stream",
          "name": "stdout",
          "text": [
            "Train Loss:0.1504, Train Acc:69.58\n",
            "validation start\n"
          ]
        },
        {
          "output_type": "stream",
          "name": "stderr",
          "text": [
            "\n",
            "15it [00:00, 81.43it/s]              \n"
          ]
        },
        {
          "output_type": "stream",
          "name": "stdout",
          "text": [
            "Val Loss:0.1205, Val_Acc:85.00\n",
            "loss 0.1854 - accu 66.6954 - val_loss 0.1335 - val_accu 74.1954\n",
            "=> saved best model\n",
            "Epoch [29/500]\n"
          ]
        },
        {
          "output_type": "stream",
          "name": "stderr",
          "text": [
            "100%|██████████| 60/60 [00:00<00:00, 99.98it/s] "
          ]
        },
        {
          "output_type": "stream",
          "name": "stdout",
          "text": [
            "Train Loss:0.1492, Train Acc:69.58\n",
            "validation start\n"
          ]
        },
        {
          "output_type": "stream",
          "name": "stderr",
          "text": [
            "\n",
            "15it [00:00, 76.72it/s]              "
          ]
        },
        {
          "output_type": "stream",
          "name": "stdout",
          "text": [
            "Val Loss:0.1134, Val_Acc:80.00\n",
            "loss 0.1842 - accu 66.7917 - val_loss 0.1328 - val_accu 74.3889\n",
            "=> saved best model\n",
            "Epoch [30/500]\n"
          ]
        },
        {
          "output_type": "stream",
          "name": "stderr",
          "text": [
            "\n",
            "100%|██████████| 60/60 [00:00<00:00, 94.16it/s] "
          ]
        },
        {
          "output_type": "stream",
          "name": "stdout",
          "text": [
            "Train Loss:0.1516, Train Acc:71.25\n",
            "validation start\n"
          ]
        },
        {
          "output_type": "stream",
          "name": "stderr",
          "text": [
            "\n",
            "15it [00:00, 83.94it/s]              \n"
          ]
        },
        {
          "output_type": "stream",
          "name": "stdout",
          "text": [
            "Val Loss:0.1120, Val_Acc:80.00\n",
            "loss 0.1831 - accu 66.9355 - val_loss 0.1321 - val_accu 74.5699\n",
            "=> saved best model\n",
            "Epoch [31/500]\n"
          ]
        },
        {
          "output_type": "stream",
          "name": "stderr",
          "text": [
            "100%|██████████| 60/60 [00:00<00:00, 94.39it/s] "
          ]
        },
        {
          "output_type": "stream",
          "name": "stdout",
          "text": [
            "Train Loss:0.1468, Train Acc:69.58\n",
            "validation start\n"
          ]
        },
        {
          "output_type": "stream",
          "name": "stderr",
          "text": [
            "\n",
            "15it [00:00, 78.51it/s]              \n"
          ]
        },
        {
          "output_type": "stream",
          "name": "stdout",
          "text": [
            "Val Loss:0.1160, Val_Acc:78.33\n",
            "loss 0.1820 - accu 67.0182 - val_loss 0.1316 - val_accu 74.6875\n",
            "=> saved best model\n",
            "Epoch [32/500]\n"
          ]
        },
        {
          "output_type": "stream",
          "name": "stderr",
          "text": [
            "100%|██████████| 60/60 [00:00<00:00, 99.02it/s] "
          ]
        },
        {
          "output_type": "stream",
          "name": "stdout",
          "text": [
            "Train Loss:0.1602, Train Acc:67.92\n",
            "validation start\n"
          ]
        },
        {
          "output_type": "stream",
          "name": "stderr",
          "text": [
            "\n",
            "15it [00:00, 69.02it/s]              "
          ]
        },
        {
          "output_type": "stream",
          "name": "stdout",
          "text": [
            "Val Loss:0.1158, Val_Acc:86.67\n",
            "loss 0.1813 - accu 67.0455 - val_loss 0.1311 - val_accu 75.0505\n",
            "=> saved best model\n",
            "Epoch [33/500]\n"
          ]
        },
        {
          "output_type": "stream",
          "name": "stderr",
          "text": [
            "\n",
            "100%|██████████| 60/60 [00:00<00:00, 99.70it/s] "
          ]
        },
        {
          "output_type": "stream",
          "name": "stdout",
          "text": [
            "Train Loss:0.1503, Train Acc:70.83\n",
            "validation start\n"
          ]
        },
        {
          "output_type": "stream",
          "name": "stderr",
          "text": [
            "\n",
            "15it [00:00, 79.47it/s]              "
          ]
        },
        {
          "output_type": "stream",
          "name": "stdout",
          "text": [
            "Val Loss:0.1177, Val_Acc:85.00\n",
            "loss 0.1804 - accu 67.1569 - val_loss 0.1307 - val_accu 75.3431\n",
            "=> saved best model\n",
            "Epoch [34/500]\n"
          ]
        },
        {
          "output_type": "stream",
          "name": "stderr",
          "text": [
            "\n",
            "100%|██████████| 60/60 [00:00<00:00, 99.15it/s] "
          ]
        },
        {
          "output_type": "stream",
          "name": "stdout",
          "text": [
            "Train Loss:0.1494, Train Acc:73.75\n",
            "validation start\n"
          ]
        },
        {
          "output_type": "stream",
          "name": "stderr",
          "text": [
            "\n",
            "15it [00:00, 74.19it/s]              "
          ]
        },
        {
          "output_type": "stream",
          "name": "stdout",
          "text": [
            "Val Loss:0.1119, Val_Acc:85.00\n",
            "loss 0.1795 - accu 67.3452 - val_loss 0.1302 - val_accu 75.6190\n",
            "=> saved best model\n",
            "Epoch [35/500]\n"
          ]
        },
        {
          "output_type": "stream",
          "name": "stderr",
          "text": [
            "\n",
            "100%|██████████| 60/60 [00:00<00:00, 97.47it/s] "
          ]
        },
        {
          "output_type": "stream",
          "name": "stdout",
          "text": [
            "Train Loss:0.1461, Train Acc:73.75\n",
            "validation start\n"
          ]
        },
        {
          "output_type": "stream",
          "name": "stderr",
          "text": [
            "\n",
            "15it [00:00, 71.18it/s]              "
          ]
        },
        {
          "output_type": "stream",
          "name": "stdout",
          "text": [
            "Val Loss:0.1109, Val_Acc:80.00\n",
            "loss 0.1786 - accu 67.5231 - val_loss 0.1297 - val_accu 75.7407\n",
            "=> saved best model\n",
            "Epoch [36/500]\n"
          ]
        },
        {
          "output_type": "stream",
          "name": "stderr",
          "text": [
            "\n",
            "100%|██████████| 60/60 [00:00<00:00, 94.65it/s] "
          ]
        },
        {
          "output_type": "stream",
          "name": "stdout",
          "text": [
            "Train Loss:0.1383, Train Acc:76.25\n",
            "validation start\n"
          ]
        },
        {
          "output_type": "stream",
          "name": "stderr",
          "text": [
            "\n",
            "15it [00:00, 87.27it/s]              \n"
          ]
        },
        {
          "output_type": "stream",
          "name": "stdout",
          "text": [
            "Val Loss:0.1370, Val_Acc:81.67\n",
            "loss 0.1775 - accu 67.7590 - val_loss 0.1299 - val_accu 75.9009\n",
            "=> saved best model\n",
            "Epoch [37/500]\n"
          ]
        },
        {
          "output_type": "stream",
          "name": "stderr",
          "text": [
            "100%|██████████| 60/60 [00:00<00:00, 96.66it/s] "
          ]
        },
        {
          "output_type": "stream",
          "name": "stdout",
          "text": [
            "Train Loss:0.1516, Train Acc:72.08\n",
            "validation start\n"
          ]
        },
        {
          "output_type": "stream",
          "name": "stderr",
          "text": [
            "\n",
            "15it [00:00, 79.89it/s]              "
          ]
        },
        {
          "output_type": "stream",
          "name": "stdout",
          "text": [
            "Val Loss:0.1143, Val_Acc:81.67\n",
            "loss 0.1768 - accu 67.8728 - val_loss 0.1294 - val_accu 76.0526\n",
            "=> saved best model\n",
            "Epoch [38/500]\n"
          ]
        },
        {
          "output_type": "stream",
          "name": "stderr",
          "text": [
            "\n",
            "100%|██████████| 60/60 [00:00<00:00, 98.69it/s] "
          ]
        },
        {
          "output_type": "stream",
          "name": "stdout",
          "text": [
            "Train Loss:0.1333, Train Acc:76.67\n",
            "validation start\n"
          ]
        },
        {
          "output_type": "stream",
          "name": "stderr",
          "text": [
            "\n",
            "15it [00:00, 81.74it/s]              \n"
          ]
        },
        {
          "output_type": "stream",
          "name": "stdout",
          "text": [
            "Val Loss:0.1350, Val_Acc:63.33\n",
            "loss 0.1757 - accu 68.0983 - val_loss 0.1296 - val_accu 75.7265\n",
            "Epoch [39/500]\n"
          ]
        },
        {
          "output_type": "stream",
          "name": "stderr",
          "text": [
            "100%|██████████| 60/60 [00:00<00:00, 96.06it/s] "
          ]
        },
        {
          "output_type": "stream",
          "name": "stdout",
          "text": [
            "Train Loss:0.1539, Train Acc:69.58\n",
            "validation start\n"
          ]
        },
        {
          "output_type": "stream",
          "name": "stderr",
          "text": [
            "\n",
            "15it [00:00, 75.89it/s]              "
          ]
        },
        {
          "output_type": "stream",
          "name": "stdout",
          "text": [
            "Val Loss:0.1281, Val_Acc:85.00\n",
            "loss 0.1752 - accu 68.1354 - val_loss 0.1296 - val_accu 75.9583\n",
            "Epoch [40/500]\n"
          ]
        },
        {
          "output_type": "stream",
          "name": "stderr",
          "text": [
            "\n",
            "100%|██████████| 60/60 [00:00<00:00, 93.79it/s] "
          ]
        },
        {
          "output_type": "stream",
          "name": "stdout",
          "text": [
            "Train Loss:0.1533, Train Acc:69.17\n",
            "validation start\n"
          ]
        },
        {
          "output_type": "stream",
          "name": "stderr",
          "text": [
            "\n",
            "15it [00:00, 75.15it/s]              "
          ]
        },
        {
          "output_type": "stream",
          "name": "stdout",
          "text": [
            "Val Loss:0.1137, Val_Acc:90.00\n",
            "loss 0.1746 - accu 68.1606 - val_loss 0.1292 - val_accu 76.3008\n",
            "=> saved best model\n",
            "Epoch [41/500]\n"
          ]
        },
        {
          "output_type": "stream",
          "name": "stderr",
          "text": [
            "\n",
            "100%|██████████| 60/60 [00:00<00:00, 97.14it/s] "
          ]
        },
        {
          "output_type": "stream",
          "name": "stdout",
          "text": [
            "Train Loss:0.1389, Train Acc:78.33\n",
            "validation start\n"
          ]
        },
        {
          "output_type": "stream",
          "name": "stderr",
          "text": [
            "\n",
            "15it [00:00, 80.17it/s]              \n"
          ]
        },
        {
          "output_type": "stream",
          "name": "stdout",
          "text": [
            "Val Loss:0.1119, Val_Acc:83.33\n",
            "loss 0.1738 - accu 68.4028 - val_loss 0.1288 - val_accu 76.4683\n",
            "=> saved best model\n",
            "Epoch [42/500]\n"
          ]
        },
        {
          "output_type": "stream",
          "name": "stderr",
          "text": [
            "100%|██████████| 60/60 [00:00<00:00, 99.20it/s] \n"
          ]
        },
        {
          "output_type": "stream",
          "name": "stdout",
          "text": [
            "Train Loss:0.1277, Train Acc:75.00\n",
            "validation start\n"
          ]
        },
        {
          "output_type": "stream",
          "name": "stderr",
          "text": [
            "15it [00:00, 84.40it/s]              "
          ]
        },
        {
          "output_type": "stream",
          "name": "stdout",
          "text": [
            "Val Loss:0.1113, Val_Acc:83.33\n",
            "loss 0.1727 - accu 68.5562 - val_loss 0.1283 - val_accu 76.6279\n",
            "=> saved best model\n",
            "Epoch [43/500]\n"
          ]
        },
        {
          "output_type": "stream",
          "name": "stderr",
          "text": [
            "\n",
            "100%|██████████| 60/60 [00:00<00:00, 96.76it/s] "
          ]
        },
        {
          "output_type": "stream",
          "name": "stdout",
          "text": [
            "Train Loss:0.1396, Train Acc:73.33\n",
            "validation start\n"
          ]
        },
        {
          "output_type": "stream",
          "name": "stderr",
          "text": [
            "\n",
            "15it [00:00, 71.13it/s]              "
          ]
        },
        {
          "output_type": "stream",
          "name": "stdout",
          "text": [
            "Val Loss:0.1137, Val_Acc:80.00\n",
            "loss 0.1719 - accu 68.6648 - val_loss 0.1280 - val_accu 76.7045\n",
            "=> saved best model\n",
            "Epoch [44/500]\n"
          ]
        },
        {
          "output_type": "stream",
          "name": "stderr",
          "text": [
            "\n",
            "100%|██████████| 60/60 [00:00<00:00, 100.72it/s]"
          ]
        },
        {
          "output_type": "stream",
          "name": "stdout",
          "text": [
            "Train Loss:0.1475, Train Acc:69.58\n",
            "validation start\n"
          ]
        },
        {
          "output_type": "stream",
          "name": "stderr",
          "text": [
            "\n",
            "15it [00:00, 80.32it/s]              \n"
          ]
        },
        {
          "output_type": "stream",
          "name": "stdout",
          "text": [
            "Val Loss:0.1138, Val_Acc:85.00\n",
            "loss 0.1714 - accu 68.6852 - val_loss 0.1277 - val_accu 76.8889\n",
            "=> saved best model\n",
            "Epoch [45/500]\n"
          ]
        },
        {
          "output_type": "stream",
          "name": "stderr",
          "text": [
            "100%|██████████| 60/60 [00:00<00:00, 95.33it/s] "
          ]
        },
        {
          "output_type": "stream",
          "name": "stdout",
          "text": [
            "Train Loss:0.1474, Train Acc:72.92\n",
            "validation start\n"
          ]
        },
        {
          "output_type": "stream",
          "name": "stderr",
          "text": [
            "\n",
            "15it [00:00, 78.03it/s]              \n"
          ]
        },
        {
          "output_type": "stream",
          "name": "stdout",
          "text": [
            "Val Loss:0.1184, Val_Acc:81.67\n",
            "loss 0.1709 - accu 68.7772 - val_loss 0.1275 - val_accu 76.9928\n",
            "=> saved best model\n",
            "Epoch [46/500]\n"
          ]
        },
        {
          "output_type": "stream",
          "name": "stderr",
          "text": [
            "100%|██████████| 60/60 [00:00<00:00, 95.61it/s] "
          ]
        },
        {
          "output_type": "stream",
          "name": "stdout",
          "text": [
            "Train Loss:0.1414, Train Acc:75.00\n",
            "validation start\n"
          ]
        },
        {
          "output_type": "stream",
          "name": "stderr",
          "text": [
            "\n",
            "15it [00:00, 78.66it/s]              "
          ]
        },
        {
          "output_type": "stream",
          "name": "stdout",
          "text": [
            "Val Loss:0.1182, Val_Acc:78.33\n",
            "loss 0.1703 - accu 68.9096 - val_loss 0.1273 - val_accu 77.0213\n",
            "=> saved best model\n",
            "Epoch [47/500]\n"
          ]
        },
        {
          "output_type": "stream",
          "name": "stderr",
          "text": [
            "\n",
            "100%|██████████| 60/60 [00:00<00:00, 96.80it/s] "
          ]
        },
        {
          "output_type": "stream",
          "name": "stdout",
          "text": [
            "Train Loss:0.1465, Train Acc:73.75\n",
            "validation start\n"
          ]
        },
        {
          "output_type": "stream",
          "name": "stderr",
          "text": [
            "\n",
            "15it [00:00, 77.73it/s]              "
          ]
        },
        {
          "output_type": "stream",
          "name": "stdout",
          "text": [
            "Val Loss:0.1110, Val_Acc:83.33\n",
            "loss 0.1698 - accu 69.0104 - val_loss 0.1270 - val_accu 77.1528\n",
            "=> saved best model\n",
            "Epoch [48/500]\n"
          ]
        },
        {
          "output_type": "stream",
          "name": "stderr",
          "text": [
            "\n",
            "100%|██████████| 60/60 [00:00<00:00, 96.96it/s] \n"
          ]
        },
        {
          "output_type": "stream",
          "name": "stdout",
          "text": [
            "Train Loss:0.1372, Train Acc:71.25\n",
            "validation start\n"
          ]
        },
        {
          "output_type": "stream",
          "name": "stderr",
          "text": [
            "15it [00:00, 74.35it/s]              "
          ]
        },
        {
          "output_type": "stream",
          "name": "stdout",
          "text": [
            "Val Loss:0.1070, Val_Acc:85.00\n",
            "loss 0.1691 - accu 69.0561 - val_loss 0.1266 - val_accu 77.3129\n",
            "=> saved best model\n",
            "Epoch [49/500]\n"
          ]
        },
        {
          "output_type": "stream",
          "name": "stderr",
          "text": [
            "\n",
            "100%|██████████| 60/60 [00:00<00:00, 101.10it/s]"
          ]
        },
        {
          "output_type": "stream",
          "name": "stdout",
          "text": [
            "Train Loss:0.1425, Train Acc:75.83\n",
            "validation start\n"
          ]
        },
        {
          "output_type": "stream",
          "name": "stderr",
          "text": [
            "\n",
            "15it [00:00, 77.38it/s]              "
          ]
        },
        {
          "output_type": "stream",
          "name": "stdout",
          "text": [
            "Val Loss:0.1075, Val_Acc:88.33\n",
            "loss 0.1686 - accu 69.1917 - val_loss 0.1262 - val_accu 77.5333\n",
            "=> saved best model\n",
            "Epoch [50/500]\n"
          ]
        },
        {
          "output_type": "stream",
          "name": "stderr",
          "text": [
            "\n",
            "100%|██████████| 60/60 [00:00<00:00, 96.04it/s] "
          ]
        },
        {
          "output_type": "stream",
          "name": "stdout",
          "text": [
            "Train Loss:0.1344, Train Acc:75.00\n",
            "validation start\n"
          ]
        },
        {
          "output_type": "stream",
          "name": "stderr",
          "text": [
            "\n",
            "15it [00:00, 65.58it/s]              "
          ]
        },
        {
          "output_type": "stream",
          "name": "stdout",
          "text": [
            "Val Loss:0.1081, Val_Acc:81.67\n",
            "loss 0.1679 - accu 69.3056 - val_loss 0.1258 - val_accu 77.6144\n",
            "=> saved best model\n",
            "Epoch [51/500]\n"
          ]
        },
        {
          "output_type": "stream",
          "name": "stderr",
          "text": [
            "\n",
            "100%|██████████| 60/60 [00:00<00:00, 93.69it/s] "
          ]
        },
        {
          "output_type": "stream",
          "name": "stdout",
          "text": [
            "Train Loss:0.1446, Train Acc:71.67\n",
            "validation start\n"
          ]
        },
        {
          "output_type": "stream",
          "name": "stderr",
          "text": [
            "\n",
            "15it [00:00, 69.43it/s]              "
          ]
        },
        {
          "output_type": "stream",
          "name": "stdout",
          "text": [
            "Val Loss:0.1204, Val_Acc:83.33\n",
            "loss 0.1674 - accu 69.3510 - val_loss 0.1257 - val_accu 77.7244\n",
            "=> saved best model\n",
            "Epoch [52/500]\n"
          ]
        },
        {
          "output_type": "stream",
          "name": "stderr",
          "text": [
            "\n",
            "100%|██████████| 60/60 [00:00<00:00, 101.77it/s]"
          ]
        },
        {
          "output_type": "stream",
          "name": "stdout",
          "text": [
            "Train Loss:0.1440, Train Acc:71.67\n",
            "validation start\n"
          ]
        },
        {
          "output_type": "stream",
          "name": "stderr",
          "text": [
            "\n",
            "15it [00:00, 81.78it/s]              \n"
          ]
        },
        {
          "output_type": "stream",
          "name": "stdout",
          "text": [
            "Val Loss:0.1111, Val_Acc:91.67\n",
            "loss 0.1670 - accu 69.3947 - val_loss 0.1254 - val_accu 77.9874\n",
            "=> saved best model\n",
            "Epoch [53/500]\n"
          ]
        },
        {
          "output_type": "stream",
          "name": "stderr",
          "text": [
            "100%|██████████| 60/60 [00:00<00:00, 95.96it/s] "
          ]
        },
        {
          "output_type": "stream",
          "name": "stdout",
          "text": [
            "Train Loss:0.1504, Train Acc:71.25\n",
            "validation start\n"
          ]
        },
        {
          "output_type": "stream",
          "name": "stderr",
          "text": [
            "\n",
            "15it [00:00, 76.58it/s]              "
          ]
        },
        {
          "output_type": "stream",
          "name": "stdout",
          "text": [
            "Val Loss:0.1107, Val_Acc:81.67\n",
            "loss 0.1667 - accu 69.4290 - val_loss 0.1252 - val_accu 78.0556\n",
            "=> saved best model\n",
            "Epoch [54/500]\n"
          ]
        },
        {
          "output_type": "stream",
          "name": "stderr",
          "text": [
            "\n",
            "100%|██████████| 60/60 [00:00<00:00, 99.56it/s] "
          ]
        },
        {
          "output_type": "stream",
          "name": "stdout",
          "text": [
            "Train Loss:0.1389, Train Acc:71.25\n",
            "validation start\n"
          ]
        },
        {
          "output_type": "stream",
          "name": "stderr",
          "text": [
            "\n",
            "15it [00:00, 74.43it/s]              "
          ]
        },
        {
          "output_type": "stream",
          "name": "stdout",
          "text": [
            "Val Loss:0.1275, Val_Acc:66.67\n",
            "loss 0.1662 - accu 69.4621 - val_loss 0.1252 - val_accu 77.8485\n",
            "Epoch [55/500]\n"
          ]
        },
        {
          "output_type": "stream",
          "name": "stderr",
          "text": [
            "\n",
            "100%|██████████| 60/60 [00:00<00:00, 101.03it/s]"
          ]
        },
        {
          "output_type": "stream",
          "name": "stdout",
          "text": [
            "Train Loss:0.1507, Train Acc:68.33\n",
            "validation start\n"
          ]
        },
        {
          "output_type": "stream",
          "name": "stderr",
          "text": [
            "\n",
            "15it [00:00, 74.34it/s]              "
          ]
        },
        {
          "output_type": "stream",
          "name": "stdout",
          "text": [
            "Val Loss:0.1167, Val_Acc:73.33\n",
            "loss 0.1659 - accu 69.4420 - val_loss 0.1251 - val_accu 77.7679\n",
            "Epoch [56/500]\n"
          ]
        },
        {
          "output_type": "stream",
          "name": "stderr",
          "text": [
            "\n",
            "100%|██████████| 60/60 [00:00<00:00, 99.92it/s] "
          ]
        },
        {
          "output_type": "stream",
          "name": "stdout",
          "text": [
            "Train Loss:0.1356, Train Acc:74.17\n",
            "validation start\n"
          ]
        },
        {
          "output_type": "stream",
          "name": "stderr",
          "text": [
            "\n",
            "15it [00:00, 78.21it/s]              \n"
          ]
        },
        {
          "output_type": "stream",
          "name": "stdout",
          "text": [
            "Val Loss:0.1124, Val_Acc:83.33\n",
            "loss 0.1654 - accu 69.5249 - val_loss 0.1248 - val_accu 77.8655\n",
            "Epoch [57/500]\n"
          ]
        },
        {
          "output_type": "stream",
          "name": "stderr",
          "text": [
            "100%|██████████| 60/60 [00:00<00:00, 99.79it/s] "
          ]
        },
        {
          "output_type": "stream",
          "name": "stdout",
          "text": [
            "Train Loss:0.1278, Train Acc:76.25\n",
            "validation start\n"
          ]
        },
        {
          "output_type": "stream",
          "name": "stderr",
          "text": [
            "\n",
            "15it [00:00, 81.52it/s]              \n"
          ]
        },
        {
          "output_type": "stream",
          "name": "stdout",
          "text": [
            "Val Loss:0.1169, Val_Acc:71.67\n",
            "loss 0.1647 - accu 69.6408 - val_loss 0.1247 - val_accu 77.7586\n",
            "Epoch [58/500]\n"
          ]
        },
        {
          "output_type": "stream",
          "name": "stderr",
          "text": [
            "100%|██████████| 60/60 [00:00<00:00, 95.41it/s]"
          ]
        },
        {
          "output_type": "stream",
          "name": "stdout",
          "text": [
            "Train Loss:0.1450, Train Acc:74.17\n",
            "validation start\n"
          ]
        },
        {
          "output_type": "stream",
          "name": "stderr",
          "text": [
            "\n",
            "15it [00:00, 85.57it/s]              "
          ]
        },
        {
          "output_type": "stream",
          "name": "stdout",
          "text": [
            "Val Loss:0.1134, Val_Acc:73.33\n",
            "loss 0.1644 - accu 69.7175 - val_loss 0.1245 - val_accu 77.6836\n",
            "Epoch [59/500]\n"
          ]
        },
        {
          "output_type": "stream",
          "name": "stderr",
          "text": [
            "\n",
            "100%|██████████| 60/60 [00:00<00:00, 98.27it/s] "
          ]
        },
        {
          "output_type": "stream",
          "name": "stdout",
          "text": [
            "Train Loss:0.1374, Train Acc:75.00\n",
            "validation start\n"
          ]
        },
        {
          "output_type": "stream",
          "name": "stderr",
          "text": [
            "\n",
            "15it [00:00, 80.39it/s]              "
          ]
        },
        {
          "output_type": "stream",
          "name": "stdout",
          "text": [
            "Val Loss:0.1228, Val_Acc:70.00\n",
            "loss 0.1639 - accu 69.8056 - val_loss 0.1245 - val_accu 77.5556\n",
            "Epoch [60/500]\n"
          ]
        },
        {
          "output_type": "stream",
          "name": "stderr",
          "text": [
            "\n",
            "100%|██████████| 60/60 [00:00<00:00, 95.68it/s] "
          ]
        },
        {
          "output_type": "stream",
          "name": "stdout",
          "text": [
            "Train Loss:0.1401, Train Acc:70.42\n",
            "validation start\n"
          ]
        },
        {
          "output_type": "stream",
          "name": "stderr",
          "text": [
            "\n",
            "15it [00:00, 88.12it/s]              \n"
          ]
        },
        {
          "output_type": "stream",
          "name": "stdout",
          "text": [
            "Val Loss:0.1142, Val_Acc:85.00\n",
            "loss 0.1636 - accu 69.8156 - val_loss 0.1243 - val_accu 77.6776\n",
            "Epoch [61/500]\n"
          ]
        },
        {
          "output_type": "stream",
          "name": "stderr",
          "text": [
            "100%|██████████| 60/60 [00:00<00:00, 92.88it/s] "
          ]
        },
        {
          "output_type": "stream",
          "name": "stdout",
          "text": [
            "Train Loss:0.1459, Train Acc:68.75\n",
            "validation start\n"
          ]
        },
        {
          "output_type": "stream",
          "name": "stderr",
          "text": [
            "\n",
            "15it [00:00, 75.74it/s]              "
          ]
        },
        {
          "output_type": "stream",
          "name": "stdout",
          "text": [
            "Val Loss:0.1142, Val_Acc:81.67\n",
            "loss 0.1633 - accu 69.7984 - val_loss 0.1241 - val_accu 77.7419\n",
            "Epoch [62/500]\n"
          ]
        },
        {
          "output_type": "stream",
          "name": "stderr",
          "text": [
            "\n",
            "100%|██████████| 60/60 [00:00<00:00, 94.63it/s] "
          ]
        },
        {
          "output_type": "stream",
          "name": "stdout",
          "text": [
            "Train Loss:0.1250, Train Acc:75.83\n",
            "validation start\n"
          ]
        },
        {
          "output_type": "stream",
          "name": "stderr",
          "text": [
            "\n",
            "15it [00:00, 79.55it/s]              \n"
          ]
        },
        {
          "output_type": "stream",
          "name": "stdout",
          "text": [
            "Val Loss:0.1128, Val_Acc:80.00\n",
            "loss 0.1627 - accu 69.8942 - val_loss 0.1240 - val_accu 77.7778\n",
            "Epoch [63/500]\n"
          ]
        },
        {
          "output_type": "stream",
          "name": "stderr",
          "text": [
            "100%|██████████| 60/60 [00:00<00:00, 97.50it/s] \n"
          ]
        },
        {
          "output_type": "stream",
          "name": "stdout",
          "text": [
            "Train Loss:0.1383, Train Acc:76.25\n",
            "validation start\n"
          ]
        },
        {
          "output_type": "stream",
          "name": "stderr",
          "text": [
            "15it [00:00, 84.73it/s]              \n"
          ]
        },
        {
          "output_type": "stream",
          "name": "stdout",
          "text": [
            "Val Loss:0.1123, Val_Acc:83.33\n",
            "loss 0.1623 - accu 69.9935 - val_loss 0.1238 - val_accu 77.8646\n",
            "Epoch [64/500]\n"
          ]
        },
        {
          "output_type": "stream",
          "name": "stderr",
          "text": [
            "100%|██████████| 60/60 [00:00<00:00, 94.93it/s] "
          ]
        },
        {
          "output_type": "stream",
          "name": "stdout",
          "text": [
            "Train Loss:0.1344, Train Acc:74.58\n",
            "validation start\n"
          ]
        },
        {
          "output_type": "stream",
          "name": "stderr",
          "text": [
            "\n",
            "15it [00:00, 81.88it/s]              \n"
          ]
        },
        {
          "output_type": "stream",
          "name": "stdout",
          "text": [
            "Val Loss:0.1143, Val_Acc:78.33\n",
            "loss 0.1619 - accu 70.0641 - val_loss 0.1236 - val_accu 77.8718\n",
            "Epoch [65/500]\n"
          ]
        },
        {
          "output_type": "stream",
          "name": "stderr",
          "text": [
            "100%|██████████| 60/60 [00:00<00:00, 91.85it/s] "
          ]
        },
        {
          "output_type": "stream",
          "name": "stdout",
          "text": [
            "Train Loss:0.1357, Train Acc:77.92\n",
            "validation start\n"
          ]
        },
        {
          "output_type": "stream",
          "name": "stderr",
          "text": [
            "\n",
            "15it [00:00, 75.46it/s]              "
          ]
        },
        {
          "output_type": "stream",
          "name": "stdout",
          "text": [
            "Val Loss:0.1102, Val_Acc:85.00\n",
            "loss 0.1615 - accu 70.1831 - val_loss 0.1234 - val_accu 77.9798\n",
            "Epoch [66/500]\n"
          ]
        },
        {
          "output_type": "stream",
          "name": "stderr",
          "text": [
            "\n",
            "100%|██████████| 60/60 [00:00<00:00, 96.23it/s] "
          ]
        },
        {
          "output_type": "stream",
          "name": "stdout",
          "text": [
            "Train Loss:0.1393, Train Acc:76.67\n",
            "validation start\n"
          ]
        },
        {
          "output_type": "stream",
          "name": "stderr",
          "text": [
            "\n",
            "15it [00:00, 73.20it/s]              "
          ]
        },
        {
          "output_type": "stream",
          "name": "stdout",
          "text": [
            "Val Loss:0.1132, Val_Acc:78.33\n",
            "loss 0.1611 - accu 70.2799 - val_loss 0.1233 - val_accu 77.9851\n",
            "Epoch [67/500]\n"
          ]
        },
        {
          "output_type": "stream",
          "name": "stderr",
          "text": [
            "\n",
            "100%|██████████| 60/60 [00:00<00:00, 100.62it/s]"
          ]
        },
        {
          "output_type": "stream",
          "name": "stdout",
          "text": [
            "Train Loss:0.1425, Train Acc:68.75\n",
            "validation start\n"
          ]
        },
        {
          "output_type": "stream",
          "name": "stderr",
          "text": [
            "\n",
            "15it [00:00, 71.30it/s]              "
          ]
        },
        {
          "output_type": "stream",
          "name": "stdout",
          "text": [
            "Val Loss:0.1099, Val_Acc:83.33\n",
            "loss 0.1609 - accu 70.2574 - val_loss 0.1231 - val_accu 78.0637\n",
            "=> saved best model\n",
            "Epoch [68/500]\n"
          ]
        },
        {
          "output_type": "stream",
          "name": "stderr",
          "text": [
            "\n",
            "100%|██████████| 60/60 [00:00<00:00, 98.61it/s] "
          ]
        },
        {
          "output_type": "stream",
          "name": "stdout",
          "text": [
            "Train Loss:0.1375, Train Acc:77.08\n",
            "validation start\n"
          ]
        },
        {
          "output_type": "stream",
          "name": "stderr",
          "text": [
            "\n",
            "15it [00:00, 83.15it/s]              \n"
          ]
        },
        {
          "output_type": "stream",
          "name": "stdout",
          "text": [
            "Val Loss:0.1087, Val_Acc:83.33\n",
            "loss 0.1605 - accu 70.3563 - val_loss 0.1229 - val_accu 78.1401\n",
            "=> saved best model\n",
            "Epoch [69/500]\n"
          ]
        },
        {
          "output_type": "stream",
          "name": "stderr",
          "text": [
            "100%|██████████| 60/60 [00:00<00:00, 96.66it/s] "
          ]
        },
        {
          "output_type": "stream",
          "name": "stdout",
          "text": [
            "Train Loss:0.1352, Train Acc:76.25\n",
            "validation start\n"
          ]
        },
        {
          "output_type": "stream",
          "name": "stderr",
          "text": [
            "\n",
            "15it [00:00, 80.17it/s]              \n"
          ]
        },
        {
          "output_type": "stream",
          "name": "stdout",
          "text": [
            "Val Loss:0.1089, Val_Acc:83.33\n",
            "loss 0.1602 - accu 70.4405 - val_loss 0.1227 - val_accu 78.2143\n",
            "=> saved best model\n",
            "Epoch [70/500]\n"
          ]
        },
        {
          "output_type": "stream",
          "name": "stderr",
          "text": [
            "100%|██████████| 60/60 [00:00<00:00, 104.08it/s]"
          ]
        },
        {
          "output_type": "stream",
          "name": "stdout",
          "text": [
            "Train Loss:0.1242, Train Acc:78.75\n",
            "validation start\n"
          ]
        },
        {
          "output_type": "stream",
          "name": "stderr",
          "text": [
            "\n",
            "15it [00:00, 85.87it/s]              \n"
          ]
        },
        {
          "output_type": "stream",
          "name": "stdout",
          "text": [
            "Val Loss:0.1091, Val_Acc:83.33\n",
            "loss 0.1596 - accu 70.5575 - val_loss 0.1225 - val_accu 78.2864\n",
            "=> saved best model\n",
            "Epoch [71/500]\n"
          ]
        },
        {
          "output_type": "stream",
          "name": "stderr",
          "text": [
            "100%|██████████| 60/60 [00:00<00:00, 96.03it/s] "
          ]
        },
        {
          "output_type": "stream",
          "name": "stdout",
          "text": [
            "Train Loss:0.1391, Train Acc:74.58\n",
            "validation start\n"
          ]
        },
        {
          "output_type": "stream",
          "name": "stderr",
          "text": [
            "\n",
            "15it [00:00, 69.82it/s]              "
          ]
        },
        {
          "output_type": "stream",
          "name": "stdout",
          "text": [
            "Val Loss:0.1148, Val_Acc:73.33\n",
            "loss 0.1594 - accu 70.6134 - val_loss 0.1224 - val_accu 78.2176\n",
            "Epoch [72/500]\n"
          ]
        },
        {
          "output_type": "stream",
          "name": "stderr",
          "text": [
            "\n",
            "100%|██████████| 60/60 [00:00<00:00, 94.53it/s] "
          ]
        },
        {
          "output_type": "stream",
          "name": "stdout",
          "text": [
            "Train Loss:0.1270, Train Acc:75.83\n",
            "validation start\n"
          ]
        },
        {
          "output_type": "stream",
          "name": "stderr",
          "text": [
            "\n",
            "15it [00:00, 71.43it/s]              "
          ]
        },
        {
          "output_type": "stream",
          "name": "stdout",
          "text": [
            "Val Loss:0.1063, Val_Acc:85.00\n",
            "loss 0.1589 - accu 70.6849 - val_loss 0.1222 - val_accu 78.3105\n",
            "=> saved best model\n",
            "Epoch [73/500]\n"
          ]
        },
        {
          "output_type": "stream",
          "name": "stderr",
          "text": [
            "\n",
            "100%|██████████| 60/60 [00:00<00:00, 98.51it/s] "
          ]
        },
        {
          "output_type": "stream",
          "name": "stdout",
          "text": [
            "Train Loss:0.1171, Train Acc:80.83\n",
            "validation start\n"
          ]
        },
        {
          "output_type": "stream",
          "name": "stderr",
          "text": [
            "\n",
            "15it [00:00, 76.61it/s]              "
          ]
        },
        {
          "output_type": "stream",
          "name": "stdout",
          "text": [
            "Val Loss:0.1336, Val_Acc:83.33\n",
            "loss 0.1584 - accu 70.8221 - val_loss 0.1223 - val_accu 78.3784\n",
            "=> saved best model\n",
            "Epoch [74/500]\n"
          ]
        },
        {
          "output_type": "stream",
          "name": "stderr",
          "text": [
            "\n",
            "100%|██████████| 60/60 [00:00<00:00, 97.16it/s] "
          ]
        },
        {
          "output_type": "stream",
          "name": "stdout",
          "text": [
            "Train Loss:0.1331, Train Acc:77.08\n",
            "validation start\n"
          ]
        },
        {
          "output_type": "stream",
          "name": "stderr",
          "text": [
            "\n",
            "15it [00:00, 80.78it/s]              \n"
          ]
        },
        {
          "output_type": "stream",
          "name": "stdout",
          "text": [
            "Val Loss:0.1078, Val_Acc:78.33\n",
            "loss 0.1580 - accu 70.9056 - val_loss 0.1221 - val_accu 78.3778\n",
            "Epoch [75/500]\n"
          ]
        },
        {
          "output_type": "stream",
          "name": "stderr",
          "text": [
            "100%|██████████| 60/60 [00:00<00:00, 93.84it/s] "
          ]
        },
        {
          "output_type": "stream",
          "name": "stdout",
          "text": [
            "Train Loss:0.1444, Train Acc:72.08\n",
            "validation start\n"
          ]
        },
        {
          "output_type": "stream",
          "name": "stderr",
          "text": [
            "\n",
            "15it [00:00, 57.53it/s]              "
          ]
        },
        {
          "output_type": "stream",
          "name": "stdout",
          "text": [
            "Val Loss:0.1218, Val_Acc:70.00\n",
            "loss 0.1578 - accu 70.9211 - val_loss 0.1221 - val_accu 78.2675\n",
            "Epoch [76/500]\n"
          ]
        },
        {
          "output_type": "stream",
          "name": "stderr",
          "text": [
            "\n",
            "100%|██████████| 60/60 [00:00<00:00, 66.16it/s]"
          ]
        },
        {
          "output_type": "stream",
          "name": "stdout",
          "text": [
            "Train Loss:0.1449, Train Acc:73.33\n",
            "validation start\n"
          ]
        },
        {
          "output_type": "stream",
          "name": "stderr",
          "text": [
            "\n",
            "15it [00:00, 72.26it/s]              "
          ]
        },
        {
          "output_type": "stream",
          "name": "stdout",
          "text": [
            "Val Loss:0.1112, Val_Acc:78.33\n",
            "loss 0.1577 - accu 70.9524 - val_loss 0.1220 - val_accu 78.2684\n",
            "Epoch [77/500]\n"
          ]
        },
        {
          "output_type": "stream",
          "name": "stderr",
          "text": [
            "\n",
            "100%|██████████| 60/60 [00:00<00:00, 88.12it/s] "
          ]
        },
        {
          "output_type": "stream",
          "name": "stdout",
          "text": [
            "Train Loss:0.1334, Train Acc:73.75\n",
            "validation start\n"
          ]
        },
        {
          "output_type": "stream",
          "name": "stderr",
          "text": [
            "\n",
            "15it [00:00, 71.84it/s]              "
          ]
        },
        {
          "output_type": "stream",
          "name": "stdout",
          "text": [
            "Val Loss:0.1191, Val_Acc:86.67\n",
            "loss 0.1574 - accu 70.9882 - val_loss 0.1219 - val_accu 78.3761\n",
            "Epoch [78/500]\n"
          ]
        },
        {
          "output_type": "stream",
          "name": "stderr",
          "text": [
            "\n",
            "100%|██████████| 60/60 [00:00<00:00, 95.25it/s] "
          ]
        },
        {
          "output_type": "stream",
          "name": "stdout",
          "text": [
            "Train Loss:0.1383, Train Acc:75.42\n",
            "validation start\n"
          ]
        },
        {
          "output_type": "stream",
          "name": "stderr",
          "text": [
            "\n",
            "15it [00:00, 71.08it/s]              "
          ]
        },
        {
          "output_type": "stream",
          "name": "stdout",
          "text": [
            "Val Loss:0.1121, Val_Acc:83.33\n",
            "loss 0.1571 - accu 71.0443 - val_loss 0.1218 - val_accu 78.4388\n",
            "=> saved best model\n",
            "Epoch [79/500]\n"
          ]
        },
        {
          "output_type": "stream",
          "name": "stderr",
          "text": [
            "\n",
            "100%|██████████| 60/60 [00:00<00:00, 93.82it/s] "
          ]
        },
        {
          "output_type": "stream",
          "name": "stdout",
          "text": [
            "Train Loss:0.1374, Train Acc:76.67\n",
            "validation start\n"
          ]
        },
        {
          "output_type": "stream",
          "name": "stderr",
          "text": [
            "\n",
            "15it [00:00, 70.88it/s]              "
          ]
        },
        {
          "output_type": "stream",
          "name": "stdout",
          "text": [
            "Val Loss:0.1127, Val_Acc:78.33\n",
            "loss 0.1569 - accu 71.1146 - val_loss 0.1217 - val_accu 78.4375\n",
            "Epoch [80/500]\n"
          ]
        },
        {
          "output_type": "stream",
          "name": "stderr",
          "text": [
            "\n",
            "100%|██████████| 60/60 [00:00<00:00, 91.03it/s] "
          ]
        },
        {
          "output_type": "stream",
          "name": "stdout",
          "text": [
            "Train Loss:0.1404, Train Acc:75.83\n",
            "validation start\n"
          ]
        },
        {
          "output_type": "stream",
          "name": "stderr",
          "text": [
            "\n",
            "15it [00:00, 72.84it/s]              "
          ]
        },
        {
          "output_type": "stream",
          "name": "stdout",
          "text": [
            "Val Loss:0.1128, Val_Acc:80.00\n",
            "loss 0.1567 - accu 71.1728 - val_loss 0.1216 - val_accu 78.4568\n",
            "=> saved best model\n",
            "Epoch [81/500]\n"
          ]
        },
        {
          "output_type": "stream",
          "name": "stderr",
          "text": [
            "\n",
            "100%|██████████| 60/60 [00:00<00:00, 88.51it/s] "
          ]
        },
        {
          "output_type": "stream",
          "name": "stdout",
          "text": [
            "Train Loss:0.1368, Train Acc:72.50\n",
            "validation start\n"
          ]
        },
        {
          "output_type": "stream",
          "name": "stderr",
          "text": [
            "\n",
            "15it [00:00, 82.29it/s]              \n"
          ]
        },
        {
          "output_type": "stream",
          "name": "stdout",
          "text": [
            "Val Loss:0.1123, Val_Acc:76.67\n",
            "loss 0.1564 - accu 71.1890 - val_loss 0.1215 - val_accu 78.4350\n",
            "Epoch [82/500]\n"
          ]
        },
        {
          "output_type": "stream",
          "name": "stderr",
          "text": [
            "100%|██████████| 60/60 [00:00<00:00, 96.52it/s] "
          ]
        },
        {
          "output_type": "stream",
          "name": "stdout",
          "text": [
            "Train Loss:0.1279, Train Acc:78.33\n",
            "validation start\n"
          ]
        },
        {
          "output_type": "stream",
          "name": "stderr",
          "text": [
            "\n",
            "15it [00:00, 75.80it/s]              "
          ]
        },
        {
          "output_type": "stream",
          "name": "stdout",
          "text": [
            "Val Loss:0.1110, Val_Acc:91.67\n",
            "loss 0.1561 - accu 71.2751 - val_loss 0.1213 - val_accu 78.5944\n",
            "=> saved best model\n",
            "Epoch [83/500]\n"
          ]
        },
        {
          "output_type": "stream",
          "name": "stderr",
          "text": [
            "\n",
            "100%|██████████| 60/60 [00:00<00:00, 90.19it/s] "
          ]
        },
        {
          "output_type": "stream",
          "name": "stdout",
          "text": [
            "Train Loss:0.1335, Train Acc:75.42\n",
            "validation start\n"
          ]
        },
        {
          "output_type": "stream",
          "name": "stderr",
          "text": [
            "\n",
            "15it [00:00, 72.26it/s]              "
          ]
        },
        {
          "output_type": "stream",
          "name": "stdout",
          "text": [
            "Val Loss:0.1146, Val_Acc:85.00\n",
            "loss 0.1558 - accu 71.3244 - val_loss 0.1213 - val_accu 78.6706\n",
            "=> saved best model\n",
            "Epoch [84/500]\n"
          ]
        },
        {
          "output_type": "stream",
          "name": "stderr",
          "text": [
            "\n",
            "100%|██████████| 60/60 [00:00<00:00, 87.95it/s] "
          ]
        },
        {
          "output_type": "stream",
          "name": "stdout",
          "text": [
            "Train Loss:0.1267, Train Acc:77.08\n",
            "validation start\n"
          ]
        },
        {
          "output_type": "stream",
          "name": "stderr",
          "text": [
            "\n",
            "15it [00:00, 81.43it/s]              \n"
          ]
        },
        {
          "output_type": "stream",
          "name": "stdout",
          "text": [
            "Val Loss:0.1129, Val_Acc:81.67\n",
            "loss 0.1555 - accu 71.3922 - val_loss 0.1212 - val_accu 78.7059\n",
            "=> saved best model\n",
            "Epoch [85/500]\n"
          ]
        },
        {
          "output_type": "stream",
          "name": "stderr",
          "text": [
            "100%|██████████| 60/60 [00:00<00:00, 90.50it/s] "
          ]
        },
        {
          "output_type": "stream",
          "name": "stdout",
          "text": [
            "Train Loss:0.1253, Train Acc:75.83\n",
            "validation start\n"
          ]
        },
        {
          "output_type": "stream",
          "name": "stderr",
          "text": [
            "\n",
            "15it [00:00, 65.28it/s] "
          ]
        },
        {
          "output_type": "stream",
          "name": "stdout",
          "text": [
            "Val Loss:0.1208, Val_Acc:83.33\n",
            "loss 0.1551 - accu 71.4438 - val_loss 0.1212 - val_accu 78.7597\n",
            "=> saved best model\n",
            "Epoch [86/500]\n"
          ]
        },
        {
          "output_type": "stream",
          "name": "stderr",
          "text": [
            "\n",
            "100%|██████████| 60/60 [00:00<00:00, 90.57it/s] "
          ]
        },
        {
          "output_type": "stream",
          "name": "stdout",
          "text": [
            "Train Loss:0.1303, Train Acc:77.50\n",
            "validation start\n"
          ]
        },
        {
          "output_type": "stream",
          "name": "stderr",
          "text": [
            "\n",
            "15it [00:00, 84.28it/s]              "
          ]
        },
        {
          "output_type": "stream",
          "name": "stdout",
          "text": [
            "Val Loss:0.1120, Val_Acc:88.33\n",
            "loss 0.1548 - accu 71.5134 - val_loss 0.1211 - val_accu 78.8697\n",
            "=> saved best model\n",
            "Epoch [87/500]\n"
          ]
        },
        {
          "output_type": "stream",
          "name": "stderr",
          "text": [
            "\n",
            "100%|██████████| 60/60 [00:00<00:00, 95.16it/s] "
          ]
        },
        {
          "output_type": "stream",
          "name": "stdout",
          "text": [
            "Train Loss:0.1223, Train Acc:74.58\n",
            "validation start\n"
          ]
        },
        {
          "output_type": "stream",
          "name": "stderr",
          "text": [
            "\n",
            "15it [00:00, 74.82it/s]              "
          ]
        },
        {
          "output_type": "stream",
          "name": "stdout",
          "text": [
            "Val Loss:0.1098, Val_Acc:80.00\n",
            "loss 0.1545 - accu 71.5483 - val_loss 0.1209 - val_accu 78.8826\n",
            "=> saved best model\n",
            "Epoch [88/500]\n"
          ]
        },
        {
          "output_type": "stream",
          "name": "stderr",
          "text": [
            "\n",
            "100%|██████████| 60/60 [00:00<00:00, 89.45it/s] "
          ]
        },
        {
          "output_type": "stream",
          "name": "stdout",
          "text": [
            "Train Loss:0.1292, Train Acc:76.67\n",
            "validation start\n"
          ]
        },
        {
          "output_type": "stream",
          "name": "stderr",
          "text": [
            "\n",
            "15it [00:00, 71.44it/s]              "
          ]
        },
        {
          "output_type": "stream",
          "name": "stdout",
          "text": [
            "Val Loss:0.1078, Val_Acc:83.33\n",
            "loss 0.1542 - accu 71.6058 - val_loss 0.1208 - val_accu 78.9326\n",
            "=> saved best model\n",
            "Epoch [89/500]\n"
          ]
        },
        {
          "output_type": "stream",
          "name": "stderr",
          "text": [
            "\n",
            "100%|██████████| 60/60 [00:00<00:00, 87.12it/s] "
          ]
        },
        {
          "output_type": "stream",
          "name": "stdout",
          "text": [
            "Train Loss:0.1320, Train Acc:77.50\n",
            "validation start\n"
          ]
        },
        {
          "output_type": "stream",
          "name": "stderr",
          "text": [
            "\n",
            "15it [00:00, 76.66it/s]              "
          ]
        },
        {
          "output_type": "stream",
          "name": "stdout",
          "text": [
            "Val Loss:0.1092, Val_Acc:85.00\n",
            "loss 0.1539 - accu 71.6713 - val_loss 0.1207 - val_accu 79.0000\n",
            "=> saved best model\n",
            "Epoch [90/500]\n"
          ]
        },
        {
          "output_type": "stream",
          "name": "stderr",
          "text": [
            "\n",
            "100%|██████████| 60/60 [00:00<00:00, 97.68it/s] "
          ]
        },
        {
          "output_type": "stream",
          "name": "stdout",
          "text": [
            "Train Loss:0.1313, Train Acc:78.33\n",
            "validation start\n"
          ]
        },
        {
          "output_type": "stream",
          "name": "stderr",
          "text": [
            "\n",
            "15it [00:00, 45.19it/s]"
          ]
        },
        {
          "output_type": "stream",
          "name": "stdout",
          "text": [
            "Val Loss:0.1084, Val_Acc:83.33\n",
            "loss 0.1537 - accu 71.7445 - val_loss 0.1205 - val_accu 79.0476\n",
            "=> saved best model\n",
            "Epoch [91/500]\n"
          ]
        },
        {
          "output_type": "stream",
          "name": "stderr",
          "text": [
            "\n",
            "100%|██████████| 60/60 [00:00<00:00, 85.70it/s] "
          ]
        },
        {
          "output_type": "stream",
          "name": "stdout",
          "text": [
            "Train Loss:0.1345, Train Acc:76.67\n",
            "validation start\n"
          ]
        },
        {
          "output_type": "stream",
          "name": "stderr",
          "text": [
            "\n",
            "15it [00:00, 65.78it/s] "
          ]
        },
        {
          "output_type": "stream",
          "name": "stdout",
          "text": [
            "Val Loss:0.1119, Val_Acc:76.67\n",
            "loss 0.1535 - accu 71.7980 - val_loss 0.1204 - val_accu 79.0217\n",
            "Epoch [92/500]\n"
          ]
        },
        {
          "output_type": "stream",
          "name": "stderr",
          "text": [
            "\n",
            "100%|██████████| 60/60 [00:00<00:00, 82.79it/s]\n"
          ]
        },
        {
          "output_type": "stream",
          "name": "stdout",
          "text": [
            "Train Loss:0.1292, Train Acc:76.67\n",
            "validation start\n"
          ]
        },
        {
          "output_type": "stream",
          "name": "stderr",
          "text": [
            "15it [00:00, 65.88it/s]              "
          ]
        },
        {
          "output_type": "stream",
          "name": "stdout",
          "text": [
            "Val Loss:0.1068, Val_Acc:85.00\n",
            "loss 0.1532 - accu 71.8504 - val_loss 0.1203 - val_accu 79.0860\n",
            "=> saved best model\n",
            "Epoch [93/500]\n"
          ]
        },
        {
          "output_type": "stream",
          "name": "stderr",
          "text": [
            "\n",
            "100%|██████████| 60/60 [00:00<00:00, 93.08it/s] "
          ]
        },
        {
          "output_type": "stream",
          "name": "stdout",
          "text": [
            "Train Loss:0.1325, Train Acc:78.33\n",
            "validation start\n"
          ]
        },
        {
          "output_type": "stream",
          "name": "stderr",
          "text": [
            "\n",
            "15it [00:00, 73.01it/s]              "
          ]
        },
        {
          "output_type": "stream",
          "name": "stdout",
          "text": [
            "Val Loss:0.1090, Val_Acc:83.33\n",
            "loss 0.1530 - accu 71.9193 - val_loss 0.1202 - val_accu 79.1312\n",
            "=> saved best model\n",
            "Epoch [94/500]\n"
          ]
        },
        {
          "output_type": "stream",
          "name": "stderr",
          "text": [
            "\n",
            "100%|██████████| 60/60 [00:00<00:00, 84.74it/s]"
          ]
        },
        {
          "output_type": "stream",
          "name": "stdout",
          "text": [
            "Train Loss:0.1252, Train Acc:77.92\n",
            "validation start\n"
          ]
        },
        {
          "output_type": "stream",
          "name": "stderr",
          "text": [
            "\n",
            "15it [00:00, 77.12it/s]              "
          ]
        },
        {
          "output_type": "stream",
          "name": "stdout",
          "text": [
            "Val Loss:0.1106, Val_Acc:83.33\n",
            "loss 0.1527 - accu 71.9825 - val_loss 0.1201 - val_accu 79.1754\n",
            "=> saved best model\n",
            "Epoch [95/500]\n"
          ]
        },
        {
          "output_type": "stream",
          "name": "stderr",
          "text": [
            "\n",
            "100%|██████████| 60/60 [00:00<00:00, 88.44it/s] "
          ]
        },
        {
          "output_type": "stream",
          "name": "stdout",
          "text": [
            "Train Loss:0.1276, Train Acc:78.33\n",
            "validation start\n"
          ]
        },
        {
          "output_type": "stream",
          "name": "stderr",
          "text": [
            "\n",
            "15it [00:00, 70.55it/s]              "
          ]
        },
        {
          "output_type": "stream",
          "name": "stdout",
          "text": [
            "Val Loss:0.1100, Val_Acc:83.33\n",
            "loss 0.1524 - accu 72.0486 - val_loss 0.1200 - val_accu 79.2188\n",
            "=> saved best model\n",
            "Epoch [96/500]\n"
          ]
        },
        {
          "output_type": "stream",
          "name": "stderr",
          "text": [
            "\n",
            "100%|██████████| 60/60 [00:00<00:00, 84.85it/s]"
          ]
        },
        {
          "output_type": "stream",
          "name": "stdout",
          "text": [
            "Train Loss:0.1259, Train Acc:76.67\n",
            "validation start\n"
          ]
        },
        {
          "output_type": "stream",
          "name": "stderr",
          "text": [
            "\n",
            "15it [00:00, 72.69it/s]              "
          ]
        },
        {
          "output_type": "stream",
          "name": "stdout",
          "text": [
            "Val Loss:0.1091, Val_Acc:78.33\n",
            "loss 0.1522 - accu 72.0962 - val_loss 0.1198 - val_accu 79.2096\n",
            "Epoch [97/500]\n"
          ]
        },
        {
          "output_type": "stream",
          "name": "stderr",
          "text": [
            "\n",
            "100%|██████████| 60/60 [00:00<00:00, 89.89it/s] "
          ]
        },
        {
          "output_type": "stream",
          "name": "stdout",
          "text": [
            "Train Loss:0.1186, Train Acc:80.00\n",
            "validation start\n"
          ]
        },
        {
          "output_type": "stream",
          "name": "stderr",
          "text": [
            "\n",
            "15it [00:00, 70.21it/s]              "
          ]
        },
        {
          "output_type": "stream",
          "name": "stdout",
          "text": [
            "Val Loss:0.1117, Val_Acc:78.33\n",
            "loss 0.1518 - accu 72.1769 - val_loss 0.1198 - val_accu 79.2007\n",
            "Epoch [98/500]\n"
          ]
        },
        {
          "output_type": "stream",
          "name": "stderr",
          "text": [
            "\n",
            "100%|██████████| 60/60 [00:00<00:00, 87.95it/s] "
          ]
        },
        {
          "output_type": "stream",
          "name": "stdout",
          "text": [
            "Train Loss:0.1226, Train Acc:77.08\n",
            "validation start\n"
          ]
        },
        {
          "output_type": "stream",
          "name": "stderr",
          "text": [
            "\n",
            "15it [00:00, 59.06it/s]"
          ]
        },
        {
          "output_type": "stream",
          "name": "stdout",
          "text": [
            "Val Loss:0.1114, Val_Acc:88.33\n",
            "loss 0.1515 - accu 72.2264 - val_loss 0.1197 - val_accu 79.2929\n",
            "=> saved best model\n",
            "Epoch [99/500]\n"
          ]
        },
        {
          "output_type": "stream",
          "name": "stderr",
          "text": [
            "\n",
            "100%|██████████| 60/60 [00:00<00:00, 86.26it/s] "
          ]
        },
        {
          "output_type": "stream",
          "name": "stdout",
          "text": [
            "Train Loss:0.1230, Train Acc:77.50\n",
            "validation start\n"
          ]
        },
        {
          "output_type": "stream",
          "name": "stderr",
          "text": [
            "\n",
            "15it [00:00, 57.28it/s] "
          ]
        },
        {
          "output_type": "stream",
          "name": "stdout",
          "text": [
            "Val Loss:0.1075, Val_Acc:85.00\n",
            "loss 0.1512 - accu 72.2792 - val_loss 0.1196 - val_accu 79.3500\n",
            "=> saved best model\n",
            "Epoch [100/500]\n"
          ]
        },
        {
          "output_type": "stream",
          "name": "stderr",
          "text": [
            "\n",
            "100%|██████████| 60/60 [00:00<00:00, 83.98it/s]"
          ]
        },
        {
          "output_type": "stream",
          "name": "stdout",
          "text": [
            "Train Loss:0.1276, Train Acc:78.75\n",
            "validation start\n"
          ]
        },
        {
          "output_type": "stream",
          "name": "stderr",
          "text": [
            "\n",
            "15it [00:00, 71.53it/s]              "
          ]
        },
        {
          "output_type": "stream",
          "name": "stdout",
          "text": [
            "Val Loss:0.1087, Val_Acc:85.00\n",
            "loss 0.1510 - accu 72.3432 - val_loss 0.1194 - val_accu 79.4059\n",
            "=> saved best model\n",
            "Epoch [101/500]\n"
          ]
        },
        {
          "output_type": "stream",
          "name": "stderr",
          "text": [
            "\n",
            "100%|██████████| 60/60 [00:00<00:00, 85.90it/s] "
          ]
        },
        {
          "output_type": "stream",
          "name": "stdout",
          "text": [
            "Train Loss:0.1264, Train Acc:77.08\n",
            "validation start\n"
          ]
        },
        {
          "output_type": "stream",
          "name": "stderr",
          "text": [
            "\n",
            "15it [00:00, 63.69it/s]"
          ]
        },
        {
          "output_type": "stream",
          "name": "stdout",
          "text": [
            "Val Loss:0.1068, Val_Acc:85.00\n",
            "loss 0.1508 - accu 72.3897 - val_loss 0.1193 - val_accu 79.4608\n",
            "=> saved best model\n",
            "Epoch [102/500]\n"
          ]
        },
        {
          "output_type": "stream",
          "name": "stderr",
          "text": [
            "\n",
            "100%|██████████| 60/60 [00:00<00:00, 88.57it/s] "
          ]
        },
        {
          "output_type": "stream",
          "name": "stdout",
          "text": [
            "Train Loss:0.1310, Train Acc:75.00\n",
            "validation start\n"
          ]
        },
        {
          "output_type": "stream",
          "name": "stderr",
          "text": [
            "\n",
            "15it [00:00, 71.67it/s]              "
          ]
        },
        {
          "output_type": "stream",
          "name": "stdout",
          "text": [
            "Val Loss:0.1127, Val_Acc:83.33\n",
            "loss 0.1506 - accu 72.4150 - val_loss 0.1193 - val_accu 79.4984\n",
            "=> saved best model\n",
            "Epoch [103/500]\n"
          ]
        },
        {
          "output_type": "stream",
          "name": "stderr",
          "text": [
            "\n",
            "100%|██████████| 60/60 [00:00<00:00, 96.83it/s] "
          ]
        },
        {
          "output_type": "stream",
          "name": "stdout",
          "text": [
            "Train Loss:0.1312, Train Acc:77.50\n",
            "validation start\n"
          ]
        },
        {
          "output_type": "stream",
          "name": "stderr",
          "text": [
            "\n",
            "15it [00:00, 71.39it/s]              "
          ]
        },
        {
          "output_type": "stream",
          "name": "stdout",
          "text": [
            "Val Loss:0.1065, Val_Acc:85.00\n",
            "loss 0.1504 - accu 72.4639 - val_loss 0.1191 - val_accu 79.5513\n",
            "=> saved best model\n",
            "Epoch [104/500]\n"
          ]
        },
        {
          "output_type": "stream",
          "name": "stderr",
          "text": [
            "\n",
            "100%|██████████| 60/60 [00:00<00:00, 87.14it/s] "
          ]
        },
        {
          "output_type": "stream",
          "name": "stdout",
          "text": [
            "Train Loss:0.1226, Train Acc:77.92\n",
            "validation start\n"
          ]
        },
        {
          "output_type": "stream",
          "name": "stderr",
          "text": [
            "\n",
            "15it [00:00, 77.77it/s]              \n"
          ]
        },
        {
          "output_type": "stream",
          "name": "stdout",
          "text": [
            "Val Loss:0.1122, Val_Acc:88.33\n",
            "loss 0.1501 - accu 72.5159 - val_loss 0.1191 - val_accu 79.6349\n",
            "=> saved best model\n",
            "Epoch [105/500]\n"
          ]
        },
        {
          "output_type": "stream",
          "name": "stderr",
          "text": [
            "100%|██████████| 60/60 [00:00<00:00, 86.53it/s]"
          ]
        },
        {
          "output_type": "stream",
          "name": "stdout",
          "text": [
            "Train Loss:0.1229, Train Acc:80.42\n",
            "validation start\n"
          ]
        },
        {
          "output_type": "stream",
          "name": "stderr",
          "text": [
            "\n",
            "15it [00:00, 71.75it/s]              "
          ]
        },
        {
          "output_type": "stream",
          "name": "stdout",
          "text": [
            "Val Loss:0.1238, Val_Acc:85.00\n",
            "loss 0.1499 - accu 72.5904 - val_loss 0.1191 - val_accu 79.6855\n",
            "=> saved best model\n",
            "Epoch [106/500]\n"
          ]
        },
        {
          "output_type": "stream",
          "name": "stderr",
          "text": [
            "\n",
            "100%|██████████| 60/60 [00:00<00:00, 87.48it/s]"
          ]
        },
        {
          "output_type": "stream",
          "name": "stdout",
          "text": [
            "Train Loss:0.1345, Train Acc:75.42\n",
            "validation start\n"
          ]
        },
        {
          "output_type": "stream",
          "name": "stderr",
          "text": [
            "\n",
            "15it [00:00, 78.72it/s]              \n"
          ]
        },
        {
          "output_type": "stream",
          "name": "stdout",
          "text": [
            "Val Loss:0.1079, Val_Acc:83.33\n",
            "loss 0.1497 - accu 72.6168 - val_loss 0.1190 - val_accu 79.7196\n",
            "=> saved best model\n",
            "Epoch [107/500]\n"
          ]
        },
        {
          "output_type": "stream",
          "name": "stderr",
          "text": [
            "100%|██████████| 60/60 [00:00<00:00, 95.99it/s] "
          ]
        },
        {
          "output_type": "stream",
          "name": "stdout",
          "text": [
            "Train Loss:0.1222, Train Acc:77.50\n",
            "validation start\n"
          ]
        },
        {
          "output_type": "stream",
          "name": "stderr",
          "text": [
            "\n",
            "15it [00:00, 67.54it/s]              "
          ]
        },
        {
          "output_type": "stream",
          "name": "stdout",
          "text": [
            "Val Loss:0.1077, Val_Acc:81.67\n",
            "loss 0.1495 - accu 72.6620 - val_loss 0.1189 - val_accu 79.7377\n",
            "=> saved best model\n",
            "Epoch [108/500]\n"
          ]
        },
        {
          "output_type": "stream",
          "name": "stderr",
          "text": [
            "\n",
            "100%|██████████| 60/60 [00:00<00:00, 87.47it/s] "
          ]
        },
        {
          "output_type": "stream",
          "name": "stdout",
          "text": [
            "Train Loss:0.1314, Train Acc:77.08\n",
            "validation start\n"
          ]
        },
        {
          "output_type": "stream",
          "name": "stderr",
          "text": [
            "\n",
            "15it [00:00, 73.89it/s]              "
          ]
        },
        {
          "output_type": "stream",
          "name": "stdout",
          "text": [
            "Val Loss:0.1181, Val_Acc:75.00\n",
            "loss 0.1493 - accu 72.7026 - val_loss 0.1189 - val_accu 79.6942\n",
            "Epoch [109/500]\n"
          ]
        },
        {
          "output_type": "stream",
          "name": "stderr",
          "text": [
            "\n",
            "100%|██████████| 60/60 [00:00<00:00, 88.85it/s] "
          ]
        },
        {
          "output_type": "stream",
          "name": "stdout",
          "text": [
            "Train Loss:0.1232, Train Acc:75.83\n",
            "validation start\n"
          ]
        },
        {
          "output_type": "stream",
          "name": "stderr",
          "text": [
            "\n",
            "15it [00:00, 66.90it/s]              "
          ]
        },
        {
          "output_type": "stream",
          "name": "stdout",
          "text": [
            "Val Loss:0.1118, Val_Acc:85.00\n",
            "loss 0.1491 - accu 72.7311 - val_loss 0.1188 - val_accu 79.7424\n",
            "=> saved best model\n",
            "Epoch [110/500]\n"
          ]
        },
        {
          "output_type": "stream",
          "name": "stderr",
          "text": [
            "\n",
            "100%|██████████| 60/60 [00:00<00:00, 81.43it/s]"
          ]
        },
        {
          "output_type": "stream",
          "name": "stdout",
          "text": [
            "Train Loss:0.1198, Train Acc:80.42\n",
            "validation start\n"
          ]
        },
        {
          "output_type": "stream",
          "name": "stderr",
          "text": [
            "\n",
            "15it [00:00, 63.66it/s]"
          ]
        },
        {
          "output_type": "stream",
          "name": "stdout",
          "text": [
            "Val Loss:0.1057, Val_Acc:83.33\n",
            "loss 0.1488 - accu 72.8003 - val_loss 0.1187 - val_accu 79.7748\n",
            "=> saved best model\n",
            "Epoch [111/500]\n"
          ]
        },
        {
          "output_type": "stream",
          "name": "stderr",
          "text": [
            "\n",
            "100%|██████████| 60/60 [00:00<00:00, 85.57it/s]"
          ]
        },
        {
          "output_type": "stream",
          "name": "stdout",
          "text": [
            "Train Loss:0.1277, Train Acc:77.50\n",
            "validation start\n"
          ]
        },
        {
          "output_type": "stream",
          "name": "stderr",
          "text": [
            "\n",
            "15it [00:00, 64.32it/s]"
          ]
        },
        {
          "output_type": "stream",
          "name": "stdout",
          "text": [
            "Val Loss:0.1109, Val_Acc:80.00\n",
            "loss 0.1486 - accu 72.8423 - val_loss 0.1186 - val_accu 79.7768\n",
            "=> saved best model\n",
            "Epoch [112/500]\n"
          ]
        },
        {
          "output_type": "stream",
          "name": "stderr",
          "text": [
            "\n",
            "100%|██████████| 60/60 [00:00<00:00, 88.34it/s] "
          ]
        },
        {
          "output_type": "stream",
          "name": "stdout",
          "text": [
            "Train Loss:0.1339, Train Acc:75.00\n",
            "validation start\n"
          ]
        },
        {
          "output_type": "stream",
          "name": "stderr",
          "text": [
            "\n",
            "15it [00:00, 67.19it/s]              "
          ]
        },
        {
          "output_type": "stream",
          "name": "stdout",
          "text": [
            "Val Loss:0.1336, Val_Acc:81.67\n",
            "loss 0.1485 - accu 72.8614 - val_loss 0.1188 - val_accu 79.7935\n",
            "=> saved best model\n",
            "Epoch [113/500]\n"
          ]
        },
        {
          "output_type": "stream",
          "name": "stderr",
          "text": [
            "\n",
            "100%|██████████| 60/60 [00:00<00:00, 87.91it/s] "
          ]
        },
        {
          "output_type": "stream",
          "name": "stdout",
          "text": [
            "Train Loss:0.1265, Train Acc:80.83\n",
            "validation start\n"
          ]
        },
        {
          "output_type": "stream",
          "name": "stderr",
          "text": [
            "\n",
            "15it [00:00, 64.19it/s] "
          ]
        },
        {
          "output_type": "stream",
          "name": "stdout",
          "text": [
            "Val Loss:0.1078, Val_Acc:81.67\n",
            "loss 0.1483 - accu 72.9313 - val_loss 0.1187 - val_accu 79.8099\n",
            "=> saved best model\n",
            "Epoch [114/500]\n"
          ]
        },
        {
          "output_type": "stream",
          "name": "stderr",
          "text": [
            "\n",
            "100%|██████████| 60/60 [00:00<00:00, 80.47it/s]"
          ]
        },
        {
          "output_type": "stream",
          "name": "stdout",
          "text": [
            "Train Loss:0.1198, Train Acc:77.50\n",
            "validation start\n"
          ]
        },
        {
          "output_type": "stream",
          "name": "stderr",
          "text": [
            "\n",
            "15it [00:00, 67.21it/s]              "
          ]
        },
        {
          "output_type": "stream",
          "name": "stdout",
          "text": [
            "Val Loss:0.1111, Val_Acc:83.33\n",
            "loss 0.1480 - accu 72.9710 - val_loss 0.1186 - val_accu 79.8406\n",
            "=> saved best model\n",
            "Epoch [115/500]\n"
          ]
        },
        {
          "output_type": "stream",
          "name": "stderr",
          "text": [
            "\n",
            "100%|██████████| 60/60 [00:00<00:00, 86.12it/s] "
          ]
        },
        {
          "output_type": "stream",
          "name": "stdout",
          "text": [
            "Train Loss:0.1237, Train Acc:77.92\n",
            "validation start\n"
          ]
        },
        {
          "output_type": "stream",
          "name": "stderr",
          "text": [
            "\n",
            "15it [00:00, 61.46it/s] "
          ]
        },
        {
          "output_type": "stream",
          "name": "stdout",
          "text": [
            "Val Loss:0.1122, Val_Acc:83.33\n",
            "loss 0.1478 - accu 73.0136 - val_loss 0.1186 - val_accu 79.8707\n",
            "=> saved best model\n",
            "Epoch [116/500]\n"
          ]
        },
        {
          "output_type": "stream",
          "name": "stderr",
          "text": [
            "\n",
            "100%|██████████| 60/60 [00:00<00:00, 85.05it/s] "
          ]
        },
        {
          "output_type": "stream",
          "name": "stdout",
          "text": [
            "Train Loss:0.1293, Train Acc:72.92\n",
            "validation start\n"
          ]
        },
        {
          "output_type": "stream",
          "name": "stderr",
          "text": [
            "\n",
            "15it [00:00, 64.38it/s] "
          ]
        },
        {
          "output_type": "stream",
          "name": "stdout",
          "text": [
            "Val Loss:0.1041, Val_Acc:83.33\n",
            "loss 0.1477 - accu 73.0128 - val_loss 0.1184 - val_accu 79.9003\n",
            "=> saved best model\n",
            "Epoch [117/500]\n"
          ]
        },
        {
          "output_type": "stream",
          "name": "stderr",
          "text": [
            "\n",
            "100%|██████████| 60/60 [00:00<00:00, 85.75it/s] "
          ]
        },
        {
          "output_type": "stream",
          "name": "stdout",
          "text": [
            "Train Loss:0.1292, Train Acc:77.50\n",
            "validation start\n"
          ]
        },
        {
          "output_type": "stream",
          "name": "stderr",
          "text": [
            "\n",
            "15it [00:00, 64.32it/s]              "
          ]
        },
        {
          "output_type": "stream",
          "name": "stdout",
          "text": [
            "Val Loss:0.1150, Val_Acc:88.33\n",
            "loss 0.1475 - accu 73.0508 - val_loss 0.1184 - val_accu 79.9718\n",
            "=> saved best model\n",
            "Epoch [118/500]\n"
          ]
        },
        {
          "output_type": "stream",
          "name": "stderr",
          "text": [
            "\n",
            "100%|██████████| 60/60 [00:00<00:00, 82.81it/s]\n"
          ]
        },
        {
          "output_type": "stream",
          "name": "stdout",
          "text": [
            "Train Loss:0.1265, Train Acc:78.75\n",
            "validation start\n"
          ]
        },
        {
          "output_type": "stream",
          "name": "stderr",
          "text": [
            "15it [00:00, 63.33it/s] "
          ]
        },
        {
          "output_type": "stream",
          "name": "stdout",
          "text": [
            "Val Loss:0.1137, Val_Acc:85.00\n",
            "loss 0.1473 - accu 73.0987 - val_loss 0.1184 - val_accu 80.0140\n",
            "=> saved best model\n",
            "Epoch [119/500]\n"
          ]
        },
        {
          "output_type": "stream",
          "name": "stderr",
          "text": [
            "\n",
            "100%|██████████| 60/60 [00:00<00:00, 86.41it/s]"
          ]
        },
        {
          "output_type": "stream",
          "name": "stdout",
          "text": [
            "Train Loss:0.1252, Train Acc:76.25\n",
            "validation start\n"
          ]
        },
        {
          "output_type": "stream",
          "name": "stderr",
          "text": [
            "\n",
            "15it [00:00, 68.93it/s]              "
          ]
        },
        {
          "output_type": "stream",
          "name": "stdout",
          "text": [
            "Val Loss:0.1125, Val_Acc:85.00\n",
            "loss 0.1472 - accu 73.1250 - val_loss 0.1183 - val_accu 80.0556\n",
            "=> saved best model\n",
            "Epoch [120/500]\n"
          ]
        },
        {
          "output_type": "stream",
          "name": "stderr",
          "text": [
            "\n",
            "100%|██████████| 60/60 [00:00<00:00, 82.73it/s]"
          ]
        },
        {
          "output_type": "stream",
          "name": "stdout",
          "text": [
            "Train Loss:0.1322, Train Acc:77.92\n",
            "validation start\n"
          ]
        },
        {
          "output_type": "stream",
          "name": "stderr",
          "text": [
            "\n",
            "15it [00:00, 68.70it/s]              "
          ]
        },
        {
          "output_type": "stream",
          "name": "stdout",
          "text": [
            "Val Loss:0.1258, Val_Acc:68.33\n",
            "loss 0.1470 - accu 73.1646 - val_loss 0.1184 - val_accu 79.9587\n",
            "Epoch [121/500]\n"
          ]
        },
        {
          "output_type": "stream",
          "name": "stderr",
          "text": [
            "\n",
            "100%|██████████| 60/60 [00:00<00:00, 89.90it/s] "
          ]
        },
        {
          "output_type": "stream",
          "name": "stdout",
          "text": [
            "Train Loss:0.1345, Train Acc:74.17\n",
            "validation start\n"
          ]
        },
        {
          "output_type": "stream",
          "name": "stderr",
          "text": [
            "\n",
            "15it [00:00, 70.40it/s]              "
          ]
        },
        {
          "output_type": "stream",
          "name": "stdout",
          "text": [
            "Val Loss:0.1109, Val_Acc:83.33\n",
            "loss 0.1469 - accu 73.1728 - val_loss 0.1183 - val_accu 79.9863\n",
            "Epoch [122/500]\n"
          ]
        },
        {
          "output_type": "stream",
          "name": "stderr",
          "text": [
            "\n",
            "100%|██████████| 60/60 [00:00<00:00, 84.12it/s]"
          ]
        },
        {
          "output_type": "stream",
          "name": "stdout",
          "text": [
            "Train Loss:0.1216, Train Acc:74.17\n",
            "validation start\n"
          ]
        },
        {
          "output_type": "stream",
          "name": "stderr",
          "text": [
            "\n",
            "15it [00:00, 61.46it/s]"
          ]
        },
        {
          "output_type": "stream",
          "name": "stdout",
          "text": [
            "Val Loss:0.1271, Val_Acc:83.33\n",
            "loss 0.1467 - accu 73.1809 - val_loss 0.1184 - val_accu 80.0136\n",
            "Epoch [123/500]\n"
          ]
        },
        {
          "output_type": "stream",
          "name": "stderr",
          "text": [
            "\n",
            "100%|██████████| 60/60 [00:00<00:00, 89.06it/s] "
          ]
        },
        {
          "output_type": "stream",
          "name": "stdout",
          "text": [
            "Train Loss:0.1307, Train Acc:77.92\n",
            "validation start\n"
          ]
        },
        {
          "output_type": "stream",
          "name": "stderr",
          "text": [
            "\n",
            "15it [00:00, 67.16it/s]              "
          ]
        },
        {
          "output_type": "stream",
          "name": "stdout",
          "text": [
            "Val Loss:0.1098, Val_Acc:85.00\n",
            "loss 0.1466 - accu 73.2191 - val_loss 0.1183 - val_accu 80.0538\n",
            "Epoch [124/500]\n"
          ]
        },
        {
          "output_type": "stream",
          "name": "stderr",
          "text": [
            "\n",
            "100%|██████████| 60/60 [00:00<00:00, 89.24it/s] "
          ]
        },
        {
          "output_type": "stream",
          "name": "stdout",
          "text": [
            "Train Loss:0.1245, Train Acc:78.33\n",
            "validation start\n"
          ]
        },
        {
          "output_type": "stream",
          "name": "stderr",
          "text": [
            "\n",
            "15it [00:00, 72.98it/s]              "
          ]
        },
        {
          "output_type": "stream",
          "name": "stdout",
          "text": [
            "Val Loss:0.1074, Val_Acc:85.00\n",
            "loss 0.1464 - accu 73.2600 - val_loss 0.1182 - val_accu 80.0933\n",
            "=> saved best model\n",
            "Epoch [125/500]\n"
          ]
        },
        {
          "output_type": "stream",
          "name": "stderr",
          "text": [
            "\n",
            "100%|██████████| 60/60 [00:00<00:00, 90.85it/s] "
          ]
        },
        {
          "output_type": "stream",
          "name": "stdout",
          "text": [
            "Train Loss:0.1285, Train Acc:77.50\n",
            "validation start\n"
          ]
        },
        {
          "output_type": "stream",
          "name": "stderr",
          "text": [
            "\n",
            "15it [00:00, 73.04it/s]              "
          ]
        },
        {
          "output_type": "stream",
          "name": "stdout",
          "text": [
            "Val Loss:0.1114, Val_Acc:80.00\n",
            "loss 0.1463 - accu 73.2937 - val_loss 0.1182 - val_accu 80.0926\n",
            "Epoch [126/500]\n"
          ]
        },
        {
          "output_type": "stream",
          "name": "stderr",
          "text": [
            "\n",
            "100%|██████████| 60/60 [00:00<00:00, 86.15it/s]"
          ]
        },
        {
          "output_type": "stream",
          "name": "stdout",
          "text": [
            "Train Loss:0.1298, Train Acc:76.67\n",
            "validation start\n"
          ]
        },
        {
          "output_type": "stream",
          "name": "stderr",
          "text": [
            "\n",
            "15it [00:00, 82.51it/s]              \n"
          ]
        },
        {
          "output_type": "stream",
          "name": "stdout",
          "text": [
            "Val Loss:0.1061, Val_Acc:83.33\n",
            "loss 0.1461 - accu 73.3202 - val_loss 0.1181 - val_accu 80.1181\n",
            "=> saved best model\n",
            "Epoch [127/500]\n"
          ]
        },
        {
          "output_type": "stream",
          "name": "stderr",
          "text": [
            "100%|██████████| 60/60 [00:00<00:00, 88.25it/s] "
          ]
        },
        {
          "output_type": "stream",
          "name": "stdout",
          "text": [
            "Train Loss:0.1230, Train Acc:75.00\n",
            "validation start\n"
          ]
        },
        {
          "output_type": "stream",
          "name": "stderr",
          "text": [
            "\n",
            "15it [00:00, 82.69it/s]              "
          ]
        },
        {
          "output_type": "stream",
          "name": "stdout",
          "text": [
            "Val Loss:0.1090, Val_Acc:83.33\n",
            "loss 0.1460 - accu 73.3333 - val_loss 0.1180 - val_accu 80.1432\n",
            "=> saved best model\n",
            "Epoch [128/500]\n"
          ]
        },
        {
          "output_type": "stream",
          "name": "stderr",
          "text": [
            "\n",
            "100%|██████████| 60/60 [00:00<00:00, 91.52it/s] "
          ]
        },
        {
          "output_type": "stream",
          "name": "stdout",
          "text": [
            "Train Loss:0.1242, Train Acc:75.83\n",
            "validation start\n"
          ]
        },
        {
          "output_type": "stream",
          "name": "stderr",
          "text": [
            "\n",
            "15it [00:00, 76.98it/s]              \n"
          ]
        },
        {
          "output_type": "stream",
          "name": "stdout",
          "text": [
            "Val Loss:0.1091, Val_Acc:85.00\n",
            "loss 0.1458 - accu 73.3527 - val_loss 0.1179 - val_accu 80.1809\n",
            "=> saved best model\n",
            "Epoch [129/500]\n"
          ]
        },
        {
          "output_type": "stream",
          "name": "stderr",
          "text": [
            "100%|██████████| 60/60 [00:00<00:00, 96.22it/s] "
          ]
        },
        {
          "output_type": "stream",
          "name": "stdout",
          "text": [
            "Train Loss:0.1195, Train Acc:77.50\n",
            "validation start\n"
          ]
        },
        {
          "output_type": "stream",
          "name": "stderr",
          "text": [
            "\n",
            "15it [00:00, 73.92it/s]              "
          ]
        },
        {
          "output_type": "stream",
          "name": "stdout",
          "text": [
            "Val Loss:0.1127, Val_Acc:83.33\n",
            "loss 0.1456 - accu 73.3846 - val_loss 0.1179 - val_accu 80.2051\n",
            "=> saved best model\n",
            "Epoch [130/500]\n"
          ]
        },
        {
          "output_type": "stream",
          "name": "stderr",
          "text": [
            "\n",
            "100%|██████████| 60/60 [00:00<00:00, 90.61it/s] "
          ]
        },
        {
          "output_type": "stream",
          "name": "stdout",
          "text": [
            "Train Loss:0.1280, Train Acc:77.08\n",
            "validation start\n"
          ]
        },
        {
          "output_type": "stream",
          "name": "stderr",
          "text": [
            "\n",
            "15it [00:00, 75.27it/s]              "
          ]
        },
        {
          "output_type": "stream",
          "name": "stdout",
          "text": [
            "Val Loss:0.1174, Val_Acc:81.67\n",
            "loss 0.1455 - accu 73.4128 - val_loss 0.1179 - val_accu 80.2163\n",
            "=> saved best model\n",
            "Epoch [131/500]\n"
          ]
        },
        {
          "output_type": "stream",
          "name": "stderr",
          "text": [
            "\n",
            "100%|██████████| 60/60 [00:00<00:00, 89.95it/s] "
          ]
        },
        {
          "output_type": "stream",
          "name": "stdout",
          "text": [
            "Train Loss:0.1226, Train Acc:78.75\n",
            "validation start\n"
          ]
        },
        {
          "output_type": "stream",
          "name": "stderr",
          "text": [
            "\n",
            "15it [00:00, 74.84it/s]              "
          ]
        },
        {
          "output_type": "stream",
          "name": "stdout",
          "text": [
            "Val Loss:0.1094, Val_Acc:80.00\n",
            "loss 0.1453 - accu 73.4533 - val_loss 0.1178 - val_accu 80.2146\n",
            "Epoch [132/500]\n"
          ]
        },
        {
          "output_type": "stream",
          "name": "stderr",
          "text": [
            "\n",
            "100%|██████████| 60/60 [00:00<00:00, 97.07it/s] "
          ]
        },
        {
          "output_type": "stream",
          "name": "stdout",
          "text": [
            "Train Loss:0.1326, Train Acc:72.92\n",
            "validation start\n"
          ]
        },
        {
          "output_type": "stream",
          "name": "stderr",
          "text": [
            "\n",
            "15it [00:00, 79.85it/s]              \n"
          ]
        },
        {
          "output_type": "stream",
          "name": "stdout",
          "text": [
            "Val Loss:0.1144, Val_Acc:88.33\n",
            "loss 0.1452 - accu 73.4492 - val_loss 0.1178 - val_accu 80.2757\n",
            "=> saved best model\n",
            "Epoch [133/500]\n"
          ]
        },
        {
          "output_type": "stream",
          "name": "stderr",
          "text": [
            "100%|██████████| 60/60 [00:00<00:00, 90.96it/s] "
          ]
        },
        {
          "output_type": "stream",
          "name": "stdout",
          "text": [
            "Train Loss:0.1145, Train Acc:77.08\n",
            "validation start\n"
          ]
        },
        {
          "output_type": "stream",
          "name": "stderr",
          "text": [
            "\n",
            "15it [00:00, 64.35it/s]"
          ]
        },
        {
          "output_type": "stream",
          "name": "stdout",
          "text": [
            "Val Loss:0.1073, Val_Acc:85.00\n",
            "loss 0.1450 - accu 73.4764 - val_loss 0.1177 - val_accu 80.3109\n",
            "=> saved best model\n",
            "Epoch [134/500]\n"
          ]
        },
        {
          "output_type": "stream",
          "name": "stderr",
          "text": [
            "\n",
            "100%|██████████| 60/60 [00:00<00:00, 89.62it/s] "
          ]
        },
        {
          "output_type": "stream",
          "name": "stdout",
          "text": [
            "Train Loss:0.1247, Train Acc:76.67\n",
            "validation start\n"
          ]
        },
        {
          "output_type": "stream",
          "name": "stderr",
          "text": [
            "\n",
            "15it [00:00, 64.19it/s]"
          ]
        },
        {
          "output_type": "stream",
          "name": "stdout",
          "text": [
            "Val Loss:0.1115, Val_Acc:78.33\n",
            "loss 0.1448 - accu 73.5000 - val_loss 0.1177 - val_accu 80.2963\n",
            "Epoch [135/500]\n"
          ]
        },
        {
          "output_type": "stream",
          "name": "stderr",
          "text": [
            "\n",
            "100%|██████████| 60/60 [00:00<00:00, 93.62it/s] "
          ]
        },
        {
          "output_type": "stream",
          "name": "stdout",
          "text": [
            "Train Loss:0.1252, Train Acc:74.58\n",
            "validation start\n"
          ]
        },
        {
          "output_type": "stream",
          "name": "stderr",
          "text": [
            "\n",
            "15it [00:00, 62.10it/s]"
          ]
        },
        {
          "output_type": "stream",
          "name": "stdout",
          "text": [
            "Val Loss:0.1085, Val_Acc:85.00\n",
            "loss 0.1447 - accu 73.5080 - val_loss 0.1176 - val_accu 80.3309\n",
            "=> saved best model\n",
            "Epoch [136/500]\n"
          ]
        },
        {
          "output_type": "stream",
          "name": "stderr",
          "text": [
            "\n",
            "100%|██████████| 60/60 [00:00<00:00, 95.29it/s] "
          ]
        },
        {
          "output_type": "stream",
          "name": "stdout",
          "text": [
            "Train Loss:0.1196, Train Acc:77.50\n",
            "validation start\n"
          ]
        },
        {
          "output_type": "stream",
          "name": "stderr",
          "text": [
            "\n",
            "15it [00:00, 66.44it/s] "
          ]
        },
        {
          "output_type": "stream",
          "name": "stdout",
          "text": [
            "Val Loss:0.1046, Val_Acc:81.67\n",
            "loss 0.1445 - accu 73.5371 - val_loss 0.1175 - val_accu 80.3406\n",
            "=> saved best model\n",
            "Epoch [137/500]\n"
          ]
        },
        {
          "output_type": "stream",
          "name": "stderr",
          "text": [
            "\n",
            "100%|██████████| 60/60 [00:00<00:00, 91.60it/s] "
          ]
        },
        {
          "output_type": "stream",
          "name": "stdout",
          "text": [
            "Train Loss:0.1275, Train Acc:78.75\n",
            "validation start\n"
          ]
        },
        {
          "output_type": "stream",
          "name": "stderr",
          "text": [
            "\n",
            "15it [00:00, 82.69it/s]              \n"
          ]
        },
        {
          "output_type": "stream",
          "name": "stdout",
          "text": [
            "Val Loss:0.1094, Val_Acc:80.00\n",
            "loss 0.1444 - accu 73.5749 - val_loss 0.1175 - val_accu 80.3382\n",
            "Epoch [138/500]\n"
          ]
        },
        {
          "output_type": "stream",
          "name": "stderr",
          "text": [
            "100%|██████████| 60/60 [00:00<00:00, 90.57it/s] "
          ]
        },
        {
          "output_type": "stream",
          "name": "stdout",
          "text": [
            "Train Loss:0.1180, Train Acc:80.83\n",
            "validation start\n"
          ]
        },
        {
          "output_type": "stream",
          "name": "stderr",
          "text": [
            "\n",
            "15it [00:00, 64.45it/s]              "
          ]
        },
        {
          "output_type": "stream",
          "name": "stdout",
          "text": [
            "Val Loss:0.1089, Val_Acc:81.67\n",
            "loss 0.1442 - accu 73.6271 - val_loss 0.1174 - val_accu 80.3477\n",
            "=> saved best model\n",
            "Epoch [139/500]\n"
          ]
        },
        {
          "output_type": "stream",
          "name": "stderr",
          "text": [
            "\n",
            "100%|██████████| 60/60 [00:00<00:00, 94.11it/s] "
          ]
        },
        {
          "output_type": "stream",
          "name": "stdout",
          "text": [
            "Train Loss:0.1249, Train Acc:76.67\n",
            "validation start\n"
          ]
        },
        {
          "output_type": "stream",
          "name": "stderr",
          "text": [
            "\n",
            "15it [00:00, 76.35it/s]              \n"
          ]
        },
        {
          "output_type": "stream",
          "name": "stdout",
          "text": [
            "Val Loss:0.1149, Val_Acc:85.00\n",
            "loss 0.1440 - accu 73.6488 - val_loss 0.1174 - val_accu 80.3810\n",
            "=> saved best model\n",
            "Epoch [140/500]\n"
          ]
        },
        {
          "output_type": "stream",
          "name": "stderr",
          "text": [
            "100%|██████████| 60/60 [00:00<00:00, 92.88it/s] "
          ]
        },
        {
          "output_type": "stream",
          "name": "stdout",
          "text": [
            "Train Loss:0.1175, Train Acc:78.33\n",
            "validation start\n"
          ]
        },
        {
          "output_type": "stream",
          "name": "stderr",
          "text": [
            "\n",
            "15it [00:00, 64.56it/s]              "
          ]
        },
        {
          "output_type": "stream",
          "name": "stdout",
          "text": [
            "Val Loss:0.1124, Val_Acc:86.67\n",
            "loss 0.1438 - accu 73.6820 - val_loss 0.1174 - val_accu 80.4255\n",
            "=> saved best model\n",
            "Epoch [141/500]\n"
          ]
        },
        {
          "output_type": "stream",
          "name": "stderr",
          "text": [
            "\n",
            "100%|██████████| 60/60 [00:00<00:00, 93.17it/s] "
          ]
        },
        {
          "output_type": "stream",
          "name": "stdout",
          "text": [
            "Train Loss:0.1170, Train Acc:80.00\n",
            "validation start\n"
          ]
        },
        {
          "output_type": "stream",
          "name": "stderr",
          "text": [
            "\n",
            "15it [00:00, 63.48it/s]"
          ]
        },
        {
          "output_type": "stream",
          "name": "stdout",
          "text": [
            "Val Loss:0.1060, Val_Acc:78.33\n",
            "loss 0.1437 - accu 73.7265 - val_loss 0.1173 - val_accu 80.4108\n",
            "Epoch [142/500]\n"
          ]
        },
        {
          "output_type": "stream",
          "name": "stderr",
          "text": [
            "\n",
            "100%|██████████| 60/60 [00:00<00:00, 73.23it/s]"
          ]
        },
        {
          "output_type": "stream",
          "name": "stdout",
          "text": [
            "Train Loss:0.1184, Train Acc:77.50\n",
            "validation start\n"
          ]
        },
        {
          "output_type": "stream",
          "name": "stderr",
          "text": [
            "\n",
            "15it [00:00, 62.47it/s] "
          ]
        },
        {
          "output_type": "stream",
          "name": "stdout",
          "text": [
            "Val Loss:0.1129, Val_Acc:85.00\n",
            "loss 0.1435 - accu 73.7529 - val_loss 0.1172 - val_accu 80.4429\n",
            "=> saved best model\n",
            "Epoch [143/500]\n"
          ]
        },
        {
          "output_type": "stream",
          "name": "stderr",
          "text": [
            "\n",
            "100%|██████████| 60/60 [00:00<00:00, 87.91it/s] "
          ]
        },
        {
          "output_type": "stream",
          "name": "stdout",
          "text": [
            "Train Loss:0.1239, Train Acc:76.25\n",
            "validation start\n"
          ]
        },
        {
          "output_type": "stream",
          "name": "stderr",
          "text": [
            "\n",
            "15it [00:00, 69.77it/s]              "
          ]
        },
        {
          "output_type": "stream",
          "name": "stdout",
          "text": [
            "Val Loss:0.1167, Val_Acc:85.00\n",
            "loss 0.1433 - accu 73.7703 - val_loss 0.1172 - val_accu 80.4745\n",
            "=> saved best model\n",
            "Epoch [144/500]\n"
          ]
        },
        {
          "output_type": "stream",
          "name": "stderr",
          "text": [
            "\n",
            "100%|██████████| 60/60 [00:00<00:00, 89.18it/s] "
          ]
        },
        {
          "output_type": "stream",
          "name": "stdout",
          "text": [
            "Train Loss:0.1253, Train Acc:76.25\n",
            "validation start\n"
          ]
        },
        {
          "output_type": "stream",
          "name": "stderr",
          "text": [
            "\n",
            "15it [00:00, 63.45it/s]              "
          ]
        },
        {
          "output_type": "stream",
          "name": "stdout",
          "text": [
            "Val Loss:0.1084, Val_Acc:85.00\n",
            "loss 0.1432 - accu 73.7874 - val_loss 0.1172 - val_accu 80.5057\n",
            "=> saved best model\n",
            "Epoch [145/500]\n"
          ]
        },
        {
          "output_type": "stream",
          "name": "stderr",
          "text": [
            "\n",
            "100%|██████████| 60/60 [00:00<00:00, 90.33it/s] "
          ]
        },
        {
          "output_type": "stream",
          "name": "stdout",
          "text": [
            "Train Loss:0.1164, Train Acc:77.50\n",
            "validation start\n"
          ]
        },
        {
          "output_type": "stream",
          "name": "stderr",
          "text": [
            "\n",
            "15it [00:00, 73.83it/s]              "
          ]
        },
        {
          "output_type": "stream",
          "name": "stdout",
          "text": [
            "Val Loss:0.1092, Val_Acc:85.00\n",
            "loss 0.1430 - accu 73.8128 - val_loss 0.1171 - val_accu 80.5365\n",
            "=> saved best model\n",
            "Epoch [146/500]\n"
          ]
        },
        {
          "output_type": "stream",
          "name": "stderr",
          "text": [
            "\n",
            "100%|██████████| 60/60 [00:00<00:00, 93.18it/s] "
          ]
        },
        {
          "output_type": "stream",
          "name": "stdout",
          "text": [
            "Train Loss:0.1250, Train Acc:75.00\n",
            "validation start\n"
          ]
        },
        {
          "output_type": "stream",
          "name": "stderr",
          "text": [
            "\n",
            "15it [00:00, 76.69it/s]              "
          ]
        },
        {
          "output_type": "stream",
          "name": "stdout",
          "text": [
            "Val Loss:0.1081, Val_Acc:80.00\n",
            "loss 0.1429 - accu 73.8209 - val_loss 0.1171 - val_accu 80.5329\n",
            "Epoch [147/500]\n"
          ]
        },
        {
          "output_type": "stream",
          "name": "stderr",
          "text": [
            "\n",
            "100%|██████████| 60/60 [00:00<00:00, 95.03it/s] "
          ]
        },
        {
          "output_type": "stream",
          "name": "stdout",
          "text": [
            "Train Loss:0.1233, Train Acc:73.75\n",
            "validation start\n"
          ]
        },
        {
          "output_type": "stream",
          "name": "stderr",
          "text": [
            "\n",
            "15it [00:00, 71.13it/s]              "
          ]
        },
        {
          "output_type": "stream",
          "name": "stdout",
          "text": [
            "Val Loss:0.1102, Val_Acc:85.00\n",
            "loss 0.1428 - accu 73.8204 - val_loss 0.1170 - val_accu 80.5631\n",
            "=> saved best model\n",
            "Epoch [148/500]\n"
          ]
        },
        {
          "output_type": "stream",
          "name": "stderr",
          "text": [
            "\n",
            "100%|██████████| 60/60 [00:00<00:00, 91.56it/s] "
          ]
        },
        {
          "output_type": "stream",
          "name": "stdout",
          "text": [
            "Train Loss:0.1283, Train Acc:78.75\n",
            "validation start\n"
          ]
        },
        {
          "output_type": "stream",
          "name": "stderr",
          "text": [
            "\n",
            "15it [00:00, 68.98it/s]              "
          ]
        },
        {
          "output_type": "stream",
          "name": "stdout",
          "text": [
            "Val Loss:0.1094, Val_Acc:80.00\n",
            "loss 0.1427 - accu 73.8535 - val_loss 0.1170 - val_accu 80.5593\n",
            "Epoch [149/500]\n"
          ]
        },
        {
          "output_type": "stream",
          "name": "stderr",
          "text": [
            "\n",
            "100%|██████████| 60/60 [00:00<00:00, 88.09it/s] "
          ]
        },
        {
          "output_type": "stream",
          "name": "stdout",
          "text": [
            "Train Loss:0.1200, Train Acc:75.42\n",
            "validation start\n"
          ]
        },
        {
          "output_type": "stream",
          "name": "stderr",
          "text": [
            "\n",
            "15it [00:00, 70.58it/s]              "
          ]
        },
        {
          "output_type": "stream",
          "name": "stdout",
          "text": [
            "Val Loss:0.1094, Val_Acc:83.33\n",
            "loss 0.1425 - accu 73.8639 - val_loss 0.1169 - val_accu 80.5778\n",
            "=> saved best model\n",
            "Epoch [150/500]\n"
          ]
        },
        {
          "output_type": "stream",
          "name": "stderr",
          "text": [
            "\n",
            "100%|██████████| 60/60 [00:00<00:00, 91.24it/s] "
          ]
        },
        {
          "output_type": "stream",
          "name": "stdout",
          "text": [
            "Train Loss:0.1281, Train Acc:76.67\n",
            "validation start\n"
          ]
        },
        {
          "output_type": "stream",
          "name": "stderr",
          "text": [
            "\n",
            "15it [00:00, 70.78it/s]              "
          ]
        },
        {
          "output_type": "stream",
          "name": "stdout",
          "text": [
            "Val Loss:0.1067, Val_Acc:83.33\n",
            "loss 0.1424 - accu 73.8825 - val_loss 0.1168 - val_accu 80.5960\n",
            "=> saved best model\n",
            "Epoch [151/500]\n"
          ]
        },
        {
          "output_type": "stream",
          "name": "stderr",
          "text": [
            "\n",
            "100%|██████████| 60/60 [00:00<00:00, 91.59it/s] "
          ]
        },
        {
          "output_type": "stream",
          "name": "stdout",
          "text": [
            "Train Loss:0.1096, Train Acc:78.33\n",
            "validation start\n"
          ]
        },
        {
          "output_type": "stream",
          "name": "stderr",
          "text": [
            "\n",
            "15it [00:00, 72.73it/s]              "
          ]
        },
        {
          "output_type": "stream",
          "name": "stdout",
          "text": [
            "Val Loss:0.1147, Val_Acc:86.67\n",
            "loss 0.1422 - accu 73.9117 - val_loss 0.1168 - val_accu 80.6360\n",
            "=> saved best model\n",
            "Epoch [152/500]\n"
          ]
        },
        {
          "output_type": "stream",
          "name": "stderr",
          "text": [
            "\n",
            "100%|██████████| 60/60 [00:00<00:00, 95.19it/s] "
          ]
        },
        {
          "output_type": "stream",
          "name": "stdout",
          "text": [
            "Train Loss:0.1189, Train Acc:78.33\n",
            "validation start\n"
          ]
        },
        {
          "output_type": "stream",
          "name": "stderr",
          "text": [
            "\n",
            "15it [00:00, 69.15it/s]              "
          ]
        },
        {
          "output_type": "stream",
          "name": "stdout",
          "text": [
            "Val Loss:0.1059, Val_Acc:85.00\n",
            "loss 0.1421 - accu 73.9406 - val_loss 0.1168 - val_accu 80.6645\n",
            "=> saved best model\n",
            "Epoch [153/500]\n"
          ]
        },
        {
          "output_type": "stream",
          "name": "stderr",
          "text": [
            "\n",
            "100%|██████████| 60/60 [00:00<00:00, 88.96it/s] "
          ]
        },
        {
          "output_type": "stream",
          "name": "stdout",
          "text": [
            "Train Loss:0.1140, Train Acc:78.75\n",
            "validation start\n"
          ]
        },
        {
          "output_type": "stream",
          "name": "stderr",
          "text": [
            "\n",
            "15it [00:00, 71.07it/s]              "
          ]
        },
        {
          "output_type": "stream",
          "name": "stdout",
          "text": [
            "Val Loss:0.1040, Val_Acc:80.00\n",
            "loss 0.1419 - accu 73.9719 - val_loss 0.1167 - val_accu 80.6602\n",
            "Epoch [154/500]\n"
          ]
        },
        {
          "output_type": "stream",
          "name": "stderr",
          "text": [
            "\n",
            "100%|██████████| 60/60 [00:00<00:00, 88.68it/s] "
          ]
        },
        {
          "output_type": "stream",
          "name": "stdout",
          "text": [
            "Train Loss:0.1166, Train Acc:78.75\n",
            "validation start\n"
          ]
        },
        {
          "output_type": "stream",
          "name": "stderr",
          "text": [
            "\n",
            "15it [00:00, 67.20it/s]              "
          ]
        },
        {
          "output_type": "stream",
          "name": "stdout",
          "text": [
            "Val Loss:0.1011, Val_Acc:83.33\n",
            "loss 0.1417 - accu 74.0027 - val_loss 0.1166 - val_accu 80.6774\n",
            "=> saved best model\n",
            "Epoch [155/500]\n"
          ]
        },
        {
          "output_type": "stream",
          "name": "stderr",
          "text": [
            "\n",
            "100%|██████████| 60/60 [00:00<00:00, 88.92it/s] "
          ]
        },
        {
          "output_type": "stream",
          "name": "stdout",
          "text": [
            "Train Loss:0.1237, Train Acc:76.67\n",
            "validation start\n"
          ]
        },
        {
          "output_type": "stream",
          "name": "stderr",
          "text": [
            "\n",
            "15it [00:00, 72.22it/s]              "
          ]
        },
        {
          "output_type": "stream",
          "name": "stdout",
          "text": [
            "Val Loss:0.1035, Val_Acc:83.33\n",
            "loss 0.1416 - accu 74.0198 - val_loss 0.1165 - val_accu 80.6944\n",
            "=> saved best model\n",
            "Epoch [156/500]\n"
          ]
        },
        {
          "output_type": "stream",
          "name": "stderr",
          "text": [
            "\n",
            "100%|██████████| 60/60 [00:00<00:00, 93.18it/s] "
          ]
        },
        {
          "output_type": "stream",
          "name": "stdout",
          "text": [
            "Train Loss:0.1154, Train Acc:80.00\n",
            "validation start\n"
          ]
        },
        {
          "output_type": "stream",
          "name": "stderr",
          "text": [
            "\n",
            "15it [00:00, 61.09it/s] "
          ]
        },
        {
          "output_type": "stream",
          "name": "stdout",
          "text": [
            "Val Loss:0.1079, Val_Acc:85.00\n",
            "loss 0.1414 - accu 74.0579 - val_loss 0.1164 - val_accu 80.7219\n",
            "=> saved best model\n",
            "Epoch [157/500]\n"
          ]
        },
        {
          "output_type": "stream",
          "name": "stderr",
          "text": [
            "\n",
            "100%|██████████| 60/60 [00:00<00:00, 91.59it/s] "
          ]
        },
        {
          "output_type": "stream",
          "name": "stdout",
          "text": [
            "Train Loss:0.1183, Train Acc:78.75\n",
            "validation start\n"
          ]
        },
        {
          "output_type": "stream",
          "name": "stderr",
          "text": [
            "\n",
            "15it [00:00, 78.73it/s]              \n"
          ]
        },
        {
          "output_type": "stream",
          "name": "stdout",
          "text": [
            "Val Loss:0.1062, Val_Acc:81.67\n",
            "loss 0.1413 - accu 74.0876 - val_loss 0.1164 - val_accu 80.7278\n",
            "=> saved best model\n",
            "Epoch [158/500]\n"
          ]
        },
        {
          "output_type": "stream",
          "name": "stderr",
          "text": [
            "100%|██████████| 60/60 [00:00<00:00, 86.82it/s]"
          ]
        },
        {
          "output_type": "stream",
          "name": "stdout",
          "text": [
            "Train Loss:0.1321, Train Acc:73.33\n",
            "validation start\n"
          ]
        },
        {
          "output_type": "stream",
          "name": "stderr",
          "text": [
            "\n",
            "15it [00:00, 58.34it/s]"
          ]
        },
        {
          "output_type": "stream",
          "name": "stdout",
          "text": [
            "Val Loss:0.1174, Val_Acc:86.67\n",
            "loss 0.1412 - accu 74.0828 - val_loss 0.1164 - val_accu 80.7652\n",
            "=> saved best model\n",
            "Epoch [159/500]\n"
          ]
        },
        {
          "output_type": "stream",
          "name": "stderr",
          "text": [
            "\n",
            "100%|██████████| 60/60 [00:00<00:00, 89.23it/s] "
          ]
        },
        {
          "output_type": "stream",
          "name": "stdout",
          "text": [
            "Train Loss:0.1111, Train Acc:78.75\n",
            "validation start\n"
          ]
        },
        {
          "output_type": "stream",
          "name": "stderr",
          "text": [
            "\n",
            "15it [00:00, 79.13it/s]              \n"
          ]
        },
        {
          "output_type": "stream",
          "name": "stdout",
          "text": [
            "Val Loss:0.1050, Val_Acc:83.33\n",
            "loss 0.1410 - accu 74.1120 - val_loss 0.1163 - val_accu 80.7812\n",
            "=> saved best model\n",
            "Epoch [160/500]\n"
          ]
        },
        {
          "output_type": "stream",
          "name": "stderr",
          "text": [
            "100%|██████████| 60/60 [00:00<00:00, 91.36it/s] "
          ]
        },
        {
          "output_type": "stream",
          "name": "stdout",
          "text": [
            "Train Loss:0.1264, Train Acc:75.83\n",
            "validation start\n"
          ]
        },
        {
          "output_type": "stream",
          "name": "stderr",
          "text": [
            "\n",
            "15it [00:00, 72.11it/s]              "
          ]
        },
        {
          "output_type": "stream",
          "name": "stdout",
          "text": [
            "Val Loss:0.1082, Val_Acc:81.67\n",
            "loss 0.1410 - accu 74.1227 - val_loss 0.1163 - val_accu 80.7867\n",
            "=> saved best model\n",
            "Epoch [161/500]\n"
          ]
        },
        {
          "output_type": "stream",
          "name": "stderr",
          "text": [
            "\n",
            "100%|██████████| 60/60 [00:00<00:00, 85.21it/s] "
          ]
        },
        {
          "output_type": "stream",
          "name": "stdout",
          "text": [
            "Train Loss:0.1193, Train Acc:77.92\n",
            "validation start\n"
          ]
        },
        {
          "output_type": "stream",
          "name": "stderr",
          "text": [
            "\n",
            "15it [00:00, 69.33it/s]              "
          ]
        },
        {
          "output_type": "stream",
          "name": "stdout",
          "text": [
            "Val Loss:0.1104, Val_Acc:85.00\n",
            "loss 0.1408 - accu 74.1461 - val_loss 0.1162 - val_accu 80.8128\n",
            "=> saved best model\n",
            "Epoch [162/500]\n"
          ]
        },
        {
          "output_type": "stream",
          "name": "stderr",
          "text": [
            "\n",
            "100%|██████████| 60/60 [00:00<00:00, 87.96it/s] "
          ]
        },
        {
          "output_type": "stream",
          "name": "stdout",
          "text": [
            "Train Loss:0.1150, Train Acc:80.00\n",
            "validation start\n"
          ]
        },
        {
          "output_type": "stream",
          "name": "stderr",
          "text": [
            "\n",
            "15it [00:00, 58.16it/s]"
          ]
        },
        {
          "output_type": "stream",
          "name": "stdout",
          "text": [
            "Val Loss:0.1098, Val_Acc:83.33\n",
            "loss 0.1407 - accu 74.1820 - val_loss 0.1162 - val_accu 80.8282\n",
            "=> saved best model\n",
            "Epoch [163/500]\n"
          ]
        },
        {
          "output_type": "stream",
          "name": "stderr",
          "text": [
            "\n",
            "100%|██████████| 60/60 [00:00<00:00, 88.12it/s] "
          ]
        },
        {
          "output_type": "stream",
          "name": "stdout",
          "text": [
            "Train Loss:0.1210, Train Acc:77.50\n",
            "validation start\n"
          ]
        },
        {
          "output_type": "stream",
          "name": "stderr",
          "text": [
            "\n",
            "15it [00:00, 66.57it/s] "
          ]
        },
        {
          "output_type": "stream",
          "name": "stdout",
          "text": [
            "Val Loss:0.1058, Val_Acc:81.67\n",
            "loss 0.1405 - accu 74.2022 - val_loss 0.1161 - val_accu 80.8333\n",
            "=> saved best model\n",
            "Epoch [164/500]\n"
          ]
        },
        {
          "output_type": "stream",
          "name": "stderr",
          "text": [
            "\n",
            "100%|██████████| 60/60 [00:00<00:00, 89.21it/s] "
          ]
        },
        {
          "output_type": "stream",
          "name": "stdout",
          "text": [
            "Train Loss:0.1255, Train Acc:77.50\n",
            "validation start\n"
          ]
        },
        {
          "output_type": "stream",
          "name": "stderr",
          "text": [
            "\n",
            "15it [00:00, 73.58it/s]              "
          ]
        },
        {
          "output_type": "stream",
          "name": "stdout",
          "text": [
            "Val Loss:0.1081, Val_Acc:83.33\n",
            "loss 0.1405 - accu 74.2222 - val_loss 0.1161 - val_accu 80.8485\n",
            "=> saved best model\n",
            "Epoch [165/500]\n"
          ]
        },
        {
          "output_type": "stream",
          "name": "stderr",
          "text": [
            "\n",
            "100%|██████████| 60/60 [00:00<00:00, 94.70it/s] "
          ]
        },
        {
          "output_type": "stream",
          "name": "stdout",
          "text": [
            "Train Loss:0.1166, Train Acc:76.25\n",
            "validation start\n"
          ]
        },
        {
          "output_type": "stream",
          "name": "stderr",
          "text": [
            "\n",
            "15it [00:00, 75.06it/s]              "
          ]
        },
        {
          "output_type": "stream",
          "name": "stdout",
          "text": [
            "Val Loss:0.1123, Val_Acc:86.67\n",
            "loss 0.1403 - accu 74.2344 - val_loss 0.1160 - val_accu 80.8835\n",
            "=> saved best model\n",
            "Epoch [166/500]\n"
          ]
        },
        {
          "output_type": "stream",
          "name": "stderr",
          "text": [
            "\n",
            "100%|██████████| 60/60 [00:00<00:00, 94.79it/s] "
          ]
        },
        {
          "output_type": "stream",
          "name": "stdout",
          "text": [
            "Train Loss:0.1139, Train Acc:79.17\n",
            "validation start\n"
          ]
        },
        {
          "output_type": "stream",
          "name": "stderr",
          "text": [
            "\n",
            "15it [00:00, 69.43it/s]              "
          ]
        },
        {
          "output_type": "stream",
          "name": "stdout",
          "text": [
            "Val Loss:0.1086, Val_Acc:85.00\n",
            "loss 0.1402 - accu 74.2640 - val_loss 0.1160 - val_accu 80.9082\n",
            "=> saved best model\n",
            "Epoch [167/500]\n"
          ]
        },
        {
          "output_type": "stream",
          "name": "stderr",
          "text": [
            "\n",
            "100%|██████████| 60/60 [00:00<00:00, 94.60it/s] "
          ]
        },
        {
          "output_type": "stream",
          "name": "stdout",
          "text": [
            "Train Loss:0.1201, Train Acc:77.92\n",
            "validation start\n"
          ]
        },
        {
          "output_type": "stream",
          "name": "stderr",
          "text": [
            "\n",
            "15it [00:00, 80.72it/s]              \n"
          ]
        },
        {
          "output_type": "stream",
          "name": "stdout",
          "text": [
            "Val Loss:0.1090, Val_Acc:81.67\n",
            "loss 0.1400 - accu 74.2857 - val_loss 0.1160 - val_accu 80.9127\n",
            "=> saved best model\n",
            "Epoch [168/500]\n"
          ]
        },
        {
          "output_type": "stream",
          "name": "stderr",
          "text": [
            "100%|██████████| 60/60 [00:00<00:00, 92.62it/s] "
          ]
        },
        {
          "output_type": "stream",
          "name": "stdout",
          "text": [
            "Train Loss:0.1238, Train Acc:76.67\n",
            "validation start\n"
          ]
        },
        {
          "output_type": "stream",
          "name": "stderr",
          "text": [
            "\n",
            "15it [00:00, 75.17it/s]              "
          ]
        },
        {
          "output_type": "stream",
          "name": "stdout",
          "text": [
            "Val Loss:0.1028, Val_Acc:83.33\n",
            "loss 0.1399 - accu 74.2998 - val_loss 0.1159 - val_accu 80.9270\n",
            "=> saved best model\n",
            "Epoch [169/500]\n"
          ]
        },
        {
          "output_type": "stream",
          "name": "stderr",
          "text": [
            "\n",
            "100%|██████████| 60/60 [00:00<00:00, 94.66it/s] "
          ]
        },
        {
          "output_type": "stream",
          "name": "stdout",
          "text": [
            "Train Loss:0.1190, Train Acc:76.67\n",
            "validation start\n"
          ]
        },
        {
          "output_type": "stream",
          "name": "stderr",
          "text": [
            "\n",
            "15it [00:00, 73.27it/s]              "
          ]
        },
        {
          "output_type": "stream",
          "name": "stdout",
          "text": [
            "Val Loss:0.1160, Val_Acc:86.67\n",
            "loss 0.1398 - accu 74.3137 - val_loss 0.1159 - val_accu 80.9608\n",
            "=> saved best model\n",
            "Epoch [170/500]\n"
          ]
        },
        {
          "output_type": "stream",
          "name": "stderr",
          "text": [
            "\n",
            "100%|██████████| 60/60 [00:00<00:00, 90.97it/s] "
          ]
        },
        {
          "output_type": "stream",
          "name": "stdout",
          "text": [
            "Train Loss:0.1259, Train Acc:75.00\n",
            "validation start\n"
          ]
        },
        {
          "output_type": "stream",
          "name": "stderr",
          "text": [
            "\n",
            "15it [00:00, 73.30it/s]              "
          ]
        },
        {
          "output_type": "stream",
          "name": "stdout",
          "text": [
            "Val Loss:0.1274, Val_Acc:86.67\n",
            "loss 0.1397 - accu 74.3177 - val_loss 0.1160 - val_accu 80.9942\n",
            "=> saved best model\n",
            "Epoch [171/500]\n"
          ]
        },
        {
          "output_type": "stream",
          "name": "stderr",
          "text": [
            "\n",
            "100%|██████████| 60/60 [00:00<00:00, 91.59it/s]"
          ]
        },
        {
          "output_type": "stream",
          "name": "stdout",
          "text": [
            "Train Loss:0.1207, Train Acc:79.58\n",
            "validation start\n"
          ]
        },
        {
          "output_type": "stream",
          "name": "stderr",
          "text": [
            "\n",
            "15it [00:00, 73.69it/s]              "
          ]
        },
        {
          "output_type": "stream",
          "name": "stdout",
          "text": [
            "Val Loss:0.1157, Val_Acc:85.00\n",
            "loss 0.1396 - accu 74.3484 - val_loss 0.1159 - val_accu 81.0174\n",
            "=> saved best model\n",
            "Epoch [172/500]\n"
          ]
        },
        {
          "output_type": "stream",
          "name": "stderr",
          "text": [
            "\n",
            "100%|██████████| 60/60 [00:00<00:00, 92.78it/s] "
          ]
        },
        {
          "output_type": "stream",
          "name": "stdout",
          "text": [
            "Train Loss:0.1176, Train Acc:76.67\n",
            "validation start\n"
          ]
        },
        {
          "output_type": "stream",
          "name": "stderr",
          "text": [
            "\n",
            "15it [00:00, 62.53it/s]"
          ]
        },
        {
          "output_type": "stream",
          "name": "stdout",
          "text": [
            "Val Loss:0.1134, Val_Acc:88.33\n",
            "loss 0.1395 - accu 74.3618 - val_loss 0.1159 - val_accu 81.0597\n",
            "=> saved best model\n",
            "Epoch [173/500]\n"
          ]
        },
        {
          "output_type": "stream",
          "name": "stderr",
          "text": [
            "\n",
            "100%|██████████| 60/60 [00:00<00:00, 91.33it/s] "
          ]
        },
        {
          "output_type": "stream",
          "name": "stdout",
          "text": [
            "Train Loss:0.1235, Train Acc:77.92\n",
            "validation start\n"
          ]
        },
        {
          "output_type": "stream",
          "name": "stderr",
          "text": [
            "\n",
            "15it [00:00, 72.63it/s]              "
          ]
        },
        {
          "output_type": "stream",
          "name": "stdout",
          "text": [
            "Val Loss:0.1240, Val_Acc:85.00\n",
            "loss 0.1394 - accu 74.3822 - val_loss 0.1160 - val_accu 81.0824\n",
            "=> saved best model\n",
            "Epoch [174/500]\n"
          ]
        },
        {
          "output_type": "stream",
          "name": "stderr",
          "text": [
            "\n",
            "100%|██████████| 60/60 [00:00<00:00, 89.79it/s] "
          ]
        },
        {
          "output_type": "stream",
          "name": "stdout",
          "text": [
            "Train Loss:0.1209, Train Acc:78.33\n",
            "validation start\n"
          ]
        },
        {
          "output_type": "stream",
          "name": "stderr",
          "text": [
            "\n",
            "15it [00:00, 69.85it/s]              "
          ]
        },
        {
          "output_type": "stream",
          "name": "stdout",
          "text": [
            "Val Loss:0.1096, Val_Acc:81.67\n",
            "loss 0.1393 - accu 74.4048 - val_loss 0.1159 - val_accu 81.0857\n",
            "=> saved best model\n",
            "Epoch [175/500]\n"
          ]
        },
        {
          "output_type": "stream",
          "name": "stderr",
          "text": [
            "\n",
            "100%|██████████| 60/60 [00:00<00:00, 92.64it/s] "
          ]
        },
        {
          "output_type": "stream",
          "name": "stdout",
          "text": [
            "Train Loss:0.1133, Train Acc:81.67\n",
            "validation start\n"
          ]
        },
        {
          "output_type": "stream",
          "name": "stderr",
          "text": [
            "\n",
            "15it [00:00, 57.20it/s]"
          ]
        },
        {
          "output_type": "stream",
          "name": "stdout",
          "text": [
            "Val Loss:0.1081, Val_Acc:81.67\n",
            "loss 0.1391 - accu 74.4460 - val_loss 0.1159 - val_accu 81.0890\n",
            "=> saved best model\n",
            "Epoch [176/500]\n"
          ]
        },
        {
          "output_type": "stream",
          "name": "stderr",
          "text": [
            "\n",
            "100%|██████████| 60/60 [00:00<00:00, 88.17it/s] "
          ]
        },
        {
          "output_type": "stream",
          "name": "stdout",
          "text": [
            "Train Loss:0.1259, Train Acc:77.08\n",
            "validation start\n"
          ]
        },
        {
          "output_type": "stream",
          "name": "stderr",
          "text": [
            "\n",
            "15it [00:00, 65.89it/s]              "
          ]
        },
        {
          "output_type": "stream",
          "name": "stdout",
          "text": [
            "Val Loss:0.1260, Val_Acc:85.00\n",
            "loss 0.1391 - accu 74.4609 - val_loss 0.1160 - val_accu 81.1111\n",
            "=> saved best model\n",
            "Epoch [177/500]\n"
          ]
        },
        {
          "output_type": "stream",
          "name": "stderr",
          "text": [
            "\n",
            "100%|██████████| 60/60 [00:00<00:00, 90.18it/s] "
          ]
        },
        {
          "output_type": "stream",
          "name": "stdout",
          "text": [
            "Train Loss:0.1254, Train Acc:77.92\n",
            "validation start\n"
          ]
        },
        {
          "output_type": "stream",
          "name": "stderr",
          "text": [
            "\n",
            "15it [00:00, 81.16it/s]              \n"
          ]
        },
        {
          "output_type": "stream",
          "name": "stdout",
          "text": [
            "Val Loss:0.1093, Val_Acc:81.67\n",
            "loss 0.1390 - accu 74.4803 - val_loss 0.1159 - val_accu 81.1142\n",
            "=> saved best model\n",
            "Epoch [178/500]\n"
          ]
        },
        {
          "output_type": "stream",
          "name": "stderr",
          "text": [
            "100%|██████████| 60/60 [00:00<00:00, 92.52it/s] "
          ]
        },
        {
          "output_type": "stream",
          "name": "stdout",
          "text": [
            "Train Loss:0.1166, Train Acc:80.42\n",
            "validation start\n"
          ]
        },
        {
          "output_type": "stream",
          "name": "stderr",
          "text": [
            "\n",
            "15it [00:00, 59.24it/s]"
          ]
        },
        {
          "output_type": "stream",
          "name": "stdout",
          "text": [
            "Val Loss:0.1090, Val_Acc:81.67\n",
            "loss 0.1389 - accu 74.5135 - val_loss 0.1159 - val_accu 81.1173\n",
            "=> saved best model\n",
            "Epoch [179/500]\n"
          ]
        },
        {
          "output_type": "stream",
          "name": "stderr",
          "text": [
            "\n",
            "100%|██████████| 60/60 [00:00<00:00, 88.72it/s] "
          ]
        },
        {
          "output_type": "stream",
          "name": "stdout",
          "text": [
            "Train Loss:0.1157, Train Acc:81.25\n",
            "validation start\n"
          ]
        },
        {
          "output_type": "stream",
          "name": "stderr",
          "text": [
            "\n",
            "15it [00:00, 75.16it/s]              "
          ]
        },
        {
          "output_type": "stream",
          "name": "stdout",
          "text": [
            "Val Loss:0.1103, Val_Acc:83.33\n",
            "loss 0.1387 - accu 74.5509 - val_loss 0.1158 - val_accu 81.1296\n",
            "=> saved best model\n",
            "Epoch [180/500]\n"
          ]
        },
        {
          "output_type": "stream",
          "name": "stderr",
          "text": [
            "\n",
            "100%|██████████| 60/60 [00:00<00:00, 87.19it/s] "
          ]
        },
        {
          "output_type": "stream",
          "name": "stdout",
          "text": [
            "Train Loss:0.1209, Train Acc:77.08\n",
            "validation start\n"
          ]
        },
        {
          "output_type": "stream",
          "name": "stderr",
          "text": [
            "\n",
            "15it [00:00, 75.18it/s]              "
          ]
        },
        {
          "output_type": "stream",
          "name": "stdout",
          "text": [
            "Val Loss:0.1119, Val_Acc:81.67\n",
            "loss 0.1386 - accu 74.5649 - val_loss 0.1158 - val_accu 81.1326\n",
            "=> saved best model\n",
            "Epoch [181/500]\n"
          ]
        },
        {
          "output_type": "stream",
          "name": "stderr",
          "text": [
            "\n",
            "100%|██████████| 60/60 [00:00<00:00, 91.00it/s] "
          ]
        },
        {
          "output_type": "stream",
          "name": "stdout",
          "text": [
            "Train Loss:0.1105, Train Acc:78.75\n",
            "validation start\n"
          ]
        },
        {
          "output_type": "stream",
          "name": "stderr",
          "text": [
            "\n",
            "15it [00:00, 65.48it/s]"
          ]
        },
        {
          "output_type": "stream",
          "name": "stdout",
          "text": [
            "Val Loss:0.1421, Val_Acc:83.33\n",
            "loss 0.1385 - accu 74.5879 - val_loss 0.1160 - val_accu 81.1447\n",
            "=> saved best model\n",
            "Epoch [182/500]\n"
          ]
        },
        {
          "output_type": "stream",
          "name": "stderr",
          "text": [
            "\n",
            "100%|██████████| 60/60 [00:00<00:00, 99.67it/s] "
          ]
        },
        {
          "output_type": "stream",
          "name": "stdout",
          "text": [
            "Train Loss:0.1170, Train Acc:77.08\n",
            "validation start\n"
          ]
        },
        {
          "output_type": "stream",
          "name": "stderr",
          "text": [
            "\n",
            "15it [00:00, 82.58it/s]              \n"
          ]
        },
        {
          "output_type": "stream",
          "name": "stdout",
          "text": [
            "Val Loss:0.1171, Val_Acc:88.33\n",
            "loss 0.1384 - accu 74.6015 - val_loss 0.1160 - val_accu 81.1840\n",
            "=> saved best model\n",
            "Epoch [183/500]\n"
          ]
        },
        {
          "output_type": "stream",
          "name": "stderr",
          "text": [
            "100%|██████████| 60/60 [00:00<00:00, 90.34it/s] "
          ]
        },
        {
          "output_type": "stream",
          "name": "stdout",
          "text": [
            "Train Loss:0.1125, Train Acc:81.25\n",
            "validation start\n"
          ]
        },
        {
          "output_type": "stream",
          "name": "stderr",
          "text": [
            "\n",
            "15it [00:00, 64.05it/s]"
          ]
        },
        {
          "output_type": "stream",
          "name": "stdout",
          "text": [
            "Val Loss:0.1078, Val_Acc:83.33\n",
            "loss 0.1382 - accu 74.6377 - val_loss 0.1159 - val_accu 81.1957\n",
            "=> saved best model\n",
            "Epoch [184/500]\n"
          ]
        },
        {
          "output_type": "stream",
          "name": "stderr",
          "text": [
            "\n",
            "100%|██████████| 60/60 [00:00<00:00, 93.88it/s] "
          ]
        },
        {
          "output_type": "stream",
          "name": "stdout",
          "text": [
            "Train Loss:0.1194, Train Acc:80.42\n",
            "validation start\n"
          ]
        },
        {
          "output_type": "stream",
          "name": "stderr",
          "text": [
            "\n",
            "15it [00:00, 62.61it/s] "
          ]
        },
        {
          "output_type": "stream",
          "name": "stdout",
          "text": [
            "Val Loss:0.1123, Val_Acc:78.33\n",
            "loss 0.1381 - accu 74.6689 - val_loss 0.1159 - val_accu 81.1802\n",
            "Epoch [185/500]\n"
          ]
        },
        {
          "output_type": "stream",
          "name": "stderr",
          "text": [
            "\n",
            "100%|██████████| 60/60 [00:00<00:00, 89.97it/s] "
          ]
        },
        {
          "output_type": "stream",
          "name": "stdout",
          "text": [
            "Train Loss:0.1114, Train Acc:78.75\n",
            "validation start\n"
          ]
        },
        {
          "output_type": "stream",
          "name": "stderr",
          "text": [
            "\n",
            "15it [00:00, 62.74it/s]"
          ]
        },
        {
          "output_type": "stream",
          "name": "stdout",
          "text": [
            "Val Loss:0.1358, Val_Acc:88.33\n",
            "loss 0.1380 - accu 74.6909 - val_loss 0.1160 - val_accu 81.2186\n",
            "=> saved best model\n",
            "Epoch [186/500]\n"
          ]
        },
        {
          "output_type": "stream",
          "name": "stderr",
          "text": [
            "\n",
            "100%|██████████| 60/60 [00:00<00:00, 88.71it/s] "
          ]
        },
        {
          "output_type": "stream",
          "name": "stdout",
          "text": [
            "Train Loss:0.1215, Train Acc:78.33\n",
            "validation start\n"
          ]
        },
        {
          "output_type": "stream",
          "name": "stderr",
          "text": [
            "\n",
            "15it [00:00, 68.37it/s]              "
          ]
        },
        {
          "output_type": "stream",
          "name": "stdout",
          "text": [
            "Val Loss:0.1147, Val_Acc:81.67\n",
            "loss 0.1379 - accu 74.7103 - val_loss 0.1160 - val_accu 81.2210\n",
            "=> saved best model\n",
            "Epoch [187/500]\n"
          ]
        },
        {
          "output_type": "stream",
          "name": "stderr",
          "text": [
            "\n",
            "100%|██████████| 60/60 [00:00<00:00, 87.46it/s] "
          ]
        },
        {
          "output_type": "stream",
          "name": "stdout",
          "text": [
            "Train Loss:0.1128, Train Acc:80.00\n",
            "validation start\n"
          ]
        },
        {
          "output_type": "stream",
          "name": "stderr",
          "text": [
            "\n",
            "15it [00:00, 71.81it/s]              "
          ]
        },
        {
          "output_type": "stream",
          "name": "stdout",
          "text": [
            "Val Loss:0.1184, Val_Acc:85.00\n",
            "loss 0.1378 - accu 74.7385 - val_loss 0.1160 - val_accu 81.2411\n",
            "=> saved best model\n",
            "Epoch [188/500]\n"
          ]
        },
        {
          "output_type": "stream",
          "name": "stderr",
          "text": [
            "\n",
            "100%|██████████| 60/60 [00:00<00:00, 92.72it/s] "
          ]
        },
        {
          "output_type": "stream",
          "name": "stdout",
          "text": [
            "Train Loss:0.1192, Train Acc:73.33\n",
            "validation start\n"
          ]
        },
        {
          "output_type": "stream",
          "name": "stderr",
          "text": [
            "\n",
            "15it [00:00, 73.15it/s]              "
          ]
        },
        {
          "output_type": "stream",
          "name": "stdout",
          "text": [
            "Val Loss:0.1188, Val_Acc:81.67\n",
            "loss 0.1377 - accu 74.7310 - val_loss 0.1160 - val_accu 81.2434\n",
            "=> saved best model\n",
            "Epoch [189/500]\n"
          ]
        },
        {
          "output_type": "stream",
          "name": "stderr",
          "text": [
            "\n",
            "100%|██████████| 60/60 [00:00<00:00, 89.53it/s] "
          ]
        },
        {
          "output_type": "stream",
          "name": "stdout",
          "text": [
            "Train Loss:0.1215, Train Acc:80.00\n",
            "validation start\n"
          ]
        },
        {
          "output_type": "stream",
          "name": "stderr",
          "text": [
            "\n",
            "15it [00:00, 74.97it/s]              "
          ]
        },
        {
          "output_type": "stream",
          "name": "stdout",
          "text": [
            "Val Loss:0.1275, Val_Acc:88.33\n",
            "loss 0.1376 - accu 74.7588 - val_loss 0.1161 - val_accu 81.2807\n",
            "=> saved best model\n",
            "Epoch [190/500]\n"
          ]
        },
        {
          "output_type": "stream",
          "name": "stderr",
          "text": [
            "\n",
            "100%|██████████| 60/60 [00:00<00:00, 91.68it/s] "
          ]
        },
        {
          "output_type": "stream",
          "name": "stdout",
          "text": [
            "Train Loss:0.1159, Train Acc:80.42\n",
            "validation start\n"
          ]
        },
        {
          "output_type": "stream",
          "name": "stderr",
          "text": [
            "\n",
            "15it [00:00, 74.80it/s]              "
          ]
        },
        {
          "output_type": "stream",
          "name": "stdout",
          "text": [
            "Val Loss:0.1132, Val_Acc:83.33\n",
            "loss 0.1375 - accu 74.7884 - val_loss 0.1161 - val_accu 81.2914\n",
            "=> saved best model\n",
            "Epoch [191/500]\n"
          ]
        },
        {
          "output_type": "stream",
          "name": "stderr",
          "text": [
            "\n",
            "100%|██████████| 60/60 [00:00<00:00, 89.10it/s] "
          ]
        },
        {
          "output_type": "stream",
          "name": "stdout",
          "text": [
            "Train Loss:0.1179, Train Acc:77.92\n",
            "validation start\n"
          ]
        },
        {
          "output_type": "stream",
          "name": "stderr",
          "text": [
            "\n",
            "15it [00:00, 79.88it/s]              \n"
          ]
        },
        {
          "output_type": "stream",
          "name": "stdout",
          "text": [
            "Val Loss:0.1119, Val_Acc:81.67\n",
            "loss 0.1374 - accu 74.8047 - val_loss 0.1161 - val_accu 81.2934\n",
            "=> saved best model\n",
            "Epoch [192/500]\n"
          ]
        },
        {
          "output_type": "stream",
          "name": "stderr",
          "text": [
            "100%|██████████| 60/60 [00:00<00:00, 90.10it/s] "
          ]
        },
        {
          "output_type": "stream",
          "name": "stdout",
          "text": [
            "Train Loss:0.1171, Train Acc:80.42\n",
            "validation start\n"
          ]
        },
        {
          "output_type": "stream",
          "name": "stderr",
          "text": [
            "\n",
            "15it [00:00, 73.81it/s]              "
          ]
        },
        {
          "output_type": "stream",
          "name": "stdout",
          "text": [
            "Val Loss:0.1221, Val_Acc:86.67\n",
            "loss 0.1373 - accu 74.8338 - val_loss 0.1161 - val_accu 81.3212\n",
            "=> saved best model\n",
            "Epoch [193/500]\n"
          ]
        },
        {
          "output_type": "stream",
          "name": "stderr",
          "text": [
            "\n",
            "100%|██████████| 60/60 [00:00<00:00, 88.82it/s]"
          ]
        },
        {
          "output_type": "stream",
          "name": "stdout",
          "text": [
            "Train Loss:0.1157, Train Acc:78.75\n",
            "validation start\n"
          ]
        },
        {
          "output_type": "stream",
          "name": "stderr",
          "text": [
            "\n",
            "15it [00:00, 75.27it/s]              "
          ]
        },
        {
          "output_type": "stream",
          "name": "stdout",
          "text": [
            "Val Loss:0.1214, Val_Acc:81.67\n",
            "loss 0.1372 - accu 74.8540 - val_loss 0.1161 - val_accu 81.3230\n",
            "=> saved best model\n",
            "Epoch [194/500]\n"
          ]
        },
        {
          "output_type": "stream",
          "name": "stderr",
          "text": [
            "\n",
            "100%|██████████| 60/60 [00:00<00:00, 93.91it/s] "
          ]
        },
        {
          "output_type": "stream",
          "name": "stdout",
          "text": [
            "Train Loss:0.1206, Train Acc:76.67\n",
            "validation start\n"
          ]
        },
        {
          "output_type": "stream",
          "name": "stderr",
          "text": [
            "\n",
            "15it [00:00, 80.84it/s]              "
          ]
        },
        {
          "output_type": "stream",
          "name": "stdout",
          "text": [
            "Val Loss:0.1239, Val_Acc:85.00\n",
            "loss 0.1371 - accu 74.8632 - val_loss 0.1162 - val_accu 81.3419\n",
            "=> saved best model\n",
            "Epoch [195/500]\n"
          ]
        },
        {
          "output_type": "stream",
          "name": "stderr",
          "text": [
            "\n",
            "100%|██████████| 60/60 [00:00<00:00, 92.45it/s] "
          ]
        },
        {
          "output_type": "stream",
          "name": "stdout",
          "text": [
            "Train Loss:0.1189, Train Acc:77.92\n",
            "validation start\n"
          ]
        },
        {
          "output_type": "stream",
          "name": "stderr",
          "text": [
            "\n",
            "15it [00:00, 74.57it/s]              "
          ]
        },
        {
          "output_type": "stream",
          "name": "stdout",
          "text": [
            "Val Loss:0.1110, Val_Acc:81.67\n",
            "loss 0.1370 - accu 74.8788 - val_loss 0.1161 - val_accu 81.3435\n",
            "=> saved best model\n",
            "Epoch [196/500]\n"
          ]
        },
        {
          "output_type": "stream",
          "name": "stderr",
          "text": [
            "\n",
            "100%|██████████| 60/60 [00:00<00:00, 94.73it/s] "
          ]
        },
        {
          "output_type": "stream",
          "name": "stdout",
          "text": [
            "Train Loss:0.1167, Train Acc:75.83\n",
            "validation start\n"
          ]
        },
        {
          "output_type": "stream",
          "name": "stderr",
          "text": [
            "\n",
            "15it [00:00, 77.63it/s]              \n"
          ]
        },
        {
          "output_type": "stream",
          "name": "stdout",
          "text": [
            "Val Loss:0.1112, Val_Acc:78.33\n",
            "loss 0.1369 - accu 74.8837 - val_loss 0.1161 - val_accu 81.3283\n",
            "Epoch [197/500]\n"
          ]
        },
        {
          "output_type": "stream",
          "name": "stderr",
          "text": [
            "100%|██████████| 60/60 [00:00<00:00, 87.51it/s] "
          ]
        },
        {
          "output_type": "stream",
          "name": "stdout",
          "text": [
            "Train Loss:0.1069, Train Acc:78.33\n",
            "validation start\n"
          ]
        },
        {
          "output_type": "stream",
          "name": "stderr",
          "text": [
            "\n",
            "15it [00:00, 66.39it/s] "
          ]
        },
        {
          "output_type": "stream",
          "name": "stdout",
          "text": [
            "Val Loss:0.1200, Val_Acc:86.67\n",
            "loss 0.1367 - accu 74.9011 - val_loss 0.1161 - val_accu 81.3552\n",
            "=> saved best model\n",
            "Epoch [198/500]\n"
          ]
        },
        {
          "output_type": "stream",
          "name": "stderr",
          "text": [
            "\n",
            "100%|██████████| 60/60 [00:00<00:00, 89.72it/s] "
          ]
        },
        {
          "output_type": "stream",
          "name": "stdout",
          "text": [
            "Train Loss:0.1136, Train Acc:80.00\n",
            "validation start\n"
          ]
        },
        {
          "output_type": "stream",
          "name": "stderr",
          "text": [
            "\n",
            "15it [00:00, 69.35it/s]              "
          ]
        },
        {
          "output_type": "stream",
          "name": "stdout",
          "text": [
            "Val Loss:0.1093, Val_Acc:80.00\n",
            "loss 0.1366 - accu 74.9267 - val_loss 0.1161 - val_accu 81.3484\n",
            "Epoch [199/500]\n"
          ]
        },
        {
          "output_type": "stream",
          "name": "stderr",
          "text": [
            "\n",
            "100%|██████████| 60/60 [00:00<00:00, 89.12it/s] "
          ]
        },
        {
          "output_type": "stream",
          "name": "stdout",
          "text": [
            "Train Loss:0.1134, Train Acc:79.58\n",
            "validation start\n"
          ]
        },
        {
          "output_type": "stream",
          "name": "stderr",
          "text": [
            "\n",
            "15it [00:00, 73.31it/s]              "
          ]
        },
        {
          "output_type": "stream",
          "name": "stdout",
          "text": [
            "Val Loss:0.1099, Val_Acc:83.33\n",
            "loss 0.1365 - accu 74.9500 - val_loss 0.1161 - val_accu 81.3583\n",
            "=> saved best model\n",
            "Epoch [200/500]\n"
          ]
        },
        {
          "output_type": "stream",
          "name": "stderr",
          "text": [
            "\n",
            "100%|██████████| 60/60 [00:00<00:00, 86.30it/s] "
          ]
        },
        {
          "output_type": "stream",
          "name": "stdout",
          "text": [
            "Train Loss:0.1113, Train Acc:78.33\n",
            "validation start\n"
          ]
        },
        {
          "output_type": "stream",
          "name": "stderr",
          "text": [
            "\n",
            "15it [00:00, 75.30it/s]              "
          ]
        },
        {
          "output_type": "stream",
          "name": "stdout",
          "text": [
            "Val Loss:0.1153, Val_Acc:86.67\n",
            "loss 0.1364 - accu 74.9668 - val_loss 0.1161 - val_accu 81.3847\n",
            "=> saved best model\n",
            "Epoch [201/500]\n"
          ]
        },
        {
          "output_type": "stream",
          "name": "stderr",
          "text": [
            "\n",
            "100%|██████████| 60/60 [00:00<00:00, 92.13it/s] "
          ]
        },
        {
          "output_type": "stream",
          "name": "stdout",
          "text": [
            "Train Loss:0.1166, Train Acc:77.92\n",
            "validation start\n"
          ]
        },
        {
          "output_type": "stream",
          "name": "stderr",
          "text": [
            "\n",
            "15it [00:00, 69.87it/s]              "
          ]
        },
        {
          "output_type": "stream",
          "name": "stdout",
          "text": [
            "Val Loss:0.1109, Val_Acc:83.33\n",
            "loss 0.1363 - accu 74.9814 - val_loss 0.1160 - val_accu 81.3944\n",
            "=> saved best model\n",
            "Epoch [202/500]\n"
          ]
        },
        {
          "output_type": "stream",
          "name": "stderr",
          "text": [
            "\n",
            "100%|██████████| 60/60 [00:00<00:00, 87.68it/s] "
          ]
        },
        {
          "output_type": "stream",
          "name": "stdout",
          "text": [
            "Train Loss:0.1105, Train Acc:80.83\n",
            "validation start\n"
          ]
        },
        {
          "output_type": "stream",
          "name": "stderr",
          "text": [
            "\n",
            "15it [00:00, 69.95it/s]              "
          ]
        },
        {
          "output_type": "stream",
          "name": "stdout",
          "text": [
            "Val Loss:0.1108, Val_Acc:78.33\n",
            "loss 0.1361 - accu 75.0103 - val_loss 0.1160 - val_accu 81.3793\n",
            "Epoch [203/500]\n"
          ]
        },
        {
          "output_type": "stream",
          "name": "stderr",
          "text": [
            "\n",
            "100%|██████████| 60/60 [00:00<00:00, 89.80it/s] "
          ]
        },
        {
          "output_type": "stream",
          "name": "stdout",
          "text": [
            "Train Loss:0.1129, Train Acc:81.25\n",
            "validation start\n"
          ]
        },
        {
          "output_type": "stream",
          "name": "stderr",
          "text": [
            "\n",
            "15it [00:00, 66.88it/s]              "
          ]
        },
        {
          "output_type": "stream",
          "name": "stdout",
          "text": [
            "Val Loss:0.1119, Val_Acc:80.00\n",
            "loss 0.1360 - accu 75.0408 - val_loss 0.1160 - val_accu 81.3725\n",
            "Epoch [204/500]\n"
          ]
        },
        {
          "output_type": "stream",
          "name": "stderr",
          "text": [
            "\n",
            "100%|██████████| 60/60 [00:00<00:00, 91.53it/s] "
          ]
        },
        {
          "output_type": "stream",
          "name": "stdout",
          "text": [
            "Train Loss:0.1137, Train Acc:77.08\n",
            "validation start\n"
          ]
        },
        {
          "output_type": "stream",
          "name": "stderr",
          "text": [
            "\n",
            "15it [00:00, 63.00it/s] "
          ]
        },
        {
          "output_type": "stream",
          "name": "stdout",
          "text": [
            "Val Loss:0.1101, Val_Acc:78.33\n",
            "loss 0.1359 - accu 75.0508 - val_loss 0.1160 - val_accu 81.3577\n",
            "Epoch [205/500]\n"
          ]
        },
        {
          "output_type": "stream",
          "name": "stderr",
          "text": [
            "\n",
            "100%|██████████| 60/60 [00:00<00:00, 85.24it/s]"
          ]
        },
        {
          "output_type": "stream",
          "name": "stdout",
          "text": [
            "Train Loss:0.1122, Train Acc:81.67\n",
            "validation start\n"
          ]
        },
        {
          "output_type": "stream",
          "name": "stderr",
          "text": [
            "\n",
            "15it [00:00, 69.23it/s]              "
          ]
        },
        {
          "output_type": "stream",
          "name": "stdout",
          "text": [
            "Val Loss:0.1058, Val_Acc:81.67\n",
            "loss 0.1358 - accu 75.0829 - val_loss 0.1159 - val_accu 81.3592\n",
            "Epoch [206/500]\n"
          ]
        },
        {
          "output_type": "stream",
          "name": "stderr",
          "text": [
            "\n",
            "100%|██████████| 60/60 [00:00<00:00, 91.71it/s] "
          ]
        },
        {
          "output_type": "stream",
          "name": "stdout",
          "text": [
            "Train Loss:0.1103, Train Acc:80.83\n",
            "validation start\n"
          ]
        },
        {
          "output_type": "stream",
          "name": "stderr",
          "text": [
            "\n",
            "15it [00:00, 60.65it/s] "
          ]
        },
        {
          "output_type": "stream",
          "name": "stdout",
          "text": [
            "Val Loss:0.1094, Val_Acc:80.00\n",
            "loss 0.1357 - accu 75.1107 - val_loss 0.1159 - val_accu 81.3527\n",
            "Epoch [207/500]\n"
          ]
        },
        {
          "output_type": "stream",
          "name": "stderr",
          "text": [
            "\n",
            "100%|██████████| 60/60 [00:00<00:00, 88.85it/s] "
          ]
        },
        {
          "output_type": "stream",
          "name": "stdout",
          "text": [
            "Train Loss:0.1131, Train Acc:79.17\n",
            "validation start\n"
          ]
        },
        {
          "output_type": "stream",
          "name": "stderr",
          "text": [
            "\n",
            "15it [00:00, 63.74it/s]"
          ]
        },
        {
          "output_type": "stream",
          "name": "stdout",
          "text": [
            "Val Loss:0.1168, Val_Acc:83.33\n",
            "loss 0.1356 - accu 75.1302 - val_loss 0.1159 - val_accu 81.3622\n",
            "Epoch [208/500]\n"
          ]
        },
        {
          "output_type": "stream",
          "name": "stderr",
          "text": [
            "\n",
            "100%|██████████| 60/60 [00:00<00:00, 89.55it/s] "
          ]
        },
        {
          "output_type": "stream",
          "name": "stdout",
          "text": [
            "Train Loss:0.1207, Train Acc:76.67\n",
            "validation start\n"
          ]
        },
        {
          "output_type": "stream",
          "name": "stderr",
          "text": [
            "\n",
            "15it [00:00, 71.88it/s]              "
          ]
        },
        {
          "output_type": "stream",
          "name": "stdout",
          "text": [
            "Val Loss:0.1099, Val_Acc:81.67\n",
            "loss 0.1355 - accu 75.1376 - val_loss 0.1159 - val_accu 81.3636\n",
            "Epoch [209/500]\n"
          ]
        },
        {
          "output_type": "stream",
          "name": "stderr",
          "text": [
            "\n",
            "100%|██████████| 60/60 [00:00<00:00, 89.08it/s] "
          ]
        },
        {
          "output_type": "stream",
          "name": "stdout",
          "text": [
            "Train Loss:0.1136, Train Acc:80.00\n",
            "validation start\n"
          ]
        },
        {
          "output_type": "stream",
          "name": "stderr",
          "text": [
            "\n",
            "15it [00:00, 69.19it/s]              "
          ]
        },
        {
          "output_type": "stream",
          "name": "stdout",
          "text": [
            "Val Loss:0.1104, Val_Acc:78.33\n",
            "loss 0.1354 - accu 75.1607 - val_loss 0.1158 - val_accu 81.3492\n",
            "Epoch [210/500]\n"
          ]
        },
        {
          "output_type": "stream",
          "name": "stderr",
          "text": [
            "\n",
            "100%|██████████| 60/60 [00:00<00:00, 88.82it/s]"
          ]
        },
        {
          "output_type": "stream",
          "name": "stdout",
          "text": [
            "Train Loss:0.1107, Train Acc:80.83\n",
            "validation start\n"
          ]
        },
        {
          "output_type": "stream",
          "name": "stderr",
          "text": [
            "\n",
            "15it [00:00, 64.18it/s]"
          ]
        },
        {
          "output_type": "stream",
          "name": "stdout",
          "text": [
            "Val Loss:0.1147, Val_Acc:85.00\n",
            "loss 0.1353 - accu 75.1876 - val_loss 0.1158 - val_accu 81.3665\n",
            "Epoch [211/500]\n"
          ]
        },
        {
          "output_type": "stream",
          "name": "stderr",
          "text": [
            "\n",
            "100%|██████████| 60/60 [00:00<00:00, 94.84it/s] "
          ]
        },
        {
          "output_type": "stream",
          "name": "stdout",
          "text": [
            "Train Loss:0.1162, Train Acc:78.75\n",
            "validation start\n"
          ]
        },
        {
          "output_type": "stream",
          "name": "stderr",
          "text": [
            "\n",
            "15it [00:00, 62.89it/s]"
          ]
        },
        {
          "output_type": "stream",
          "name": "stdout",
          "text": [
            "Val Loss:0.1149, Val_Acc:81.67\n",
            "loss 0.1352 - accu 75.2044 - val_loss 0.1158 - val_accu 81.3679\n",
            "Epoch [212/500]\n"
          ]
        },
        {
          "output_type": "stream",
          "name": "stderr",
          "text": [
            "\n",
            "100%|██████████| 60/60 [00:00<00:00, 89.49it/s] "
          ]
        },
        {
          "output_type": "stream",
          "name": "stdout",
          "text": [
            "Train Loss:0.1190, Train Acc:77.50\n",
            "validation start\n"
          ]
        },
        {
          "output_type": "stream",
          "name": "stderr",
          "text": [
            "\n",
            "15it [00:00, 67.68it/s]              "
          ]
        },
        {
          "output_type": "stream",
          "name": "stdout",
          "text": [
            "Val Loss:0.1080, Val_Acc:80.00\n",
            "loss 0.1351 - accu 75.2152 - val_loss 0.1158 - val_accu 81.3615\n",
            "Epoch [213/500]\n"
          ]
        },
        {
          "output_type": "stream",
          "name": "stderr",
          "text": [
            "\n",
            "100%|██████████| 60/60 [00:00<00:00, 84.98it/s] "
          ]
        },
        {
          "output_type": "stream",
          "name": "stdout",
          "text": [
            "Train Loss:0.1182, Train Acc:77.50\n",
            "validation start\n"
          ]
        },
        {
          "output_type": "stream",
          "name": "stderr",
          "text": [
            "\n",
            "15it [00:00, 67.77it/s]              "
          ]
        },
        {
          "output_type": "stream",
          "name": "stdout",
          "text": [
            "Val Loss:0.1150, Val_Acc:81.67\n",
            "loss 0.1350 - accu 75.2259 - val_loss 0.1158 - val_accu 81.3629\n",
            "Epoch [214/500]\n"
          ]
        },
        {
          "output_type": "stream",
          "name": "stderr",
          "text": [
            "\n",
            "100%|██████████| 60/60 [00:00<00:00, 91.17it/s] "
          ]
        },
        {
          "output_type": "stream",
          "name": "stdout",
          "text": [
            "Train Loss:0.1137, Train Acc:80.83\n",
            "validation start\n"
          ]
        },
        {
          "output_type": "stream",
          "name": "stderr",
          "text": [
            "\n",
            "15it [00:00, 62.60it/s]"
          ]
        },
        {
          "output_type": "stream",
          "name": "stdout",
          "text": [
            "Val Loss:0.1172, Val_Acc:83.33\n",
            "loss 0.1349 - accu 75.2519 - val_loss 0.1158 - val_accu 81.3721\n",
            "Epoch [215/500]\n"
          ]
        },
        {
          "output_type": "stream",
          "name": "stderr",
          "text": [
            "\n",
            "100%|██████████| 60/60 [00:00<00:00, 82.94it/s]"
          ]
        },
        {
          "output_type": "stream",
          "name": "stdout",
          "text": [
            "Train Loss:0.1181, Train Acc:77.92\n",
            "validation start\n"
          ]
        },
        {
          "output_type": "stream",
          "name": "stderr",
          "text": [
            "\n",
            "15it [00:00, 64.06it/s]"
          ]
        },
        {
          "output_type": "stream",
          "name": "stdout",
          "text": [
            "Val Loss:0.1188, Val_Acc:83.33\n",
            "loss 0.1349 - accu 75.2643 - val_loss 0.1158 - val_accu 81.3812\n",
            "Epoch [216/500]\n"
          ]
        },
        {
          "output_type": "stream",
          "name": "stderr",
          "text": [
            "\n",
            "100%|██████████| 60/60 [00:00<00:00, 90.50it/s] "
          ]
        },
        {
          "output_type": "stream",
          "name": "stdout",
          "text": [
            "Train Loss:0.1177, Train Acc:77.50\n",
            "validation start\n"
          ]
        },
        {
          "output_type": "stream",
          "name": "stderr",
          "text": [
            "\n",
            "15it [00:00, 58.64it/s]"
          ]
        },
        {
          "output_type": "stream",
          "name": "stdout",
          "text": [
            "Val Loss:0.1120, Val_Acc:80.00\n",
            "loss 0.1348 - accu 75.2746 - val_loss 0.1158 - val_accu 81.3748\n",
            "Epoch [217/500]\n"
          ]
        },
        {
          "output_type": "stream",
          "name": "stderr",
          "text": [
            "\n",
            "100%|██████████| 60/60 [00:00<00:00, 89.55it/s] "
          ]
        },
        {
          "output_type": "stream",
          "name": "stdout",
          "text": [
            "Train Loss:0.1137, Train Acc:81.67\n",
            "validation start\n"
          ]
        },
        {
          "output_type": "stream",
          "name": "stderr",
          "text": [
            "\n",
            "15it [00:00, 73.47it/s]              "
          ]
        },
        {
          "output_type": "stream",
          "name": "stdout",
          "text": [
            "Val Loss:0.1104, Val_Acc:81.67\n",
            "loss 0.1347 - accu 75.3039 - val_loss 0.1158 - val_accu 81.3761\n",
            "Epoch [218/500]\n"
          ]
        },
        {
          "output_type": "stream",
          "name": "stderr",
          "text": [
            "\n",
            "100%|██████████| 60/60 [00:00<00:00, 93.93it/s] "
          ]
        },
        {
          "output_type": "stream",
          "name": "stdout",
          "text": [
            "Train Loss:0.1165, Train Acc:79.17\n",
            "validation start\n"
          ]
        },
        {
          "output_type": "stream",
          "name": "stderr",
          "text": [
            "\n",
            "15it [00:00, 70.67it/s]              "
          ]
        },
        {
          "output_type": "stream",
          "name": "stdout",
          "text": [
            "Val Loss:0.1120, Val_Acc:81.67\n",
            "loss 0.1346 - accu 75.3215 - val_loss 0.1157 - val_accu 81.3775\n",
            "Epoch [219/500]\n"
          ]
        },
        {
          "output_type": "stream",
          "name": "stderr",
          "text": [
            "\n",
            "100%|██████████| 60/60 [00:00<00:00, 84.60it/s] \n"
          ]
        },
        {
          "output_type": "stream",
          "name": "stdout",
          "text": [
            "Train Loss:0.1095, Train Acc:80.83\n",
            "validation start\n"
          ]
        },
        {
          "output_type": "stream",
          "name": "stderr",
          "text": [
            "15it [00:00, 64.10it/s]"
          ]
        },
        {
          "output_type": "stream",
          "name": "stdout",
          "text": [
            "Val Loss:0.1117, Val_Acc:81.67\n",
            "loss 0.1345 - accu 75.3466 - val_loss 0.1157 - val_accu 81.3788\n",
            "Epoch [220/500]\n"
          ]
        },
        {
          "output_type": "stream",
          "name": "stderr",
          "text": [
            "\n",
            "100%|██████████| 60/60 [00:00<00:00, 89.66it/s] "
          ]
        },
        {
          "output_type": "stream",
          "name": "stdout",
          "text": [
            "Train Loss:0.1132, Train Acc:76.67\n",
            "validation start\n"
          ]
        },
        {
          "output_type": "stream",
          "name": "stderr",
          "text": [
            "\n",
            "15it [00:00, 59.45it/s]"
          ]
        },
        {
          "output_type": "stream",
          "name": "stdout",
          "text": [
            "Val Loss:0.1225, Val_Acc:86.67\n",
            "loss 0.1344 - accu 75.3526 - val_loss 0.1158 - val_accu 81.4027\n",
            "=> saved best model\n",
            "Epoch [221/500]\n"
          ]
        },
        {
          "output_type": "stream",
          "name": "stderr",
          "text": [
            "\n",
            "100%|██████████| 60/60 [00:00<00:00, 83.86it/s]"
          ]
        },
        {
          "output_type": "stream",
          "name": "stdout",
          "text": [
            "Train Loss:0.1176, Train Acc:78.33\n",
            "validation start\n"
          ]
        },
        {
          "output_type": "stream",
          "name": "stderr",
          "text": [
            "\n",
            "15it [00:00, 56.16it/s]"
          ]
        },
        {
          "output_type": "stream",
          "name": "stdout",
          "text": [
            "Val Loss:0.1169, Val_Acc:81.67\n",
            "loss 0.1343 - accu 75.3660 - val_loss 0.1158 - val_accu 81.4039\n",
            "=> saved best model\n",
            "Epoch [222/500]\n"
          ]
        },
        {
          "output_type": "stream",
          "name": "stderr",
          "text": [
            "\n",
            "100%|██████████| 60/60 [00:00<00:00, 88.02it/s] "
          ]
        },
        {
          "output_type": "stream",
          "name": "stdout",
          "text": [
            "Train Loss:0.1150, Train Acc:76.67\n",
            "validation start\n"
          ]
        },
        {
          "output_type": "stream",
          "name": "stderr",
          "text": [
            "\n",
            "15it [00:00, 77.59it/s]              "
          ]
        },
        {
          "output_type": "stream",
          "name": "stdout",
          "text": [
            "Val Loss:0.1146, Val_Acc:81.67\n",
            "loss 0.1342 - accu 75.3718 - val_loss 0.1158 - val_accu 81.4051\n",
            "=> saved best model\n",
            "Epoch [223/500]\n"
          ]
        },
        {
          "output_type": "stream",
          "name": "stderr",
          "text": [
            "\n",
            "100%|██████████| 60/60 [00:00<00:00, 88.66it/s] "
          ]
        },
        {
          "output_type": "stream",
          "name": "stdout",
          "text": [
            "Train Loss:0.1093, Train Acc:80.42\n",
            "validation start\n"
          ]
        },
        {
          "output_type": "stream",
          "name": "stderr",
          "text": [
            "\n",
            "15it [00:00, 71.39it/s]              "
          ]
        },
        {
          "output_type": "stream",
          "name": "stdout",
          "text": [
            "Val Loss:0.1186, Val_Acc:80.00\n",
            "loss 0.1341 - accu 75.3943 - val_loss 0.1158 - val_accu 81.3988\n",
            "Epoch [224/500]\n"
          ]
        },
        {
          "output_type": "stream",
          "name": "stderr",
          "text": [
            "\n",
            "100%|██████████| 60/60 [00:00<00:00, 85.71it/s]"
          ]
        },
        {
          "output_type": "stream",
          "name": "stdout",
          "text": [
            "Train Loss:0.1224, Train Acc:78.33\n",
            "validation start\n"
          ]
        },
        {
          "output_type": "stream",
          "name": "stderr",
          "text": [
            "\n",
            "15it [00:00, 57.51it/s]"
          ]
        },
        {
          "output_type": "stream",
          "name": "stdout",
          "text": [
            "Val Loss:0.1490, Val_Acc:83.33\n",
            "loss 0.1341 - accu 75.4074 - val_loss 0.1159 - val_accu 81.4074\n",
            "=> saved best model\n",
            "Epoch [225/500]\n"
          ]
        },
        {
          "output_type": "stream",
          "name": "stderr",
          "text": [
            "\n",
            "100%|██████████| 60/60 [00:00<00:00, 88.97it/s] "
          ]
        },
        {
          "output_type": "stream",
          "name": "stdout",
          "text": [
            "Train Loss:0.1126, Train Acc:78.75\n",
            "validation start\n"
          ]
        },
        {
          "output_type": "stream",
          "name": "stderr",
          "text": [
            "\n",
            "15it [00:00, 68.82it/s]              "
          ]
        },
        {
          "output_type": "stream",
          "name": "stdout",
          "text": [
            "Val Loss:0.1142, Val_Acc:80.00\n",
            "loss 0.1340 - accu 75.4222 - val_loss 0.1159 - val_accu 81.4012\n",
            "Epoch [226/500]\n"
          ]
        },
        {
          "output_type": "stream",
          "name": "stderr",
          "text": [
            "\n",
            "100%|██████████| 60/60 [00:00<00:00, 85.29it/s]"
          ]
        },
        {
          "output_type": "stream",
          "name": "stdout",
          "text": [
            "Train Loss:0.1039, Train Acc:82.92\n",
            "validation start\n"
          ]
        },
        {
          "output_type": "stream",
          "name": "stderr",
          "text": [
            "\n",
            "15it [00:00, 58.76it/s]"
          ]
        },
        {
          "output_type": "stream",
          "name": "stdout",
          "text": [
            "Val Loss:0.1176, Val_Acc:78.33\n",
            "loss 0.1338 - accu 75.4552 - val_loss 0.1159 - val_accu 81.3877\n",
            "Epoch [227/500]\n"
          ]
        },
        {
          "output_type": "stream",
          "name": "stderr",
          "text": [
            "\n",
            "100%|██████████| 60/60 [00:00<00:00, 85.59it/s]"
          ]
        },
        {
          "output_type": "stream",
          "name": "stdout",
          "text": [
            "Train Loss:0.1163, Train Acc:76.25\n",
            "validation start\n"
          ]
        },
        {
          "output_type": "stream",
          "name": "stderr",
          "text": [
            "\n",
            "15it [00:00, 68.72it/s]              "
          ]
        },
        {
          "output_type": "stream",
          "name": "stdout",
          "text": [
            "Val Loss:0.1169, Val_Acc:80.00\n",
            "loss 0.1338 - accu 75.4587 - val_loss 0.1159 - val_accu 81.3816\n",
            "Epoch [228/500]\n"
          ]
        },
        {
          "output_type": "stream",
          "name": "stderr",
          "text": [
            "\n",
            "100%|██████████| 60/60 [00:00<00:00, 87.16it/s] "
          ]
        },
        {
          "output_type": "stream",
          "name": "stdout",
          "text": [
            "Train Loss:0.1184, Train Acc:78.33\n",
            "validation start\n"
          ]
        },
        {
          "output_type": "stream",
          "name": "stderr",
          "text": [
            "\n",
            "15it [00:00, 68.08it/s]              "
          ]
        },
        {
          "output_type": "stream",
          "name": "stdout",
          "text": [
            "Val Loss:0.1127, Val_Acc:81.67\n",
            "loss 0.1337 - accu 75.4713 - val_loss 0.1159 - val_accu 81.3828\n",
            "Epoch [229/500]\n"
          ]
        },
        {
          "output_type": "stream",
          "name": "stderr",
          "text": [
            "\n",
            "100%|██████████| 60/60 [00:00<00:00, 83.26it/s]"
          ]
        },
        {
          "output_type": "stream",
          "name": "stdout",
          "text": [
            "Train Loss:0.1126, Train Acc:79.17\n",
            "validation start\n"
          ]
        },
        {
          "output_type": "stream",
          "name": "stderr",
          "text": [
            "\n",
            "15it [00:00, 65.35it/s]              "
          ]
        },
        {
          "output_type": "stream",
          "name": "stdout",
          "text": [
            "Val Loss:0.1101, Val_Acc:81.67\n",
            "loss 0.1336 - accu 75.4873 - val_loss 0.1159 - val_accu 81.3841\n",
            "Epoch [230/500]\n"
          ]
        },
        {
          "output_type": "stream",
          "name": "stderr",
          "text": [
            "\n",
            "100%|██████████| 60/60 [00:00<00:00, 85.25it/s]"
          ]
        },
        {
          "output_type": "stream",
          "name": "stdout",
          "text": [
            "Train Loss:0.1183, Train Acc:76.25\n",
            "validation start\n"
          ]
        },
        {
          "output_type": "stream",
          "name": "stderr",
          "text": [
            "\n",
            "15it [00:00, 58.36it/s]"
          ]
        },
        {
          "output_type": "stream",
          "name": "stdout",
          "text": [
            "Val Loss:0.1088, Val_Acc:80.00\n",
            "loss 0.1335 - accu 75.4906 - val_loss 0.1158 - val_accu 81.3781\n",
            "Epoch [231/500]\n"
          ]
        },
        {
          "output_type": "stream",
          "name": "stderr",
          "text": [
            "\n",
            "100%|██████████| 60/60 [00:00<00:00, 88.52it/s] "
          ]
        },
        {
          "output_type": "stream",
          "name": "stdout",
          "text": [
            "Train Loss:0.1214, Train Acc:77.08\n",
            "validation start\n"
          ]
        },
        {
          "output_type": "stream",
          "name": "stderr",
          "text": [
            "\n",
            "15it [00:00, 56.18it/s]"
          ]
        },
        {
          "output_type": "stream",
          "name": "stdout",
          "text": [
            "Val Loss:0.1264, Val_Acc:85.00\n",
            "loss 0.1335 - accu 75.4975 - val_loss 0.1159 - val_accu 81.3937\n",
            "Epoch [232/500]\n"
          ]
        },
        {
          "output_type": "stream",
          "name": "stderr",
          "text": [
            "\n",
            "100%|██████████| 60/60 [00:00<00:00, 83.95it/s]"
          ]
        },
        {
          "output_type": "stream",
          "name": "stdout",
          "text": [
            "Train Loss:0.1100, Train Acc:78.75\n",
            "validation start\n"
          ]
        },
        {
          "output_type": "stream",
          "name": "stderr",
          "text": [
            "\n",
            "15it [00:00, 58.82it/s]"
          ]
        },
        {
          "output_type": "stream",
          "name": "stdout",
          "text": [
            "Val Loss:0.1112, Val_Acc:81.67\n",
            "loss 0.1334 - accu 75.5114 - val_loss 0.1159 - val_accu 81.3948\n",
            "Epoch [233/500]\n"
          ]
        },
        {
          "output_type": "stream",
          "name": "stderr",
          "text": [
            "\n",
            "100%|██████████| 60/60 [00:00<00:00, 89.84it/s] "
          ]
        },
        {
          "output_type": "stream",
          "name": "stdout",
          "text": [
            "Train Loss:0.1128, Train Acc:78.33\n",
            "validation start\n"
          ]
        },
        {
          "output_type": "stream",
          "name": "stderr",
          "text": [
            "\n",
            "15it [00:00, 70.89it/s]              "
          ]
        },
        {
          "output_type": "stream",
          "name": "stdout",
          "text": [
            "Val Loss:0.1141, Val_Acc:81.67\n",
            "loss 0.1333 - accu 75.5235 - val_loss 0.1159 - val_accu 81.3960\n",
            "Epoch [234/500]\n"
          ]
        },
        {
          "output_type": "stream",
          "name": "stderr",
          "text": [
            "\n",
            "100%|██████████| 60/60 [00:00<00:00, 91.28it/s]"
          ]
        },
        {
          "output_type": "stream",
          "name": "stdout",
          "text": [
            "Train Loss:0.1085, Train Acc:80.42\n",
            "validation start\n"
          ]
        },
        {
          "output_type": "stream",
          "name": "stderr",
          "text": [
            "\n",
            "15it [00:00, 62.68it/s]"
          ]
        },
        {
          "output_type": "stream",
          "name": "stdout",
          "text": [
            "Val Loss:0.1121, Val_Acc:81.67\n",
            "loss 0.1332 - accu 75.5443 - val_loss 0.1159 - val_accu 81.3972\n",
            "Epoch [235/500]\n"
          ]
        },
        {
          "output_type": "stream",
          "name": "stderr",
          "text": [
            "\n",
            "100%|██████████| 60/60 [00:00<00:00, 85.95it/s]"
          ]
        },
        {
          "output_type": "stream",
          "name": "stdout",
          "text": [
            "Train Loss:0.1103, Train Acc:80.83\n",
            "validation start\n"
          ]
        },
        {
          "output_type": "stream",
          "name": "stderr",
          "text": [
            "\n",
            "15it [00:00, 73.93it/s]              "
          ]
        },
        {
          "output_type": "stream",
          "name": "stdout",
          "text": [
            "Val Loss:0.1155, Val_Acc:78.33\n",
            "loss 0.1331 - accu 75.5667 - val_loss 0.1158 - val_accu 81.3842\n",
            "Epoch [236/500]\n"
          ]
        },
        {
          "output_type": "stream",
          "name": "stderr",
          "text": [
            "\n",
            "100%|██████████| 60/60 [00:00<00:00, 86.12it/s]"
          ]
        },
        {
          "output_type": "stream",
          "name": "stdout",
          "text": [
            "Train Loss:0.1069, Train Acc:78.75\n",
            "validation start\n"
          ]
        },
        {
          "output_type": "stream",
          "name": "stderr",
          "text": [
            "\n",
            "15it [00:00, 62.46it/s] "
          ]
        },
        {
          "output_type": "stream",
          "name": "stdout",
          "text": [
            "Val Loss:0.1152, Val_Acc:76.67\n",
            "loss 0.1330 - accu 75.5802 - val_loss 0.1158 - val_accu 81.3643\n",
            "Epoch [237/500]\n"
          ]
        },
        {
          "output_type": "stream",
          "name": "stderr",
          "text": [
            "\n",
            "100%|██████████| 60/60 [00:00<00:00, 85.17it/s]"
          ]
        },
        {
          "output_type": "stream",
          "name": "stdout",
          "text": [
            "Train Loss:0.1157, Train Acc:80.42\n",
            "validation start\n"
          ]
        },
        {
          "output_type": "stream",
          "name": "stderr",
          "text": [
            "\n",
            "15it [00:00, 62.51it/s]"
          ]
        },
        {
          "output_type": "stream",
          "name": "stdout",
          "text": [
            "Val Loss:0.1186, Val_Acc:80.00\n",
            "loss 0.1329 - accu 75.6005 - val_loss 0.1159 - val_accu 81.3585\n",
            "Epoch [238/500]\n"
          ]
        },
        {
          "output_type": "stream",
          "name": "stderr",
          "text": [
            "\n",
            "100%|██████████| 60/60 [00:00<00:00, 87.55it/s] "
          ]
        },
        {
          "output_type": "stream",
          "name": "stdout",
          "text": [
            "Train Loss:0.1134, Train Acc:80.83\n",
            "validation start\n"
          ]
        },
        {
          "output_type": "stream",
          "name": "stderr",
          "text": [
            "\n",
            "15it [00:00, 72.37it/s]              "
          ]
        },
        {
          "output_type": "stream",
          "name": "stdout",
          "text": [
            "Val Loss:0.1130, Val_Acc:80.00\n",
            "loss 0.1328 - accu 75.6224 - val_loss 0.1158 - val_accu 81.3529\n",
            "Epoch [239/500]\n"
          ]
        },
        {
          "output_type": "stream",
          "name": "stderr",
          "text": [
            "\n",
            "100%|██████████| 60/60 [00:00<00:00, 88.64it/s] "
          ]
        },
        {
          "output_type": "stream",
          "name": "stdout",
          "text": [
            "Train Loss:0.1122, Train Acc:78.33\n",
            "validation start\n"
          ]
        },
        {
          "output_type": "stream",
          "name": "stderr",
          "text": [
            "\n",
            "15it [00:00, 65.26it/s]              "
          ]
        },
        {
          "output_type": "stream",
          "name": "stdout",
          "text": [
            "Val Loss:0.1104, Val_Acc:80.00\n",
            "loss 0.1327 - accu 75.6337 - val_loss 0.1158 - val_accu 81.3472\n",
            "Epoch [240/500]\n"
          ]
        },
        {
          "output_type": "stream",
          "name": "stderr",
          "text": [
            "\n",
            "100%|██████████| 60/60 [00:00<00:00, 81.17it/s]"
          ]
        },
        {
          "output_type": "stream",
          "name": "stdout",
          "text": [
            "Train Loss:0.1082, Train Acc:79.58\n",
            "validation start\n"
          ]
        },
        {
          "output_type": "stream",
          "name": "stderr",
          "text": [
            "\n",
            "15it [00:00, 61.72it/s]"
          ]
        },
        {
          "output_type": "stream",
          "name": "stdout",
          "text": [
            "Val Loss:0.1108, Val_Acc:83.33\n",
            "loss 0.1326 - accu 75.6501 - val_loss 0.1158 - val_accu 81.3555\n",
            "Epoch [241/500]\n"
          ]
        },
        {
          "output_type": "stream",
          "name": "stderr",
          "text": [
            "\n",
            "100%|██████████| 60/60 [00:00<00:00, 85.81it/s] "
          ]
        },
        {
          "output_type": "stream",
          "name": "stdout",
          "text": [
            "Train Loss:0.1072, Train Acc:79.58\n",
            "validation start\n"
          ]
        },
        {
          "output_type": "stream",
          "name": "stderr",
          "text": [
            "\n",
            "15it [00:00, 59.14it/s]"
          ]
        },
        {
          "output_type": "stream",
          "name": "stdout",
          "text": [
            "Val Loss:0.1132, Val_Acc:88.33\n",
            "loss 0.1325 - accu 75.6663 - val_loss 0.1158 - val_accu 81.3843\n",
            "Epoch [242/500]\n"
          ]
        },
        {
          "output_type": "stream",
          "name": "stderr",
          "text": [
            "\n",
            "100%|██████████| 60/60 [00:00<00:00, 87.13it/s]"
          ]
        },
        {
          "output_type": "stream",
          "name": "stdout",
          "text": [
            "Train Loss:0.1170, Train Acc:79.58\n",
            "validation start\n"
          ]
        },
        {
          "output_type": "stream",
          "name": "stderr",
          "text": [
            "\n",
            "15it [00:00, 59.87it/s]"
          ]
        },
        {
          "output_type": "stream",
          "name": "stdout",
          "text": [
            "Val Loss:0.1215, Val_Acc:81.67\n",
            "loss 0.1325 - accu 75.6824 - val_loss 0.1158 - val_accu 81.3855\n",
            "Epoch [243/500]\n"
          ]
        },
        {
          "output_type": "stream",
          "name": "stderr",
          "text": [
            "\n",
            "100%|██████████| 60/60 [00:00<00:00, 88.25it/s] "
          ]
        },
        {
          "output_type": "stream",
          "name": "stdout",
          "text": [
            "Train Loss:0.1086, Train Acc:78.75\n",
            "validation start\n"
          ]
        },
        {
          "output_type": "stream",
          "name": "stderr",
          "text": [
            "\n",
            "15it [00:00, 62.46it/s]"
          ]
        },
        {
          "output_type": "stream",
          "name": "stdout",
          "text": [
            "Val Loss:0.1112, Val_Acc:81.67\n",
            "loss 0.1324 - accu 75.6950 - val_loss 0.1158 - val_accu 81.3866\n",
            "Epoch [244/500]\n"
          ]
        },
        {
          "output_type": "stream",
          "name": "stderr",
          "text": [
            "\n",
            "100%|██████████| 60/60 [00:00<00:00, 90.10it/s] "
          ]
        },
        {
          "output_type": "stream",
          "name": "stdout",
          "text": [
            "Train Loss:0.1080, Train Acc:79.58\n",
            "validation start\n"
          ]
        },
        {
          "output_type": "stream",
          "name": "stderr",
          "text": [
            "\n",
            "15it [00:00, 60.19it/s]"
          ]
        },
        {
          "output_type": "stream",
          "name": "stdout",
          "text": [
            "Val Loss:0.1105, Val_Acc:81.67\n",
            "loss 0.1323 - accu 75.7109 - val_loss 0.1158 - val_accu 81.3878\n",
            "=> early stopping\n"
          ]
        },
        {
          "output_type": "stream",
          "name": "stderr",
          "text": [
            "\n"
          ]
        }
      ]
    }
  ]
}