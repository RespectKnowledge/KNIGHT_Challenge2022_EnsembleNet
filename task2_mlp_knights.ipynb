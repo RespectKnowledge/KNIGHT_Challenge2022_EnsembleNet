{
  "nbformat": 4,
  "nbformat_minor": 0,
  "metadata": {
    "colab": {
      "name": "task2_mlp_knights.ipynb",
      "provenance": []
    },
    "kernelspec": {
      "name": "python3",
      "display_name": "Python 3"
    },
    "language_info": {
      "name": "python"
    },
    "accelerator": "GPU"
  },
  "cells": [
    {
      "cell_type": "code",
      "execution_count": null,
      "metadata": {
        "colab": {
          "base_uri": "https://localhost:8080/"
        },
        "id": "JAE3_l4OF2hx",
        "outputId": "131e8718-d5ff-44a6-b12e-ac634f38d85a"
      },
      "outputs": [
        {
          "output_type": "stream",
          "name": "stdout",
          "text": [
            "Mounted at /content/drive\n"
          ]
        }
      ],
      "source": [
        "from google.colab import drive\n",
        "drive.mount('/content/drive')"
      ]
    },
    {
      "cell_type": "code",
      "source": [
        "cd /content/drive/MyDrive"
      ],
      "metadata": {
        "colab": {
          "base_uri": "https://localhost:8080/"
        },
        "id": "fO9QurqpGEtU",
        "outputId": "7d71499f-b4dd-45a8-8d68-8c854b65a606"
      },
      "execution_count": null,
      "outputs": [
        {
          "output_type": "stream",
          "name": "stdout",
          "text": [
            "/content/drive/MyDrive\n"
          ]
        }
      ]
    },
    {
      "cell_type": "code",
      "source": [
        "!pip install SimpleITK"
      ],
      "metadata": {
        "colab": {
          "base_uri": "https://localhost:8080/"
        },
        "id": "FOjXtUloGHp0",
        "outputId": "16bad8de-47d7-4459-d2fa-98dcd6f9471c"
      },
      "execution_count": null,
      "outputs": [
        {
          "output_type": "stream",
          "name": "stdout",
          "text": [
            "Collecting SimpleITK\n",
            "  Downloading SimpleITK-2.1.1-cp37-cp37m-manylinux_2_12_x86_64.manylinux2010_x86_64.whl (48.4 MB)\n",
            "\u001b[K     |████████████████████████████████| 48.4 MB 1.6 MB/s \n",
            "\u001b[?25hInstalling collected packages: SimpleITK\n",
            "Successfully installed SimpleITK-2.1.1\n"
          ]
        }
      ]
    },
    {
      "cell_type": "code",
      "source": [
        "import torch\n",
        "import pandas as pd\n",
        "from torch.utils.data import Dataset\n",
        "from torch.utils.data import DataLoader\n",
        "import os\n",
        "import SimpleITK as sitk\n",
        "import numpy as np\n",
        "import os\n",
        "import numpy as np\n",
        "import skimage\n",
        "#import skimage.io as io\n",
        "import skimage.transform as transform\n",
        "import torch\n",
        "\n",
        "import numpy as np\n",
        "import pandas as pd\n",
        "import torch\n",
        "import os\n",
        "#os.environ[\"CUDA_VISIBLE_DEVICES\"] = \"0,1\" \n",
        "from torch.utils.data import Dataset\n",
        "from torch.utils.data import DataLoader\n",
        "import os\n",
        "import cv2\n",
        "import matplotlib.pyplot as plt\n",
        "import skimage \n",
        "\n",
        "#import logging\n",
        "#import traceback\n",
        "from typing import Optional, Tuple\n",
        "\n",
        "\n",
        "def kits_normalization(input_image: np.ndarray):\n",
        "    # first, clip to [-62, 310] (corresponds to 0.5 and 99.5 percentile in the foreground regions)\n",
        "    # then, subtract 104.9 and divide by 75.3 (corresponds to mean and std in the foreground regions, respectively)\n",
        "    clip_min = -62\n",
        "    clip_max = 301\n",
        "    mean_val = 104.0\n",
        "    std_val = 75.3\n",
        "    input_image = np.minimum(np.maximum(input_image, clip_min), clip_max)\n",
        "    input_image -= mean_val\n",
        "    input_image /= std_val\n",
        "    return input_image\n",
        "\n",
        "def normalize_to_range(input_image: np.ndarray, range: Tuple = (0.0, 1.0)):\n",
        "    \"\"\"\n",
        "    Scales tensor to range\n",
        "    @param input_image: image of shape (H x W x C)\n",
        "    @param range:       bounds for normalization\n",
        "    @return:            normalized image\n",
        "    \"\"\"\n",
        "    max_val = input_image.max()\n",
        "    min_val = input_image.min()\n",
        "    if min_val == max_val == 0:\n",
        "        return input_image\n",
        "    input_image = input_image - min_val\n",
        "    input_image = input_image / (max_val - min_val)\n",
        "    input_image = input_image * (range[1] - range[0])\n",
        "    input_image = input_image + range[0]\n",
        "    return input_image\n",
        "\n",
        "from typing import Iterable\n",
        "\n",
        "def center_crop(np_image: np.ndarray,\n",
        "                new_shape: Iterable[int],\n",
        "                outside_val: float = 0\n",
        "                ) -> np.ndarray:\n",
        "    output_image = np.full(new_shape, outside_val, np_image.dtype)\n",
        "\n",
        "    slices = tuple()\n",
        "    offsets = tuple()\n",
        "    for it, sh in enumerate(new_shape):\n",
        "        size = sh // 2\n",
        "        if it == 0:\n",
        "            center = np_image.shape[it] - size\n",
        "        else:\n",
        "            center = (np_image.shape[it] // 2)\n",
        "        start = center - size\n",
        "        stop = center + size + (sh % 2)\n",
        "\n",
        "        # computing what area of the original image will be in the cropped output\n",
        "        slce = slice(max(0, start), min(np_image.shape[it], stop))\n",
        "        slices += (slce,)\n",
        "\n",
        "        # computing offset to pad if the crop is partly outside of the scan\n",
        "        offset = slice(-min(0, start), 2 * size - max(0, (start + 2 * size) - np_image.shape[it]))\n",
        "        offsets += (offset,)\n",
        "\n",
        "    output_image[offsets] = np_image[slices]\n",
        "\n",
        "    return output_image\n",
        "\n",
        "\n",
        "def pad_image(image: np.ndarray, outer_height: int, outer_width: int, pad_value: Tuple):\n",
        "    \"\"\"\n",
        "    Pastes input image in the middle of a larger one\n",
        "    @param image:        image of shape (H x W x C)\n",
        "    @param outer_height: final outer height\n",
        "    @param outer_width:  final outer width\n",
        "    @param pad_value:    value for padding around inner image\n",
        "    @return:             padded image\n",
        "    \"\"\"\n",
        "    inner_height, inner_width = image.shape[0], image.shape[1]\n",
        "    h_offset = int((outer_height - inner_height) / 2.0)\n",
        "    w_offset = int((outer_width - inner_width) / 2.0)\n",
        "    outer_image = np.ones((outer_height, outer_width, 3), dtype=image.dtype) * pad_value\n",
        "    outer_image[h_offset:h_offset + inner_height, w_offset:w_offset + inner_width, :] = image\n",
        "\n",
        "    return outer_image\n",
        "\n",
        "\n",
        "class deeeeset(Dataset):\n",
        "    def __init__(self,in_out):\n",
        "        self.in_out=in_out\n",
        "        \n",
        "        #self.new_shape=new_shape\n",
        "        #self.input_data = input_data\n",
        "        self.ids=self.in_out['SubjectId']\n",
        "        self.label=self.in_out['task_2_label']\n",
        "        \n",
        "        self.feature=self.in_out.drop(['SubjectId','gender','aua_risk_group','task_1_label','task_2_label'],axis=1, inplace=True)\n",
        "\n",
        "    \n",
        "            \n",
        "        \n",
        "    def __getitem__(self,idx):\n",
        "        \n",
        "        feat=self.in_out.iloc[idx]\n",
        "        x_feature=pd.DataFrame(feat).T\n",
        "        \n",
        "        # norm_img=get_array_img\n",
        "        \n",
        "        y_output=self.label[idx]\n",
        "        x_f_array=np.array(x_feature)\n",
        "        x_f_array_t=torch.from_numpy(x_f_array).float()\n",
        "        x_f_array_t=torch.squeeze(x_f_array_t,axis=0)\n",
        "        return (x_f_array_t,y_output)\n",
        "    \n",
        "    def __len__(self):\n",
        "        return(len(self.label))\n",
        "    \n",
        "\n",
        "\n",
        "#input_image = center_crop(input_image, new_shape=new_shape) \n",
        "    \n",
        "    \n",
        "filet=pd.read_csv('/content/drive/MyDrive/knight_challenegs2022/trainf4new.csv')\n",
        "#data='/home/imranr/knights/data'\n",
        "\n",
        "filev=pd.read_csv('/content/drive/MyDrive/knight_challenegs2022/validf4new.csv')\n",
        "\n",
        "\n",
        "\n",
        "\n",
        "#len(filev['task_1_label']==0)\n",
        "#len(filev['task_1_label']==1)\n",
        "#len(filev['task_1_label']==2)\n",
        "#len(filev['task_1_label']==3)\n",
        "#len(filev['task_1_label']==4)\n",
        "\n",
        "#classes=['NoAT','CanAT']\n",
        "#c1=filet['task_1_label'].value_counts()[0]\n",
        "#175\n",
        "c1=filet['task_2_label'].value_counts()[0]\n",
        "c2=filet['task_2_label'].value_counts()[1]\n",
        "c3=filet['task_2_label'].value_counts()[2]\n",
        "c4=filet['task_2_label'].value_counts()[3]\n",
        "c5=filet['task_2_label'].value_counts()[4]\n",
        "print(c1)\n",
        "print(c2)\n",
        "print(c3)\n",
        "print(c4)\n",
        "print(c5)\n",
        "#c2=filet['task_1_label'].value_counts()[1]\n",
        "#65\n",
        "\n",
        "train_dataset=deeeeset(filet)\n",
        "valid_dataset=deeeeset(filev)\n",
        "\n",
        "#print(len(train_dataset))\n",
        "#print(len(valid_dataset))\n",
        "\n",
        "f,o=valid_dataset[2]\n",
        "\n",
        "#print(i.shape)\n",
        "#print(i.min())\n",
        "#print(i.max())\n",
        "#print(o)\n",
        "#print(f)\n",
        "\n",
        "# i,f, o=train_dataset[2]\n",
        "\n",
        "# print(i.shape)\n",
        "# print(i.min())\n",
        "# print(i.max())\n",
        "# print(o)\n",
        "# print(f)\n",
        "\n",
        "#%\n",
        "from torch.utils.data import DataLoader\n",
        "\n",
        "# train_dataloader = DataLoader(ob_d, batch_size=4, shuffle=True)\n",
        "# #test_dataloader = DataLoader(test_data, batch_size=64, shuffle=True)\n",
        "# for i, data in enumerate(train_dataloader):\n",
        "#     img,f,l=data\n",
        "#     print(img.shape)\n",
        "#     print(f.shape)\n",
        "#     print(l)\n",
        "#     break\n",
        "    \n",
        "\n",
        "batch=4\n",
        "\n",
        "train_dataloader = DataLoader(train_dataset, batch_size= batch,pin_memory=True,num_workers=6, shuffle=True)\n",
        "\n",
        "valid_dataloader = DataLoader(valid_dataset, batch_size= batch,pin_memory=True,num_workers=6, shuffle=False)\n"
      ],
      "metadata": {
        "colab": {
          "base_uri": "https://localhost:8080/"
        },
        "id": "ZIqkb1qIKjdw",
        "outputId": "122be93a-8de3-4524-9ac5-e6dcd9c77b17"
      },
      "execution_count": null,
      "outputs": [
        {
          "output_type": "stream",
          "name": "stdout",
          "text": [
            "20\n",
            "112\n",
            "37\n",
            "34\n",
            "37\n"
          ]
        },
        {
          "output_type": "stream",
          "name": "stderr",
          "text": [
            "/usr/local/lib/python3.7/dist-packages/torch/utils/data/dataloader.py:481: UserWarning: This DataLoader will create 6 worker processes in total. Our suggested max number of worker in current system is 2, which is smaller than what this DataLoader is going to create. Please be aware that excessive worker creation might get DataLoader running slow or even freeze, lower the worker number to avoid potential slowness/freeze if necessary.\n",
            "  cpuset_checked))\n"
          ]
        }
      ]
    },
    {
      "cell_type": "code",
      "source": [
        "cd /content/drive/MyDrive/knight_challenegs2022/models"
      ],
      "metadata": {
        "colab": {
          "base_uri": "https://localhost:8080/"
        },
        "id": "Jf_1TG_4MKRX",
        "outputId": "322efeb1-5e19-4380-ab6f-804da782ed31"
      },
      "execution_count": null,
      "outputs": [
        {
          "output_type": "stream",
          "name": "stdout",
          "text": [
            "/content/drive/MyDrive/knight_challenegs2022/models\n"
          ]
        }
      ]
    },
    {
      "cell_type": "code",
      "source": [
        "!mkdir fold0modelt2"
      ],
      "metadata": {
        "id": "URzXqz1QMSdm"
      },
      "execution_count": null,
      "outputs": []
    },
    {
      "cell_type": "code",
      "source": [
        "!mkdir fold1modelt2"
      ],
      "metadata": {
        "id": "1VpYQwCIMX8X"
      },
      "execution_count": null,
      "outputs": []
    },
    {
      "cell_type": "code",
      "source": [
        "!mkdir fold2modelt2"
      ],
      "metadata": {
        "id": "TkH8CBn1Ma43"
      },
      "execution_count": null,
      "outputs": []
    },
    {
      "cell_type": "code",
      "source": [
        "!mkdir fold3modelt2"
      ],
      "metadata": {
        "id": "B6wf1ITwMcjV"
      },
      "execution_count": null,
      "outputs": []
    },
    {
      "cell_type": "code",
      "source": [
        "!mkdir fold4modelt2"
      ],
      "metadata": {
        "id": "Ss4x3ELmMlVe"
      },
      "execution_count": null,
      "outputs": []
    },
    {
      "cell_type": "code",
      "source": [
        "cd /content/drive/MyDrive/knight_challenegs2022"
      ],
      "metadata": {
        "colab": {
          "base_uri": "https://localhost:8080/"
        },
        "id": "FQRYB2TWM6zl",
        "outputId": "44046043-3d2c-4e8b-b021-041ebfb55f74"
      },
      "execution_count": null,
      "outputs": [
        {
          "output_type": "stream",
          "name": "stdout",
          "text": [
            "/content/drive/MyDrive/knight_challenegs2022\n"
          ]
        }
      ]
    },
    {
      "cell_type": "code",
      "source": [
        "import torch\n",
        "import pandas as pd\n",
        "from torch.utils.data import Dataset\n",
        "from torch.utils.data import DataLoader\n",
        "import os\n",
        "import SimpleITK as sitk\n",
        "import numpy as np\n",
        "import os\n",
        "import numpy as np\n",
        "import skimage\n",
        "#import skimage.io as io\n",
        "import skimage.transform as transform\n",
        "import torch\n",
        "\n",
        "import numpy as np\n",
        "import pandas as pd\n",
        "import torch\n",
        "import os\n",
        "#os.environ[\"CUDA_VISIBLE_DEVICES\"] = \"0,1\" \n",
        "from torch.utils.data import Dataset\n",
        "from torch.utils.data import DataLoader\n",
        "import os\n",
        "import cv2\n",
        "import matplotlib.pyplot as plt\n",
        "import skimage \n",
        "\n",
        "#import logging\n",
        "#import traceback\n",
        "from typing import Optional, Tuple\n",
        "\n",
        "\n",
        "def kits_normalization(input_image: np.ndarray):\n",
        "    # first, clip to [-62, 310] (corresponds to 0.5 and 99.5 percentile in the foreground regions)\n",
        "    # then, subtract 104.9 and divide by 75.3 (corresponds to mean and std in the foreground regions, respectively)\n",
        "    clip_min = -62\n",
        "    clip_max = 301\n",
        "    mean_val = 104.0\n",
        "    std_val = 75.3\n",
        "    input_image = np.minimum(np.maximum(input_image, clip_min), clip_max)\n",
        "    input_image -= mean_val\n",
        "    input_image /= std_val\n",
        "    return input_image\n",
        "\n",
        "def normalize_to_range(input_image: np.ndarray, range: Tuple = (0.0, 1.0)):\n",
        "    \"\"\"\n",
        "    Scales tensor to range\n",
        "    @param input_image: image of shape (H x W x C)\n",
        "    @param range:       bounds for normalization\n",
        "    @return:            normalized image\n",
        "    \"\"\"\n",
        "    max_val = input_image.max()\n",
        "    min_val = input_image.min()\n",
        "    if min_val == max_val == 0:\n",
        "        return input_image\n",
        "    input_image = input_image - min_val\n",
        "    input_image = input_image / (max_val - min_val)\n",
        "    input_image = input_image * (range[1] - range[0])\n",
        "    input_image = input_image + range[0]\n",
        "    return input_image\n",
        "\n",
        "from typing import Iterable\n",
        "\n",
        "def center_crop(np_image: np.ndarray,\n",
        "                new_shape: Iterable[int],\n",
        "                outside_val: float = 0\n",
        "                ) -> np.ndarray:\n",
        "    output_image = np.full(new_shape, outside_val, np_image.dtype)\n",
        "\n",
        "    slices = tuple()\n",
        "    offsets = tuple()\n",
        "    for it, sh in enumerate(new_shape):\n",
        "        size = sh // 2\n",
        "        if it == 0:\n",
        "            center = np_image.shape[it] - size\n",
        "        else:\n",
        "            center = (np_image.shape[it] // 2)\n",
        "        start = center - size\n",
        "        stop = center + size + (sh % 2)\n",
        "\n",
        "        # computing what area of the original image will be in the cropped output\n",
        "        slce = slice(max(0, start), min(np_image.shape[it], stop))\n",
        "        slices += (slce,)\n",
        "\n",
        "        # computing offset to pad if the crop is partly outside of the scan\n",
        "        offset = slice(-min(0, start), 2 * size - max(0, (start + 2 * size) - np_image.shape[it]))\n",
        "        offsets += (offset,)\n",
        "\n",
        "    output_image[offsets] = np_image[slices]\n",
        "\n",
        "    return output_image\n",
        "\n",
        "\n",
        "def pad_image(image: np.ndarray, outer_height: int, outer_width: int, pad_value: Tuple):\n",
        "    \"\"\"\n",
        "    Pastes input image in the middle of a larger one\n",
        "    @param image:        image of shape (H x W x C)\n",
        "    @param outer_height: final outer height\n",
        "    @param outer_width:  final outer width\n",
        "    @param pad_value:    value for padding around inner image\n",
        "    @return:             padded image\n",
        "    \"\"\"\n",
        "    inner_height, inner_width = image.shape[0], image.shape[1]\n",
        "    h_offset = int((outer_height - inner_height) / 2.0)\n",
        "    w_offset = int((outer_width - inner_width) / 2.0)\n",
        "    outer_image = np.ones((outer_height, outer_width, 3), dtype=image.dtype) * pad_value\n",
        "    outer_image[h_offset:h_offset + inner_height, w_offset:w_offset + inner_width, :] = image\n",
        "\n",
        "    return outer_image\n",
        "\n",
        "\n",
        "class deeeeset(Dataset):\n",
        "    def __init__(self,in_out):\n",
        "        self.in_out=in_out\n",
        "        \n",
        "        #self.new_shape=new_shape\n",
        "        #self.input_data = input_data\n",
        "        self.ids=self.in_out['SubjectId']\n",
        "        self.label=self.in_out['task_2_label']\n",
        "        \n",
        "        self.feature=self.in_out.drop(['SubjectId','gender','aua_risk_group','task_1_label','task_2_label'],axis=1, inplace=True)\n",
        "\n",
        "    \n",
        "            \n",
        "        \n",
        "    def __getitem__(self,idx):\n",
        "        \n",
        "        feat=self.in_out.iloc[idx]\n",
        "        x_feature=pd.DataFrame(feat).T\n",
        "        \n",
        "        # norm_img=get_array_img\n",
        "        \n",
        "        y_output=self.label[idx]\n",
        "        x_f_array=np.array(x_feature)\n",
        "        x_f_array_t=torch.from_numpy(x_f_array).float()\n",
        "        x_f_array_t=torch.squeeze(x_f_array_t,axis=0)\n",
        "        return (x_f_array_t,y_output)\n",
        "    \n",
        "    def __len__(self):\n",
        "        return(len(self.label))\n",
        "    \n",
        "\n",
        "\n",
        "#input_image = center_crop(input_image, new_shape=new_shape) \n",
        "    \n",
        "    \n",
        "filet=pd.read_csv('/content/drive/MyDrive/knight_challenegs2022/trainf4new.csv')\n",
        "#data='/home/imranr/knights/data'\n",
        "\n",
        "filev=pd.read_csv('/content/drive/MyDrive/knight_challenegs2022/validf4new.csv')\n",
        "\n",
        "\n",
        "\n",
        "\n",
        "#len(filev['task_1_label']==0)\n",
        "#len(filev['task_1_label']==1)\n",
        "\n",
        "#classes=['NoAT','CanAT']\n",
        "#c1=filet['task_1_label'].value_counts()[0]\n",
        "#175\n",
        "\n",
        "#c2=filet['task_1_label'].value_counts()[1]\n",
        "#65\n",
        "\n",
        "train_dataset=deeeeset(filet)\n",
        "valid_dataset=deeeeset(filev)\n",
        "\n",
        "print(len(train_dataset))\n",
        "print(len(valid_dataset))\n",
        "\n",
        "f,o=valid_dataset[2]\n",
        "\n",
        "#print(i.shape)\n",
        "#print(i.min())\n",
        "#print(i.max())\n",
        "print(o)\n",
        "print(f)\n",
        "\n",
        "# i,f, o=train_dataset[2]\n",
        "\n",
        "# print(i.shape)\n",
        "# print(i.min())\n",
        "# print(i.max())\n",
        "# print(o)\n",
        "# print(f)\n",
        "\n",
        "#%\n",
        "from torch.utils.data import DataLoader\n",
        "\n",
        "# train_dataloader = DataLoader(ob_d, batch_size=4, shuffle=True)\n",
        "# #test_dataloader = DataLoader(test_data, batch_size=64, shuffle=True)\n",
        "# for i, data in enumerate(train_dataloader):\n",
        "#     img,f,l=data\n",
        "#     print(img.shape)\n",
        "#     print(f.shape)\n",
        "#     print(l)\n",
        "#     break\n",
        "    \n",
        "\n",
        "batch=4\n",
        "\n",
        "train_dataloader = DataLoader(train_dataset, batch_size= batch,pin_memory=True,num_workers=6, shuffle=True)\n",
        "\n",
        "valid_dataloader = DataLoader(valid_dataset, batch_size= batch,pin_memory=True,num_workers=6, shuffle=False)\n",
        "\n",
        "\n",
        "import sys \n",
        "import os\n",
        "import glob\n",
        "import time\n",
        "import random\n",
        "import os\n",
        "import glob\n",
        "import time\n",
        "import random\n",
        "import torch\n",
        "import numpy as np\n",
        "import pandas as pd\n",
        "import torch.nn as nn\n",
        "\n",
        "device = torch.device(\"cuda\" if torch.cuda.is_available() else \"cpu\")\n",
        "\n",
        "\n",
        "# Copyright (c) MONAI Consortium\n",
        "# Licensed under the Apache License, Version 2.0 (the \"License\");\n",
        "# you may not use this file except in compliance with the License.\n",
        "# You may obtain a copy of the License at\n",
        "#     http://www.apache.org/licenses/LICENSE-2.0\n",
        "# Unless required by applicable law or agreed to in writing, software\n",
        "# distributed under the License is distributed on an \"AS IS\" BASIS,\n",
        "# WITHOUT WARRANTIES OR CONDITIONS OF ANY KIND, either express or implied.\n",
        "# See the License for the specific language governing permissions and\n",
        "# limitations under the License.\n",
        "\n",
        "\"\"\"\n",
        "(C) Copyright 2021 IBM Corp.\n",
        "Licensed under the Apache License, Version 2.0 (the \"License\");\n",
        "you may not use this file except in compliance with the License.\n",
        "You may obtain a copy of the License at\n",
        "   http://www.apache.org/licenses/LICENSE-2.0\n",
        "Unless required by applicable law or agreed to in writing, software\n",
        "distributed under the License is distributed on an \"AS IS\" BASIS,\n",
        "WITHOUT WARRANTIES OR CONDITIONS OF ANY KIND, either express or implied.\n",
        "See the License for the specific language governing permissions and\n",
        "limitations under the License.\n",
        "Created on June 30, 2021\n",
        "\"\"\"\n",
        "\n",
        "from typing import Tuple, Any\n",
        "\n",
        "import torch.nn as nn\n",
        "from torch import Tensor\n",
        "from torch.hub import load_state_dict_from_url\n",
        "from torchvision.models.video.resnet import VideoResNet, BasicBlock, Conv3DSimple, BasicStem, model_urls\n",
        "\n",
        "\n",
        "class FuseBackboneResnet3D(VideoResNet):\n",
        "    \"\"\"\n",
        "    3D model classifier (ResNet architecture\"\n",
        "    \"\"\"\n",
        "\n",
        "    def __init__(self, pretrained: bool = False, in_channels: int = 1, name: str = \"r3d_18\") -> None:\n",
        "        \"\"\"\n",
        "        Create 3D ResNet model\n",
        "        :param pretrained: Use pretrained weights\n",
        "        :param in_channels: number of input channels\n",
        "        :param name: model name. currently only 'r3d_18' is supported\n",
        "        \"\"\"\n",
        "        # init parameters per required backbone\n",
        "        init_parameters = {\n",
        "            'r3d_18': {'block': BasicBlock,\n",
        "                       'conv_makers': [Conv3DSimple] * 4,\n",
        "                       'layers': [2, 2, 2, 2],\n",
        "                       'stem': BasicStem},\n",
        "        }[name]\n",
        "        # init original model\n",
        "        super().__init__(**init_parameters)\n",
        "\n",
        "        # load pretrained parameters if required\n",
        "        if pretrained:\n",
        "            state_dict = load_state_dict_from_url(model_urls[name])\n",
        "            self.load_state_dict(state_dict)\n",
        "\n",
        "        # save input parameters\n",
        "        self.pretrained = pretrained\n",
        "        self.in_channels = in_channels\n",
        "        # override the first convolution layer to support any number of input channels\n",
        "        self.stem = nn.Sequential(\n",
        "            nn.Conv3d(self.in_channels, 64, kernel_size=(3, 7, 7), stride=(1, 2, 2),\n",
        "                      padding=(1, 3, 3), bias=False),\n",
        "            nn.BatchNorm3d(64),\n",
        "            nn.ReLU(inplace=True)\n",
        "        )\n",
        "\n",
        "    def features(self, x: Tensor) -> Any:\n",
        "        \"\"\"\n",
        "        Extract spatial features - given a 3D tensor\n",
        "        :param x: Input tensor - shape: [batch_size, channels, z, y, x]\n",
        "        :return: spatial features - shape [batch_size, n_features, z', y', x']\n",
        "        \"\"\"\n",
        "        x = self.stem(x)\n",
        "\n",
        "        x = self.layer1(x)\n",
        "        x = self.layer2(x)\n",
        "        x = self.layer3(x)\n",
        "        x = self.layer4(x)\n",
        "        return x\n",
        "\n",
        "    def forward(self, x: Tensor) -> Tuple[Tensor, None, None, None]:  # type: ignore\n",
        "        \"\"\"\n",
        "        Forward pass. 3D global classification given a volume\n",
        "        :param x: Input volume. shape: [batch_size, channels, z, y, x]\n",
        "        :return: logits for global classification. shape: [batch_size, n_classes].\n",
        "        \"\"\"\n",
        "        x = self.features(x)\n",
        "        return x\n",
        "    \n",
        "backbone=FuseBackboneResnet3D(pretrained=True)   \n",
        "from typing import Optional, Sequence\n",
        "import torch.nn as nn\n",
        "\n",
        "class ClassifierMLP(nn.Module):\n",
        "    def __init__(self, in_ch: int, num_classes: Optional[int], layers_description: Sequence[int]=(256,128), dropout_rate: float = 0.1):\n",
        "        super().__init__()\n",
        "        layer_list = []\n",
        "        layer_list.append(nn.Linear(in_ch, layers_description[0]))\n",
        "        layer_list.append(nn.ReLU())\n",
        "        if dropout_rate is not None and dropout_rate > 0:\n",
        "            layer_list.append(nn.Dropout(p=dropout_rate))\n",
        "        last_layer_size = layers_description[0]\n",
        "        for curr_layer_size in layers_description[1:]:\n",
        "            layer_list.append(nn.Linear(last_layer_size, curr_layer_size))\n",
        "            layer_list.append(nn.ReLU())\n",
        "            if dropout_rate is not None and dropout_rate > 0:\n",
        "                layer_list.append(nn.Dropout(p=dropout_rate))\n",
        "            last_layer_size = curr_layer_size\n",
        "        \n",
        "        if num_classes is not None:\n",
        "            layer_list.append(nn.Linear(last_layer_size, num_classes))\n",
        "        \n",
        "        self.classifier = nn.Sequential(*layer_list)\n",
        "\n",
        "    def forward(self, x):\n",
        "        x = self.classifier(x)\n",
        "        return x\n",
        "  \n",
        "model=ClassifierMLP(12,5)  \n",
        "import torch    \n",
        "\n",
        "#inp=torch.rand(1,10)\n",
        "#out=model(inp)\n",
        "#print(out.shape)\n",
        "\n",
        "\n",
        "#model=nn.DataParallel(model)\n",
        "model=model.to(device)\n",
        "#loss_func=nn.BCEWithLogitsLoss()\n",
        "from tqdm import tqdm\n",
        "import torch.optim as optim\n",
        "optimizer=optim.Adam(model.parameters(),lr=0.00001)\n",
        "\n",
        "#classes=['NRG','RG']\n",
        "#classes=['NoAT','CanAT']\n",
        "classes=['B','LR','IR','HR','VHR']\n",
        "#classes=[B-score\tLR-score\tIR-score\tHR-score\tVHR-score]\n",
        "#c1=data['label'].value_counts()[0]\n",
        "#c2=data['label'].value_counts()[1]\n",
        "my_distribution=np.array([20,112,37,34,37])\n",
        "class_weights = torch.from_numpy(np.divide(1, my_distribution)).float().to(device)\n",
        "class_weights = class_weights / class_weights.sum()\n",
        "for i, c in enumerate(classes):\n",
        "  print('Weight for class %s: %f' % (c, class_weights.cpu().numpy()[i]))\n",
        "loss_func = nn.CrossEntropyLoss(weight=class_weights)\n",
        "#label=label.to(torch.int64)\n",
        "################################ training functions ###################\n",
        "def train_fn(model,train_loader):\n",
        "    model.train()\n",
        "    counter=0\n",
        "    training_run_loss=0.0\n",
        "    train_running_correct=0.0\n",
        "    for i, data in tqdm(enumerate(train_loader),total=int(len(train_dataset)/train_loader.batch_size)):\n",
        "        counter+=1\n",
        "        # extract dataset\n",
        "        feature,label=data\n",
        "        #imge=imge.float()\n",
        "        #label=label.float()\n",
        "        label.to(torch.int64)\n",
        "        feature=feature.float()\n",
        "        feature=feature.to(device)\n",
        "        #imge=imge.to(device)\n",
        "        label=label.to(device)\n",
        "        #imge=imge.cuda()\n",
        "        #label=label.cuda()\n",
        "        # zero_out the gradient\n",
        "        optimizer.zero_grad()\n",
        "        output=model(feature)\n",
        "        loss=loss_func(output,label)\n",
        "        training_run_loss+=loss.item()\n",
        "        _,preds=torch.max(output.data,1)\n",
        "        train_running_correct+=(preds==label).sum().item()\n",
        "        loss.backward()\n",
        "        optimizer.step()\n",
        "    ###################### state computation ###################\n",
        "    train_loss=training_run_loss/len(train_loader.dataset)\n",
        "    train_loss_ep.append(train_loss)\n",
        "    train_accuracy=100.* train_running_correct/len(train_loader.dataset)\n",
        "    train_accuracy_ep.append(train_accuracy)\n",
        "    print(f\"Train Loss:{train_loss:.4f}, Train Acc:{train_accuracy:0.2f}\")\n",
        "    return train_loss_ep,train_accuracy_ep\n",
        "\n",
        "########################## validation function ##################\n",
        "def validation_fn(model,valid_loader):\n",
        "  # evluation start\n",
        "    print(\"validation start\")\n",
        "    \n",
        "    model.eval()\n",
        "    val_running_loss = 0.0\n",
        "    val_running_correct = 0\n",
        "    with torch.no_grad():\n",
        "        for i,data in tqdm(enumerate(valid_loader),total=int(len(valid_loader)/valid_loader.batch_size)):\n",
        "            feature,label=data\n",
        "            #imge=imge.float()\n",
        "            #label=label.float()\n",
        "            label.to(torch.int64)\n",
        "            feature=feature.float()\n",
        "            feature=feature.to(device)\n",
        "            #imge=imge.to(device)\n",
        "            label=label.to(device)\n",
        "            #imge=imge.cuda()\n",
        "            #label=label.cuda()\n",
        "            output=model(feature)\n",
        "            loss=loss_func(output,label)\n",
        "            val_running_loss+=loss.item()\n",
        "            _,pred=torch.max(output.data,1)\n",
        "            val_running_correct+=(pred==label).sum().item()\n",
        "        val_loss=val_running_loss/len(valid_loader.dataset)\n",
        "        val_loss_ep.append(val_loss)\n",
        "        val_accuracy=100.* val_running_correct/(len(valid_loader.dataset))\n",
        "        val_accuracy_ep.append(val_accuracy)\n",
        "        print(f\"Val Loss:{val_loss:0.4f}, Val_Acc:{val_accuracy:0.2f}\")\n",
        "        return val_loss_ep,val_accuracy_ep\n",
        "\n",
        "import torch.optim as optim\n",
        "optimizer=optim.Adam(model.parameters(),lr=0.0001)\n",
        "train_loss_ep=[]\n",
        "train_accuracy_ep=[]\n",
        "val_loss_ep=[]\n",
        "val_accuracy_ep=[]\n",
        "lr = 3e-4\n",
        "log = pd.DataFrame(index=[], columns=['epoch', 'lr', 'loss', 'accu', 'val_loss', 'val_accu'])\n",
        "early_stop=20\n",
        "epochs=500\n",
        "best_acc = 0\n",
        "name='fold4modelt2'\n",
        "trigger = 0\n",
        "for epoch in range(epochs):\n",
        "    print('Epoch [%d/%d]' %(epoch, epochs))\n",
        "    # train for one epoch\n",
        "    train_loss_ep,train_accuracy_ep=train_fn(model,train_dataloader)\n",
        "    train_loss_ep1=np.mean(train_loss_ep)\n",
        "    train_accuracy_ep1=np.mean(train_accuracy_ep)\n",
        "    #y_pred,labels=Prediciton_fn(model,valid_loader)\n",
        "\n",
        "    val_loss_ep,val_accuracy_ep=validation_fn(model,valid_dataloader)\n",
        "    val_loss_ep1=np.mean(val_loss_ep)\n",
        "    val_accuracy_ep1=np.mean(val_accuracy_ep)\n",
        "    \n",
        "    print('loss %.4f - accu %.4f - val_loss %.4f - val_accu %.4f'%(train_loss_ep1, train_accuracy_ep1, val_loss_ep1, val_accuracy_ep1))\n",
        "\n",
        "    tmp = pd.Series([epoch,lr,train_loss_ep1,train_accuracy_ep1,val_loss_ep1,val_accuracy_ep1], index=['epoch', 'lr', 'loss', 'accu', 'val_loss', 'val_accu'])\n",
        "\n",
        "    log = log.append(tmp, ignore_index=True)\n",
        "    log.to_csv('models/%s/log.csv' %name, index=False)\n",
        "\n",
        "    trigger += 1\n",
        "\n",
        "    if val_accuracy_ep1 > best_acc:\n",
        "        torch.save(model.state_dict(), 'models/%s/3dmodeltask2f3.pth' %name)\n",
        "        best_acc = val_accuracy_ep1\n",
        "        print(\"=> saved best model\")\n",
        "        trigger = 0\n",
        "\n",
        "    # early stopping\n",
        "    if not early_stop is None:\n",
        "        if trigger >= early_stop:\n",
        "            print(\"=> early stopping\")\n",
        "            break\n",
        "\n",
        "    torch.cuda.empty_cache() "
      ],
      "metadata": {
        "colab": {
          "base_uri": "https://localhost:8080/"
        },
        "id": "bKJ7wpzKIohp",
        "outputId": "8037ff41-5799-4775-9c95-2825a703f3e3"
      },
      "execution_count": null,
      "outputs": [
        {
          "output_type": "stream",
          "name": "stdout",
          "text": [
            "240\n",
            "60\n",
            "1\n",
            "tensor([66.0000, 30.6900,  1.0000,  0.0000,  0.0000,  2.3000, 80.0000,  3.0000,\n",
            "         1.0000,  0.8340,  0.8340,  0.5000])\n"
          ]
        },
        {
          "output_type": "stream",
          "name": "stderr",
          "text": [
            "/usr/local/lib/python3.7/dist-packages/torch/utils/data/dataloader.py:481: UserWarning: This DataLoader will create 6 worker processes in total. Our suggested max number of worker in current system is 2, which is smaller than what this DataLoader is going to create. Please be aware that excessive worker creation might get DataLoader running slow or even freeze, lower the worker number to avoid potential slowness/freeze if necessary.\n",
            "  cpuset_checked))\n"
          ]
        },
        {
          "output_type": "stream",
          "name": "stdout",
          "text": [
            "Weight for class B: 0.351137\n",
            "Weight for class LR: 0.062703\n",
            "Weight for class IR: 0.189804\n",
            "Weight for class HR: 0.206551\n",
            "Weight for class VHR: 0.189804\n",
            "Epoch [0/500]\n"
          ]
        },
        {
          "output_type": "stream",
          "name": "stderr",
          "text": [
            "100%|██████████| 60/60 [00:00<00:00, 113.20it/s]"
          ]
        },
        {
          "output_type": "stream",
          "name": "stdout",
          "text": [
            "Train Loss:0.6117, Train Acc:27.50\n",
            "validation start\n"
          ]
        },
        {
          "output_type": "stream",
          "name": "stderr",
          "text": [
            "\n",
            "15it [00:00, 68.04it/s]              "
          ]
        },
        {
          "output_type": "stream",
          "name": "stdout",
          "text": [
            "Val Loss:0.4585, Val_Acc:13.33\n",
            "loss 0.6117 - accu 27.5000 - val_loss 0.4585 - val_accu 13.3333\n",
            "=> saved best model\n",
            "Epoch [1/500]\n"
          ]
        },
        {
          "output_type": "stream",
          "name": "stderr",
          "text": [
            "\n",
            "100%|██████████| 60/60 [00:00<00:00, 115.48it/s]"
          ]
        },
        {
          "output_type": "stream",
          "name": "stdout",
          "text": [
            "Train Loss:0.5363, Train Acc:26.67\n",
            "validation start\n"
          ]
        },
        {
          "output_type": "stream",
          "name": "stderr",
          "text": [
            "\n",
            "15it [00:00, 62.52it/s]              "
          ]
        },
        {
          "output_type": "stream",
          "name": "stdout",
          "text": [
            "Val Loss:0.4133, Val_Acc:45.00\n",
            "loss 0.5740 - accu 27.0833 - val_loss 0.4359 - val_accu 29.1667\n",
            "=> saved best model\n",
            "Epoch [2/500]\n"
          ]
        },
        {
          "output_type": "stream",
          "name": "stderr",
          "text": [
            "\n",
            "100%|██████████| 60/60 [00:00<00:00, 113.48it/s]"
          ]
        },
        {
          "output_type": "stream",
          "name": "stdout",
          "text": [
            "Train Loss:0.5317, Train Acc:30.42\n",
            "validation start\n"
          ]
        },
        {
          "output_type": "stream",
          "name": "stderr",
          "text": [
            "\n",
            "15it [00:00, 53.20it/s]"
          ]
        },
        {
          "output_type": "stream",
          "name": "stdout",
          "text": [
            "Val Loss:0.4037, Val_Acc:43.33\n",
            "loss 0.5599 - accu 28.1944 - val_loss 0.4251 - val_accu 33.8889\n",
            "=> saved best model\n",
            "Epoch [3/500]\n"
          ]
        },
        {
          "output_type": "stream",
          "name": "stderr",
          "text": [
            "\n",
            "100%|██████████| 60/60 [00:00<00:00, 114.83it/s]"
          ]
        },
        {
          "output_type": "stream",
          "name": "stdout",
          "text": [
            "Train Loss:0.5052, Train Acc:30.42\n",
            "validation start\n"
          ]
        },
        {
          "output_type": "stream",
          "name": "stderr",
          "text": [
            "\n",
            "15it [00:00, 56.70it/s]              "
          ]
        },
        {
          "output_type": "stream",
          "name": "stdout",
          "text": [
            "Val Loss:0.4130, Val_Acc:50.00\n",
            "loss 0.5462 - accu 28.7500 - val_loss 0.4221 - val_accu 37.9167\n",
            "=> saved best model\n",
            "Epoch [4/500]\n"
          ]
        },
        {
          "output_type": "stream",
          "name": "stderr",
          "text": [
            "\n",
            "100%|██████████| 60/60 [00:00<00:00, 113.07it/s]"
          ]
        },
        {
          "output_type": "stream",
          "name": "stdout",
          "text": [
            "Train Loss:0.4650, Train Acc:29.58\n",
            "validation start\n"
          ]
        },
        {
          "output_type": "stream",
          "name": "stderr",
          "text": [
            "\n",
            "15it [00:00, 60.90it/s]              "
          ]
        },
        {
          "output_type": "stream",
          "name": "stdout",
          "text": [
            "Val Loss:0.4227, Val_Acc:43.33\n",
            "loss 0.5300 - accu 28.9167 - val_loss 0.4222 - val_accu 39.0000\n",
            "=> saved best model\n",
            "Epoch [5/500]\n"
          ]
        },
        {
          "output_type": "stream",
          "name": "stderr",
          "text": [
            "\n",
            "100%|██████████| 60/60 [00:00<00:00, 123.04it/s]"
          ]
        },
        {
          "output_type": "stream",
          "name": "stdout",
          "text": [
            "Train Loss:0.4876, Train Acc:28.75\n",
            "validation start\n"
          ]
        },
        {
          "output_type": "stream",
          "name": "stderr",
          "text": [
            "\n",
            "15it [00:00, 56.09it/s]              "
          ]
        },
        {
          "output_type": "stream",
          "name": "stdout",
          "text": [
            "Val Loss:0.3963, Val_Acc:41.67\n",
            "loss 0.5229 - accu 28.8889 - val_loss 0.4179 - val_accu 39.4444\n",
            "=> saved best model\n",
            "Epoch [6/500]\n"
          ]
        },
        {
          "output_type": "stream",
          "name": "stderr",
          "text": [
            "\n",
            "100%|██████████| 60/60 [00:00<00:00, 120.29it/s]\n"
          ]
        },
        {
          "output_type": "stream",
          "name": "stdout",
          "text": [
            "Train Loss:0.4128, Train Acc:35.42\n",
            "validation start\n"
          ]
        },
        {
          "output_type": "stream",
          "name": "stderr",
          "text": [
            "15it [00:00, 59.20it/s]              "
          ]
        },
        {
          "output_type": "stream",
          "name": "stdout",
          "text": [
            "Val Loss:0.4017, Val_Acc:45.00\n",
            "loss 0.5072 - accu 29.8214 - val_loss 0.4156 - val_accu 40.2381\n",
            "=> saved best model\n",
            "Epoch [7/500]\n"
          ]
        },
        {
          "output_type": "stream",
          "name": "stderr",
          "text": [
            "\n",
            "100%|██████████| 60/60 [00:00<00:00, 120.21it/s]"
          ]
        },
        {
          "output_type": "stream",
          "name": "stdout",
          "text": [
            "Train Loss:0.4889, Train Acc:30.42\n",
            "validation start\n"
          ]
        },
        {
          "output_type": "stream",
          "name": "stderr",
          "text": [
            "\n",
            "15it [00:00, 56.57it/s]              "
          ]
        },
        {
          "output_type": "stream",
          "name": "stdout",
          "text": [
            "Val Loss:0.4016, Val_Acc:45.00\n",
            "loss 0.5049 - accu 29.8958 - val_loss 0.4138 - val_accu 40.8333\n",
            "=> saved best model\n",
            "Epoch [8/500]\n"
          ]
        },
        {
          "output_type": "stream",
          "name": "stderr",
          "text": [
            "\n",
            "100%|██████████| 60/60 [00:00<00:00, 114.83it/s]"
          ]
        },
        {
          "output_type": "stream",
          "name": "stdout",
          "text": [
            "Train Loss:0.4380, Train Acc:30.00\n",
            "validation start\n"
          ]
        },
        {
          "output_type": "stream",
          "name": "stderr",
          "text": [
            "\n",
            "15it [00:00, 59.62it/s]              "
          ]
        },
        {
          "output_type": "stream",
          "name": "stdout",
          "text": [
            "Val Loss:0.4221, Val_Acc:25.00\n",
            "loss 0.4975 - accu 29.9074 - val_loss 0.4148 - val_accu 39.0741\n",
            "Epoch [9/500]\n"
          ]
        },
        {
          "output_type": "stream",
          "name": "stderr",
          "text": [
            "\n",
            "100%|██████████| 60/60 [00:00<00:00, 116.28it/s]"
          ]
        },
        {
          "output_type": "stream",
          "name": "stdout",
          "text": [
            "Train Loss:0.4456, Train Acc:35.83\n",
            "validation start\n"
          ]
        },
        {
          "output_type": "stream",
          "name": "stderr",
          "text": [
            "\n",
            "15it [00:00, 56.20it/s]              "
          ]
        },
        {
          "output_type": "stream",
          "name": "stdout",
          "text": [
            "Val Loss:0.4173, Val_Acc:45.00\n",
            "loss 0.4923 - accu 30.5000 - val_loss 0.4150 - val_accu 39.6667\n",
            "Epoch [10/500]\n"
          ]
        },
        {
          "output_type": "stream",
          "name": "stderr",
          "text": [
            "\n",
            "100%|██████████| 60/60 [00:00<00:00, 107.86it/s]"
          ]
        },
        {
          "output_type": "stream",
          "name": "stdout",
          "text": [
            "Train Loss:0.4549, Train Acc:31.25\n",
            "validation start\n"
          ]
        },
        {
          "output_type": "stream",
          "name": "stderr",
          "text": [
            "\n",
            "15it [00:00, 59.87it/s]              "
          ]
        },
        {
          "output_type": "stream",
          "name": "stdout",
          "text": [
            "Val Loss:0.3964, Val_Acc:46.67\n",
            "loss 0.4889 - accu 30.5682 - val_loss 0.4133 - val_accu 40.3030\n",
            "Epoch [11/500]\n"
          ]
        },
        {
          "output_type": "stream",
          "name": "stderr",
          "text": [
            "\n",
            "100%|██████████| 60/60 [00:00<00:00, 114.04it/s]"
          ]
        },
        {
          "output_type": "stream",
          "name": "stdout",
          "text": [
            "Train Loss:0.4437, Train Acc:35.83\n",
            "validation start\n"
          ]
        },
        {
          "output_type": "stream",
          "name": "stderr",
          "text": [
            "\n",
            "15it [00:00, 56.28it/s]              "
          ]
        },
        {
          "output_type": "stream",
          "name": "stdout",
          "text": [
            "Val Loss:0.3883, Val_Acc:46.67\n",
            "loss 0.4851 - accu 31.0069 - val_loss 0.4112 - val_accu 40.8333\n",
            "Epoch [12/500]\n"
          ]
        },
        {
          "output_type": "stream",
          "name": "stderr",
          "text": [
            "\n",
            "100%|██████████| 60/60 [00:00<00:00, 109.64it/s]"
          ]
        },
        {
          "output_type": "stream",
          "name": "stdout",
          "text": [
            "Train Loss:0.4468, Train Acc:35.42\n",
            "validation start\n"
          ]
        },
        {
          "output_type": "stream",
          "name": "stderr",
          "text": [
            "\n",
            "15it [00:00, 57.94it/s]              "
          ]
        },
        {
          "output_type": "stream",
          "name": "stdout",
          "text": [
            "Val Loss:0.3804, Val_Acc:46.67\n",
            "loss 0.4822 - accu 31.3462 - val_loss 0.4089 - val_accu 41.2821\n",
            "=> saved best model\n",
            "Epoch [13/500]\n"
          ]
        },
        {
          "output_type": "stream",
          "name": "stderr",
          "text": [
            "\n",
            "100%|██████████| 60/60 [00:00<00:00, 110.94it/s]"
          ]
        },
        {
          "output_type": "stream",
          "name": "stdout",
          "text": [
            "Train Loss:0.4228, Train Acc:34.58\n",
            "validation start\n"
          ]
        },
        {
          "output_type": "stream",
          "name": "stderr",
          "text": [
            "\n",
            "15it [00:00, 56.48it/s]              "
          ]
        },
        {
          "output_type": "stream",
          "name": "stdout",
          "text": [
            "Val Loss:0.3922, Val_Acc:43.33\n",
            "loss 0.4779 - accu 31.5774 - val_loss 0.4077 - val_accu 41.4286\n",
            "=> saved best model\n",
            "Epoch [14/500]\n"
          ]
        },
        {
          "output_type": "stream",
          "name": "stderr",
          "text": [
            "\n",
            "100%|██████████| 60/60 [00:00<00:00, 124.47it/s]"
          ]
        },
        {
          "output_type": "stream",
          "name": "stdout",
          "text": [
            "Train Loss:0.3687, Train Acc:42.50\n",
            "validation start\n"
          ]
        },
        {
          "output_type": "stream",
          "name": "stderr",
          "text": [
            "\n",
            "15it [00:00, 52.79it/s]\n"
          ]
        },
        {
          "output_type": "stream",
          "name": "stdout",
          "text": [
            "Val Loss:0.3816, Val_Acc:53.33\n",
            "loss 0.4707 - accu 32.3056 - val_loss 0.4059 - val_accu 42.2222\n",
            "=> saved best model\n",
            "Epoch [15/500]\n"
          ]
        },
        {
          "output_type": "stream",
          "name": "stderr",
          "text": [
            "100%|██████████| 60/60 [00:00<00:00, 113.50it/s]"
          ]
        },
        {
          "output_type": "stream",
          "name": "stdout",
          "text": [
            "Train Loss:0.3965, Train Acc:42.08\n",
            "validation start\n"
          ]
        },
        {
          "output_type": "stream",
          "name": "stderr",
          "text": [
            "\n",
            "15it [00:00, 60.14it/s]              "
          ]
        },
        {
          "output_type": "stream",
          "name": "stdout",
          "text": [
            "Val Loss:0.3749, Val_Acc:48.33\n",
            "loss 0.4660 - accu 32.9167 - val_loss 0.4040 - val_accu 42.6042\n",
            "=> saved best model\n",
            "Epoch [16/500]\n"
          ]
        },
        {
          "output_type": "stream",
          "name": "stderr",
          "text": [
            "\n",
            "100%|██████████| 60/60 [00:00<00:00, 118.02it/s]"
          ]
        },
        {
          "output_type": "stream",
          "name": "stdout",
          "text": [
            "Train Loss:0.3849, Train Acc:45.00\n",
            "validation start\n"
          ]
        },
        {
          "output_type": "stream",
          "name": "stderr",
          "text": [
            "\n",
            "15it [00:00, 59.36it/s]              "
          ]
        },
        {
          "output_type": "stream",
          "name": "stdout",
          "text": [
            "Val Loss:0.3709, Val_Acc:45.00\n",
            "loss 0.4612 - accu 33.6275 - val_loss 0.4021 - val_accu 42.7451\n",
            "=> saved best model\n",
            "Epoch [17/500]\n"
          ]
        },
        {
          "output_type": "stream",
          "name": "stderr",
          "text": [
            "\n",
            "100%|██████████| 60/60 [00:00<00:00, 118.45it/s]"
          ]
        },
        {
          "output_type": "stream",
          "name": "stdout",
          "text": [
            "Train Loss:0.3966, Train Acc:32.50\n",
            "validation start\n"
          ]
        },
        {
          "output_type": "stream",
          "name": "stderr",
          "text": [
            "\n",
            "15it [00:00, 62.60it/s]              "
          ]
        },
        {
          "output_type": "stream",
          "name": "stdout",
          "text": [
            "Val Loss:0.3709, Val_Acc:50.00\n",
            "loss 0.4577 - accu 33.5648 - val_loss 0.4003 - val_accu 43.1481\n",
            "=> saved best model\n",
            "Epoch [18/500]\n"
          ]
        },
        {
          "output_type": "stream",
          "name": "stderr",
          "text": [
            "\n",
            "100%|██████████| 60/60 [00:00<00:00, 110.72it/s]"
          ]
        },
        {
          "output_type": "stream",
          "name": "stdout",
          "text": [
            "Train Loss:0.3975, Train Acc:39.58\n",
            "validation start\n"
          ]
        },
        {
          "output_type": "stream",
          "name": "stderr",
          "text": [
            "\n",
            "15it [00:00, 60.84it/s]              "
          ]
        },
        {
          "output_type": "stream",
          "name": "stdout",
          "text": [
            "Val Loss:0.3794, Val_Acc:23.33\n",
            "loss 0.4545 - accu 33.8816 - val_loss 0.3992 - val_accu 42.1053\n",
            "Epoch [19/500]\n"
          ]
        },
        {
          "output_type": "stream",
          "name": "stderr",
          "text": [
            "\n",
            "100%|██████████| 60/60 [00:00<00:00, 110.69it/s]"
          ]
        },
        {
          "output_type": "stream",
          "name": "stdout",
          "text": [
            "Train Loss:0.3890, Train Acc:40.83\n",
            "validation start\n"
          ]
        },
        {
          "output_type": "stream",
          "name": "stderr",
          "text": [
            "\n",
            "15it [00:00, 53.63it/s]"
          ]
        },
        {
          "output_type": "stream",
          "name": "stdout",
          "text": [
            "Val Loss:0.3804, Val_Acc:43.33\n",
            "loss 0.4512 - accu 34.2292 - val_loss 0.3983 - val_accu 42.1667\n",
            "Epoch [20/500]\n"
          ]
        },
        {
          "output_type": "stream",
          "name": "stderr",
          "text": [
            "\n",
            "100%|██████████| 60/60 [00:00<00:00, 112.71it/s]"
          ]
        },
        {
          "output_type": "stream",
          "name": "stdout",
          "text": [
            "Train Loss:0.3893, Train Acc:37.50\n",
            "validation start\n"
          ]
        },
        {
          "output_type": "stream",
          "name": "stderr",
          "text": [
            "\n",
            "15it [00:00, 62.51it/s]              "
          ]
        },
        {
          "output_type": "stream",
          "name": "stdout",
          "text": [
            "Val Loss:0.3678, Val_Acc:51.67\n",
            "loss 0.4483 - accu 34.3849 - val_loss 0.3968 - val_accu 42.6190\n",
            "Epoch [21/500]\n"
          ]
        },
        {
          "output_type": "stream",
          "name": "stderr",
          "text": [
            "\n",
            "100%|██████████| 60/60 [00:00<00:00, 111.22it/s]"
          ]
        },
        {
          "output_type": "stream",
          "name": "stdout",
          "text": [
            "Train Loss:0.3871, Train Acc:38.75\n",
            "validation start\n"
          ]
        },
        {
          "output_type": "stream",
          "name": "stderr",
          "text": [
            "\n",
            "15it [00:00, 61.43it/s]              "
          ]
        },
        {
          "output_type": "stream",
          "name": "stdout",
          "text": [
            "Val Loss:0.3830, Val_Acc:51.67\n",
            "loss 0.4455 - accu 34.5833 - val_loss 0.3962 - val_accu 43.0303\n",
            "Epoch [22/500]\n"
          ]
        },
        {
          "output_type": "stream",
          "name": "stderr",
          "text": [
            "\n",
            "100%|██████████| 60/60 [00:00<00:00, 113.56it/s]"
          ]
        },
        {
          "output_type": "stream",
          "name": "stdout",
          "text": [
            "Train Loss:0.3780, Train Acc:44.58\n",
            "validation start\n"
          ]
        },
        {
          "output_type": "stream",
          "name": "stderr",
          "text": [
            "\n",
            "15it [00:00, 61.66it/s]              "
          ]
        },
        {
          "output_type": "stream",
          "name": "stdout",
          "text": [
            "Val Loss:0.3901, Val_Acc:40.00\n",
            "loss 0.4425 - accu 35.0181 - val_loss 0.3959 - val_accu 42.8986\n",
            "Epoch [23/500]\n"
          ]
        },
        {
          "output_type": "stream",
          "name": "stderr",
          "text": [
            "\n",
            "100%|██████████| 60/60 [00:00<00:00, 123.56it/s]"
          ]
        },
        {
          "output_type": "stream",
          "name": "stdout",
          "text": [
            "Train Loss:0.3899, Train Acc:39.58\n",
            "validation start\n"
          ]
        },
        {
          "output_type": "stream",
          "name": "stderr",
          "text": [
            "\n",
            "15it [00:00, 57.98it/s]              "
          ]
        },
        {
          "output_type": "stream",
          "name": "stdout",
          "text": [
            "Val Loss:0.3732, Val_Acc:50.00\n",
            "loss 0.4404 - accu 35.2083 - val_loss 0.3950 - val_accu 43.1944\n",
            "=> saved best model\n",
            "Epoch [24/500]\n"
          ]
        },
        {
          "output_type": "stream",
          "name": "stderr",
          "text": [
            "\n",
            "100%|██████████| 60/60 [00:00<00:00, 109.49it/s]"
          ]
        },
        {
          "output_type": "stream",
          "name": "stdout",
          "text": [
            "Train Loss:0.3837, Train Acc:32.92\n",
            "validation start\n"
          ]
        },
        {
          "output_type": "stream",
          "name": "stderr",
          "text": [
            "\n",
            "15it [00:00, 62.21it/s]              "
          ]
        },
        {
          "output_type": "stream",
          "name": "stdout",
          "text": [
            "Val Loss:0.3815, Val_Acc:53.33\n",
            "loss 0.4381 - accu 35.1167 - val_loss 0.3944 - val_accu 43.6000\n",
            "=> saved best model\n",
            "Epoch [25/500]\n"
          ]
        },
        {
          "output_type": "stream",
          "name": "stderr",
          "text": [
            "\n",
            "100%|██████████| 60/60 [00:00<00:00, 112.99it/s]"
          ]
        },
        {
          "output_type": "stream",
          "name": "stdout",
          "text": [
            "Train Loss:0.3737, Train Acc:47.92\n",
            "validation start\n"
          ]
        },
        {
          "output_type": "stream",
          "name": "stderr",
          "text": [
            "\n",
            "15it [00:00, 54.73it/s]              "
          ]
        },
        {
          "output_type": "stream",
          "name": "stdout",
          "text": [
            "Val Loss:0.3760, Val_Acc:51.67\n",
            "loss 0.4356 - accu 35.6090 - val_loss 0.3937 - val_accu 43.9103\n",
            "=> saved best model\n",
            "Epoch [26/500]\n"
          ]
        },
        {
          "output_type": "stream",
          "name": "stderr",
          "text": [
            "\n",
            "100%|██████████| 60/60 [00:00<00:00, 110.94it/s]"
          ]
        },
        {
          "output_type": "stream",
          "name": "stdout",
          "text": [
            "Train Loss:0.3861, Train Acc:42.92\n",
            "validation start\n"
          ]
        },
        {
          "output_type": "stream",
          "name": "stderr",
          "text": [
            "\n",
            "15it [00:00, 57.41it/s]              "
          ]
        },
        {
          "output_type": "stream",
          "name": "stdout",
          "text": [
            "Val Loss:0.3772, Val_Acc:53.33\n",
            "loss 0.4338 - accu 35.8796 - val_loss 0.3931 - val_accu 44.2593\n",
            "=> saved best model\n",
            "Epoch [27/500]\n"
          ]
        },
        {
          "output_type": "stream",
          "name": "stderr",
          "text": [
            "\n",
            "100%|██████████| 60/60 [00:00<00:00, 115.35it/s]"
          ]
        },
        {
          "output_type": "stream",
          "name": "stdout",
          "text": [
            "Train Loss:0.3940, Train Acc:41.67\n",
            "validation start\n"
          ]
        },
        {
          "output_type": "stream",
          "name": "stderr",
          "text": [
            "\n",
            "15it [00:00, 57.14it/s]              "
          ]
        },
        {
          "output_type": "stream",
          "name": "stdout",
          "text": [
            "Val Loss:0.3763, Val_Acc:53.33\n",
            "loss 0.4324 - accu 36.0863 - val_loss 0.3925 - val_accu 44.5833\n",
            "=> saved best model\n",
            "Epoch [28/500]\n"
          ]
        },
        {
          "output_type": "stream",
          "name": "stderr",
          "text": [
            "\n",
            "100%|██████████| 60/60 [00:00<00:00, 118.88it/s]"
          ]
        },
        {
          "output_type": "stream",
          "name": "stdout",
          "text": [
            "Train Loss:0.3693, Train Acc:42.08\n",
            "validation start\n"
          ]
        },
        {
          "output_type": "stream",
          "name": "stderr",
          "text": [
            "\n",
            "15it [00:00, 54.31it/s]              "
          ]
        },
        {
          "output_type": "stream",
          "name": "stdout",
          "text": [
            "Val Loss:0.3684, Val_Acc:48.33\n",
            "loss 0.4302 - accu 36.2931 - val_loss 0.3917 - val_accu 44.7126\n",
            "=> saved best model\n",
            "Epoch [29/500]\n"
          ]
        },
        {
          "output_type": "stream",
          "name": "stderr",
          "text": [
            "\n",
            "100%|██████████| 60/60 [00:00<00:00, 122.57it/s]"
          ]
        },
        {
          "output_type": "stream",
          "name": "stdout",
          "text": [
            "Train Loss:0.3704, Train Acc:39.17\n",
            "validation start\n"
          ]
        },
        {
          "output_type": "stream",
          "name": "stderr",
          "text": [
            "\n",
            "15it [00:00, 54.13it/s]              "
          ]
        },
        {
          "output_type": "stream",
          "name": "stdout",
          "text": [
            "Val Loss:0.3594, Val_Acc:50.00\n",
            "loss 0.4282 - accu 36.3889 - val_loss 0.3906 - val_accu 44.8889\n",
            "=> saved best model\n",
            "Epoch [30/500]\n"
          ]
        },
        {
          "output_type": "stream",
          "name": "stderr",
          "text": [
            "\n",
            "100%|██████████| 60/60 [00:00<00:00, 113.81it/s]"
          ]
        },
        {
          "output_type": "stream",
          "name": "stdout",
          "text": [
            "Train Loss:0.3660, Train Acc:42.92\n",
            "validation start\n"
          ]
        },
        {
          "output_type": "stream",
          "name": "stderr",
          "text": [
            "\n",
            "15it [00:00, 58.66it/s]              "
          ]
        },
        {
          "output_type": "stream",
          "name": "stdout",
          "text": [
            "Val Loss:0.3753, Val_Acc:48.33\n",
            "loss 0.4262 - accu 36.5995 - val_loss 0.3901 - val_accu 45.0000\n",
            "=> saved best model\n",
            "Epoch [31/500]\n"
          ]
        },
        {
          "output_type": "stream",
          "name": "stderr",
          "text": [
            "\n",
            "100%|██████████| 60/60 [00:00<00:00, 117.53it/s]"
          ]
        },
        {
          "output_type": "stream",
          "name": "stdout",
          "text": [
            "Train Loss:0.3729, Train Acc:43.33\n",
            "validation start\n"
          ]
        },
        {
          "output_type": "stream",
          "name": "stderr",
          "text": [
            "\n",
            "15it [00:00, 63.40it/s]              "
          ]
        },
        {
          "output_type": "stream",
          "name": "stdout",
          "text": [
            "Val Loss:0.3583, Val_Acc:53.33\n",
            "loss 0.4245 - accu 36.8099 - val_loss 0.3891 - val_accu 45.2604\n",
            "=> saved best model\n",
            "Epoch [32/500]\n"
          ]
        },
        {
          "output_type": "stream",
          "name": "stderr",
          "text": [
            "\n",
            "100%|██████████| 60/60 [00:00<00:00, 117.00it/s]"
          ]
        },
        {
          "output_type": "stream",
          "name": "stdout",
          "text": [
            "Train Loss:0.3648, Train Acc:42.50\n",
            "validation start\n"
          ]
        },
        {
          "output_type": "stream",
          "name": "stderr",
          "text": [
            "\n",
            "15it [00:00, 59.32it/s]              "
          ]
        },
        {
          "output_type": "stream",
          "name": "stdout",
          "text": [
            "Val Loss:0.3624, Val_Acc:53.33\n",
            "loss 0.4227 - accu 36.9823 - val_loss 0.3883 - val_accu 45.5051\n",
            "=> saved best model\n",
            "Epoch [33/500]\n"
          ]
        },
        {
          "output_type": "stream",
          "name": "stderr",
          "text": [
            "\n",
            "100%|██████████| 60/60 [00:00<00:00, 108.36it/s]"
          ]
        },
        {
          "output_type": "stream",
          "name": "stdout",
          "text": [
            "Train Loss:0.3639, Train Acc:47.92\n",
            "validation start\n"
          ]
        },
        {
          "output_type": "stream",
          "name": "stderr",
          "text": [
            "\n",
            "15it [00:00, 61.25it/s]              "
          ]
        },
        {
          "output_type": "stream",
          "name": "stdout",
          "text": [
            "Val Loss:0.3642, Val_Acc:48.33\n",
            "loss 0.4210 - accu 37.3039 - val_loss 0.3876 - val_accu 45.5882\n",
            "=> saved best model\n",
            "Epoch [34/500]\n"
          ]
        },
        {
          "output_type": "stream",
          "name": "stderr",
          "text": [
            "\n",
            "100%|██████████| 60/60 [00:00<00:00, 113.01it/s]"
          ]
        },
        {
          "output_type": "stream",
          "name": "stdout",
          "text": [
            "Train Loss:0.3597, Train Acc:48.33\n",
            "validation start\n"
          ]
        },
        {
          "output_type": "stream",
          "name": "stderr",
          "text": [
            "\n",
            "15it [00:00, 64.30it/s]              "
          ]
        },
        {
          "output_type": "stream",
          "name": "stdout",
          "text": [
            "Val Loss:0.3611, Val_Acc:51.67\n",
            "loss 0.4192 - accu 37.6190 - val_loss 0.3868 - val_accu 45.7619\n",
            "=> saved best model\n",
            "Epoch [35/500]\n"
          ]
        },
        {
          "output_type": "stream",
          "name": "stderr",
          "text": [
            "\n",
            "100%|██████████| 60/60 [00:00<00:00, 110.66it/s]"
          ]
        },
        {
          "output_type": "stream",
          "name": "stdout",
          "text": [
            "Train Loss:0.3718, Train Acc:42.50\n",
            "validation start\n"
          ]
        },
        {
          "output_type": "stream",
          "name": "stderr",
          "text": [
            "\n",
            "15it [00:00, 56.24it/s]              "
          ]
        },
        {
          "output_type": "stream",
          "name": "stdout",
          "text": [
            "Val Loss:0.3531, Val_Acc:53.33\n",
            "loss 0.4179 - accu 37.7546 - val_loss 0.3859 - val_accu 45.9722\n",
            "=> saved best model\n",
            "Epoch [36/500]\n"
          ]
        },
        {
          "output_type": "stream",
          "name": "stderr",
          "text": [
            "\n",
            "100%|██████████| 60/60 [00:00<00:00, 117.78it/s]"
          ]
        },
        {
          "output_type": "stream",
          "name": "stdout",
          "text": [
            "Train Loss:0.3681, Train Acc:40.00\n",
            "validation start\n"
          ]
        },
        {
          "output_type": "stream",
          "name": "stderr",
          "text": [
            "\n",
            "15it [00:00, 58.60it/s]              "
          ]
        },
        {
          "output_type": "stream",
          "name": "stdout",
          "text": [
            "Val Loss:0.3575, Val_Acc:50.00\n",
            "loss 0.4166 - accu 37.8153 - val_loss 0.3851 - val_accu 46.0811\n",
            "=> saved best model\n",
            "Epoch [37/500]\n"
          ]
        },
        {
          "output_type": "stream",
          "name": "stderr",
          "text": [
            "\n",
            "100%|██████████| 60/60 [00:00<00:00, 121.93it/s]"
          ]
        },
        {
          "output_type": "stream",
          "name": "stdout",
          "text": [
            "Train Loss:0.3586, Train Acc:43.33\n",
            "validation start\n"
          ]
        },
        {
          "output_type": "stream",
          "name": "stderr",
          "text": [
            "\n",
            "15it [00:00, 59.21it/s]              "
          ]
        },
        {
          "output_type": "stream",
          "name": "stdout",
          "text": [
            "Val Loss:0.3537, Val_Acc:51.67\n",
            "loss 0.4150 - accu 37.9605 - val_loss 0.3843 - val_accu 46.2281\n",
            "=> saved best model\n",
            "Epoch [38/500]\n"
          ]
        },
        {
          "output_type": "stream",
          "name": "stderr",
          "text": [
            "\n",
            "100%|██████████| 60/60 [00:00<00:00, 115.18it/s]"
          ]
        },
        {
          "output_type": "stream",
          "name": "stdout",
          "text": [
            "Train Loss:0.3733, Train Acc:37.50\n",
            "validation start\n"
          ]
        },
        {
          "output_type": "stream",
          "name": "stderr",
          "text": [
            "\n",
            "15it [00:00, 58.24it/s]              "
          ]
        },
        {
          "output_type": "stream",
          "name": "stdout",
          "text": [
            "Val Loss:0.3558, Val_Acc:51.67\n",
            "loss 0.4140 - accu 37.9487 - val_loss 0.3836 - val_accu 46.3675\n",
            "=> saved best model\n",
            "Epoch [39/500]\n"
          ]
        },
        {
          "output_type": "stream",
          "name": "stderr",
          "text": [
            "\n",
            "100%|██████████| 60/60 [00:00<00:00, 114.14it/s]"
          ]
        },
        {
          "output_type": "stream",
          "name": "stdout",
          "text": [
            "Train Loss:0.3755, Train Acc:46.25\n",
            "validation start\n"
          ]
        },
        {
          "output_type": "stream",
          "name": "stderr",
          "text": [
            "\n",
            "15it [00:00, 55.91it/s]              "
          ]
        },
        {
          "output_type": "stream",
          "name": "stdout",
          "text": [
            "Val Loss:0.3595, Val_Acc:53.33\n",
            "loss 0.4130 - accu 38.1562 - val_loss 0.3830 - val_accu 46.5417\n",
            "=> saved best model\n",
            "Epoch [40/500]\n"
          ]
        },
        {
          "output_type": "stream",
          "name": "stderr",
          "text": [
            "\n",
            "100%|██████████| 60/60 [00:00<00:00, 115.01it/s]"
          ]
        },
        {
          "output_type": "stream",
          "name": "stdout",
          "text": [
            "Train Loss:0.3544, Train Acc:42.50\n",
            "validation start\n"
          ]
        },
        {
          "output_type": "stream",
          "name": "stderr",
          "text": [
            "\n",
            "15it [00:00, 55.70it/s]              "
          ]
        },
        {
          "output_type": "stream",
          "name": "stdout",
          "text": [
            "Val Loss:0.3549, Val_Acc:51.67\n",
            "loss 0.4116 - accu 38.2622 - val_loss 0.3823 - val_accu 46.6667\n",
            "=> saved best model\n",
            "Epoch [41/500]\n"
          ]
        },
        {
          "output_type": "stream",
          "name": "stderr",
          "text": [
            "\n",
            "100%|██████████| 60/60 [00:00<00:00, 111.78it/s]"
          ]
        },
        {
          "output_type": "stream",
          "name": "stdout",
          "text": [
            "Train Loss:0.3525, Train Acc:47.50\n",
            "validation start\n"
          ]
        },
        {
          "output_type": "stream",
          "name": "stderr",
          "text": [
            "\n",
            "15it [00:00, 54.78it/s]              "
          ]
        },
        {
          "output_type": "stream",
          "name": "stdout",
          "text": [
            "Val Loss:0.3590, Val_Acc:50.00\n",
            "loss 0.4102 - accu 38.4821 - val_loss 0.3817 - val_accu 46.7460\n",
            "=> saved best model\n",
            "Epoch [42/500]\n"
          ]
        },
        {
          "output_type": "stream",
          "name": "stderr",
          "text": [
            "\n",
            "100%|██████████| 60/60 [00:00<00:00, 115.02it/s]"
          ]
        },
        {
          "output_type": "stream",
          "name": "stdout",
          "text": [
            "Train Loss:0.3562, Train Acc:45.83\n",
            "validation start\n"
          ]
        },
        {
          "output_type": "stream",
          "name": "stderr",
          "text": [
            "\n",
            "15it [00:00, 59.37it/s]              "
          ]
        },
        {
          "output_type": "stream",
          "name": "stdout",
          "text": [
            "Val Loss:0.3531, Val_Acc:51.67\n",
            "loss 0.4089 - accu 38.6531 - val_loss 0.3811 - val_accu 46.8605\n",
            "=> saved best model\n",
            "Epoch [43/500]\n"
          ]
        },
        {
          "output_type": "stream",
          "name": "stderr",
          "text": [
            "\n",
            "100%|██████████| 60/60 [00:00<00:00, 118.86it/s]\n"
          ]
        },
        {
          "output_type": "stream",
          "name": "stdout",
          "text": [
            "Train Loss:0.3597, Train Acc:47.08\n",
            "validation start\n"
          ]
        },
        {
          "output_type": "stream",
          "name": "stderr",
          "text": [
            "15it [00:00, 57.55it/s]              "
          ]
        },
        {
          "output_type": "stream",
          "name": "stdout",
          "text": [
            "Val Loss:0.3557, Val_Acc:53.33\n",
            "loss 0.4078 - accu 38.8447 - val_loss 0.3805 - val_accu 47.0076\n",
            "=> saved best model\n",
            "Epoch [44/500]\n"
          ]
        },
        {
          "output_type": "stream",
          "name": "stderr",
          "text": [
            "\n",
            "100%|██████████| 60/60 [00:00<00:00, 117.99it/s]"
          ]
        },
        {
          "output_type": "stream",
          "name": "stdout",
          "text": [
            "Train Loss:0.3608, Train Acc:48.33\n",
            "validation start\n"
          ]
        },
        {
          "output_type": "stream",
          "name": "stderr",
          "text": [
            "\n",
            "15it [00:00, 47.33it/s]"
          ]
        },
        {
          "output_type": "stream",
          "name": "stdout",
          "text": [
            "Val Loss:0.3567, Val_Acc:50.00\n",
            "loss 0.4068 - accu 39.0556 - val_loss 0.3800 - val_accu 47.0741\n",
            "=> saved best model\n",
            "Epoch [45/500]\n"
          ]
        },
        {
          "output_type": "stream",
          "name": "stderr",
          "text": [
            "\n",
            "100%|██████████| 60/60 [00:00<00:00, 121.76it/s]"
          ]
        },
        {
          "output_type": "stream",
          "name": "stdout",
          "text": [
            "Train Loss:0.3647, Train Acc:47.50\n",
            "validation start\n"
          ]
        },
        {
          "output_type": "stream",
          "name": "stderr",
          "text": [
            "\n",
            "15it [00:00, 55.29it/s]              "
          ]
        },
        {
          "output_type": "stream",
          "name": "stdout",
          "text": [
            "Val Loss:0.3567, Val_Acc:50.00\n",
            "loss 0.4058 - accu 39.2391 - val_loss 0.3795 - val_accu 47.1377\n",
            "=> saved best model\n",
            "Epoch [46/500]\n"
          ]
        },
        {
          "output_type": "stream",
          "name": "stderr",
          "text": [
            "\n",
            "100%|██████████| 60/60 [00:00<00:00, 104.18it/s]"
          ]
        },
        {
          "output_type": "stream",
          "name": "stdout",
          "text": [
            "Train Loss:0.3562, Train Acc:44.17\n",
            "validation start\n"
          ]
        },
        {
          "output_type": "stream",
          "name": "stderr",
          "text": [
            "\n",
            "15it [00:00, 56.03it/s]              "
          ]
        },
        {
          "output_type": "stream",
          "name": "stdout",
          "text": [
            "Val Loss:0.3571, Val_Acc:46.67\n",
            "loss 0.4048 - accu 39.3440 - val_loss 0.3790 - val_accu 47.1277\n",
            "Epoch [47/500]\n"
          ]
        },
        {
          "output_type": "stream",
          "name": "stderr",
          "text": [
            "\n",
            "100%|██████████| 60/60 [00:00<00:00, 121.50it/s]"
          ]
        },
        {
          "output_type": "stream",
          "name": "stdout",
          "text": [
            "Train Loss:0.3555, Train Acc:50.00\n",
            "validation start\n"
          ]
        },
        {
          "output_type": "stream",
          "name": "stderr",
          "text": [
            "\n",
            "15it [00:00, 61.83it/s]              "
          ]
        },
        {
          "output_type": "stream",
          "name": "stdout",
          "text": [
            "Val Loss:0.3581, Val_Acc:53.33\n",
            "loss 0.4038 - accu 39.5660 - val_loss 0.3785 - val_accu 47.2569\n",
            "=> saved best model\n",
            "Epoch [48/500]\n"
          ]
        },
        {
          "output_type": "stream",
          "name": "stderr",
          "text": [
            "\n",
            "100%|██████████| 60/60 [00:00<00:00, 110.53it/s]"
          ]
        },
        {
          "output_type": "stream",
          "name": "stdout",
          "text": [
            "Train Loss:0.3501, Train Acc:49.17\n",
            "validation start\n"
          ]
        },
        {
          "output_type": "stream",
          "name": "stderr",
          "text": [
            "\n",
            "15it [00:00, 47.75it/s]"
          ]
        },
        {
          "output_type": "stream",
          "name": "stdout",
          "text": [
            "Val Loss:0.3593, Val_Acc:50.00\n",
            "loss 0.4027 - accu 39.7619 - val_loss 0.3782 - val_accu 47.3129\n",
            "=> saved best model\n",
            "Epoch [49/500]\n"
          ]
        },
        {
          "output_type": "stream",
          "name": "stderr",
          "text": [
            "\n",
            "100%|██████████| 60/60 [00:00<00:00, 118.66it/s]"
          ]
        },
        {
          "output_type": "stream",
          "name": "stdout",
          "text": [
            "Train Loss:0.3511, Train Acc:42.50\n",
            "validation start\n"
          ]
        },
        {
          "output_type": "stream",
          "name": "stderr",
          "text": [
            "\n",
            "15it [00:00, 60.94it/s]              "
          ]
        },
        {
          "output_type": "stream",
          "name": "stdout",
          "text": [
            "Val Loss:0.3515, Val_Acc:48.33\n",
            "loss 0.4016 - accu 39.8167 - val_loss 0.3776 - val_accu 47.3333\n",
            "=> saved best model\n",
            "Epoch [50/500]\n"
          ]
        },
        {
          "output_type": "stream",
          "name": "stderr",
          "text": [
            "\n",
            "100%|██████████| 60/60 [00:00<00:00, 119.17it/s]"
          ]
        },
        {
          "output_type": "stream",
          "name": "stdout",
          "text": [
            "Train Loss:0.3487, Train Acc:47.92\n",
            "validation start\n"
          ]
        },
        {
          "output_type": "stream",
          "name": "stderr",
          "text": [
            "\n",
            "15it [00:00, 54.53it/s]              "
          ]
        },
        {
          "output_type": "stream",
          "name": "stdout",
          "text": [
            "Val Loss:0.3487, Val_Acc:51.67\n",
            "loss 0.4006 - accu 39.9755 - val_loss 0.3771 - val_accu 47.4183\n",
            "=> saved best model\n",
            "Epoch [51/500]\n"
          ]
        },
        {
          "output_type": "stream",
          "name": "stderr",
          "text": [
            "\n",
            "100%|██████████| 60/60 [00:00<00:00, 115.27it/s]"
          ]
        },
        {
          "output_type": "stream",
          "name": "stdout",
          "text": [
            "Train Loss:0.3526, Train Acc:48.33\n",
            "validation start\n"
          ]
        },
        {
          "output_type": "stream",
          "name": "stderr",
          "text": [
            "\n",
            "15it [00:00, 51.48it/s]\n"
          ]
        },
        {
          "output_type": "stream",
          "name": "stdout",
          "text": [
            "Val Loss:0.3526, Val_Acc:50.00\n",
            "loss 0.3997 - accu 40.1362 - val_loss 0.3766 - val_accu 47.4679\n",
            "=> saved best model\n",
            "Epoch [52/500]\n"
          ]
        },
        {
          "output_type": "stream",
          "name": "stderr",
          "text": [
            "100%|██████████| 60/60 [00:00<00:00, 118.40it/s]\n"
          ]
        },
        {
          "output_type": "stream",
          "name": "stdout",
          "text": [
            "Train Loss:0.3536, Train Acc:46.25\n",
            "validation start\n"
          ]
        },
        {
          "output_type": "stream",
          "name": "stderr",
          "text": [
            "15it [00:00, 56.84it/s]              "
          ]
        },
        {
          "output_type": "stream",
          "name": "stdout",
          "text": [
            "Val Loss:0.3508, Val_Acc:53.33\n",
            "loss 0.3988 - accu 40.2516 - val_loss 0.3761 - val_accu 47.5786\n",
            "=> saved best model\n",
            "Epoch [53/500]\n"
          ]
        },
        {
          "output_type": "stream",
          "name": "stderr",
          "text": [
            "\n",
            "100%|██████████| 60/60 [00:00<00:00, 108.77it/s]"
          ]
        },
        {
          "output_type": "stream",
          "name": "stdout",
          "text": [
            "Train Loss:0.3571, Train Acc:48.33\n",
            "validation start\n"
          ]
        },
        {
          "output_type": "stream",
          "name": "stderr",
          "text": [
            "\n",
            "15it [00:00, 59.89it/s]              "
          ]
        },
        {
          "output_type": "stream",
          "name": "stdout",
          "text": [
            "Val Loss:0.3557, Val_Acc:46.67\n",
            "loss 0.3980 - accu 40.4012 - val_loss 0.3757 - val_accu 47.5617\n",
            "Epoch [54/500]\n"
          ]
        },
        {
          "output_type": "stream",
          "name": "stderr",
          "text": [
            "\n",
            "100%|██████████| 60/60 [00:00<00:00, 116.46it/s]"
          ]
        },
        {
          "output_type": "stream",
          "name": "stdout",
          "text": [
            "Train Loss:0.3479, Train Acc:54.17\n",
            "validation start\n"
          ]
        },
        {
          "output_type": "stream",
          "name": "stderr",
          "text": [
            "\n",
            "15it [00:00, 56.52it/s]              "
          ]
        },
        {
          "output_type": "stream",
          "name": "stdout",
          "text": [
            "Val Loss:0.3490, Val_Acc:48.33\n",
            "loss 0.3971 - accu 40.6515 - val_loss 0.3752 - val_accu 47.5758\n",
            "Epoch [55/500]\n"
          ]
        },
        {
          "output_type": "stream",
          "name": "stderr",
          "text": [
            "\n",
            "100%|██████████| 60/60 [00:00<00:00, 114.05it/s]"
          ]
        },
        {
          "output_type": "stream",
          "name": "stdout",
          "text": [
            "Train Loss:0.3561, Train Acc:47.92\n",
            "validation start\n"
          ]
        },
        {
          "output_type": "stream",
          "name": "stderr",
          "text": [
            "\n",
            "15it [00:00, 63.74it/s]              "
          ]
        },
        {
          "output_type": "stream",
          "name": "stdout",
          "text": [
            "Val Loss:0.3511, Val_Acc:50.00\n",
            "loss 0.3964 - accu 40.7812 - val_loss 0.3748 - val_accu 47.6190\n",
            "=> saved best model\n",
            "Epoch [56/500]\n"
          ]
        },
        {
          "output_type": "stream",
          "name": "stderr",
          "text": [
            "\n",
            "100%|██████████| 60/60 [00:00<00:00, 116.29it/s]"
          ]
        },
        {
          "output_type": "stream",
          "name": "stdout",
          "text": [
            "Train Loss:0.3417, Train Acc:47.08\n",
            "validation start\n"
          ]
        },
        {
          "output_type": "stream",
          "name": "stderr",
          "text": [
            "\n",
            "15it [00:00, 56.44it/s]              "
          ]
        },
        {
          "output_type": "stream",
          "name": "stdout",
          "text": [
            "Val Loss:0.3578, Val_Acc:48.33\n",
            "loss 0.3954 - accu 40.8918 - val_loss 0.3745 - val_accu 47.6316\n",
            "=> saved best model\n",
            "Epoch [57/500]\n"
          ]
        },
        {
          "output_type": "stream",
          "name": "stderr",
          "text": [
            "\n",
            "100%|██████████| 60/60 [00:00<00:00, 117.09it/s]"
          ]
        },
        {
          "output_type": "stream",
          "name": "stdout",
          "text": [
            "Train Loss:0.3565, Train Acc:47.50\n",
            "validation start\n"
          ]
        },
        {
          "output_type": "stream",
          "name": "stderr",
          "text": [
            "\n",
            "15it [00:00, 60.82it/s]              "
          ]
        },
        {
          "output_type": "stream",
          "name": "stdout",
          "text": [
            "Val Loss:0.3483, Val_Acc:53.33\n",
            "loss 0.3948 - accu 41.0057 - val_loss 0.3741 - val_accu 47.7299\n",
            "=> saved best model\n",
            "Epoch [58/500]\n"
          ]
        },
        {
          "output_type": "stream",
          "name": "stderr",
          "text": [
            "\n",
            "100%|██████████| 60/60 [00:00<00:00, 113.10it/s]"
          ]
        },
        {
          "output_type": "stream",
          "name": "stdout",
          "text": [
            "Train Loss:0.3383, Train Acc:52.50\n",
            "validation start\n"
          ]
        },
        {
          "output_type": "stream",
          "name": "stderr",
          "text": [
            "\n",
            "15it [00:00, 54.95it/s]              "
          ]
        },
        {
          "output_type": "stream",
          "name": "stdout",
          "text": [
            "Val Loss:0.3460, Val_Acc:50.00\n",
            "loss 0.3938 - accu 41.2006 - val_loss 0.3736 - val_accu 47.7684\n",
            "=> saved best model\n",
            "Epoch [59/500]\n"
          ]
        },
        {
          "output_type": "stream",
          "name": "stderr",
          "text": [
            "\n",
            "100%|██████████| 60/60 [00:00<00:00, 105.63it/s]"
          ]
        },
        {
          "output_type": "stream",
          "name": "stdout",
          "text": [
            "Train Loss:0.3377, Train Acc:47.08\n",
            "validation start\n"
          ]
        },
        {
          "output_type": "stream",
          "name": "stderr",
          "text": [
            "\n",
            "15it [00:00, 50.54it/s]\n"
          ]
        },
        {
          "output_type": "stream",
          "name": "stdout",
          "text": [
            "Val Loss:0.3469, Val_Acc:51.67\n",
            "loss 0.3929 - accu 41.2986 - val_loss 0.3731 - val_accu 47.8333\n",
            "=> saved best model\n",
            "Epoch [60/500]\n"
          ]
        },
        {
          "output_type": "stream",
          "name": "stderr",
          "text": [
            "100%|██████████| 60/60 [00:00<00:00, 116.79it/s]"
          ]
        },
        {
          "output_type": "stream",
          "name": "stdout",
          "text": [
            "Train Loss:0.3556, Train Acc:47.08\n",
            "validation start\n"
          ]
        },
        {
          "output_type": "stream",
          "name": "stderr",
          "text": [
            "\n",
            "15it [00:00, 54.53it/s]              "
          ]
        },
        {
          "output_type": "stream",
          "name": "stdout",
          "text": [
            "Val Loss:0.3451, Val_Acc:51.67\n",
            "loss 0.3923 - accu 41.3934 - val_loss 0.3727 - val_accu 47.8962\n",
            "=> saved best model\n",
            "Epoch [61/500]\n"
          ]
        },
        {
          "output_type": "stream",
          "name": "stderr",
          "text": [
            "\n",
            "100%|██████████| 60/60 [00:00<00:00, 107.48it/s]"
          ]
        },
        {
          "output_type": "stream",
          "name": "stdout",
          "text": [
            "Train Loss:0.3508, Train Acc:50.42\n",
            "validation start\n"
          ]
        },
        {
          "output_type": "stream",
          "name": "stderr",
          "text": [
            "\n",
            "15it [00:00, 54.37it/s]              "
          ]
        },
        {
          "output_type": "stream",
          "name": "stdout",
          "text": [
            "Val Loss:0.3503, Val_Acc:48.33\n",
            "loss 0.3916 - accu 41.5390 - val_loss 0.3723 - val_accu 47.9032\n",
            "=> saved best model\n",
            "Epoch [62/500]\n"
          ]
        },
        {
          "output_type": "stream",
          "name": "stderr",
          "text": [
            "\n",
            "100%|██████████| 60/60 [00:00<00:00, 118.52it/s]"
          ]
        },
        {
          "output_type": "stream",
          "name": "stdout",
          "text": [
            "Train Loss:0.3441, Train Acc:48.33\n",
            "validation start\n"
          ]
        },
        {
          "output_type": "stream",
          "name": "stderr",
          "text": [
            "\n",
            "15it [00:00, 58.18it/s]              "
          ]
        },
        {
          "output_type": "stream",
          "name": "stdout",
          "text": [
            "Val Loss:0.3537, Val_Acc:50.00\n",
            "loss 0.3908 - accu 41.6468 - val_loss 0.3720 - val_accu 47.9365\n",
            "=> saved best model\n",
            "Epoch [63/500]\n"
          ]
        },
        {
          "output_type": "stream",
          "name": "stderr",
          "text": [
            "\n",
            "100%|██████████| 60/60 [00:00<00:00, 110.61it/s]"
          ]
        },
        {
          "output_type": "stream",
          "name": "stdout",
          "text": [
            "Train Loss:0.3393, Train Acc:55.83\n",
            "validation start\n"
          ]
        },
        {
          "output_type": "stream",
          "name": "stderr",
          "text": [
            "\n",
            "15it [00:00, 56.93it/s]              "
          ]
        },
        {
          "output_type": "stream",
          "name": "stdout",
          "text": [
            "Val Loss:0.3468, Val_Acc:50.00\n",
            "loss 0.3900 - accu 41.8685 - val_loss 0.3716 - val_accu 47.9688\n",
            "=> saved best model\n",
            "Epoch [64/500]\n"
          ]
        },
        {
          "output_type": "stream",
          "name": "stderr",
          "text": [
            "\n",
            "100%|██████████| 60/60 [00:00<00:00, 118.78it/s]\n"
          ]
        },
        {
          "output_type": "stream",
          "name": "stdout",
          "text": [
            "Train Loss:0.3405, Train Acc:47.50\n",
            "validation start\n"
          ]
        },
        {
          "output_type": "stream",
          "name": "stderr",
          "text": [
            "15it [00:00, 59.84it/s]              "
          ]
        },
        {
          "output_type": "stream",
          "name": "stdout",
          "text": [
            "Val Loss:0.3464, Val_Acc:53.33\n",
            "loss 0.3893 - accu 41.9551 - val_loss 0.3712 - val_accu 48.0513\n",
            "=> saved best model\n",
            "Epoch [65/500]\n"
          ]
        },
        {
          "output_type": "stream",
          "name": "stderr",
          "text": [
            "\n",
            "100%|██████████| 60/60 [00:00<00:00, 117.13it/s]"
          ]
        },
        {
          "output_type": "stream",
          "name": "stdout",
          "text": [
            "Train Loss:0.3340, Train Acc:48.75\n",
            "validation start\n"
          ]
        },
        {
          "output_type": "stream",
          "name": "stderr",
          "text": [
            "\n",
            "15it [00:00, 62.93it/s]              "
          ]
        },
        {
          "output_type": "stream",
          "name": "stdout",
          "text": [
            "Val Loss:0.3474, Val_Acc:53.33\n",
            "loss 0.3884 - accu 42.0581 - val_loss 0.3709 - val_accu 48.1313\n",
            "=> saved best model\n",
            "Epoch [66/500]\n"
          ]
        },
        {
          "output_type": "stream",
          "name": "stderr",
          "text": [
            "\n",
            "100%|██████████| 60/60 [00:00<00:00, 107.53it/s]"
          ]
        },
        {
          "output_type": "stream",
          "name": "stdout",
          "text": [
            "Train Loss:0.3355, Train Acc:50.83\n",
            "validation start\n"
          ]
        },
        {
          "output_type": "stream",
          "name": "stderr",
          "text": [
            "\n",
            "15it [00:00, 56.83it/s]              "
          ]
        },
        {
          "output_type": "stream",
          "name": "stdout",
          "text": [
            "Val Loss:0.3581, Val_Acc:38.33\n",
            "loss 0.3876 - accu 42.1891 - val_loss 0.3707 - val_accu 47.9851\n",
            "Epoch [67/500]\n"
          ]
        },
        {
          "output_type": "stream",
          "name": "stderr",
          "text": [
            "\n",
            "100%|██████████| 60/60 [00:00<00:00, 112.98it/s]"
          ]
        },
        {
          "output_type": "stream",
          "name": "stdout",
          "text": [
            "Train Loss:0.3534, Train Acc:42.92\n",
            "validation start\n"
          ]
        },
        {
          "output_type": "stream",
          "name": "stderr",
          "text": [
            "\n",
            "15it [00:00, 57.96it/s]              "
          ]
        },
        {
          "output_type": "stream",
          "name": "stdout",
          "text": [
            "Val Loss:0.3470, Val_Acc:50.00\n",
            "loss 0.3871 - accu 42.1998 - val_loss 0.3703 - val_accu 48.0147\n",
            "Epoch [68/500]\n"
          ]
        },
        {
          "output_type": "stream",
          "name": "stderr",
          "text": [
            "\n",
            "100%|██████████| 60/60 [00:00<00:00, 116.27it/s]"
          ]
        },
        {
          "output_type": "stream",
          "name": "stdout",
          "text": [
            "Train Loss:0.3451, Train Acc:48.33\n",
            "validation start\n"
          ]
        },
        {
          "output_type": "stream",
          "name": "stderr",
          "text": [
            "\n",
            "15it [00:00, 61.23it/s]              "
          ]
        },
        {
          "output_type": "stream",
          "name": "stdout",
          "text": [
            "Val Loss:0.3515, Val_Acc:48.33\n",
            "loss 0.3865 - accu 42.2886 - val_loss 0.3701 - val_accu 48.0193\n",
            "Epoch [69/500]\n"
          ]
        },
        {
          "output_type": "stream",
          "name": "stderr",
          "text": [
            "\n",
            "100%|██████████| 60/60 [00:00<00:00, 114.25it/s]"
          ]
        },
        {
          "output_type": "stream",
          "name": "stdout",
          "text": [
            "Train Loss:0.3470, Train Acc:47.92\n",
            "validation start\n"
          ]
        },
        {
          "output_type": "stream",
          "name": "stderr",
          "text": [
            "\n",
            "15it [00:00, 61.09it/s]              "
          ]
        },
        {
          "output_type": "stream",
          "name": "stdout",
          "text": [
            "Val Loss:0.3553, Val_Acc:51.67\n",
            "loss 0.3860 - accu 42.3690 - val_loss 0.3699 - val_accu 48.0714\n",
            "Epoch [70/500]\n"
          ]
        },
        {
          "output_type": "stream",
          "name": "stderr",
          "text": [
            "\n",
            "100%|██████████| 60/60 [00:00<00:00, 110.36it/s]"
          ]
        },
        {
          "output_type": "stream",
          "name": "stdout",
          "text": [
            "Train Loss:0.3462, Train Acc:47.92\n",
            "validation start\n"
          ]
        },
        {
          "output_type": "stream",
          "name": "stderr",
          "text": [
            "\n",
            "15it [00:00, 60.08it/s]              "
          ]
        },
        {
          "output_type": "stream",
          "name": "stdout",
          "text": [
            "Val Loss:0.3520, Val_Acc:50.00\n",
            "loss 0.3854 - accu 42.4472 - val_loss 0.3696 - val_accu 48.0986\n",
            "Epoch [71/500]\n"
          ]
        },
        {
          "output_type": "stream",
          "name": "stderr",
          "text": [
            "\n",
            "100%|██████████| 60/60 [00:00<00:00, 112.69it/s]"
          ]
        },
        {
          "output_type": "stream",
          "name": "stdout",
          "text": [
            "Train Loss:0.3598, Train Acc:47.50\n",
            "validation start\n"
          ]
        },
        {
          "output_type": "stream",
          "name": "stderr",
          "text": [
            "\n",
            "15it [00:00, 54.87it/s]              "
          ]
        },
        {
          "output_type": "stream",
          "name": "stdout",
          "text": [
            "Val Loss:0.3506, Val_Acc:48.33\n",
            "loss 0.3850 - accu 42.5174 - val_loss 0.3693 - val_accu 48.1019\n",
            "Epoch [72/500]\n"
          ]
        },
        {
          "output_type": "stream",
          "name": "stderr",
          "text": [
            "\n",
            "100%|██████████| 60/60 [00:00<00:00, 106.01it/s]"
          ]
        },
        {
          "output_type": "stream",
          "name": "stdout",
          "text": [
            "Train Loss:0.3415, Train Acc:48.75\n",
            "validation start\n"
          ]
        },
        {
          "output_type": "stream",
          "name": "stderr",
          "text": [
            "\n",
            "15it [00:00, 51.28it/s]              "
          ]
        },
        {
          "output_type": "stream",
          "name": "stdout",
          "text": [
            "Val Loss:0.3538, Val_Acc:55.00\n",
            "loss 0.3844 - accu 42.6027 - val_loss 0.3691 - val_accu 48.1963\n",
            "=> saved best model\n",
            "Epoch [73/500]\n"
          ]
        },
        {
          "output_type": "stream",
          "name": "stderr",
          "text": [
            "\n",
            "100%|██████████| 60/60 [00:00<00:00, 113.01it/s]"
          ]
        },
        {
          "output_type": "stream",
          "name": "stdout",
          "text": [
            "Train Loss:0.3522, Train Acc:48.33\n",
            "validation start\n"
          ]
        },
        {
          "output_type": "stream",
          "name": "stderr",
          "text": [
            "\n",
            "15it [00:00, 54.84it/s]              "
          ]
        },
        {
          "output_type": "stream",
          "name": "stdout",
          "text": [
            "Val Loss:0.3517, Val_Acc:53.33\n",
            "loss 0.3840 - accu 42.6802 - val_loss 0.3689 - val_accu 48.2658\n",
            "=> saved best model\n",
            "Epoch [74/500]\n"
          ]
        },
        {
          "output_type": "stream",
          "name": "stderr",
          "text": [
            "\n",
            "100%|██████████| 60/60 [00:00<00:00, 115.62it/s]"
          ]
        },
        {
          "output_type": "stream",
          "name": "stdout",
          "text": [
            "Train Loss:0.3460, Train Acc:50.42\n",
            "validation start\n"
          ]
        },
        {
          "output_type": "stream",
          "name": "stderr",
          "text": [
            "\n",
            "15it [00:00, 55.47it/s]              "
          ]
        },
        {
          "output_type": "stream",
          "name": "stdout",
          "text": [
            "Val Loss:0.3446, Val_Acc:51.67\n",
            "loss 0.3835 - accu 42.7833 - val_loss 0.3686 - val_accu 48.3111\n",
            "=> saved best model\n",
            "Epoch [75/500]\n"
          ]
        },
        {
          "output_type": "stream",
          "name": "stderr",
          "text": [
            "\n",
            "100%|██████████| 60/60 [00:00<00:00, 113.26it/s]"
          ]
        },
        {
          "output_type": "stream",
          "name": "stdout",
          "text": [
            "Train Loss:0.3460, Train Acc:51.25\n",
            "validation start\n"
          ]
        },
        {
          "output_type": "stream",
          "name": "stderr",
          "text": [
            "\n",
            "15it [00:00, 56.69it/s]              "
          ]
        },
        {
          "output_type": "stream",
          "name": "stdout",
          "text": [
            "Val Loss:0.3466, Val_Acc:55.00\n",
            "loss 0.3830 - accu 42.8947 - val_loss 0.3683 - val_accu 48.3991\n",
            "=> saved best model\n",
            "Epoch [76/500]\n"
          ]
        },
        {
          "output_type": "stream",
          "name": "stderr",
          "text": [
            "\n",
            "100%|██████████| 60/60 [00:00<00:00, 113.77it/s]"
          ]
        },
        {
          "output_type": "stream",
          "name": "stdout",
          "text": [
            "Train Loss:0.3580, Train Acc:41.25\n",
            "validation start\n"
          ]
        },
        {
          "output_type": "stream",
          "name": "stderr",
          "text": [
            "\n",
            "15it [00:00, 58.19it/s]              "
          ]
        },
        {
          "output_type": "stream",
          "name": "stdout",
          "text": [
            "Val Loss:0.3461, Val_Acc:51.67\n",
            "loss 0.3827 - accu 42.8734 - val_loss 0.3680 - val_accu 48.4416\n",
            "=> saved best model\n",
            "Epoch [77/500]\n"
          ]
        },
        {
          "output_type": "stream",
          "name": "stderr",
          "text": [
            "\n",
            "100%|██████████| 60/60 [00:00<00:00, 115.02it/s]"
          ]
        },
        {
          "output_type": "stream",
          "name": "stdout",
          "text": [
            "Train Loss:0.3351, Train Acc:48.75\n",
            "validation start\n"
          ]
        },
        {
          "output_type": "stream",
          "name": "stderr",
          "text": [
            "\n",
            "15it [00:00, 58.04it/s]              "
          ]
        },
        {
          "output_type": "stream",
          "name": "stdout",
          "text": [
            "Val Loss:0.3469, Val_Acc:51.67\n",
            "loss 0.3821 - accu 42.9487 - val_loss 0.3677 - val_accu 48.4829\n",
            "=> saved best model\n",
            "Epoch [78/500]\n"
          ]
        },
        {
          "output_type": "stream",
          "name": "stderr",
          "text": [
            "\n",
            "100%|██████████| 60/60 [00:00<00:00, 117.31it/s]"
          ]
        },
        {
          "output_type": "stream",
          "name": "stdout",
          "text": [
            "Train Loss:0.3369, Train Acc:49.17\n",
            "validation start\n"
          ]
        },
        {
          "output_type": "stream",
          "name": "stderr",
          "text": [
            "\n",
            "15it [00:00, 61.72it/s]              "
          ]
        },
        {
          "output_type": "stream",
          "name": "stdout",
          "text": [
            "Val Loss:0.3553, Val_Acc:53.33\n",
            "loss 0.3815 - accu 43.0274 - val_loss 0.3676 - val_accu 48.5443\n",
            "=> saved best model\n",
            "Epoch [79/500]\n"
          ]
        },
        {
          "output_type": "stream",
          "name": "stderr",
          "text": [
            "\n",
            "100%|██████████| 60/60 [00:00<00:00, 113.34it/s]"
          ]
        },
        {
          "output_type": "stream",
          "name": "stdout",
          "text": [
            "Train Loss:0.3447, Train Acc:46.67\n",
            "validation start\n"
          ]
        },
        {
          "output_type": "stream",
          "name": "stderr",
          "text": [
            "\n",
            "15it [00:00, 54.88it/s]              "
          ]
        },
        {
          "output_type": "stream",
          "name": "stdout",
          "text": [
            "Val Loss:0.3517, Val_Acc:53.33\n",
            "loss 0.3810 - accu 43.0729 - val_loss 0.3674 - val_accu 48.6042\n",
            "=> saved best model\n",
            "Epoch [80/500]\n"
          ]
        },
        {
          "output_type": "stream",
          "name": "stderr",
          "text": [
            "\n",
            "100%|██████████| 60/60 [00:00<00:00, 106.18it/s]"
          ]
        },
        {
          "output_type": "stream",
          "name": "stdout",
          "text": [
            "Train Loss:0.3357, Train Acc:58.33\n",
            "validation start\n"
          ]
        },
        {
          "output_type": "stream",
          "name": "stderr",
          "text": [
            "\n",
            "15it [00:00, 51.36it/s]\n"
          ]
        },
        {
          "output_type": "stream",
          "name": "stdout",
          "text": [
            "Val Loss:0.3469, Val_Acc:55.00\n",
            "loss 0.3805 - accu 43.2613 - val_loss 0.3671 - val_accu 48.6831\n",
            "=> saved best model\n",
            "Epoch [81/500]\n"
          ]
        },
        {
          "output_type": "stream",
          "name": "stderr",
          "text": [
            "100%|██████████| 60/60 [00:00<00:00, 113.11it/s]"
          ]
        },
        {
          "output_type": "stream",
          "name": "stdout",
          "text": [
            "Train Loss:0.3420, Train Acc:47.50\n",
            "validation start\n"
          ]
        },
        {
          "output_type": "stream",
          "name": "stderr",
          "text": [
            "\n",
            "15it [00:00, 56.39it/s]              "
          ]
        },
        {
          "output_type": "stream",
          "name": "stdout",
          "text": [
            "Val Loss:0.3456, Val_Acc:55.00\n",
            "loss 0.3800 - accu 43.3130 - val_loss 0.3668 - val_accu 48.7602\n",
            "=> saved best model\n",
            "Epoch [82/500]\n"
          ]
        },
        {
          "output_type": "stream",
          "name": "stderr",
          "text": [
            "\n",
            "100%|██████████| 60/60 [00:00<00:00, 112.62it/s]"
          ]
        },
        {
          "output_type": "stream",
          "name": "stdout",
          "text": [
            "Train Loss:0.3371, Train Acc:50.42\n",
            "validation start\n"
          ]
        },
        {
          "output_type": "stream",
          "name": "stderr",
          "text": [
            "\n",
            "15it [00:00, 53.73it/s] "
          ]
        },
        {
          "output_type": "stream",
          "name": "stdout",
          "text": [
            "Val Loss:0.3496, Val_Acc:55.00\n",
            "loss 0.3795 - accu 43.3986 - val_loss 0.3666 - val_accu 48.8353\n",
            "=> saved best model\n",
            "Epoch [83/500]\n"
          ]
        },
        {
          "output_type": "stream",
          "name": "stderr",
          "text": [
            "\n",
            "100%|██████████| 60/60 [00:00<00:00, 110.65it/s]"
          ]
        },
        {
          "output_type": "stream",
          "name": "stdout",
          "text": [
            "Train Loss:0.3415, Train Acc:51.25\n",
            "validation start\n"
          ]
        },
        {
          "output_type": "stream",
          "name": "stderr",
          "text": [
            "\n",
            "15it [00:00, 54.12it/s] "
          ]
        },
        {
          "output_type": "stream",
          "name": "stdout",
          "text": [
            "Val Loss:0.3485, Val_Acc:55.00\n",
            "loss 0.3790 - accu 43.4921 - val_loss 0.3664 - val_accu 48.9087\n",
            "=> saved best model\n",
            "Epoch [84/500]\n"
          ]
        },
        {
          "output_type": "stream",
          "name": "stderr",
          "text": [
            "\n",
            "100%|██████████| 60/60 [00:00<00:00, 109.79it/s]"
          ]
        },
        {
          "output_type": "stream",
          "name": "stdout",
          "text": [
            "Train Loss:0.3265, Train Acc:57.08\n",
            "validation start\n"
          ]
        },
        {
          "output_type": "stream",
          "name": "stderr",
          "text": [
            "\n",
            "15it [00:00, 56.05it/s]              "
          ]
        },
        {
          "output_type": "stream",
          "name": "stdout",
          "text": [
            "Val Loss:0.3430, Val_Acc:55.00\n",
            "loss 0.3784 - accu 43.6520 - val_loss 0.3661 - val_accu 48.9804\n",
            "=> saved best model\n",
            "Epoch [85/500]\n"
          ]
        },
        {
          "output_type": "stream",
          "name": "stderr",
          "text": [
            "\n",
            "100%|██████████| 60/60 [00:00<00:00, 117.06it/s]"
          ]
        },
        {
          "output_type": "stream",
          "name": "stdout",
          "text": [
            "Train Loss:0.3397, Train Acc:50.83\n",
            "validation start\n"
          ]
        },
        {
          "output_type": "stream",
          "name": "stderr",
          "text": [
            "\n",
            "15it [00:00, 55.03it/s]              "
          ]
        },
        {
          "output_type": "stream",
          "name": "stdout",
          "text": [
            "Val Loss:0.3571, Val_Acc:43.33\n",
            "loss 0.3780 - accu 43.7355 - val_loss 0.3660 - val_accu 48.9147\n",
            "Epoch [86/500]\n"
          ]
        },
        {
          "output_type": "stream",
          "name": "stderr",
          "text": [
            "\n",
            "100%|██████████| 60/60 [00:00<00:00, 110.53it/s]"
          ]
        },
        {
          "output_type": "stream",
          "name": "stdout",
          "text": [
            "Train Loss:0.3392, Train Acc:47.92\n",
            "validation start\n"
          ]
        },
        {
          "output_type": "stream",
          "name": "stderr",
          "text": [
            "\n",
            "15it [00:00, 51.68it/s]\n"
          ]
        },
        {
          "output_type": "stream",
          "name": "stdout",
          "text": [
            "Val Loss:0.3441, Val_Acc:51.67\n",
            "loss 0.3775 - accu 43.7835 - val_loss 0.3658 - val_accu 48.9464\n",
            "Epoch [87/500]\n"
          ]
        },
        {
          "output_type": "stream",
          "name": "stderr",
          "text": [
            "100%|██████████| 60/60 [00:00<00:00, 111.96it/s]"
          ]
        },
        {
          "output_type": "stream",
          "name": "stdout",
          "text": [
            "Train Loss:0.3384, Train Acc:51.67\n",
            "validation start\n"
          ]
        },
        {
          "output_type": "stream",
          "name": "stderr",
          "text": [
            "\n",
            "15it [00:00, 57.36it/s]              "
          ]
        },
        {
          "output_type": "stream",
          "name": "stdout",
          "text": [
            "Val Loss:0.3411, Val_Acc:55.00\n",
            "loss 0.3771 - accu 43.8731 - val_loss 0.3655 - val_accu 49.0152\n",
            "=> saved best model\n",
            "Epoch [88/500]\n"
          ]
        },
        {
          "output_type": "stream",
          "name": "stderr",
          "text": [
            "\n",
            "100%|██████████| 60/60 [00:00<00:00, 111.05it/s]"
          ]
        },
        {
          "output_type": "stream",
          "name": "stdout",
          "text": [
            "Train Loss:0.3375, Train Acc:47.50\n",
            "validation start\n"
          ]
        },
        {
          "output_type": "stream",
          "name": "stderr",
          "text": [
            "\n",
            "15it [00:00, 60.39it/s]              "
          ]
        },
        {
          "output_type": "stream",
          "name": "stdout",
          "text": [
            "Val Loss:0.3466, Val_Acc:46.67\n",
            "loss 0.3766 - accu 43.9139 - val_loss 0.3653 - val_accu 48.9888\n",
            "Epoch [89/500]\n"
          ]
        },
        {
          "output_type": "stream",
          "name": "stderr",
          "text": [
            "\n",
            "100%|██████████| 60/60 [00:00<00:00, 110.84it/s]"
          ]
        },
        {
          "output_type": "stream",
          "name": "stdout",
          "text": [
            "Train Loss:0.3380, Train Acc:48.33\n",
            "validation start\n"
          ]
        },
        {
          "output_type": "stream",
          "name": "stderr",
          "text": [
            "\n",
            "15it [00:00, 55.70it/s]              "
          ]
        },
        {
          "output_type": "stream",
          "name": "stdout",
          "text": [
            "Val Loss:0.3447, Val_Acc:53.33\n",
            "loss 0.3762 - accu 43.9630 - val_loss 0.3651 - val_accu 49.0370\n",
            "=> saved best model\n",
            "Epoch [90/500]\n"
          ]
        },
        {
          "output_type": "stream",
          "name": "stderr",
          "text": [
            "\n",
            "100%|██████████| 60/60 [00:00<00:00, 109.95it/s]"
          ]
        },
        {
          "output_type": "stream",
          "name": "stdout",
          "text": [
            "Train Loss:0.3414, Train Acc:45.00\n",
            "validation start\n"
          ]
        },
        {
          "output_type": "stream",
          "name": "stderr",
          "text": [
            "\n",
            "15it [00:00, 59.59it/s]              "
          ]
        },
        {
          "output_type": "stream",
          "name": "stdout",
          "text": [
            "Val Loss:0.3519, Val_Acc:51.67\n",
            "loss 0.3758 - accu 43.9744 - val_loss 0.3649 - val_accu 49.0659\n",
            "=> saved best model\n",
            "Epoch [91/500]\n"
          ]
        },
        {
          "output_type": "stream",
          "name": "stderr",
          "text": [
            "\n",
            "100%|██████████| 60/60 [00:00<00:00, 110.28it/s]"
          ]
        },
        {
          "output_type": "stream",
          "name": "stdout",
          "text": [
            "Train Loss:0.3367, Train Acc:50.00\n",
            "validation start\n"
          ]
        },
        {
          "output_type": "stream",
          "name": "stderr",
          "text": [
            "\n",
            "15it [00:00, 56.03it/s]              "
          ]
        },
        {
          "output_type": "stream",
          "name": "stdout",
          "text": [
            "Val Loss:0.3472, Val_Acc:55.00\n",
            "loss 0.3754 - accu 44.0399 - val_loss 0.3647 - val_accu 49.1304\n",
            "=> saved best model\n",
            "Epoch [92/500]\n"
          ]
        },
        {
          "output_type": "stream",
          "name": "stderr",
          "text": [
            "\n",
            "100%|██████████| 60/60 [00:00<00:00, 115.83it/s]"
          ]
        },
        {
          "output_type": "stream",
          "name": "stdout",
          "text": [
            "Train Loss:0.3348, Train Acc:51.25\n",
            "validation start\n"
          ]
        },
        {
          "output_type": "stream",
          "name": "stderr",
          "text": [
            "\n",
            "15it [00:00, 57.20it/s]              "
          ]
        },
        {
          "output_type": "stream",
          "name": "stdout",
          "text": [
            "Val Loss:0.3529, Val_Acc:50.00\n",
            "loss 0.3750 - accu 44.1174 - val_loss 0.3646 - val_accu 49.1398\n",
            "=> saved best model\n",
            "Epoch [93/500]\n"
          ]
        },
        {
          "output_type": "stream",
          "name": "stderr",
          "text": [
            "\n",
            "100%|██████████| 60/60 [00:00<00:00, 112.23it/s]"
          ]
        },
        {
          "output_type": "stream",
          "name": "stdout",
          "text": [
            "Train Loss:0.3326, Train Acc:49.17\n",
            "validation start\n"
          ]
        },
        {
          "output_type": "stream",
          "name": "stderr",
          "text": [
            "\n",
            "15it [00:00, 51.14it/s]\n"
          ]
        },
        {
          "output_type": "stream",
          "name": "stdout",
          "text": [
            "Val Loss:0.3533, Val_Acc:50.00\n",
            "loss 0.3745 - accu 44.1711 - val_loss 0.3645 - val_accu 49.1489\n",
            "=> saved best model\n",
            "Epoch [94/500]\n"
          ]
        },
        {
          "output_type": "stream",
          "name": "stderr",
          "text": [
            "100%|██████████| 60/60 [00:00<00:00, 107.62it/s]"
          ]
        },
        {
          "output_type": "stream",
          "name": "stdout",
          "text": [
            "Train Loss:0.3463, Train Acc:50.83\n",
            "validation start\n"
          ]
        },
        {
          "output_type": "stream",
          "name": "stderr",
          "text": [
            "\n",
            "15it [00:00, 54.68it/s]              "
          ]
        },
        {
          "output_type": "stream",
          "name": "stdout",
          "text": [
            "Val Loss:0.3525, Val_Acc:51.67\n",
            "loss 0.3742 - accu 44.2412 - val_loss 0.3644 - val_accu 49.1754\n",
            "=> saved best model\n",
            "Epoch [95/500]\n"
          ]
        },
        {
          "output_type": "stream",
          "name": "stderr",
          "text": [
            "\n",
            "100%|██████████| 60/60 [00:00<00:00, 119.93it/s]\n"
          ]
        },
        {
          "output_type": "stream",
          "name": "stdout",
          "text": [
            "Train Loss:0.3303, Train Acc:51.67\n",
            "validation start\n"
          ]
        },
        {
          "output_type": "stream",
          "name": "stderr",
          "text": [
            "15it [00:00, 58.45it/s]              "
          ]
        },
        {
          "output_type": "stream",
          "name": "stdout",
          "text": [
            "Val Loss:0.3581, Val_Acc:48.33\n",
            "loss 0.3738 - accu 44.3186 - val_loss 0.3643 - val_accu 49.1667\n",
            "Epoch [96/500]\n"
          ]
        },
        {
          "output_type": "stream",
          "name": "stderr",
          "text": [
            "\n",
            "100%|██████████| 60/60 [00:00<00:00, 110.77it/s]"
          ]
        },
        {
          "output_type": "stream",
          "name": "stdout",
          "text": [
            "Train Loss:0.3265, Train Acc:49.58\n",
            "validation start\n"
          ]
        },
        {
          "output_type": "stream",
          "name": "stderr",
          "text": [
            "\n",
            "15it [00:00, 52.83it/s]              "
          ]
        },
        {
          "output_type": "stream",
          "name": "stdout",
          "text": [
            "Val Loss:0.3426, Val_Acc:51.67\n",
            "loss 0.3733 - accu 44.3729 - val_loss 0.3641 - val_accu 49.1924\n",
            "=> saved best model\n",
            "Epoch [97/500]\n"
          ]
        },
        {
          "output_type": "stream",
          "name": "stderr",
          "text": [
            "\n",
            "100%|██████████| 60/60 [00:00<00:00, 109.64it/s]"
          ]
        },
        {
          "output_type": "stream",
          "name": "stdout",
          "text": [
            "Train Loss:0.3401, Train Acc:49.58\n",
            "validation start\n"
          ]
        },
        {
          "output_type": "stream",
          "name": "stderr",
          "text": [
            "\n",
            "15it [00:00, 55.21it/s]              "
          ]
        },
        {
          "output_type": "stream",
          "name": "stdout",
          "text": [
            "Val Loss:0.3442, Val_Acc:48.33\n",
            "loss 0.3729 - accu 44.4260 - val_loss 0.3639 - val_accu 49.1837\n",
            "Epoch [98/500]\n"
          ]
        },
        {
          "output_type": "stream",
          "name": "stderr",
          "text": [
            "\n",
            "100%|██████████| 60/60 [00:00<00:00, 111.86it/s]"
          ]
        },
        {
          "output_type": "stream",
          "name": "stdout",
          "text": [
            "Train Loss:0.3313, Train Acc:55.00\n",
            "validation start\n"
          ]
        },
        {
          "output_type": "stream",
          "name": "stderr",
          "text": [
            "\n",
            "15it [00:00, 53.03it/s]"
          ]
        },
        {
          "output_type": "stream",
          "name": "stdout",
          "text": [
            "Val Loss:0.3479, Val_Acc:48.33\n",
            "loss 0.3725 - accu 44.5328 - val_loss 0.3637 - val_accu 49.1751\n",
            "Epoch [99/500]\n"
          ]
        },
        {
          "output_type": "stream",
          "name": "stderr",
          "text": [
            "\n",
            "100%|██████████| 60/60 [00:00<00:00, 113.03it/s]"
          ]
        },
        {
          "output_type": "stream",
          "name": "stdout",
          "text": [
            "Train Loss:0.3232, Train Acc:52.08\n",
            "validation start\n"
          ]
        },
        {
          "output_type": "stream",
          "name": "stderr",
          "text": [
            "\n",
            "15it [00:00, 53.52it/s]              "
          ]
        },
        {
          "output_type": "stream",
          "name": "stdout",
          "text": [
            "Val Loss:0.3507, Val_Acc:50.00\n",
            "loss 0.3720 - accu 44.6083 - val_loss 0.3636 - val_accu 49.1833\n",
            "Epoch [100/500]\n"
          ]
        },
        {
          "output_type": "stream",
          "name": "stderr",
          "text": [
            "\n",
            "100%|██████████| 60/60 [00:00<00:00, 106.04it/s]"
          ]
        },
        {
          "output_type": "stream",
          "name": "stdout",
          "text": [
            "Train Loss:0.3335, Train Acc:50.00\n",
            "validation start\n"
          ]
        },
        {
          "output_type": "stream",
          "name": "stderr",
          "text": [
            "\n",
            "15it [00:00, 58.96it/s]              "
          ]
        },
        {
          "output_type": "stream",
          "name": "stdout",
          "text": [
            "Val Loss:0.3526, Val_Acc:50.00\n",
            "loss 0.3716 - accu 44.6617 - val_loss 0.3635 - val_accu 49.1914\n",
            "Epoch [101/500]\n"
          ]
        },
        {
          "output_type": "stream",
          "name": "stderr",
          "text": [
            "\n",
            "100%|██████████| 60/60 [00:00<00:00, 113.70it/s]"
          ]
        },
        {
          "output_type": "stream",
          "name": "stdout",
          "text": [
            "Train Loss:0.3389, Train Acc:47.50\n",
            "validation start\n"
          ]
        },
        {
          "output_type": "stream",
          "name": "stderr",
          "text": [
            "\n",
            "15it [00:00, 61.73it/s]              "
          ]
        },
        {
          "output_type": "stream",
          "name": "stdout",
          "text": [
            "Val Loss:0.3508, Val_Acc:50.00\n",
            "loss 0.3713 - accu 44.6895 - val_loss 0.3633 - val_accu 49.1993\n",
            "=> saved best model\n",
            "Epoch [102/500]\n"
          ]
        },
        {
          "output_type": "stream",
          "name": "stderr",
          "text": [
            "\n",
            "100%|██████████| 60/60 [00:00<00:00, 113.09it/s]"
          ]
        },
        {
          "output_type": "stream",
          "name": "stdout",
          "text": [
            "Train Loss:0.3427, Train Acc:46.25\n",
            "validation start\n"
          ]
        },
        {
          "output_type": "stream",
          "name": "stderr",
          "text": [
            "\n",
            "15it [00:00, 55.80it/s]              "
          ]
        },
        {
          "output_type": "stream",
          "name": "stdout",
          "text": [
            "Val Loss:0.3496, Val_Acc:46.67\n",
            "loss 0.3710 - accu 44.7047 - val_loss 0.3632 - val_accu 49.1748\n",
            "Epoch [103/500]\n"
          ]
        },
        {
          "output_type": "stream",
          "name": "stderr",
          "text": [
            "\n",
            "100%|██████████| 60/60 [00:00<00:00, 111.04it/s]"
          ]
        },
        {
          "output_type": "stream",
          "name": "stdout",
          "text": [
            "Train Loss:0.3238, Train Acc:53.33\n",
            "validation start\n"
          ]
        },
        {
          "output_type": "stream",
          "name": "stderr",
          "text": [
            "\n",
            "15it [00:00, 54.13it/s]              "
          ]
        },
        {
          "output_type": "stream",
          "name": "stdout",
          "text": [
            "Val Loss:0.3505, Val_Acc:50.00\n",
            "loss 0.3706 - accu 44.7877 - val_loss 0.3631 - val_accu 49.1827\n",
            "Epoch [104/500]\n"
          ]
        },
        {
          "output_type": "stream",
          "name": "stderr",
          "text": [
            "\n",
            "100%|██████████| 60/60 [00:00<00:00, 116.03it/s]"
          ]
        },
        {
          "output_type": "stream",
          "name": "stdout",
          "text": [
            "Train Loss:0.3366, Train Acc:52.08\n",
            "validation start\n"
          ]
        },
        {
          "output_type": "stream",
          "name": "stderr",
          "text": [
            "\n",
            "15it [00:00, 58.85it/s]              "
          ]
        },
        {
          "output_type": "stream",
          "name": "stdout",
          "text": [
            "Val Loss:0.3485, Val_Acc:50.00\n",
            "loss 0.3703 - accu 44.8571 - val_loss 0.3629 - val_accu 49.1905\n",
            "Epoch [105/500]\n"
          ]
        },
        {
          "output_type": "stream",
          "name": "stderr",
          "text": [
            "\n",
            "100%|██████████| 60/60 [00:00<00:00, 109.20it/s]"
          ]
        },
        {
          "output_type": "stream",
          "name": "stdout",
          "text": [
            "Train Loss:0.3224, Train Acc:52.50\n",
            "validation start\n"
          ]
        },
        {
          "output_type": "stream",
          "name": "stderr",
          "text": [
            "\n",
            "15it [00:00, 51.81it/s]\n"
          ]
        },
        {
          "output_type": "stream",
          "name": "stdout",
          "text": [
            "Val Loss:0.3428, Val_Acc:51.67\n",
            "loss 0.3698 - accu 44.9292 - val_loss 0.3628 - val_accu 49.2138\n",
            "=> saved best model\n",
            "Epoch [106/500]\n"
          ]
        },
        {
          "output_type": "stream",
          "name": "stderr",
          "text": [
            "100%|██████████| 60/60 [00:00<00:00, 115.85it/s]"
          ]
        },
        {
          "output_type": "stream",
          "name": "stdout",
          "text": [
            "Train Loss:0.3270, Train Acc:50.83\n",
            "validation start\n"
          ]
        },
        {
          "output_type": "stream",
          "name": "stderr",
          "text": [
            "\n",
            "15it [00:00, 56.59it/s]              "
          ]
        },
        {
          "output_type": "stream",
          "name": "stdout",
          "text": [
            "Val Loss:0.3524, Val_Acc:46.67\n",
            "loss 0.3694 - accu 44.9844 - val_loss 0.3627 - val_accu 49.1900\n",
            "Epoch [107/500]\n"
          ]
        },
        {
          "output_type": "stream",
          "name": "stderr",
          "text": [
            "\n",
            "100%|██████████| 60/60 [00:00<00:00, 112.23it/s]"
          ]
        },
        {
          "output_type": "stream",
          "name": "stdout",
          "text": [
            "Train Loss:0.3179, Train Acc:52.50\n",
            "validation start\n"
          ]
        },
        {
          "output_type": "stream",
          "name": "stderr",
          "text": [
            "\n",
            "15it [00:00, 48.37it/s]"
          ]
        },
        {
          "output_type": "stream",
          "name": "stdout",
          "text": [
            "Val Loss:0.3486, Val_Acc:51.67\n",
            "loss 0.3689 - accu 45.0540 - val_loss 0.3625 - val_accu 49.2130\n",
            "Epoch [108/500]\n"
          ]
        },
        {
          "output_type": "stream",
          "name": "stderr",
          "text": [
            "\n",
            "100%|██████████| 60/60 [00:00<00:00, 101.87it/s]"
          ]
        },
        {
          "output_type": "stream",
          "name": "stdout",
          "text": [
            "Train Loss:0.3205, Train Acc:50.83\n",
            "validation start\n"
          ]
        },
        {
          "output_type": "stream",
          "name": "stderr",
          "text": [
            "\n",
            "15it [00:00, 49.43it/s] "
          ]
        },
        {
          "output_type": "stream",
          "name": "stdout",
          "text": [
            "Val Loss:0.3411, Val_Acc:51.67\n",
            "loss 0.3685 - accu 45.1070 - val_loss 0.3623 - val_accu 49.2355\n",
            "=> saved best model\n",
            "Epoch [109/500]\n"
          ]
        },
        {
          "output_type": "stream",
          "name": "stderr",
          "text": [
            "\n",
            "100%|██████████| 60/60 [00:00<00:00, 111.06it/s]"
          ]
        },
        {
          "output_type": "stream",
          "name": "stdout",
          "text": [
            "Train Loss:0.3250, Train Acc:52.50\n",
            "validation start\n"
          ]
        },
        {
          "output_type": "stream",
          "name": "stderr",
          "text": [
            "\n",
            "15it [00:00, 55.90it/s]              "
          ]
        },
        {
          "output_type": "stream",
          "name": "stdout",
          "text": [
            "Val Loss:0.3477, Val_Acc:50.00\n",
            "loss 0.3681 - accu 45.1742 - val_loss 0.3622 - val_accu 49.2424\n",
            "=> saved best model\n",
            "Epoch [110/500]\n"
          ]
        },
        {
          "output_type": "stream",
          "name": "stderr",
          "text": [
            "\n",
            "100%|██████████| 60/60 [00:00<00:00, 112.76it/s]"
          ]
        },
        {
          "output_type": "stream",
          "name": "stdout",
          "text": [
            "Train Loss:0.3243, Train Acc:55.00\n",
            "validation start\n"
          ]
        },
        {
          "output_type": "stream",
          "name": "stderr",
          "text": [
            "\n",
            "15it [00:00, 55.25it/s]              "
          ]
        },
        {
          "output_type": "stream",
          "name": "stdout",
          "text": [
            "Val Loss:0.3458, Val_Acc:48.33\n",
            "loss 0.3677 - accu 45.2628 - val_loss 0.3621 - val_accu 49.2342\n",
            "Epoch [111/500]\n"
          ]
        },
        {
          "output_type": "stream",
          "name": "stderr",
          "text": [
            "\n",
            "100%|██████████| 60/60 [00:00<00:00, 101.35it/s]"
          ]
        },
        {
          "output_type": "stream",
          "name": "stdout",
          "text": [
            "Train Loss:0.3350, Train Acc:52.92\n",
            "validation start\n"
          ]
        },
        {
          "output_type": "stream",
          "name": "stderr",
          "text": [
            "\n",
            "15it [00:00, 52.76it/s]              "
          ]
        },
        {
          "output_type": "stream",
          "name": "stdout",
          "text": [
            "Val Loss:0.3459, Val_Acc:51.67\n",
            "loss 0.3674 - accu 45.3311 - val_loss 0.3619 - val_accu 49.2560\n",
            "=> saved best model\n",
            "Epoch [112/500]\n"
          ]
        },
        {
          "output_type": "stream",
          "name": "stderr",
          "text": [
            "\n",
            "100%|██████████| 60/60 [00:00<00:00, 115.11it/s]"
          ]
        },
        {
          "output_type": "stream",
          "name": "stdout",
          "text": [
            "Train Loss:0.3316, Train Acc:50.83\n",
            "validation start\n"
          ]
        },
        {
          "output_type": "stream",
          "name": "stderr",
          "text": [
            "\n",
            "15it [00:00, 57.59it/s]              "
          ]
        },
        {
          "output_type": "stream",
          "name": "stdout",
          "text": [
            "Val Loss:0.3500, Val_Acc:50.00\n",
            "loss 0.3671 - accu 45.3798 - val_loss 0.3618 - val_accu 49.2625\n",
            "=> saved best model\n",
            "Epoch [113/500]\n"
          ]
        },
        {
          "output_type": "stream",
          "name": "stderr",
          "text": [
            "\n",
            "100%|██████████| 60/60 [00:00<00:00, 113.21it/s]"
          ]
        },
        {
          "output_type": "stream",
          "name": "stdout",
          "text": [
            "Train Loss:0.3412, Train Acc:47.50\n",
            "validation start\n"
          ]
        },
        {
          "output_type": "stream",
          "name": "stderr",
          "text": [
            "\n",
            "15it [00:00, 51.81it/s]\n"
          ]
        },
        {
          "output_type": "stream",
          "name": "stdout",
          "text": [
            "Val Loss:0.3489, Val_Acc:46.67\n",
            "loss 0.3669 - accu 45.3984 - val_loss 0.3617 - val_accu 49.2398\n",
            "Epoch [114/500]\n"
          ]
        },
        {
          "output_type": "stream",
          "name": "stderr",
          "text": [
            "100%|██████████| 60/60 [00:00<00:00, 108.41it/s]"
          ]
        },
        {
          "output_type": "stream",
          "name": "stdout",
          "text": [
            "Train Loss:0.3273, Train Acc:49.17\n",
            "validation start\n"
          ]
        },
        {
          "output_type": "stream",
          "name": "stderr",
          "text": [
            "\n",
            "15it [00:00, 55.31it/s]              "
          ]
        },
        {
          "output_type": "stream",
          "name": "stdout",
          "text": [
            "Val Loss:0.3440, Val_Acc:48.33\n",
            "loss 0.3665 - accu 45.4312 - val_loss 0.3615 - val_accu 49.2319\n",
            "Epoch [115/500]\n"
          ]
        },
        {
          "output_type": "stream",
          "name": "stderr",
          "text": [
            "\n",
            "100%|██████████| 60/60 [00:00<00:00, 112.74it/s]"
          ]
        },
        {
          "output_type": "stream",
          "name": "stdout",
          "text": [
            "Train Loss:0.3272, Train Acc:52.08\n",
            "validation start\n"
          ]
        },
        {
          "output_type": "stream",
          "name": "stderr",
          "text": [
            "\n",
            "15it [00:00, 56.77it/s]              "
          ]
        },
        {
          "output_type": "stream",
          "name": "stdout",
          "text": [
            "Val Loss:0.3486, Val_Acc:46.67\n",
            "loss 0.3662 - accu 45.4885 - val_loss 0.3614 - val_accu 49.2098\n",
            "Epoch [116/500]\n"
          ]
        },
        {
          "output_type": "stream",
          "name": "stderr",
          "text": [
            "\n",
            "100%|██████████| 60/60 [00:00<00:00, 108.56it/s]"
          ]
        },
        {
          "output_type": "stream",
          "name": "stdout",
          "text": [
            "Train Loss:0.3227, Train Acc:55.83\n",
            "validation start\n"
          ]
        },
        {
          "output_type": "stream",
          "name": "stderr",
          "text": [
            "\n",
            "15it [00:00, 49.03it/s]\n"
          ]
        },
        {
          "output_type": "stream",
          "name": "stdout",
          "text": [
            "Val Loss:0.3437, Val_Acc:48.33\n",
            "loss 0.3658 - accu 45.5769 - val_loss 0.3613 - val_accu 49.2023\n",
            "Epoch [117/500]\n"
          ]
        },
        {
          "output_type": "stream",
          "name": "stderr",
          "text": [
            "100%|██████████| 60/60 [00:00<00:00, 103.49it/s]"
          ]
        },
        {
          "output_type": "stream",
          "name": "stdout",
          "text": [
            "Train Loss:0.3222, Train Acc:51.25\n",
            "validation start\n"
          ]
        },
        {
          "output_type": "stream",
          "name": "stderr",
          "text": [
            "\n",
            "15it [00:00, 51.10it/s]"
          ]
        },
        {
          "output_type": "stream",
          "name": "stdout",
          "text": [
            "Val Loss:0.3482, Val_Acc:48.33\n",
            "loss 0.3654 - accu 45.6250 - val_loss 0.3612 - val_accu 49.1949\n",
            "Epoch [118/500]\n"
          ]
        },
        {
          "output_type": "stream",
          "name": "stderr",
          "text": [
            "\n",
            "100%|██████████| 60/60 [00:00<00:00, 110.92it/s]"
          ]
        },
        {
          "output_type": "stream",
          "name": "stdout",
          "text": [
            "Train Loss:0.3268, Train Acc:50.00\n",
            "validation start\n"
          ]
        },
        {
          "output_type": "stream",
          "name": "stderr",
          "text": [
            "\n",
            "15it [00:00, 54.06it/s]              "
          ]
        },
        {
          "output_type": "stream",
          "name": "stdout",
          "text": [
            "Val Loss:0.3459, Val_Acc:48.33\n",
            "loss 0.3651 - accu 45.6618 - val_loss 0.3610 - val_accu 49.1877\n",
            "Epoch [119/500]\n"
          ]
        },
        {
          "output_type": "stream",
          "name": "stderr",
          "text": [
            "\n",
            "100%|██████████| 60/60 [00:00<00:00, 112.45it/s]"
          ]
        },
        {
          "output_type": "stream",
          "name": "stdout",
          "text": [
            "Train Loss:0.3215, Train Acc:55.83\n",
            "validation start\n"
          ]
        },
        {
          "output_type": "stream",
          "name": "stderr",
          "text": [
            "\n",
            "15it [00:00, 56.15it/s]              "
          ]
        },
        {
          "output_type": "stream",
          "name": "stdout",
          "text": [
            "Val Loss:0.3435, Val_Acc:50.00\n",
            "loss 0.3648 - accu 45.7465 - val_loss 0.3609 - val_accu 49.1944\n",
            "Epoch [120/500]\n"
          ]
        },
        {
          "output_type": "stream",
          "name": "stderr",
          "text": [
            "\n",
            "100%|██████████| 60/60 [00:00<00:00, 114.74it/s]"
          ]
        },
        {
          "output_type": "stream",
          "name": "stdout",
          "text": [
            "Train Loss:0.3236, Train Acc:51.25\n",
            "validation start\n"
          ]
        },
        {
          "output_type": "stream",
          "name": "stderr",
          "text": [
            "\n",
            "15it [00:00, 54.57it/s]              "
          ]
        },
        {
          "output_type": "stream",
          "name": "stdout",
          "text": [
            "Val Loss:0.3448, Val_Acc:55.00\n",
            "loss 0.3644 - accu 45.7920 - val_loss 0.3608 - val_accu 49.2424\n",
            "Epoch [121/500]\n"
          ]
        },
        {
          "output_type": "stream",
          "name": "stderr",
          "text": [
            "\n",
            "100%|██████████| 60/60 [00:00<00:00, 115.20it/s]"
          ]
        },
        {
          "output_type": "stream",
          "name": "stdout",
          "text": [
            "Train Loss:0.3359, Train Acc:48.33\n",
            "validation start\n"
          ]
        },
        {
          "output_type": "stream",
          "name": "stderr",
          "text": [
            "\n",
            "15it [00:00, 56.17it/s]              "
          ]
        },
        {
          "output_type": "stream",
          "name": "stdout",
          "text": [
            "Val Loss:0.3403, Val_Acc:56.67\n",
            "loss 0.3642 - accu 45.8128 - val_loss 0.3606 - val_accu 49.3033\n",
            "=> saved best model\n",
            "Epoch [122/500]\n"
          ]
        },
        {
          "output_type": "stream",
          "name": "stderr",
          "text": [
            "\n",
            "100%|██████████| 60/60 [00:00<00:00, 103.23it/s]"
          ]
        },
        {
          "output_type": "stream",
          "name": "stdout",
          "text": [
            "Train Loss:0.3175, Train Acc:50.83\n",
            "validation start\n"
          ]
        },
        {
          "output_type": "stream",
          "name": "stderr",
          "text": [
            "\n",
            "15it [00:00, 48.81it/s]"
          ]
        },
        {
          "output_type": "stream",
          "name": "stdout",
          "text": [
            "Val Loss:0.3499, Val_Acc:48.33\n",
            "loss 0.3638 - accu 45.8537 - val_loss 0.3605 - val_accu 49.2954\n",
            "Epoch [123/500]\n"
          ]
        },
        {
          "output_type": "stream",
          "name": "stderr",
          "text": [
            "\n",
            "100%|██████████| 60/60 [00:00<00:00, 113.78it/s]"
          ]
        },
        {
          "output_type": "stream",
          "name": "stdout",
          "text": [
            "Train Loss:0.3302, Train Acc:50.83\n",
            "validation start\n"
          ]
        },
        {
          "output_type": "stream",
          "name": "stderr",
          "text": [
            "\n",
            "15it [00:00, 56.89it/s]              "
          ]
        },
        {
          "output_type": "stream",
          "name": "stdout",
          "text": [
            "Val Loss:0.3393, Val_Acc:51.67\n",
            "loss 0.3635 - accu 45.8938 - val_loss 0.3603 - val_accu 49.3145\n",
            "=> saved best model\n",
            "Epoch [124/500]\n"
          ]
        },
        {
          "output_type": "stream",
          "name": "stderr",
          "text": [
            "\n",
            "100%|██████████| 60/60 [00:00<00:00, 106.08it/s]"
          ]
        },
        {
          "output_type": "stream",
          "name": "stdout",
          "text": [
            "Train Loss:0.3245, Train Acc:55.00\n",
            "validation start\n"
          ]
        },
        {
          "output_type": "stream",
          "name": "stderr",
          "text": [
            "\n",
            "15it [00:00, 56.92it/s]              "
          ]
        },
        {
          "output_type": "stream",
          "name": "stdout",
          "text": [
            "Val Loss:0.3383, Val_Acc:50.00\n",
            "loss 0.3632 - accu 45.9667 - val_loss 0.3602 - val_accu 49.3200\n",
            "=> saved best model\n",
            "Epoch [125/500]\n"
          ]
        },
        {
          "output_type": "stream",
          "name": "stderr",
          "text": [
            "\n",
            "100%|██████████| 60/60 [00:00<00:00, 92.01it/s] "
          ]
        },
        {
          "output_type": "stream",
          "name": "stdout",
          "text": [
            "Train Loss:0.3185, Train Acc:48.75\n",
            "validation start\n"
          ]
        },
        {
          "output_type": "stream",
          "name": "stderr",
          "text": [
            "\n",
            "15it [00:00, 47.13it/s]"
          ]
        },
        {
          "output_type": "stream",
          "name": "stdout",
          "text": [
            "Val Loss:0.3358, Val_Acc:53.33\n",
            "loss 0.3629 - accu 45.9888 - val_loss 0.3600 - val_accu 49.3519\n",
            "=> saved best model\n",
            "Epoch [126/500]\n"
          ]
        },
        {
          "output_type": "stream",
          "name": "stderr",
          "text": [
            "\n",
            "100%|██████████| 60/60 [00:00<00:00, 105.91it/s]"
          ]
        },
        {
          "output_type": "stream",
          "name": "stdout",
          "text": [
            "Train Loss:0.3224, Train Acc:53.33\n",
            "validation start\n"
          ]
        },
        {
          "output_type": "stream",
          "name": "stderr",
          "text": [
            "\n",
            "15it [00:00, 54.24it/s]              "
          ]
        },
        {
          "output_type": "stream",
          "name": "stdout",
          "text": [
            "Val Loss:0.3478, Val_Acc:51.67\n",
            "loss 0.3625 - accu 46.0466 - val_loss 0.3599 - val_accu 49.3701\n",
            "=> saved best model\n",
            "Epoch [127/500]\n"
          ]
        },
        {
          "output_type": "stream",
          "name": "stderr",
          "text": [
            "\n",
            "100%|██████████| 60/60 [00:00<00:00, 109.88it/s]"
          ]
        },
        {
          "output_type": "stream",
          "name": "stdout",
          "text": [
            "Train Loss:0.3123, Train Acc:52.08\n",
            "validation start\n"
          ]
        },
        {
          "output_type": "stream",
          "name": "stderr",
          "text": [
            "\n",
            "15it [00:00, 58.44it/s]              "
          ]
        },
        {
          "output_type": "stream",
          "name": "stdout",
          "text": [
            "Val Loss:0.3383, Val_Acc:48.33\n",
            "loss 0.3622 - accu 46.0938 - val_loss 0.3597 - val_accu 49.3620\n",
            "Epoch [128/500]\n"
          ]
        },
        {
          "output_type": "stream",
          "name": "stderr",
          "text": [
            "\n",
            "100%|██████████| 60/60 [00:00<00:00, 107.55it/s]"
          ]
        },
        {
          "output_type": "stream",
          "name": "stdout",
          "text": [
            "Train Loss:0.3169, Train Acc:50.83\n",
            "validation start\n"
          ]
        },
        {
          "output_type": "stream",
          "name": "stderr",
          "text": [
            "\n",
            "15it [00:00, 51.76it/s] \n"
          ]
        },
        {
          "output_type": "stream",
          "name": "stdout",
          "text": [
            "Val Loss:0.3450, Val_Acc:50.00\n",
            "loss 0.3618 - accu 46.1305 - val_loss 0.3596 - val_accu 49.3669\n",
            "Epoch [129/500]\n"
          ]
        },
        {
          "output_type": "stream",
          "name": "stderr",
          "text": [
            "100%|██████████| 60/60 [00:00<00:00, 105.32it/s]"
          ]
        },
        {
          "output_type": "stream",
          "name": "stdout",
          "text": [
            "Train Loss:0.3251, Train Acc:54.17\n",
            "validation start\n"
          ]
        },
        {
          "output_type": "stream",
          "name": "stderr",
          "text": [
            "\n",
            "15it [00:00, 52.58it/s] \n"
          ]
        },
        {
          "output_type": "stream",
          "name": "stdout",
          "text": [
            "Val Loss:0.3434, Val_Acc:53.33\n",
            "loss 0.3615 - accu 46.1923 - val_loss 0.3595 - val_accu 49.3974\n",
            "=> saved best model\n",
            "Epoch [130/500]\n"
          ]
        },
        {
          "output_type": "stream",
          "name": "stderr",
          "text": [
            "100%|██████████| 60/60 [00:00<00:00, 102.99it/s]"
          ]
        },
        {
          "output_type": "stream",
          "name": "stdout",
          "text": [
            "Train Loss:0.3235, Train Acc:52.92\n",
            "validation start\n"
          ]
        },
        {
          "output_type": "stream",
          "name": "stderr",
          "text": [
            "\n",
            "15it [00:00, 51.16it/s]\n"
          ]
        },
        {
          "output_type": "stream",
          "name": "stdout",
          "text": [
            "Val Loss:0.3395, Val_Acc:50.00\n",
            "loss 0.3612 - accu 46.2436 - val_loss 0.3593 - val_accu 49.4020\n",
            "=> saved best model\n",
            "Epoch [131/500]\n"
          ]
        },
        {
          "output_type": "stream",
          "name": "stderr",
          "text": [
            "100%|██████████| 60/60 [00:00<00:00, 107.41it/s]"
          ]
        },
        {
          "output_type": "stream",
          "name": "stdout",
          "text": [
            "Train Loss:0.3195, Train Acc:52.08\n",
            "validation start\n"
          ]
        },
        {
          "output_type": "stream",
          "name": "stderr",
          "text": [
            "\n",
            "15it [00:00, 51.48it/s]\n"
          ]
        },
        {
          "output_type": "stream",
          "name": "stdout",
          "text": [
            "Val Loss:0.3428, Val_Acc:48.33\n",
            "loss 0.3609 - accu 46.2879 - val_loss 0.3592 - val_accu 49.3939\n",
            "Epoch [132/500]\n"
          ]
        },
        {
          "output_type": "stream",
          "name": "stderr",
          "text": [
            "100%|██████████| 60/60 [00:00<00:00, 115.73it/s]"
          ]
        },
        {
          "output_type": "stream",
          "name": "stdout",
          "text": [
            "Train Loss:0.3237, Train Acc:49.17\n",
            "validation start\n"
          ]
        },
        {
          "output_type": "stream",
          "name": "stderr",
          "text": [
            "\n",
            "15it [00:00, 58.48it/s]              "
          ]
        },
        {
          "output_type": "stream",
          "name": "stdout",
          "text": [
            "Val Loss:0.3412, Val_Acc:46.67\n",
            "loss 0.3606 - accu 46.3095 - val_loss 0.3590 - val_accu 49.3734\n",
            "Epoch [133/500]\n"
          ]
        },
        {
          "output_type": "stream",
          "name": "stderr",
          "text": [
            "\n",
            "100%|██████████| 60/60 [00:00<00:00, 112.96it/s]"
          ]
        },
        {
          "output_type": "stream",
          "name": "stdout",
          "text": [
            "Train Loss:0.3175, Train Acc:58.33\n",
            "validation start\n"
          ]
        },
        {
          "output_type": "stream",
          "name": "stderr",
          "text": [
            "\n",
            "15it [00:00, 56.04it/s]              "
          ]
        },
        {
          "output_type": "stream",
          "name": "stdout",
          "text": [
            "Val Loss:0.3399, Val_Acc:53.33\n",
            "loss 0.3603 - accu 46.3993 - val_loss 0.3589 - val_accu 49.4030\n",
            "=> saved best model\n",
            "Epoch [134/500]\n"
          ]
        },
        {
          "output_type": "stream",
          "name": "stderr",
          "text": [
            "\n",
            "100%|██████████| 60/60 [00:00<00:00, 103.05it/s]"
          ]
        },
        {
          "output_type": "stream",
          "name": "stdout",
          "text": [
            "Train Loss:0.3309, Train Acc:48.33\n",
            "validation start\n"
          ]
        },
        {
          "output_type": "stream",
          "name": "stderr",
          "text": [
            "\n",
            "15it [00:00, 54.56it/s]              "
          ]
        },
        {
          "output_type": "stream",
          "name": "stdout",
          "text": [
            "Val Loss:0.3414, Val_Acc:51.67\n",
            "loss 0.3601 - accu 46.4136 - val_loss 0.3588 - val_accu 49.4198\n",
            "=> saved best model\n",
            "Epoch [135/500]\n"
          ]
        },
        {
          "output_type": "stream",
          "name": "stderr",
          "text": [
            "\n",
            "100%|██████████| 60/60 [00:00<00:00, 105.98it/s]"
          ]
        },
        {
          "output_type": "stream",
          "name": "stdout",
          "text": [
            "Train Loss:0.3209, Train Acc:52.50\n",
            "validation start\n"
          ]
        },
        {
          "output_type": "stream",
          "name": "stderr",
          "text": [
            "\n",
            "15it [00:00, 53.97it/s]              "
          ]
        },
        {
          "output_type": "stream",
          "name": "stdout",
          "text": [
            "Val Loss:0.3394, Val_Acc:53.33\n",
            "loss 0.3598 - accu 46.4583 - val_loss 0.3586 - val_accu 49.4485\n",
            "=> saved best model\n",
            "Epoch [136/500]\n"
          ]
        },
        {
          "output_type": "stream",
          "name": "stderr",
          "text": [
            "\n",
            "100%|██████████| 60/60 [00:00<00:00, 106.21it/s]"
          ]
        },
        {
          "output_type": "stream",
          "name": "stdout",
          "text": [
            "Train Loss:0.3227, Train Acc:50.00\n",
            "validation start\n"
          ]
        },
        {
          "output_type": "stream",
          "name": "stderr",
          "text": [
            "\n",
            "15it [00:00, 58.17it/s]              "
          ]
        },
        {
          "output_type": "stream",
          "name": "stdout",
          "text": [
            "Val Loss:0.3422, Val_Acc:53.33\n",
            "loss 0.3595 - accu 46.4842 - val_loss 0.3585 - val_accu 49.4769\n",
            "=> saved best model\n",
            "Epoch [137/500]\n"
          ]
        },
        {
          "output_type": "stream",
          "name": "stderr",
          "text": [
            "\n",
            "100%|██████████| 60/60 [00:00<00:00, 109.52it/s]"
          ]
        },
        {
          "output_type": "stream",
          "name": "stdout",
          "text": [
            "Train Loss:0.3231, Train Acc:53.33\n",
            "validation start\n"
          ]
        },
        {
          "output_type": "stream",
          "name": "stderr",
          "text": [
            "\n",
            "15it [00:00, 58.90it/s]              "
          ]
        },
        {
          "output_type": "stream",
          "name": "stdout",
          "text": [
            "Val Loss:0.3406, Val_Acc:50.00\n",
            "loss 0.3593 - accu 46.5338 - val_loss 0.3584 - val_accu 49.4807\n",
            "=> saved best model\n",
            "Epoch [138/500]\n"
          ]
        },
        {
          "output_type": "stream",
          "name": "stderr",
          "text": [
            "\n",
            "100%|██████████| 60/60 [00:00<00:00, 112.33it/s]"
          ]
        },
        {
          "output_type": "stream",
          "name": "stdout",
          "text": [
            "Train Loss:0.3278, Train Acc:51.67\n",
            "validation start\n"
          ]
        },
        {
          "output_type": "stream",
          "name": "stderr",
          "text": [
            "\n",
            "15it [00:00, 52.99it/s]              "
          ]
        },
        {
          "output_type": "stream",
          "name": "stdout",
          "text": [
            "Val Loss:0.3352, Val_Acc:51.67\n",
            "loss 0.3590 - accu 46.5707 - val_loss 0.3582 - val_accu 49.4964\n",
            "=> saved best model\n",
            "Epoch [139/500]\n"
          ]
        },
        {
          "output_type": "stream",
          "name": "stderr",
          "text": [
            "\n",
            "100%|██████████| 60/60 [00:00<00:00, 106.37it/s]"
          ]
        },
        {
          "output_type": "stream",
          "name": "stdout",
          "text": [
            "Train Loss:0.3169, Train Acc:50.42\n",
            "validation start\n"
          ]
        },
        {
          "output_type": "stream",
          "name": "stderr",
          "text": [
            "\n",
            "15it [00:00, 51.53it/s] \n"
          ]
        },
        {
          "output_type": "stream",
          "name": "stdout",
          "text": [
            "Val Loss:0.3363, Val_Acc:50.00\n",
            "loss 0.3587 - accu 46.5982 - val_loss 0.3581 - val_accu 49.5000\n",
            "=> saved best model\n",
            "Epoch [140/500]\n"
          ]
        },
        {
          "output_type": "stream",
          "name": "stderr",
          "text": [
            "100%|██████████| 60/60 [00:00<00:00, 103.11it/s]"
          ]
        },
        {
          "output_type": "stream",
          "name": "stdout",
          "text": [
            "Train Loss:0.3157, Train Acc:52.08\n",
            "validation start\n"
          ]
        },
        {
          "output_type": "stream",
          "name": "stderr",
          "text": [
            "\n",
            "15it [00:00, 54.10it/s]              "
          ]
        },
        {
          "output_type": "stream",
          "name": "stdout",
          "text": [
            "Val Loss:0.3335, Val_Acc:50.00\n",
            "loss 0.3584 - accu 46.6371 - val_loss 0.3579 - val_accu 49.5035\n",
            "=> saved best model\n",
            "Epoch [141/500]\n"
          ]
        },
        {
          "output_type": "stream",
          "name": "stderr",
          "text": [
            "\n",
            "100%|██████████| 60/60 [00:00<00:00, 110.00it/s]"
          ]
        },
        {
          "output_type": "stream",
          "name": "stdout",
          "text": [
            "Train Loss:0.3253, Train Acc:49.58\n",
            "validation start\n"
          ]
        },
        {
          "output_type": "stream",
          "name": "stderr",
          "text": [
            "\n",
            "15it [00:00, 52.05it/s]\n"
          ]
        },
        {
          "output_type": "stream",
          "name": "stdout",
          "text": [
            "Val Loss:0.3388, Val_Acc:48.33\n",
            "loss 0.3582 - accu 46.6579 - val_loss 0.3577 - val_accu 49.4953\n",
            "Epoch [142/500]\n"
          ]
        },
        {
          "output_type": "stream",
          "name": "stderr",
          "text": [
            "100%|██████████| 60/60 [00:00<00:00, 113.28it/s]"
          ]
        },
        {
          "output_type": "stream",
          "name": "stdout",
          "text": [
            "Train Loss:0.3190, Train Acc:52.92\n",
            "validation start\n"
          ]
        },
        {
          "output_type": "stream",
          "name": "stderr",
          "text": [
            "\n",
            "15it [00:00, 53.37it/s] \n"
          ]
        },
        {
          "output_type": "stream",
          "name": "stdout",
          "text": [
            "Val Loss:0.3405, Val_Acc:55.00\n",
            "loss 0.3579 - accu 46.7016 - val_loss 0.3576 - val_accu 49.5338\n",
            "=> saved best model\n",
            "Epoch [143/500]\n"
          ]
        },
        {
          "output_type": "stream",
          "name": "stderr",
          "text": [
            "100%|██████████| 60/60 [00:00<00:00, 110.35it/s]"
          ]
        },
        {
          "output_type": "stream",
          "name": "stdout",
          "text": [
            "Train Loss:0.3182, Train Acc:51.67\n",
            "validation start\n"
          ]
        },
        {
          "output_type": "stream",
          "name": "stderr",
          "text": [
            "\n",
            "15it [00:00, 50.04it/s]\n"
          ]
        },
        {
          "output_type": "stream",
          "name": "stdout",
          "text": [
            "Val Loss:0.3454, Val_Acc:50.00\n",
            "loss 0.3577 - accu 46.7361 - val_loss 0.3575 - val_accu 49.5370\n",
            "=> saved best model\n",
            "Epoch [144/500]\n"
          ]
        },
        {
          "output_type": "stream",
          "name": "stderr",
          "text": [
            "100%|██████████| 60/60 [00:00<00:00, 105.57it/s]"
          ]
        },
        {
          "output_type": "stream",
          "name": "stdout",
          "text": [
            "Train Loss:0.3263, Train Acc:48.75\n",
            "validation start\n"
          ]
        },
        {
          "output_type": "stream",
          "name": "stderr",
          "text": [
            "\n",
            "15it [00:00, 49.25it/s]"
          ]
        },
        {
          "output_type": "stream",
          "name": "stdout",
          "text": [
            "Val Loss:0.3384, Val_Acc:53.33\n",
            "loss 0.3574 - accu 46.7500 - val_loss 0.3574 - val_accu 49.5632\n",
            "=> saved best model\n",
            "Epoch [145/500]\n"
          ]
        },
        {
          "output_type": "stream",
          "name": "stderr",
          "text": [
            "\n",
            "100%|██████████| 60/60 [00:00<00:00, 98.47it/s] \n"
          ]
        },
        {
          "output_type": "stream",
          "name": "stdout",
          "text": [
            "Train Loss:0.3143, Train Acc:52.92\n",
            "validation start\n"
          ]
        },
        {
          "output_type": "stream",
          "name": "stderr",
          "text": [
            "15it [00:00, 56.91it/s]              "
          ]
        },
        {
          "output_type": "stream",
          "name": "stdout",
          "text": [
            "Val Loss:0.3413, Val_Acc:50.00\n",
            "loss 0.3571 - accu 46.7922 - val_loss 0.3573 - val_accu 49.5662\n",
            "=> saved best model\n",
            "Epoch [146/500]\n"
          ]
        },
        {
          "output_type": "stream",
          "name": "stderr",
          "text": [
            "\n",
            "100%|██████████| 60/60 [00:00<00:00, 112.78it/s]"
          ]
        },
        {
          "output_type": "stream",
          "name": "stdout",
          "text": [
            "Train Loss:0.3176, Train Acc:53.33\n",
            "validation start\n"
          ]
        },
        {
          "output_type": "stream",
          "name": "stderr",
          "text": [
            "\n",
            "15it [00:00, 55.11it/s]              "
          ]
        },
        {
          "output_type": "stream",
          "name": "stdout",
          "text": [
            "Val Loss:0.3397, Val_Acc:56.67\n",
            "loss 0.3569 - accu 46.8367 - val_loss 0.3572 - val_accu 49.6145\n",
            "=> saved best model\n",
            "Epoch [147/500]\n"
          ]
        },
        {
          "output_type": "stream",
          "name": "stderr",
          "text": [
            "\n",
            "100%|██████████| 60/60 [00:00<00:00, 110.99it/s]"
          ]
        },
        {
          "output_type": "stream",
          "name": "stdout",
          "text": [
            "Train Loss:0.3137, Train Acc:52.08\n",
            "validation start\n"
          ]
        },
        {
          "output_type": "stream",
          "name": "stderr",
          "text": [
            "\n",
            "15it [00:00, 56.84it/s]              "
          ]
        },
        {
          "output_type": "stream",
          "name": "stdout",
          "text": [
            "Val Loss:0.3452, Val_Acc:53.33\n",
            "loss 0.3566 - accu 46.8722 - val_loss 0.3571 - val_accu 49.6396\n",
            "=> saved best model\n",
            "Epoch [148/500]\n"
          ]
        },
        {
          "output_type": "stream",
          "name": "stderr",
          "text": [
            "\n",
            "100%|██████████| 60/60 [00:00<00:00, 111.14it/s]"
          ]
        },
        {
          "output_type": "stream",
          "name": "stdout",
          "text": [
            "Train Loss:0.3204, Train Acc:51.25\n",
            "validation start\n"
          ]
        },
        {
          "output_type": "stream",
          "name": "stderr",
          "text": [
            "\n",
            "15it [00:00, 49.11it/s]"
          ]
        },
        {
          "output_type": "stream",
          "name": "stdout",
          "text": [
            "Val Loss:0.3387, Val_Acc:48.33\n",
            "loss 0.3563 - accu 46.9016 - val_loss 0.3570 - val_accu 49.6309\n",
            "Epoch [149/500]\n"
          ]
        },
        {
          "output_type": "stream",
          "name": "stderr",
          "text": [
            "\n",
            "100%|██████████| 60/60 [00:00<00:00, 103.99it/s]"
          ]
        },
        {
          "output_type": "stream",
          "name": "stdout",
          "text": [
            "Train Loss:0.3222, Train Acc:48.75\n",
            "validation start\n"
          ]
        },
        {
          "output_type": "stream",
          "name": "stderr",
          "text": [
            "\n",
            "15it [00:00, 52.19it/s]\n"
          ]
        },
        {
          "output_type": "stream",
          "name": "stdout",
          "text": [
            "Val Loss:0.3488, Val_Acc:51.67\n",
            "loss 0.3561 - accu 46.9139 - val_loss 0.3569 - val_accu 49.6444\n",
            "=> saved best model\n",
            "Epoch [150/500]\n"
          ]
        },
        {
          "output_type": "stream",
          "name": "stderr",
          "text": [
            "100%|██████████| 60/60 [00:00<00:00, 105.58it/s]"
          ]
        },
        {
          "output_type": "stream",
          "name": "stdout",
          "text": [
            "Train Loss:0.3138, Train Acc:52.92\n",
            "validation start\n"
          ]
        },
        {
          "output_type": "stream",
          "name": "stderr",
          "text": [
            "\n",
            "15it [00:00, 57.27it/s]              "
          ]
        },
        {
          "output_type": "stream",
          "name": "stdout",
          "text": [
            "Val Loss:0.3550, Val_Acc:46.67\n",
            "loss 0.3558 - accu 46.9536 - val_loss 0.3569 - val_accu 49.6247\n",
            "Epoch [151/500]\n"
          ]
        },
        {
          "output_type": "stream",
          "name": "stderr",
          "text": [
            "\n",
            "100%|██████████| 60/60 [00:00<00:00, 103.62it/s]"
          ]
        },
        {
          "output_type": "stream",
          "name": "stdout",
          "text": [
            "Train Loss:0.3214, Train Acc:52.92\n",
            "validation start\n"
          ]
        },
        {
          "output_type": "stream",
          "name": "stderr",
          "text": [
            "\n",
            "15it [00:00, 59.34it/s]              "
          ]
        },
        {
          "output_type": "stream",
          "name": "stdout",
          "text": [
            "Val Loss:0.3419, Val_Acc:51.67\n",
            "loss 0.3556 - accu 46.9929 - val_loss 0.3568 - val_accu 49.6382\n",
            "Epoch [152/500]\n"
          ]
        },
        {
          "output_type": "stream",
          "name": "stderr",
          "text": [
            "\n",
            "100%|██████████| 60/60 [00:00<00:00, 112.58it/s]"
          ]
        },
        {
          "output_type": "stream",
          "name": "stdout",
          "text": [
            "Train Loss:0.3271, Train Acc:51.67\n",
            "validation start\n"
          ]
        },
        {
          "output_type": "stream",
          "name": "stderr",
          "text": [
            "\n",
            "15it [00:00, 55.53it/s]              "
          ]
        },
        {
          "output_type": "stream",
          "name": "stdout",
          "text": [
            "Val Loss:0.3409, Val_Acc:46.67\n",
            "loss 0.3554 - accu 47.0234 - val_loss 0.3567 - val_accu 49.6187\n",
            "Epoch [153/500]\n"
          ]
        },
        {
          "output_type": "stream",
          "name": "stderr",
          "text": [
            "\n",
            "100%|██████████| 60/60 [00:00<00:00, 105.47it/s]"
          ]
        },
        {
          "output_type": "stream",
          "name": "stdout",
          "text": [
            "Train Loss:0.3050, Train Acc:48.33\n",
            "validation start\n"
          ]
        },
        {
          "output_type": "stream",
          "name": "stderr",
          "text": [
            "\n",
            "15it [00:00, 55.61it/s]              "
          ]
        },
        {
          "output_type": "stream",
          "name": "stdout",
          "text": [
            "Val Loss:0.3478, Val_Acc:48.33\n",
            "loss 0.3551 - accu 47.0319 - val_loss 0.3566 - val_accu 49.6104\n",
            "Epoch [154/500]\n"
          ]
        },
        {
          "output_type": "stream",
          "name": "stderr",
          "text": [
            "\n",
            "100%|██████████| 60/60 [00:00<00:00, 111.77it/s]"
          ]
        },
        {
          "output_type": "stream",
          "name": "stdout",
          "text": [
            "Train Loss:0.3122, Train Acc:52.92\n",
            "validation start\n"
          ]
        },
        {
          "output_type": "stream",
          "name": "stderr",
          "text": [
            "\n",
            "15it [00:00, 55.87it/s]              "
          ]
        },
        {
          "output_type": "stream",
          "name": "stdout",
          "text": [
            "Val Loss:0.3481, Val_Acc:55.00\n",
            "loss 0.3548 - accu 47.0699 - val_loss 0.3566 - val_accu 49.6452\n",
            "=> saved best model\n",
            "Epoch [155/500]\n"
          ]
        },
        {
          "output_type": "stream",
          "name": "stderr",
          "text": [
            "\n",
            "100%|██████████| 60/60 [00:00<00:00, 114.59it/s]"
          ]
        },
        {
          "output_type": "stream",
          "name": "stdout",
          "text": [
            "Train Loss:0.3254, Train Acc:48.75\n",
            "validation start\n"
          ]
        },
        {
          "output_type": "stream",
          "name": "stderr",
          "text": [
            "\n",
            "15it [00:00, 51.55it/s] \n"
          ]
        },
        {
          "output_type": "stream",
          "name": "stdout",
          "text": [
            "Val Loss:0.3491, Val_Acc:56.67\n",
            "loss 0.3546 - accu 47.0807 - val_loss 0.3565 - val_accu 49.6902\n",
            "=> saved best model\n",
            "Epoch [156/500]\n"
          ]
        },
        {
          "output_type": "stream",
          "name": "stderr",
          "text": [
            "100%|██████████| 60/60 [00:00<00:00, 111.80it/s]"
          ]
        },
        {
          "output_type": "stream",
          "name": "stdout",
          "text": [
            "Train Loss:0.3165, Train Acc:55.42\n",
            "validation start\n"
          ]
        },
        {
          "output_type": "stream",
          "name": "stderr",
          "text": [
            "\n",
            "15it [00:00, 54.68it/s]              "
          ]
        },
        {
          "output_type": "stream",
          "name": "stdout",
          "text": [
            "Val Loss:0.3432, Val_Acc:50.00\n",
            "loss 0.3544 - accu 47.1338 - val_loss 0.3565 - val_accu 49.6921\n",
            "=> saved best model\n",
            "Epoch [157/500]\n"
          ]
        },
        {
          "output_type": "stream",
          "name": "stderr",
          "text": [
            "\n",
            "100%|██████████| 60/60 [00:00<00:00, 107.84it/s]"
          ]
        },
        {
          "output_type": "stream",
          "name": "stdout",
          "text": [
            "Train Loss:0.3194, Train Acc:53.33\n",
            "validation start\n"
          ]
        },
        {
          "output_type": "stream",
          "name": "stderr",
          "text": [
            "\n",
            "15it [00:00, 49.95it/s]\n"
          ]
        },
        {
          "output_type": "stream",
          "name": "stdout",
          "text": [
            "Val Loss:0.3497, Val_Acc:46.67\n",
            "loss 0.3542 - accu 47.1730 - val_loss 0.3564 - val_accu 49.6730\n",
            "Epoch [158/500]\n"
          ]
        },
        {
          "output_type": "stream",
          "name": "stderr",
          "text": [
            "100%|██████████| 60/60 [00:00<00:00, 100.33it/s]"
          ]
        },
        {
          "output_type": "stream",
          "name": "stdout",
          "text": [
            "Train Loss:0.3266, Train Acc:50.83\n",
            "validation start\n"
          ]
        },
        {
          "output_type": "stream",
          "name": "stderr",
          "text": [
            "\n",
            "15it [00:00, 51.50it/s] \n"
          ]
        },
        {
          "output_type": "stream",
          "name": "stdout",
          "text": [
            "Val Loss:0.3483, Val_Acc:55.00\n",
            "loss 0.3540 - accu 47.1960 - val_loss 0.3564 - val_accu 49.7065\n",
            "=> saved best model\n",
            "Epoch [159/500]\n"
          ]
        },
        {
          "output_type": "stream",
          "name": "stderr",
          "text": [
            "100%|██████████| 60/60 [00:00<00:00, 107.22it/s]"
          ]
        },
        {
          "output_type": "stream",
          "name": "stdout",
          "text": [
            "Train Loss:0.3143, Train Acc:52.08\n",
            "validation start\n"
          ]
        },
        {
          "output_type": "stream",
          "name": "stderr",
          "text": [
            "\n",
            "15it [00:00, 45.98it/s]\n"
          ]
        },
        {
          "output_type": "stream",
          "name": "stdout",
          "text": [
            "Val Loss:0.3472, Val_Acc:51.67\n",
            "loss 0.3537 - accu 47.2266 - val_loss 0.3563 - val_accu 49.7188\n",
            "=> saved best model\n",
            "Epoch [160/500]\n"
          ]
        },
        {
          "output_type": "stream",
          "name": "stderr",
          "text": [
            "100%|██████████| 60/60 [00:00<00:00, 112.06it/s]"
          ]
        },
        {
          "output_type": "stream",
          "name": "stdout",
          "text": [
            "Train Loss:0.3059, Train Acc:55.42\n",
            "validation start\n"
          ]
        },
        {
          "output_type": "stream",
          "name": "stderr",
          "text": [
            "\n",
            "15it [00:00, 55.80it/s]              "
          ]
        },
        {
          "output_type": "stream",
          "name": "stdout",
          "text": [
            "Val Loss:0.3494, Val_Acc:48.33\n",
            "loss 0.3534 - accu 47.2774 - val_loss 0.3563 - val_accu 49.7101\n",
            "Epoch [161/500]\n"
          ]
        },
        {
          "output_type": "stream",
          "name": "stderr",
          "text": [
            "\n",
            "100%|██████████| 60/60 [00:00<00:00, 111.77it/s]"
          ]
        },
        {
          "output_type": "stream",
          "name": "stdout",
          "text": [
            "Train Loss:0.3239, Train Acc:52.08\n",
            "validation start\n"
          ]
        },
        {
          "output_type": "stream",
          "name": "stderr",
          "text": [
            "\n",
            "15it [00:00, 43.68it/s]"
          ]
        },
        {
          "output_type": "stream",
          "name": "stdout",
          "text": [
            "Val Loss:0.3476, Val_Acc:43.33\n",
            "loss 0.3533 - accu 47.3071 - val_loss 0.3562 - val_accu 49.6708\n",
            "Epoch [162/500]\n"
          ]
        },
        {
          "output_type": "stream",
          "name": "stderr",
          "text": [
            "\n",
            "100%|██████████| 60/60 [00:00<00:00, 66.35it/s]"
          ]
        },
        {
          "output_type": "stream",
          "name": "stdout",
          "text": [
            "Train Loss:0.3166, Train Acc:53.75\n",
            "validation start\n"
          ]
        },
        {
          "output_type": "stream",
          "name": "stderr",
          "text": [
            "\n",
            "15it [00:00, 37.58it/s]"
          ]
        },
        {
          "output_type": "stream",
          "name": "stdout",
          "text": [
            "Val Loss:0.3461, Val_Acc:48.33\n",
            "loss 0.3530 - accu 47.3466 - val_loss 0.3561 - val_accu 49.6626\n",
            "Epoch [163/500]\n"
          ]
        },
        {
          "output_type": "stream",
          "name": "stderr",
          "text": [
            "\n",
            "100%|██████████| 60/60 [00:00<00:00, 73.15it/s]"
          ]
        },
        {
          "output_type": "stream",
          "name": "stdout",
          "text": [
            "Train Loss:0.3184, Train Acc:52.50\n",
            "validation start\n"
          ]
        },
        {
          "output_type": "stream",
          "name": "stderr",
          "text": [
            "\n",
            "15it [00:00, 32.26it/s]"
          ]
        },
        {
          "output_type": "stream",
          "name": "stdout",
          "text": [
            "Val Loss:0.3456, Val_Acc:53.33\n",
            "loss 0.3528 - accu 47.3780 - val_loss 0.3561 - val_accu 49.6850\n",
            "Epoch [164/500]\n"
          ]
        },
        {
          "output_type": "stream",
          "name": "stderr",
          "text": [
            "\n",
            "100%|██████████| 60/60 [00:00<00:00, 69.44it/s] "
          ]
        },
        {
          "output_type": "stream",
          "name": "stdout",
          "text": [
            "Train Loss:0.3171, Train Acc:46.25\n",
            "validation start\n"
          ]
        },
        {
          "output_type": "stream",
          "name": "stderr",
          "text": [
            "\n",
            "15it [00:00, 42.34it/s]"
          ]
        },
        {
          "output_type": "stream",
          "name": "stdout",
          "text": [
            "Val Loss:0.3576, Val_Acc:46.67\n",
            "loss 0.3526 - accu 47.3712 - val_loss 0.3561 - val_accu 49.6667\n",
            "Epoch [165/500]\n"
          ]
        },
        {
          "output_type": "stream",
          "name": "stderr",
          "text": [
            "\n",
            "100%|██████████| 60/60 [00:01<00:00, 53.47it/s]"
          ]
        },
        {
          "output_type": "stream",
          "name": "stdout",
          "text": [
            "Train Loss:0.3087, Train Acc:53.75\n",
            "validation start\n"
          ]
        },
        {
          "output_type": "stream",
          "name": "stderr",
          "text": [
            "\n",
            "15it [00:00, 37.69it/s]"
          ]
        },
        {
          "output_type": "stream",
          "name": "stdout",
          "text": [
            "Val Loss:0.3495, Val_Acc:51.67\n",
            "loss 0.3523 - accu 47.4096 - val_loss 0.3561 - val_accu 49.6787\n",
            "Epoch [166/500]\n"
          ]
        },
        {
          "output_type": "stream",
          "name": "stderr",
          "text": [
            "\n",
            "100%|██████████| 60/60 [00:00<00:00, 83.15it/s] "
          ]
        },
        {
          "output_type": "stream",
          "name": "stdout",
          "text": [
            "Train Loss:0.3141, Train Acc:49.17\n",
            "validation start\n"
          ]
        },
        {
          "output_type": "stream",
          "name": "stderr",
          "text": [
            "\n",
            "15it [00:00, 47.05it/s]"
          ]
        },
        {
          "output_type": "stream",
          "name": "stdout",
          "text": [
            "Val Loss:0.3520, Val_Acc:55.00\n",
            "loss 0.3521 - accu 47.4202 - val_loss 0.3560 - val_accu 49.7106\n",
            "Epoch [167/500]\n"
          ]
        },
        {
          "output_type": "stream",
          "name": "stderr",
          "text": [
            "\n",
            "100%|██████████| 60/60 [00:00<00:00, 82.95it/s] "
          ]
        },
        {
          "output_type": "stream",
          "name": "stdout",
          "text": [
            "Train Loss:0.3194, Train Acc:51.25\n",
            "validation start\n"
          ]
        },
        {
          "output_type": "stream",
          "name": "stderr",
          "text": [
            "\n",
            "15it [00:00, 43.75it/s]"
          ]
        },
        {
          "output_type": "stream",
          "name": "stdout",
          "text": [
            "Val Loss:0.3548, Val_Acc:46.67\n",
            "loss 0.3519 - accu 47.4430 - val_loss 0.3560 - val_accu 49.6925\n",
            "Epoch [168/500]\n"
          ]
        },
        {
          "output_type": "stream",
          "name": "stderr",
          "text": [
            "\n",
            "100%|██████████| 60/60 [00:00<00:00, 77.22it/s]"
          ]
        },
        {
          "output_type": "stream",
          "name": "stdout",
          "text": [
            "Train Loss:0.3043, Train Acc:54.17\n",
            "validation start\n"
          ]
        },
        {
          "output_type": "stream",
          "name": "stderr",
          "text": [
            "\n",
            "15it [00:00, 38.11it/s]"
          ]
        },
        {
          "output_type": "stream",
          "name": "stdout",
          "text": [
            "Val Loss:0.3509, Val_Acc:53.33\n",
            "loss 0.3516 - accu 47.4827 - val_loss 0.3560 - val_accu 49.7140\n",
            "Epoch [169/500]\n"
          ]
        },
        {
          "output_type": "stream",
          "name": "stderr",
          "text": [
            "\n",
            "100%|██████████| 60/60 [00:00<00:00, 93.23it/s] "
          ]
        },
        {
          "output_type": "stream",
          "name": "stdout",
          "text": [
            "Train Loss:0.3103, Train Acc:53.33\n",
            "validation start\n"
          ]
        },
        {
          "output_type": "stream",
          "name": "stderr",
          "text": [
            "\n",
            "15it [00:00, 36.01it/s]"
          ]
        },
        {
          "output_type": "stream",
          "name": "stdout",
          "text": [
            "Val Loss:0.3482, Val_Acc:48.33\n",
            "loss 0.3514 - accu 47.5172 - val_loss 0.3559 - val_accu 49.7059\n",
            "Epoch [170/500]\n"
          ]
        },
        {
          "output_type": "stream",
          "name": "stderr",
          "text": [
            "\n",
            "100%|██████████| 60/60 [00:00<00:00, 80.38it/s] "
          ]
        },
        {
          "output_type": "stream",
          "name": "stdout",
          "text": [
            "Train Loss:0.3091, Train Acc:52.50\n",
            "validation start\n"
          ]
        },
        {
          "output_type": "stream",
          "name": "stderr",
          "text": [
            "\n",
            "15it [00:00, 54.84it/s]              "
          ]
        },
        {
          "output_type": "stream",
          "name": "stdout",
          "text": [
            "Val Loss:0.3508, Val_Acc:48.33\n",
            "loss 0.3511 - accu 47.5463 - val_loss 0.3559 - val_accu 49.6979\n",
            "Epoch [171/500]\n"
          ]
        },
        {
          "output_type": "stream",
          "name": "stderr",
          "text": [
            "\n",
            "100%|██████████| 60/60 [00:00<00:00, 103.92it/s]"
          ]
        },
        {
          "output_type": "stream",
          "name": "stdout",
          "text": [
            "Train Loss:0.3185, Train Acc:52.92\n",
            "validation start\n"
          ]
        },
        {
          "output_type": "stream",
          "name": "stderr",
          "text": [
            "\n",
            "15it [00:00, 57.55it/s]              "
          ]
        },
        {
          "output_type": "stream",
          "name": "stdout",
          "text": [
            "Val Loss:0.3506, Val_Acc:55.00\n",
            "loss 0.3510 - accu 47.5775 - val_loss 0.3559 - val_accu 49.7287\n",
            "=> saved best model\n",
            "Epoch [172/500]\n"
          ]
        },
        {
          "output_type": "stream",
          "name": "stderr",
          "text": [
            "\n",
            "100%|██████████| 60/60 [00:00<00:00, 101.35it/s]"
          ]
        },
        {
          "output_type": "stream",
          "name": "stdout",
          "text": [
            "Train Loss:0.3150, Train Acc:52.50\n",
            "validation start\n"
          ]
        },
        {
          "output_type": "stream",
          "name": "stderr",
          "text": [
            "\n",
            "15it [00:00, 47.07it/s]"
          ]
        },
        {
          "output_type": "stream",
          "name": "stdout",
          "text": [
            "Val Loss:0.3521, Val_Acc:48.33\n",
            "loss 0.3507 - accu 47.6060 - val_loss 0.3559 - val_accu 49.7206\n",
            "Epoch [173/500]\n"
          ]
        },
        {
          "output_type": "stream",
          "name": "stderr",
          "text": [
            "\n",
            "100%|██████████| 60/60 [00:00<00:00, 108.16it/s]"
          ]
        },
        {
          "output_type": "stream",
          "name": "stdout",
          "text": [
            "Train Loss:0.3103, Train Acc:53.33\n",
            "validation start\n"
          ]
        },
        {
          "output_type": "stream",
          "name": "stderr",
          "text": [
            "\n",
            "15it [00:00, 52.11it/s]\n"
          ]
        },
        {
          "output_type": "stream",
          "name": "stdout",
          "text": [
            "Val Loss:0.3509, Val_Acc:51.67\n",
            "loss 0.3505 - accu 47.6389 - val_loss 0.3558 - val_accu 49.7318\n",
            "=> saved best model\n",
            "Epoch [174/500]\n"
          ]
        },
        {
          "output_type": "stream",
          "name": "stderr",
          "text": [
            "100%|██████████| 60/60 [00:00<00:00, 111.74it/s]"
          ]
        },
        {
          "output_type": "stream",
          "name": "stdout",
          "text": [
            "Train Loss:0.3157, Train Acc:58.33\n",
            "validation start\n"
          ]
        },
        {
          "output_type": "stream",
          "name": "stderr",
          "text": [
            "\n",
            "15it [00:00, 53.64it/s]              "
          ]
        },
        {
          "output_type": "stream",
          "name": "stdout",
          "text": [
            "Val Loss:0.3465, Val_Acc:56.67\n",
            "loss 0.3503 - accu 47.7000 - val_loss 0.3558 - val_accu 49.7714\n",
            "=> saved best model\n",
            "Epoch [175/500]\n"
          ]
        },
        {
          "output_type": "stream",
          "name": "stderr",
          "text": [
            "\n",
            "100%|██████████| 60/60 [00:00<00:00, 110.01it/s]"
          ]
        },
        {
          "output_type": "stream",
          "name": "stdout",
          "text": [
            "Train Loss:0.3248, Train Acc:52.08\n",
            "validation start\n"
          ]
        },
        {
          "output_type": "stream",
          "name": "stderr",
          "text": [
            "\n",
            "15it [00:00, 49.29it/s]\n"
          ]
        },
        {
          "output_type": "stream",
          "name": "stdout",
          "text": [
            "Val Loss:0.3455, Val_Acc:51.67\n",
            "loss 0.3502 - accu 47.7249 - val_loss 0.3557 - val_accu 49.7822\n",
            "=> saved best model\n",
            "Epoch [176/500]\n"
          ]
        },
        {
          "output_type": "stream",
          "name": "stderr",
          "text": [
            "100%|██████████| 60/60 [00:00<00:00, 111.20it/s]"
          ]
        },
        {
          "output_type": "stream",
          "name": "stdout",
          "text": [
            "Train Loss:0.3148, Train Acc:54.58\n",
            "validation start\n"
          ]
        },
        {
          "output_type": "stream",
          "name": "stderr",
          "text": [
            "\n",
            "15it [00:00, 47.84it/s]\n"
          ]
        },
        {
          "output_type": "stream",
          "name": "stdout",
          "text": [
            "Val Loss:0.3480, Val_Acc:50.00\n",
            "loss 0.3500 - accu 47.7637 - val_loss 0.3557 - val_accu 49.7834\n",
            "=> saved best model\n",
            "Epoch [177/500]\n"
          ]
        },
        {
          "output_type": "stream",
          "name": "stderr",
          "text": [
            "100%|██████████| 60/60 [00:00<00:00, 111.55it/s]"
          ]
        },
        {
          "output_type": "stream",
          "name": "stdout",
          "text": [
            "Train Loss:0.3139, Train Acc:53.75\n",
            "validation start\n"
          ]
        },
        {
          "output_type": "stream",
          "name": "stderr",
          "text": [
            "\n",
            "15it [00:00, 49.42it/s]\n"
          ]
        },
        {
          "output_type": "stream",
          "name": "stdout",
          "text": [
            "Val Loss:0.3581, Val_Acc:46.67\n",
            "loss 0.3498 - accu 47.7973 - val_loss 0.3557 - val_accu 49.7659\n",
            "Epoch [178/500]\n"
          ]
        },
        {
          "output_type": "stream",
          "name": "stderr",
          "text": [
            "100%|██████████| 60/60 [00:00<00:00, 98.52it/s] "
          ]
        },
        {
          "output_type": "stream",
          "name": "stdout",
          "text": [
            "Train Loss:0.3197, Train Acc:52.50\n",
            "validation start\n"
          ]
        },
        {
          "output_type": "stream",
          "name": "stderr",
          "text": [
            "\n",
            "15it [00:00, 45.60it/s]\n"
          ]
        },
        {
          "output_type": "stream",
          "name": "stdout",
          "text": [
            "Val Loss:0.3519, Val_Acc:46.67\n",
            "loss 0.3496 - accu 47.8236 - val_loss 0.3557 - val_accu 49.7486\n",
            "Epoch [179/500]\n"
          ]
        },
        {
          "output_type": "stream",
          "name": "stderr",
          "text": [
            "100%|██████████| 60/60 [00:00<00:00, 106.69it/s]"
          ]
        },
        {
          "output_type": "stream",
          "name": "stdout",
          "text": [
            "Train Loss:0.3051, Train Acc:55.00\n",
            "validation start\n"
          ]
        },
        {
          "output_type": "stream",
          "name": "stderr",
          "text": [
            "\n",
            "15it [00:00, 50.03it/s]\n"
          ]
        },
        {
          "output_type": "stream",
          "name": "stdout",
          "text": [
            "Val Loss:0.3466, Val_Acc:50.00\n",
            "loss 0.3494 - accu 47.8634 - val_loss 0.3556 - val_accu 49.7500\n",
            "Epoch [180/500]\n"
          ]
        },
        {
          "output_type": "stream",
          "name": "stderr",
          "text": [
            "100%|██████████| 60/60 [00:00<00:00, 101.35it/s]"
          ]
        },
        {
          "output_type": "stream",
          "name": "stdout",
          "text": [
            "Train Loss:0.3111, Train Acc:53.33\n",
            "validation start\n"
          ]
        },
        {
          "output_type": "stream",
          "name": "stderr",
          "text": [
            "\n",
            "15it [00:00, 50.76it/s]\n"
          ]
        },
        {
          "output_type": "stream",
          "name": "stdout",
          "text": [
            "Val Loss:0.3440, Val_Acc:50.00\n",
            "loss 0.3491 - accu 47.8936 - val_loss 0.3556 - val_accu 49.7514\n",
            "Epoch [181/500]\n"
          ]
        },
        {
          "output_type": "stream",
          "name": "stderr",
          "text": [
            "100%|██████████| 60/60 [00:00<00:00, 107.40it/s]"
          ]
        },
        {
          "output_type": "stream",
          "name": "stdout",
          "text": [
            "Train Loss:0.3148, Train Acc:53.75\n",
            "validation start\n"
          ]
        },
        {
          "output_type": "stream",
          "name": "stderr",
          "text": [
            "\n",
            "15it [00:00, 55.11it/s]              "
          ]
        },
        {
          "output_type": "stream",
          "name": "stdout",
          "text": [
            "Val Loss:0.3477, Val_Acc:48.33\n",
            "loss 0.3490 - accu 47.9258 - val_loss 0.3555 - val_accu 49.7436\n",
            "Epoch [182/500]\n"
          ]
        },
        {
          "output_type": "stream",
          "name": "stderr",
          "text": [
            "\n",
            "100%|██████████| 60/60 [00:00<00:00, 102.66it/s]"
          ]
        },
        {
          "output_type": "stream",
          "name": "stdout",
          "text": [
            "Train Loss:0.3137, Train Acc:55.00\n",
            "validation start\n"
          ]
        },
        {
          "output_type": "stream",
          "name": "stderr",
          "text": [
            "\n",
            "15it [00:00, 59.11it/s]              "
          ]
        },
        {
          "output_type": "stream",
          "name": "stdout",
          "text": [
            "Val Loss:0.3492, Val_Acc:50.00\n",
            "loss 0.3488 - accu 47.9645 - val_loss 0.3555 - val_accu 49.7450\n",
            "Epoch [183/500]\n"
          ]
        },
        {
          "output_type": "stream",
          "name": "stderr",
          "text": [
            "\n",
            "100%|██████████| 60/60 [00:00<00:00, 109.37it/s]"
          ]
        },
        {
          "output_type": "stream",
          "name": "stdout",
          "text": [
            "Train Loss:0.3185, Train Acc:51.67\n",
            "validation start\n"
          ]
        },
        {
          "output_type": "stream",
          "name": "stderr",
          "text": [
            "\n",
            "15it [00:00, 58.94it/s]              "
          ]
        },
        {
          "output_type": "stream",
          "name": "stdout",
          "text": [
            "Val Loss:0.3490, Val_Acc:53.33\n",
            "loss 0.3486 - accu 47.9846 - val_loss 0.3554 - val_accu 49.7645\n",
            "Epoch [184/500]\n"
          ]
        },
        {
          "output_type": "stream",
          "name": "stderr",
          "text": [
            "\n",
            "100%|██████████| 60/60 [00:00<00:00, 106.67it/s]"
          ]
        },
        {
          "output_type": "stream",
          "name": "stdout",
          "text": [
            "Train Loss:0.3148, Train Acc:52.50\n",
            "validation start\n"
          ]
        },
        {
          "output_type": "stream",
          "name": "stderr",
          "text": [
            "\n",
            "15it [00:00, 49.20it/s]\n"
          ]
        },
        {
          "output_type": "stream",
          "name": "stdout",
          "text": [
            "Val Loss:0.3432, Val_Acc:51.67\n",
            "loss 0.3484 - accu 48.0090 - val_loss 0.3554 - val_accu 49.7748\n",
            "Epoch [185/500]\n"
          ]
        },
        {
          "output_type": "stream",
          "name": "stderr",
          "text": [
            "100%|██████████| 60/60 [00:00<00:00, 115.96it/s]"
          ]
        },
        {
          "output_type": "stream",
          "name": "stdout",
          "text": [
            "Train Loss:0.3081, Train Acc:51.67\n",
            "validation start\n"
          ]
        },
        {
          "output_type": "stream",
          "name": "stderr",
          "text": [
            "\n",
            "15it [00:00, 49.30it/s] "
          ]
        },
        {
          "output_type": "stream",
          "name": "stdout",
          "text": [
            "Val Loss:0.3421, Val_Acc:50.00\n",
            "loss 0.3482 - accu 48.0287 - val_loss 0.3553 - val_accu 49.7760\n",
            "Epoch [186/500]\n"
          ]
        },
        {
          "output_type": "stream",
          "name": "stderr",
          "text": [
            "\n",
            "100%|██████████| 60/60 [00:00<00:00, 99.12it/s] "
          ]
        },
        {
          "output_type": "stream",
          "name": "stdout",
          "text": [
            "Train Loss:0.3154, Train Acc:55.00\n",
            "validation start\n"
          ]
        },
        {
          "output_type": "stream",
          "name": "stderr",
          "text": [
            "\n",
            "15it [00:00, 49.76it/s]\n"
          ]
        },
        {
          "output_type": "stream",
          "name": "stdout",
          "text": [
            "Val Loss:0.3486, Val_Acc:50.00\n",
            "loss 0.3480 - accu 48.0660 - val_loss 0.3553 - val_accu 49.7772\n",
            "Epoch [187/500]\n"
          ]
        },
        {
          "output_type": "stream",
          "name": "stderr",
          "text": [
            "100%|██████████| 60/60 [00:00<00:00, 125.66it/s]"
          ]
        },
        {
          "output_type": "stream",
          "name": "stdout",
          "text": [
            "Train Loss:0.3057, Train Acc:53.33\n",
            "validation start\n"
          ]
        },
        {
          "output_type": "stream",
          "name": "stderr",
          "text": [
            "\n",
            "15it [00:00, 48.87it/s]"
          ]
        },
        {
          "output_type": "stream",
          "name": "stdout",
          "text": [
            "Val Loss:0.3439, Val_Acc:50.00\n",
            "loss 0.3478 - accu 48.0940 - val_loss 0.3552 - val_accu 49.7784\n",
            "Epoch [188/500]\n"
          ]
        },
        {
          "output_type": "stream",
          "name": "stderr",
          "text": [
            "\n",
            "100%|██████████| 60/60 [00:00<00:00, 105.58it/s]"
          ]
        },
        {
          "output_type": "stream",
          "name": "stdout",
          "text": [
            "Train Loss:0.2999, Train Acc:53.33\n",
            "validation start\n"
          ]
        },
        {
          "output_type": "stream",
          "name": "stderr",
          "text": [
            "\n",
            "15it [00:00, 48.97it/s]\n"
          ]
        },
        {
          "output_type": "stream",
          "name": "stdout",
          "text": [
            "Val Loss:0.3478, Val_Acc:46.67\n",
            "loss 0.3475 - accu 48.1217 - val_loss 0.3552 - val_accu 49.7619\n",
            "Epoch [189/500]\n"
          ]
        },
        {
          "output_type": "stream",
          "name": "stderr",
          "text": [
            "100%|██████████| 60/60 [00:00<00:00, 107.32it/s]"
          ]
        },
        {
          "output_type": "stream",
          "name": "stdout",
          "text": [
            "Train Loss:0.3049, Train Acc:54.58\n",
            "validation start\n"
          ]
        },
        {
          "output_type": "stream",
          "name": "stderr",
          "text": [
            "\n",
            "15it [00:00, 49.96it/s]\n"
          ]
        },
        {
          "output_type": "stream",
          "name": "stdout",
          "text": [
            "Val Loss:0.3456, Val_Acc:50.00\n",
            "loss 0.3473 - accu 48.1557 - val_loss 0.3551 - val_accu 49.7632\n",
            "Epoch [190/500]\n"
          ]
        },
        {
          "output_type": "stream",
          "name": "stderr",
          "text": [
            "100%|██████████| 60/60 [00:00<00:00, 104.09it/s]"
          ]
        },
        {
          "output_type": "stream",
          "name": "stdout",
          "text": [
            "Train Loss:0.3108, Train Acc:51.67\n",
            "validation start\n"
          ]
        },
        {
          "output_type": "stream",
          "name": "stderr",
          "text": [
            "\n",
            "15it [00:00, 53.19it/s]              "
          ]
        },
        {
          "output_type": "stream",
          "name": "stdout",
          "text": [
            "Val Loss:0.3483, Val_Acc:48.33\n",
            "loss 0.3471 - accu 48.1741 - val_loss 0.3551 - val_accu 49.7557\n",
            "Epoch [191/500]\n"
          ]
        },
        {
          "output_type": "stream",
          "name": "stderr",
          "text": [
            "\n",
            "100%|██████████| 60/60 [00:00<00:00, 106.85it/s]"
          ]
        },
        {
          "output_type": "stream",
          "name": "stdout",
          "text": [
            "Train Loss:0.3024, Train Acc:54.58\n",
            "validation start\n"
          ]
        },
        {
          "output_type": "stream",
          "name": "stderr",
          "text": [
            "\n",
            "15it [00:00, 58.18it/s]              "
          ]
        },
        {
          "output_type": "stream",
          "name": "stdout",
          "text": [
            "Val Loss:0.3486, Val_Acc:50.00\n",
            "loss 0.3469 - accu 48.2075 - val_loss 0.3551 - val_accu 49.7569\n",
            "Epoch [192/500]\n"
          ]
        },
        {
          "output_type": "stream",
          "name": "stderr",
          "text": [
            "\n",
            "100%|██████████| 60/60 [00:00<00:00, 105.15it/s]"
          ]
        },
        {
          "output_type": "stream",
          "name": "stdout",
          "text": [
            "Train Loss:0.3164, Train Acc:48.33\n",
            "validation start\n"
          ]
        },
        {
          "output_type": "stream",
          "name": "stderr",
          "text": [
            "\n",
            "15it [00:00, 53.18it/s]"
          ]
        },
        {
          "output_type": "stream",
          "name": "stdout",
          "text": [
            "Val Loss:0.3482, Val_Acc:51.67\n",
            "loss 0.3467 - accu 48.2081 - val_loss 0.3550 - val_accu 49.7668\n",
            "Epoch [193/500]\n"
          ]
        },
        {
          "output_type": "stream",
          "name": "stderr",
          "text": [
            "\n",
            "100%|██████████| 60/60 [00:00<00:00, 106.23it/s]"
          ]
        },
        {
          "output_type": "stream",
          "name": "stdout",
          "text": [
            "Train Loss:0.2974, Train Acc:60.42\n",
            "validation start\n"
          ]
        },
        {
          "output_type": "stream",
          "name": "stderr",
          "text": [
            "\n",
            "15it [00:00, 53.16it/s]              "
          ]
        },
        {
          "output_type": "stream",
          "name": "stdout",
          "text": [
            "Val Loss:0.3514, Val_Acc:48.33\n",
            "loss 0.3465 - accu 48.2710 - val_loss 0.3550 - val_accu 49.7595\n",
            "Epoch [194/500]\n"
          ]
        },
        {
          "output_type": "stream",
          "name": "stderr",
          "text": [
            "\n",
            "100%|██████████| 60/60 [00:00<00:00, 105.98it/s]"
          ]
        },
        {
          "output_type": "stream",
          "name": "stdout",
          "text": [
            "Train Loss:0.3042, Train Acc:53.75\n",
            "validation start\n"
          ]
        },
        {
          "output_type": "stream",
          "name": "stderr",
          "text": [
            "\n",
            "15it [00:00, 46.29it/s]\n"
          ]
        },
        {
          "output_type": "stream",
          "name": "stdout",
          "text": [
            "Val Loss:0.3480, Val_Acc:46.67\n",
            "loss 0.3463 - accu 48.2991 - val_loss 0.3550 - val_accu 49.7436\n",
            "Epoch [195/500]\n"
          ]
        },
        {
          "output_type": "stream",
          "name": "stderr",
          "text": [
            "100%|██████████| 60/60 [00:00<00:00, 104.89it/s]"
          ]
        },
        {
          "output_type": "stream",
          "name": "stdout",
          "text": [
            "Train Loss:0.3012, Train Acc:50.83\n",
            "validation start\n"
          ]
        },
        {
          "output_type": "stream",
          "name": "stderr",
          "text": [
            "\n",
            "15it [00:00, 51.29it/s]\n"
          ]
        },
        {
          "output_type": "stream",
          "name": "stdout",
          "text": [
            "Val Loss:0.3499, Val_Acc:46.67\n",
            "loss 0.3460 - accu 48.3121 - val_loss 0.3549 - val_accu 49.7279\n",
            "Epoch [196/500]\n"
          ]
        },
        {
          "output_type": "stream",
          "name": "stderr",
          "text": [
            "100%|██████████| 60/60 [00:00<00:00, 104.07it/s]"
          ]
        },
        {
          "output_type": "stream",
          "name": "stdout",
          "text": [
            "Train Loss:0.3084, Train Acc:53.75\n",
            "validation start\n"
          ]
        },
        {
          "output_type": "stream",
          "name": "stderr",
          "text": [
            "\n",
            "15it [00:00, 49.04it/s]\n"
          ]
        },
        {
          "output_type": "stream",
          "name": "stdout",
          "text": [
            "Val Loss:0.3526, Val_Acc:45.00\n",
            "loss 0.3458 - accu 48.3397 - val_loss 0.3549 - val_accu 49.7039\n",
            "=> early stopping\n"
          ]
        }
      ]
    },
    {
      "cell_type": "code",
      "source": [
        "#case_id\t\n",
        "##B-score\t\n",
        "#LR-score\t\n",
        "#IR-score\t\n",
        "#HR-score\t\n",
        "#VHR-score"
      ],
      "metadata": {
        "id": "ZUb8Iab1OMTU"
      },
      "execution_count": null,
      "outputs": []
    },
    {
      "cell_type": "code",
      "source": [
        "import pandas as pd\n",
        "\n",
        "pathtest=pd.read_csv('/content/drive/MyDrive/knight_challenegs2022/test_featurelatest.csv')\n",
        "#pathtest."
      ],
      "metadata": {
        "id": "y1StwHNbRkoa"
      },
      "execution_count": null,
      "outputs": []
    },
    {
      "cell_type": "code",
      "source": [
        "import torch\n",
        "pathmodel='/content/drive/MyDrive/knight_challenegs2022/models/fold4modelt2/3dmodeltask2f3.pth'\n",
        "trainedmodel=torch.load(pathmodel)\n",
        "model.load_state_dict(trainedmodel)\n",
        "model.eval()\n",
        "model.to(device)"
      ],
      "metadata": {
        "colab": {
          "base_uri": "https://localhost:8080/"
        },
        "id": "HULkrBm3OSCm",
        "outputId": "bf245137-c340-4c1a-ba4d-5fac0e2a8906"
      },
      "execution_count": null,
      "outputs": [
        {
          "output_type": "execute_result",
          "data": {
            "text/plain": [
              "ClassifierMLP(\n",
              "  (classifier): Sequential(\n",
              "    (0): Linear(in_features=12, out_features=256, bias=True)\n",
              "    (1): ReLU()\n",
              "    (2): Dropout(p=0.1, inplace=False)\n",
              "    (3): Linear(in_features=256, out_features=128, bias=True)\n",
              "    (4): ReLU()\n",
              "    (5): Dropout(p=0.1, inplace=False)\n",
              "    (6): Linear(in_features=128, out_features=5, bias=True)\n",
              "  )\n",
              ")"
            ]
          },
          "metadata": {},
          "execution_count": 24
        }
      ]
    },
    {
      "cell_type": "code",
      "source": [
        ""
      ],
      "metadata": {
        "id": "otMFUm8tRyl5"
      },
      "execution_count": null,
      "outputs": []
    },
    {
      "cell_type": "code",
      "source": [
        "#NoAT-score\n",
        "#CanAT-score\n",
        "#case_id\n",
        "import torch\n",
        "#pathmodel='/content/drive/MyDrive/knight_challenegs2022/models/fold0model/3dmodeltask1.pth'\n",
        "#trainedmodel=torch.load(pathmodel)\n",
        "#model.load_state_dict(trainedmodel)\n",
        "model.eval()\n",
        "model.to(device)\n",
        "dataframe={'case_id':[],\n",
        "           'NoAT-score':[],\n",
        "           'CanAT-score':[]}\n",
        "CLINICAL_NAMES=['case_id','B-score','LR-score',\n",
        "                'IR-score','HR-score',\n",
        "                'VHR-score']\n",
        "\n",
        "df = pd.DataFrame(columns=CLINICAL_NAMES)\n",
        "for i,patinet in enumerate(pathtest['SubjectId']):\n",
        "  #pat=patinet.split('_')[-1]\n",
        "  #pat=str(0000)+i\n",
        "  number_str = str(i)\n",
        "  pat = number_str.zfill(5)\n",
        "  #print(i)\n",
        "  #print(patinet)\n",
        "  features=pathtest.iloc[i]\n",
        "  feature=features.drop(['SubjectId'])\n",
        "  feature1=feature.drop(['gender'])\n",
        "  #print(feature1.shape)\n",
        "  x_f_array=np.array(feature1).astype(float)\n",
        "  #print(x_f_array)\n",
        "  #.astype(int)\n",
        "  x_f_array_t=torch.from_numpy(x_f_array).float()\n",
        "  x_f_array_t=torch.unsqueeze(x_f_array_t,axis=0).to(device)\n",
        "  prediction=model(x_f_array_t)\n",
        "  output=torch.softmax(prediction, dim=1)\n",
        "  output=torch.squeeze(output,axis=0)\n",
        "  pred=output.detach().cpu().numpy()\n",
        "  #print(output.detach().cpu().numpy())\n",
        "  df.loc[i,'case_id']=pat\n",
        "  df.loc[i,'B-score']='%.1f' % pred[0]\n",
        "  df.loc[i,'LR-score']='%.1f' % pred[1]\n",
        "  df.loc[i,'IR-score']='%.1f' % pred[2]\n",
        "  df.loc[i,'HR-score']='%.1f' % pred[3]\n",
        "  df.loc[i,'VHR-score']='%.1f' % pred[4]\n",
        "  #case_id\t\n",
        "  ##B-score\t\n",
        "  #LR-score\t\n",
        "  #IR-score\t\n",
        "  #HR-score\t\n",
        "  #VHR-score\n",
        "  #dataframe['case_id'].append(str(pat))\n",
        "  #dataframe['NoAT-score'].append(pred[0])\n",
        "  #dataframe['CanAT-score'].append(pred[1])\n",
        "  #features.iloc[i]\n",
        "  #print(x_f_array_t.shape)\n",
        "  print(pat)"
      ],
      "metadata": {
        "colab": {
          "base_uri": "https://localhost:8080/"
        },
        "id": "0aX2yKzvOWfN",
        "outputId": "a5594889-cd5a-4007-ac74-df08ed5816f4"
      },
      "execution_count": null,
      "outputs": [
        {
          "output_type": "stream",
          "name": "stdout",
          "text": [
            "00000\n",
            "00001\n",
            "00002\n",
            "00003\n",
            "00004\n",
            "00005\n",
            "00006\n",
            "00007\n",
            "00008\n",
            "00009\n",
            "00010\n",
            "00011\n",
            "00012\n",
            "00013\n",
            "00014\n",
            "00015\n",
            "00016\n",
            "00017\n",
            "00018\n",
            "00019\n",
            "00020\n",
            "00021\n",
            "00022\n",
            "00023\n",
            "00024\n",
            "00025\n",
            "00026\n",
            "00027\n",
            "00028\n",
            "00029\n",
            "00030\n",
            "00031\n",
            "00032\n",
            "00033\n",
            "00034\n",
            "00035\n",
            "00036\n",
            "00037\n",
            "00038\n",
            "00039\n",
            "00040\n",
            "00041\n",
            "00042\n",
            "00043\n",
            "00044\n",
            "00045\n",
            "00046\n",
            "00047\n",
            "00048\n",
            "00049\n",
            "00050\n",
            "00051\n",
            "00052\n",
            "00053\n",
            "00054\n",
            "00055\n",
            "00056\n",
            "00057\n",
            "00058\n",
            "00059\n",
            "00060\n",
            "00061\n",
            "00062\n",
            "00063\n",
            "00064\n",
            "00065\n",
            "00066\n",
            "00067\n",
            "00068\n",
            "00069\n",
            "00070\n",
            "00071\n",
            "00072\n",
            "00073\n",
            "00074\n",
            "00075\n",
            "00076\n",
            "00077\n",
            "00078\n",
            "00079\n",
            "00080\n",
            "00081\n",
            "00082\n",
            "00083\n",
            "00084\n",
            "00085\n",
            "00086\n",
            "00087\n",
            "00088\n",
            "00089\n",
            "00090\n",
            "00091\n",
            "00092\n",
            "00093\n",
            "00094\n",
            "00095\n",
            "00096\n",
            "00097\n",
            "00098\n",
            "00099\n",
            "00100\n",
            "00101\n",
            "00102\n"
          ]
        }
      ]
    },
    {
      "cell_type": "code",
      "source": [
        "df['case_id']=df['case_id'].str.rjust(2, \"0\")"
      ],
      "metadata": {
        "id": "qfXF-oXfS9hp"
      },
      "execution_count": null,
      "outputs": []
    },
    {
      "cell_type": "code",
      "source": [
        "df"
      ],
      "metadata": {
        "colab": {
          "base_uri": "https://localhost:8080/",
          "height": 423
        },
        "id": "xKd-DsbVS-jp",
        "outputId": "3561ad6e-cd94-442a-cbf0-8f2fb6a3ea8f"
      },
      "execution_count": null,
      "outputs": [
        {
          "output_type": "execute_result",
          "data": {
            "text/html": [
              "\n",
              "  <div id=\"df-2e369a90-8aa3-472a-a2f3-d481c024ee98\">\n",
              "    <div class=\"colab-df-container\">\n",
              "      <div>\n",
              "<style scoped>\n",
              "    .dataframe tbody tr th:only-of-type {\n",
              "        vertical-align: middle;\n",
              "    }\n",
              "\n",
              "    .dataframe tbody tr th {\n",
              "        vertical-align: top;\n",
              "    }\n",
              "\n",
              "    .dataframe thead th {\n",
              "        text-align: right;\n",
              "    }\n",
              "</style>\n",
              "<table border=\"1\" class=\"dataframe\">\n",
              "  <thead>\n",
              "    <tr style=\"text-align: right;\">\n",
              "      <th></th>\n",
              "      <th>case_id</th>\n",
              "      <th>B-score</th>\n",
              "      <th>LR-score</th>\n",
              "      <th>IR-score</th>\n",
              "      <th>HR-score</th>\n",
              "      <th>VHR-score</th>\n",
              "    </tr>\n",
              "  </thead>\n",
              "  <tbody>\n",
              "    <tr>\n",
              "      <th>0</th>\n",
              "      <td>00000</td>\n",
              "      <td>0.0</td>\n",
              "      <td>0.1</td>\n",
              "      <td>0.2</td>\n",
              "      <td>0.3</td>\n",
              "      <td>0.4</td>\n",
              "    </tr>\n",
              "    <tr>\n",
              "      <th>1</th>\n",
              "      <td>00001</td>\n",
              "      <td>0.4</td>\n",
              "      <td>0.4</td>\n",
              "      <td>0.1</td>\n",
              "      <td>0.1</td>\n",
              "      <td>0.0</td>\n",
              "    </tr>\n",
              "    <tr>\n",
              "      <th>2</th>\n",
              "      <td>00002</td>\n",
              "      <td>0.4</td>\n",
              "      <td>0.4</td>\n",
              "      <td>0.1</td>\n",
              "      <td>0.1</td>\n",
              "      <td>0.0</td>\n",
              "    </tr>\n",
              "    <tr>\n",
              "      <th>3</th>\n",
              "      <td>00003</td>\n",
              "      <td>0.0</td>\n",
              "      <td>1.0</td>\n",
              "      <td>0.0</td>\n",
              "      <td>0.0</td>\n",
              "      <td>0.0</td>\n",
              "    </tr>\n",
              "    <tr>\n",
              "      <th>4</th>\n",
              "      <td>00004</td>\n",
              "      <td>0.1</td>\n",
              "      <td>0.1</td>\n",
              "      <td>0.3</td>\n",
              "      <td>0.3</td>\n",
              "      <td>0.2</td>\n",
              "    </tr>\n",
              "    <tr>\n",
              "      <th>...</th>\n",
              "      <td>...</td>\n",
              "      <td>...</td>\n",
              "      <td>...</td>\n",
              "      <td>...</td>\n",
              "      <td>...</td>\n",
              "      <td>...</td>\n",
              "    </tr>\n",
              "    <tr>\n",
              "      <th>98</th>\n",
              "      <td>00098</td>\n",
              "      <td>0.1</td>\n",
              "      <td>0.1</td>\n",
              "      <td>0.2</td>\n",
              "      <td>0.4</td>\n",
              "      <td>0.2</td>\n",
              "    </tr>\n",
              "    <tr>\n",
              "      <th>99</th>\n",
              "      <td>00099</td>\n",
              "      <td>0.1</td>\n",
              "      <td>0.4</td>\n",
              "      <td>0.3</td>\n",
              "      <td>0.1</td>\n",
              "      <td>0.1</td>\n",
              "    </tr>\n",
              "    <tr>\n",
              "      <th>100</th>\n",
              "      <td>00100</td>\n",
              "      <td>0.0</td>\n",
              "      <td>1.0</td>\n",
              "      <td>0.0</td>\n",
              "      <td>0.0</td>\n",
              "      <td>0.0</td>\n",
              "    </tr>\n",
              "    <tr>\n",
              "      <th>101</th>\n",
              "      <td>00101</td>\n",
              "      <td>0.1</td>\n",
              "      <td>0.7</td>\n",
              "      <td>0.1</td>\n",
              "      <td>0.0</td>\n",
              "      <td>0.0</td>\n",
              "    </tr>\n",
              "    <tr>\n",
              "      <th>102</th>\n",
              "      <td>00102</td>\n",
              "      <td>0.1</td>\n",
              "      <td>0.3</td>\n",
              "      <td>0.3</td>\n",
              "      <td>0.1</td>\n",
              "      <td>0.1</td>\n",
              "    </tr>\n",
              "  </tbody>\n",
              "</table>\n",
              "<p>103 rows × 6 columns</p>\n",
              "</div>\n",
              "      <button class=\"colab-df-convert\" onclick=\"convertToInteractive('df-2e369a90-8aa3-472a-a2f3-d481c024ee98')\"\n",
              "              title=\"Convert this dataframe to an interactive table.\"\n",
              "              style=\"display:none;\">\n",
              "        \n",
              "  <svg xmlns=\"http://www.w3.org/2000/svg\" height=\"24px\"viewBox=\"0 0 24 24\"\n",
              "       width=\"24px\">\n",
              "    <path d=\"M0 0h24v24H0V0z\" fill=\"none\"/>\n",
              "    <path d=\"M18.56 5.44l.94 2.06.94-2.06 2.06-.94-2.06-.94-.94-2.06-.94 2.06-2.06.94zm-11 1L8.5 8.5l.94-2.06 2.06-.94-2.06-.94L8.5 2.5l-.94 2.06-2.06.94zm10 10l.94 2.06.94-2.06 2.06-.94-2.06-.94-.94-2.06-.94 2.06-2.06.94z\"/><path d=\"M17.41 7.96l-1.37-1.37c-.4-.4-.92-.59-1.43-.59-.52 0-1.04.2-1.43.59L10.3 9.45l-7.72 7.72c-.78.78-.78 2.05 0 2.83L4 21.41c.39.39.9.59 1.41.59.51 0 1.02-.2 1.41-.59l7.78-7.78 2.81-2.81c.8-.78.8-2.07 0-2.86zM5.41 20L4 18.59l7.72-7.72 1.47 1.35L5.41 20z\"/>\n",
              "  </svg>\n",
              "      </button>\n",
              "      \n",
              "  <style>\n",
              "    .colab-df-container {\n",
              "      display:flex;\n",
              "      flex-wrap:wrap;\n",
              "      gap: 12px;\n",
              "    }\n",
              "\n",
              "    .colab-df-convert {\n",
              "      background-color: #E8F0FE;\n",
              "      border: none;\n",
              "      border-radius: 50%;\n",
              "      cursor: pointer;\n",
              "      display: none;\n",
              "      fill: #1967D2;\n",
              "      height: 32px;\n",
              "      padding: 0 0 0 0;\n",
              "      width: 32px;\n",
              "    }\n",
              "\n",
              "    .colab-df-convert:hover {\n",
              "      background-color: #E2EBFA;\n",
              "      box-shadow: 0px 1px 2px rgba(60, 64, 67, 0.3), 0px 1px 3px 1px rgba(60, 64, 67, 0.15);\n",
              "      fill: #174EA6;\n",
              "    }\n",
              "\n",
              "    [theme=dark] .colab-df-convert {\n",
              "      background-color: #3B4455;\n",
              "      fill: #D2E3FC;\n",
              "    }\n",
              "\n",
              "    [theme=dark] .colab-df-convert:hover {\n",
              "      background-color: #434B5C;\n",
              "      box-shadow: 0px 1px 3px 1px rgba(0, 0, 0, 0.15);\n",
              "      filter: drop-shadow(0px 1px 2px rgba(0, 0, 0, 0.3));\n",
              "      fill: #FFFFFF;\n",
              "    }\n",
              "  </style>\n",
              "\n",
              "      <script>\n",
              "        const buttonEl =\n",
              "          document.querySelector('#df-2e369a90-8aa3-472a-a2f3-d481c024ee98 button.colab-df-convert');\n",
              "        buttonEl.style.display =\n",
              "          google.colab.kernel.accessAllowed ? 'block' : 'none';\n",
              "\n",
              "        async function convertToInteractive(key) {\n",
              "          const element = document.querySelector('#df-2e369a90-8aa3-472a-a2f3-d481c024ee98');\n",
              "          const dataTable =\n",
              "            await google.colab.kernel.invokeFunction('convertToInteractive',\n",
              "                                                     [key], {});\n",
              "          if (!dataTable) return;\n",
              "\n",
              "          const docLinkHtml = 'Like what you see? Visit the ' +\n",
              "            '<a target=\"_blank\" href=https://colab.research.google.com/notebooks/data_table.ipynb>data table notebook</a>'\n",
              "            + ' to learn more about interactive tables.';\n",
              "          element.innerHTML = '';\n",
              "          dataTable['output_type'] = 'display_data';\n",
              "          await google.colab.output.renderOutput(dataTable, element);\n",
              "          const docLink = document.createElement('div');\n",
              "          docLink.innerHTML = docLinkHtml;\n",
              "          element.appendChild(docLink);\n",
              "        }\n",
              "      </script>\n",
              "    </div>\n",
              "  </div>\n",
              "  "
            ],
            "text/plain": [
              "    case_id B-score LR-score IR-score HR-score VHR-score\n",
              "0     00000     0.0      0.1      0.2      0.3       0.4\n",
              "1     00001     0.4      0.4      0.1      0.1       0.0\n",
              "2     00002     0.4      0.4      0.1      0.1       0.0\n",
              "3     00003     0.0      1.0      0.0      0.0       0.0\n",
              "4     00004     0.1      0.1      0.3      0.3       0.2\n",
              "..      ...     ...      ...      ...      ...       ...\n",
              "98    00098     0.1      0.1      0.2      0.4       0.2\n",
              "99    00099     0.1      0.4      0.3      0.1       0.1\n",
              "100   00100     0.0      1.0      0.0      0.0       0.0\n",
              "101   00101     0.1      0.7      0.1      0.0       0.0\n",
              "102   00102     0.1      0.3      0.3      0.1       0.1\n",
              "\n",
              "[103 rows x 6 columns]"
            ]
          },
          "metadata": {},
          "execution_count": 28
        }
      ]
    },
    {
      "cell_type": "code",
      "source": [
        "df['case_id'] = df['case_id'].apply('=\"{}\"'.format)"
      ],
      "metadata": {
        "id": "rsAkMci5TK_J"
      },
      "execution_count": null,
      "outputs": []
    },
    {
      "cell_type": "code",
      "source": [
        "df"
      ],
      "metadata": {
        "colab": {
          "base_uri": "https://localhost:8080/",
          "height": 423
        },
        "id": "OhuoFwe_TMfp",
        "outputId": "5cb155d5-7193-4132-9e40-cc1247aaf54d"
      },
      "execution_count": null,
      "outputs": [
        {
          "output_type": "execute_result",
          "data": {
            "text/html": [
              "\n",
              "  <div id=\"df-6819c4c3-19b8-4c5c-98a1-b9c776f372d5\">\n",
              "    <div class=\"colab-df-container\">\n",
              "      <div>\n",
              "<style scoped>\n",
              "    .dataframe tbody tr th:only-of-type {\n",
              "        vertical-align: middle;\n",
              "    }\n",
              "\n",
              "    .dataframe tbody tr th {\n",
              "        vertical-align: top;\n",
              "    }\n",
              "\n",
              "    .dataframe thead th {\n",
              "        text-align: right;\n",
              "    }\n",
              "</style>\n",
              "<table border=\"1\" class=\"dataframe\">\n",
              "  <thead>\n",
              "    <tr style=\"text-align: right;\">\n",
              "      <th></th>\n",
              "      <th>case_id</th>\n",
              "      <th>B-score</th>\n",
              "      <th>LR-score</th>\n",
              "      <th>IR-score</th>\n",
              "      <th>HR-score</th>\n",
              "      <th>VHR-score</th>\n",
              "    </tr>\n",
              "  </thead>\n",
              "  <tbody>\n",
              "    <tr>\n",
              "      <th>0</th>\n",
              "      <td>=\"00000\"</td>\n",
              "      <td>0.0</td>\n",
              "      <td>0.1</td>\n",
              "      <td>0.2</td>\n",
              "      <td>0.3</td>\n",
              "      <td>0.4</td>\n",
              "    </tr>\n",
              "    <tr>\n",
              "      <th>1</th>\n",
              "      <td>=\"00001\"</td>\n",
              "      <td>0.4</td>\n",
              "      <td>0.4</td>\n",
              "      <td>0.1</td>\n",
              "      <td>0.1</td>\n",
              "      <td>0.0</td>\n",
              "    </tr>\n",
              "    <tr>\n",
              "      <th>2</th>\n",
              "      <td>=\"00002\"</td>\n",
              "      <td>0.4</td>\n",
              "      <td>0.4</td>\n",
              "      <td>0.1</td>\n",
              "      <td>0.1</td>\n",
              "      <td>0.0</td>\n",
              "    </tr>\n",
              "    <tr>\n",
              "      <th>3</th>\n",
              "      <td>=\"00003\"</td>\n",
              "      <td>0.0</td>\n",
              "      <td>1.0</td>\n",
              "      <td>0.0</td>\n",
              "      <td>0.0</td>\n",
              "      <td>0.0</td>\n",
              "    </tr>\n",
              "    <tr>\n",
              "      <th>4</th>\n",
              "      <td>=\"00004\"</td>\n",
              "      <td>0.1</td>\n",
              "      <td>0.1</td>\n",
              "      <td>0.3</td>\n",
              "      <td>0.3</td>\n",
              "      <td>0.2</td>\n",
              "    </tr>\n",
              "    <tr>\n",
              "      <th>...</th>\n",
              "      <td>...</td>\n",
              "      <td>...</td>\n",
              "      <td>...</td>\n",
              "      <td>...</td>\n",
              "      <td>...</td>\n",
              "      <td>...</td>\n",
              "    </tr>\n",
              "    <tr>\n",
              "      <th>98</th>\n",
              "      <td>=\"00098\"</td>\n",
              "      <td>0.1</td>\n",
              "      <td>0.1</td>\n",
              "      <td>0.2</td>\n",
              "      <td>0.4</td>\n",
              "      <td>0.2</td>\n",
              "    </tr>\n",
              "    <tr>\n",
              "      <th>99</th>\n",
              "      <td>=\"00099\"</td>\n",
              "      <td>0.1</td>\n",
              "      <td>0.4</td>\n",
              "      <td>0.3</td>\n",
              "      <td>0.1</td>\n",
              "      <td>0.1</td>\n",
              "    </tr>\n",
              "    <tr>\n",
              "      <th>100</th>\n",
              "      <td>=\"00100\"</td>\n",
              "      <td>0.0</td>\n",
              "      <td>1.0</td>\n",
              "      <td>0.0</td>\n",
              "      <td>0.0</td>\n",
              "      <td>0.0</td>\n",
              "    </tr>\n",
              "    <tr>\n",
              "      <th>101</th>\n",
              "      <td>=\"00101\"</td>\n",
              "      <td>0.1</td>\n",
              "      <td>0.7</td>\n",
              "      <td>0.1</td>\n",
              "      <td>0.0</td>\n",
              "      <td>0.0</td>\n",
              "    </tr>\n",
              "    <tr>\n",
              "      <th>102</th>\n",
              "      <td>=\"00102\"</td>\n",
              "      <td>0.1</td>\n",
              "      <td>0.3</td>\n",
              "      <td>0.3</td>\n",
              "      <td>0.1</td>\n",
              "      <td>0.1</td>\n",
              "    </tr>\n",
              "  </tbody>\n",
              "</table>\n",
              "<p>103 rows × 6 columns</p>\n",
              "</div>\n",
              "      <button class=\"colab-df-convert\" onclick=\"convertToInteractive('df-6819c4c3-19b8-4c5c-98a1-b9c776f372d5')\"\n",
              "              title=\"Convert this dataframe to an interactive table.\"\n",
              "              style=\"display:none;\">\n",
              "        \n",
              "  <svg xmlns=\"http://www.w3.org/2000/svg\" height=\"24px\"viewBox=\"0 0 24 24\"\n",
              "       width=\"24px\">\n",
              "    <path d=\"M0 0h24v24H0V0z\" fill=\"none\"/>\n",
              "    <path d=\"M18.56 5.44l.94 2.06.94-2.06 2.06-.94-2.06-.94-.94-2.06-.94 2.06-2.06.94zm-11 1L8.5 8.5l.94-2.06 2.06-.94-2.06-.94L8.5 2.5l-.94 2.06-2.06.94zm10 10l.94 2.06.94-2.06 2.06-.94-2.06-.94-.94-2.06-.94 2.06-2.06.94z\"/><path d=\"M17.41 7.96l-1.37-1.37c-.4-.4-.92-.59-1.43-.59-.52 0-1.04.2-1.43.59L10.3 9.45l-7.72 7.72c-.78.78-.78 2.05 0 2.83L4 21.41c.39.39.9.59 1.41.59.51 0 1.02-.2 1.41-.59l7.78-7.78 2.81-2.81c.8-.78.8-2.07 0-2.86zM5.41 20L4 18.59l7.72-7.72 1.47 1.35L5.41 20z\"/>\n",
              "  </svg>\n",
              "      </button>\n",
              "      \n",
              "  <style>\n",
              "    .colab-df-container {\n",
              "      display:flex;\n",
              "      flex-wrap:wrap;\n",
              "      gap: 12px;\n",
              "    }\n",
              "\n",
              "    .colab-df-convert {\n",
              "      background-color: #E8F0FE;\n",
              "      border: none;\n",
              "      border-radius: 50%;\n",
              "      cursor: pointer;\n",
              "      display: none;\n",
              "      fill: #1967D2;\n",
              "      height: 32px;\n",
              "      padding: 0 0 0 0;\n",
              "      width: 32px;\n",
              "    }\n",
              "\n",
              "    .colab-df-convert:hover {\n",
              "      background-color: #E2EBFA;\n",
              "      box-shadow: 0px 1px 2px rgba(60, 64, 67, 0.3), 0px 1px 3px 1px rgba(60, 64, 67, 0.15);\n",
              "      fill: #174EA6;\n",
              "    }\n",
              "\n",
              "    [theme=dark] .colab-df-convert {\n",
              "      background-color: #3B4455;\n",
              "      fill: #D2E3FC;\n",
              "    }\n",
              "\n",
              "    [theme=dark] .colab-df-convert:hover {\n",
              "      background-color: #434B5C;\n",
              "      box-shadow: 0px 1px 3px 1px rgba(0, 0, 0, 0.15);\n",
              "      filter: drop-shadow(0px 1px 2px rgba(0, 0, 0, 0.3));\n",
              "      fill: #FFFFFF;\n",
              "    }\n",
              "  </style>\n",
              "\n",
              "      <script>\n",
              "        const buttonEl =\n",
              "          document.querySelector('#df-6819c4c3-19b8-4c5c-98a1-b9c776f372d5 button.colab-df-convert');\n",
              "        buttonEl.style.display =\n",
              "          google.colab.kernel.accessAllowed ? 'block' : 'none';\n",
              "\n",
              "        async function convertToInteractive(key) {\n",
              "          const element = document.querySelector('#df-6819c4c3-19b8-4c5c-98a1-b9c776f372d5');\n",
              "          const dataTable =\n",
              "            await google.colab.kernel.invokeFunction('convertToInteractive',\n",
              "                                                     [key], {});\n",
              "          if (!dataTable) return;\n",
              "\n",
              "          const docLinkHtml = 'Like what you see? Visit the ' +\n",
              "            '<a target=\"_blank\" href=https://colab.research.google.com/notebooks/data_table.ipynb>data table notebook</a>'\n",
              "            + ' to learn more about interactive tables.';\n",
              "          element.innerHTML = '';\n",
              "          dataTable['output_type'] = 'display_data';\n",
              "          await google.colab.output.renderOutput(dataTable, element);\n",
              "          const docLink = document.createElement('div');\n",
              "          docLink.innerHTML = docLinkHtml;\n",
              "          element.appendChild(docLink);\n",
              "        }\n",
              "      </script>\n",
              "    </div>\n",
              "  </div>\n",
              "  "
            ],
            "text/plain": [
              "      case_id B-score LR-score IR-score HR-score VHR-score\n",
              "0    =\"00000\"     0.0      0.1      0.2      0.3       0.4\n",
              "1    =\"00001\"     0.4      0.4      0.1      0.1       0.0\n",
              "2    =\"00002\"     0.4      0.4      0.1      0.1       0.0\n",
              "3    =\"00003\"     0.0      1.0      0.0      0.0       0.0\n",
              "4    =\"00004\"     0.1      0.1      0.3      0.3       0.2\n",
              "..        ...     ...      ...      ...      ...       ...\n",
              "98   =\"00098\"     0.1      0.1      0.2      0.4       0.2\n",
              "99   =\"00099\"     0.1      0.4      0.3      0.1       0.1\n",
              "100  =\"00100\"     0.0      1.0      0.0      0.0       0.0\n",
              "101  =\"00101\"     0.1      0.7      0.1      0.0       0.0\n",
              "102  =\"00102\"     0.1      0.3      0.3      0.1       0.1\n",
              "\n",
              "[103 rows x 6 columns]"
            ]
          },
          "metadata": {},
          "execution_count": 30
        }
      ]
    },
    {
      "cell_type": "code",
      "source": [
        "df.to_csv('prediciton_task2_round2.csv',index=False)"
      ],
      "metadata": {
        "id": "ysaii9h0TOJK"
      },
      "execution_count": null,
      "outputs": []
    },
    {
      "cell_type": "code",
      "source": [
        ""
      ],
      "metadata": {
        "id": "UJdj4M3cTtRh"
      },
      "execution_count": null,
      "outputs": []
    },
    {
      "cell_type": "code",
      "source": [
        ""
      ],
      "metadata": {
        "id": "HgnnZM17TtUo"
      },
      "execution_count": null,
      "outputs": []
    },
    {
      "cell_type": "code",
      "source": [
        "import sys \n",
        "import os\n",
        "import glob\n",
        "import time\n",
        "import random\n",
        "import os\n",
        "import glob\n",
        "import time\n",
        "import random\n",
        "import torch\n",
        "import numpy as np\n",
        "import pandas as pd\n",
        "import torch.nn as nn\n",
        "\n",
        "device = torch.device(\"cuda\" if torch.cuda.is_available() else \"cpu\")\n",
        "\n",
        "\n",
        "# Copyright (c) MONAI Consortium\n",
        "# Licensed under the Apache License, Version 2.0 (the \"License\");\n",
        "# you may not use this file except in compliance with the License.\n",
        "# You may obtain a copy of the License at\n",
        "#     http://www.apache.org/licenses/LICENSE-2.0\n",
        "# Unless required by applicable law or agreed to in writing, software\n",
        "# distributed under the License is distributed on an \"AS IS\" BASIS,\n",
        "# WITHOUT WARRANTIES OR CONDITIONS OF ANY KIND, either express or implied.\n",
        "# See the License for the specific language governing permissions and\n",
        "# limitations under the License.\n",
        "\n",
        "\"\"\"\n",
        "(C) Copyright 2021 IBM Corp.\n",
        "Licensed under the Apache License, Version 2.0 (the \"License\");\n",
        "you may not use this file except in compliance with the License.\n",
        "You may obtain a copy of the License at\n",
        "   http://www.apache.org/licenses/LICENSE-2.0\n",
        "Unless required by applicable law or agreed to in writing, software\n",
        "distributed under the License is distributed on an \"AS IS\" BASIS,\n",
        "WITHOUT WARRANTIES OR CONDITIONS OF ANY KIND, either express or implied.\n",
        "See the License for the specific language governing permissions and\n",
        "limitations under the License.\n",
        "Created on June 30, 2021\n",
        "\"\"\"\n",
        "\n",
        "from typing import Tuple, Any\n",
        "\n",
        "import torch.nn as nn\n",
        "from torch import Tensor\n",
        "from torch.hub import load_state_dict_from_url\n",
        "from torchvision.models.video.resnet import VideoResNet, BasicBlock, Conv3DSimple, BasicStem, model_urls\n",
        "\n",
        "\n",
        "class FuseBackboneResnet3D(VideoResNet):\n",
        "    \"\"\"\n",
        "    3D model classifier (ResNet architecture\"\n",
        "    \"\"\"\n",
        "\n",
        "    def __init__(self, pretrained: bool = False, in_channels: int = 1, name: str = \"r3d_18\") -> None:\n",
        "        \"\"\"\n",
        "        Create 3D ResNet model\n",
        "        :param pretrained: Use pretrained weights\n",
        "        :param in_channels: number of input channels\n",
        "        :param name: model name. currently only 'r3d_18' is supported\n",
        "        \"\"\"\n",
        "        # init parameters per required backbone\n",
        "        init_parameters = {\n",
        "            'r3d_18': {'block': BasicBlock,\n",
        "                       'conv_makers': [Conv3DSimple] * 4,\n",
        "                       'layers': [2, 2, 2, 2],\n",
        "                       'stem': BasicStem},\n",
        "        }[name]\n",
        "        # init original model\n",
        "        super().__init__(**init_parameters)\n",
        "\n",
        "        # load pretrained parameters if required\n",
        "        if pretrained:\n",
        "            state_dict = load_state_dict_from_url(model_urls[name])\n",
        "            self.load_state_dict(state_dict)\n",
        "\n",
        "        # save input parameters\n",
        "        self.pretrained = pretrained\n",
        "        self.in_channels = in_channels\n",
        "        # override the first convolution layer to support any number of input channels\n",
        "        self.stem = nn.Sequential(\n",
        "            nn.Conv3d(self.in_channels, 64, kernel_size=(3, 7, 7), stride=(1, 2, 2),\n",
        "                      padding=(1, 3, 3), bias=False),\n",
        "            nn.BatchNorm3d(64),\n",
        "            nn.ReLU(inplace=True)\n",
        "        )\n",
        "\n",
        "    def features(self, x: Tensor) -> Any:\n",
        "        \"\"\"\n",
        "        Extract spatial features - given a 3D tensor\n",
        "        :param x: Input tensor - shape: [batch_size, channels, z, y, x]\n",
        "        :return: spatial features - shape [batch_size, n_features, z', y', x']\n",
        "        \"\"\"\n",
        "        x = self.stem(x)\n",
        "\n",
        "        x = self.layer1(x)\n",
        "        x = self.layer2(x)\n",
        "        x = self.layer3(x)\n",
        "        x = self.layer4(x)\n",
        "        return x\n",
        "\n",
        "    def forward(self, x: Tensor) -> Tuple[Tensor, None, None, None]:  # type: ignore\n",
        "        \"\"\"\n",
        "        Forward pass. 3D global classification given a volume\n",
        "        :param x: Input volume. shape: [batch_size, channels, z, y, x]\n",
        "        :return: logits for global classification. shape: [batch_size, n_classes].\n",
        "        \"\"\"\n",
        "        x = self.features(x)\n",
        "        return x\n",
        "    \n",
        "backbone=FuseBackboneResnet3D(pretrained=True)   \n",
        "from typing import Optional, Sequence\n",
        "import torch.nn as nn\n",
        "\n",
        "class ClassifierMLP(nn.Module):\n",
        "    def __init__(self, in_ch: int, num_classes: Optional[int], layers_description: Sequence[int]=(256,128), dropout_rate: float = 0.1):\n",
        "        super().__init__()\n",
        "        layer_list = []\n",
        "        layer_list.append(nn.Linear(in_ch, layers_description[0]))\n",
        "        layer_list.append(nn.ReLU())\n",
        "        if dropout_rate is not None and dropout_rate > 0:\n",
        "            layer_list.append(nn.Dropout(p=dropout_rate))\n",
        "        last_layer_size = layers_description[0]\n",
        "        for curr_layer_size in layers_description[1:]:\n",
        "            layer_list.append(nn.Linear(last_layer_size, curr_layer_size))\n",
        "            layer_list.append(nn.ReLU())\n",
        "            if dropout_rate is not None and dropout_rate > 0:\n",
        "                layer_list.append(nn.Dropout(p=dropout_rate))\n",
        "            last_layer_size = curr_layer_size\n",
        "        \n",
        "        if num_classes is not None:\n",
        "            layer_list.append(nn.Linear(last_layer_size, num_classes))\n",
        "        \n",
        "        self.classifier = nn.Sequential(*layer_list)\n",
        "\n",
        "    def forward(self, x):\n",
        "        x = self.classifier(x)\n",
        "        return x\n",
        "  \n",
        "model=ClassifierMLP(12,2)  \n",
        "import torch    \n",
        "model=nn.DataParallel(model)\n",
        "model=model.to(device)"
      ],
      "metadata": {
        "id": "Nd5NNxf6TtfS"
      },
      "execution_count": null,
      "outputs": []
    },
    {
      "cell_type": "code",
      "source": [
        "### testing the model for validation\n",
        "import pandas as pd\n",
        "\n",
        "pathtest=pd.read_csv('/content/drive/MyDrive/knight_challenegs2022/test_featurelatest.csv')\n",
        "#pathtest."
      ],
      "metadata": {
        "id": "zkgzQhtcT6JB"
      },
      "execution_count": null,
      "outputs": []
    },
    {
      "cell_type": "code",
      "source": [
        "import torch\n",
        "pathmodel='/content/drive/MyDrive/knight_challenegs2022/models/fold1model/3dmodeltask1.pth'\n",
        "trainedmodel=torch.load(pathmodel)\n",
        "model.load_state_dict(trainedmodel)\n",
        "model.eval()\n",
        "model.to(device)"
      ],
      "metadata": {
        "colab": {
          "base_uri": "https://localhost:8080/"
        },
        "id": "zJg0EpxVT9p5",
        "outputId": "179659c0-d2e3-4868-ccf8-80b118714f97"
      },
      "execution_count": null,
      "outputs": [
        {
          "output_type": "execute_result",
          "data": {
            "text/plain": [
              "DataParallel(\n",
              "  (module): ClassifierMLP(\n",
              "    (classifier): Sequential(\n",
              "      (0): Linear(in_features=12, out_features=256, bias=True)\n",
              "      (1): ReLU()\n",
              "      (2): Dropout(p=0.1, inplace=False)\n",
              "      (3): Linear(in_features=256, out_features=128, bias=True)\n",
              "      (4): ReLU()\n",
              "      (5): Dropout(p=0.1, inplace=False)\n",
              "      (6): Linear(in_features=128, out_features=2, bias=True)\n",
              "    )\n",
              "  )\n",
              ")"
            ]
          },
          "metadata": {},
          "execution_count": 34
        }
      ]
    },
    {
      "cell_type": "code",
      "source": [
        "#NoAT-score\n",
        "#CanAT-score\n",
        "#case_id\n",
        "import torch\n",
        "pathmodel='/content/drive/MyDrive/knight_challenegs2022/models/fold1model/3dmodeltask1.pth'\n",
        "trainedmodel=torch.load(pathmodel)\n",
        "model.load_state_dict(trainedmodel)\n",
        "model.eval()\n",
        "model.to(device)\n",
        "dataframe={'case_id':[],\n",
        "           'NoAT-score':[],\n",
        "           'CanAT-score':[]}\n",
        "CLINICAL_NAMES=['case_id','NoAT-score','CanAT-score']\n",
        "df = pd.DataFrame(columns=CLINICAL_NAMES)\n",
        "for i,patinet in enumerate(pathtest['SubjectId']):\n",
        "  #pat=patinet.split('_')[-1]\n",
        "  #pat=str(0000)+i\n",
        "  number_str = str(i)\n",
        "  pat = number_str.zfill(5)\n",
        "  #print(i)\n",
        "  #print(patinet)\n",
        "  features=pathtest.iloc[i]\n",
        "  feature=features.drop(['SubjectId'])\n",
        "  feature1=feature.drop(['gender'])\n",
        "  #print(feature1.shape)\n",
        "  x_f_array=np.array(feature1).astype(float)\n",
        "  #print(x_f_array)\n",
        "  #.astype(int)\n",
        "  x_f_array_t=torch.from_numpy(x_f_array).float()\n",
        "  x_f_array_t=torch.unsqueeze(x_f_array_t,axis=0).to(device)\n",
        "  prediction=model(x_f_array_t)\n",
        "  output=torch.softmax(prediction, dim=1)\n",
        "  output=torch.squeeze(output,axis=0)\n",
        "  pred=output.detach().cpu().numpy()\n",
        "  #print(output.detach().cpu().numpy())\n",
        "  df.loc[i,'case_id']=pat\n",
        "  df.loc[i,'NoAT-score']='%.1f' % pred[0]\n",
        "  df.loc[i,'CanAT-score']='%.1f' % pred[1]\n",
        "\n",
        "  #dataframe['case_id'].append(str(pat))\n",
        "  #dataframe['NoAT-score'].append(pred[0])\n",
        "  #dataframe['CanAT-score'].append(pred[1])\n",
        "  #features.iloc[i]\n",
        "  #print(x_f_array_t.shape)\n",
        "  print(pat)"
      ],
      "metadata": {
        "colab": {
          "base_uri": "https://localhost:8080/"
        },
        "id": "04KLBKEFUF2I",
        "outputId": "603962fd-253c-4f6c-af05-e3832b5fbd15"
      },
      "execution_count": null,
      "outputs": [
        {
          "output_type": "stream",
          "name": "stdout",
          "text": [
            "00000\n",
            "00001\n",
            "00002\n",
            "00003\n",
            "00004\n",
            "00005\n",
            "00006\n",
            "00007\n",
            "00008\n",
            "00009\n",
            "00010\n",
            "00011\n",
            "00012\n",
            "00013\n",
            "00014\n",
            "00015\n",
            "00016\n",
            "00017\n",
            "00018\n",
            "00019\n",
            "00020\n",
            "00021\n",
            "00022\n",
            "00023\n",
            "00024\n",
            "00025\n",
            "00026\n",
            "00027\n",
            "00028\n",
            "00029\n",
            "00030\n",
            "00031\n",
            "00032\n",
            "00033\n",
            "00034\n",
            "00035\n",
            "00036\n",
            "00037\n",
            "00038\n",
            "00039\n",
            "00040\n",
            "00041\n",
            "00042\n",
            "00043\n",
            "00044\n",
            "00045\n",
            "00046\n",
            "00047\n",
            "00048\n",
            "00049\n",
            "00050\n",
            "00051\n",
            "00052\n",
            "00053\n",
            "00054\n",
            "00055\n",
            "00056\n",
            "00057\n",
            "00058\n",
            "00059\n",
            "00060\n",
            "00061\n",
            "00062\n",
            "00063\n",
            "00064\n",
            "00065\n",
            "00066\n",
            "00067\n",
            "00068\n",
            "00069\n",
            "00070\n",
            "00071\n",
            "00072\n",
            "00073\n",
            "00074\n",
            "00075\n",
            "00076\n",
            "00077\n",
            "00078\n",
            "00079\n",
            "00080\n",
            "00081\n",
            "00082\n",
            "00083\n",
            "00084\n",
            "00085\n",
            "00086\n",
            "00087\n",
            "00088\n",
            "00089\n",
            "00090\n",
            "00091\n",
            "00092\n",
            "00093\n",
            "00094\n",
            "00095\n",
            "00096\n",
            "00097\n",
            "00098\n",
            "00099\n",
            "00100\n",
            "00101\n",
            "00102\n"
          ]
        }
      ]
    },
    {
      "cell_type": "code",
      "source": [
        "df['case_id'] = df['case_id'].apply('=\"{}\"'.format)"
      ],
      "metadata": {
        "id": "O0o_kq7ZUVbZ"
      },
      "execution_count": null,
      "outputs": []
    },
    {
      "cell_type": "code",
      "source": [
        "df"
      ],
      "metadata": {
        "colab": {
          "base_uri": "https://localhost:8080/",
          "height": 423
        },
        "id": "aocDH0xCUWiy",
        "outputId": "750a15b4-c993-4089-b315-3291794bd1fc"
      },
      "execution_count": null,
      "outputs": [
        {
          "output_type": "execute_result",
          "data": {
            "text/html": [
              "\n",
              "  <div id=\"df-6fd4f4e3-4f41-421b-ad6b-3066072180b9\">\n",
              "    <div class=\"colab-df-container\">\n",
              "      <div>\n",
              "<style scoped>\n",
              "    .dataframe tbody tr th:only-of-type {\n",
              "        vertical-align: middle;\n",
              "    }\n",
              "\n",
              "    .dataframe tbody tr th {\n",
              "        vertical-align: top;\n",
              "    }\n",
              "\n",
              "    .dataframe thead th {\n",
              "        text-align: right;\n",
              "    }\n",
              "</style>\n",
              "<table border=\"1\" class=\"dataframe\">\n",
              "  <thead>\n",
              "    <tr style=\"text-align: right;\">\n",
              "      <th></th>\n",
              "      <th>case_id</th>\n",
              "      <th>NoAT-score</th>\n",
              "      <th>CanAT-score</th>\n",
              "    </tr>\n",
              "  </thead>\n",
              "  <tbody>\n",
              "    <tr>\n",
              "      <th>0</th>\n",
              "      <td>=\"00000\"</td>\n",
              "      <td>0.3</td>\n",
              "      <td>0.7</td>\n",
              "    </tr>\n",
              "    <tr>\n",
              "      <th>1</th>\n",
              "      <td>=\"00001\"</td>\n",
              "      <td>0.8</td>\n",
              "      <td>0.2</td>\n",
              "    </tr>\n",
              "    <tr>\n",
              "      <th>2</th>\n",
              "      <td>=\"00002\"</td>\n",
              "      <td>0.8</td>\n",
              "      <td>0.2</td>\n",
              "    </tr>\n",
              "    <tr>\n",
              "      <th>3</th>\n",
              "      <td>=\"00003\"</td>\n",
              "      <td>1.0</td>\n",
              "      <td>0.0</td>\n",
              "    </tr>\n",
              "    <tr>\n",
              "      <th>4</th>\n",
              "      <td>=\"00004\"</td>\n",
              "      <td>0.5</td>\n",
              "      <td>0.5</td>\n",
              "    </tr>\n",
              "    <tr>\n",
              "      <th>...</th>\n",
              "      <td>...</td>\n",
              "      <td>...</td>\n",
              "      <td>...</td>\n",
              "    </tr>\n",
              "    <tr>\n",
              "      <th>98</th>\n",
              "      <td>=\"00098\"</td>\n",
              "      <td>0.3</td>\n",
              "      <td>0.7</td>\n",
              "    </tr>\n",
              "    <tr>\n",
              "      <th>99</th>\n",
              "      <td>=\"00099\"</td>\n",
              "      <td>0.8</td>\n",
              "      <td>0.2</td>\n",
              "    </tr>\n",
              "    <tr>\n",
              "      <th>100</th>\n",
              "      <td>=\"00100\"</td>\n",
              "      <td>1.0</td>\n",
              "      <td>0.0</td>\n",
              "    </tr>\n",
              "    <tr>\n",
              "      <th>101</th>\n",
              "      <td>=\"00101\"</td>\n",
              "      <td>0.8</td>\n",
              "      <td>0.2</td>\n",
              "    </tr>\n",
              "    <tr>\n",
              "      <th>102</th>\n",
              "      <td>=\"00102\"</td>\n",
              "      <td>0.5</td>\n",
              "      <td>0.5</td>\n",
              "    </tr>\n",
              "  </tbody>\n",
              "</table>\n",
              "<p>103 rows × 3 columns</p>\n",
              "</div>\n",
              "      <button class=\"colab-df-convert\" onclick=\"convertToInteractive('df-6fd4f4e3-4f41-421b-ad6b-3066072180b9')\"\n",
              "              title=\"Convert this dataframe to an interactive table.\"\n",
              "              style=\"display:none;\">\n",
              "        \n",
              "  <svg xmlns=\"http://www.w3.org/2000/svg\" height=\"24px\"viewBox=\"0 0 24 24\"\n",
              "       width=\"24px\">\n",
              "    <path d=\"M0 0h24v24H0V0z\" fill=\"none\"/>\n",
              "    <path d=\"M18.56 5.44l.94 2.06.94-2.06 2.06-.94-2.06-.94-.94-2.06-.94 2.06-2.06.94zm-11 1L8.5 8.5l.94-2.06 2.06-.94-2.06-.94L8.5 2.5l-.94 2.06-2.06.94zm10 10l.94 2.06.94-2.06 2.06-.94-2.06-.94-.94-2.06-.94 2.06-2.06.94z\"/><path d=\"M17.41 7.96l-1.37-1.37c-.4-.4-.92-.59-1.43-.59-.52 0-1.04.2-1.43.59L10.3 9.45l-7.72 7.72c-.78.78-.78 2.05 0 2.83L4 21.41c.39.39.9.59 1.41.59.51 0 1.02-.2 1.41-.59l7.78-7.78 2.81-2.81c.8-.78.8-2.07 0-2.86zM5.41 20L4 18.59l7.72-7.72 1.47 1.35L5.41 20z\"/>\n",
              "  </svg>\n",
              "      </button>\n",
              "      \n",
              "  <style>\n",
              "    .colab-df-container {\n",
              "      display:flex;\n",
              "      flex-wrap:wrap;\n",
              "      gap: 12px;\n",
              "    }\n",
              "\n",
              "    .colab-df-convert {\n",
              "      background-color: #E8F0FE;\n",
              "      border: none;\n",
              "      border-radius: 50%;\n",
              "      cursor: pointer;\n",
              "      display: none;\n",
              "      fill: #1967D2;\n",
              "      height: 32px;\n",
              "      padding: 0 0 0 0;\n",
              "      width: 32px;\n",
              "    }\n",
              "\n",
              "    .colab-df-convert:hover {\n",
              "      background-color: #E2EBFA;\n",
              "      box-shadow: 0px 1px 2px rgba(60, 64, 67, 0.3), 0px 1px 3px 1px rgba(60, 64, 67, 0.15);\n",
              "      fill: #174EA6;\n",
              "    }\n",
              "\n",
              "    [theme=dark] .colab-df-convert {\n",
              "      background-color: #3B4455;\n",
              "      fill: #D2E3FC;\n",
              "    }\n",
              "\n",
              "    [theme=dark] .colab-df-convert:hover {\n",
              "      background-color: #434B5C;\n",
              "      box-shadow: 0px 1px 3px 1px rgba(0, 0, 0, 0.15);\n",
              "      filter: drop-shadow(0px 1px 2px rgba(0, 0, 0, 0.3));\n",
              "      fill: #FFFFFF;\n",
              "    }\n",
              "  </style>\n",
              "\n",
              "      <script>\n",
              "        const buttonEl =\n",
              "          document.querySelector('#df-6fd4f4e3-4f41-421b-ad6b-3066072180b9 button.colab-df-convert');\n",
              "        buttonEl.style.display =\n",
              "          google.colab.kernel.accessAllowed ? 'block' : 'none';\n",
              "\n",
              "        async function convertToInteractive(key) {\n",
              "          const element = document.querySelector('#df-6fd4f4e3-4f41-421b-ad6b-3066072180b9');\n",
              "          const dataTable =\n",
              "            await google.colab.kernel.invokeFunction('convertToInteractive',\n",
              "                                                     [key], {});\n",
              "          if (!dataTable) return;\n",
              "\n",
              "          const docLinkHtml = 'Like what you see? Visit the ' +\n",
              "            '<a target=\"_blank\" href=https://colab.research.google.com/notebooks/data_table.ipynb>data table notebook</a>'\n",
              "            + ' to learn more about interactive tables.';\n",
              "          element.innerHTML = '';\n",
              "          dataTable['output_type'] = 'display_data';\n",
              "          await google.colab.output.renderOutput(dataTable, element);\n",
              "          const docLink = document.createElement('div');\n",
              "          docLink.innerHTML = docLinkHtml;\n",
              "          element.appendChild(docLink);\n",
              "        }\n",
              "      </script>\n",
              "    </div>\n",
              "  </div>\n",
              "  "
            ],
            "text/plain": [
              "      case_id NoAT-score CanAT-score\n",
              "0    =\"00000\"        0.3         0.7\n",
              "1    =\"00001\"        0.8         0.2\n",
              "2    =\"00002\"        0.8         0.2\n",
              "3    =\"00003\"        1.0         0.0\n",
              "4    =\"00004\"        0.5         0.5\n",
              "..        ...        ...         ...\n",
              "98   =\"00098\"        0.3         0.7\n",
              "99   =\"00099\"        0.8         0.2\n",
              "100  =\"00100\"        1.0         0.0\n",
              "101  =\"00101\"        0.8         0.2\n",
              "102  =\"00102\"        0.5         0.5\n",
              "\n",
              "[103 rows x 3 columns]"
            ]
          },
          "metadata": {},
          "execution_count": 37
        }
      ]
    },
    {
      "cell_type": "code",
      "source": [
        "df.to_csv('task1_prediction_round2.csv',index=False)"
      ],
      "metadata": {
        "id": "uqcDnNwDUcD6"
      },
      "execution_count": null,
      "outputs": []
    }
  ]
}