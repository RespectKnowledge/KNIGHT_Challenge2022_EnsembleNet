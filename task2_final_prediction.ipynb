{
  "nbformat": 4,
  "nbformat_minor": 0,
  "metadata": {
    "colab": {
      "name": "task2_final_prediction.ipynb",
      "provenance": []
    },
    "kernelspec": {
      "name": "python3",
      "display_name": "Python 3"
    },
    "language_info": {
      "name": "python"
    },
    "accelerator": "GPU"
  },
  "cells": [
    {
      "cell_type": "code",
      "execution_count": null,
      "metadata": {
        "colab": {
          "base_uri": "https://localhost:8080/"
        },
        "id": "rT7C5Uru7vwW",
        "outputId": "01f567e4-bc5d-4a60-fed5-4c177eb51020"
      },
      "outputs": [
        {
          "output_type": "stream",
          "name": "stdout",
          "text": [
            "Mounted at /content/drive\n"
          ]
        }
      ],
      "source": [
        "from google.colab import drive\n",
        "drive.mount('/content/drive')"
      ]
    },
    {
      "cell_type": "code",
      "source": [
        "cd /content/drive/MyDrive/"
      ],
      "metadata": {
        "colab": {
          "base_uri": "https://localhost:8080/"
        },
        "id": "w7rlujZg744e",
        "outputId": "466333f7-ce56-4e36-8bfa-9d13590d8477"
      },
      "execution_count": null,
      "outputs": [
        {
          "output_type": "stream",
          "name": "stdout",
          "text": [
            "/content/drive/MyDrive\n"
          ]
        }
      ]
    },
    {
      "cell_type": "code",
      "source": [
        "!pip install SimpleITK"
      ],
      "metadata": {
        "colab": {
          "base_uri": "https://localhost:8080/"
        },
        "id": "2e4rRfvC77sm",
        "outputId": "a0a656f2-831f-441a-d412-bed550b9e5c1"
      },
      "execution_count": null,
      "outputs": [
        {
          "output_type": "stream",
          "name": "stdout",
          "text": [
            "Collecting SimpleITK\n",
            "  Downloading SimpleITK-2.1.1-cp37-cp37m-manylinux_2_12_x86_64.manylinux2010_x86_64.whl (48.4 MB)\n",
            "\u001b[K     |████████████████████████████████| 48.4 MB 20 kB/s \n",
            "\u001b[?25hInstalling collected packages: SimpleITK\n",
            "Successfully installed SimpleITK-2.1.1\n"
          ]
        }
      ]
    },
    {
      "cell_type": "code",
      "source": [
        "import torch\n",
        "import pandas as pd\n",
        "from torch.utils.data import Dataset\n",
        "from torch.utils.data import DataLoader\n",
        "import os\n",
        "import SimpleITK as sitk\n",
        "import numpy as np\n",
        "import os\n",
        "import numpy as np\n",
        "import skimage\n",
        "#import skimage.io as io\n",
        "import skimage.transform as transform\n",
        "import torch\n",
        "\n",
        "import numpy as np\n",
        "import pandas as pd\n",
        "import torch\n",
        "import os\n",
        "#os.environ[\"CUDA_VISIBLE_DEVICES\"] = \"0,1\" \n",
        "from torch.utils.data import Dataset\n",
        "from torch.utils.data import DataLoader\n",
        "import os\n",
        "import cv2\n",
        "import matplotlib.pyplot as plt\n",
        "import skimage \n",
        "\n",
        "#import logging\n",
        "#import traceback\n",
        "from typing import Optional, Tuple\n",
        "\n",
        "\n",
        "def kits_normalization(input_image: np.ndarray):\n",
        "    # first, clip to [-62, 310] (corresponds to 0.5 and 99.5 percentile in the foreground regions)\n",
        "    # then, subtract 104.9 and divide by 75.3 (corresponds to mean and std in the foreground regions, respectively)\n",
        "    clip_min = -62\n",
        "    clip_max = 301\n",
        "    mean_val = 104.0\n",
        "    std_val = 75.3\n",
        "    input_image = np.minimum(np.maximum(input_image, clip_min), clip_max)\n",
        "    input_image -= mean_val\n",
        "    input_image /= std_val\n",
        "    return input_image\n",
        "\n",
        "def normalize_to_range(input_image: np.ndarray, range: Tuple = (0.0, 1.0)):\n",
        "    \"\"\"\n",
        "    Scales tensor to range\n",
        "    @param input_image: image of shape (H x W x C)\n",
        "    @param range:       bounds for normalization\n",
        "    @return:            normalized image\n",
        "    \"\"\"\n",
        "    max_val = input_image.max()\n",
        "    min_val = input_image.min()\n",
        "    if min_val == max_val == 0:\n",
        "        return input_image\n",
        "    input_image = input_image - min_val\n",
        "    input_image = input_image / (max_val - min_val)\n",
        "    input_image = input_image * (range[1] - range[0])\n",
        "    input_image = input_image + range[0]\n",
        "    return input_image\n",
        "\n",
        "from typing import Iterable\n",
        "\n",
        "def center_crop(np_image: np.ndarray,\n",
        "                new_shape: Iterable[int],\n",
        "                outside_val: float = 0\n",
        "                ) -> np.ndarray:\n",
        "    output_image = np.full(new_shape, outside_val, np_image.dtype)\n",
        "\n",
        "    slices = tuple()\n",
        "    offsets = tuple()\n",
        "    for it, sh in enumerate(new_shape):\n",
        "        size = sh // 2\n",
        "        if it == 0:\n",
        "            center = np_image.shape[it] - size\n",
        "        else:\n",
        "            center = (np_image.shape[it] // 2)\n",
        "        start = center - size\n",
        "        stop = center + size + (sh % 2)\n",
        "\n",
        "        # computing what area of the original image will be in the cropped output\n",
        "        slce = slice(max(0, start), min(np_image.shape[it], stop))\n",
        "        slices += (slce,)\n",
        "\n",
        "        # computing offset to pad if the crop is partly outside of the scan\n",
        "        offset = slice(-min(0, start), 2 * size - max(0, (start + 2 * size) - np_image.shape[it]))\n",
        "        offsets += (offset,)\n",
        "\n",
        "    output_image[offsets] = np_image[slices]\n",
        "\n",
        "    return output_image\n",
        "\n",
        "\n",
        "def pad_image(image: np.ndarray, outer_height: int, outer_width: int, pad_value: Tuple):\n",
        "    \"\"\"\n",
        "    Pastes input image in the middle of a larger one\n",
        "    @param image:        image of shape (H x W x C)\n",
        "    @param outer_height: final outer height\n",
        "    @param outer_width:  final outer width\n",
        "    @param pad_value:    value for padding around inner image\n",
        "    @return:             padded image\n",
        "    \"\"\"\n",
        "    inner_height, inner_width = image.shape[0], image.shape[1]\n",
        "    h_offset = int((outer_height - inner_height) / 2.0)\n",
        "    w_offset = int((outer_width - inner_width) / 2.0)\n",
        "    outer_image = np.ones((outer_height, outer_width, 3), dtype=image.dtype) * pad_value\n",
        "    outer_image[h_offset:h_offset + inner_height, w_offset:w_offset + inner_width, :] = image\n",
        "\n",
        "    return outer_image\n",
        "\n",
        "\n",
        "class deeeeset(Dataset):\n",
        "    def __init__(self,in_out):\n",
        "        self.in_out=in_out\n",
        "        \n",
        "        #self.new_shape=new_shape\n",
        "        #self.input_data = input_data\n",
        "        self.ids=self.in_out['SubjectId']\n",
        "        self.label=self.in_out['task_2_label']\n",
        "        \n",
        "        self.feature=self.in_out.drop(['SubjectId','gender','aua_risk_group','task_1_label','task_2_label'],axis=1, inplace=True)\n",
        "        #self.feature=self.in_out.drop(['SubjectId','task_1_label','task_2_label'],axis=1, inplace=True)\n",
        "\n",
        "    \n",
        "            \n",
        "        \n",
        "    def __getitem__(self,idx):\n",
        "        \n",
        "        feat=self.in_out.iloc[idx]\n",
        "        x_feature=pd.DataFrame(feat).T\n",
        "        \n",
        "        # norm_img=get_array_img\n",
        "        \n",
        "        y_output=self.label[idx]\n",
        "        x_f_array=np.array(x_feature)\n",
        "        x_f_array_t=torch.from_numpy(x_f_array).float()\n",
        "        x_f_array_t=torch.squeeze(x_f_array_t,axis=0)\n",
        "        return (x_f_array_t,y_output)\n",
        "    \n",
        "    def __len__(self):\n",
        "        return(len(self.label))\n",
        "    \n",
        "\n",
        "\n",
        "#input_image = center_crop(input_image, new_shape=new_shape) \n",
        "    \n",
        "    \n",
        "filet=pd.read_csv('/content/drive/MyDrive/knights_challenege/dataset_clinical/trainf2new.csv')\n",
        "#data='/home/imranr/knights/data'\n",
        "\n",
        "filev=pd.read_csv('/content/drive/MyDrive/knights_challenege/dataset_clinical/validf2new.csv')\n",
        "\n",
        "\n",
        "\n",
        "\n",
        "#len(filev['task_1_label']==0)\n",
        "#len(filev['task_1_label']==1)\n",
        "#len(filev['task_1_label']==2)\n",
        "#len(filev['task_1_label']==3)\n",
        "#len(filev['task_1_label']==4)\n",
        "\n",
        "#classes=['NoAT','CanAT']\n",
        "#c1=filet['task_1_label'].value_counts()[0]\n",
        "#175\n",
        "c1=filet['task_2_label'].value_counts()[0]\n",
        "c2=filet['task_2_label'].value_counts()[1]\n",
        "c3=filet['task_2_label'].value_counts()[2]\n",
        "c4=filet['task_2_label'].value_counts()[3]\n",
        "c5=filet['task_2_label'].value_counts()[4]\n",
        "print(c1)\n",
        "print(c2)\n",
        "print(c3)\n",
        "print(c4)\n",
        "print(c5)\n",
        "#c2=filet['task_1_label'].value_counts()[1]\n",
        "#65\n",
        "\n",
        "train_dataset=deeeeset(filet)\n",
        "valid_dataset=deeeeset(filev)\n",
        "\n",
        "#print(len(train_dataset))\n",
        "#print(len(valid_dataset))\n",
        "\n",
        "f,o=valid_dataset[2]\n",
        "\n",
        "#print(i.shape)\n",
        "#print(i.min())\n",
        "#print(i.max())\n",
        "#print(o)\n",
        "#print(f)\n",
        "\n",
        "# i,f, o=train_dataset[2]\n",
        "\n",
        "# print(i.shape)\n",
        "# print(i.min())\n",
        "# print(i.max())\n",
        "# print(o)\n",
        "# print(f)\n",
        "\n",
        "#%\n",
        "from torch.utils.data import DataLoader\n",
        "\n",
        "# train_dataloader = DataLoader(ob_d, batch_size=4, shuffle=True)\n",
        "# #test_dataloader = DataLoader(test_data, batch_size=64, shuffle=True)\n",
        "# for i, data in enumerate(train_dataloader):\n",
        "#     img,f,l=data\n",
        "#     print(img.shape)\n",
        "#     print(f.shape)\n",
        "#     print(l)\n",
        "#     break\n",
        "    \n",
        "\n",
        "batch=4\n",
        "\n",
        "train_dataloader = DataLoader(train_dataset, batch_size= batch,pin_memory=True,num_workers=6, shuffle=True)\n",
        "\n",
        "valid_dataloader = DataLoader(valid_dataset, batch_size= batch,pin_memory=True,num_workers=6, shuffle=False)\n"
      ],
      "metadata": {
        "colab": {
          "base_uri": "https://localhost:8080/"
        },
        "id": "Q3n4R6PP8BFW",
        "outputId": "ea3cf3fa-8512-46a9-8c1f-b3f4abcd51cc"
      },
      "execution_count": null,
      "outputs": [
        {
          "output_type": "stream",
          "name": "stdout",
          "text": [
            "18\n",
            "123\n",
            "33\n",
            "29\n",
            "37\n"
          ]
        },
        {
          "output_type": "stream",
          "name": "stderr",
          "text": [
            "/usr/local/lib/python3.7/dist-packages/torch/utils/data/dataloader.py:481: UserWarning: This DataLoader will create 6 worker processes in total. Our suggested max number of worker in current system is 2, which is smaller than what this DataLoader is going to create. Please be aware that excessive worker creation might get DataLoader running slow or even freeze, lower the worker number to avoid potential slowness/freeze if necessary.\n",
            "  cpuset_checked))\n"
          ]
        }
      ]
    },
    {
      "cell_type": "code",
      "source": [
        "f,o=train_dataset[2]\n",
        "print(f.shape)"
      ],
      "metadata": {
        "colab": {
          "base_uri": "https://localhost:8080/"
        },
        "id": "QJwZdixu8DnW",
        "outputId": "f1adeb8d-cd29-4b4c-c11b-2d2fc781b897"
      },
      "execution_count": null,
      "outputs": [
        {
          "output_type": "stream",
          "name": "stdout",
          "text": [
            "torch.Size([12])\n"
          ]
        }
      ]
    },
    {
      "cell_type": "code",
      "source": [
        "\"\"\"\n",
        "(C) Copyright 2021 IBM Corp.\n",
        "Licensed under the Apache License, Version 2.0 (the \"License\");\n",
        "you may not use this file except in compliance with the License.\n",
        "You may obtain a copy of the License at\n",
        "   http://www.apache.org/licenses/LICENSE-2.0\n",
        "Unless required by applicable law or agreed to in writing, software\n",
        "distributed under the License is distributed on an \"AS IS\" BASIS,\n",
        "WITHOUT WARRANTIES OR CONDITIONS OF ANY KIND, either express or implied.\n",
        "See the License for the specific language governing permissions and\n",
        "limitations under the License.\n",
        "Created on June 30, 2021\n",
        "\"\"\"\n",
        "\n",
        "from typing import Tuple, Any\n",
        "\n",
        "import torch.nn as nn\n",
        "from torch import Tensor\n",
        "from torch.hub import load_state_dict_from_url\n",
        "from torchvision.models.video.resnet import VideoResNet, BasicBlock, Conv3DSimple, BasicStem, model_urls\n",
        "\n",
        "\n",
        "class FuseBackboneResnet3D(VideoResNet):\n",
        "    \"\"\"\n",
        "    3D model classifier (ResNet architecture\"\n",
        "    \"\"\"\n",
        "\n",
        "    def __init__(self, pretrained: bool = False, in_channels: int = 1, name: str = \"r3d_18\") -> None:\n",
        "        \"\"\"\n",
        "        Create 3D ResNet model\n",
        "        :param pretrained: Use pretrained weights\n",
        "        :param in_channels: number of input channels\n",
        "        :param name: model name. currently only 'r3d_18' is supported\n",
        "        \"\"\"\n",
        "        # init parameters per required backbone\n",
        "        init_parameters = {\n",
        "            'r3d_18': {'block': BasicBlock,\n",
        "                       'conv_makers': [Conv3DSimple] * 4,\n",
        "                       'layers': [2, 2, 2, 2],\n",
        "                       'stem': BasicStem},\n",
        "        }[name]\n",
        "        # init original model\n",
        "        super().__init__(**init_parameters)\n",
        "\n",
        "        # load pretrained parameters if required\n",
        "        if pretrained:\n",
        "            state_dict = load_state_dict_from_url(model_urls[name])\n",
        "            self.load_state_dict(state_dict)\n",
        "\n",
        "        # save input parameters\n",
        "        self.pretrained = pretrained\n",
        "        self.in_channels = in_channels\n",
        "        # override the first convolution layer to support any number of input channels\n",
        "        self.stem = nn.Sequential(\n",
        "            nn.Conv3d(self.in_channels, 64, kernel_size=(3, 7, 7), stride=(1, 2, 2),\n",
        "                      padding=(1, 3, 3), bias=False),\n",
        "            nn.BatchNorm3d(64),\n",
        "            nn.ReLU(inplace=True)\n",
        "        )\n",
        "\n",
        "    def features(self, x: Tensor) -> Any:\n",
        "        \"\"\"\n",
        "        Extract spatial features - given a 3D tensor\n",
        "        :param x: Input tensor - shape: [batch_size, channels, z, y, x]\n",
        "        :return: spatial features - shape [batch_size, n_features, z', y', x']\n",
        "        \"\"\"\n",
        "        x = self.stem(x)\n",
        "\n",
        "        x = self.layer1(x)\n",
        "        x = self.layer2(x)\n",
        "        x = self.layer3(x)\n",
        "        x = self.layer4(x)\n",
        "        return x\n",
        "\n",
        "    def forward(self, x: Tensor) -> Tuple[Tensor, None, None, None]:  # type: ignore\n",
        "        \"\"\"\n",
        "        Forward pass. 3D global classification given a volume\n",
        "        :param x: Input volume. shape: [batch_size, channels, z, y, x]\n",
        "        :return: logits for global classification. shape: [batch_size, n_classes].\n",
        "        \"\"\"\n",
        "        x = self.features(x)\n",
        "        return x\n",
        "    \n",
        "backbone=FuseBackboneResnet3D(pretrained=False)   \n",
        "from typing import Optional, Sequence\n",
        "import torch.nn as nn\n",
        "\n",
        "class ClassifierMLP(nn.Module):\n",
        "    def __init__(self, in_ch: int, num_classes: Optional[int], layers_description: Sequence[int]=(256,128), dropout_rate: float = 0.1):\n",
        "        super().__init__()\n",
        "        layer_list = []\n",
        "        layer_list.append(nn.Linear(in_ch, layers_description[0]))\n",
        "        layer_list.append(nn.ReLU())\n",
        "        if dropout_rate is not None and dropout_rate > 0:\n",
        "            layer_list.append(nn.Dropout(p=dropout_rate))\n",
        "        last_layer_size = layers_description[0]\n",
        "        for curr_layer_size in layers_description[1:]:\n",
        "            layer_list.append(nn.Linear(last_layer_size, curr_layer_size))\n",
        "            layer_list.append(nn.ReLU())\n",
        "            if dropout_rate is not None and dropout_rate > 0:\n",
        "                layer_list.append(nn.Dropout(p=dropout_rate))\n",
        "            last_layer_size = curr_layer_size\n",
        "        \n",
        "        if num_classes is not None:\n",
        "            layer_list.append(nn.Linear(last_layer_size, num_classes))\n",
        "        \n",
        "        self.classifier = nn.Sequential(*layer_list)\n",
        "\n",
        "    def forward(self, x):\n",
        "        x = self.classifier(x)\n",
        "        return x\n",
        "  \n",
        "model=ClassifierMLP(12,5)  \n",
        "import torch    "
      ],
      "metadata": {
        "id": "gMnIjrdl8HSv"
      },
      "execution_count": null,
      "outputs": []
    },
    {
      "cell_type": "code",
      "source": [
        "#model=nn.DataParallel(model)\n",
        "device = torch.device(\"cuda\" if torch.cuda.is_available() else \"cpu\")\n",
        "model=model.to(device)\n",
        "#loss_func=nn.BCEWithLogitsLoss()\n",
        "from tqdm import tqdm\n",
        "import torch.optim as optim\n",
        "optimizer=optim.Adam(model.parameters(),lr=0.00001)\n",
        "\n",
        "#classes=['NRG','RG']\n",
        "#classes=['NoAT','CanAT']\n",
        "classes=['B','LR','IR','HR','VHR']\n",
        "#classes=[B-score\tLR-score\tIR-score\tHR-score\tVHR-score]\n",
        "#c1=data['label'].value_counts()[0]\n",
        "#c2=data['label'].value_counts()[1]\n",
        "my_distribution=np.array([20,112,37,34,37])\n",
        "class_weights = torch.from_numpy(np.divide(1, my_distribution)).float().to(device)\n",
        "class_weights = class_weights / class_weights.sum()\n",
        "for i, c in enumerate(classes):\n",
        "  print('Weight for class %s: %f' % (c, class_weights.cpu().numpy()[i]))\n",
        "loss_func = nn.CrossEntropyLoss(weight=class_weights)\n",
        "#label=label.to(torch.int64)\n",
        "################################ training functions ###################\n",
        "def train_fn(model,train_loader):\n",
        "    model.train()\n",
        "    counter=0\n",
        "    training_run_loss=0.0\n",
        "    train_running_correct=0.0\n",
        "    for i, data in tqdm(enumerate(train_loader),total=int(len(train_dataset)/train_loader.batch_size)):\n",
        "        counter+=1\n",
        "        # extract dataset\n",
        "        feature,label=data\n",
        "        #imge=imge.float()\n",
        "        #label=label.float()\n",
        "        label.to(torch.int64)\n",
        "        feature=feature.float()\n",
        "        feature=feature.to(device)\n",
        "        #imge=imge.to(device)\n",
        "        label=label.to(device)\n",
        "        #imge=imge.cuda()\n",
        "        #label=label.cuda()\n",
        "        # zero_out the gradient\n",
        "        optimizer.zero_grad()\n",
        "        output=model(feature)\n",
        "        loss=loss_func(output,label)\n",
        "        training_run_loss+=loss.item()\n",
        "        _,preds=torch.max(output.data,1)\n",
        "        train_running_correct+=(preds==label).sum().item()\n",
        "        loss.backward()\n",
        "        optimizer.step()\n",
        "    ###################### state computation ###################\n",
        "    train_loss=training_run_loss/len(train_loader.dataset)\n",
        "    train_loss_ep.append(train_loss)\n",
        "    train_accuracy=100.* train_running_correct/len(train_loader.dataset)\n",
        "    train_accuracy_ep.append(train_accuracy)\n",
        "    print(f\"Train Loss:{train_loss:.4f}, Train Acc:{train_accuracy:0.2f}\")\n",
        "    return train_loss_ep,train_accuracy_ep\n",
        "\n",
        "########################## validation function ##################\n",
        "def validation_fn(model,valid_loader):\n",
        "  # evluation start\n",
        "    print(\"validation start\")\n",
        "    \n",
        "    model.eval()\n",
        "    val_running_loss = 0.0\n",
        "    val_running_correct = 0\n",
        "    with torch.no_grad():\n",
        "        for i,data in tqdm(enumerate(valid_loader),total=int(len(valid_loader)/valid_loader.batch_size)):\n",
        "            feature,label=data\n",
        "            #imge=imge.float()\n",
        "            #label=label.float()\n",
        "            label.to(torch.int64)\n",
        "            feature=feature.float()\n",
        "            feature=feature.to(device)\n",
        "            #imge=imge.to(device)\n",
        "            label=label.to(device)\n",
        "            #imge=imge.cuda()\n",
        "            #label=label.cuda()\n",
        "            output=model(feature)\n",
        "            loss=loss_func(output,label)\n",
        "            val_running_loss+=loss.item()\n",
        "            _,pred=torch.max(output.data,1)\n",
        "            val_running_correct+=(pred==label).sum().item()\n",
        "        val_loss=val_running_loss/len(valid_loader.dataset)\n",
        "        val_loss_ep.append(val_loss)\n",
        "        val_accuracy=100.* val_running_correct/(len(valid_loader.dataset))\n",
        "        val_accuracy_ep.append(val_accuracy)\n",
        "        print(f\"Val Loss:{val_loss:0.4f}, Val_Acc:{val_accuracy:0.2f}\")\n",
        "        return val_loss_ep,val_accuracy_ep"
      ],
      "metadata": {
        "colab": {
          "base_uri": "https://localhost:8080/"
        },
        "id": "5aGEw-Qh8PwF",
        "outputId": "ffdd3582-b4f0-4a58-c9bd-e181e64601da"
      },
      "execution_count": null,
      "outputs": [
        {
          "output_type": "stream",
          "name": "stdout",
          "text": [
            "Weight for class B: 0.351137\n",
            "Weight for class LR: 0.062703\n",
            "Weight for class IR: 0.189804\n",
            "Weight for class HR: 0.206551\n",
            "Weight for class VHR: 0.189804\n"
          ]
        }
      ]
    },
    {
      "cell_type": "code",
      "source": [
        "cd /content/drive/MyDrive/knights_challenege/"
      ],
      "metadata": {
        "colab": {
          "base_uri": "https://localhost:8080/"
        },
        "id": "KI0EYLKF9Q0N",
        "outputId": "322237ab-c95f-45e8-9178-2ecc0b1b6cab"
      },
      "execution_count": null,
      "outputs": [
        {
          "output_type": "stream",
          "name": "stdout",
          "text": [
            "/content/drive/MyDrive/knights_challenege\n"
          ]
        }
      ]
    },
    {
      "cell_type": "code",
      "source": [
        "mkdir fold1mlptask2un"
      ],
      "metadata": {
        "id": "dlBySGg6AHTT"
      },
      "execution_count": null,
      "outputs": []
    },
    {
      "cell_type": "code",
      "source": [
        "import torch.optim as optim\n",
        "optimizer=optim.Adam(model.parameters(),lr=0.0001)\n",
        "train_loss_ep=[]\n",
        "train_accuracy_ep=[]\n",
        "val_loss_ep=[]\n",
        "val_accuracy_ep=[]\n",
        "lr = 3e-4\n",
        "log = pd.DataFrame(index=[], columns=['epoch', 'lr', 'loss', 'accu', 'val_loss', 'val_accu'])\n",
        "early_stop=20\n",
        "epochs=500\n",
        "best_acc = 0\n",
        "name='fold1mlptask2un'\n",
        "trigger = 0\n",
        "for epoch in range(epochs):\n",
        "    print('Epoch [%d/%d]' %(epoch, epochs))\n",
        "    # train for one epoch\n",
        "    train_loss_ep,train_accuracy_ep=train_fn(model,train_dataloader)\n",
        "    train_loss_ep1=np.mean(train_loss_ep)\n",
        "    train_accuracy_ep1=np.mean(train_accuracy_ep)\n",
        "    #y_pred,labels=Prediciton_fn(model,valid_loader)\n",
        "\n",
        "    val_loss_ep,val_accuracy_ep=validation_fn(model,valid_dataloader)\n",
        "    val_loss_ep1=np.mean(val_loss_ep)\n",
        "    val_accuracy_ep1=np.mean(val_accuracy_ep)\n",
        "    \n",
        "    print('loss %.4f - accu %.4f - val_loss %.4f - val_accu %.4f'%(train_loss_ep1, train_accuracy_ep1, val_loss_ep1, val_accuracy_ep1))\n",
        "\n",
        "    tmp = pd.Series([epoch,lr,train_loss_ep1,train_accuracy_ep1,val_loss_ep1,val_accuracy_ep1], index=['epoch', 'lr', 'loss', 'accu', 'val_loss', 'val_accu'])\n",
        "\n",
        "    log = log.append(tmp, ignore_index=True)\n",
        "    log.to_csv('models/%s/log.csv' %name, index=False)\n",
        "\n",
        "    trigger += 1\n",
        "\n",
        "    if val_accuracy_ep1 > best_acc:\n",
        "        torch.save(model.state_dict(), 'models/%s/mlptask2fold0.pth' %name)\n",
        "        best_acc = val_accuracy_ep1\n",
        "        print(\"=> saved best model\")\n",
        "        trigger = 0\n",
        "\n",
        "    # early stopping\n",
        "    if not early_stop is None:\n",
        "        if trigger >= early_stop:\n",
        "            print(\"=> early stopping\")\n",
        "            break\n",
        "\n",
        "    torch.cuda.empty_cache() "
      ],
      "metadata": {
        "colab": {
          "base_uri": "https://localhost:8080/"
        },
        "id": "NeI8Zz1p8SpN",
        "outputId": "0031e594-ce39-45fe-8ea5-1be6fc8e3352"
      },
      "execution_count": null,
      "outputs": [
        {
          "output_type": "stream",
          "name": "stdout",
          "text": [
            "Epoch [0/500]\n"
          ]
        },
        {
          "output_type": "stream",
          "name": "stderr",
          "text": [
            "/usr/local/lib/python3.7/dist-packages/torch/utils/data/dataloader.py:481: UserWarning: This DataLoader will create 6 worker processes in total. Our suggested max number of worker in current system is 2, which is smaller than what this DataLoader is going to create. Please be aware that excessive worker creation might get DataLoader running slow or even freeze, lower the worker number to avoid potential slowness/freeze if necessary.\n",
            "  cpuset_checked))\n",
            "100%|██████████| 60/60 [00:01<00:00, 56.60it/s]"
          ]
        },
        {
          "output_type": "stream",
          "name": "stdout",
          "text": [
            "Train Loss:0.6096, Train Acc:22.50\n",
            "validation start\n"
          ]
        },
        {
          "output_type": "stream",
          "name": "stderr",
          "text": [
            "\n",
            "15it [00:00, 31.42it/s]"
          ]
        },
        {
          "output_type": "stream",
          "name": "stdout",
          "text": [
            "Val Loss:0.4614, Val_Acc:35.00\n",
            "loss 0.6096 - accu 22.5000 - val_loss 0.4614 - val_accu 35.0000\n",
            "=> saved best model\n",
            "Epoch [1/500]\n"
          ]
        },
        {
          "output_type": "stream",
          "name": "stderr",
          "text": [
            "\n",
            "100%|██████████| 60/60 [00:00<00:00, 77.51it/s] "
          ]
        },
        {
          "output_type": "stream",
          "name": "stdout",
          "text": [
            "Train Loss:0.5399, Train Acc:31.67\n",
            "validation start\n"
          ]
        },
        {
          "output_type": "stream",
          "name": "stderr",
          "text": [
            "\n",
            "15it [00:00, 39.30it/s]                      "
          ]
        },
        {
          "output_type": "stream",
          "name": "stdout",
          "text": [
            "Val Loss:0.4757, Val_Acc:33.33\n",
            "loss 0.5748 - accu 27.0833 - val_loss 0.4686 - val_accu 34.1667\n",
            "Epoch [2/500]\n"
          ]
        },
        {
          "output_type": "stream",
          "name": "stderr",
          "text": [
            "\n",
            "100%|██████████| 60/60 [00:00<00:00, 82.03it/s] "
          ]
        },
        {
          "output_type": "stream",
          "name": "stdout",
          "text": [
            "Train Loss:0.5312, Train Acc:27.92\n",
            "validation start\n"
          ]
        },
        {
          "output_type": "stream",
          "name": "stderr",
          "text": [
            "\n",
            "15it [00:00, 41.65it/s]                      "
          ]
        },
        {
          "output_type": "stream",
          "name": "stdout",
          "text": [
            "Val Loss:0.4154, Val_Acc:31.67\n",
            "loss 0.5602 - accu 27.3611 - val_loss 0.4509 - val_accu 33.3333\n",
            "Epoch [3/500]\n"
          ]
        },
        {
          "output_type": "stream",
          "name": "stderr",
          "text": [
            "\n",
            "100%|██████████| 60/60 [00:00<00:00, 78.87it/s]"
          ]
        },
        {
          "output_type": "stream",
          "name": "stdout",
          "text": [
            "Train Loss:0.5051, Train Acc:30.42\n",
            "validation start\n"
          ]
        },
        {
          "output_type": "stream",
          "name": "stderr",
          "text": [
            "\n",
            "15it [00:00, 41.79it/s]\n"
          ]
        },
        {
          "output_type": "stream",
          "name": "stdout",
          "text": [
            "Val Loss:0.4245, Val_Acc:31.67\n",
            "loss 0.5465 - accu 28.1250 - val_loss 0.4443 - val_accu 32.9167\n",
            "Epoch [4/500]\n"
          ]
        },
        {
          "output_type": "stream",
          "name": "stderr",
          "text": [
            "100%|██████████| 60/60 [00:00<00:00, 79.41it/s] "
          ]
        },
        {
          "output_type": "stream",
          "name": "stdout",
          "text": [
            "Train Loss:0.4775, Train Acc:33.75\n",
            "validation start\n"
          ]
        },
        {
          "output_type": "stream",
          "name": "stderr",
          "text": [
            "\n",
            "15it [00:00, 46.37it/s]"
          ]
        },
        {
          "output_type": "stream",
          "name": "stdout",
          "text": [
            "Val Loss:0.4002, Val_Acc:26.67\n",
            "loss 0.5327 - accu 29.2500 - val_loss 0.4355 - val_accu 31.6667\n",
            "Epoch [5/500]\n"
          ]
        },
        {
          "output_type": "stream",
          "name": "stderr",
          "text": [
            "\n",
            "100%|██████████| 60/60 [00:00<00:00, 80.29it/s] "
          ]
        },
        {
          "output_type": "stream",
          "name": "stdout",
          "text": [
            "Train Loss:0.4375, Train Acc:37.08\n",
            "validation start\n"
          ]
        },
        {
          "output_type": "stream",
          "name": "stderr",
          "text": [
            "\n",
            "15it [00:00, 34.28it/s]"
          ]
        },
        {
          "output_type": "stream",
          "name": "stdout",
          "text": [
            "Val Loss:0.4100, Val_Acc:35.00\n",
            "loss 0.5168 - accu 30.5556 - val_loss 0.4312 - val_accu 32.2222\n",
            "Epoch [6/500]\n"
          ]
        },
        {
          "output_type": "stream",
          "name": "stderr",
          "text": [
            "\n",
            "100%|██████████| 60/60 [00:00<00:00, 82.59it/s] "
          ]
        },
        {
          "output_type": "stream",
          "name": "stdout",
          "text": [
            "Train Loss:0.4722, Train Acc:34.17\n",
            "validation start\n"
          ]
        },
        {
          "output_type": "stream",
          "name": "stderr",
          "text": [
            "\n",
            "15it [00:00, 40.48it/s]"
          ]
        },
        {
          "output_type": "stream",
          "name": "stdout",
          "text": [
            "Val Loss:0.4572, Val_Acc:38.33\n",
            "loss 0.5104 - accu 31.0714 - val_loss 0.4349 - val_accu 33.0952\n",
            "Epoch [7/500]\n"
          ]
        },
        {
          "output_type": "stream",
          "name": "stderr",
          "text": [
            "\n",
            "100%|██████████| 60/60 [00:00<00:00, 80.78it/s] "
          ]
        },
        {
          "output_type": "stream",
          "name": "stdout",
          "text": [
            "Train Loss:0.4382, Train Acc:37.08\n",
            "validation start\n"
          ]
        },
        {
          "output_type": "stream",
          "name": "stderr",
          "text": [
            "\n",
            "15it [00:00, 37.59it/s]"
          ]
        },
        {
          "output_type": "stream",
          "name": "stdout",
          "text": [
            "Val Loss:0.4241, Val_Acc:40.00\n",
            "loss 0.5014 - accu 31.8229 - val_loss 0.4336 - val_accu 33.9583\n",
            "Epoch [8/500]\n"
          ]
        },
        {
          "output_type": "stream",
          "name": "stderr",
          "text": [
            "\n",
            "100%|██████████| 60/60 [00:00<00:00, 78.91it/s] "
          ]
        },
        {
          "output_type": "stream",
          "name": "stdout",
          "text": [
            "Train Loss:0.4385, Train Acc:35.83\n",
            "validation start\n"
          ]
        },
        {
          "output_type": "stream",
          "name": "stderr",
          "text": [
            "\n",
            "15it [00:00, 44.61it/s]\n"
          ]
        },
        {
          "output_type": "stream",
          "name": "stdout",
          "text": [
            "Val Loss:0.4184, Val_Acc:36.67\n",
            "loss 0.4944 - accu 32.2685 - val_loss 0.4319 - val_accu 34.2593\n",
            "Epoch [9/500]\n"
          ]
        },
        {
          "output_type": "stream",
          "name": "stderr",
          "text": [
            "100%|██████████| 60/60 [00:00<00:00, 79.49it/s] "
          ]
        },
        {
          "output_type": "stream",
          "name": "stdout",
          "text": [
            "Train Loss:0.4432, Train Acc:34.58\n",
            "validation start\n"
          ]
        },
        {
          "output_type": "stream",
          "name": "stderr",
          "text": [
            "\n",
            "15it [00:00, 38.86it/s]"
          ]
        },
        {
          "output_type": "stream",
          "name": "stdout",
          "text": [
            "Val Loss:0.4652, Val_Acc:36.67\n",
            "loss 0.4893 - accu 32.5000 - val_loss 0.4352 - val_accu 34.5000\n",
            "Epoch [10/500]\n"
          ]
        },
        {
          "output_type": "stream",
          "name": "stderr",
          "text": [
            "\n",
            "100%|██████████| 60/60 [00:00<00:00, 77.83it/s] "
          ]
        },
        {
          "output_type": "stream",
          "name": "stdout",
          "text": [
            "Train Loss:0.3992, Train Acc:42.92\n",
            "validation start\n"
          ]
        },
        {
          "output_type": "stream",
          "name": "stderr",
          "text": [
            "\n",
            "15it [00:00, 39.53it/s]"
          ]
        },
        {
          "output_type": "stream",
          "name": "stdout",
          "text": [
            "Val Loss:0.4090, Val_Acc:31.67\n",
            "loss 0.4811 - accu 33.4470 - val_loss 0.4328 - val_accu 34.2424\n",
            "Epoch [11/500]\n"
          ]
        },
        {
          "output_type": "stream",
          "name": "stderr",
          "text": [
            "\n",
            "100%|██████████| 60/60 [00:00<00:00, 81.34it/s] "
          ]
        },
        {
          "output_type": "stream",
          "name": "stdout",
          "text": [
            "Train Loss:0.4007, Train Acc:35.42\n",
            "validation start\n"
          ]
        },
        {
          "output_type": "stream",
          "name": "stderr",
          "text": [
            "\n",
            "15it [00:00, 35.41it/s]"
          ]
        },
        {
          "output_type": "stream",
          "name": "stdout",
          "text": [
            "Val Loss:0.4124, Val_Acc:40.00\n",
            "loss 0.4744 - accu 33.6111 - val_loss 0.4311 - val_accu 34.7222\n",
            "Epoch [12/500]\n"
          ]
        },
        {
          "output_type": "stream",
          "name": "stderr",
          "text": [
            "\n",
            "100%|██████████| 60/60 [00:00<00:00, 79.68it/s] "
          ]
        },
        {
          "output_type": "stream",
          "name": "stdout",
          "text": [
            "Train Loss:0.3946, Train Acc:39.58\n",
            "validation start\n"
          ]
        },
        {
          "output_type": "stream",
          "name": "stderr",
          "text": [
            "\n",
            "15it [00:00, 40.39it/s]"
          ]
        },
        {
          "output_type": "stream",
          "name": "stdout",
          "text": [
            "Val Loss:0.4544, Val_Acc:38.33\n",
            "loss 0.4683 - accu 34.0705 - val_loss 0.4329 - val_accu 35.0000\n",
            "=> saved best model\n",
            "Epoch [13/500]\n"
          ]
        },
        {
          "output_type": "stream",
          "name": "stderr",
          "text": [
            "\n",
            "100%|██████████| 60/60 [00:00<00:00, 78.75it/s] "
          ]
        },
        {
          "output_type": "stream",
          "name": "stdout",
          "text": [
            "Train Loss:0.4276, Train Acc:36.25\n",
            "validation start\n"
          ]
        },
        {
          "output_type": "stream",
          "name": "stderr",
          "text": [
            "\n",
            "15it [00:00, 33.98it/s]"
          ]
        },
        {
          "output_type": "stream",
          "name": "stdout",
          "text": [
            "Val Loss:0.4078, Val_Acc:40.00\n",
            "loss 0.4654 - accu 34.2262 - val_loss 0.4311 - val_accu 35.3571\n",
            "=> saved best model\n",
            "Epoch [14/500]\n"
          ]
        },
        {
          "output_type": "stream",
          "name": "stderr",
          "text": [
            "\n",
            "100%|██████████| 60/60 [00:00<00:00, 79.91it/s] "
          ]
        },
        {
          "output_type": "stream",
          "name": "stdout",
          "text": [
            "Train Loss:0.3930, Train Acc:43.33\n",
            "validation start\n"
          ]
        },
        {
          "output_type": "stream",
          "name": "stderr",
          "text": [
            "\n",
            "15it [00:00, 36.12it/s]"
          ]
        },
        {
          "output_type": "stream",
          "name": "stdout",
          "text": [
            "Val Loss:0.4105, Val_Acc:30.00\n",
            "loss 0.4605 - accu 34.8333 - val_loss 0.4298 - val_accu 35.0000\n",
            "Epoch [15/500]\n"
          ]
        },
        {
          "output_type": "stream",
          "name": "stderr",
          "text": [
            "\n",
            "100%|██████████| 60/60 [00:00<00:00, 78.49it/s] "
          ]
        },
        {
          "output_type": "stream",
          "name": "stdout",
          "text": [
            "Train Loss:0.4189, Train Acc:37.08\n",
            "validation start\n"
          ]
        },
        {
          "output_type": "stream",
          "name": "stderr",
          "text": [
            "\n",
            "15it [00:00, 36.96it/s]"
          ]
        },
        {
          "output_type": "stream",
          "name": "stdout",
          "text": [
            "Val Loss:0.4195, Val_Acc:38.33\n",
            "loss 0.4579 - accu 34.9740 - val_loss 0.4291 - val_accu 35.2083\n",
            "Epoch [16/500]\n"
          ]
        },
        {
          "output_type": "stream",
          "name": "stderr",
          "text": [
            "\n",
            "100%|██████████| 60/60 [00:00<00:00, 79.43it/s] "
          ]
        },
        {
          "output_type": "stream",
          "name": "stdout",
          "text": [
            "Train Loss:0.3812, Train Acc:42.08\n",
            "validation start\n"
          ]
        },
        {
          "output_type": "stream",
          "name": "stderr",
          "text": [
            "\n",
            "15it [00:00, 36.16it/s]"
          ]
        },
        {
          "output_type": "stream",
          "name": "stdout",
          "text": [
            "Val Loss:0.4398, Val_Acc:36.67\n",
            "loss 0.4534 - accu 35.3922 - val_loss 0.4297 - val_accu 35.2941\n",
            "Epoch [17/500]\n"
          ]
        },
        {
          "output_type": "stream",
          "name": "stderr",
          "text": [
            "\n",
            "100%|██████████| 60/60 [00:00<00:00, 74.56it/s] "
          ]
        },
        {
          "output_type": "stream",
          "name": "stdout",
          "text": [
            "Train Loss:0.3965, Train Acc:40.00\n",
            "validation start\n"
          ]
        },
        {
          "output_type": "stream",
          "name": "stderr",
          "text": [
            "\n",
            "15it [00:00, 38.13it/s]"
          ]
        },
        {
          "output_type": "stream",
          "name": "stdout",
          "text": [
            "Val Loss:0.4188, Val_Acc:38.33\n",
            "loss 0.4502 - accu 35.6481 - val_loss 0.4291 - val_accu 35.4630\n",
            "=> saved best model\n",
            "Epoch [18/500]\n"
          ]
        },
        {
          "output_type": "stream",
          "name": "stderr",
          "text": [
            "\n",
            "100%|██████████| 60/60 [00:00<00:00, 84.29it/s] "
          ]
        },
        {
          "output_type": "stream",
          "name": "stdout",
          "text": [
            "Train Loss:0.3810, Train Acc:43.75\n",
            "validation start\n"
          ]
        },
        {
          "output_type": "stream",
          "name": "stderr",
          "text": [
            "\n",
            "15it [00:00, 39.41it/s]"
          ]
        },
        {
          "output_type": "stream",
          "name": "stdout",
          "text": [
            "Val Loss:0.4151, Val_Acc:31.67\n",
            "loss 0.4466 - accu 36.0746 - val_loss 0.4284 - val_accu 35.2632\n",
            "Epoch [19/500]\n"
          ]
        },
        {
          "output_type": "stream",
          "name": "stderr",
          "text": [
            "\n",
            "100%|██████████| 60/60 [00:00<00:00, 80.04it/s] "
          ]
        },
        {
          "output_type": "stream",
          "name": "stdout",
          "text": [
            "Train Loss:0.3808, Train Acc:44.17\n",
            "validation start\n"
          ]
        },
        {
          "output_type": "stream",
          "name": "stderr",
          "text": [
            "\n",
            "15it [00:00, 41.13it/s]"
          ]
        },
        {
          "output_type": "stream",
          "name": "stdout",
          "text": [
            "Val Loss:0.4383, Val_Acc:38.33\n",
            "loss 0.4433 - accu 36.4792 - val_loss 0.4289 - val_accu 35.4167\n",
            "Epoch [20/500]\n"
          ]
        },
        {
          "output_type": "stream",
          "name": "stderr",
          "text": [
            "\n",
            "100%|██████████| 60/60 [00:00<00:00, 74.42it/s]"
          ]
        },
        {
          "output_type": "stream",
          "name": "stdout",
          "text": [
            "Train Loss:0.3909, Train Acc:44.17\n",
            "validation start\n"
          ]
        },
        {
          "output_type": "stream",
          "name": "stderr",
          "text": [
            "\n",
            "15it [00:00, 37.76it/s]"
          ]
        },
        {
          "output_type": "stream",
          "name": "stdout",
          "text": [
            "Val Loss:0.4130, Val_Acc:40.00\n",
            "loss 0.4408 - accu 36.8452 - val_loss 0.4281 - val_accu 35.6349\n",
            "=> saved best model\n",
            "Epoch [21/500]\n"
          ]
        },
        {
          "output_type": "stream",
          "name": "stderr",
          "text": [
            "\n",
            "100%|██████████| 60/60 [00:00<00:00, 74.67it/s]"
          ]
        },
        {
          "output_type": "stream",
          "name": "stdout",
          "text": [
            "Train Loss:0.3740, Train Acc:48.33\n",
            "validation start\n"
          ]
        },
        {
          "output_type": "stream",
          "name": "stderr",
          "text": [
            "\n",
            "15it [00:00, 38.35it/s]"
          ]
        },
        {
          "output_type": "stream",
          "name": "stdout",
          "text": [
            "Val Loss:0.4175, Val_Acc:38.33\n",
            "loss 0.4378 - accu 37.3674 - val_loss 0.4276 - val_accu 35.7576\n",
            "=> saved best model\n",
            "Epoch [22/500]\n"
          ]
        },
        {
          "output_type": "stream",
          "name": "stderr",
          "text": [
            "\n",
            "100%|██████████| 60/60 [00:00<00:00, 82.36it/s] "
          ]
        },
        {
          "output_type": "stream",
          "name": "stdout",
          "text": [
            "Train Loss:0.3612, Train Acc:47.08\n",
            "validation start\n"
          ]
        },
        {
          "output_type": "stream",
          "name": "stderr",
          "text": [
            "\n",
            "15it [00:00, 36.32it/s]                      "
          ]
        },
        {
          "output_type": "stream",
          "name": "stdout",
          "text": [
            "Val Loss:0.4102, Val_Acc:31.67\n",
            "loss 0.4345 - accu 37.7899 - val_loss 0.4269 - val_accu 35.5797\n",
            "Epoch [23/500]\n"
          ]
        },
        {
          "output_type": "stream",
          "name": "stderr",
          "text": [
            "\n",
            "100%|██████████| 60/60 [00:00<00:00, 75.49it/s]"
          ]
        },
        {
          "output_type": "stream",
          "name": "stdout",
          "text": [
            "Train Loss:0.3612, Train Acc:46.25\n",
            "validation start\n"
          ]
        },
        {
          "output_type": "stream",
          "name": "stderr",
          "text": [
            "\n",
            "15it [00:00, 37.47it/s]"
          ]
        },
        {
          "output_type": "stream",
          "name": "stdout",
          "text": [
            "Val Loss:0.4351, Val_Acc:41.67\n",
            "loss 0.4314 - accu 38.1424 - val_loss 0.4272 - val_accu 35.8333\n",
            "=> saved best model\n",
            "Epoch [24/500]\n"
          ]
        },
        {
          "output_type": "stream",
          "name": "stderr",
          "text": [
            "\n",
            "100%|██████████| 60/60 [00:00<00:00, 83.11it/s]"
          ]
        },
        {
          "output_type": "stream",
          "name": "stdout",
          "text": [
            "Train Loss:0.3666, Train Acc:47.92\n",
            "validation start\n"
          ]
        },
        {
          "output_type": "stream",
          "name": "stderr",
          "text": [
            "\n",
            "15it [00:00, 38.51it/s]                      "
          ]
        },
        {
          "output_type": "stream",
          "name": "stdout",
          "text": [
            "Val Loss:0.4173, Val_Acc:35.00\n",
            "loss 0.4288 - accu 38.5333 - val_loss 0.4268 - val_accu 35.8000\n",
            "Epoch [25/500]\n"
          ]
        },
        {
          "output_type": "stream",
          "name": "stderr",
          "text": [
            "\n",
            "100%|██████████| 60/60 [00:00<00:00, 81.32it/s] "
          ]
        },
        {
          "output_type": "stream",
          "name": "stdout",
          "text": [
            "Train Loss:0.3616, Train Acc:45.83\n",
            "validation start\n"
          ]
        },
        {
          "output_type": "stream",
          "name": "stderr",
          "text": [
            "\n",
            "15it [00:00, 35.58it/s]"
          ]
        },
        {
          "output_type": "stream",
          "name": "stdout",
          "text": [
            "Val Loss:0.4313, Val_Acc:38.33\n",
            "loss 0.4262 - accu 38.8141 - val_loss 0.4270 - val_accu 35.8974\n",
            "=> saved best model\n",
            "Epoch [26/500]\n"
          ]
        },
        {
          "output_type": "stream",
          "name": "stderr",
          "text": [
            "\n",
            "100%|██████████| 60/60 [00:00<00:00, 81.47it/s] "
          ]
        },
        {
          "output_type": "stream",
          "name": "stdout",
          "text": [
            "Train Loss:0.3755, Train Acc:48.75\n",
            "validation start\n"
          ]
        },
        {
          "output_type": "stream",
          "name": "stderr",
          "text": [
            "\n",
            "15it [00:00, 38.29it/s]"
          ]
        },
        {
          "output_type": "stream",
          "name": "stdout",
          "text": [
            "Val Loss:0.4213, Val_Acc:35.00\n",
            "loss 0.4243 - accu 39.1821 - val_loss 0.4268 - val_accu 35.8642\n",
            "Epoch [27/500]\n"
          ]
        },
        {
          "output_type": "stream",
          "name": "stderr",
          "text": [
            "\n",
            "100%|██████████| 60/60 [00:00<00:00, 85.99it/s] "
          ]
        },
        {
          "output_type": "stream",
          "name": "stdout",
          "text": [
            "Train Loss:0.3702, Train Acc:47.08\n",
            "validation start\n"
          ]
        },
        {
          "output_type": "stream",
          "name": "stderr",
          "text": [
            "\n",
            "15it [00:00, 35.23it/s]"
          ]
        },
        {
          "output_type": "stream",
          "name": "stdout",
          "text": [
            "Val Loss:0.4164, Val_Acc:38.33\n",
            "loss 0.4224 - accu 39.4643 - val_loss 0.4264 - val_accu 35.9524\n",
            "=> saved best model\n",
            "Epoch [28/500]\n"
          ]
        },
        {
          "output_type": "stream",
          "name": "stderr",
          "text": [
            "\n",
            "100%|██████████| 60/60 [00:00<00:00, 79.12it/s] "
          ]
        },
        {
          "output_type": "stream",
          "name": "stdout",
          "text": [
            "Train Loss:0.3606, Train Acc:51.25\n",
            "validation start\n"
          ]
        },
        {
          "output_type": "stream",
          "name": "stderr",
          "text": [
            "\n",
            "15it [00:00, 41.39it/s]"
          ]
        },
        {
          "output_type": "stream",
          "name": "stdout",
          "text": [
            "Val Loss:0.4367, Val_Acc:38.33\n",
            "loss 0.4203 - accu 39.8707 - val_loss 0.4268 - val_accu 36.0345\n",
            "=> saved best model\n",
            "Epoch [29/500]\n"
          ]
        },
        {
          "output_type": "stream",
          "name": "stderr",
          "text": [
            "\n",
            "100%|██████████| 60/60 [00:00<00:00, 78.25it/s]"
          ]
        },
        {
          "output_type": "stream",
          "name": "stdout",
          "text": [
            "Train Loss:0.3673, Train Acc:49.17\n",
            "validation start\n"
          ]
        },
        {
          "output_type": "stream",
          "name": "stderr",
          "text": [
            "\n",
            "15it [00:00, 40.27it/s]"
          ]
        },
        {
          "output_type": "stream",
          "name": "stdout",
          "text": [
            "Val Loss:0.4120, Val_Acc:31.67\n",
            "loss 0.4185 - accu 40.1806 - val_loss 0.4263 - val_accu 35.8889\n",
            "Epoch [30/500]\n"
          ]
        },
        {
          "output_type": "stream",
          "name": "stderr",
          "text": [
            "\n",
            "100%|██████████| 60/60 [00:00<00:00, 83.34it/s] "
          ]
        },
        {
          "output_type": "stream",
          "name": "stdout",
          "text": [
            "Train Loss:0.3682, Train Acc:44.17\n",
            "validation start\n"
          ]
        },
        {
          "output_type": "stream",
          "name": "stderr",
          "text": [
            "\n",
            "15it [00:00, 41.21it/s]"
          ]
        },
        {
          "output_type": "stream",
          "name": "stdout",
          "text": [
            "Val Loss:0.4106, Val_Acc:31.67\n",
            "loss 0.4169 - accu 40.3091 - val_loss 0.4258 - val_accu 35.7527\n",
            "Epoch [31/500]\n"
          ]
        },
        {
          "output_type": "stream",
          "name": "stderr",
          "text": [
            "\n",
            "100%|██████████| 60/60 [00:00<00:00, 81.15it/s] "
          ]
        },
        {
          "output_type": "stream",
          "name": "stdout",
          "text": [
            "Train Loss:0.3611, Train Acc:45.83\n",
            "validation start\n"
          ]
        },
        {
          "output_type": "stream",
          "name": "stderr",
          "text": [
            "\n",
            "15it [00:00, 34.01it/s]"
          ]
        },
        {
          "output_type": "stream",
          "name": "stdout",
          "text": [
            "Val Loss:0.4185, Val_Acc:33.33\n",
            "loss 0.4151 - accu 40.4818 - val_loss 0.4255 - val_accu 35.6771\n",
            "Epoch [32/500]\n"
          ]
        },
        {
          "output_type": "stream",
          "name": "stderr",
          "text": [
            "\n",
            "100%|██████████| 60/60 [00:00<00:00, 73.56it/s] "
          ]
        },
        {
          "output_type": "stream",
          "name": "stdout",
          "text": [
            "Train Loss:0.3538, Train Acc:44.17\n",
            "validation start\n"
          ]
        },
        {
          "output_type": "stream",
          "name": "stderr",
          "text": [
            "\n",
            "15it [00:00, 37.86it/s]"
          ]
        },
        {
          "output_type": "stream",
          "name": "stdout",
          "text": [
            "Val Loss:0.4161, Val_Acc:36.67\n",
            "loss 0.4133 - accu 40.5934 - val_loss 0.4253 - val_accu 35.7071\n",
            "Epoch [33/500]\n"
          ]
        },
        {
          "output_type": "stream",
          "name": "stderr",
          "text": [
            "\n",
            "100%|██████████| 60/60 [00:00<00:00, 75.24it/s]\n"
          ]
        },
        {
          "output_type": "stream",
          "name": "stdout",
          "text": [
            "Train Loss:0.3575, Train Acc:44.58\n",
            "validation start\n"
          ]
        },
        {
          "output_type": "stream",
          "name": "stderr",
          "text": [
            "15it [00:00, 41.88it/s]"
          ]
        },
        {
          "output_type": "stream",
          "name": "stdout",
          "text": [
            "Val Loss:0.4251, Val_Acc:36.67\n",
            "loss 0.4116 - accu 40.7108 - val_loss 0.4253 - val_accu 35.7353\n",
            "Epoch [34/500]\n"
          ]
        },
        {
          "output_type": "stream",
          "name": "stderr",
          "text": [
            "\n",
            "100%|██████████| 60/60 [00:00<00:00, 80.31it/s] "
          ]
        },
        {
          "output_type": "stream",
          "name": "stdout",
          "text": [
            "Train Loss:0.3616, Train Acc:52.08\n",
            "validation start\n"
          ]
        },
        {
          "output_type": "stream",
          "name": "stderr",
          "text": [
            "\n",
            "15it [00:00, 38.91it/s]"
          ]
        },
        {
          "output_type": "stream",
          "name": "stdout",
          "text": [
            "Val Loss:0.4188, Val_Acc:31.67\n",
            "loss 0.4102 - accu 41.0357 - val_loss 0.4251 - val_accu 35.6190\n",
            "Epoch [35/500]\n"
          ]
        },
        {
          "output_type": "stream",
          "name": "stderr",
          "text": [
            "\n",
            "100%|██████████| 60/60 [00:00<00:00, 78.50it/s] "
          ]
        },
        {
          "output_type": "stream",
          "name": "stdout",
          "text": [
            "Train Loss:0.3663, Train Acc:45.00\n",
            "validation start\n"
          ]
        },
        {
          "output_type": "stream",
          "name": "stderr",
          "text": [
            "\n",
            "15it [00:00, 40.69it/s]"
          ]
        },
        {
          "output_type": "stream",
          "name": "stdout",
          "text": [
            "Val Loss:0.4204, Val_Acc:36.67\n",
            "loss 0.4090 - accu 41.1458 - val_loss 0.4249 - val_accu 35.6481\n",
            "Epoch [36/500]\n"
          ]
        },
        {
          "output_type": "stream",
          "name": "stderr",
          "text": [
            "\n",
            "100%|██████████| 60/60 [00:00<00:00, 77.69it/s] "
          ]
        },
        {
          "output_type": "stream",
          "name": "stdout",
          "text": [
            "Train Loss:0.3525, Train Acc:49.17\n",
            "validation start\n"
          ]
        },
        {
          "output_type": "stream",
          "name": "stderr",
          "text": [
            "\n",
            "15it [00:00, 38.47it/s]"
          ]
        },
        {
          "output_type": "stream",
          "name": "stdout",
          "text": [
            "Val Loss:0.4273, Val_Acc:40.00\n",
            "loss 0.4075 - accu 41.3626 - val_loss 0.4250 - val_accu 35.7658\n",
            "Epoch [37/500]\n"
          ]
        },
        {
          "output_type": "stream",
          "name": "stderr",
          "text": [
            "\n",
            "100%|██████████| 60/60 [00:00<00:00, 74.04it/s]"
          ]
        },
        {
          "output_type": "stream",
          "name": "stdout",
          "text": [
            "Train Loss:0.3572, Train Acc:49.58\n",
            "validation start\n"
          ]
        },
        {
          "output_type": "stream",
          "name": "stderr",
          "text": [
            "\n",
            "15it [00:00, 35.41it/s]\n"
          ]
        },
        {
          "output_type": "stream",
          "name": "stdout",
          "text": [
            "Val Loss:0.4273, Val_Acc:40.00\n",
            "loss 0.4061 - accu 41.5789 - val_loss 0.4251 - val_accu 35.8772\n",
            "Epoch [38/500]\n"
          ]
        },
        {
          "output_type": "stream",
          "name": "stderr",
          "text": [
            "100%|██████████| 60/60 [00:00<00:00, 79.47it/s] "
          ]
        },
        {
          "output_type": "stream",
          "name": "stdout",
          "text": [
            "Train Loss:0.3489, Train Acc:52.08\n",
            "validation start\n"
          ]
        },
        {
          "output_type": "stream",
          "name": "stderr",
          "text": [
            "\n",
            "15it [00:00, 34.31it/s]"
          ]
        },
        {
          "output_type": "stream",
          "name": "stdout",
          "text": [
            "Val Loss:0.4278, Val_Acc:40.00\n",
            "loss 0.4047 - accu 41.8483 - val_loss 0.4251 - val_accu 35.9829\n",
            "Epoch [39/500]\n"
          ]
        },
        {
          "output_type": "stream",
          "name": "stderr",
          "text": [
            "\n",
            "100%|██████████| 60/60 [00:00<00:00, 79.40it/s] "
          ]
        },
        {
          "output_type": "stream",
          "name": "stdout",
          "text": [
            "Train Loss:0.3491, Train Acc:51.25\n",
            "validation start\n"
          ]
        },
        {
          "output_type": "stream",
          "name": "stderr",
          "text": [
            "\n",
            "15it [00:00, 38.18it/s]"
          ]
        },
        {
          "output_type": "stream",
          "name": "stdout",
          "text": [
            "Val Loss:0.4254, Val_Acc:38.33\n",
            "loss 0.4033 - accu 42.0833 - val_loss 0.4251 - val_accu 36.0417\n",
            "=> saved best model\n",
            "Epoch [40/500]\n"
          ]
        },
        {
          "output_type": "stream",
          "name": "stderr",
          "text": [
            "\n",
            "100%|██████████| 60/60 [00:00<00:00, 73.16it/s]"
          ]
        },
        {
          "output_type": "stream",
          "name": "stdout",
          "text": [
            "Train Loss:0.3693, Train Acc:49.17\n",
            "validation start\n"
          ]
        },
        {
          "output_type": "stream",
          "name": "stderr",
          "text": [
            "\n",
            "15it [00:00, 37.41it/s]                      "
          ]
        },
        {
          "output_type": "stream",
          "name": "stdout",
          "text": [
            "Val Loss:0.4235, Val_Acc:36.67\n",
            "loss 0.4025 - accu 42.2561 - val_loss 0.4251 - val_accu 36.0569\n",
            "=> saved best model\n",
            "Epoch [41/500]\n"
          ]
        },
        {
          "output_type": "stream",
          "name": "stderr",
          "text": [
            "\n",
            "100%|██████████| 60/60 [00:00<00:00, 80.24it/s] "
          ]
        },
        {
          "output_type": "stream",
          "name": "stdout",
          "text": [
            "Train Loss:0.3530, Train Acc:51.67\n",
            "validation start\n"
          ]
        },
        {
          "output_type": "stream",
          "name": "stderr",
          "text": [
            "\n",
            "15it [00:00, 39.28it/s]"
          ]
        },
        {
          "output_type": "stream",
          "name": "stdout",
          "text": [
            "Val Loss:0.4311, Val_Acc:38.33\n",
            "loss 0.4013 - accu 42.4802 - val_loss 0.4252 - val_accu 36.1111\n",
            "=> saved best model\n",
            "Epoch [42/500]\n"
          ]
        },
        {
          "output_type": "stream",
          "name": "stderr",
          "text": [
            "\n",
            "100%|██████████| 60/60 [00:00<00:00, 79.17it/s] "
          ]
        },
        {
          "output_type": "stream",
          "name": "stdout",
          "text": [
            "Train Loss:0.3500, Train Acc:49.58\n",
            "validation start\n"
          ]
        },
        {
          "output_type": "stream",
          "name": "stderr",
          "text": [
            "\n",
            "15it [00:00, 36.08it/s]"
          ]
        },
        {
          "output_type": "stream",
          "name": "stdout",
          "text": [
            "Val Loss:0.4330, Val_Acc:38.33\n",
            "loss 0.4001 - accu 42.6453 - val_loss 0.4254 - val_accu 36.1628\n",
            "=> saved best model\n",
            "Epoch [43/500]\n"
          ]
        },
        {
          "output_type": "stream",
          "name": "stderr",
          "text": [
            "\n",
            "100%|██████████| 60/60 [00:00<00:00, 76.93it/s] "
          ]
        },
        {
          "output_type": "stream",
          "name": "stdout",
          "text": [
            "Train Loss:0.3527, Train Acc:50.00\n",
            "validation start\n"
          ]
        },
        {
          "output_type": "stream",
          "name": "stderr",
          "text": [
            "\n",
            "15it [00:00, 34.64it/s]"
          ]
        },
        {
          "output_type": "stream",
          "name": "stdout",
          "text": [
            "Val Loss:0.4538, Val_Acc:38.33\n",
            "loss 0.3990 - accu 42.8125 - val_loss 0.4261 - val_accu 36.2121\n",
            "=> saved best model\n",
            "Epoch [44/500]\n"
          ]
        },
        {
          "output_type": "stream",
          "name": "stderr",
          "text": [
            "\n",
            "100%|██████████| 60/60 [00:00<00:00, 77.62it/s] "
          ]
        },
        {
          "output_type": "stream",
          "name": "stdout",
          "text": [
            "Train Loss:0.3481, Train Acc:52.50\n",
            "validation start\n"
          ]
        },
        {
          "output_type": "stream",
          "name": "stderr",
          "text": [
            "\n",
            "15it [00:00, 34.59it/s]"
          ]
        },
        {
          "output_type": "stream",
          "name": "stdout",
          "text": [
            "Val Loss:0.4333, Val_Acc:36.67\n",
            "loss 0.3979 - accu 43.0278 - val_loss 0.4262 - val_accu 36.2222\n",
            "=> saved best model\n",
            "Epoch [45/500]\n"
          ]
        },
        {
          "output_type": "stream",
          "name": "stderr",
          "text": [
            "\n",
            "100%|██████████| 60/60 [00:00<00:00, 74.66it/s] "
          ]
        },
        {
          "output_type": "stream",
          "name": "stdout",
          "text": [
            "Train Loss:0.3573, Train Acc:46.25\n",
            "validation start\n"
          ]
        },
        {
          "output_type": "stream",
          "name": "stderr",
          "text": [
            "\n",
            "15it [00:00, 36.30it/s]"
          ]
        },
        {
          "output_type": "stream",
          "name": "stdout",
          "text": [
            "Val Loss:0.4379, Val_Acc:35.00\n",
            "loss 0.3970 - accu 43.0978 - val_loss 0.4265 - val_accu 36.1957\n",
            "Epoch [46/500]\n"
          ]
        },
        {
          "output_type": "stream",
          "name": "stderr",
          "text": [
            "\n",
            "100%|██████████| 60/60 [00:00<00:00, 80.43it/s] "
          ]
        },
        {
          "output_type": "stream",
          "name": "stdout",
          "text": [
            "Train Loss:0.3507, Train Acc:51.25\n",
            "validation start\n"
          ]
        },
        {
          "output_type": "stream",
          "name": "stderr",
          "text": [
            "\n",
            "15it [00:00, 37.01it/s]"
          ]
        },
        {
          "output_type": "stream",
          "name": "stdout",
          "text": [
            "Val Loss:0.4298, Val_Acc:36.67\n",
            "loss 0.3960 - accu 43.2713 - val_loss 0.4266 - val_accu 36.2057\n",
            "Epoch [47/500]\n"
          ]
        },
        {
          "output_type": "stream",
          "name": "stderr",
          "text": [
            "\n",
            "100%|██████████| 60/60 [00:00<00:00, 79.08it/s] "
          ]
        },
        {
          "output_type": "stream",
          "name": "stdout",
          "text": [
            "Train Loss:0.3432, Train Acc:50.83\n",
            "validation start\n"
          ]
        },
        {
          "output_type": "stream",
          "name": "stderr",
          "text": [
            "\n",
            "15it [00:00, 42.86it/s]"
          ]
        },
        {
          "output_type": "stream",
          "name": "stdout",
          "text": [
            "Val Loss:0.4358, Val_Acc:36.67\n",
            "loss 0.3949 - accu 43.4288 - val_loss 0.4268 - val_accu 36.2153\n",
            "Epoch [48/500]\n"
          ]
        },
        {
          "output_type": "stream",
          "name": "stderr",
          "text": [
            "\n",
            "100%|██████████| 60/60 [00:00<00:00, 76.00it/s] "
          ]
        },
        {
          "output_type": "stream",
          "name": "stdout",
          "text": [
            "Train Loss:0.3481, Train Acc:52.50\n",
            "validation start\n"
          ]
        },
        {
          "output_type": "stream",
          "name": "stderr",
          "text": [
            "\n",
            "15it [00:00, 37.18it/s]"
          ]
        },
        {
          "output_type": "stream",
          "name": "stdout",
          "text": [
            "Val Loss:0.4267, Val_Acc:40.00\n",
            "loss 0.3940 - accu 43.6139 - val_loss 0.4267 - val_accu 36.2925\n",
            "=> saved best model\n",
            "Epoch [49/500]\n"
          ]
        },
        {
          "output_type": "stream",
          "name": "stderr",
          "text": [
            "\n",
            "100%|██████████| 60/60 [00:00<00:00, 77.14it/s] "
          ]
        },
        {
          "output_type": "stream",
          "name": "stdout",
          "text": [
            "Train Loss:0.3540, Train Acc:49.17\n",
            "validation start\n"
          ]
        },
        {
          "output_type": "stream",
          "name": "stderr",
          "text": [
            "\n",
            "15it [00:00, 37.83it/s]                      "
          ]
        },
        {
          "output_type": "stream",
          "name": "stdout",
          "text": [
            "Val Loss:0.4328, Val_Acc:36.67\n",
            "loss 0.3932 - accu 43.7250 - val_loss 0.4269 - val_accu 36.3000\n",
            "=> saved best model\n",
            "Epoch [50/500]\n"
          ]
        },
        {
          "output_type": "stream",
          "name": "stderr",
          "text": [
            "\n",
            "100%|██████████| 60/60 [00:00<00:00, 74.35it/s]"
          ]
        },
        {
          "output_type": "stream",
          "name": "stdout",
          "text": [
            "Train Loss:0.3465, Train Acc:52.50\n",
            "validation start\n"
          ]
        },
        {
          "output_type": "stream",
          "name": "stderr",
          "text": [
            "\n",
            "15it [00:00, 36.62it/s]"
          ]
        },
        {
          "output_type": "stream",
          "name": "stdout",
          "text": [
            "Val Loss:0.4338, Val_Acc:41.67\n",
            "loss 0.3922 - accu 43.8971 - val_loss 0.4270 - val_accu 36.4052\n",
            "=> saved best model\n",
            "Epoch [51/500]\n"
          ]
        },
        {
          "output_type": "stream",
          "name": "stderr",
          "text": [
            "\n",
            "100%|██████████| 60/60 [00:00<00:00, 78.52it/s] "
          ]
        },
        {
          "output_type": "stream",
          "name": "stdout",
          "text": [
            "Train Loss:0.3423, Train Acc:48.33\n",
            "validation start\n"
          ]
        },
        {
          "output_type": "stream",
          "name": "stderr",
          "text": [
            "\n",
            "15it [00:00, 39.37it/s]"
          ]
        },
        {
          "output_type": "stream",
          "name": "stdout",
          "text": [
            "Val Loss:0.4310, Val_Acc:38.33\n",
            "loss 0.3913 - accu 43.9824 - val_loss 0.4271 - val_accu 36.4423\n",
            "=> saved best model\n",
            "Epoch [52/500]\n"
          ]
        },
        {
          "output_type": "stream",
          "name": "stderr",
          "text": [
            "\n",
            "100%|██████████| 60/60 [00:00<00:00, 80.31it/s] "
          ]
        },
        {
          "output_type": "stream",
          "name": "stdout",
          "text": [
            "Train Loss:0.3448, Train Acc:49.17\n",
            "validation start\n"
          ]
        },
        {
          "output_type": "stream",
          "name": "stderr",
          "text": [
            "\n",
            "15it [00:00, 37.33it/s]"
          ]
        },
        {
          "output_type": "stream",
          "name": "stdout",
          "text": [
            "Val Loss:0.4441, Val_Acc:41.67\n",
            "loss 0.3904 - accu 44.0802 - val_loss 0.4274 - val_accu 36.5409\n",
            "=> saved best model\n",
            "Epoch [53/500]\n"
          ]
        },
        {
          "output_type": "stream",
          "name": "stderr",
          "text": [
            "\n",
            "100%|██████████| 60/60 [00:00<00:00, 76.57it/s] "
          ]
        },
        {
          "output_type": "stream",
          "name": "stdout",
          "text": [
            "Train Loss:0.3518, Train Acc:52.50\n",
            "validation start\n"
          ]
        },
        {
          "output_type": "stream",
          "name": "stderr",
          "text": [
            "\n",
            "15it [00:00, 39.30it/s]"
          ]
        },
        {
          "output_type": "stream",
          "name": "stdout",
          "text": [
            "Val Loss:0.4415, Val_Acc:40.00\n",
            "loss 0.3897 - accu 44.2361 - val_loss 0.4277 - val_accu 36.6049\n",
            "=> saved best model\n",
            "Epoch [54/500]\n"
          ]
        },
        {
          "output_type": "stream",
          "name": "stderr",
          "text": [
            "\n",
            "100%|██████████| 60/60 [00:00<00:00, 76.77it/s] "
          ]
        },
        {
          "output_type": "stream",
          "name": "stdout",
          "text": [
            "Train Loss:0.3472, Train Acc:50.83\n",
            "validation start\n"
          ]
        },
        {
          "output_type": "stream",
          "name": "stderr",
          "text": [
            "\n",
            "15it [00:00, 35.22it/s]"
          ]
        },
        {
          "output_type": "stream",
          "name": "stdout",
          "text": [
            "Val Loss:0.4403, Val_Acc:40.00\n",
            "loss 0.3889 - accu 44.3561 - val_loss 0.4279 - val_accu 36.6667\n",
            "=> saved best model\n",
            "Epoch [55/500]\n"
          ]
        },
        {
          "output_type": "stream",
          "name": "stderr",
          "text": [
            "\n",
            "100%|██████████| 60/60 [00:00<00:00, 72.49it/s]"
          ]
        },
        {
          "output_type": "stream",
          "name": "stdout",
          "text": [
            "Train Loss:0.3379, Train Acc:47.08\n",
            "validation start\n"
          ]
        },
        {
          "output_type": "stream",
          "name": "stderr",
          "text": [
            "\n",
            "15it [00:00, 33.22it/s]\n"
          ]
        },
        {
          "output_type": "stream",
          "name": "stdout",
          "text": [
            "Val Loss:0.4470, Val_Acc:38.33\n",
            "loss 0.3880 - accu 44.4048 - val_loss 0.4282 - val_accu 36.6964\n",
            "=> saved best model\n",
            "Epoch [56/500]\n"
          ]
        },
        {
          "output_type": "stream",
          "name": "stderr",
          "text": [
            "100%|██████████| 60/60 [00:00<00:00, 79.98it/s] "
          ]
        },
        {
          "output_type": "stream",
          "name": "stdout",
          "text": [
            "Train Loss:0.3318, Train Acc:51.67\n",
            "validation start\n"
          ]
        },
        {
          "output_type": "stream",
          "name": "stderr",
          "text": [
            "\n",
            "15it [00:00, 37.61it/s]"
          ]
        },
        {
          "output_type": "stream",
          "name": "stdout",
          "text": [
            "Val Loss:0.4424, Val_Acc:36.67\n",
            "loss 0.3870 - accu 44.5322 - val_loss 0.4285 - val_accu 36.6959\n",
            "Epoch [57/500]\n"
          ]
        },
        {
          "output_type": "stream",
          "name": "stderr",
          "text": [
            "\n",
            "100%|██████████| 60/60 [00:00<00:00, 83.92it/s] "
          ]
        },
        {
          "output_type": "stream",
          "name": "stdout",
          "text": [
            "Train Loss:0.3352, Train Acc:54.58\n",
            "validation start\n"
          ]
        },
        {
          "output_type": "stream",
          "name": "stderr",
          "text": [
            "\n",
            "15it [00:00, 34.88it/s]\n"
          ]
        },
        {
          "output_type": "stream",
          "name": "stdout",
          "text": [
            "Val Loss:0.4460, Val_Acc:36.67\n",
            "loss 0.3861 - accu 44.7055 - val_loss 0.4288 - val_accu 36.6954\n",
            "Epoch [58/500]\n"
          ]
        },
        {
          "output_type": "stream",
          "name": "stderr",
          "text": [
            "100%|██████████| 60/60 [00:00<00:00, 78.96it/s] "
          ]
        },
        {
          "output_type": "stream",
          "name": "stdout",
          "text": [
            "Train Loss:0.3447, Train Acc:57.08\n",
            "validation start\n"
          ]
        },
        {
          "output_type": "stream",
          "name": "stderr",
          "text": [
            "\n",
            "15it [00:00, 37.41it/s]"
          ]
        },
        {
          "output_type": "stream",
          "name": "stdout",
          "text": [
            "Val Loss:0.4509, Val_Acc:40.00\n",
            "loss 0.3854 - accu 44.9153 - val_loss 0.4292 - val_accu 36.7514\n",
            "=> saved best model\n",
            "Epoch [59/500]\n"
          ]
        },
        {
          "output_type": "stream",
          "name": "stderr",
          "text": [
            "\n",
            "100%|██████████| 60/60 [00:00<00:00, 71.30it/s] "
          ]
        },
        {
          "output_type": "stream",
          "name": "stdout",
          "text": [
            "Train Loss:0.3389, Train Acc:49.58\n",
            "validation start\n"
          ]
        },
        {
          "output_type": "stream",
          "name": "stderr",
          "text": [
            "\n",
            "15it [00:00, 33.40it/s]"
          ]
        },
        {
          "output_type": "stream",
          "name": "stdout",
          "text": [
            "Val Loss:0.4538, Val_Acc:36.67\n",
            "loss 0.3846 - accu 44.9931 - val_loss 0.4296 - val_accu 36.7500\n",
            "Epoch [60/500]\n"
          ]
        },
        {
          "output_type": "stream",
          "name": "stderr",
          "text": [
            "\n",
            "100%|██████████| 60/60 [00:00<00:00, 75.08it/s]"
          ]
        },
        {
          "output_type": "stream",
          "name": "stdout",
          "text": [
            "Train Loss:0.3410, Train Acc:51.67\n",
            "validation start\n"
          ]
        },
        {
          "output_type": "stream",
          "name": "stderr",
          "text": [
            "\n",
            "15it [00:00, 37.73it/s]                      "
          ]
        },
        {
          "output_type": "stream",
          "name": "stdout",
          "text": [
            "Val Loss:0.4563, Val_Acc:38.33\n",
            "loss 0.3839 - accu 45.1025 - val_loss 0.4300 - val_accu 36.7760\n",
            "=> saved best model\n",
            "Epoch [61/500]\n"
          ]
        },
        {
          "output_type": "stream",
          "name": "stderr",
          "text": [
            "\n",
            "100%|██████████| 60/60 [00:00<00:00, 75.47it/s] "
          ]
        },
        {
          "output_type": "stream",
          "name": "stdout",
          "text": [
            "Train Loss:0.3388, Train Acc:51.67\n",
            "validation start\n"
          ]
        },
        {
          "output_type": "stream",
          "name": "stderr",
          "text": [
            "\n",
            "15it [00:00, 32.84it/s]"
          ]
        },
        {
          "output_type": "stream",
          "name": "stdout",
          "text": [
            "Val Loss:0.4749, Val_Acc:38.33\n",
            "loss 0.3832 - accu 45.2083 - val_loss 0.4307 - val_accu 36.8011\n",
            "=> saved best model\n",
            "Epoch [62/500]\n"
          ]
        },
        {
          "output_type": "stream",
          "name": "stderr",
          "text": [
            "\n",
            "100%|██████████| 60/60 [00:00<00:00, 77.63it/s] "
          ]
        },
        {
          "output_type": "stream",
          "name": "stdout",
          "text": [
            "Train Loss:0.3221, Train Acc:50.42\n",
            "validation start\n"
          ]
        },
        {
          "output_type": "stream",
          "name": "stderr",
          "text": [
            "\n",
            "15it [00:00, 37.19it/s]"
          ]
        },
        {
          "output_type": "stream",
          "name": "stdout",
          "text": [
            "Val Loss:0.4515, Val_Acc:38.33\n",
            "loss 0.3822 - accu 45.2910 - val_loss 0.4311 - val_accu 36.8254\n",
            "=> saved best model\n",
            "Epoch [63/500]\n"
          ]
        },
        {
          "output_type": "stream",
          "name": "stderr",
          "text": [
            "\n",
            "100%|██████████| 60/60 [00:00<00:00, 74.56it/s]"
          ]
        },
        {
          "output_type": "stream",
          "name": "stdout",
          "text": [
            "Train Loss:0.3280, Train Acc:51.25\n",
            "validation start\n"
          ]
        },
        {
          "output_type": "stream",
          "name": "stderr",
          "text": [
            "\n",
            "15it [00:00, 37.69it/s]"
          ]
        },
        {
          "output_type": "stream",
          "name": "stdout",
          "text": [
            "Val Loss:0.4583, Val_Acc:38.33\n",
            "loss 0.3814 - accu 45.3841 - val_loss 0.4315 - val_accu 36.8490\n",
            "=> saved best model\n",
            "Epoch [64/500]\n"
          ]
        },
        {
          "output_type": "stream",
          "name": "stderr",
          "text": [
            "\n",
            "100%|██████████| 60/60 [00:00<00:00, 75.54it/s]"
          ]
        },
        {
          "output_type": "stream",
          "name": "stdout",
          "text": [
            "Train Loss:0.3373, Train Acc:50.42\n",
            "validation start\n"
          ]
        },
        {
          "output_type": "stream",
          "name": "stderr",
          "text": [
            "\n",
            "15it [00:00, 35.67it/s]"
          ]
        },
        {
          "output_type": "stream",
          "name": "stdout",
          "text": [
            "Val Loss:0.4778, Val_Acc:36.67\n",
            "loss 0.3807 - accu 45.4615 - val_loss 0.4322 - val_accu 36.8462\n",
            "Epoch [65/500]\n"
          ]
        },
        {
          "output_type": "stream",
          "name": "stderr",
          "text": [
            "\n",
            "100%|██████████| 60/60 [00:00<00:00, 80.80it/s]"
          ]
        },
        {
          "output_type": "stream",
          "name": "stdout",
          "text": [
            "Train Loss:0.3350, Train Acc:56.67\n",
            "validation start\n"
          ]
        },
        {
          "output_type": "stream",
          "name": "stderr",
          "text": [
            "\n",
            "15it [00:00, 37.02it/s]\n"
          ]
        },
        {
          "output_type": "stream",
          "name": "stdout",
          "text": [
            "Val Loss:0.4879, Val_Acc:38.33\n",
            "loss 0.3800 - accu 45.6313 - val_loss 0.4330 - val_accu 36.8687\n",
            "=> saved best model\n",
            "Epoch [66/500]\n"
          ]
        },
        {
          "output_type": "stream",
          "name": "stderr",
          "text": [
            "100%|██████████| 60/60 [00:00<00:00, 72.40it/s]"
          ]
        },
        {
          "output_type": "stream",
          "name": "stdout",
          "text": [
            "Train Loss:0.3251, Train Acc:53.33\n",
            "validation start\n"
          ]
        },
        {
          "output_type": "stream",
          "name": "stderr",
          "text": [
            "\n",
            "15it [00:00, 32.84it/s]"
          ]
        },
        {
          "output_type": "stream",
          "name": "stdout",
          "text": [
            "Val Loss:0.4671, Val_Acc:36.67\n",
            "loss 0.3792 - accu 45.7463 - val_loss 0.4336 - val_accu 36.8657\n",
            "Epoch [67/500]\n"
          ]
        },
        {
          "output_type": "stream",
          "name": "stderr",
          "text": [
            "\n",
            "100%|██████████| 60/60 [00:00<00:00, 79.34it/s] "
          ]
        },
        {
          "output_type": "stream",
          "name": "stdout",
          "text": [
            "Train Loss:0.3349, Train Acc:55.42\n",
            "validation start\n"
          ]
        },
        {
          "output_type": "stream",
          "name": "stderr",
          "text": [
            "\n",
            "15it [00:00, 36.07it/s]\n"
          ]
        },
        {
          "output_type": "stream",
          "name": "stdout",
          "text": [
            "Val Loss:0.4628, Val_Acc:38.33\n",
            "loss 0.3785 - accu 45.8885 - val_loss 0.4340 - val_accu 36.8873\n",
            "=> saved best model\n",
            "Epoch [68/500]\n"
          ]
        },
        {
          "output_type": "stream",
          "name": "stderr",
          "text": [
            "100%|██████████| 60/60 [00:00<00:00, 78.24it/s] "
          ]
        },
        {
          "output_type": "stream",
          "name": "stdout",
          "text": [
            "Train Loss:0.3261, Train Acc:50.42\n",
            "validation start\n"
          ]
        },
        {
          "output_type": "stream",
          "name": "stderr",
          "text": [
            "\n",
            "15it [00:00, 33.77it/s]"
          ]
        },
        {
          "output_type": "stream",
          "name": "stdout",
          "text": [
            "Val Loss:0.4801, Val_Acc:36.67\n",
            "loss 0.3778 - accu 45.9541 - val_loss 0.4347 - val_accu 36.8841\n",
            "Epoch [69/500]\n"
          ]
        },
        {
          "output_type": "stream",
          "name": "stderr",
          "text": [
            "\n",
            "100%|██████████| 60/60 [00:00<00:00, 79.40it/s] "
          ]
        },
        {
          "output_type": "stream",
          "name": "stdout",
          "text": [
            "Train Loss:0.3202, Train Acc:57.08\n",
            "validation start\n"
          ]
        },
        {
          "output_type": "stream",
          "name": "stderr",
          "text": [
            "\n",
            "15it [00:00, 39.68it/s]"
          ]
        },
        {
          "output_type": "stream",
          "name": "stdout",
          "text": [
            "Val Loss:0.4695, Val_Acc:35.00\n",
            "loss 0.3770 - accu 46.1131 - val_loss 0.4351 - val_accu 36.8571\n",
            "Epoch [70/500]\n"
          ]
        },
        {
          "output_type": "stream",
          "name": "stderr",
          "text": [
            "\n",
            "100%|██████████| 60/60 [00:00<00:00, 72.34it/s]"
          ]
        },
        {
          "output_type": "stream",
          "name": "stdout",
          "text": [
            "Train Loss:0.3303, Train Acc:51.25\n",
            "validation start\n"
          ]
        },
        {
          "output_type": "stream",
          "name": "stderr",
          "text": [
            "\n",
            "15it [00:00, 27.46it/s]                      "
          ]
        },
        {
          "output_type": "stream",
          "name": "stdout",
          "text": [
            "Val Loss:0.4786, Val_Acc:35.00\n",
            "loss 0.3763 - accu 46.1854 - val_loss 0.4358 - val_accu 36.8310\n",
            "Epoch [71/500]\n"
          ]
        },
        {
          "output_type": "stream",
          "name": "stderr",
          "text": [
            "\n",
            "100%|██████████| 60/60 [00:00<00:00, 77.37it/s]"
          ]
        },
        {
          "output_type": "stream",
          "name": "stdout",
          "text": [
            "Train Loss:0.3304, Train Acc:52.08\n",
            "validation start\n"
          ]
        },
        {
          "output_type": "stream",
          "name": "stderr",
          "text": [
            "\n",
            "15it [00:00, 35.60it/s]"
          ]
        },
        {
          "output_type": "stream",
          "name": "stdout",
          "text": [
            "Val Loss:0.4594, Val_Acc:40.00\n",
            "loss 0.3757 - accu 46.2674 - val_loss 0.4361 - val_accu 36.8750\n",
            "Epoch [72/500]\n"
          ]
        },
        {
          "output_type": "stream",
          "name": "stderr",
          "text": [
            "\n",
            "100%|██████████| 60/60 [00:00<00:00, 77.26it/s] "
          ]
        },
        {
          "output_type": "stream",
          "name": "stdout",
          "text": [
            "Train Loss:0.3323, Train Acc:55.83\n",
            "validation start\n"
          ]
        },
        {
          "output_type": "stream",
          "name": "stderr",
          "text": [
            "\n",
            "15it [00:00, 38.89it/s]"
          ]
        },
        {
          "output_type": "stream",
          "name": "stdout",
          "text": [
            "Val Loss:0.4601, Val_Acc:36.67\n",
            "loss 0.3751 - accu 46.3984 - val_loss 0.4364 - val_accu 36.8721\n",
            "Epoch [73/500]\n"
          ]
        },
        {
          "output_type": "stream",
          "name": "stderr",
          "text": [
            "\n",
            "100%|██████████| 60/60 [00:00<00:00, 81.14it/s]"
          ]
        },
        {
          "output_type": "stream",
          "name": "stdout",
          "text": [
            "Train Loss:0.3276, Train Acc:55.83\n",
            "validation start\n"
          ]
        },
        {
          "output_type": "stream",
          "name": "stderr",
          "text": [
            "\n",
            "15it [00:00, 37.54it/s]                      "
          ]
        },
        {
          "output_type": "stream",
          "name": "stdout",
          "text": [
            "Val Loss:0.4672, Val_Acc:36.67\n",
            "loss 0.3744 - accu 46.5259 - val_loss 0.4368 - val_accu 36.8694\n",
            "Epoch [74/500]\n"
          ]
        },
        {
          "output_type": "stream",
          "name": "stderr",
          "text": [
            "\n",
            "100%|██████████| 60/60 [00:00<00:00, 76.66it/s] "
          ]
        },
        {
          "output_type": "stream",
          "name": "stdout",
          "text": [
            "Train Loss:0.3303, Train Acc:55.42\n",
            "validation start\n"
          ]
        },
        {
          "output_type": "stream",
          "name": "stderr",
          "text": [
            "\n",
            "15it [00:00, 34.00it/s]"
          ]
        },
        {
          "output_type": "stream",
          "name": "stdout",
          "text": [
            "Val Loss:0.4727, Val_Acc:36.67\n",
            "loss 0.3738 - accu 46.6444 - val_loss 0.4373 - val_accu 36.8667\n",
            "Epoch [75/500]\n"
          ]
        },
        {
          "output_type": "stream",
          "name": "stderr",
          "text": [
            "\n",
            "100%|██████████| 60/60 [00:00<00:00, 77.20it/s]"
          ]
        },
        {
          "output_type": "stream",
          "name": "stdout",
          "text": [
            "Train Loss:0.3200, Train Acc:54.17\n",
            "validation start\n"
          ]
        },
        {
          "output_type": "stream",
          "name": "stderr",
          "text": [
            "\n",
            "15it [00:00, 37.20it/s]"
          ]
        },
        {
          "output_type": "stream",
          "name": "stdout",
          "text": [
            "Val Loss:0.4729, Val_Acc:40.00\n",
            "loss 0.3731 - accu 46.7434 - val_loss 0.4378 - val_accu 36.9079\n",
            "=> saved best model\n",
            "Epoch [76/500]\n"
          ]
        },
        {
          "output_type": "stream",
          "name": "stderr",
          "text": [
            "\n",
            "100%|██████████| 60/60 [00:00<00:00, 72.30it/s] "
          ]
        },
        {
          "output_type": "stream",
          "name": "stdout",
          "text": [
            "Train Loss:0.3318, Train Acc:53.75\n",
            "validation start\n"
          ]
        },
        {
          "output_type": "stream",
          "name": "stderr",
          "text": [
            "\n",
            "15it [00:00, 37.58it/s]"
          ]
        },
        {
          "output_type": "stream",
          "name": "stdout",
          "text": [
            "Val Loss:0.4695, Val_Acc:36.67\n",
            "loss 0.3726 - accu 46.8344 - val_loss 0.4382 - val_accu 36.9048\n",
            "Epoch [77/500]\n"
          ]
        },
        {
          "output_type": "stream",
          "name": "stderr",
          "text": [
            "\n",
            "100%|██████████| 60/60 [00:00<00:00, 76.32it/s]"
          ]
        },
        {
          "output_type": "stream",
          "name": "stdout",
          "text": [
            "Train Loss:0.3306, Train Acc:51.67\n",
            "validation start\n"
          ]
        },
        {
          "output_type": "stream",
          "name": "stderr",
          "text": [
            "\n",
            "15it [00:00, 34.38it/s]"
          ]
        },
        {
          "output_type": "stream",
          "name": "stdout",
          "text": [
            "Val Loss:0.4803, Val_Acc:41.67\n",
            "loss 0.3721 - accu 46.8964 - val_loss 0.4387 - val_accu 36.9658\n",
            "=> saved best model\n",
            "Epoch [78/500]\n"
          ]
        },
        {
          "output_type": "stream",
          "name": "stderr",
          "text": [
            "\n",
            "100%|██████████| 60/60 [00:00<00:00, 74.24it/s]"
          ]
        },
        {
          "output_type": "stream",
          "name": "stdout",
          "text": [
            "Train Loss:0.3186, Train Acc:52.50\n",
            "validation start\n"
          ]
        },
        {
          "output_type": "stream",
          "name": "stderr",
          "text": [
            "\n",
            "15it [00:00, 39.78it/s]"
          ]
        },
        {
          "output_type": "stream",
          "name": "stdout",
          "text": [
            "Val Loss:0.4752, Val_Acc:40.00\n",
            "loss 0.3714 - accu 46.9673 - val_loss 0.4392 - val_accu 37.0042\n",
            "=> saved best model\n",
            "Epoch [79/500]\n"
          ]
        },
        {
          "output_type": "stream",
          "name": "stderr",
          "text": [
            "\n",
            "100%|██████████| 60/60 [00:00<00:00, 71.44it/s]"
          ]
        },
        {
          "output_type": "stream",
          "name": "stdout",
          "text": [
            "Train Loss:0.3308, Train Acc:52.92\n",
            "validation start\n"
          ]
        },
        {
          "output_type": "stream",
          "name": "stderr",
          "text": [
            "\n",
            "15it [00:00, 35.00it/s]\n"
          ]
        },
        {
          "output_type": "stream",
          "name": "stdout",
          "text": [
            "Val Loss:0.4712, Val_Acc:40.00\n",
            "loss 0.3709 - accu 47.0417 - val_loss 0.4396 - val_accu 37.0417\n",
            "=> saved best model\n",
            "Epoch [80/500]\n"
          ]
        },
        {
          "output_type": "stream",
          "name": "stderr",
          "text": [
            "100%|██████████| 60/60 [00:00<00:00, 69.97it/s]"
          ]
        },
        {
          "output_type": "stream",
          "name": "stdout",
          "text": [
            "Train Loss:0.3316, Train Acc:52.08\n",
            "validation start\n"
          ]
        },
        {
          "output_type": "stream",
          "name": "stderr",
          "text": [
            "\n",
            "15it [00:00, 36.45it/s]"
          ]
        },
        {
          "output_type": "stream",
          "name": "stdout",
          "text": [
            "Val Loss:0.4684, Val_Acc:36.67\n",
            "loss 0.3704 - accu 47.1039 - val_loss 0.4400 - val_accu 37.0370\n",
            "Epoch [81/500]\n"
          ]
        },
        {
          "output_type": "stream",
          "name": "stderr",
          "text": [
            "\n",
            "100%|██████████| 60/60 [00:00<00:00, 77.02it/s] "
          ]
        },
        {
          "output_type": "stream",
          "name": "stdout",
          "text": [
            "Train Loss:0.3412, Train Acc:57.50\n",
            "validation start\n"
          ]
        },
        {
          "output_type": "stream",
          "name": "stderr",
          "text": [
            "\n",
            "15it [00:00, 36.06it/s]"
          ]
        },
        {
          "output_type": "stream",
          "name": "stdout",
          "text": [
            "Val Loss:0.4717, Val_Acc:36.67\n",
            "loss 0.3700 - accu 47.2307 - val_loss 0.4403 - val_accu 37.0325\n",
            "Epoch [82/500]\n"
          ]
        },
        {
          "output_type": "stream",
          "name": "stderr",
          "text": [
            "\n",
            "100%|██████████| 60/60 [00:00<00:00, 71.52it/s]"
          ]
        },
        {
          "output_type": "stream",
          "name": "stdout",
          "text": [
            "Train Loss:0.3325, Train Acc:55.00\n",
            "validation start\n"
          ]
        },
        {
          "output_type": "stream",
          "name": "stderr",
          "text": [
            "\n",
            "15it [00:00, 35.44it/s]"
          ]
        },
        {
          "output_type": "stream",
          "name": "stdout",
          "text": [
            "Val Loss:0.4658, Val_Acc:38.33\n",
            "loss 0.3696 - accu 47.3243 - val_loss 0.4406 - val_accu 37.0482\n",
            "=> saved best model\n",
            "Epoch [83/500]\n"
          ]
        },
        {
          "output_type": "stream",
          "name": "stderr",
          "text": [
            "\n",
            "100%|██████████| 60/60 [00:00<00:00, 71.79it/s] "
          ]
        },
        {
          "output_type": "stream",
          "name": "stdout",
          "text": [
            "Train Loss:0.3205, Train Acc:58.75\n",
            "validation start\n"
          ]
        },
        {
          "output_type": "stream",
          "name": "stderr",
          "text": [
            "\n",
            "15it [00:00, 37.16it/s]"
          ]
        },
        {
          "output_type": "stream",
          "name": "stdout",
          "text": [
            "Val Loss:0.4720, Val_Acc:38.33\n",
            "loss 0.3690 - accu 47.4603 - val_loss 0.4410 - val_accu 37.0635\n",
            "=> saved best model\n",
            "Epoch [84/500]\n"
          ]
        },
        {
          "output_type": "stream",
          "name": "stderr",
          "text": [
            "\n",
            "100%|██████████| 60/60 [00:00<00:00, 72.92it/s]"
          ]
        },
        {
          "output_type": "stream",
          "name": "stdout",
          "text": [
            "Train Loss:0.3367, Train Acc:53.75\n",
            "validation start\n"
          ]
        },
        {
          "output_type": "stream",
          "name": "stderr",
          "text": [
            "\n",
            "15it [00:00, 33.50it/s]\n"
          ]
        },
        {
          "output_type": "stream",
          "name": "stdout",
          "text": [
            "Val Loss:0.4807, Val_Acc:36.67\n",
            "loss 0.3686 - accu 47.5343 - val_loss 0.4415 - val_accu 37.0588\n",
            "Epoch [85/500]\n"
          ]
        },
        {
          "output_type": "stream",
          "name": "stderr",
          "text": [
            "100%|██████████| 60/60 [00:00<00:00, 72.97it/s]"
          ]
        },
        {
          "output_type": "stream",
          "name": "stdout",
          "text": [
            "Train Loss:0.3221, Train Acc:55.83\n",
            "validation start\n"
          ]
        },
        {
          "output_type": "stream",
          "name": "stderr",
          "text": [
            "\n",
            "15it [00:00, 32.89it/s]\n"
          ]
        },
        {
          "output_type": "stream",
          "name": "stdout",
          "text": [
            "Val Loss:0.4758, Val_Acc:36.67\n",
            "loss 0.3681 - accu 47.6308 - val_loss 0.4419 - val_accu 37.0543\n",
            "Epoch [86/500]\n"
          ]
        },
        {
          "output_type": "stream",
          "name": "stderr",
          "text": [
            "100%|██████████| 60/60 [00:00<00:00, 72.15it/s]"
          ]
        },
        {
          "output_type": "stream",
          "name": "stdout",
          "text": [
            "Train Loss:0.3186, Train Acc:53.75\n",
            "validation start\n"
          ]
        },
        {
          "output_type": "stream",
          "name": "stderr",
          "text": [
            "\n",
            "15it [00:00, 34.27it/s]"
          ]
        },
        {
          "output_type": "stream",
          "name": "stdout",
          "text": [
            "Val Loss:0.4778, Val_Acc:38.33\n",
            "loss 0.3675 - accu 47.7011 - val_loss 0.4423 - val_accu 37.0690\n",
            "=> saved best model\n",
            "Epoch [87/500]\n"
          ]
        },
        {
          "output_type": "stream",
          "name": "stderr",
          "text": [
            "\n",
            "100%|██████████| 60/60 [00:00<00:00, 73.14it/s]"
          ]
        },
        {
          "output_type": "stream",
          "name": "stdout",
          "text": [
            "Train Loss:0.3265, Train Acc:52.50\n",
            "validation start\n"
          ]
        },
        {
          "output_type": "stream",
          "name": "stderr",
          "text": [
            "\n",
            "15it [00:00, 37.24it/s]"
          ]
        },
        {
          "output_type": "stream",
          "name": "stdout",
          "text": [
            "Val Loss:0.4905, Val_Acc:40.00\n",
            "loss 0.3670 - accu 47.7557 - val_loss 0.4428 - val_accu 37.1023\n",
            "=> saved best model\n",
            "Epoch [88/500]\n"
          ]
        },
        {
          "output_type": "stream",
          "name": "stderr",
          "text": [
            "\n",
            "100%|██████████| 60/60 [00:00<00:00, 72.59it/s]"
          ]
        },
        {
          "output_type": "stream",
          "name": "stdout",
          "text": [
            "Train Loss:0.3226, Train Acc:56.25\n",
            "validation start\n"
          ]
        },
        {
          "output_type": "stream",
          "name": "stderr",
          "text": [
            "\n",
            "15it [00:00, 35.34it/s]"
          ]
        },
        {
          "output_type": "stream",
          "name": "stdout",
          "text": [
            "Val Loss:0.4759, Val_Acc:38.33\n",
            "loss 0.3665 - accu 47.8511 - val_loss 0.4432 - val_accu 37.1161\n",
            "=> saved best model\n",
            "Epoch [89/500]\n"
          ]
        },
        {
          "output_type": "stream",
          "name": "stderr",
          "text": [
            "\n",
            "100%|██████████| 60/60 [00:00<00:00, 72.03it/s]"
          ]
        },
        {
          "output_type": "stream",
          "name": "stdout",
          "text": [
            "Train Loss:0.3279, Train Acc:53.33\n",
            "validation start\n"
          ]
        },
        {
          "output_type": "stream",
          "name": "stderr",
          "text": [
            "\n",
            "15it [00:00, 35.79it/s]\n"
          ]
        },
        {
          "output_type": "stream",
          "name": "stdout",
          "text": [
            "Val Loss:0.4884, Val_Acc:35.00\n",
            "loss 0.3661 - accu 47.9120 - val_loss 0.4437 - val_accu 37.0926\n",
            "Epoch [90/500]\n"
          ]
        },
        {
          "output_type": "stream",
          "name": "stderr",
          "text": [
            "100%|██████████| 60/60 [00:00<00:00, 73.76it/s]"
          ]
        },
        {
          "output_type": "stream",
          "name": "stdout",
          "text": [
            "Train Loss:0.3300, Train Acc:55.00\n",
            "validation start\n"
          ]
        },
        {
          "output_type": "stream",
          "name": "stderr",
          "text": [
            "\n",
            "15it [00:00, 34.19it/s]\n"
          ]
        },
        {
          "output_type": "stream",
          "name": "stdout",
          "text": [
            "Val Loss:0.4783, Val_Acc:38.33\n",
            "loss 0.3657 - accu 47.9899 - val_loss 0.4441 - val_accu 37.1062\n",
            "Epoch [91/500]\n"
          ]
        },
        {
          "output_type": "stream",
          "name": "stderr",
          "text": [
            "100%|██████████| 60/60 [00:00<00:00, 72.91it/s]"
          ]
        },
        {
          "output_type": "stream",
          "name": "stdout",
          "text": [
            "Train Loss:0.3103, Train Acc:56.67\n",
            "validation start\n"
          ]
        },
        {
          "output_type": "stream",
          "name": "stderr",
          "text": [
            "\n",
            "15it [00:00, 33.27it/s]"
          ]
        },
        {
          "output_type": "stream",
          "name": "stdout",
          "text": [
            "Val Loss:0.4856, Val_Acc:40.00\n",
            "loss 0.3651 - accu 48.0842 - val_loss 0.4445 - val_accu 37.1377\n",
            "=> saved best model\n",
            "Epoch [92/500]\n"
          ]
        },
        {
          "output_type": "stream",
          "name": "stderr",
          "text": [
            "\n",
            "100%|██████████| 60/60 [00:00<00:00, 71.65it/s] "
          ]
        },
        {
          "output_type": "stream",
          "name": "stdout",
          "text": [
            "Train Loss:0.3214, Train Acc:53.33\n",
            "validation start\n"
          ]
        },
        {
          "output_type": "stream",
          "name": "stderr",
          "text": [
            "\n",
            "15it [00:00, 33.98it/s]"
          ]
        },
        {
          "output_type": "stream",
          "name": "stdout",
          "text": [
            "Val Loss:0.4732, Val_Acc:38.33\n",
            "loss 0.3646 - accu 48.1407 - val_loss 0.4449 - val_accu 37.1505\n",
            "=> saved best model\n",
            "Epoch [93/500]\n"
          ]
        },
        {
          "output_type": "stream",
          "name": "stderr",
          "text": [
            "\n",
            "100%|██████████| 60/60 [00:00<00:00, 72.92it/s]"
          ]
        },
        {
          "output_type": "stream",
          "name": "stdout",
          "text": [
            "Train Loss:0.3269, Train Acc:50.42\n",
            "validation start\n"
          ]
        },
        {
          "output_type": "stream",
          "name": "stderr",
          "text": [
            "\n",
            "15it [00:00, 29.35it/s]"
          ]
        },
        {
          "output_type": "stream",
          "name": "stdout",
          "text": [
            "Val Loss:0.4823, Val_Acc:41.67\n",
            "loss 0.3642 - accu 48.1649 - val_loss 0.4453 - val_accu 37.1986\n",
            "=> saved best model\n",
            "Epoch [94/500]\n"
          ]
        },
        {
          "output_type": "stream",
          "name": "stderr",
          "text": [
            "\n",
            "100%|██████████| 60/60 [00:00<00:00, 69.44it/s] "
          ]
        },
        {
          "output_type": "stream",
          "name": "stdout",
          "text": [
            "Train Loss:0.3230, Train Acc:56.25\n",
            "validation start\n"
          ]
        },
        {
          "output_type": "stream",
          "name": "stderr",
          "text": [
            "\n",
            "15it [00:00, 33.59it/s]\n"
          ]
        },
        {
          "output_type": "stream",
          "name": "stdout",
          "text": [
            "Val Loss:0.4804, Val_Acc:41.67\n",
            "loss 0.3638 - accu 48.2500 - val_loss 0.4456 - val_accu 37.2456\n",
            "=> saved best model\n",
            "Epoch [95/500]\n"
          ]
        },
        {
          "output_type": "stream",
          "name": "stderr",
          "text": [
            "100%|██████████| 60/60 [00:00<00:00, 72.13it/s]"
          ]
        },
        {
          "output_type": "stream",
          "name": "stdout",
          "text": [
            "Train Loss:0.3141, Train Acc:57.08\n",
            "validation start\n"
          ]
        },
        {
          "output_type": "stream",
          "name": "stderr",
          "text": [
            "\n",
            "15it [00:00, 37.84it/s]"
          ]
        },
        {
          "output_type": "stream",
          "name": "stdout",
          "text": [
            "Val Loss:0.5016, Val_Acc:38.33\n",
            "loss 0.3633 - accu 48.3420 - val_loss 0.4462 - val_accu 37.2569\n",
            "=> saved best model\n",
            "Epoch [96/500]\n"
          ]
        },
        {
          "output_type": "stream",
          "name": "stderr",
          "text": [
            "\n",
            "100%|██████████| 60/60 [00:00<00:00, 72.50it/s]"
          ]
        },
        {
          "output_type": "stream",
          "name": "stdout",
          "text": [
            "Train Loss:0.3271, Train Acc:52.92\n",
            "validation start\n"
          ]
        },
        {
          "output_type": "stream",
          "name": "stderr",
          "text": [
            "\n",
            "15it [00:00, 35.35it/s]"
          ]
        },
        {
          "output_type": "stream",
          "name": "stdout",
          "text": [
            "Val Loss:0.5054, Val_Acc:36.67\n",
            "loss 0.3629 - accu 48.3892 - val_loss 0.4468 - val_accu 37.2509\n",
            "Epoch [97/500]\n"
          ]
        },
        {
          "output_type": "stream",
          "name": "stderr",
          "text": [
            "\n",
            "100%|██████████| 60/60 [00:00<00:00, 71.09it/s]"
          ]
        },
        {
          "output_type": "stream",
          "name": "stdout",
          "text": [
            "Train Loss:0.3288, Train Acc:57.08\n",
            "validation start\n"
          ]
        },
        {
          "output_type": "stream",
          "name": "stderr",
          "text": [
            "\n",
            "15it [00:00, 35.59it/s]"
          ]
        },
        {
          "output_type": "stream",
          "name": "stdout",
          "text": [
            "Val Loss:0.4872, Val_Acc:38.33\n",
            "loss 0.3626 - accu 48.4779 - val_loss 0.4472 - val_accu 37.2619\n",
            "=> saved best model\n",
            "Epoch [98/500]\n"
          ]
        },
        {
          "output_type": "stream",
          "name": "stderr",
          "text": [
            "\n",
            "100%|██████████| 60/60 [00:00<00:00, 74.43it/s]"
          ]
        },
        {
          "output_type": "stream",
          "name": "stdout",
          "text": [
            "Train Loss:0.3246, Train Acc:53.33\n",
            "validation start\n"
          ]
        },
        {
          "output_type": "stream",
          "name": "stderr",
          "text": [
            "\n",
            "15it [00:00, 37.51it/s]"
          ]
        },
        {
          "output_type": "stream",
          "name": "stdout",
          "text": [
            "Val Loss:0.4930, Val_Acc:38.33\n",
            "loss 0.3622 - accu 48.5269 - val_loss 0.4477 - val_accu 37.2727\n",
            "=> saved best model\n",
            "Epoch [99/500]\n"
          ]
        },
        {
          "output_type": "stream",
          "name": "stderr",
          "text": [
            "\n",
            "100%|██████████| 60/60 [00:00<00:00, 75.91it/s]"
          ]
        },
        {
          "output_type": "stream",
          "name": "stdout",
          "text": [
            "Train Loss:0.3365, Train Acc:55.42\n",
            "validation start\n"
          ]
        },
        {
          "output_type": "stream",
          "name": "stderr",
          "text": [
            "\n",
            "15it [00:00, 39.19it/s]"
          ]
        },
        {
          "output_type": "stream",
          "name": "stdout",
          "text": [
            "Val Loss:0.4858, Val_Acc:40.00\n",
            "loss 0.3619 - accu 48.5958 - val_loss 0.4481 - val_accu 37.3000\n",
            "=> saved best model\n",
            "Epoch [100/500]\n"
          ]
        },
        {
          "output_type": "stream",
          "name": "stderr",
          "text": [
            "\n",
            "100%|██████████| 60/60 [00:00<00:00, 73.41it/s] "
          ]
        },
        {
          "output_type": "stream",
          "name": "stdout",
          "text": [
            "Train Loss:0.3247, Train Acc:54.58\n",
            "validation start\n"
          ]
        },
        {
          "output_type": "stream",
          "name": "stderr",
          "text": [
            "\n",
            "15it [00:00, 34.87it/s]"
          ]
        },
        {
          "output_type": "stream",
          "name": "stdout",
          "text": [
            "Val Loss:0.5017, Val_Acc:38.33\n",
            "loss 0.3616 - accu 48.6551 - val_loss 0.4486 - val_accu 37.3102\n",
            "=> saved best model\n",
            "Epoch [101/500]\n"
          ]
        },
        {
          "output_type": "stream",
          "name": "stderr",
          "text": [
            "\n",
            "100%|██████████| 60/60 [00:00<00:00, 70.53it/s] "
          ]
        },
        {
          "output_type": "stream",
          "name": "stdout",
          "text": [
            "Train Loss:0.3257, Train Acc:52.50\n",
            "validation start\n"
          ]
        },
        {
          "output_type": "stream",
          "name": "stderr",
          "text": [
            "\n",
            "15it [00:00, 34.93it/s]"
          ]
        },
        {
          "output_type": "stream",
          "name": "stdout",
          "text": [
            "Val Loss:0.4916, Val_Acc:31.67\n",
            "loss 0.3612 - accu 48.6928 - val_loss 0.4490 - val_accu 37.2549\n",
            "Epoch [102/500]\n"
          ]
        },
        {
          "output_type": "stream",
          "name": "stderr",
          "text": [
            "\n",
            "100%|██████████| 60/60 [00:00<00:00, 74.53it/s]"
          ]
        },
        {
          "output_type": "stream",
          "name": "stdout",
          "text": [
            "Train Loss:0.3132, Train Acc:55.83\n",
            "validation start\n"
          ]
        },
        {
          "output_type": "stream",
          "name": "stderr",
          "text": [
            "\n",
            "15it [00:00, 33.45it/s]"
          ]
        },
        {
          "output_type": "stream",
          "name": "stdout",
          "text": [
            "Val Loss:0.5181, Val_Acc:36.67\n",
            "loss 0.3607 - accu 48.7621 - val_loss 0.4497 - val_accu 37.2492\n",
            "Epoch [103/500]\n"
          ]
        },
        {
          "output_type": "stream",
          "name": "stderr",
          "text": [
            "\n",
            "100%|██████████| 60/60 [00:00<00:00, 74.55it/s]"
          ]
        },
        {
          "output_type": "stream",
          "name": "stdout",
          "text": [
            "Train Loss:0.3142, Train Acc:58.33\n",
            "validation start\n"
          ]
        },
        {
          "output_type": "stream",
          "name": "stderr",
          "text": [
            "\n",
            "15it [00:00, 36.07it/s]"
          ]
        },
        {
          "output_type": "stream",
          "name": "stdout",
          "text": [
            "Val Loss:0.4988, Val_Acc:40.00\n",
            "loss 0.3603 - accu 48.8542 - val_loss 0.4502 - val_accu 37.2756\n",
            "Epoch [104/500]\n"
          ]
        },
        {
          "output_type": "stream",
          "name": "stderr",
          "text": [
            "\n",
            "100%|██████████| 60/60 [00:00<00:00, 69.71it/s] "
          ]
        },
        {
          "output_type": "stream",
          "name": "stdout",
          "text": [
            "Train Loss:0.3294, Train Acc:52.50\n",
            "validation start\n"
          ]
        },
        {
          "output_type": "stream",
          "name": "stderr",
          "text": [
            "\n",
            "15it [00:00, 31.35it/s]"
          ]
        },
        {
          "output_type": "stream",
          "name": "stdout",
          "text": [
            "Val Loss:0.4923, Val_Acc:38.33\n",
            "loss 0.3600 - accu 48.8889 - val_loss 0.4506 - val_accu 37.2857\n",
            "Epoch [105/500]\n"
          ]
        },
        {
          "output_type": "stream",
          "name": "stderr",
          "text": [
            "\n",
            "100%|██████████| 60/60 [00:00<00:00, 75.69it/s]"
          ]
        },
        {
          "output_type": "stream",
          "name": "stdout",
          "text": [
            "Train Loss:0.3221, Train Acc:58.75\n",
            "validation start\n"
          ]
        },
        {
          "output_type": "stream",
          "name": "stderr",
          "text": [
            "\n",
            "15it [00:00, 32.18it/s]"
          ]
        },
        {
          "output_type": "stream",
          "name": "stdout",
          "text": [
            "Val Loss:0.4992, Val_Acc:40.00\n",
            "loss 0.3596 - accu 48.9819 - val_loss 0.4510 - val_accu 37.3113\n",
            "=> saved best model\n",
            "Epoch [106/500]\n"
          ]
        },
        {
          "output_type": "stream",
          "name": "stderr",
          "text": [
            "\n",
            "100%|██████████| 60/60 [00:00<00:00, 73.91it/s] "
          ]
        },
        {
          "output_type": "stream",
          "name": "stdout",
          "text": [
            "Train Loss:0.3104, Train Acc:56.67\n",
            "validation start\n"
          ]
        },
        {
          "output_type": "stream",
          "name": "stderr",
          "text": [
            "\n",
            "15it [00:00, 33.15it/s]"
          ]
        },
        {
          "output_type": "stream",
          "name": "stdout",
          "text": [
            "Val Loss:0.4954, Val_Acc:40.00\n",
            "loss 0.3592 - accu 49.0537 - val_loss 0.4514 - val_accu 37.3364\n",
            "=> saved best model\n",
            "Epoch [107/500]\n"
          ]
        },
        {
          "output_type": "stream",
          "name": "stderr",
          "text": [
            "\n",
            "100%|██████████| 60/60 [00:00<00:00, 73.56it/s] "
          ]
        },
        {
          "output_type": "stream",
          "name": "stdout",
          "text": [
            "Train Loss:0.3133, Train Acc:57.92\n",
            "validation start\n"
          ]
        },
        {
          "output_type": "stream",
          "name": "stderr",
          "text": [
            "\n",
            "15it [00:00, 31.76it/s]"
          ]
        },
        {
          "output_type": "stream",
          "name": "stdout",
          "text": [
            "Val Loss:0.5040, Val_Acc:41.67\n",
            "loss 0.3588 - accu 49.1358 - val_loss 0.4519 - val_accu 37.3765\n",
            "=> saved best model\n",
            "Epoch [108/500]\n"
          ]
        },
        {
          "output_type": "stream",
          "name": "stderr",
          "text": [
            "\n",
            "100%|██████████| 60/60 [00:00<00:00, 78.69it/s]"
          ]
        },
        {
          "output_type": "stream",
          "name": "stdout",
          "text": [
            "Train Loss:0.3146, Train Acc:53.75\n",
            "validation start\n"
          ]
        },
        {
          "output_type": "stream",
          "name": "stderr",
          "text": [
            "\n",
            "15it [00:00, 36.81it/s]"
          ]
        },
        {
          "output_type": "stream",
          "name": "stdout",
          "text": [
            "Val Loss:0.5055, Val_Acc:38.33\n",
            "loss 0.3584 - accu 49.1781 - val_loss 0.4524 - val_accu 37.3853\n",
            "=> saved best model\n",
            "Epoch [109/500]\n"
          ]
        },
        {
          "output_type": "stream",
          "name": "stderr",
          "text": [
            "\n",
            "100%|██████████| 60/60 [00:00<00:00, 72.47it/s] "
          ]
        },
        {
          "output_type": "stream",
          "name": "stdout",
          "text": [
            "Train Loss:0.3171, Train Acc:55.00\n",
            "validation start\n"
          ]
        },
        {
          "output_type": "stream",
          "name": "stderr",
          "text": [
            "\n",
            "15it [00:00, 36.09it/s]"
          ]
        },
        {
          "output_type": "stream",
          "name": "stdout",
          "text": [
            "Val Loss:0.4995, Val_Acc:41.67\n",
            "loss 0.3580 - accu 49.2311 - val_loss 0.4528 - val_accu 37.4242\n",
            "=> saved best model\n",
            "Epoch [110/500]\n"
          ]
        },
        {
          "output_type": "stream",
          "name": "stderr",
          "text": [
            "\n",
            "100%|██████████| 60/60 [00:00<00:00, 73.75it/s] "
          ]
        },
        {
          "output_type": "stream",
          "name": "stdout",
          "text": [
            "Train Loss:0.3135, Train Acc:57.08\n",
            "validation start\n"
          ]
        },
        {
          "output_type": "stream",
          "name": "stderr",
          "text": [
            "\n",
            "15it [00:00, 33.86it/s]\n"
          ]
        },
        {
          "output_type": "stream",
          "name": "stdout",
          "text": [
            "Val Loss:0.5149, Val_Acc:38.33\n",
            "loss 0.3576 - accu 49.3018 - val_loss 0.4534 - val_accu 37.4324\n",
            "=> saved best model\n",
            "Epoch [111/500]\n"
          ]
        },
        {
          "output_type": "stream",
          "name": "stderr",
          "text": [
            "100%|██████████| 60/60 [00:00<00:00, 74.08it/s]"
          ]
        },
        {
          "output_type": "stream",
          "name": "stdout",
          "text": [
            "Train Loss:0.3183, Train Acc:53.75\n",
            "validation start\n"
          ]
        },
        {
          "output_type": "stream",
          "name": "stderr",
          "text": [
            "\n",
            "15it [00:00, 37.94it/s]"
          ]
        },
        {
          "output_type": "stream",
          "name": "stdout",
          "text": [
            "Val Loss:0.5180, Val_Acc:36.67\n",
            "loss 0.3572 - accu 49.3415 - val_loss 0.4540 - val_accu 37.4256\n",
            "Epoch [112/500]\n"
          ]
        },
        {
          "output_type": "stream",
          "name": "stderr",
          "text": [
            "\n",
            "100%|██████████| 60/60 [00:00<00:00, 72.29it/s]\n"
          ]
        },
        {
          "output_type": "stream",
          "name": "stdout",
          "text": [
            "Train Loss:0.3196, Train Acc:56.67\n",
            "validation start\n"
          ]
        },
        {
          "output_type": "stream",
          "name": "stderr",
          "text": [
            "15it [00:00, 37.87it/s]"
          ]
        },
        {
          "output_type": "stream",
          "name": "stdout",
          "text": [
            "Val Loss:0.5111, Val_Acc:36.67\n",
            "loss 0.3569 - accu 49.4063 - val_loss 0.4545 - val_accu 37.4189\n",
            "Epoch [113/500]\n"
          ]
        },
        {
          "output_type": "stream",
          "name": "stderr",
          "text": [
            "\n",
            "100%|██████████| 60/60 [00:00<00:00, 64.98it/s] "
          ]
        },
        {
          "output_type": "stream",
          "name": "stdout",
          "text": [
            "Train Loss:0.3193, Train Acc:50.83\n",
            "validation start\n"
          ]
        },
        {
          "output_type": "stream",
          "name": "stderr",
          "text": [
            "\n",
            "15it [00:00, 34.66it/s]"
          ]
        },
        {
          "output_type": "stream",
          "name": "stdout",
          "text": [
            "Val Loss:0.5159, Val_Acc:35.00\n",
            "loss 0.3566 - accu 49.4189 - val_loss 0.4550 - val_accu 37.3977\n",
            "Epoch [114/500]\n"
          ]
        },
        {
          "output_type": "stream",
          "name": "stderr",
          "text": [
            "\n",
            "100%|██████████| 60/60 [00:00<00:00, 74.49it/s]"
          ]
        },
        {
          "output_type": "stream",
          "name": "stdout",
          "text": [
            "Train Loss:0.3214, Train Acc:55.00\n",
            "validation start\n"
          ]
        },
        {
          "output_type": "stream",
          "name": "stderr",
          "text": [
            "\n",
            "15it [00:00, 32.60it/s]"
          ]
        },
        {
          "output_type": "stream",
          "name": "stdout",
          "text": [
            "Val Loss:0.5134, Val_Acc:36.67\n",
            "loss 0.3563 - accu 49.4674 - val_loss 0.4555 - val_accu 37.3913\n",
            "Epoch [115/500]\n"
          ]
        },
        {
          "output_type": "stream",
          "name": "stderr",
          "text": [
            "\n",
            "100%|██████████| 60/60 [00:00<00:00, 73.66it/s]"
          ]
        },
        {
          "output_type": "stream",
          "name": "stdout",
          "text": [
            "Train Loss:0.3193, Train Acc:53.33\n",
            "validation start\n"
          ]
        },
        {
          "output_type": "stream",
          "name": "stderr",
          "text": [
            "\n",
            "15it [00:00, 32.77it/s]\n"
          ]
        },
        {
          "output_type": "stream",
          "name": "stdout",
          "text": [
            "Val Loss:0.4963, Val_Acc:31.67\n",
            "loss 0.3559 - accu 49.5007 - val_loss 0.4559 - val_accu 37.3420\n",
            "Epoch [116/500]\n"
          ]
        },
        {
          "output_type": "stream",
          "name": "stderr",
          "text": [
            "100%|██████████| 60/60 [00:00<00:00, 73.36it/s] "
          ]
        },
        {
          "output_type": "stream",
          "name": "stdout",
          "text": [
            "Train Loss:0.3193, Train Acc:51.67\n",
            "validation start\n"
          ]
        },
        {
          "output_type": "stream",
          "name": "stderr",
          "text": [
            "\n",
            "15it [00:00, 37.27it/s]"
          ]
        },
        {
          "output_type": "stream",
          "name": "stdout",
          "text": [
            "Val Loss:0.5053, Val_Acc:40.00\n",
            "loss 0.3556 - accu 49.5192 - val_loss 0.4563 - val_accu 37.3647\n",
            "Epoch [117/500]\n"
          ]
        },
        {
          "output_type": "stream",
          "name": "stderr",
          "text": [
            "\n",
            "100%|██████████| 60/60 [00:00<00:00, 71.89it/s]"
          ]
        },
        {
          "output_type": "stream",
          "name": "stdout",
          "text": [
            "Train Loss:0.3179, Train Acc:56.67\n",
            "validation start\n"
          ]
        },
        {
          "output_type": "stream",
          "name": "stderr",
          "text": [
            "\n",
            "15it [00:00, 32.16it/s]"
          ]
        },
        {
          "output_type": "stream",
          "name": "stdout",
          "text": [
            "Val Loss:0.5062, Val_Acc:36.67\n",
            "loss 0.3553 - accu 49.5798 - val_loss 0.4567 - val_accu 37.3588\n",
            "Epoch [118/500]\n"
          ]
        },
        {
          "output_type": "stream",
          "name": "stderr",
          "text": [
            "\n",
            "100%|██████████| 60/60 [00:00<00:00, 72.31it/s]"
          ]
        },
        {
          "output_type": "stream",
          "name": "stdout",
          "text": [
            "Train Loss:0.3148, Train Acc:55.42\n",
            "validation start\n"
          ]
        },
        {
          "output_type": "stream",
          "name": "stderr",
          "text": [
            "\n",
            "15it [00:00, 35.57it/s]"
          ]
        },
        {
          "output_type": "stream",
          "name": "stdout",
          "text": [
            "Val Loss:0.5115, Val_Acc:36.67\n",
            "loss 0.3550 - accu 49.6289 - val_loss 0.4572 - val_accu 37.3529\n",
            "Epoch [119/500]\n"
          ]
        },
        {
          "output_type": "stream",
          "name": "stderr",
          "text": [
            "\n",
            "100%|██████████| 60/60 [00:00<00:00, 69.51it/s] "
          ]
        },
        {
          "output_type": "stream",
          "name": "stdout",
          "text": [
            "Train Loss:0.3184, Train Acc:53.75\n",
            "validation start\n"
          ]
        },
        {
          "output_type": "stream",
          "name": "stderr",
          "text": [
            "\n",
            "15it [00:00, 37.30it/s]"
          ]
        },
        {
          "output_type": "stream",
          "name": "stdout",
          "text": [
            "Val Loss:0.5146, Val_Acc:43.33\n",
            "loss 0.3547 - accu 49.6632 - val_loss 0.4577 - val_accu 37.4028\n",
            "Epoch [120/500]\n"
          ]
        },
        {
          "output_type": "stream",
          "name": "stderr",
          "text": [
            "\n",
            "100%|██████████| 60/60 [00:00<00:00, 66.67it/s]"
          ]
        },
        {
          "output_type": "stream",
          "name": "stdout",
          "text": [
            "Train Loss:0.3180, Train Acc:56.25\n",
            "validation start\n"
          ]
        },
        {
          "output_type": "stream",
          "name": "stderr",
          "text": [
            "\n",
            "15it [00:00, 34.14it/s]"
          ]
        },
        {
          "output_type": "stream",
          "name": "stdout",
          "text": [
            "Val Loss:0.5033, Val_Acc:38.33\n",
            "loss 0.3544 - accu 49.7176 - val_loss 0.4580 - val_accu 37.4105\n",
            "Epoch [121/500]\n"
          ]
        },
        {
          "output_type": "stream",
          "name": "stderr",
          "text": [
            "\n",
            "100%|██████████| 60/60 [00:00<00:00, 73.77it/s] "
          ]
        },
        {
          "output_type": "stream",
          "name": "stdout",
          "text": [
            "Train Loss:0.3236, Train Acc:53.33\n",
            "validation start\n"
          ]
        },
        {
          "output_type": "stream",
          "name": "stderr",
          "text": [
            "\n",
            "15it [00:00, 32.81it/s]"
          ]
        },
        {
          "output_type": "stream",
          "name": "stdout",
          "text": [
            "Val Loss:0.5034, Val_Acc:36.67\n",
            "loss 0.3541 - accu 49.7473 - val_loss 0.4584 - val_accu 37.4044\n",
            "Epoch [122/500]\n"
          ]
        },
        {
          "output_type": "stream",
          "name": "stderr",
          "text": [
            "\n",
            "100%|██████████| 60/60 [00:00<00:00, 72.45it/s] "
          ]
        },
        {
          "output_type": "stream",
          "name": "stdout",
          "text": [
            "Train Loss:0.3056, Train Acc:57.08\n",
            "validation start\n"
          ]
        },
        {
          "output_type": "stream",
          "name": "stderr",
          "text": [
            "\n",
            "15it [00:00, 30.01it/s]\n"
          ]
        },
        {
          "output_type": "stream",
          "name": "stdout",
          "text": [
            "Val Loss:0.5050, Val_Acc:38.33\n",
            "loss 0.3537 - accu 49.8069 - val_loss 0.4588 - val_accu 37.4119\n",
            "Epoch [123/500]\n"
          ]
        },
        {
          "output_type": "stream",
          "name": "stderr",
          "text": [
            "100%|██████████| 60/60 [00:00<00:00, 73.20it/s]"
          ]
        },
        {
          "output_type": "stream",
          "name": "stdout",
          "text": [
            "Train Loss:0.3073, Train Acc:59.58\n",
            "validation start\n"
          ]
        },
        {
          "output_type": "stream",
          "name": "stderr",
          "text": [
            "\n",
            "15it [00:00, 34.04it/s]"
          ]
        },
        {
          "output_type": "stream",
          "name": "stdout",
          "text": [
            "Val Loss:0.5167, Val_Acc:38.33\n",
            "loss 0.3533 - accu 49.8858 - val_loss 0.4593 - val_accu 37.4194\n",
            "Epoch [124/500]\n"
          ]
        },
        {
          "output_type": "stream",
          "name": "stderr",
          "text": [
            "\n",
            "100%|██████████| 60/60 [00:00<00:00, 71.01it/s] "
          ]
        },
        {
          "output_type": "stream",
          "name": "stdout",
          "text": [
            "Train Loss:0.3224, Train Acc:54.58\n",
            "validation start\n"
          ]
        },
        {
          "output_type": "stream",
          "name": "stderr",
          "text": [
            "\n",
            "15it [00:00, 32.60it/s]"
          ]
        },
        {
          "output_type": "stream",
          "name": "stdout",
          "text": [
            "Val Loss:0.5111, Val_Acc:38.33\n",
            "loss 0.3531 - accu 49.9233 - val_loss 0.4597 - val_accu 37.4267\n",
            "Epoch [125/500]\n"
          ]
        },
        {
          "output_type": "stream",
          "name": "stderr",
          "text": [
            "\n",
            "100%|██████████| 60/60 [00:00<00:00, 70.77it/s]"
          ]
        },
        {
          "output_type": "stream",
          "name": "stdout",
          "text": [
            "Train Loss:0.3214, Train Acc:54.17\n",
            "validation start\n"
          ]
        },
        {
          "output_type": "stream",
          "name": "stderr",
          "text": [
            "\n",
            "15it [00:00, 33.31it/s]"
          ]
        },
        {
          "output_type": "stream",
          "name": "stdout",
          "text": [
            "Val Loss:0.5195, Val_Acc:38.33\n",
            "loss 0.3528 - accu 49.9570 - val_loss 0.4602 - val_accu 37.4339\n",
            "=> saved best model\n",
            "Epoch [126/500]\n"
          ]
        },
        {
          "output_type": "stream",
          "name": "stderr",
          "text": [
            "\n",
            "100%|██████████| 60/60 [00:00<00:00, 70.48it/s]"
          ]
        },
        {
          "output_type": "stream",
          "name": "stdout",
          "text": [
            "Train Loss:0.3171, Train Acc:52.50\n",
            "validation start\n"
          ]
        },
        {
          "output_type": "stream",
          "name": "stderr",
          "text": [
            "\n",
            "15it [00:00, 29.90it/s]"
          ]
        },
        {
          "output_type": "stream",
          "name": "stdout",
          "text": [
            "Val Loss:0.5266, Val_Acc:35.00\n",
            "loss 0.3526 - accu 49.9770 - val_loss 0.4607 - val_accu 37.4147\n",
            "Epoch [127/500]\n"
          ]
        },
        {
          "output_type": "stream",
          "name": "stderr",
          "text": [
            "\n",
            "100%|██████████| 60/60 [00:00<00:00, 70.49it/s]"
          ]
        },
        {
          "output_type": "stream",
          "name": "stdout",
          "text": [
            "Train Loss:0.3138, Train Acc:57.08\n",
            "validation start\n"
          ]
        },
        {
          "output_type": "stream",
          "name": "stderr",
          "text": [
            "\n",
            "15it [00:00, 30.46it/s]"
          ]
        },
        {
          "output_type": "stream",
          "name": "stdout",
          "text": [
            "Val Loss:0.5148, Val_Acc:33.33\n",
            "loss 0.3523 - accu 50.0326 - val_loss 0.4611 - val_accu 37.3828\n",
            "Epoch [128/500]\n"
          ]
        },
        {
          "output_type": "stream",
          "name": "stderr",
          "text": [
            "\n",
            "100%|██████████| 60/60 [00:00<00:00, 69.57it/s]"
          ]
        },
        {
          "output_type": "stream",
          "name": "stdout",
          "text": [
            "Train Loss:0.3174, Train Acc:54.17\n",
            "validation start\n"
          ]
        },
        {
          "output_type": "stream",
          "name": "stderr",
          "text": [
            "\n",
            "15it [00:00, 31.86it/s]"
          ]
        },
        {
          "output_type": "stream",
          "name": "stdout",
          "text": [
            "Val Loss:0.5217, Val_Acc:40.00\n",
            "loss 0.3520 - accu 50.0646 - val_loss 0.4616 - val_accu 37.4031\n",
            "Epoch [129/500]\n"
          ]
        },
        {
          "output_type": "stream",
          "name": "stderr",
          "text": [
            "\n",
            "100%|██████████| 60/60 [00:00<00:00, 73.77it/s]"
          ]
        },
        {
          "output_type": "stream",
          "name": "stdout",
          "text": [
            "Train Loss:0.3105, Train Acc:53.33\n",
            "validation start\n"
          ]
        },
        {
          "output_type": "stream",
          "name": "stderr",
          "text": [
            "\n",
            "15it [00:00, 33.70it/s]"
          ]
        },
        {
          "output_type": "stream",
          "name": "stdout",
          "text": [
            "Val Loss:0.5183, Val_Acc:38.33\n",
            "loss 0.3517 - accu 50.0897 - val_loss 0.4620 - val_accu 37.4103\n",
            "Epoch [130/500]\n"
          ]
        },
        {
          "output_type": "stream",
          "name": "stderr",
          "text": [
            "\n",
            "100%|██████████| 60/60 [00:00<00:00, 67.99it/s]"
          ]
        },
        {
          "output_type": "stream",
          "name": "stdout",
          "text": [
            "Train Loss:0.3170, Train Acc:54.17\n",
            "validation start\n"
          ]
        },
        {
          "output_type": "stream",
          "name": "stderr",
          "text": [
            "\n",
            "15it [00:00, 33.05it/s]"
          ]
        },
        {
          "output_type": "stream",
          "name": "stdout",
          "text": [
            "Val Loss:0.5212, Val_Acc:40.00\n",
            "loss 0.3514 - accu 50.1209 - val_loss 0.4625 - val_accu 37.4300\n",
            "Epoch [131/500]\n"
          ]
        },
        {
          "output_type": "stream",
          "name": "stderr",
          "text": [
            "\n",
            "100%|██████████| 60/60 [00:00<00:00, 70.08it/s]"
          ]
        },
        {
          "output_type": "stream",
          "name": "stdout",
          "text": [
            "Train Loss:0.3112, Train Acc:60.00\n",
            "validation start\n"
          ]
        },
        {
          "output_type": "stream",
          "name": "stderr",
          "text": [
            "\n",
            "15it [00:00, 32.57it/s]"
          ]
        },
        {
          "output_type": "stream",
          "name": "stdout",
          "text": [
            "Val Loss:0.5201, Val_Acc:35.00\n",
            "loss 0.3511 - accu 50.1957 - val_loss 0.4629 - val_accu 37.4116\n",
            "Epoch [132/500]\n"
          ]
        },
        {
          "output_type": "stream",
          "name": "stderr",
          "text": [
            "\n",
            "100%|██████████| 60/60 [00:00<00:00, 76.63it/s]"
          ]
        },
        {
          "output_type": "stream",
          "name": "stdout",
          "text": [
            "Train Loss:0.3164, Train Acc:55.00\n",
            "validation start\n"
          ]
        },
        {
          "output_type": "stream",
          "name": "stderr",
          "text": [
            "\n",
            "15it [00:00, 31.00it/s]"
          ]
        },
        {
          "output_type": "stream",
          "name": "stdout",
          "text": [
            "Val Loss:0.5325, Val_Acc:36.67\n",
            "loss 0.3508 - accu 50.2318 - val_loss 0.4634 - val_accu 37.4060\n",
            "Epoch [133/500]\n"
          ]
        },
        {
          "output_type": "stream",
          "name": "stderr",
          "text": [
            "\n",
            "100%|██████████| 60/60 [00:00<00:00, 70.66it/s]"
          ]
        },
        {
          "output_type": "stream",
          "name": "stdout",
          "text": [
            "Train Loss:0.3112, Train Acc:51.67\n",
            "validation start\n"
          ]
        },
        {
          "output_type": "stream",
          "name": "stderr",
          "text": [
            "\n",
            "15it [00:00, 35.78it/s]"
          ]
        },
        {
          "output_type": "stream",
          "name": "stdout",
          "text": [
            "Val Loss:0.5221, Val_Acc:36.67\n",
            "loss 0.3505 - accu 50.2425 - val_loss 0.4639 - val_accu 37.4005\n",
            "Epoch [134/500]\n"
          ]
        },
        {
          "output_type": "stream",
          "name": "stderr",
          "text": [
            "\n",
            "100%|██████████| 60/60 [00:00<00:00, 71.67it/s]"
          ]
        },
        {
          "output_type": "stream",
          "name": "stdout",
          "text": [
            "Train Loss:0.3136, Train Acc:56.67\n",
            "validation start\n"
          ]
        },
        {
          "output_type": "stream",
          "name": "stderr",
          "text": [
            "\n",
            "15it [00:00, 32.68it/s]\n"
          ]
        },
        {
          "output_type": "stream",
          "name": "stdout",
          "text": [
            "Val Loss:0.5209, Val_Acc:38.33\n",
            "loss 0.3503 - accu 50.2901 - val_loss 0.4643 - val_accu 37.4074\n",
            "Epoch [135/500]\n"
          ]
        },
        {
          "output_type": "stream",
          "name": "stderr",
          "text": [
            "100%|██████████| 60/60 [00:00<00:00, 75.32it/s]"
          ]
        },
        {
          "output_type": "stream",
          "name": "stdout",
          "text": [
            "Train Loss:0.3189, Train Acc:52.92\n",
            "validation start\n"
          ]
        },
        {
          "output_type": "stream",
          "name": "stderr",
          "text": [
            "\n",
            "15it [00:00, 32.07it/s]\n"
          ]
        },
        {
          "output_type": "stream",
          "name": "stdout",
          "text": [
            "Val Loss:0.5240, Val_Acc:40.00\n",
            "loss 0.3500 - accu 50.3094 - val_loss 0.4647 - val_accu 37.4265\n",
            "Epoch [136/500]\n"
          ]
        },
        {
          "output_type": "stream",
          "name": "stderr",
          "text": [
            "100%|██████████| 60/60 [00:00<00:00, 71.34it/s]"
          ]
        },
        {
          "output_type": "stream",
          "name": "stdout",
          "text": [
            "Train Loss:0.3157, Train Acc:54.17\n",
            "validation start\n"
          ]
        },
        {
          "output_type": "stream",
          "name": "stderr",
          "text": [
            "\n",
            "15it [00:00, 34.84it/s]\n"
          ]
        },
        {
          "output_type": "stream",
          "name": "stdout",
          "text": [
            "Val Loss:0.5175, Val_Acc:40.00\n",
            "loss 0.3498 - accu 50.3376 - val_loss 0.4651 - val_accu 37.4453\n",
            "=> saved best model\n",
            "Epoch [137/500]\n"
          ]
        },
        {
          "output_type": "stream",
          "name": "stderr",
          "text": [
            "100%|██████████| 60/60 [00:00<00:00, 69.15it/s]"
          ]
        },
        {
          "output_type": "stream",
          "name": "stdout",
          "text": [
            "Train Loss:0.3089, Train Acc:58.75\n",
            "validation start\n"
          ]
        },
        {
          "output_type": "stream",
          "name": "stderr",
          "text": [
            "\n",
            "15it [00:00, 36.80it/s]                      \n"
          ]
        },
        {
          "output_type": "stream",
          "name": "stdout",
          "text": [
            "Val Loss:0.5265, Val_Acc:41.67\n",
            "loss 0.3495 - accu 50.3986 - val_loss 0.4655 - val_accu 37.4758\n",
            "=> saved best model\n",
            "Epoch [138/500]\n"
          ]
        },
        {
          "output_type": "stream",
          "name": "stderr",
          "text": [
            "100%|██████████| 60/60 [00:00<00:00, 72.32it/s]"
          ]
        },
        {
          "output_type": "stream",
          "name": "stdout",
          "text": [
            "Train Loss:0.3083, Train Acc:57.08\n",
            "validation start\n"
          ]
        },
        {
          "output_type": "stream",
          "name": "stderr",
          "text": [
            "\n",
            "15it [00:00, 34.08it/s]"
          ]
        },
        {
          "output_type": "stream",
          "name": "stdout",
          "text": [
            "Val Loss:0.5246, Val_Acc:35.00\n",
            "loss 0.3492 - accu 50.4466 - val_loss 0.4660 - val_accu 37.4580\n",
            "Epoch [139/500]\n"
          ]
        },
        {
          "output_type": "stream",
          "name": "stderr",
          "text": [
            "\n",
            "100%|██████████| 60/60 [00:00<00:00, 70.65it/s]"
          ]
        },
        {
          "output_type": "stream",
          "name": "stdout",
          "text": [
            "Train Loss:0.3085, Train Acc:55.00\n",
            "validation start\n"
          ]
        },
        {
          "output_type": "stream",
          "name": "stderr",
          "text": [
            "\n",
            "15it [00:00, 33.51it/s]"
          ]
        },
        {
          "output_type": "stream",
          "name": "stdout",
          "text": [
            "Val Loss:0.5401, Val_Acc:36.67\n",
            "loss 0.3489 - accu 50.4792 - val_loss 0.4665 - val_accu 37.4524\n",
            "Epoch [140/500]\n"
          ]
        },
        {
          "output_type": "stream",
          "name": "stderr",
          "text": [
            "\n",
            "100%|██████████| 60/60 [00:00<00:00, 74.87it/s] "
          ]
        },
        {
          "output_type": "stream",
          "name": "stdout",
          "text": [
            "Train Loss:0.3029, Train Acc:53.75\n",
            "validation start\n"
          ]
        },
        {
          "output_type": "stream",
          "name": "stderr",
          "text": [
            "\n",
            "15it [00:00, 32.53it/s]"
          ]
        },
        {
          "output_type": "stream",
          "name": "stdout",
          "text": [
            "Val Loss:0.5315, Val_Acc:40.00\n",
            "loss 0.3486 - accu 50.5024 - val_loss 0.4670 - val_accu 37.4704\n",
            "Epoch [141/500]\n"
          ]
        },
        {
          "output_type": "stream",
          "name": "stderr",
          "text": [
            "\n",
            "100%|██████████| 60/60 [00:00<00:00, 69.61it/s]"
          ]
        },
        {
          "output_type": "stream",
          "name": "stdout",
          "text": [
            "Train Loss:0.3084, Train Acc:56.67\n",
            "validation start\n"
          ]
        },
        {
          "output_type": "stream",
          "name": "stderr",
          "text": [
            "\n",
            "15it [00:00, 37.12it/s]"
          ]
        },
        {
          "output_type": "stream",
          "name": "stdout",
          "text": [
            "Val Loss:0.5382, Val_Acc:38.33\n",
            "loss 0.3483 - accu 50.5458 - val_loss 0.4675 - val_accu 37.4765\n",
            "=> saved best model\n",
            "Epoch [142/500]\n"
          ]
        },
        {
          "output_type": "stream",
          "name": "stderr",
          "text": [
            "\n",
            "100%|██████████| 60/60 [00:00<00:00, 70.59it/s] "
          ]
        },
        {
          "output_type": "stream",
          "name": "stdout",
          "text": [
            "Train Loss:0.3020, Train Acc:62.92\n",
            "validation start\n"
          ]
        },
        {
          "output_type": "stream",
          "name": "stderr",
          "text": [
            "\n",
            "15it [00:00, 31.79it/s]                      "
          ]
        },
        {
          "output_type": "stream",
          "name": "stdout",
          "text": [
            "Val Loss:0.5422, Val_Acc:40.00\n",
            "loss 0.3480 - accu 50.6323 - val_loss 0.4680 - val_accu 37.4942\n",
            "=> saved best model\n",
            "Epoch [143/500]\n"
          ]
        },
        {
          "output_type": "stream",
          "name": "stderr",
          "text": [
            "\n",
            "100%|██████████| 60/60 [00:00<00:00, 75.83it/s]"
          ]
        },
        {
          "output_type": "stream",
          "name": "stdout",
          "text": [
            "Train Loss:0.3050, Train Acc:59.58\n",
            "validation start\n"
          ]
        },
        {
          "output_type": "stream",
          "name": "stderr",
          "text": [
            "\n",
            "15it [00:00, 32.16it/s]"
          ]
        },
        {
          "output_type": "stream",
          "name": "stdout",
          "text": [
            "Val Loss:0.5392, Val_Acc:40.00\n",
            "loss 0.3477 - accu 50.6944 - val_loss 0.4685 - val_accu 37.5116\n",
            "=> saved best model\n",
            "Epoch [144/500]\n"
          ]
        },
        {
          "output_type": "stream",
          "name": "stderr",
          "text": [
            "\n",
            "100%|██████████| 60/60 [00:00<00:00, 69.78it/s]"
          ]
        },
        {
          "output_type": "stream",
          "name": "stdout",
          "text": [
            "Train Loss:0.3113, Train Acc:54.17\n",
            "validation start\n"
          ]
        },
        {
          "output_type": "stream",
          "name": "stderr",
          "text": [
            "\n",
            "15it [00:00, 32.34it/s]"
          ]
        },
        {
          "output_type": "stream",
          "name": "stdout",
          "text": [
            "Val Loss:0.5444, Val_Acc:41.67\n",
            "loss 0.3474 - accu 50.7184 - val_loss 0.4690 - val_accu 37.5402\n",
            "=> saved best model\n",
            "Epoch [145/500]\n"
          ]
        },
        {
          "output_type": "stream",
          "name": "stderr",
          "text": [
            "\n",
            "100%|██████████| 60/60 [00:00<00:00, 67.33it/s]"
          ]
        },
        {
          "output_type": "stream",
          "name": "stdout",
          "text": [
            "Train Loss:0.3204, Train Acc:56.67\n",
            "validation start\n"
          ]
        },
        {
          "output_type": "stream",
          "name": "stderr",
          "text": [
            "\n",
            "15it [00:00, 33.27it/s]"
          ]
        },
        {
          "output_type": "stream",
          "name": "stdout",
          "text": [
            "Val Loss:0.5360, Val_Acc:38.33\n",
            "loss 0.3472 - accu 50.7591 - val_loss 0.4695 - val_accu 37.5457\n",
            "=> saved best model\n",
            "Epoch [146/500]\n"
          ]
        },
        {
          "output_type": "stream",
          "name": "stderr",
          "text": [
            "\n",
            "100%|██████████| 60/60 [00:00<00:00, 73.84it/s]"
          ]
        },
        {
          "output_type": "stream",
          "name": "stdout",
          "text": [
            "Train Loss:0.3041, Train Acc:54.58\n",
            "validation start\n"
          ]
        },
        {
          "output_type": "stream",
          "name": "stderr",
          "text": [
            "\n",
            "15it [00:00, 32.04it/s]"
          ]
        },
        {
          "output_type": "stream",
          "name": "stdout",
          "text": [
            "Val Loss:0.5541, Val_Acc:38.33\n",
            "loss 0.3469 - accu 50.7851 - val_loss 0.4700 - val_accu 37.5510\n",
            "=> saved best model\n",
            "Epoch [147/500]\n"
          ]
        },
        {
          "output_type": "stream",
          "name": "stderr",
          "text": [
            "\n",
            "100%|██████████| 60/60 [00:00<00:00, 69.10it/s] "
          ]
        },
        {
          "output_type": "stream",
          "name": "stdout",
          "text": [
            "Train Loss:0.3138, Train Acc:57.92\n",
            "validation start\n"
          ]
        },
        {
          "output_type": "stream",
          "name": "stderr",
          "text": [
            "\n",
            "15it [00:00, 33.32it/s]"
          ]
        },
        {
          "output_type": "stream",
          "name": "stdout",
          "text": [
            "Val Loss:0.5504, Val_Acc:41.67\n",
            "loss 0.3467 - accu 50.8333 - val_loss 0.4706 - val_accu 37.5788\n",
            "=> saved best model\n",
            "Epoch [148/500]\n"
          ]
        },
        {
          "output_type": "stream",
          "name": "stderr",
          "text": [
            "\n",
            "100%|██████████| 60/60 [00:00<00:00, 75.77it/s] "
          ]
        },
        {
          "output_type": "stream",
          "name": "stdout",
          "text": [
            "Train Loss:0.3042, Train Acc:61.67\n",
            "validation start\n"
          ]
        },
        {
          "output_type": "stream",
          "name": "stderr",
          "text": [
            "\n",
            "15it [00:00, 30.47it/s]\n"
          ]
        },
        {
          "output_type": "stream",
          "name": "stdout",
          "text": [
            "Val Loss:0.5311, Val_Acc:40.00\n",
            "loss 0.3464 - accu 50.9060 - val_loss 0.4710 - val_accu 37.5951\n",
            "=> saved best model\n",
            "Epoch [149/500]\n"
          ]
        },
        {
          "output_type": "stream",
          "name": "stderr",
          "text": [
            "100%|██████████| 60/60 [00:00<00:00, 68.66it/s]"
          ]
        },
        {
          "output_type": "stream",
          "name": "stdout",
          "text": [
            "Train Loss:0.2977, Train Acc:57.92\n",
            "validation start\n"
          ]
        },
        {
          "output_type": "stream",
          "name": "stderr",
          "text": [
            "\n",
            "15it [00:00, 36.74it/s]"
          ]
        },
        {
          "output_type": "stream",
          "name": "stdout",
          "text": [
            "Val Loss:0.5305, Val_Acc:40.00\n",
            "loss 0.3461 - accu 50.9528 - val_loss 0.4714 - val_accu 37.6111\n",
            "=> saved best model\n",
            "Epoch [150/500]\n"
          ]
        },
        {
          "output_type": "stream",
          "name": "stderr",
          "text": [
            "\n",
            "100%|██████████| 60/60 [00:00<00:00, 71.80it/s] "
          ]
        },
        {
          "output_type": "stream",
          "name": "stdout",
          "text": [
            "Train Loss:0.3115, Train Acc:53.75\n",
            "validation start\n"
          ]
        },
        {
          "output_type": "stream",
          "name": "stderr",
          "text": [
            "\n",
            "15it [00:00, 34.07it/s]"
          ]
        },
        {
          "output_type": "stream",
          "name": "stdout",
          "text": [
            "Val Loss:0.5262, Val_Acc:35.00\n",
            "loss 0.3459 - accu 50.9713 - val_loss 0.4717 - val_accu 37.5938\n",
            "Epoch [151/500]\n"
          ]
        },
        {
          "output_type": "stream",
          "name": "stderr",
          "text": [
            "\n",
            "100%|██████████| 60/60 [00:00<00:00, 71.13it/s] "
          ]
        },
        {
          "output_type": "stream",
          "name": "stdout",
          "text": [
            "Train Loss:0.3071, Train Acc:57.08\n",
            "validation start\n"
          ]
        },
        {
          "output_type": "stream",
          "name": "stderr",
          "text": [
            "\n",
            "15it [00:00, 34.27it/s]                      "
          ]
        },
        {
          "output_type": "stream",
          "name": "stdout",
          "text": [
            "Val Loss:0.5364, Val_Acc:38.33\n",
            "loss 0.3456 - accu 51.0115 - val_loss 0.4722 - val_accu 37.5987\n",
            "Epoch [152/500]\n"
          ]
        },
        {
          "output_type": "stream",
          "name": "stderr",
          "text": [
            "\n",
            "100%|██████████| 60/60 [00:00<00:00, 65.70it/s] "
          ]
        },
        {
          "output_type": "stream",
          "name": "stdout",
          "text": [
            "Train Loss:0.3176, Train Acc:56.25\n",
            "validation start\n"
          ]
        },
        {
          "output_type": "stream",
          "name": "stderr",
          "text": [
            "\n",
            "15it [00:00, 28.85it/s]\n"
          ]
        },
        {
          "output_type": "stream",
          "name": "stdout",
          "text": [
            "Val Loss:0.5414, Val_Acc:38.33\n",
            "loss 0.3454 - accu 51.0458 - val_loss 0.4726 - val_accu 37.6035\n",
            "Epoch [153/500]\n"
          ]
        },
        {
          "output_type": "stream",
          "name": "stderr",
          "text": [
            "100%|██████████| 60/60 [00:00<00:00, 60.23it/s]"
          ]
        },
        {
          "output_type": "stream",
          "name": "stdout",
          "text": [
            "Train Loss:0.3043, Train Acc:55.42\n",
            "validation start\n"
          ]
        },
        {
          "output_type": "stream",
          "name": "stderr",
          "text": [
            "\n",
            "15it [00:00, 32.78it/s]"
          ]
        },
        {
          "output_type": "stream",
          "name": "stdout",
          "text": [
            "Val Loss:0.5371, Val_Acc:33.33\n",
            "loss 0.3452 - accu 51.0741 - val_loss 0.4730 - val_accu 37.5758\n",
            "Epoch [154/500]\n"
          ]
        },
        {
          "output_type": "stream",
          "name": "stderr",
          "text": [
            "\n",
            "100%|██████████| 60/60 [00:00<00:00, 67.61it/s]"
          ]
        },
        {
          "output_type": "stream",
          "name": "stdout",
          "text": [
            "Train Loss:0.3014, Train Acc:59.58\n",
            "validation start\n"
          ]
        },
        {
          "output_type": "stream",
          "name": "stderr",
          "text": [
            "\n",
            "15it [00:00, 32.14it/s]"
          ]
        },
        {
          "output_type": "stream",
          "name": "stdout",
          "text": [
            "Val Loss:0.5458, Val_Acc:38.33\n",
            "loss 0.3449 - accu 51.1290 - val_loss 0.4735 - val_accu 37.5806\n",
            "Epoch [155/500]\n"
          ]
        },
        {
          "output_type": "stream",
          "name": "stderr",
          "text": [
            "\n",
            "100%|██████████| 60/60 [00:00<00:00, 64.46it/s] "
          ]
        },
        {
          "output_type": "stream",
          "name": "stdout",
          "text": [
            "Train Loss:0.3095, Train Acc:54.58\n",
            "validation start\n"
          ]
        },
        {
          "output_type": "stream",
          "name": "stderr",
          "text": [
            "\n",
            "15it [00:00, 28.66it/s]                      \n"
          ]
        },
        {
          "output_type": "stream",
          "name": "stdout",
          "text": [
            "Val Loss:0.5504, Val_Acc:38.33\n",
            "loss 0.3447 - accu 51.1512 - val_loss 0.4740 - val_accu 37.5855\n",
            "Epoch [156/500]\n"
          ]
        },
        {
          "output_type": "stream",
          "name": "stderr",
          "text": [
            "100%|██████████| 60/60 [00:00<00:00, 70.30it/s]"
          ]
        },
        {
          "output_type": "stream",
          "name": "stdout",
          "text": [
            "Train Loss:0.3087, Train Acc:52.92\n",
            "validation start\n"
          ]
        },
        {
          "output_type": "stream",
          "name": "stderr",
          "text": [
            "\n",
            "15it [00:00, 33.67it/s]"
          ]
        },
        {
          "output_type": "stream",
          "name": "stdout",
          "text": [
            "Val Loss:0.5480, Val_Acc:36.67\n",
            "loss 0.3444 - accu 51.1624 - val_loss 0.4745 - val_accu 37.5796\n",
            "Epoch [157/500]\n"
          ]
        },
        {
          "output_type": "stream",
          "name": "stderr",
          "text": [
            "\n",
            "100%|██████████| 60/60 [00:00<00:00, 65.78it/s]"
          ]
        },
        {
          "output_type": "stream",
          "name": "stdout",
          "text": [
            "Train Loss:0.3082, Train Acc:59.58\n",
            "validation start\n"
          ]
        },
        {
          "output_type": "stream",
          "name": "stderr",
          "text": [
            "\n",
            "15it [00:00, 33.37it/s]"
          ]
        },
        {
          "output_type": "stream",
          "name": "stdout",
          "text": [
            "Val Loss:0.5415, Val_Acc:36.67\n",
            "loss 0.3442 - accu 51.2157 - val_loss 0.4749 - val_accu 37.5738\n",
            "Epoch [158/500]\n"
          ]
        },
        {
          "output_type": "stream",
          "name": "stderr",
          "text": [
            "\n",
            "100%|██████████| 60/60 [00:00<00:00, 64.74it/s]"
          ]
        },
        {
          "output_type": "stream",
          "name": "stdout",
          "text": [
            "Train Loss:0.3076, Train Acc:55.00\n",
            "validation start\n"
          ]
        },
        {
          "output_type": "stream",
          "name": "stderr",
          "text": [
            "\n",
            "15it [00:00, 30.09it/s]"
          ]
        },
        {
          "output_type": "stream",
          "name": "stdout",
          "text": [
            "Val Loss:0.5405, Val_Acc:35.00\n",
            "loss 0.3440 - accu 51.2395 - val_loss 0.4753 - val_accu 37.5577\n",
            "Epoch [159/500]\n"
          ]
        },
        {
          "output_type": "stream",
          "name": "stderr",
          "text": [
            "\n",
            "100%|██████████| 60/60 [00:00<00:00, 69.71it/s]"
          ]
        },
        {
          "output_type": "stream",
          "name": "stdout",
          "text": [
            "Train Loss:0.3195, Train Acc:53.75\n",
            "validation start\n"
          ]
        },
        {
          "output_type": "stream",
          "name": "stderr",
          "text": [
            "\n",
            "15it [00:00, 30.00it/s]"
          ]
        },
        {
          "output_type": "stream",
          "name": "stdout",
          "text": [
            "Val Loss:0.5534, Val_Acc:36.67\n",
            "loss 0.3438 - accu 51.2552 - val_loss 0.4758 - val_accu 37.5521\n",
            "Epoch [160/500]\n"
          ]
        },
        {
          "output_type": "stream",
          "name": "stderr",
          "text": [
            "\n",
            "100%|██████████| 60/60 [00:00<00:00, 70.77it/s] "
          ]
        },
        {
          "output_type": "stream",
          "name": "stdout",
          "text": [
            "Train Loss:0.3177, Train Acc:58.75\n",
            "validation start\n"
          ]
        },
        {
          "output_type": "stream",
          "name": "stderr",
          "text": [
            "\n",
            "15it [00:00, 31.18it/s]"
          ]
        },
        {
          "output_type": "stream",
          "name": "stdout",
          "text": [
            "Val Loss:0.5490, Val_Acc:35.00\n",
            "loss 0.3437 - accu 51.3018 - val_loss 0.4763 - val_accu 37.5362\n",
            "Epoch [161/500]\n"
          ]
        },
        {
          "output_type": "stream",
          "name": "stderr",
          "text": [
            "\n",
            "100%|██████████| 60/60 [00:00<00:00, 65.91it/s] "
          ]
        },
        {
          "output_type": "stream",
          "name": "stdout",
          "text": [
            "Train Loss:0.3075, Train Acc:54.17\n",
            "validation start\n"
          ]
        },
        {
          "output_type": "stream",
          "name": "stderr",
          "text": [
            "\n",
            "15it [00:00, 29.86it/s]"
          ]
        },
        {
          "output_type": "stream",
          "name": "stdout",
          "text": [
            "Val Loss:0.5413, Val_Acc:40.00\n",
            "loss 0.3434 - accu 51.3194 - val_loss 0.4767 - val_accu 37.5514\n",
            "Epoch [162/500]\n"
          ]
        },
        {
          "output_type": "stream",
          "name": "stderr",
          "text": [
            "\n",
            "100%|██████████| 60/60 [00:00<00:00, 67.20it/s] "
          ]
        },
        {
          "output_type": "stream",
          "name": "stdout",
          "text": [
            "Train Loss:0.2968, Train Acc:56.67\n",
            "validation start\n"
          ]
        },
        {
          "output_type": "stream",
          "name": "stderr",
          "text": [
            "\n",
            "15it [00:00, 29.73it/s]\n"
          ]
        },
        {
          "output_type": "stream",
          "name": "stdout",
          "text": [
            "Val Loss:0.5515, Val_Acc:36.67\n",
            "loss 0.3432 - accu 51.3522 - val_loss 0.4771 - val_accu 37.5460\n",
            "Epoch [163/500]\n"
          ]
        },
        {
          "output_type": "stream",
          "name": "stderr",
          "text": [
            "100%|██████████| 60/60 [00:00<00:00, 66.16it/s]"
          ]
        },
        {
          "output_type": "stream",
          "name": "stdout",
          "text": [
            "Train Loss:0.3114, Train Acc:57.50\n",
            "validation start\n"
          ]
        },
        {
          "output_type": "stream",
          "name": "stderr",
          "text": [
            "\n",
            "15it [00:00, 33.49it/s]"
          ]
        },
        {
          "output_type": "stream",
          "name": "stdout",
          "text": [
            "Val Loss:0.5479, Val_Acc:41.67\n",
            "loss 0.3430 - accu 51.3897 - val_loss 0.4776 - val_accu 37.5711\n",
            "Epoch [164/500]\n"
          ]
        },
        {
          "output_type": "stream",
          "name": "stderr",
          "text": [
            "\n",
            "100%|██████████| 60/60 [00:00<00:00, 70.57it/s]"
          ]
        },
        {
          "output_type": "stream",
          "name": "stdout",
          "text": [
            "Train Loss:0.3166, Train Acc:55.83\n",
            "validation start\n"
          ]
        },
        {
          "output_type": "stream",
          "name": "stderr",
          "text": [
            "\n",
            "15it [00:00, 30.82it/s]"
          ]
        },
        {
          "output_type": "stream",
          "name": "stdout",
          "text": [
            "Val Loss:0.5401, Val_Acc:38.33\n",
            "loss 0.3428 - accu 51.4167 - val_loss 0.4779 - val_accu 37.5758\n",
            "Epoch [165/500]\n"
          ]
        },
        {
          "output_type": "stream",
          "name": "stderr",
          "text": [
            "\n",
            "100%|██████████| 60/60 [00:00<00:00, 69.84it/s]"
          ]
        },
        {
          "output_type": "stream",
          "name": "stdout",
          "text": [
            "Train Loss:0.3087, Train Acc:57.08\n",
            "validation start\n"
          ]
        },
        {
          "output_type": "stream",
          "name": "stderr",
          "text": [
            "\n",
            "15it [00:00, 31.67it/s]\n"
          ]
        },
        {
          "output_type": "stream",
          "name": "stdout",
          "text": [
            "Val Loss:0.5447, Val_Acc:41.67\n",
            "loss 0.3426 - accu 51.4508 - val_loss 0.4783 - val_accu 37.6004\n",
            "Epoch [166/500]\n"
          ]
        },
        {
          "output_type": "stream",
          "name": "stderr",
          "text": [
            "100%|██████████| 60/60 [00:00<00:00, 66.74it/s] "
          ]
        },
        {
          "output_type": "stream",
          "name": "stdout",
          "text": [
            "Train Loss:0.3057, Train Acc:56.25\n",
            "validation start\n"
          ]
        },
        {
          "output_type": "stream",
          "name": "stderr",
          "text": [
            "\n",
            "15it [00:00, 29.51it/s]\n"
          ]
        },
        {
          "output_type": "stream",
          "name": "stdout",
          "text": [
            "Val Loss:0.5489, Val_Acc:40.00\n",
            "loss 0.3424 - accu 51.4795 - val_loss 0.4788 - val_accu 37.6148\n",
            "=> saved best model\n",
            "Epoch [167/500]\n"
          ]
        },
        {
          "output_type": "stream",
          "name": "stderr",
          "text": [
            "100%|██████████| 60/60 [00:00<00:00, 67.60it/s]"
          ]
        },
        {
          "output_type": "stream",
          "name": "stdout",
          "text": [
            "Train Loss:0.3112, Train Acc:56.25\n",
            "validation start\n"
          ]
        },
        {
          "output_type": "stream",
          "name": "stderr",
          "text": [
            "\n",
            "15it [00:00, 28.54it/s]"
          ]
        },
        {
          "output_type": "stream",
          "name": "stdout",
          "text": [
            "Val Loss:0.5452, Val_Acc:36.67\n",
            "loss 0.3422 - accu 51.5079 - val_loss 0.4792 - val_accu 37.6091\n",
            "Epoch [168/500]\n"
          ]
        },
        {
          "output_type": "stream",
          "name": "stderr",
          "text": [
            "\n",
            "100%|██████████| 60/60 [00:00<00:00, 67.38it/s]"
          ]
        },
        {
          "output_type": "stream",
          "name": "stdout",
          "text": [
            "Train Loss:0.2991, Train Acc:55.00\n",
            "validation start\n"
          ]
        },
        {
          "output_type": "stream",
          "name": "stderr",
          "text": [
            "\n",
            "15it [00:00, 29.97it/s]"
          ]
        },
        {
          "output_type": "stream",
          "name": "stdout",
          "text": [
            "Val Loss:0.5562, Val_Acc:35.00\n",
            "loss 0.3419 - accu 51.5286 - val_loss 0.4796 - val_accu 37.5937\n",
            "Epoch [169/500]\n"
          ]
        },
        {
          "output_type": "stream",
          "name": "stderr",
          "text": [
            "\n",
            "100%|██████████| 60/60 [00:00<00:00, 66.44it/s]"
          ]
        },
        {
          "output_type": "stream",
          "name": "stdout",
          "text": [
            "Train Loss:0.3087, Train Acc:59.58\n",
            "validation start\n"
          ]
        },
        {
          "output_type": "stream",
          "name": "stderr",
          "text": [
            "\n",
            "15it [00:00, 29.63it/s]\n"
          ]
        },
        {
          "output_type": "stream",
          "name": "stdout",
          "text": [
            "Val Loss:0.5522, Val_Acc:36.67\n",
            "loss 0.3417 - accu 51.5760 - val_loss 0.4800 - val_accu 37.5882\n",
            "Epoch [170/500]\n"
          ]
        },
        {
          "output_type": "stream",
          "name": "stderr",
          "text": [
            "100%|██████████| 60/60 [00:00<00:00, 71.47it/s]"
          ]
        },
        {
          "output_type": "stream",
          "name": "stdout",
          "text": [
            "Train Loss:0.3112, Train Acc:51.25\n",
            "validation start\n"
          ]
        },
        {
          "output_type": "stream",
          "name": "stderr",
          "text": [
            "\n",
            "15it [00:00, 34.14it/s]"
          ]
        },
        {
          "output_type": "stream",
          "name": "stdout",
          "text": [
            "Val Loss:0.5541, Val_Acc:36.67\n",
            "loss 0.3416 - accu 51.5741 - val_loss 0.4805 - val_accu 37.5828\n",
            "Epoch [171/500]\n"
          ]
        },
        {
          "output_type": "stream",
          "name": "stderr",
          "text": [
            "\n",
            "100%|██████████| 60/60 [00:00<00:00, 61.14it/s]"
          ]
        },
        {
          "output_type": "stream",
          "name": "stdout",
          "text": [
            "Train Loss:0.3045, Train Acc:56.25\n",
            "validation start\n"
          ]
        },
        {
          "output_type": "stream",
          "name": "stderr",
          "text": [
            "\n",
            "15it [00:00, 28.75it/s]                      "
          ]
        },
        {
          "output_type": "stream",
          "name": "stdout",
          "text": [
            "Val Loss:0.5547, Val_Acc:38.33\n",
            "loss 0.3413 - accu 51.6013 - val_loss 0.4809 - val_accu 37.5872\n",
            "Epoch [172/500]\n"
          ]
        },
        {
          "output_type": "stream",
          "name": "stderr",
          "text": [
            "\n",
            "100%|██████████| 60/60 [00:00<00:00, 67.23it/s] "
          ]
        },
        {
          "output_type": "stream",
          "name": "stdout",
          "text": [
            "Train Loss:0.3075, Train Acc:55.00\n",
            "validation start\n"
          ]
        },
        {
          "output_type": "stream",
          "name": "stderr",
          "text": [
            "\n",
            "15it [00:00, 29.21it/s]"
          ]
        },
        {
          "output_type": "stream",
          "name": "stdout",
          "text": [
            "Val Loss:0.5624, Val_Acc:36.67\n",
            "loss 0.3411 - accu 51.6209 - val_loss 0.4814 - val_accu 37.5819\n",
            "Epoch [173/500]\n"
          ]
        },
        {
          "output_type": "stream",
          "name": "stderr",
          "text": [
            "\n",
            "100%|██████████| 60/60 [00:00<00:00, 68.20it/s] "
          ]
        },
        {
          "output_type": "stream",
          "name": "stdout",
          "text": [
            "Train Loss:0.3006, Train Acc:58.75\n",
            "validation start\n"
          ]
        },
        {
          "output_type": "stream",
          "name": "stderr",
          "text": [
            "\n",
            "15it [00:00, 32.02it/s]"
          ]
        },
        {
          "output_type": "stream",
          "name": "stdout",
          "text": [
            "Val Loss:0.5686, Val_Acc:38.33\n",
            "loss 0.3409 - accu 51.6619 - val_loss 0.4819 - val_accu 37.5862\n",
            "Epoch [174/500]\n"
          ]
        },
        {
          "output_type": "stream",
          "name": "stderr",
          "text": [
            "\n",
            "100%|██████████| 60/60 [00:00<00:00, 67.39it/s] "
          ]
        },
        {
          "output_type": "stream",
          "name": "stdout",
          "text": [
            "Train Loss:0.3104, Train Acc:56.25\n",
            "validation start\n"
          ]
        },
        {
          "output_type": "stream",
          "name": "stderr",
          "text": [
            "\n",
            "15it [00:00, 29.72it/s]"
          ]
        },
        {
          "output_type": "stream",
          "name": "stdout",
          "text": [
            "Val Loss:0.5496, Val_Acc:38.33\n",
            "loss 0.3407 - accu 51.6881 - val_loss 0.4823 - val_accu 37.5905\n",
            "Epoch [175/500]\n"
          ]
        },
        {
          "output_type": "stream",
          "name": "stderr",
          "text": [
            "\n",
            "100%|██████████| 60/60 [00:00<00:00, 65.61it/s] "
          ]
        },
        {
          "output_type": "stream",
          "name": "stdout",
          "text": [
            "Train Loss:0.3055, Train Acc:59.17\n",
            "validation start\n"
          ]
        },
        {
          "output_type": "stream",
          "name": "stderr",
          "text": [
            "\n",
            "15it [00:00, 28.88it/s]\n"
          ]
        },
        {
          "output_type": "stream",
          "name": "stdout",
          "text": [
            "Val Loss:0.5520, Val_Acc:38.33\n",
            "loss 0.3405 - accu 51.7306 - val_loss 0.4827 - val_accu 37.5947\n",
            "Epoch [176/500]\n"
          ]
        },
        {
          "output_type": "stream",
          "name": "stderr",
          "text": [
            "100%|██████████| 60/60 [00:00<00:00, 67.02it/s]"
          ]
        },
        {
          "output_type": "stream",
          "name": "stdout",
          "text": [
            "Train Loss:0.3055, Train Acc:59.17\n",
            "validation start\n"
          ]
        },
        {
          "output_type": "stream",
          "name": "stderr",
          "text": [
            "\n",
            "15it [00:00, 29.96it/s]"
          ]
        },
        {
          "output_type": "stream",
          "name": "stdout",
          "text": [
            "Val Loss:0.5499, Val_Acc:40.00\n",
            "loss 0.3403 - accu 51.7726 - val_loss 0.4830 - val_accu 37.6083\n",
            "Epoch [177/500]\n"
          ]
        },
        {
          "output_type": "stream",
          "name": "stderr",
          "text": [
            "\n",
            "100%|██████████| 60/60 [00:00<00:00, 71.41it/s]"
          ]
        },
        {
          "output_type": "stream",
          "name": "stdout",
          "text": [
            "Train Loss:0.3011, Train Acc:55.83\n",
            "validation start\n"
          ]
        },
        {
          "output_type": "stream",
          "name": "stderr",
          "text": [
            "\n",
            "15it [00:00, 33.78it/s]"
          ]
        },
        {
          "output_type": "stream",
          "name": "stdout",
          "text": [
            "Val Loss:0.5584, Val_Acc:35.00\n",
            "loss 0.3401 - accu 51.7954 - val_loss 0.4835 - val_accu 37.5936\n",
            "Epoch [178/500]\n"
          ]
        },
        {
          "output_type": "stream",
          "name": "stderr",
          "text": [
            "\n",
            "100%|██████████| 60/60 [00:00<00:00, 66.77it/s]"
          ]
        },
        {
          "output_type": "stream",
          "name": "stdout",
          "text": [
            "Train Loss:0.3052, Train Acc:54.58\n",
            "validation start\n"
          ]
        },
        {
          "output_type": "stream",
          "name": "stderr",
          "text": [
            "\n",
            "15it [00:00, 30.02it/s]"
          ]
        },
        {
          "output_type": "stream",
          "name": "stdout",
          "text": [
            "Val Loss:0.5580, Val_Acc:38.33\n",
            "loss 0.3399 - accu 51.8110 - val_loss 0.4839 - val_accu 37.5978\n",
            "Epoch [179/500]\n"
          ]
        },
        {
          "output_type": "stream",
          "name": "stderr",
          "text": [
            "\n",
            "100%|██████████| 60/60 [00:00<00:00, 70.13it/s]"
          ]
        },
        {
          "output_type": "stream",
          "name": "stdout",
          "text": [
            "Train Loss:0.2901, Train Acc:57.50\n",
            "validation start\n"
          ]
        },
        {
          "output_type": "stream",
          "name": "stderr",
          "text": [
            "\n",
            "15it [00:00, 29.50it/s]\n"
          ]
        },
        {
          "output_type": "stream",
          "name": "stdout",
          "text": [
            "Val Loss:0.5633, Val_Acc:38.33\n",
            "loss 0.3396 - accu 51.8426 - val_loss 0.4843 - val_accu 37.6019\n",
            "Epoch [180/500]\n"
          ]
        },
        {
          "output_type": "stream",
          "name": "stderr",
          "text": [
            "100%|██████████| 60/60 [00:00<00:00, 73.68it/s]\n"
          ]
        },
        {
          "output_type": "stream",
          "name": "stdout",
          "text": [
            "Train Loss:0.3080, Train Acc:56.25\n",
            "validation start\n"
          ]
        },
        {
          "output_type": "stream",
          "name": "stderr",
          "text": [
            "15it [00:00, 29.42it/s]\n"
          ]
        },
        {
          "output_type": "stream",
          "name": "stdout",
          "text": [
            "Val Loss:0.5613, Val_Acc:41.67\n",
            "loss 0.3395 - accu 51.8669 - val_loss 0.4847 - val_accu 37.6243\n",
            "=> saved best model\n",
            "Epoch [181/500]\n"
          ]
        },
        {
          "output_type": "stream",
          "name": "stderr",
          "text": [
            "100%|██████████| 60/60 [00:00<00:00, 73.57it/s] "
          ]
        },
        {
          "output_type": "stream",
          "name": "stdout",
          "text": [
            "Train Loss:0.2983, Train Acc:57.92\n",
            "validation start\n"
          ]
        },
        {
          "output_type": "stream",
          "name": "stderr",
          "text": [
            "\n",
            "15it [00:00, 30.82it/s]\n"
          ]
        },
        {
          "output_type": "stream",
          "name": "stdout",
          "text": [
            "Val Loss:0.5617, Val_Acc:40.00\n",
            "loss 0.3392 - accu 51.9002 - val_loss 0.4852 - val_accu 37.6374\n",
            "=> saved best model\n",
            "Epoch [182/500]\n"
          ]
        },
        {
          "output_type": "stream",
          "name": "stderr",
          "text": [
            "100%|██████████| 60/60 [00:00<00:00, 69.94it/s]"
          ]
        },
        {
          "output_type": "stream",
          "name": "stdout",
          "text": [
            "Train Loss:0.3098, Train Acc:53.33\n",
            "validation start\n"
          ]
        },
        {
          "output_type": "stream",
          "name": "stderr",
          "text": [
            "\n",
            "15it [00:00, 32.51it/s]"
          ]
        },
        {
          "output_type": "stream",
          "name": "stdout",
          "text": [
            "Val Loss:0.5664, Val_Acc:38.33\n",
            "loss 0.3391 - accu 51.9080 - val_loss 0.4856 - val_accu 37.6412\n",
            "=> saved best model\n",
            "Epoch [183/500]\n"
          ]
        },
        {
          "output_type": "stream",
          "name": "stderr",
          "text": [
            "\n",
            "100%|██████████| 60/60 [00:00<00:00, 71.46it/s]"
          ]
        },
        {
          "output_type": "stream",
          "name": "stdout",
          "text": [
            "Train Loss:0.3055, Train Acc:56.67\n",
            "validation start\n"
          ]
        },
        {
          "output_type": "stream",
          "name": "stderr",
          "text": [
            "\n",
            "15it [00:00, 31.30it/s]"
          ]
        },
        {
          "output_type": "stream",
          "name": "stdout",
          "text": [
            "Val Loss:0.5582, Val_Acc:31.67\n",
            "loss 0.3389 - accu 51.9339 - val_loss 0.4860 - val_accu 37.6087\n",
            "Epoch [184/500]\n"
          ]
        },
        {
          "output_type": "stream",
          "name": "stderr",
          "text": [
            "\n",
            "100%|██████████| 60/60 [00:00<00:00, 65.87it/s] "
          ]
        },
        {
          "output_type": "stream",
          "name": "stdout",
          "text": [
            "Train Loss:0.2998, Train Acc:58.33\n",
            "validation start\n"
          ]
        },
        {
          "output_type": "stream",
          "name": "stderr",
          "text": [
            "\n",
            "15it [00:00, 26.17it/s]\n"
          ]
        },
        {
          "output_type": "stream",
          "name": "stdout",
          "text": [
            "Val Loss:0.5635, Val_Acc:35.00\n",
            "loss 0.3387 - accu 51.9685 - val_loss 0.4864 - val_accu 37.5946\n",
            "Epoch [185/500]\n"
          ]
        },
        {
          "output_type": "stream",
          "name": "stderr",
          "text": [
            "100%|██████████| 60/60 [00:00<00:00, 67.98it/s]"
          ]
        },
        {
          "output_type": "stream",
          "name": "stdout",
          "text": [
            "Train Loss:0.2927, Train Acc:52.92\n",
            "validation start\n"
          ]
        },
        {
          "output_type": "stream",
          "name": "stderr",
          "text": [
            "\n",
            "15it [00:00, 31.33it/s]"
          ]
        },
        {
          "output_type": "stream",
          "name": "stdout",
          "text": [
            "Val Loss:0.5678, Val_Acc:40.00\n",
            "loss 0.3384 - accu 51.9736 - val_loss 0.4869 - val_accu 37.6075\n",
            "Epoch [186/500]\n"
          ]
        },
        {
          "output_type": "stream",
          "name": "stderr",
          "text": [
            "\n",
            "100%|██████████| 60/60 [00:00<00:00, 72.17it/s]"
          ]
        },
        {
          "output_type": "stream",
          "name": "stdout",
          "text": [
            "Train Loss:0.3001, Train Acc:57.50\n",
            "validation start\n"
          ]
        },
        {
          "output_type": "stream",
          "name": "stderr",
          "text": [
            "\n",
            "15it [00:00, 28.26it/s]"
          ]
        },
        {
          "output_type": "stream",
          "name": "stdout",
          "text": [
            "Val Loss:0.5635, Val_Acc:31.67\n",
            "loss 0.3382 - accu 52.0031 - val_loss 0.4873 - val_accu 37.5758\n",
            "Epoch [187/500]\n"
          ]
        },
        {
          "output_type": "stream",
          "name": "stderr",
          "text": [
            "\n",
            "100%|██████████| 60/60 [00:00<00:00, 70.21it/s] "
          ]
        },
        {
          "output_type": "stream",
          "name": "stdout",
          "text": [
            "Train Loss:0.3016, Train Acc:55.00\n",
            "validation start\n"
          ]
        },
        {
          "output_type": "stream",
          "name": "stderr",
          "text": [
            "\n",
            "15it [00:00, 29.58it/s]"
          ]
        },
        {
          "output_type": "stream",
          "name": "stdout",
          "text": [
            "Val Loss:0.5699, Val_Acc:35.00\n",
            "loss 0.3380 - accu 52.0191 - val_loss 0.4877 - val_accu 37.5621\n",
            "Epoch [188/500]\n"
          ]
        },
        {
          "output_type": "stream",
          "name": "stderr",
          "text": [
            "\n",
            "100%|██████████| 60/60 [00:00<00:00, 64.97it/s] "
          ]
        },
        {
          "output_type": "stream",
          "name": "stdout",
          "text": [
            "Train Loss:0.2937, Train Acc:52.08\n",
            "validation start\n"
          ]
        },
        {
          "output_type": "stream",
          "name": "stderr",
          "text": [
            "\n",
            "15it [00:00, 34.22it/s]\n"
          ]
        },
        {
          "output_type": "stream",
          "name": "stdout",
          "text": [
            "Val Loss:0.5720, Val_Acc:38.33\n",
            "loss 0.3378 - accu 52.0194 - val_loss 0.4882 - val_accu 37.5661\n",
            "Epoch [189/500]\n"
          ]
        },
        {
          "output_type": "stream",
          "name": "stderr",
          "text": [
            "100%|██████████| 60/60 [00:00<00:00, 70.45it/s]"
          ]
        },
        {
          "output_type": "stream",
          "name": "stdout",
          "text": [
            "Train Loss:0.3038, Train Acc:56.67\n",
            "validation start\n"
          ]
        },
        {
          "output_type": "stream",
          "name": "stderr",
          "text": [
            "\n",
            "15it [00:00, 30.37it/s]"
          ]
        },
        {
          "output_type": "stream",
          "name": "stdout",
          "text": [
            "Val Loss:0.5557, Val_Acc:36.67\n",
            "loss 0.3376 - accu 52.0439 - val_loss 0.4885 - val_accu 37.5614\n",
            "Epoch [190/500]\n"
          ]
        },
        {
          "output_type": "stream",
          "name": "stderr",
          "text": [
            "\n",
            "100%|██████████| 60/60 [00:00<00:00, 71.37it/s]\n"
          ]
        },
        {
          "output_type": "stream",
          "name": "stdout",
          "text": [
            "Train Loss:0.3026, Train Acc:60.00\n",
            "validation start\n"
          ]
        },
        {
          "output_type": "stream",
          "name": "stderr",
          "text": [
            "15it [00:00, 26.22it/s]"
          ]
        },
        {
          "output_type": "stream",
          "name": "stdout",
          "text": [
            "Val Loss:0.5650, Val_Acc:36.67\n",
            "loss 0.3374 - accu 52.0855 - val_loss 0.4889 - val_accu 37.5567\n",
            "Epoch [191/500]\n"
          ]
        },
        {
          "output_type": "stream",
          "name": "stderr",
          "text": [
            "\n",
            "100%|██████████| 60/60 [00:00<00:00, 68.16it/s]"
          ]
        },
        {
          "output_type": "stream",
          "name": "stdout",
          "text": [
            "Train Loss:0.2996, Train Acc:57.92\n",
            "validation start\n"
          ]
        },
        {
          "output_type": "stream",
          "name": "stderr",
          "text": [
            "\n",
            "15it [00:00, 28.45it/s]\n"
          ]
        },
        {
          "output_type": "stream",
          "name": "stdout",
          "text": [
            "Val Loss:0.5696, Val_Acc:41.67\n",
            "loss 0.3372 - accu 52.1159 - val_loss 0.4893 - val_accu 37.5781\n",
            "Epoch [192/500]\n"
          ]
        },
        {
          "output_type": "stream",
          "name": "stderr",
          "text": [
            "100%|██████████| 60/60 [00:00<00:00, 66.79it/s]"
          ]
        },
        {
          "output_type": "stream",
          "name": "stdout",
          "text": [
            "Train Loss:0.2893, Train Acc:60.83\n",
            "validation start\n"
          ]
        },
        {
          "output_type": "stream",
          "name": "stderr",
          "text": [
            "\n",
            "15it [00:00, 29.53it/s]"
          ]
        },
        {
          "output_type": "stream",
          "name": "stdout",
          "text": [
            "Val Loss:0.5722, Val_Acc:40.00\n",
            "loss 0.3370 - accu 52.1611 - val_loss 0.4898 - val_accu 37.5907\n",
            "Epoch [193/500]\n"
          ]
        },
        {
          "output_type": "stream",
          "name": "stderr",
          "text": [
            "\n",
            "100%|██████████| 60/60 [00:00<00:00, 66.38it/s] "
          ]
        },
        {
          "output_type": "stream",
          "name": "stdout",
          "text": [
            "Train Loss:0.3017, Train Acc:55.00\n",
            "validation start\n"
          ]
        },
        {
          "output_type": "stream",
          "name": "stderr",
          "text": [
            "\n",
            "15it [00:00, 30.93it/s]"
          ]
        },
        {
          "output_type": "stream",
          "name": "stdout",
          "text": [
            "Val Loss:0.5765, Val_Acc:40.00\n",
            "loss 0.3368 - accu 52.1757 - val_loss 0.4902 - val_accu 37.6031\n",
            "Epoch [194/500]\n"
          ]
        },
        {
          "output_type": "stream",
          "name": "stderr",
          "text": [
            "\n",
            "100%|██████████| 60/60 [00:00<00:00, 68.70it/s]"
          ]
        },
        {
          "output_type": "stream",
          "name": "stdout",
          "text": [
            "Train Loss:0.2967, Train Acc:55.83\n",
            "validation start\n"
          ]
        },
        {
          "output_type": "stream",
          "name": "stderr",
          "text": [
            "\n",
            "15it [00:00, 31.64it/s]"
          ]
        },
        {
          "output_type": "stream",
          "name": "stdout",
          "text": [
            "Val Loss:0.5716, Val_Acc:36.67\n",
            "loss 0.3366 - accu 52.1944 - val_loss 0.4906 - val_accu 37.5983\n",
            "Epoch [195/500]\n"
          ]
        },
        {
          "output_type": "stream",
          "name": "stderr",
          "text": [
            "\n",
            "100%|██████████| 60/60 [00:00<00:00, 66.36it/s] "
          ]
        },
        {
          "output_type": "stream",
          "name": "stdout",
          "text": [
            "Train Loss:0.3011, Train Acc:54.58\n",
            "validation start\n"
          ]
        },
        {
          "output_type": "stream",
          "name": "stderr",
          "text": [
            "\n",
            "15it [00:00, 28.50it/s]                      \n"
          ]
        },
        {
          "output_type": "stream",
          "name": "stdout",
          "text": [
            "Val Loss:0.5875, Val_Acc:36.67\n",
            "loss 0.3364 - accu 52.2066 - val_loss 0.4911 - val_accu 37.5935\n",
            "Epoch [196/500]\n"
          ]
        },
        {
          "output_type": "stream",
          "name": "stderr",
          "text": [
            "100%|██████████| 60/60 [00:00<00:00, 71.25it/s]"
          ]
        },
        {
          "output_type": "stream",
          "name": "stdout",
          "text": [
            "Train Loss:0.2945, Train Acc:56.25\n",
            "validation start\n"
          ]
        },
        {
          "output_type": "stream",
          "name": "stderr",
          "text": [
            "\n",
            "15it [00:00, 27.72it/s]"
          ]
        },
        {
          "output_type": "stream",
          "name": "stdout",
          "text": [
            "Val Loss:0.5838, Val_Acc:38.33\n",
            "loss 0.3362 - accu 52.2272 - val_loss 0.4916 - val_accu 37.5973\n",
            "Epoch [197/500]\n"
          ]
        },
        {
          "output_type": "stream",
          "name": "stderr",
          "text": [
            "\n",
            "100%|██████████| 60/60 [00:00<00:00, 66.16it/s]"
          ]
        },
        {
          "output_type": "stream",
          "name": "stdout",
          "text": [
            "Train Loss:0.2997, Train Acc:57.92\n",
            "validation start\n"
          ]
        },
        {
          "output_type": "stream",
          "name": "stderr",
          "text": [
            "\n",
            "15it [00:00, 29.89it/s]"
          ]
        },
        {
          "output_type": "stream",
          "name": "stdout",
          "text": [
            "Val Loss:0.5729, Val_Acc:40.00\n",
            "loss 0.3360 - accu 52.2559 - val_loss 0.4920 - val_accu 37.6094\n",
            "Epoch [198/500]\n"
          ]
        },
        {
          "output_type": "stream",
          "name": "stderr",
          "text": [
            "\n",
            "100%|██████████| 60/60 [00:00<00:00, 64.75it/s]"
          ]
        },
        {
          "output_type": "stream",
          "name": "stdout",
          "text": [
            "Train Loss:0.2993, Train Acc:56.25\n",
            "validation start\n"
          ]
        },
        {
          "output_type": "stream",
          "name": "stderr",
          "text": [
            "\n",
            "15it [00:00, 29.81it/s]"
          ]
        },
        {
          "output_type": "stream",
          "name": "stdout",
          "text": [
            "Val Loss:0.5609, Val_Acc:38.33\n",
            "loss 0.3359 - accu 52.2760 - val_loss 0.4923 - val_accu 37.6131\n",
            "Epoch [199/500]\n"
          ]
        },
        {
          "output_type": "stream",
          "name": "stderr",
          "text": [
            "\n",
            "100%|██████████| 60/60 [00:00<00:00, 63.94it/s] "
          ]
        },
        {
          "output_type": "stream",
          "name": "stdout",
          "text": [
            "Train Loss:0.2973, Train Acc:56.67\n",
            "validation start\n"
          ]
        },
        {
          "output_type": "stream",
          "name": "stderr",
          "text": [
            "\n",
            "15it [00:00, 24.40it/s]"
          ]
        },
        {
          "output_type": "stream",
          "name": "stdout",
          "text": [
            "Val Loss:0.5719, Val_Acc:38.33\n",
            "loss 0.3357 - accu 52.2979 - val_loss 0.4927 - val_accu 37.6167\n",
            "Epoch [200/500]\n"
          ]
        },
        {
          "output_type": "stream",
          "name": "stderr",
          "text": [
            "\n",
            "100%|██████████| 60/60 [00:00<00:00, 68.54it/s]"
          ]
        },
        {
          "output_type": "stream",
          "name": "stdout",
          "text": [
            "Train Loss:0.3055, Train Acc:55.83\n",
            "validation start\n"
          ]
        },
        {
          "output_type": "stream",
          "name": "stderr",
          "text": [
            "\n",
            "15it [00:00, 31.03it/s]\n"
          ]
        },
        {
          "output_type": "stream",
          "name": "stdout",
          "text": [
            "Val Loss:0.5778, Val_Acc:38.33\n",
            "loss 0.3355 - accu 52.3155 - val_loss 0.4932 - val_accu 37.6202\n",
            "Epoch [201/500]\n"
          ]
        },
        {
          "output_type": "stream",
          "name": "stderr",
          "text": [
            "100%|██████████| 60/60 [00:00<00:00, 68.60it/s]"
          ]
        },
        {
          "output_type": "stream",
          "name": "stdout",
          "text": [
            "Train Loss:0.2993, Train Acc:59.17\n",
            "validation start\n"
          ]
        },
        {
          "output_type": "stream",
          "name": "stderr",
          "text": [
            "\n",
            "15it [00:00, 28.15it/s]"
          ]
        },
        {
          "output_type": "stream",
          "name": "stdout",
          "text": [
            "Val Loss:0.5769, Val_Acc:40.00\n",
            "loss 0.3353 - accu 52.3494 - val_loss 0.4936 - val_accu 37.6320\n",
            "Epoch [202/500]\n"
          ]
        },
        {
          "output_type": "stream",
          "name": "stderr",
          "text": [
            "\n",
            "100%|██████████| 60/60 [00:00<00:00, 64.23it/s] "
          ]
        },
        {
          "output_type": "stream",
          "name": "stdout",
          "text": [
            "Train Loss:0.2965, Train Acc:59.17\n",
            "validation start\n"
          ]
        },
        {
          "output_type": "stream",
          "name": "stderr",
          "text": [
            "\n",
            "15it [00:00, 31.40it/s]"
          ]
        },
        {
          "output_type": "stream",
          "name": "stdout",
          "text": [
            "Val Loss:0.5847, Val_Acc:38.33\n",
            "loss 0.3351 - accu 52.3830 - val_loss 0.4940 - val_accu 37.6355\n",
            "=> early stopping\n"
          ]
        },
        {
          "output_type": "stream",
          "name": "stderr",
          "text": [
            "\n"
          ]
        }
      ]
    }
  ]
}